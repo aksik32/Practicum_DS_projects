{
 "cells": [
  {
   "cell_type": "markdown",
   "metadata": {},
   "source": [
    "# Определение стоимости автомобилей"
   ]
  },
  {
   "cell_type": "markdown",
   "metadata": {},
   "source": [
    "## Загрузка исходных данных"
   ]
  },
  {
   "cell_type": "markdown",
   "metadata": {},
   "source": [
    "Импорт необходимых библиотек, функций и моделей:"
   ]
  },
  {
   "cell_type": "code",
   "execution_count": 217,
   "metadata": {},
   "outputs": [],
   "source": [
    "import pandas as pd\n",
    "import numpy as np\n",
    "import phik\n",
    "import matplotlib.pyplot as plt\n",
    "import seaborn as sns\n",
    "import optuna \n",
    "import lightgbm as lgbm\n",
    "\n",
    "from sklearn.model_selection import train_test_split\n",
    "from sklearn.preprocessing import OneHotEncoder, StandardScaler, OrdinalEncoder\n",
    "from sklearn.neighbors import KNeighborsClassifier\n",
    "\n",
    "from sklearn.tree import DecisionTreeRegressor\n",
    "from sklearn.ensemble import RandomForestRegressor\n",
    "from sklearn.metrics import mean_squared_error\n",
    "from catboost import CatBoostRegressor\n",
    "from sklearn.dummy import DummyRegressor"
   ]
  },
  {
   "cell_type": "code",
   "execution_count": 218,
   "metadata": {
    "scrolled": true
   },
   "outputs": [
    {
     "data": {
      "text/html": [
       "<div>\n",
       "<style scoped>\n",
       "    .dataframe tbody tr th:only-of-type {\n",
       "        vertical-align: middle;\n",
       "    }\n",
       "\n",
       "    .dataframe tbody tr th {\n",
       "        vertical-align: top;\n",
       "    }\n",
       "\n",
       "    .dataframe thead th {\n",
       "        text-align: right;\n",
       "    }\n",
       "</style>\n",
       "<table border=\"1\" class=\"dataframe\">\n",
       "  <thead>\n",
       "    <tr style=\"text-align: right;\">\n",
       "      <th></th>\n",
       "      <th>DateCrawled</th>\n",
       "      <th>Price</th>\n",
       "      <th>VehicleType</th>\n",
       "      <th>RegistrationYear</th>\n",
       "      <th>Gearbox</th>\n",
       "      <th>Power</th>\n",
       "      <th>Model</th>\n",
       "      <th>Kilometer</th>\n",
       "      <th>RegistrationMonth</th>\n",
       "      <th>FuelType</th>\n",
       "      <th>Brand</th>\n",
       "      <th>Repaired</th>\n",
       "      <th>DateCreated</th>\n",
       "      <th>NumberOfPictures</th>\n",
       "      <th>PostalCode</th>\n",
       "      <th>LastSeen</th>\n",
       "    </tr>\n",
       "  </thead>\n",
       "  <tbody>\n",
       "    <tr>\n",
       "      <th>0</th>\n",
       "      <td>2016-03-24 11:52:17</td>\n",
       "      <td>480</td>\n",
       "      <td>NaN</td>\n",
       "      <td>1993</td>\n",
       "      <td>manual</td>\n",
       "      <td>0</td>\n",
       "      <td>golf</td>\n",
       "      <td>150000</td>\n",
       "      <td>0</td>\n",
       "      <td>petrol</td>\n",
       "      <td>volkswagen</td>\n",
       "      <td>NaN</td>\n",
       "      <td>2016-03-24 00:00:00</td>\n",
       "      <td>0</td>\n",
       "      <td>70435</td>\n",
       "      <td>2016-04-07 03:16:57</td>\n",
       "    </tr>\n",
       "    <tr>\n",
       "      <th>1</th>\n",
       "      <td>2016-03-24 10:58:45</td>\n",
       "      <td>18300</td>\n",
       "      <td>coupe</td>\n",
       "      <td>2011</td>\n",
       "      <td>manual</td>\n",
       "      <td>190</td>\n",
       "      <td>NaN</td>\n",
       "      <td>125000</td>\n",
       "      <td>5</td>\n",
       "      <td>gasoline</td>\n",
       "      <td>audi</td>\n",
       "      <td>yes</td>\n",
       "      <td>2016-03-24 00:00:00</td>\n",
       "      <td>0</td>\n",
       "      <td>66954</td>\n",
       "      <td>2016-04-07 01:46:50</td>\n",
       "    </tr>\n",
       "    <tr>\n",
       "      <th>2</th>\n",
       "      <td>2016-03-14 12:52:21</td>\n",
       "      <td>9800</td>\n",
       "      <td>suv</td>\n",
       "      <td>2004</td>\n",
       "      <td>auto</td>\n",
       "      <td>163</td>\n",
       "      <td>grand</td>\n",
       "      <td>125000</td>\n",
       "      <td>8</td>\n",
       "      <td>gasoline</td>\n",
       "      <td>jeep</td>\n",
       "      <td>NaN</td>\n",
       "      <td>2016-03-14 00:00:00</td>\n",
       "      <td>0</td>\n",
       "      <td>90480</td>\n",
       "      <td>2016-04-05 12:47:46</td>\n",
       "    </tr>\n",
       "    <tr>\n",
       "      <th>3</th>\n",
       "      <td>2016-03-17 16:54:04</td>\n",
       "      <td>1500</td>\n",
       "      <td>small</td>\n",
       "      <td>2001</td>\n",
       "      <td>manual</td>\n",
       "      <td>75</td>\n",
       "      <td>golf</td>\n",
       "      <td>150000</td>\n",
       "      <td>6</td>\n",
       "      <td>petrol</td>\n",
       "      <td>volkswagen</td>\n",
       "      <td>no</td>\n",
       "      <td>2016-03-17 00:00:00</td>\n",
       "      <td>0</td>\n",
       "      <td>91074</td>\n",
       "      <td>2016-03-17 17:40:17</td>\n",
       "    </tr>\n",
       "    <tr>\n",
       "      <th>4</th>\n",
       "      <td>2016-03-31 17:25:20</td>\n",
       "      <td>3600</td>\n",
       "      <td>small</td>\n",
       "      <td>2008</td>\n",
       "      <td>manual</td>\n",
       "      <td>69</td>\n",
       "      <td>fabia</td>\n",
       "      <td>90000</td>\n",
       "      <td>7</td>\n",
       "      <td>gasoline</td>\n",
       "      <td>skoda</td>\n",
       "      <td>no</td>\n",
       "      <td>2016-03-31 00:00:00</td>\n",
       "      <td>0</td>\n",
       "      <td>60437</td>\n",
       "      <td>2016-04-06 10:17:21</td>\n",
       "    </tr>\n",
       "    <tr>\n",
       "      <th>...</th>\n",
       "      <td>...</td>\n",
       "      <td>...</td>\n",
       "      <td>...</td>\n",
       "      <td>...</td>\n",
       "      <td>...</td>\n",
       "      <td>...</td>\n",
       "      <td>...</td>\n",
       "      <td>...</td>\n",
       "      <td>...</td>\n",
       "      <td>...</td>\n",
       "      <td>...</td>\n",
       "      <td>...</td>\n",
       "      <td>...</td>\n",
       "      <td>...</td>\n",
       "      <td>...</td>\n",
       "      <td>...</td>\n",
       "    </tr>\n",
       "    <tr>\n",
       "      <th>354364</th>\n",
       "      <td>2016-03-21 09:50:58</td>\n",
       "      <td>0</td>\n",
       "      <td>NaN</td>\n",
       "      <td>2005</td>\n",
       "      <td>manual</td>\n",
       "      <td>0</td>\n",
       "      <td>colt</td>\n",
       "      <td>150000</td>\n",
       "      <td>7</td>\n",
       "      <td>petrol</td>\n",
       "      <td>mitsubishi</td>\n",
       "      <td>yes</td>\n",
       "      <td>2016-03-21 00:00:00</td>\n",
       "      <td>0</td>\n",
       "      <td>2694</td>\n",
       "      <td>2016-03-21 10:42:49</td>\n",
       "    </tr>\n",
       "    <tr>\n",
       "      <th>354365</th>\n",
       "      <td>2016-03-14 17:48:27</td>\n",
       "      <td>2200</td>\n",
       "      <td>NaN</td>\n",
       "      <td>2005</td>\n",
       "      <td>NaN</td>\n",
       "      <td>0</td>\n",
       "      <td>NaN</td>\n",
       "      <td>20000</td>\n",
       "      <td>1</td>\n",
       "      <td>NaN</td>\n",
       "      <td>sonstige_autos</td>\n",
       "      <td>NaN</td>\n",
       "      <td>2016-03-14 00:00:00</td>\n",
       "      <td>0</td>\n",
       "      <td>39576</td>\n",
       "      <td>2016-04-06 00:46:52</td>\n",
       "    </tr>\n",
       "    <tr>\n",
       "      <th>354366</th>\n",
       "      <td>2016-03-05 19:56:21</td>\n",
       "      <td>1199</td>\n",
       "      <td>convertible</td>\n",
       "      <td>2000</td>\n",
       "      <td>auto</td>\n",
       "      <td>101</td>\n",
       "      <td>fortwo</td>\n",
       "      <td>125000</td>\n",
       "      <td>3</td>\n",
       "      <td>petrol</td>\n",
       "      <td>smart</td>\n",
       "      <td>no</td>\n",
       "      <td>2016-03-05 00:00:00</td>\n",
       "      <td>0</td>\n",
       "      <td>26135</td>\n",
       "      <td>2016-03-11 18:17:12</td>\n",
       "    </tr>\n",
       "    <tr>\n",
       "      <th>354367</th>\n",
       "      <td>2016-03-19 18:57:12</td>\n",
       "      <td>9200</td>\n",
       "      <td>bus</td>\n",
       "      <td>1996</td>\n",
       "      <td>manual</td>\n",
       "      <td>102</td>\n",
       "      <td>transporter</td>\n",
       "      <td>150000</td>\n",
       "      <td>3</td>\n",
       "      <td>gasoline</td>\n",
       "      <td>volkswagen</td>\n",
       "      <td>no</td>\n",
       "      <td>2016-03-19 00:00:00</td>\n",
       "      <td>0</td>\n",
       "      <td>87439</td>\n",
       "      <td>2016-04-07 07:15:26</td>\n",
       "    </tr>\n",
       "    <tr>\n",
       "      <th>354368</th>\n",
       "      <td>2016-03-20 19:41:08</td>\n",
       "      <td>3400</td>\n",
       "      <td>wagon</td>\n",
       "      <td>2002</td>\n",
       "      <td>manual</td>\n",
       "      <td>100</td>\n",
       "      <td>golf</td>\n",
       "      <td>150000</td>\n",
       "      <td>6</td>\n",
       "      <td>gasoline</td>\n",
       "      <td>volkswagen</td>\n",
       "      <td>NaN</td>\n",
       "      <td>2016-03-20 00:00:00</td>\n",
       "      <td>0</td>\n",
       "      <td>40764</td>\n",
       "      <td>2016-03-24 12:45:21</td>\n",
       "    </tr>\n",
       "  </tbody>\n",
       "</table>\n",
       "<p>354369 rows × 16 columns</p>\n",
       "</div>"
      ],
      "text/plain": [
       "                DateCrawled  Price  VehicleType  RegistrationYear Gearbox   \n",
       "0       2016-03-24 11:52:17    480          NaN              1993  manual  \\\n",
       "1       2016-03-24 10:58:45  18300        coupe              2011  manual   \n",
       "2       2016-03-14 12:52:21   9800          suv              2004    auto   \n",
       "3       2016-03-17 16:54:04   1500        small              2001  manual   \n",
       "4       2016-03-31 17:25:20   3600        small              2008  manual   \n",
       "...                     ...    ...          ...               ...     ...   \n",
       "354364  2016-03-21 09:50:58      0          NaN              2005  manual   \n",
       "354365  2016-03-14 17:48:27   2200          NaN              2005     NaN   \n",
       "354366  2016-03-05 19:56:21   1199  convertible              2000    auto   \n",
       "354367  2016-03-19 18:57:12   9200          bus              1996  manual   \n",
       "354368  2016-03-20 19:41:08   3400        wagon              2002  manual   \n",
       "\n",
       "        Power        Model  Kilometer  RegistrationMonth  FuelType   \n",
       "0           0         golf     150000                  0    petrol  \\\n",
       "1         190          NaN     125000                  5  gasoline   \n",
       "2         163        grand     125000                  8  gasoline   \n",
       "3          75         golf     150000                  6    petrol   \n",
       "4          69        fabia      90000                  7  gasoline   \n",
       "...       ...          ...        ...                ...       ...   \n",
       "354364      0         colt     150000                  7    petrol   \n",
       "354365      0          NaN      20000                  1       NaN   \n",
       "354366    101       fortwo     125000                  3    petrol   \n",
       "354367    102  transporter     150000                  3  gasoline   \n",
       "354368    100         golf     150000                  6  gasoline   \n",
       "\n",
       "                 Brand Repaired          DateCreated  NumberOfPictures   \n",
       "0           volkswagen      NaN  2016-03-24 00:00:00                 0  \\\n",
       "1                 audi      yes  2016-03-24 00:00:00                 0   \n",
       "2                 jeep      NaN  2016-03-14 00:00:00                 0   \n",
       "3           volkswagen       no  2016-03-17 00:00:00                 0   \n",
       "4                skoda       no  2016-03-31 00:00:00                 0   \n",
       "...                ...      ...                  ...               ...   \n",
       "354364      mitsubishi      yes  2016-03-21 00:00:00                 0   \n",
       "354365  sonstige_autos      NaN  2016-03-14 00:00:00                 0   \n",
       "354366           smart       no  2016-03-05 00:00:00                 0   \n",
       "354367      volkswagen       no  2016-03-19 00:00:00                 0   \n",
       "354368      volkswagen      NaN  2016-03-20 00:00:00                 0   \n",
       "\n",
       "        PostalCode             LastSeen  \n",
       "0            70435  2016-04-07 03:16:57  \n",
       "1            66954  2016-04-07 01:46:50  \n",
       "2            90480  2016-04-05 12:47:46  \n",
       "3            91074  2016-03-17 17:40:17  \n",
       "4            60437  2016-04-06 10:17:21  \n",
       "...            ...                  ...  \n",
       "354364        2694  2016-03-21 10:42:49  \n",
       "354365       39576  2016-04-06 00:46:52  \n",
       "354366       26135  2016-03-11 18:17:12  \n",
       "354367       87439  2016-04-07 07:15:26  \n",
       "354368       40764  2016-03-24 12:45:21  \n",
       "\n",
       "[354369 rows x 16 columns]"
      ]
     },
     "execution_count": 218,
     "metadata": {},
     "output_type": "execute_result"
    }
   ],
   "source": [
    "data = pd.read_csv('/datasets/autos.csv')\n",
    "data"
   ]
  },
  {
   "cell_type": "markdown",
   "metadata": {},
   "source": [
    "### Промежуточные выводы"
   ]
  },
  {
   "cell_type": "markdown",
   "metadata": {},
   "source": [
    "- импортированы необходимые библиотеки, функции и модели;\n",
    "- загружены исходные данные - датафрейм размером (354369,16)."
   ]
  },
  {
   "cell_type": "markdown",
   "metadata": {},
   "source": [
    "## Изучение и предобработка данных"
   ]
  },
  {
   "cell_type": "markdown",
   "metadata": {},
   "source": [
    "### Изучение исходных данных"
   ]
  },
  {
   "cell_type": "code",
   "execution_count": 219,
   "metadata": {
    "scrolled": true
   },
   "outputs": [
    {
     "name": "stdout",
     "output_type": "stream",
     "text": [
      "<class 'pandas.core.frame.DataFrame'>\n",
      "RangeIndex: 354369 entries, 0 to 354368\n",
      "Data columns (total 16 columns):\n",
      " #   Column             Non-Null Count   Dtype \n",
      "---  ------             --------------   ----- \n",
      " 0   DateCrawled        354369 non-null  object\n",
      " 1   Price              354369 non-null  int64 \n",
      " 2   VehicleType        316879 non-null  object\n",
      " 3   RegistrationYear   354369 non-null  int64 \n",
      " 4   Gearbox            334536 non-null  object\n",
      " 5   Power              354369 non-null  int64 \n",
      " 6   Model              334664 non-null  object\n",
      " 7   Kilometer          354369 non-null  int64 \n",
      " 8   RegistrationMonth  354369 non-null  int64 \n",
      " 9   FuelType           321474 non-null  object\n",
      " 10  Brand              354369 non-null  object\n",
      " 11  Repaired           283215 non-null  object\n",
      " 12  DateCreated        354369 non-null  object\n",
      " 13  NumberOfPictures   354369 non-null  int64 \n",
      " 14  PostalCode         354369 non-null  int64 \n",
      " 15  LastSeen           354369 non-null  object\n",
      "dtypes: int64(7), object(9)\n",
      "memory usage: 43.3+ MB\n"
     ]
    }
   ],
   "source": [
    "data.info()"
   ]
  },
  {
   "cell_type": "code",
   "execution_count": 220,
   "metadata": {},
   "outputs": [
    {
     "data": {
      "text/plain": [
       "(354369, 16)"
      ]
     },
     "execution_count": 220,
     "metadata": {},
     "output_type": "execute_result"
    }
   ],
   "source": [
    "data.shape"
   ]
  },
  {
   "cell_type": "markdown",
   "metadata": {},
   "source": [
    "Датасет имеет 354369 объектов и 16 признаков, из которых 7 признаков - числовые с типом int64 и остальные с типом object."
   ]
  },
  {
   "cell_type": "markdown",
   "metadata": {},
   "source": [
    "Некоторые признаки имеют пропуски. Посчитаем их:"
   ]
  },
  {
   "cell_type": "code",
   "execution_count": 221,
   "metadata": {
    "scrolled": false
   },
   "outputs": [
    {
     "data": {
      "text/plain": [
       "DateCrawled              0\n",
       "Price                    0\n",
       "VehicleType          37490\n",
       "RegistrationYear         0\n",
       "Gearbox              19833\n",
       "Power                    0\n",
       "Model                19705\n",
       "Kilometer                0\n",
       "RegistrationMonth        0\n",
       "FuelType             32895\n",
       "Brand                    0\n",
       "Repaired             71154\n",
       "DateCreated              0\n",
       "NumberOfPictures         0\n",
       "PostalCode               0\n",
       "LastSeen                 0\n",
       "dtype: int64"
      ]
     },
     "execution_count": 221,
     "metadata": {},
     "output_type": "execute_result"
    }
   ],
   "source": [
    "data.isna().sum()"
   ]
  },
  {
   "cell_type": "markdown",
   "metadata": {},
   "source": [
    "5 признаков (все нечисловые) имеют пропуски . И 2 из них имеют количество пропусков более 10% от общего числа объектов."
   ]
  },
  {
   "cell_type": "markdown",
   "metadata": {},
   "source": [
    "Общее число пропусков в датасете:"
   ]
  },
  {
   "cell_type": "code",
   "execution_count": 222,
   "metadata": {},
   "outputs": [
    {
     "data": {
      "text/plain": [
       "181077"
      ]
     },
     "execution_count": 222,
     "metadata": {},
     "output_type": "execute_result"
    }
   ],
   "source": [
    "data.isna().sum().sum()#/data.shape[0]"
   ]
  },
  {
   "cell_type": "markdown",
   "metadata": {},
   "source": [
    "### Обработка числовых признаков"
   ]
  },
  {
   "cell_type": "code",
   "execution_count": 223,
   "metadata": {
    "scrolled": true
   },
   "outputs": [
    {
     "data": {
      "text/html": [
       "<div>\n",
       "<style scoped>\n",
       "    .dataframe tbody tr th:only-of-type {\n",
       "        vertical-align: middle;\n",
       "    }\n",
       "\n",
       "    .dataframe tbody tr th {\n",
       "        vertical-align: top;\n",
       "    }\n",
       "\n",
       "    .dataframe thead th {\n",
       "        text-align: right;\n",
       "    }\n",
       "</style>\n",
       "<table border=\"1\" class=\"dataframe\">\n",
       "  <thead>\n",
       "    <tr style=\"text-align: right;\">\n",
       "      <th></th>\n",
       "      <th>Price</th>\n",
       "      <th>RegistrationYear</th>\n",
       "      <th>Power</th>\n",
       "      <th>Kilometer</th>\n",
       "      <th>RegistrationMonth</th>\n",
       "      <th>NumberOfPictures</th>\n",
       "      <th>PostalCode</th>\n",
       "    </tr>\n",
       "  </thead>\n",
       "  <tbody>\n",
       "    <tr>\n",
       "      <th>count</th>\n",
       "      <td>354369.000000</td>\n",
       "      <td>354369.000000</td>\n",
       "      <td>354369.000000</td>\n",
       "      <td>354369.000000</td>\n",
       "      <td>354369.000000</td>\n",
       "      <td>354369.0</td>\n",
       "      <td>354369.000000</td>\n",
       "    </tr>\n",
       "    <tr>\n",
       "      <th>mean</th>\n",
       "      <td>4416.656776</td>\n",
       "      <td>2004.234448</td>\n",
       "      <td>110.094337</td>\n",
       "      <td>128211.172535</td>\n",
       "      <td>5.714645</td>\n",
       "      <td>0.0</td>\n",
       "      <td>50508.689087</td>\n",
       "    </tr>\n",
       "    <tr>\n",
       "      <th>std</th>\n",
       "      <td>4514.158514</td>\n",
       "      <td>90.227958</td>\n",
       "      <td>189.850405</td>\n",
       "      <td>37905.341530</td>\n",
       "      <td>3.726421</td>\n",
       "      <td>0.0</td>\n",
       "      <td>25783.096248</td>\n",
       "    </tr>\n",
       "    <tr>\n",
       "      <th>min</th>\n",
       "      <td>0.000000</td>\n",
       "      <td>1000.000000</td>\n",
       "      <td>0.000000</td>\n",
       "      <td>5000.000000</td>\n",
       "      <td>0.000000</td>\n",
       "      <td>0.0</td>\n",
       "      <td>1067.000000</td>\n",
       "    </tr>\n",
       "    <tr>\n",
       "      <th>25%</th>\n",
       "      <td>1050.000000</td>\n",
       "      <td>1999.000000</td>\n",
       "      <td>69.000000</td>\n",
       "      <td>125000.000000</td>\n",
       "      <td>3.000000</td>\n",
       "      <td>0.0</td>\n",
       "      <td>30165.000000</td>\n",
       "    </tr>\n",
       "    <tr>\n",
       "      <th>50%</th>\n",
       "      <td>2700.000000</td>\n",
       "      <td>2003.000000</td>\n",
       "      <td>105.000000</td>\n",
       "      <td>150000.000000</td>\n",
       "      <td>6.000000</td>\n",
       "      <td>0.0</td>\n",
       "      <td>49413.000000</td>\n",
       "    </tr>\n",
       "    <tr>\n",
       "      <th>75%</th>\n",
       "      <td>6400.000000</td>\n",
       "      <td>2008.000000</td>\n",
       "      <td>143.000000</td>\n",
       "      <td>150000.000000</td>\n",
       "      <td>9.000000</td>\n",
       "      <td>0.0</td>\n",
       "      <td>71083.000000</td>\n",
       "    </tr>\n",
       "    <tr>\n",
       "      <th>max</th>\n",
       "      <td>20000.000000</td>\n",
       "      <td>9999.000000</td>\n",
       "      <td>20000.000000</td>\n",
       "      <td>150000.000000</td>\n",
       "      <td>12.000000</td>\n",
       "      <td>0.0</td>\n",
       "      <td>99998.000000</td>\n",
       "    </tr>\n",
       "  </tbody>\n",
       "</table>\n",
       "</div>"
      ],
      "text/plain": [
       "               Price  RegistrationYear          Power      Kilometer   \n",
       "count  354369.000000     354369.000000  354369.000000  354369.000000  \\\n",
       "mean     4416.656776       2004.234448     110.094337  128211.172535   \n",
       "std      4514.158514         90.227958     189.850405   37905.341530   \n",
       "min         0.000000       1000.000000       0.000000    5000.000000   \n",
       "25%      1050.000000       1999.000000      69.000000  125000.000000   \n",
       "50%      2700.000000       2003.000000     105.000000  150000.000000   \n",
       "75%      6400.000000       2008.000000     143.000000  150000.000000   \n",
       "max     20000.000000       9999.000000   20000.000000  150000.000000   \n",
       "\n",
       "       RegistrationMonth  NumberOfPictures     PostalCode  \n",
       "count      354369.000000          354369.0  354369.000000  \n",
       "mean            5.714645               0.0   50508.689087  \n",
       "std             3.726421               0.0   25783.096248  \n",
       "min             0.000000               0.0    1067.000000  \n",
       "25%             3.000000               0.0   30165.000000  \n",
       "50%             6.000000               0.0   49413.000000  \n",
       "75%             9.000000               0.0   71083.000000  \n",
       "max            12.000000               0.0   99998.000000  "
      ]
     },
     "execution_count": 223,
     "metadata": {},
     "output_type": "execute_result"
    }
   ],
   "source": [
    "data.describe()"
   ]
  },
  {
   "cell_type": "markdown",
   "metadata": {},
   "source": [
    "Анализируя полученные значения, можно сделать вывод о наличии анаомальных значений по некоторым признакам."
   ]
  },
  {
   "cell_type": "markdown",
   "metadata": {},
   "source": [
    "Начнем с цены."
   ]
  },
  {
   "cell_type": "markdown",
   "metadata": {},
   "source": [
    "**Price**"
   ]
  },
  {
   "cell_type": "markdown",
   "metadata": {},
   "source": [
    "В первую очередь бросается в глаза минимальная цена 0, что выглядит нелогичным, хотя и может быть вероятным (для привлечения внимания). Максимум выглядит логичным. Поскольку проблематично установить точный минимум цены - отсеим выбросы вне полуторного межквартильного интервала. Значение ниже 25%-квартили на полтора межквартильного интервала:"
   ]
  },
  {
   "cell_type": "code",
   "execution_count": 224,
   "metadata": {},
   "outputs": [
    {
     "data": {
      "text/plain": [
       "-6975.0"
      ]
     },
     "execution_count": 224,
     "metadata": {},
     "output_type": "execute_result"
    }
   ],
   "source": [
    "1050 - 1.5*(6400-1050)"
   ]
  },
  {
   "cell_type": "markdown",
   "metadata": {},
   "source": [
    "Значение ниже нуля.\n",
    "\n",
    "Будем ориентироваться на европейский рынок на примере сайта https://www.adesa.eu/en/findcar?prices=0%2C3000. Минимальная стоимость авто составляет 300 евро. Выберем это значение для ориентира и найдем количество объектов с ценой, меньшей 300 евро. Здесь также стоит отметить, что имеются значения с ценой от 1 евро. Возможно это связано с ценой за 1 кубический сантиметр объема двигателя. Но в датасете нет данных об объеме, поэтому эти значения мы использовать не сможем."
   ]
  },
  {
   "cell_type": "code",
   "execution_count": 225,
   "metadata": {
    "scrolled": true
   },
   "outputs": [
    {
     "data": {
      "text/plain": [
       "23163"
      ]
     },
     "execution_count": 225,
     "metadata": {},
     "output_type": "execute_result"
    }
   ],
   "source": [
    "len(data.query('Price < 300'))"
   ]
  },
  {
   "cell_type": "code",
   "execution_count": 226,
   "metadata": {},
   "outputs": [
    {
     "data": {
      "text/plain": [
       "0.06536406965620582"
      ]
     },
     "execution_count": 226,
     "metadata": {},
     "output_type": "execute_result"
    }
   ],
   "source": [
    "len(data.query('Price < 300'))/data.shape[0] #  доля от обзего числа объектов"
   ]
  },
  {
   "cell_type": "markdown",
   "metadata": {},
   "source": [
    "Значений довольно много, но вместе они составляют около 6.5% от общего числа объектов. Кроме того, это целевой признак и обучать модели мы должны с учетом достоверного таргета. Поэтому удалим данные значения:"
   ]
  },
  {
   "cell_type": "code",
   "execution_count": 227,
   "metadata": {},
   "outputs": [],
   "source": [
    "data = data.query('Price>=300')"
   ]
  },
  {
   "cell_type": "code",
   "execution_count": 228,
   "metadata": {},
   "outputs": [
    {
     "data": {
      "text/plain": [
       "(331206, 16)"
      ]
     },
     "execution_count": 228,
     "metadata": {},
     "output_type": "execute_result"
    }
   ],
   "source": [
    "data.shape"
   ]
  },
  {
   "cell_type": "markdown",
   "metadata": {},
   "source": [
    "Посмотрим на данные еще раз:"
   ]
  },
  {
   "cell_type": "code",
   "execution_count": 229,
   "metadata": {},
   "outputs": [
    {
     "data": {
      "text/html": [
       "<div>\n",
       "<style scoped>\n",
       "    .dataframe tbody tr th:only-of-type {\n",
       "        vertical-align: middle;\n",
       "    }\n",
       "\n",
       "    .dataframe tbody tr th {\n",
       "        vertical-align: top;\n",
       "    }\n",
       "\n",
       "    .dataframe thead th {\n",
       "        text-align: right;\n",
       "    }\n",
       "</style>\n",
       "<table border=\"1\" class=\"dataframe\">\n",
       "  <thead>\n",
       "    <tr style=\"text-align: right;\">\n",
       "      <th></th>\n",
       "      <th>Price</th>\n",
       "      <th>RegistrationYear</th>\n",
       "      <th>Power</th>\n",
       "      <th>Kilometer</th>\n",
       "      <th>RegistrationMonth</th>\n",
       "      <th>NumberOfPictures</th>\n",
       "      <th>PostalCode</th>\n",
       "    </tr>\n",
       "  </thead>\n",
       "  <tbody>\n",
       "    <tr>\n",
       "      <th>count</th>\n",
       "      <td>331206.000000</td>\n",
       "      <td>331206.000000</td>\n",
       "      <td>331206.000000</td>\n",
       "      <td>331206.000000</td>\n",
       "      <td>331206.000000</td>\n",
       "      <td>331206.0</td>\n",
       "      <td>331206.000000</td>\n",
       "    </tr>\n",
       "    <tr>\n",
       "      <th>mean</th>\n",
       "      <td>4719.470097</td>\n",
       "      <td>2004.017995</td>\n",
       "      <td>113.026548</td>\n",
       "      <td>128362.891977</td>\n",
       "      <td>5.852790</td>\n",
       "      <td>0.0</td>\n",
       "      <td>50795.077752</td>\n",
       "    </tr>\n",
       "    <tr>\n",
       "      <th>std</th>\n",
       "      <td>4516.543060</td>\n",
       "      <td>67.451637</td>\n",
       "      <td>188.031233</td>\n",
       "      <td>37158.114376</td>\n",
       "      <td>3.668219</td>\n",
       "      <td>0.0</td>\n",
       "      <td>25701.328161</td>\n",
       "    </tr>\n",
       "    <tr>\n",
       "      <th>min</th>\n",
       "      <td>300.000000</td>\n",
       "      <td>1000.000000</td>\n",
       "      <td>0.000000</td>\n",
       "      <td>5000.000000</td>\n",
       "      <td>0.000000</td>\n",
       "      <td>0.0</td>\n",
       "      <td>1067.000000</td>\n",
       "    </tr>\n",
       "    <tr>\n",
       "      <th>25%</th>\n",
       "      <td>1300.000000</td>\n",
       "      <td>1999.000000</td>\n",
       "      <td>75.000000</td>\n",
       "      <td>125000.000000</td>\n",
       "      <td>3.000000</td>\n",
       "      <td>0.0</td>\n",
       "      <td>30539.000000</td>\n",
       "    </tr>\n",
       "    <tr>\n",
       "      <th>50%</th>\n",
       "      <td>2999.000000</td>\n",
       "      <td>2003.000000</td>\n",
       "      <td>105.000000</td>\n",
       "      <td>150000.000000</td>\n",
       "      <td>6.000000</td>\n",
       "      <td>0.0</td>\n",
       "      <td>49624.000000</td>\n",
       "    </tr>\n",
       "    <tr>\n",
       "      <th>75%</th>\n",
       "      <td>6790.000000</td>\n",
       "      <td>2008.000000</td>\n",
       "      <td>143.000000</td>\n",
       "      <td>150000.000000</td>\n",
       "      <td>9.000000</td>\n",
       "      <td>0.0</td>\n",
       "      <td>71282.000000</td>\n",
       "    </tr>\n",
       "    <tr>\n",
       "      <th>max</th>\n",
       "      <td>20000.000000</td>\n",
       "      <td>9999.000000</td>\n",
       "      <td>20000.000000</td>\n",
       "      <td>150000.000000</td>\n",
       "      <td>12.000000</td>\n",
       "      <td>0.0</td>\n",
       "      <td>99998.000000</td>\n",
       "    </tr>\n",
       "  </tbody>\n",
       "</table>\n",
       "</div>"
      ],
      "text/plain": [
       "               Price  RegistrationYear          Power      Kilometer   \n",
       "count  331206.000000     331206.000000  331206.000000  331206.000000  \\\n",
       "mean     4719.470097       2004.017995     113.026548  128362.891977   \n",
       "std      4516.543060         67.451637     188.031233   37158.114376   \n",
       "min       300.000000       1000.000000       0.000000    5000.000000   \n",
       "25%      1300.000000       1999.000000      75.000000  125000.000000   \n",
       "50%      2999.000000       2003.000000     105.000000  150000.000000   \n",
       "75%      6790.000000       2008.000000     143.000000  150000.000000   \n",
       "max     20000.000000       9999.000000   20000.000000  150000.000000   \n",
       "\n",
       "       RegistrationMonth  NumberOfPictures     PostalCode  \n",
       "count      331206.000000          331206.0  331206.000000  \n",
       "mean            5.852790               0.0   50795.077752  \n",
       "std             3.668219               0.0   25701.328161  \n",
       "min             0.000000               0.0    1067.000000  \n",
       "25%             3.000000               0.0   30539.000000  \n",
       "50%             6.000000               0.0   49624.000000  \n",
       "75%             9.000000               0.0   71282.000000  \n",
       "max            12.000000               0.0   99998.000000  "
      ]
     },
     "execution_count": 229,
     "metadata": {},
     "output_type": "execute_result"
    }
   ],
   "source": [
    "data.describe()"
   ]
  },
  {
   "cell_type": "markdown",
   "metadata": {},
   "source": [
    "**RegistrationYear**"
   ]
  },
  {
   "cell_type": "markdown",
   "metadata": {},
   "source": [
    "Ориентируясь на данные одного из популярных европейских сайтов https://www.mobile.de/ru/категория/автомобиль/vhc:car,pgn:1,pgs:10,srt:year,sro:asc, можем определить нижний диапазон года регистрации - 1900."
   ]
  },
  {
   "cell_type": "markdown",
   "metadata": {},
   "source": [
    "Верхняя граница:"
   ]
  },
  {
   "cell_type": "code",
   "execution_count": 230,
   "metadata": {},
   "outputs": [
    {
     "data": {
      "text/plain": [
       "2019"
      ]
     },
     "execution_count": 230,
     "metadata": {},
     "output_type": "execute_result"
    }
   ],
   "source": [
    "data.query('RegistrationYear <=2023')['RegistrationYear'].max()"
   ]
  },
  {
   "cell_type": "markdown",
   "metadata": {},
   "source": [
    "Количество аномалий:"
   ]
  },
  {
   "cell_type": "code",
   "execution_count": 231,
   "metadata": {},
   "outputs": [
    {
     "data": {
      "text/plain": [
       "97"
      ]
     },
     "execution_count": 231,
     "metadata": {},
     "output_type": "execute_result"
    }
   ],
   "source": [
    "len(data.query('RegistrationYear < 1900 or RegistrationYear > 2019'))"
   ]
  },
  {
   "cell_type": "markdown",
   "metadata": {},
   "source": [
    "Удаляем аномалии по году регистрации:"
   ]
  },
  {
   "cell_type": "code",
   "execution_count": 232,
   "metadata": {},
   "outputs": [],
   "source": [
    "data = data.query('1900 <= RegistrationYear <= 2019')"
   ]
  },
  {
   "cell_type": "markdown",
   "metadata": {},
   "source": [
    "\n",
    "<div class=\"alert alert-block alert-info\">\n",
    "<b>Совет:</b> Советую посмотреть на дату выгрузки анкет - там тоже можно увидеть полезную информацию по поводу границ года регистраци.\n",
    "</div>\n"
   ]
  },
  {
   "cell_type": "markdown",
   "metadata": {},
   "source": [
    "<div class=\"alert alert-block alert-warning\"> \n",
    "<b>Комментарий студента:</b> Дата выгрузки анкет имеет только 2016 год. Ниже код с анализом.\n",
    "</div>"
   ]
  },
  {
   "cell_type": "code",
   "execution_count": 233,
   "metadata": {},
   "outputs": [
    {
     "data": {
      "text/plain": [
       "2016"
      ]
     },
     "execution_count": 233,
     "metadata": {},
     "output_type": "execute_result"
    }
   ],
   "source": [
    "pd.DatetimeIndex(data['DateCrawled']).year.min()"
   ]
  },
  {
   "cell_type": "code",
   "execution_count": 234,
   "metadata": {},
   "outputs": [
    {
     "data": {
      "text/plain": [
       "2016"
      ]
     },
     "execution_count": 234,
     "metadata": {},
     "output_type": "execute_result"
    }
   ],
   "source": [
    "pd.DatetimeIndex(data['DateCrawled']).year.max()"
   ]
  },
  {
   "cell_type": "code",
   "execution_count": 235,
   "metadata": {},
   "outputs": [
    {
     "data": {
      "text/html": [
       "<div>\n",
       "<style scoped>\n",
       "    .dataframe tbody tr th:only-of-type {\n",
       "        vertical-align: middle;\n",
       "    }\n",
       "\n",
       "    .dataframe tbody tr th {\n",
       "        vertical-align: top;\n",
       "    }\n",
       "\n",
       "    .dataframe thead th {\n",
       "        text-align: right;\n",
       "    }\n",
       "</style>\n",
       "<table border=\"1\" class=\"dataframe\">\n",
       "  <thead>\n",
       "    <tr style=\"text-align: right;\">\n",
       "      <th></th>\n",
       "      <th>Price</th>\n",
       "      <th>RegistrationYear</th>\n",
       "      <th>Power</th>\n",
       "      <th>Kilometer</th>\n",
       "      <th>RegistrationMonth</th>\n",
       "      <th>NumberOfPictures</th>\n",
       "      <th>PostalCode</th>\n",
       "    </tr>\n",
       "  </thead>\n",
       "  <tbody>\n",
       "    <tr>\n",
       "      <th>count</th>\n",
       "      <td>331109.000000</td>\n",
       "      <td>331109.000000</td>\n",
       "      <td>331109.000000</td>\n",
       "      <td>331109.000000</td>\n",
       "      <td>331109.000000</td>\n",
       "      <td>331109.0</td>\n",
       "      <td>331109.000000</td>\n",
       "    </tr>\n",
       "    <tr>\n",
       "      <th>mean</th>\n",
       "      <td>4719.647793</td>\n",
       "      <td>2003.335605</td>\n",
       "      <td>113.025279</td>\n",
       "      <td>128397.733073</td>\n",
       "      <td>5.854139</td>\n",
       "      <td>0.0</td>\n",
       "      <td>50797.212139</td>\n",
       "    </tr>\n",
       "    <tr>\n",
       "      <th>std</th>\n",
       "      <td>4516.418840</td>\n",
       "      <td>7.255242</td>\n",
       "      <td>187.964815</td>\n",
       "      <td>37106.351976</td>\n",
       "      <td>3.667613</td>\n",
       "      <td>0.0</td>\n",
       "      <td>25701.322091</td>\n",
       "    </tr>\n",
       "    <tr>\n",
       "      <th>min</th>\n",
       "      <td>300.000000</td>\n",
       "      <td>1910.000000</td>\n",
       "      <td>0.000000</td>\n",
       "      <td>5000.000000</td>\n",
       "      <td>0.000000</td>\n",
       "      <td>0.0</td>\n",
       "      <td>1067.000000</td>\n",
       "    </tr>\n",
       "    <tr>\n",
       "      <th>25%</th>\n",
       "      <td>1300.000000</td>\n",
       "      <td>1999.000000</td>\n",
       "      <td>75.000000</td>\n",
       "      <td>125000.000000</td>\n",
       "      <td>3.000000</td>\n",
       "      <td>0.0</td>\n",
       "      <td>30539.000000</td>\n",
       "    </tr>\n",
       "    <tr>\n",
       "      <th>50%</th>\n",
       "      <td>2999.000000</td>\n",
       "      <td>2003.000000</td>\n",
       "      <td>105.000000</td>\n",
       "      <td>150000.000000</td>\n",
       "      <td>6.000000</td>\n",
       "      <td>0.0</td>\n",
       "      <td>49624.000000</td>\n",
       "    </tr>\n",
       "    <tr>\n",
       "      <th>75%</th>\n",
       "      <td>6790.000000</td>\n",
       "      <td>2008.000000</td>\n",
       "      <td>143.000000</td>\n",
       "      <td>150000.000000</td>\n",
       "      <td>9.000000</td>\n",
       "      <td>0.0</td>\n",
       "      <td>71287.000000</td>\n",
       "    </tr>\n",
       "    <tr>\n",
       "      <th>max</th>\n",
       "      <td>20000.000000</td>\n",
       "      <td>2019.000000</td>\n",
       "      <td>20000.000000</td>\n",
       "      <td>150000.000000</td>\n",
       "      <td>12.000000</td>\n",
       "      <td>0.0</td>\n",
       "      <td>99998.000000</td>\n",
       "    </tr>\n",
       "  </tbody>\n",
       "</table>\n",
       "</div>"
      ],
      "text/plain": [
       "               Price  RegistrationYear          Power      Kilometer   \n",
       "count  331109.000000     331109.000000  331109.000000  331109.000000  \\\n",
       "mean     4719.647793       2003.335605     113.025279  128397.733073   \n",
       "std      4516.418840          7.255242     187.964815   37106.351976   \n",
       "min       300.000000       1910.000000       0.000000    5000.000000   \n",
       "25%      1300.000000       1999.000000      75.000000  125000.000000   \n",
       "50%      2999.000000       2003.000000     105.000000  150000.000000   \n",
       "75%      6790.000000       2008.000000     143.000000  150000.000000   \n",
       "max     20000.000000       2019.000000   20000.000000  150000.000000   \n",
       "\n",
       "       RegistrationMonth  NumberOfPictures     PostalCode  \n",
       "count      331109.000000          331109.0  331109.000000  \n",
       "mean            5.854139               0.0   50797.212139  \n",
       "std             3.667613               0.0   25701.322091  \n",
       "min             0.000000               0.0    1067.000000  \n",
       "25%             3.000000               0.0   30539.000000  \n",
       "50%             6.000000               0.0   49624.000000  \n",
       "75%             9.000000               0.0   71287.000000  \n",
       "max            12.000000               0.0   99998.000000  "
      ]
     },
     "execution_count": 235,
     "metadata": {},
     "output_type": "execute_result"
    }
   ],
   "source": [
    "data.describe()"
   ]
  },
  {
   "cell_type": "markdown",
   "metadata": {},
   "source": [
    "**Power**"
   ]
  },
  {
   "cell_type": "markdown",
   "metadata": {},
   "source": [
    "Для ограничения сверху взял в качестве ориентира данные с сайта https://www.drom.ru/info/misc/very-fast-cars-60255.html?ysclid=lg44pubx7e724159239. максимальная мощность составляет 1600 л.с.\n",
    "Минимальное значение принимаем 4.2 л.с. (https://fastmb.ru/autonews/autonews_mir/1367-samye-malomoschnye-avtomobili-top-10.html)."
   ]
  },
  {
   "cell_type": "markdown",
   "metadata": {},
   "source": [
    "Количество аномалий:"
   ]
  },
  {
   "cell_type": "code",
   "execution_count": 236,
   "metadata": {},
   "outputs": [
    {
     "data": {
      "text/plain": [
       "32127"
      ]
     },
     "execution_count": 236,
     "metadata": {},
     "output_type": "execute_result"
    }
   ],
   "source": [
    "len(data.query('Power < 4.2 or Power > 1600'))"
   ]
  },
  {
   "cell_type": "code",
   "execution_count": 237,
   "metadata": {
    "scrolled": true
   },
   "outputs": [
    {
     "data": {
      "image/png": "[encoded data removed]",
      "text/plain": [
       "<Figure size 640x480 with 1 Axes>"
      ]
     },
     "metadata": {},
     "output_type": "display_data"
    }
   ],
   "source": [
    "data['Power'].plot(kind='hist', xlim = [0, 300], bins=2000); # виден пик в пределах 0-10 л.с."
   ]
  },
  {
   "cell_type": "markdown",
   "metadata": {},
   "source": [
    "Аномалий много, но заполнить их по известным данным нельзя, поскольку нет данных о комплектации тем или иным типом двигателя.\n",
    "Изучим часть из них."
   ]
  },
  {
   "cell_type": "code",
   "execution_count": 238,
   "metadata": {},
   "outputs": [
    {
     "data": {
      "text/html": [
       "<div>\n",
       "<style scoped>\n",
       "    .dataframe tbody tr th:only-of-type {\n",
       "        vertical-align: middle;\n",
       "    }\n",
       "\n",
       "    .dataframe tbody tr th {\n",
       "        vertical-align: top;\n",
       "    }\n",
       "\n",
       "    .dataframe thead th {\n",
       "        text-align: right;\n",
       "    }\n",
       "</style>\n",
       "<table border=\"1\" class=\"dataframe\">\n",
       "  <thead>\n",
       "    <tr style=\"text-align: right;\">\n",
       "      <th></th>\n",
       "      <th>DateCrawled</th>\n",
       "      <th>Price</th>\n",
       "      <th>VehicleType</th>\n",
       "      <th>RegistrationYear</th>\n",
       "      <th>Gearbox</th>\n",
       "      <th>Power</th>\n",
       "      <th>Model</th>\n",
       "      <th>Kilometer</th>\n",
       "      <th>RegistrationMonth</th>\n",
       "      <th>FuelType</th>\n",
       "      <th>Brand</th>\n",
       "      <th>Repaired</th>\n",
       "      <th>DateCreated</th>\n",
       "      <th>NumberOfPictures</th>\n",
       "      <th>PostalCode</th>\n",
       "      <th>LastSeen</th>\n",
       "    </tr>\n",
       "  </thead>\n",
       "  <tbody>\n",
       "    <tr>\n",
       "      <th>0</th>\n",
       "      <td>2016-03-24 11:52:17</td>\n",
       "      <td>480</td>\n",
       "      <td>NaN</td>\n",
       "      <td>1993</td>\n",
       "      <td>manual</td>\n",
       "      <td>0</td>\n",
       "      <td>golf</td>\n",
       "      <td>150000</td>\n",
       "      <td>0</td>\n",
       "      <td>petrol</td>\n",
       "      <td>volkswagen</td>\n",
       "      <td>NaN</td>\n",
       "      <td>2016-03-24 00:00:00</td>\n",
       "      <td>0</td>\n",
       "      <td>70435</td>\n",
       "      <td>2016-04-07 03:16:57</td>\n",
       "    </tr>\n",
       "    <tr>\n",
       "      <th>15</th>\n",
       "      <td>2016-03-11 21:39:15</td>\n",
       "      <td>450</td>\n",
       "      <td>small</td>\n",
       "      <td>1910</td>\n",
       "      <td>NaN</td>\n",
       "      <td>0</td>\n",
       "      <td>ka</td>\n",
       "      <td>5000</td>\n",
       "      <td>0</td>\n",
       "      <td>petrol</td>\n",
       "      <td>ford</td>\n",
       "      <td>NaN</td>\n",
       "      <td>2016-03-11 00:00:00</td>\n",
       "      <td>0</td>\n",
       "      <td>24148</td>\n",
       "      <td>2016-03-19 08:46:47</td>\n",
       "    </tr>\n",
       "    <tr>\n",
       "      <th>37</th>\n",
       "      <td>2016-03-28 17:50:15</td>\n",
       "      <td>1500</td>\n",
       "      <td>NaN</td>\n",
       "      <td>2016</td>\n",
       "      <td>NaN</td>\n",
       "      <td>0</td>\n",
       "      <td>kangoo</td>\n",
       "      <td>150000</td>\n",
       "      <td>1</td>\n",
       "      <td>gasoline</td>\n",
       "      <td>renault</td>\n",
       "      <td>no</td>\n",
       "      <td>2016-03-28 00:00:00</td>\n",
       "      <td>0</td>\n",
       "      <td>46483</td>\n",
       "      <td>2016-03-30 09:18:02</td>\n",
       "    </tr>\n",
       "    <tr>\n",
       "      <th>54</th>\n",
       "      <td>2016-03-17 07:56:40</td>\n",
       "      <td>4700</td>\n",
       "      <td>wagon</td>\n",
       "      <td>2005</td>\n",
       "      <td>manual</td>\n",
       "      <td>0</td>\n",
       "      <td>signum</td>\n",
       "      <td>150000</td>\n",
       "      <td>0</td>\n",
       "      <td>NaN</td>\n",
       "      <td>opel</td>\n",
       "      <td>no</td>\n",
       "      <td>2016-03-17 00:00:00</td>\n",
       "      <td>0</td>\n",
       "      <td>88433</td>\n",
       "      <td>2016-04-04 04:17:32</td>\n",
       "    </tr>\n",
       "    <tr>\n",
       "      <th>55</th>\n",
       "      <td>2016-03-26 10:39:35</td>\n",
       "      <td>550</td>\n",
       "      <td>wagon</td>\n",
       "      <td>1999</td>\n",
       "      <td>manual</td>\n",
       "      <td>0</td>\n",
       "      <td>astra</td>\n",
       "      <td>150000</td>\n",
       "      <td>8</td>\n",
       "      <td>gasoline</td>\n",
       "      <td>opel</td>\n",
       "      <td>yes</td>\n",
       "      <td>2016-03-26 00:00:00</td>\n",
       "      <td>0</td>\n",
       "      <td>56759</td>\n",
       "      <td>2016-04-01 23:17:27</td>\n",
       "    </tr>\n",
       "    <tr>\n",
       "      <th>...</th>\n",
       "      <td>...</td>\n",
       "      <td>...</td>\n",
       "      <td>...</td>\n",
       "      <td>...</td>\n",
       "      <td>...</td>\n",
       "      <td>...</td>\n",
       "      <td>...</td>\n",
       "      <td>...</td>\n",
       "      <td>...</td>\n",
       "      <td>...</td>\n",
       "      <td>...</td>\n",
       "      <td>...</td>\n",
       "      <td>...</td>\n",
       "      <td>...</td>\n",
       "      <td>...</td>\n",
       "      <td>...</td>\n",
       "    </tr>\n",
       "    <tr>\n",
       "      <th>354336</th>\n",
       "      <td>2016-03-05 18:57:45</td>\n",
       "      <td>3299</td>\n",
       "      <td>NaN</td>\n",
       "      <td>2005</td>\n",
       "      <td>auto</td>\n",
       "      <td>0</td>\n",
       "      <td>outlander</td>\n",
       "      <td>150000</td>\n",
       "      <td>4</td>\n",
       "      <td>petrol</td>\n",
       "      <td>mitsubishi</td>\n",
       "      <td>NaN</td>\n",
       "      <td>2016-03-05 00:00:00</td>\n",
       "      <td>0</td>\n",
       "      <td>17034</td>\n",
       "      <td>2016-03-06 04:17:37</td>\n",
       "    </tr>\n",
       "    <tr>\n",
       "      <th>354346</th>\n",
       "      <td>2016-03-07 17:06:35</td>\n",
       "      <td>2600</td>\n",
       "      <td>NaN</td>\n",
       "      <td>2005</td>\n",
       "      <td>auto</td>\n",
       "      <td>0</td>\n",
       "      <td>c_klasse</td>\n",
       "      <td>150000</td>\n",
       "      <td>9</td>\n",
       "      <td>NaN</td>\n",
       "      <td>mercedes_benz</td>\n",
       "      <td>NaN</td>\n",
       "      <td>2016-03-07 00:00:00</td>\n",
       "      <td>0</td>\n",
       "      <td>61169</td>\n",
       "      <td>2016-03-08 21:28:38</td>\n",
       "    </tr>\n",
       "    <tr>\n",
       "      <th>354360</th>\n",
       "      <td>2016-04-02 20:37:03</td>\n",
       "      <td>3999</td>\n",
       "      <td>wagon</td>\n",
       "      <td>2005</td>\n",
       "      <td>manual</td>\n",
       "      <td>3</td>\n",
       "      <td>3er</td>\n",
       "      <td>150000</td>\n",
       "      <td>5</td>\n",
       "      <td>gasoline</td>\n",
       "      <td>bmw</td>\n",
       "      <td>no</td>\n",
       "      <td>2016-04-02 00:00:00</td>\n",
       "      <td>0</td>\n",
       "      <td>81825</td>\n",
       "      <td>2016-04-06 20:47:12</td>\n",
       "    </tr>\n",
       "    <tr>\n",
       "      <th>354363</th>\n",
       "      <td>2016-03-27 20:36:20</td>\n",
       "      <td>1150</td>\n",
       "      <td>bus</td>\n",
       "      <td>2000</td>\n",
       "      <td>manual</td>\n",
       "      <td>0</td>\n",
       "      <td>zafira</td>\n",
       "      <td>150000</td>\n",
       "      <td>3</td>\n",
       "      <td>petrol</td>\n",
       "      <td>opel</td>\n",
       "      <td>no</td>\n",
       "      <td>2016-03-27 00:00:00</td>\n",
       "      <td>0</td>\n",
       "      <td>26624</td>\n",
       "      <td>2016-03-29 10:17:23</td>\n",
       "    </tr>\n",
       "    <tr>\n",
       "      <th>354365</th>\n",
       "      <td>2016-03-14 17:48:27</td>\n",
       "      <td>2200</td>\n",
       "      <td>NaN</td>\n",
       "      <td>2005</td>\n",
       "      <td>NaN</td>\n",
       "      <td>0</td>\n",
       "      <td>NaN</td>\n",
       "      <td>20000</td>\n",
       "      <td>1</td>\n",
       "      <td>NaN</td>\n",
       "      <td>sonstige_autos</td>\n",
       "      <td>NaN</td>\n",
       "      <td>2016-03-14 00:00:00</td>\n",
       "      <td>0</td>\n",
       "      <td>39576</td>\n",
       "      <td>2016-04-06 00:46:52</td>\n",
       "    </tr>\n",
       "  </tbody>\n",
       "</table>\n",
       "<p>31970 rows × 16 columns</p>\n",
       "</div>"
      ],
      "text/plain": [
       "                DateCrawled  Price VehicleType  RegistrationYear Gearbox   \n",
       "0       2016-03-24 11:52:17    480         NaN              1993  manual  \\\n",
       "15      2016-03-11 21:39:15    450       small              1910     NaN   \n",
       "37      2016-03-28 17:50:15   1500         NaN              2016     NaN   \n",
       "54      2016-03-17 07:56:40   4700       wagon              2005  manual   \n",
       "55      2016-03-26 10:39:35    550       wagon              1999  manual   \n",
       "...                     ...    ...         ...               ...     ...   \n",
       "354336  2016-03-05 18:57:45   3299         NaN              2005    auto   \n",
       "354346  2016-03-07 17:06:35   2600         NaN              2005    auto   \n",
       "354360  2016-04-02 20:37:03   3999       wagon              2005  manual   \n",
       "354363  2016-03-27 20:36:20   1150         bus              2000  manual   \n",
       "354365  2016-03-14 17:48:27   2200         NaN              2005     NaN   \n",
       "\n",
       "        Power      Model  Kilometer  RegistrationMonth  FuelType   \n",
       "0           0       golf     150000                  0    petrol  \\\n",
       "15          0         ka       5000                  0    petrol   \n",
       "37          0     kangoo     150000                  1  gasoline   \n",
       "54          0     signum     150000                  0       NaN   \n",
       "55          0      astra     150000                  8  gasoline   \n",
       "...       ...        ...        ...                ...       ...   \n",
       "354336      0  outlander     150000                  4    petrol   \n",
       "354346      0   c_klasse     150000                  9       NaN   \n",
       "354360      3        3er     150000                  5  gasoline   \n",
       "354363      0     zafira     150000                  3    petrol   \n",
       "354365      0        NaN      20000                  1       NaN   \n",
       "\n",
       "                 Brand Repaired          DateCreated  NumberOfPictures   \n",
       "0           volkswagen      NaN  2016-03-24 00:00:00                 0  \\\n",
       "15                ford      NaN  2016-03-11 00:00:00                 0   \n",
       "37             renault       no  2016-03-28 00:00:00                 0   \n",
       "54                opel       no  2016-03-17 00:00:00                 0   \n",
       "55                opel      yes  2016-03-26 00:00:00                 0   \n",
       "...                ...      ...                  ...               ...   \n",
       "354336      mitsubishi      NaN  2016-03-05 00:00:00                 0   \n",
       "354346   mercedes_benz      NaN  2016-03-07 00:00:00                 0   \n",
       "354360             bmw       no  2016-04-02 00:00:00                 0   \n",
       "354363            opel       no  2016-03-27 00:00:00                 0   \n",
       "354365  sonstige_autos      NaN  2016-03-14 00:00:00                 0   \n",
       "\n",
       "        PostalCode             LastSeen  \n",
       "0            70435  2016-04-07 03:16:57  \n",
       "15           24148  2016-03-19 08:46:47  \n",
       "37           46483  2016-03-30 09:18:02  \n",
       "54           88433  2016-04-04 04:17:32  \n",
       "55           56759  2016-04-01 23:17:27  \n",
       "...            ...                  ...  \n",
       "354336       17034  2016-03-06 04:17:37  \n",
       "354346       61169  2016-03-08 21:28:38  \n",
       "354360       81825  2016-04-06 20:47:12  \n",
       "354363       26624  2016-03-29 10:17:23  \n",
       "354365       39576  2016-04-06 00:46:52  \n",
       "\n",
       "[31970 rows x 16 columns]"
      ]
     },
     "execution_count": 238,
     "metadata": {},
     "output_type": "execute_result"
    }
   ],
   "source": [
    "data.query('Power < 4.2')"
   ]
  },
  {
   "cell_type": "code",
   "execution_count": 239,
   "metadata": {},
   "outputs": [
    {
     "data": {
      "text/html": [
       "<div>\n",
       "<style scoped>\n",
       "    .dataframe tbody tr th:only-of-type {\n",
       "        vertical-align: middle;\n",
       "    }\n",
       "\n",
       "    .dataframe tbody tr th {\n",
       "        vertical-align: top;\n",
       "    }\n",
       "\n",
       "    .dataframe thead th {\n",
       "        text-align: right;\n",
       "    }\n",
       "</style>\n",
       "<table border=\"1\" class=\"dataframe\">\n",
       "  <thead>\n",
       "    <tr style=\"text-align: right;\">\n",
       "      <th></th>\n",
       "      <th>DateCrawled</th>\n",
       "      <th>Price</th>\n",
       "      <th>VehicleType</th>\n",
       "      <th>RegistrationYear</th>\n",
       "      <th>Gearbox</th>\n",
       "      <th>Power</th>\n",
       "      <th>Model</th>\n",
       "      <th>Kilometer</th>\n",
       "      <th>RegistrationMonth</th>\n",
       "      <th>FuelType</th>\n",
       "      <th>Brand</th>\n",
       "      <th>Repaired</th>\n",
       "      <th>DateCreated</th>\n",
       "      <th>NumberOfPictures</th>\n",
       "      <th>PostalCode</th>\n",
       "      <th>LastSeen</th>\n",
       "    </tr>\n",
       "  </thead>\n",
       "  <tbody>\n",
       "    <tr>\n",
       "      <th>7661</th>\n",
       "      <td>2016-04-02 19:25:25</td>\n",
       "      <td>1499</td>\n",
       "      <td>small</td>\n",
       "      <td>1999</td>\n",
       "      <td>manual</td>\n",
       "      <td>7515</td>\n",
       "      <td>lupo</td>\n",
       "      <td>150000</td>\n",
       "      <td>4</td>\n",
       "      <td>petrol</td>\n",
       "      <td>volkswagen</td>\n",
       "      <td>NaN</td>\n",
       "      <td>2016-04-02 00:00:00</td>\n",
       "      <td>0</td>\n",
       "      <td>65830</td>\n",
       "      <td>2016-04-06 11:46:49</td>\n",
       "    </tr>\n",
       "    <tr>\n",
       "      <th>9664</th>\n",
       "      <td>2016-03-14 20:06:19</td>\n",
       "      <td>2599</td>\n",
       "      <td>NaN</td>\n",
       "      <td>2016</td>\n",
       "      <td>manual</td>\n",
       "      <td>1779</td>\n",
       "      <td>zafira</td>\n",
       "      <td>150000</td>\n",
       "      <td>0</td>\n",
       "      <td>petrol</td>\n",
       "      <td>opel</td>\n",
       "      <td>no</td>\n",
       "      <td>2016-03-14 00:00:00</td>\n",
       "      <td>0</td>\n",
       "      <td>60326</td>\n",
       "      <td>2016-04-07 09:45:27</td>\n",
       "    </tr>\n",
       "    <tr>\n",
       "      <th>9875</th>\n",
       "      <td>2016-03-31 20:51:13</td>\n",
       "      <td>550</td>\n",
       "      <td>wagon</td>\n",
       "      <td>2003</td>\n",
       "      <td>manual</td>\n",
       "      <td>1753</td>\n",
       "      <td>focus</td>\n",
       "      <td>150000</td>\n",
       "      <td>1</td>\n",
       "      <td>gasoline</td>\n",
       "      <td>ford</td>\n",
       "      <td>yes</td>\n",
       "      <td>2016-03-31 00:00:00</td>\n",
       "      <td>0</td>\n",
       "      <td>21039</td>\n",
       "      <td>2016-03-31 20:51:13</td>\n",
       "    </tr>\n",
       "    <tr>\n",
       "      <th>19092</th>\n",
       "      <td>2016-03-20 17:54:04</td>\n",
       "      <td>9750</td>\n",
       "      <td>wagon</td>\n",
       "      <td>2005</td>\n",
       "      <td>auto</td>\n",
       "      <td>2729</td>\n",
       "      <td>5er</td>\n",
       "      <td>150000</td>\n",
       "      <td>7</td>\n",
       "      <td>gasoline</td>\n",
       "      <td>bmw</td>\n",
       "      <td>no</td>\n",
       "      <td>2016-03-20 00:00:00</td>\n",
       "      <td>0</td>\n",
       "      <td>21376</td>\n",
       "      <td>2016-03-23 02:48:53</td>\n",
       "    </tr>\n",
       "    <tr>\n",
       "      <th>20050</th>\n",
       "      <td>2016-03-26 19:46:06</td>\n",
       "      <td>2200</td>\n",
       "      <td>sedan</td>\n",
       "      <td>2002</td>\n",
       "      <td>auto</td>\n",
       "      <td>1704</td>\n",
       "      <td>e_klasse</td>\n",
       "      <td>150000</td>\n",
       "      <td>1</td>\n",
       "      <td>NaN</td>\n",
       "      <td>mercedes_benz</td>\n",
       "      <td>yes</td>\n",
       "      <td>2016-03-26 00:00:00</td>\n",
       "      <td>0</td>\n",
       "      <td>31812</td>\n",
       "      <td>2016-04-06 09:44:59</td>\n",
       "    </tr>\n",
       "    <tr>\n",
       "      <th>...</th>\n",
       "      <td>...</td>\n",
       "      <td>...</td>\n",
       "      <td>...</td>\n",
       "      <td>...</td>\n",
       "      <td>...</td>\n",
       "      <td>...</td>\n",
       "      <td>...</td>\n",
       "      <td>...</td>\n",
       "      <td>...</td>\n",
       "      <td>...</td>\n",
       "      <td>...</td>\n",
       "      <td>...</td>\n",
       "      <td>...</td>\n",
       "      <td>...</td>\n",
       "      <td>...</td>\n",
       "      <td>...</td>\n",
       "    </tr>\n",
       "    <tr>\n",
       "      <th>348006</th>\n",
       "      <td>2016-03-22 13:44:40</td>\n",
       "      <td>355</td>\n",
       "      <td>sedan</td>\n",
       "      <td>1998</td>\n",
       "      <td>manual</td>\n",
       "      <td>1799</td>\n",
       "      <td>vectra</td>\n",
       "      <td>150000</td>\n",
       "      <td>6</td>\n",
       "      <td>petrol</td>\n",
       "      <td>opel</td>\n",
       "      <td>NaN</td>\n",
       "      <td>2016-03-22 00:00:00</td>\n",
       "      <td>0</td>\n",
       "      <td>39175</td>\n",
       "      <td>2016-03-29 16:45:09</td>\n",
       "    </tr>\n",
       "    <tr>\n",
       "      <th>348137</th>\n",
       "      <td>2016-03-16 21:48:39</td>\n",
       "      <td>850</td>\n",
       "      <td>sedan</td>\n",
       "      <td>1993</td>\n",
       "      <td>auto</td>\n",
       "      <td>9012</td>\n",
       "      <td>golf</td>\n",
       "      <td>150000</td>\n",
       "      <td>0</td>\n",
       "      <td>petrol</td>\n",
       "      <td>volkswagen</td>\n",
       "      <td>NaN</td>\n",
       "      <td>2016-03-16 00:00:00</td>\n",
       "      <td>0</td>\n",
       "      <td>14482</td>\n",
       "      <td>2016-04-03 09:17:43</td>\n",
       "    </tr>\n",
       "    <tr>\n",
       "      <th>348237</th>\n",
       "      <td>2016-04-04 12:38:11</td>\n",
       "      <td>3000</td>\n",
       "      <td>coupe</td>\n",
       "      <td>2007</td>\n",
       "      <td>manual</td>\n",
       "      <td>2007</td>\n",
       "      <td>corsa</td>\n",
       "      <td>150000</td>\n",
       "      <td>3</td>\n",
       "      <td>gasoline</td>\n",
       "      <td>opel</td>\n",
       "      <td>yes</td>\n",
       "      <td>2016-04-04 00:00:00</td>\n",
       "      <td>0</td>\n",
       "      <td>72218</td>\n",
       "      <td>2016-04-04 12:38:11</td>\n",
       "    </tr>\n",
       "    <tr>\n",
       "      <th>348668</th>\n",
       "      <td>2016-03-05 17:53:09</td>\n",
       "      <td>1000</td>\n",
       "      <td>wagon</td>\n",
       "      <td>1996</td>\n",
       "      <td>manual</td>\n",
       "      <td>2598</td>\n",
       "      <td>a6</td>\n",
       "      <td>150000</td>\n",
       "      <td>7</td>\n",
       "      <td>NaN</td>\n",
       "      <td>audi</td>\n",
       "      <td>NaN</td>\n",
       "      <td>2016-03-05 00:00:00</td>\n",
       "      <td>0</td>\n",
       "      <td>7646</td>\n",
       "      <td>2016-03-07 16:17:01</td>\n",
       "    </tr>\n",
       "    <tr>\n",
       "      <th>353493</th>\n",
       "      <td>2016-04-02 20:54:21</td>\n",
       "      <td>12500</td>\n",
       "      <td>NaN</td>\n",
       "      <td>2017</td>\n",
       "      <td>manual</td>\n",
       "      <td>2000</td>\n",
       "      <td>other</td>\n",
       "      <td>60000</td>\n",
       "      <td>0</td>\n",
       "      <td>gasoline</td>\n",
       "      <td>chrysler</td>\n",
       "      <td>no</td>\n",
       "      <td>2016-04-02 00:00:00</td>\n",
       "      <td>0</td>\n",
       "      <td>44145</td>\n",
       "      <td>2016-04-06 21:44:39</td>\n",
       "    </tr>\n",
       "  </tbody>\n",
       "</table>\n",
       "<p>157 rows × 16 columns</p>\n",
       "</div>"
      ],
      "text/plain": [
       "                DateCrawled  Price VehicleType  RegistrationYear Gearbox   \n",
       "7661    2016-04-02 19:25:25   1499       small              1999  manual  \\\n",
       "9664    2016-03-14 20:06:19   2599         NaN              2016  manual   \n",
       "9875    2016-03-31 20:51:13    550       wagon              2003  manual   \n",
       "19092   2016-03-20 17:54:04   9750       wagon              2005    auto   \n",
       "20050   2016-03-26 19:46:06   2200       sedan              2002    auto   \n",
       "...                     ...    ...         ...               ...     ...   \n",
       "348006  2016-03-22 13:44:40    355       sedan              1998  manual   \n",
       "348137  2016-03-16 21:48:39    850       sedan              1993    auto   \n",
       "348237  2016-04-04 12:38:11   3000       coupe              2007  manual   \n",
       "348668  2016-03-05 17:53:09   1000       wagon              1996  manual   \n",
       "353493  2016-04-02 20:54:21  12500         NaN              2017  manual   \n",
       "\n",
       "        Power     Model  Kilometer  RegistrationMonth  FuelType   \n",
       "7661     7515      lupo     150000                  4    petrol  \\\n",
       "9664     1779    zafira     150000                  0    petrol   \n",
       "9875     1753     focus     150000                  1  gasoline   \n",
       "19092    2729       5er     150000                  7  gasoline   \n",
       "20050    1704  e_klasse     150000                  1       NaN   \n",
       "...       ...       ...        ...                ...       ...   \n",
       "348006   1799    vectra     150000                  6    petrol   \n",
       "348137   9012      golf     150000                  0    petrol   \n",
       "348237   2007     corsa     150000                  3  gasoline   \n",
       "348668   2598        a6     150000                  7       NaN   \n",
       "353493   2000     other      60000                  0  gasoline   \n",
       "\n",
       "                Brand Repaired          DateCreated  NumberOfPictures   \n",
       "7661       volkswagen      NaN  2016-04-02 00:00:00                 0  \\\n",
       "9664             opel       no  2016-03-14 00:00:00                 0   \n",
       "9875             ford      yes  2016-03-31 00:00:00                 0   \n",
       "19092             bmw       no  2016-03-20 00:00:00                 0   \n",
       "20050   mercedes_benz      yes  2016-03-26 00:00:00                 0   \n",
       "...               ...      ...                  ...               ...   \n",
       "348006           opel      NaN  2016-03-22 00:00:00                 0   \n",
       "348137     volkswagen      NaN  2016-03-16 00:00:00                 0   \n",
       "348237           opel      yes  2016-04-04 00:00:00                 0   \n",
       "348668           audi      NaN  2016-03-05 00:00:00                 0   \n",
       "353493       chrysler       no  2016-04-02 00:00:00                 0   \n",
       "\n",
       "        PostalCode             LastSeen  \n",
       "7661         65830  2016-04-06 11:46:49  \n",
       "9664         60326  2016-04-07 09:45:27  \n",
       "9875         21039  2016-03-31 20:51:13  \n",
       "19092        21376  2016-03-23 02:48:53  \n",
       "20050        31812  2016-04-06 09:44:59  \n",
       "...            ...                  ...  \n",
       "348006       39175  2016-03-29 16:45:09  \n",
       "348137       14482  2016-04-03 09:17:43  \n",
       "348237       72218  2016-04-04 12:38:11  \n",
       "348668        7646  2016-03-07 16:17:01  \n",
       "353493       44145  2016-04-06 21:44:39  \n",
       "\n",
       "[157 rows x 16 columns]"
      ]
     },
     "execution_count": 239,
     "metadata": {},
     "output_type": "execute_result"
    }
   ],
   "source": [
    "data.query('Power > 1600')"
   ]
  },
  {
   "cell_type": "markdown",
   "metadata": {},
   "source": [
    "В целом данные адекватные: многие признаки имеют адекватные значения, поэтому при обучении они могут сыграть большую роль. В то же время имеется лишь 157 объектов с мощностью свыше 1600 л.с. - их мы можем удалить. "
   ]
  },
  {
   "cell_type": "code",
   "execution_count": 240,
   "metadata": {},
   "outputs": [],
   "source": [
    "data = data.query('Power <= 1600')"
   ]
  },
  {
   "cell_type": "code",
   "execution_count": 241,
   "metadata": {
    "scrolled": false
   },
   "outputs": [
    {
     "data": {
      "text/html": [
       "<div>\n",
       "<style scoped>\n",
       "    .dataframe tbody tr th:only-of-type {\n",
       "        vertical-align: middle;\n",
       "    }\n",
       "\n",
       "    .dataframe tbody tr th {\n",
       "        vertical-align: top;\n",
       "    }\n",
       "\n",
       "    .dataframe thead th {\n",
       "        text-align: right;\n",
       "    }\n",
       "</style>\n",
       "<table border=\"1\" class=\"dataframe\">\n",
       "  <thead>\n",
       "    <tr style=\"text-align: right;\">\n",
       "      <th></th>\n",
       "      <th>DateCrawled</th>\n",
       "      <th>Price</th>\n",
       "      <th>VehicleType</th>\n",
       "      <th>RegistrationYear</th>\n",
       "      <th>Gearbox</th>\n",
       "      <th>Power</th>\n",
       "      <th>Model</th>\n",
       "      <th>Kilometer</th>\n",
       "      <th>RegistrationMonth</th>\n",
       "      <th>FuelType</th>\n",
       "      <th>Brand</th>\n",
       "      <th>Repaired</th>\n",
       "      <th>DateCreated</th>\n",
       "      <th>NumberOfPictures</th>\n",
       "      <th>PostalCode</th>\n",
       "      <th>LastSeen</th>\n",
       "    </tr>\n",
       "  </thead>\n",
       "  <tbody>\n",
       "    <tr>\n",
       "      <th>9561</th>\n",
       "      <td>2016-04-04 07:58:34</td>\n",
       "      <td>9000</td>\n",
       "      <td>sedan</td>\n",
       "      <td>2009</td>\n",
       "      <td>manual</td>\n",
       "      <td>2</td>\n",
       "      <td>a4</td>\n",
       "      <td>5000</td>\n",
       "      <td>12</td>\n",
       "      <td>gasoline</td>\n",
       "      <td>audi</td>\n",
       "      <td>NaN</td>\n",
       "      <td>2016-04-04 00:00:00</td>\n",
       "      <td>0</td>\n",
       "      <td>12045</td>\n",
       "      <td>2016-04-06 10:17:01</td>\n",
       "    </tr>\n",
       "    <tr>\n",
       "      <th>16523</th>\n",
       "      <td>2016-03-26 10:48:50</td>\n",
       "      <td>4600</td>\n",
       "      <td>other</td>\n",
       "      <td>2012</td>\n",
       "      <td>manual</td>\n",
       "      <td>4</td>\n",
       "      <td>NaN</td>\n",
       "      <td>20000</td>\n",
       "      <td>9</td>\n",
       "      <td>gasoline</td>\n",
       "      <td>sonstige_autos</td>\n",
       "      <td>no</td>\n",
       "      <td>2016-03-26 00:00:00</td>\n",
       "      <td>0</td>\n",
       "      <td>40822</td>\n",
       "      <td>2016-03-26 10:48:50</td>\n",
       "    </tr>\n",
       "    <tr>\n",
       "      <th>20229</th>\n",
       "      <td>2016-03-17 22:48:49</td>\n",
       "      <td>4999</td>\n",
       "      <td>sedan</td>\n",
       "      <td>2003</td>\n",
       "      <td>manual</td>\n",
       "      <td>1</td>\n",
       "      <td>e_klasse</td>\n",
       "      <td>150000</td>\n",
       "      <td>12</td>\n",
       "      <td>gasoline</td>\n",
       "      <td>mercedes_benz</td>\n",
       "      <td>NaN</td>\n",
       "      <td>2016-03-17 00:00:00</td>\n",
       "      <td>0</td>\n",
       "      <td>66571</td>\n",
       "      <td>2016-03-17 23:44:50</td>\n",
       "    </tr>\n",
       "    <tr>\n",
       "      <th>30919</th>\n",
       "      <td>2016-03-24 18:47:46</td>\n",
       "      <td>1500</td>\n",
       "      <td>bus</td>\n",
       "      <td>2003</td>\n",
       "      <td>auto</td>\n",
       "      <td>2</td>\n",
       "      <td>NaN</td>\n",
       "      <td>150000</td>\n",
       "      <td>10</td>\n",
       "      <td>gasoline</td>\n",
       "      <td>hyundai</td>\n",
       "      <td>NaN</td>\n",
       "      <td>2016-03-24 00:00:00</td>\n",
       "      <td>0</td>\n",
       "      <td>40789</td>\n",
       "      <td>2016-03-26 04:15:35</td>\n",
       "    </tr>\n",
       "    <tr>\n",
       "      <th>33068</th>\n",
       "      <td>2016-03-29 15:44:33</td>\n",
       "      <td>5950</td>\n",
       "      <td>small</td>\n",
       "      <td>2004</td>\n",
       "      <td>manual</td>\n",
       "      <td>4</td>\n",
       "      <td>golf</td>\n",
       "      <td>80000</td>\n",
       "      <td>7</td>\n",
       "      <td>petrol</td>\n",
       "      <td>volkswagen</td>\n",
       "      <td>no</td>\n",
       "      <td>2016-03-29 00:00:00</td>\n",
       "      <td>0</td>\n",
       "      <td>64285</td>\n",
       "      <td>2016-04-06 01:15:51</td>\n",
       "    </tr>\n",
       "    <tr>\n",
       "      <th>...</th>\n",
       "      <td>...</td>\n",
       "      <td>...</td>\n",
       "      <td>...</td>\n",
       "      <td>...</td>\n",
       "      <td>...</td>\n",
       "      <td>...</td>\n",
       "      <td>...</td>\n",
       "      <td>...</td>\n",
       "      <td>...</td>\n",
       "      <td>...</td>\n",
       "      <td>...</td>\n",
       "      <td>...</td>\n",
       "      <td>...</td>\n",
       "      <td>...</td>\n",
       "      <td>...</td>\n",
       "      <td>...</td>\n",
       "    </tr>\n",
       "    <tr>\n",
       "      <th>337076</th>\n",
       "      <td>2016-03-20 10:48:50</td>\n",
       "      <td>1100</td>\n",
       "      <td>small</td>\n",
       "      <td>2004</td>\n",
       "      <td>auto</td>\n",
       "      <td>4</td>\n",
       "      <td>NaN</td>\n",
       "      <td>20000</td>\n",
       "      <td>5</td>\n",
       "      <td>petrol</td>\n",
       "      <td>sonstige_autos</td>\n",
       "      <td>no</td>\n",
       "      <td>2016-03-20 00:00:00</td>\n",
       "      <td>0</td>\n",
       "      <td>42275</td>\n",
       "      <td>2016-03-21 12:46:57</td>\n",
       "    </tr>\n",
       "    <tr>\n",
       "      <th>339663</th>\n",
       "      <td>2016-03-15 08:54:44</td>\n",
       "      <td>5500</td>\n",
       "      <td>other</td>\n",
       "      <td>2005</td>\n",
       "      <td>auto</td>\n",
       "      <td>4</td>\n",
       "      <td>NaN</td>\n",
       "      <td>30000</td>\n",
       "      <td>9</td>\n",
       "      <td>gasoline</td>\n",
       "      <td>sonstige_autos</td>\n",
       "      <td>no</td>\n",
       "      <td>2016-03-15 00:00:00</td>\n",
       "      <td>0</td>\n",
       "      <td>42275</td>\n",
       "      <td>2016-03-18 01:17:28</td>\n",
       "    </tr>\n",
       "    <tr>\n",
       "      <th>340724</th>\n",
       "      <td>2016-04-02 19:45:53</td>\n",
       "      <td>4500</td>\n",
       "      <td>small</td>\n",
       "      <td>2007</td>\n",
       "      <td>auto</td>\n",
       "      <td>4</td>\n",
       "      <td>NaN</td>\n",
       "      <td>40000</td>\n",
       "      <td>7</td>\n",
       "      <td>gasoline</td>\n",
       "      <td>sonstige_autos</td>\n",
       "      <td>no</td>\n",
       "      <td>2016-04-02 00:00:00</td>\n",
       "      <td>0</td>\n",
       "      <td>27356</td>\n",
       "      <td>2016-04-06 19:46:52</td>\n",
       "    </tr>\n",
       "    <tr>\n",
       "      <th>349666</th>\n",
       "      <td>2016-03-07 21:36:46</td>\n",
       "      <td>1500</td>\n",
       "      <td>NaN</td>\n",
       "      <td>2016</td>\n",
       "      <td>NaN</td>\n",
       "      <td>2</td>\n",
       "      <td>NaN</td>\n",
       "      <td>150000</td>\n",
       "      <td>5</td>\n",
       "      <td>gasoline</td>\n",
       "      <td>volkswagen</td>\n",
       "      <td>NaN</td>\n",
       "      <td>2016-03-07 00:00:00</td>\n",
       "      <td>0</td>\n",
       "      <td>33330</td>\n",
       "      <td>2016-03-19 10:48:08</td>\n",
       "    </tr>\n",
       "    <tr>\n",
       "      <th>354360</th>\n",
       "      <td>2016-04-02 20:37:03</td>\n",
       "      <td>3999</td>\n",
       "      <td>wagon</td>\n",
       "      <td>2005</td>\n",
       "      <td>manual</td>\n",
       "      <td>3</td>\n",
       "      <td>3er</td>\n",
       "      <td>150000</td>\n",
       "      <td>5</td>\n",
       "      <td>gasoline</td>\n",
       "      <td>bmw</td>\n",
       "      <td>no</td>\n",
       "      <td>2016-04-02 00:00:00</td>\n",
       "      <td>0</td>\n",
       "      <td>81825</td>\n",
       "      <td>2016-04-06 20:47:12</td>\n",
       "    </tr>\n",
       "  </tbody>\n",
       "</table>\n",
       "<p>65 rows × 16 columns</p>\n",
       "</div>"
      ],
      "text/plain": [
       "                DateCrawled  Price VehicleType  RegistrationYear Gearbox   \n",
       "9561    2016-04-04 07:58:34   9000       sedan              2009  manual  \\\n",
       "16523   2016-03-26 10:48:50   4600       other              2012  manual   \n",
       "20229   2016-03-17 22:48:49   4999       sedan              2003  manual   \n",
       "30919   2016-03-24 18:47:46   1500         bus              2003    auto   \n",
       "33068   2016-03-29 15:44:33   5950       small              2004  manual   \n",
       "...                     ...    ...         ...               ...     ...   \n",
       "337076  2016-03-20 10:48:50   1100       small              2004    auto   \n",
       "339663  2016-03-15 08:54:44   5500       other              2005    auto   \n",
       "340724  2016-04-02 19:45:53   4500       small              2007    auto   \n",
       "349666  2016-03-07 21:36:46   1500         NaN              2016     NaN   \n",
       "354360  2016-04-02 20:37:03   3999       wagon              2005  manual   \n",
       "\n",
       "        Power     Model  Kilometer  RegistrationMonth  FuelType   \n",
       "9561        2        a4       5000                 12  gasoline  \\\n",
       "16523       4       NaN      20000                  9  gasoline   \n",
       "20229       1  e_klasse     150000                 12  gasoline   \n",
       "30919       2       NaN     150000                 10  gasoline   \n",
       "33068       4      golf      80000                  7    petrol   \n",
       "...       ...       ...        ...                ...       ...   \n",
       "337076      4       NaN      20000                  5    petrol   \n",
       "339663      4       NaN      30000                  9  gasoline   \n",
       "340724      4       NaN      40000                  7  gasoline   \n",
       "349666      2       NaN     150000                  5  gasoline   \n",
       "354360      3       3er     150000                  5  gasoline   \n",
       "\n",
       "                 Brand Repaired          DateCreated  NumberOfPictures   \n",
       "9561              audi      NaN  2016-04-04 00:00:00                 0  \\\n",
       "16523   sonstige_autos       no  2016-03-26 00:00:00                 0   \n",
       "20229    mercedes_benz      NaN  2016-03-17 00:00:00                 0   \n",
       "30919          hyundai      NaN  2016-03-24 00:00:00                 0   \n",
       "33068       volkswagen       no  2016-03-29 00:00:00                 0   \n",
       "...                ...      ...                  ...               ...   \n",
       "337076  sonstige_autos       no  2016-03-20 00:00:00                 0   \n",
       "339663  sonstige_autos       no  2016-03-15 00:00:00                 0   \n",
       "340724  sonstige_autos       no  2016-04-02 00:00:00                 0   \n",
       "349666      volkswagen      NaN  2016-03-07 00:00:00                 0   \n",
       "354360             bmw       no  2016-04-02 00:00:00                 0   \n",
       "\n",
       "        PostalCode             LastSeen  \n",
       "9561         12045  2016-04-06 10:17:01  \n",
       "16523        40822  2016-03-26 10:48:50  \n",
       "20229        66571  2016-03-17 23:44:50  \n",
       "30919        40789  2016-03-26 04:15:35  \n",
       "33068        64285  2016-04-06 01:15:51  \n",
       "...            ...                  ...  \n",
       "337076       42275  2016-03-21 12:46:57  \n",
       "339663       42275  2016-03-18 01:17:28  \n",
       "340724       27356  2016-04-06 19:46:52  \n",
       "349666       33330  2016-03-19 10:48:08  \n",
       "354360       81825  2016-04-06 20:47:12  \n",
       "\n",
       "[65 rows x 16 columns]"
      ]
     },
     "execution_count": 241,
     "metadata": {},
     "output_type": "execute_result"
    }
   ],
   "source": [
    "data.query('0 < Power < 4.2')"
   ]
  },
  {
   "cell_type": "markdown",
   "metadata": {},
   "source": [
    "Значения с мощностью менее 4.2 л.с. можем считать аномалиями - удлаим их:"
   ]
  },
  {
   "cell_type": "code",
   "execution_count": 242,
   "metadata": {},
   "outputs": [],
   "source": [
    "data = data.query('Power >= 4.2 or Power == 0')"
   ]
  },
  {
   "cell_type": "markdown",
   "metadata": {},
   "source": [
    "Значения с нулевой мощностью могут быть обусловлены ннезаполнением данного поля. Заменим их на пропуски и в дальнейшем проведем заполнение:"
   ]
  },
  {
   "cell_type": "code",
   "execution_count": 243,
   "metadata": {},
   "outputs": [],
   "source": [
    "data.loc[data['Power']==0, 'Power'] = np.nan"
   ]
  },
  {
   "cell_type": "code",
   "execution_count": 244,
   "metadata": {},
   "outputs": [
    {
     "data": {
      "text/plain": [
       "31905"
      ]
     },
     "execution_count": 244,
     "metadata": {},
     "output_type": "execute_result"
    }
   ],
   "source": [
    "data['Power'].isna().sum() # число нулевых значений в признаке Power"
   ]
  },
  {
   "cell_type": "markdown",
   "metadata": {},
   "source": [
    "**Kilometer**"
   ]
  },
  {
   "cell_type": "markdown",
   "metadata": {},
   "source": [
    "Значения пробега находятся в диапазоне от 5000 до 150000. Построим гистограмму:"
   ]
  },
  {
   "cell_type": "code",
   "execution_count": 245,
   "metadata": {
    "scrolled": false
   },
   "outputs": [
    {
     "data": {
      "image/png": "[encoded data removed]",
      "text/plain": [
       "<Figure size 640x480 with 1 Axes>"
      ]
     },
     "metadata": {},
     "output_type": "display_data"
    }
   ],
   "source": [
    "data['Kilometer'].plot(kind='hist', bins=100);"
   ]
  },
  {
   "cell_type": "markdown",
   "metadata": {},
   "source": [
    "Есть пик на отметке 140000-150000, но удивляет, что нет пробега свыше, когда в базе представлены относительно старые авто (см. гистограмму ниже), пробег которых уж точно может быть за 200000 или 300000 км. Вероятно скручивают пробег."
   ]
  },
  {
   "cell_type": "code",
   "execution_count": 246,
   "metadata": {
    "scrolled": false
   },
   "outputs": [
    {
     "data": {
      "image/png": "[encoded data removed]",
      "text/plain": [
       "<Figure size 640x480 with 1 Axes>"
      ]
     },
     "metadata": {},
     "output_type": "display_data"
    }
   ],
   "source": [
    "data['RegistrationYear'].plot(kind='hist', bins=50);"
   ]
  },
  {
   "cell_type": "markdown",
   "metadata": {},
   "source": [
    "Значения признака оставляем. Аномалия соответствует значению 150000 км, но как-то исправить это мы не можем."
   ]
  },
  {
   "cell_type": "markdown",
   "metadata": {},
   "source": [
    "Корреляции между признаками не наблюдается:"
   ]
  },
  {
   "cell_type": "code",
   "execution_count": 247,
   "metadata": {},
   "outputs": [
    {
     "data": {
      "text/plain": [
       "-0.20102538542522236"
      ]
     },
     "execution_count": 247,
     "metadata": {},
     "output_type": "execute_result"
    }
   ],
   "source": [
    "data['Kilometer'].corr(data['RegistrationYear'])"
   ]
  },
  {
   "cell_type": "markdown",
   "metadata": {},
   "source": [
    "**RegistrationMonth**"
   ]
  },
  {
   "cell_type": "markdown",
   "metadata": {},
   "source": [
    "Посмотрим уникальные значения:"
   ]
  },
  {
   "cell_type": "code",
   "execution_count": 248,
   "metadata": {},
   "outputs": [
    {
     "data": {
      "text/plain": [
       "array([ 0,  5,  8,  6,  7, 10, 12, 11,  2,  3,  1,  4,  9])"
      ]
     },
     "execution_count": 248,
     "metadata": {},
     "output_type": "execute_result"
    }
   ],
   "source": [
    "data['RegistrationMonth'].unique()"
   ]
  },
  {
   "cell_type": "markdown",
   "metadata": {},
   "source": [
    "Значение \"0\" может означать, что информации по месяцу нет. Посмотрим их количество:"
   ]
  },
  {
   "cell_type": "code",
   "execution_count": 249,
   "metadata": {},
   "outputs": [
    {
     "data": {
      "text/plain": [
       "28235"
      ]
     },
     "execution_count": 249,
     "metadata": {},
     "output_type": "execute_result"
    }
   ],
   "source": [
    "len(data.query('RegistrationMonth==0'))"
   ]
  },
  {
   "cell_type": "markdown",
   "metadata": {},
   "source": [
    "Значений много, удалять не будем. В то же время для заполнения нулевых значений отсуствует дополнительная информация. Оставим признак как есть."
   ]
  },
  {
   "cell_type": "markdown",
   "metadata": {},
   "source": [
    "**NumberOfPictures**"
   ]
  },
  {
   "cell_type": "markdown",
   "metadata": {},
   "source": [
    "Посмотрим уникальные значения признака NumberOfPictures:"
   ]
  },
  {
   "cell_type": "code",
   "execution_count": 250,
   "metadata": {},
   "outputs": [
    {
     "data": {
      "text/plain": [
       "array([0])"
      ]
     },
     "execution_count": 250,
     "metadata": {},
     "output_type": "execute_result"
    }
   ],
   "source": [
    "data['NumberOfPictures'].unique()"
   ]
  },
  {
   "cell_type": "markdown",
   "metadata": {},
   "source": [
    "Все значения нулевые, поэтому можем удалить признак:"
   ]
  },
  {
   "cell_type": "code",
   "execution_count": 251,
   "metadata": {},
   "outputs": [],
   "source": [
    "data = data.drop('NumberOfPictures', axis=1)"
   ]
  },
  {
   "cell_type": "markdown",
   "metadata": {},
   "source": [
    "**PostalCode**"
   ]
  },
  {
   "cell_type": "markdown",
   "metadata": {},
   "source": [
    "Почтовый индекс владельца анкеты (пользователя) может косвенно указывать на цену, поскольку в разных странах могут быть свои ценовые условия."
   ]
  },
  {
   "cell_type": "markdown",
   "metadata": {},
   "source": [
    "Минимальное значение - 1067, что соответвует одному из районов Амстердама (https://xn----ctbhccqqveaj8ad3e3ci.cybo.com/нидерланды/1067-ES_амстердам/). Максимальный индекс 99998 соответствует Тюрингии (Германия)."
   ]
  },
  {
   "cell_type": "markdown",
   "metadata": {},
   "source": [
    "Таким образом, признак PostalCode оставляем. Аномалий нет."
   ]
  },
  {
   "cell_type": "markdown",
   "metadata": {},
   "source": [
    "Вид датасета после обработки числовых признаков:"
   ]
  },
  {
   "cell_type": "code",
   "execution_count": 252,
   "metadata": {
    "scrolled": false
   },
   "outputs": [
    {
     "data": {
      "text/html": [
       "<div>\n",
       "<style scoped>\n",
       "    .dataframe tbody tr th:only-of-type {\n",
       "        vertical-align: middle;\n",
       "    }\n",
       "\n",
       "    .dataframe tbody tr th {\n",
       "        vertical-align: top;\n",
       "    }\n",
       "\n",
       "    .dataframe thead th {\n",
       "        text-align: right;\n",
       "    }\n",
       "</style>\n",
       "<table border=\"1\" class=\"dataframe\">\n",
       "  <thead>\n",
       "    <tr style=\"text-align: right;\">\n",
       "      <th></th>\n",
       "      <th>DateCrawled</th>\n",
       "      <th>Price</th>\n",
       "      <th>VehicleType</th>\n",
       "      <th>RegistrationYear</th>\n",
       "      <th>Gearbox</th>\n",
       "      <th>Power</th>\n",
       "      <th>Model</th>\n",
       "      <th>Kilometer</th>\n",
       "      <th>RegistrationMonth</th>\n",
       "      <th>FuelType</th>\n",
       "      <th>Brand</th>\n",
       "      <th>Repaired</th>\n",
       "      <th>DateCreated</th>\n",
       "      <th>PostalCode</th>\n",
       "      <th>LastSeen</th>\n",
       "    </tr>\n",
       "  </thead>\n",
       "  <tbody>\n",
       "    <tr>\n",
       "      <th>0</th>\n",
       "      <td>2016-03-24 11:52:17</td>\n",
       "      <td>480</td>\n",
       "      <td>NaN</td>\n",
       "      <td>1993</td>\n",
       "      <td>manual</td>\n",
       "      <td>NaN</td>\n",
       "      <td>golf</td>\n",
       "      <td>150000</td>\n",
       "      <td>0</td>\n",
       "      <td>petrol</td>\n",
       "      <td>volkswagen</td>\n",
       "      <td>NaN</td>\n",
       "      <td>2016-03-24 00:00:00</td>\n",
       "      <td>70435</td>\n",
       "      <td>2016-04-07 03:16:57</td>\n",
       "    </tr>\n",
       "    <tr>\n",
       "      <th>1</th>\n",
       "      <td>2016-03-24 10:58:45</td>\n",
       "      <td>18300</td>\n",
       "      <td>coupe</td>\n",
       "      <td>2011</td>\n",
       "      <td>manual</td>\n",
       "      <td>190.0</td>\n",
       "      <td>NaN</td>\n",
       "      <td>125000</td>\n",
       "      <td>5</td>\n",
       "      <td>gasoline</td>\n",
       "      <td>audi</td>\n",
       "      <td>yes</td>\n",
       "      <td>2016-03-24 00:00:00</td>\n",
       "      <td>66954</td>\n",
       "      <td>2016-04-07 01:46:50</td>\n",
       "    </tr>\n",
       "    <tr>\n",
       "      <th>2</th>\n",
       "      <td>2016-03-14 12:52:21</td>\n",
       "      <td>9800</td>\n",
       "      <td>suv</td>\n",
       "      <td>2004</td>\n",
       "      <td>auto</td>\n",
       "      <td>163.0</td>\n",
       "      <td>grand</td>\n",
       "      <td>125000</td>\n",
       "      <td>8</td>\n",
       "      <td>gasoline</td>\n",
       "      <td>jeep</td>\n",
       "      <td>NaN</td>\n",
       "      <td>2016-03-14 00:00:00</td>\n",
       "      <td>90480</td>\n",
       "      <td>2016-04-05 12:47:46</td>\n",
       "    </tr>\n",
       "    <tr>\n",
       "      <th>3</th>\n",
       "      <td>2016-03-17 16:54:04</td>\n",
       "      <td>1500</td>\n",
       "      <td>small</td>\n",
       "      <td>2001</td>\n",
       "      <td>manual</td>\n",
       "      <td>75.0</td>\n",
       "      <td>golf</td>\n",
       "      <td>150000</td>\n",
       "      <td>6</td>\n",
       "      <td>petrol</td>\n",
       "      <td>volkswagen</td>\n",
       "      <td>no</td>\n",
       "      <td>2016-03-17 00:00:00</td>\n",
       "      <td>91074</td>\n",
       "      <td>2016-03-17 17:40:17</td>\n",
       "    </tr>\n",
       "    <tr>\n",
       "      <th>4</th>\n",
       "      <td>2016-03-31 17:25:20</td>\n",
       "      <td>3600</td>\n",
       "      <td>small</td>\n",
       "      <td>2008</td>\n",
       "      <td>manual</td>\n",
       "      <td>69.0</td>\n",
       "      <td>fabia</td>\n",
       "      <td>90000</td>\n",
       "      <td>7</td>\n",
       "      <td>gasoline</td>\n",
       "      <td>skoda</td>\n",
       "      <td>no</td>\n",
       "      <td>2016-03-31 00:00:00</td>\n",
       "      <td>60437</td>\n",
       "      <td>2016-04-06 10:17:21</td>\n",
       "    </tr>\n",
       "    <tr>\n",
       "      <th>...</th>\n",
       "      <td>...</td>\n",
       "      <td>...</td>\n",
       "      <td>...</td>\n",
       "      <td>...</td>\n",
       "      <td>...</td>\n",
       "      <td>...</td>\n",
       "      <td>...</td>\n",
       "      <td>...</td>\n",
       "      <td>...</td>\n",
       "      <td>...</td>\n",
       "      <td>...</td>\n",
       "      <td>...</td>\n",
       "      <td>...</td>\n",
       "      <td>...</td>\n",
       "      <td>...</td>\n",
       "    </tr>\n",
       "    <tr>\n",
       "      <th>354363</th>\n",
       "      <td>2016-03-27 20:36:20</td>\n",
       "      <td>1150</td>\n",
       "      <td>bus</td>\n",
       "      <td>2000</td>\n",
       "      <td>manual</td>\n",
       "      <td>NaN</td>\n",
       "      <td>zafira</td>\n",
       "      <td>150000</td>\n",
       "      <td>3</td>\n",
       "      <td>petrol</td>\n",
       "      <td>opel</td>\n",
       "      <td>no</td>\n",
       "      <td>2016-03-27 00:00:00</td>\n",
       "      <td>26624</td>\n",
       "      <td>2016-03-29 10:17:23</td>\n",
       "    </tr>\n",
       "    <tr>\n",
       "      <th>354365</th>\n",
       "      <td>2016-03-14 17:48:27</td>\n",
       "      <td>2200</td>\n",
       "      <td>NaN</td>\n",
       "      <td>2005</td>\n",
       "      <td>NaN</td>\n",
       "      <td>NaN</td>\n",
       "      <td>NaN</td>\n",
       "      <td>20000</td>\n",
       "      <td>1</td>\n",
       "      <td>NaN</td>\n",
       "      <td>sonstige_autos</td>\n",
       "      <td>NaN</td>\n",
       "      <td>2016-03-14 00:00:00</td>\n",
       "      <td>39576</td>\n",
       "      <td>2016-04-06 00:46:52</td>\n",
       "    </tr>\n",
       "    <tr>\n",
       "      <th>354366</th>\n",
       "      <td>2016-03-05 19:56:21</td>\n",
       "      <td>1199</td>\n",
       "      <td>convertible</td>\n",
       "      <td>2000</td>\n",
       "      <td>auto</td>\n",
       "      <td>101.0</td>\n",
       "      <td>fortwo</td>\n",
       "      <td>125000</td>\n",
       "      <td>3</td>\n",
       "      <td>petrol</td>\n",
       "      <td>smart</td>\n",
       "      <td>no</td>\n",
       "      <td>2016-03-05 00:00:00</td>\n",
       "      <td>26135</td>\n",
       "      <td>2016-03-11 18:17:12</td>\n",
       "    </tr>\n",
       "    <tr>\n",
       "      <th>354367</th>\n",
       "      <td>2016-03-19 18:57:12</td>\n",
       "      <td>9200</td>\n",
       "      <td>bus</td>\n",
       "      <td>1996</td>\n",
       "      <td>manual</td>\n",
       "      <td>102.0</td>\n",
       "      <td>transporter</td>\n",
       "      <td>150000</td>\n",
       "      <td>3</td>\n",
       "      <td>gasoline</td>\n",
       "      <td>volkswagen</td>\n",
       "      <td>no</td>\n",
       "      <td>2016-03-19 00:00:00</td>\n",
       "      <td>87439</td>\n",
       "      <td>2016-04-07 07:15:26</td>\n",
       "    </tr>\n",
       "    <tr>\n",
       "      <th>354368</th>\n",
       "      <td>2016-03-20 19:41:08</td>\n",
       "      <td>3400</td>\n",
       "      <td>wagon</td>\n",
       "      <td>2002</td>\n",
       "      <td>manual</td>\n",
       "      <td>100.0</td>\n",
       "      <td>golf</td>\n",
       "      <td>150000</td>\n",
       "      <td>6</td>\n",
       "      <td>gasoline</td>\n",
       "      <td>volkswagen</td>\n",
       "      <td>NaN</td>\n",
       "      <td>2016-03-20 00:00:00</td>\n",
       "      <td>40764</td>\n",
       "      <td>2016-03-24 12:45:21</td>\n",
       "    </tr>\n",
       "  </tbody>\n",
       "</table>\n",
       "<p>330887 rows × 15 columns</p>\n",
       "</div>"
      ],
      "text/plain": [
       "                DateCrawled  Price  VehicleType  RegistrationYear Gearbox   \n",
       "0       2016-03-24 11:52:17    480          NaN              1993  manual  \\\n",
       "1       2016-03-24 10:58:45  18300        coupe              2011  manual   \n",
       "2       2016-03-14 12:52:21   9800          suv              2004    auto   \n",
       "3       2016-03-17 16:54:04   1500        small              2001  manual   \n",
       "4       2016-03-31 17:25:20   3600        small              2008  manual   \n",
       "...                     ...    ...          ...               ...     ...   \n",
       "354363  2016-03-27 20:36:20   1150          bus              2000  manual   \n",
       "354365  2016-03-14 17:48:27   2200          NaN              2005     NaN   \n",
       "354366  2016-03-05 19:56:21   1199  convertible              2000    auto   \n",
       "354367  2016-03-19 18:57:12   9200          bus              1996  manual   \n",
       "354368  2016-03-20 19:41:08   3400        wagon              2002  manual   \n",
       "\n",
       "        Power        Model  Kilometer  RegistrationMonth  FuelType   \n",
       "0         NaN         golf     150000                  0    petrol  \\\n",
       "1       190.0          NaN     125000                  5  gasoline   \n",
       "2       163.0        grand     125000                  8  gasoline   \n",
       "3        75.0         golf     150000                  6    petrol   \n",
       "4        69.0        fabia      90000                  7  gasoline   \n",
       "...       ...          ...        ...                ...       ...   \n",
       "354363    NaN       zafira     150000                  3    petrol   \n",
       "354365    NaN          NaN      20000                  1       NaN   \n",
       "354366  101.0       fortwo     125000                  3    petrol   \n",
       "354367  102.0  transporter     150000                  3  gasoline   \n",
       "354368  100.0         golf     150000                  6  gasoline   \n",
       "\n",
       "                 Brand Repaired          DateCreated  PostalCode   \n",
       "0           volkswagen      NaN  2016-03-24 00:00:00       70435  \\\n",
       "1                 audi      yes  2016-03-24 00:00:00       66954   \n",
       "2                 jeep      NaN  2016-03-14 00:00:00       90480   \n",
       "3           volkswagen       no  2016-03-17 00:00:00       91074   \n",
       "4                skoda       no  2016-03-31 00:00:00       60437   \n",
       "...                ...      ...                  ...         ...   \n",
       "354363            opel       no  2016-03-27 00:00:00       26624   \n",
       "354365  sonstige_autos      NaN  2016-03-14 00:00:00       39576   \n",
       "354366           smart       no  2016-03-05 00:00:00       26135   \n",
       "354367      volkswagen       no  2016-03-19 00:00:00       87439   \n",
       "354368      volkswagen      NaN  2016-03-20 00:00:00       40764   \n",
       "\n",
       "                   LastSeen  \n",
       "0       2016-04-07 03:16:57  \n",
       "1       2016-04-07 01:46:50  \n",
       "2       2016-04-05 12:47:46  \n",
       "3       2016-03-17 17:40:17  \n",
       "4       2016-04-06 10:17:21  \n",
       "...                     ...  \n",
       "354363  2016-03-29 10:17:23  \n",
       "354365  2016-04-06 00:46:52  \n",
       "354366  2016-03-11 18:17:12  \n",
       "354367  2016-04-07 07:15:26  \n",
       "354368  2016-03-24 12:45:21  \n",
       "\n",
       "[330887 rows x 15 columns]"
      ]
     },
     "execution_count": 252,
     "metadata": {},
     "output_type": "execute_result"
    }
   ],
   "source": [
    "data"
   ]
  },
  {
   "cell_type": "code",
   "execution_count": 253,
   "metadata": {},
   "outputs": [
    {
     "data": {
      "text/plain": [
       "<Axes: ylabel='Frequency'>"
      ]
     },
     "execution_count": 253,
     "metadata": {},
     "output_type": "execute_result"
    },
    {
     "data": {
      "image/png": "[encoded data removed]",
      "text/plain": [
       "<Figure size 640x480 with 1 Axes>"
      ]
     },
     "metadata": {},
     "output_type": "display_data"
    }
   ],
   "source": [
    "data['PostalCode'].plot(kind='hist', bins=100) # распределение индексов в пределах адекватных значений"
   ]
  },
  {
   "cell_type": "markdown",
   "metadata": {},
   "source": [
    "Обновим индексы после удаления аномалий:"
   ]
  },
  {
   "cell_type": "code",
   "execution_count": 254,
   "metadata": {},
   "outputs": [],
   "source": [
    "data = data.reset_index(drop=True)"
   ]
  },
  {
   "cell_type": "markdown",
   "metadata": {},
   "source": [
    "### Обработка нечисловых признаков"
   ]
  },
  {
   "cell_type": "markdown",
   "metadata": {},
   "source": [
    "Некоторые признаки являются неинформативными относительно предсказания цены авто:<br>**DateCrawled** (дата скачивания анкеты из базы) по дате идентичен признаку DateCreated (дата создания анкеты), за исключением времени.<br>\n",
    "**LastSeen** — дата последней активности пользователя<br>\n",
    "Удалим их:"
   ]
  },
  {
   "cell_type": "code",
   "execution_count": 255,
   "metadata": {},
   "outputs": [],
   "source": [
    "data = data.drop(['DateCrawled', 'LastSeen'], axis=1)"
   ]
  },
  {
   "cell_type": "code",
   "execution_count": 256,
   "metadata": {
    "scrolled": true
   },
   "outputs": [
    {
     "data": {
      "text/html": [
       "<div>\n",
       "<style scoped>\n",
       "    .dataframe tbody tr th:only-of-type {\n",
       "        vertical-align: middle;\n",
       "    }\n",
       "\n",
       "    .dataframe tbody tr th {\n",
       "        vertical-align: top;\n",
       "    }\n",
       "\n",
       "    .dataframe thead th {\n",
       "        text-align: right;\n",
       "    }\n",
       "</style>\n",
       "<table border=\"1\" class=\"dataframe\">\n",
       "  <thead>\n",
       "    <tr style=\"text-align: right;\">\n",
       "      <th></th>\n",
       "      <th>Price</th>\n",
       "      <th>VehicleType</th>\n",
       "      <th>RegistrationYear</th>\n",
       "      <th>Gearbox</th>\n",
       "      <th>Power</th>\n",
       "      <th>Model</th>\n",
       "      <th>Kilometer</th>\n",
       "      <th>RegistrationMonth</th>\n",
       "      <th>FuelType</th>\n",
       "      <th>Brand</th>\n",
       "      <th>Repaired</th>\n",
       "      <th>DateCreated</th>\n",
       "      <th>PostalCode</th>\n",
       "    </tr>\n",
       "  </thead>\n",
       "  <tbody>\n",
       "    <tr>\n",
       "      <th>0</th>\n",
       "      <td>480</td>\n",
       "      <td>NaN</td>\n",
       "      <td>1993</td>\n",
       "      <td>manual</td>\n",
       "      <td>NaN</td>\n",
       "      <td>golf</td>\n",
       "      <td>150000</td>\n",
       "      <td>0</td>\n",
       "      <td>petrol</td>\n",
       "      <td>volkswagen</td>\n",
       "      <td>NaN</td>\n",
       "      <td>2016-03-24 00:00:00</td>\n",
       "      <td>70435</td>\n",
       "    </tr>\n",
       "    <tr>\n",
       "      <th>1</th>\n",
       "      <td>18300</td>\n",
       "      <td>coupe</td>\n",
       "      <td>2011</td>\n",
       "      <td>manual</td>\n",
       "      <td>190.0</td>\n",
       "      <td>NaN</td>\n",
       "      <td>125000</td>\n",
       "      <td>5</td>\n",
       "      <td>gasoline</td>\n",
       "      <td>audi</td>\n",
       "      <td>yes</td>\n",
       "      <td>2016-03-24 00:00:00</td>\n",
       "      <td>66954</td>\n",
       "    </tr>\n",
       "    <tr>\n",
       "      <th>2</th>\n",
       "      <td>9800</td>\n",
       "      <td>suv</td>\n",
       "      <td>2004</td>\n",
       "      <td>auto</td>\n",
       "      <td>163.0</td>\n",
       "      <td>grand</td>\n",
       "      <td>125000</td>\n",
       "      <td>8</td>\n",
       "      <td>gasoline</td>\n",
       "      <td>jeep</td>\n",
       "      <td>NaN</td>\n",
       "      <td>2016-03-14 00:00:00</td>\n",
       "      <td>90480</td>\n",
       "    </tr>\n",
       "    <tr>\n",
       "      <th>3</th>\n",
       "      <td>1500</td>\n",
       "      <td>small</td>\n",
       "      <td>2001</td>\n",
       "      <td>manual</td>\n",
       "      <td>75.0</td>\n",
       "      <td>golf</td>\n",
       "      <td>150000</td>\n",
       "      <td>6</td>\n",
       "      <td>petrol</td>\n",
       "      <td>volkswagen</td>\n",
       "      <td>no</td>\n",
       "      <td>2016-03-17 00:00:00</td>\n",
       "      <td>91074</td>\n",
       "    </tr>\n",
       "    <tr>\n",
       "      <th>4</th>\n",
       "      <td>3600</td>\n",
       "      <td>small</td>\n",
       "      <td>2008</td>\n",
       "      <td>manual</td>\n",
       "      <td>69.0</td>\n",
       "      <td>fabia</td>\n",
       "      <td>90000</td>\n",
       "      <td>7</td>\n",
       "      <td>gasoline</td>\n",
       "      <td>skoda</td>\n",
       "      <td>no</td>\n",
       "      <td>2016-03-31 00:00:00</td>\n",
       "      <td>60437</td>\n",
       "    </tr>\n",
       "    <tr>\n",
       "      <th>...</th>\n",
       "      <td>...</td>\n",
       "      <td>...</td>\n",
       "      <td>...</td>\n",
       "      <td>...</td>\n",
       "      <td>...</td>\n",
       "      <td>...</td>\n",
       "      <td>...</td>\n",
       "      <td>...</td>\n",
       "      <td>...</td>\n",
       "      <td>...</td>\n",
       "      <td>...</td>\n",
       "      <td>...</td>\n",
       "      <td>...</td>\n",
       "    </tr>\n",
       "    <tr>\n",
       "      <th>330882</th>\n",
       "      <td>1150</td>\n",
       "      <td>bus</td>\n",
       "      <td>2000</td>\n",
       "      <td>manual</td>\n",
       "      <td>NaN</td>\n",
       "      <td>zafira</td>\n",
       "      <td>150000</td>\n",
       "      <td>3</td>\n",
       "      <td>petrol</td>\n",
       "      <td>opel</td>\n",
       "      <td>no</td>\n",
       "      <td>2016-03-27 00:00:00</td>\n",
       "      <td>26624</td>\n",
       "    </tr>\n",
       "    <tr>\n",
       "      <th>330883</th>\n",
       "      <td>2200</td>\n",
       "      <td>NaN</td>\n",
       "      <td>2005</td>\n",
       "      <td>NaN</td>\n",
       "      <td>NaN</td>\n",
       "      <td>NaN</td>\n",
       "      <td>20000</td>\n",
       "      <td>1</td>\n",
       "      <td>NaN</td>\n",
       "      <td>sonstige_autos</td>\n",
       "      <td>NaN</td>\n",
       "      <td>2016-03-14 00:00:00</td>\n",
       "      <td>39576</td>\n",
       "    </tr>\n",
       "    <tr>\n",
       "      <th>330884</th>\n",
       "      <td>1199</td>\n",
       "      <td>convertible</td>\n",
       "      <td>2000</td>\n",
       "      <td>auto</td>\n",
       "      <td>101.0</td>\n",
       "      <td>fortwo</td>\n",
       "      <td>125000</td>\n",
       "      <td>3</td>\n",
       "      <td>petrol</td>\n",
       "      <td>smart</td>\n",
       "      <td>no</td>\n",
       "      <td>2016-03-05 00:00:00</td>\n",
       "      <td>26135</td>\n",
       "    </tr>\n",
       "    <tr>\n",
       "      <th>330885</th>\n",
       "      <td>9200</td>\n",
       "      <td>bus</td>\n",
       "      <td>1996</td>\n",
       "      <td>manual</td>\n",
       "      <td>102.0</td>\n",
       "      <td>transporter</td>\n",
       "      <td>150000</td>\n",
       "      <td>3</td>\n",
       "      <td>gasoline</td>\n",
       "      <td>volkswagen</td>\n",
       "      <td>no</td>\n",
       "      <td>2016-03-19 00:00:00</td>\n",
       "      <td>87439</td>\n",
       "    </tr>\n",
       "    <tr>\n",
       "      <th>330886</th>\n",
       "      <td>3400</td>\n",
       "      <td>wagon</td>\n",
       "      <td>2002</td>\n",
       "      <td>manual</td>\n",
       "      <td>100.0</td>\n",
       "      <td>golf</td>\n",
       "      <td>150000</td>\n",
       "      <td>6</td>\n",
       "      <td>gasoline</td>\n",
       "      <td>volkswagen</td>\n",
       "      <td>NaN</td>\n",
       "      <td>2016-03-20 00:00:00</td>\n",
       "      <td>40764</td>\n",
       "    </tr>\n",
       "  </tbody>\n",
       "</table>\n",
       "<p>330887 rows × 13 columns</p>\n",
       "</div>"
      ],
      "text/plain": [
       "        Price  VehicleType  RegistrationYear Gearbox  Power        Model   \n",
       "0         480          NaN              1993  manual    NaN         golf  \\\n",
       "1       18300        coupe              2011  manual  190.0          NaN   \n",
       "2        9800          suv              2004    auto  163.0        grand   \n",
       "3        1500        small              2001  manual   75.0         golf   \n",
       "4        3600        small              2008  manual   69.0        fabia   \n",
       "...       ...          ...               ...     ...    ...          ...   \n",
       "330882   1150          bus              2000  manual    NaN       zafira   \n",
       "330883   2200          NaN              2005     NaN    NaN          NaN   \n",
       "330884   1199  convertible              2000    auto  101.0       fortwo   \n",
       "330885   9200          bus              1996  manual  102.0  transporter   \n",
       "330886   3400        wagon              2002  manual  100.0         golf   \n",
       "\n",
       "        Kilometer  RegistrationMonth  FuelType           Brand Repaired   \n",
       "0          150000                  0    petrol      volkswagen      NaN  \\\n",
       "1          125000                  5  gasoline            audi      yes   \n",
       "2          125000                  8  gasoline            jeep      NaN   \n",
       "3          150000                  6    petrol      volkswagen       no   \n",
       "4           90000                  7  gasoline           skoda       no   \n",
       "...           ...                ...       ...             ...      ...   \n",
       "330882     150000                  3    petrol            opel       no   \n",
       "330883      20000                  1       NaN  sonstige_autos      NaN   \n",
       "330884     125000                  3    petrol           smart       no   \n",
       "330885     150000                  3  gasoline      volkswagen       no   \n",
       "330886     150000                  6  gasoline      volkswagen      NaN   \n",
       "\n",
       "                DateCreated  PostalCode  \n",
       "0       2016-03-24 00:00:00       70435  \n",
       "1       2016-03-24 00:00:00       66954  \n",
       "2       2016-03-14 00:00:00       90480  \n",
       "3       2016-03-17 00:00:00       91074  \n",
       "4       2016-03-31 00:00:00       60437  \n",
       "...                     ...         ...  \n",
       "330882  2016-03-27 00:00:00       26624  \n",
       "330883  2016-03-14 00:00:00       39576  \n",
       "330884  2016-03-05 00:00:00       26135  \n",
       "330885  2016-03-19 00:00:00       87439  \n",
       "330886  2016-03-20 00:00:00       40764  \n",
       "\n",
       "[330887 rows x 13 columns]"
      ]
     },
     "execution_count": 256,
     "metadata": {},
     "output_type": "execute_result"
    }
   ],
   "source": [
    "data"
   ]
  },
  {
   "cell_type": "markdown",
   "metadata": {},
   "source": [
    "**DateCreated**"
   ]
  },
  {
   "cell_type": "markdown",
   "metadata": {},
   "source": [
    "Оценим уникальные значения признака DateCreated:"
   ]
  },
  {
   "cell_type": "code",
   "execution_count": 257,
   "metadata": {
    "scrolled": true
   },
   "outputs": [
    {
     "data": {
      "text/plain": [
       "array(['2016-03-24 00:00:00', '2016-03-14 00:00:00',\n",
       "       '2016-03-17 00:00:00', '2016-03-31 00:00:00',\n",
       "       '2016-04-04 00:00:00', '2016-04-01 00:00:00',\n",
       "       '2016-03-26 00:00:00', '2016-04-07 00:00:00',\n",
       "       '2016-03-15 00:00:00', '2016-03-21 00:00:00',\n",
       "       '2016-03-11 00:00:00', '2016-03-20 00:00:00',\n",
       "       '2016-03-23 00:00:00', '2016-03-27 00:00:00',\n",
       "       '2016-03-12 00:00:00', '2016-03-13 00:00:00',\n",
       "       '2016-03-18 00:00:00', '2016-03-10 00:00:00',\n",
       "       '2016-03-07 00:00:00', '2016-03-09 00:00:00',\n",
       "       '2016-03-08 00:00:00', '2016-04-03 00:00:00',\n",
       "       '2016-03-29 00:00:00', '2016-03-25 00:00:00',\n",
       "       '2016-03-28 00:00:00', '2016-03-30 00:00:00',\n",
       "       '2016-03-22 00:00:00', '2016-02-09 00:00:00',\n",
       "       '2016-03-05 00:00:00', '2016-04-02 00:00:00',\n",
       "       '2016-03-16 00:00:00', '2016-04-05 00:00:00',\n",
       "       '2016-03-19 00:00:00', '2016-02-12 00:00:00',\n",
       "       '2016-03-06 00:00:00', '2016-03-03 00:00:00',\n",
       "       '2016-03-01 00:00:00', '2016-03-04 00:00:00',\n",
       "       '2016-04-06 00:00:00', '2016-02-15 00:00:00',\n",
       "       '2016-02-24 00:00:00', '2016-02-27 00:00:00',\n",
       "       '2015-03-20 00:00:00', '2016-02-28 00:00:00',\n",
       "       '2016-02-17 00:00:00', '2016-01-27 00:00:00',\n",
       "       '2016-02-20 00:00:00', '2016-02-29 00:00:00',\n",
       "       '2016-02-10 00:00:00', '2016-02-23 00:00:00',\n",
       "       '2016-02-21 00:00:00', '2015-11-02 00:00:00',\n",
       "       '2016-02-19 00:00:00', '2016-02-26 00:00:00',\n",
       "       '2016-02-11 00:00:00', '2016-01-10 00:00:00',\n",
       "       '2016-02-06 00:00:00', '2016-02-18 00:00:00',\n",
       "       '2016-01-29 00:00:00', '2016-03-02 00:00:00',\n",
       "       '2015-12-06 00:00:00', '2016-01-24 00:00:00',\n",
       "       '2016-01-30 00:00:00', '2016-02-02 00:00:00',\n",
       "       '2016-02-16 00:00:00', '2016-02-13 00:00:00',\n",
       "       '2016-02-05 00:00:00', '2016-02-22 00:00:00',\n",
       "       '2015-11-17 00:00:00', '2014-03-10 00:00:00',\n",
       "       '2016-02-07 00:00:00', '2016-01-23 00:00:00',\n",
       "       '2016-02-25 00:00:00', '2016-02-14 00:00:00',\n",
       "       '2016-01-02 00:00:00', '2015-09-04 00:00:00',\n",
       "       '2015-11-12 00:00:00', '2015-12-27 00:00:00',\n",
       "       '2015-11-24 00:00:00', '2016-01-20 00:00:00',\n",
       "       '2016-02-03 00:00:00', '2015-12-05 00:00:00',\n",
       "       '2015-08-07 00:00:00', '2016-01-28 00:00:00',\n",
       "       '2016-01-31 00:00:00', '2016-02-08 00:00:00',\n",
       "       '2016-01-07 00:00:00', '2016-01-22 00:00:00',\n",
       "       '2016-01-18 00:00:00', '2016-01-08 00:00:00',\n",
       "       '2015-11-23 00:00:00', '2016-01-13 00:00:00',\n",
       "       '2016-01-17 00:00:00', '2016-01-15 00:00:00',\n",
       "       '2015-11-08 00:00:00', '2016-01-26 00:00:00',\n",
       "       '2016-02-04 00:00:00', '2016-01-25 00:00:00',\n",
       "       '2016-01-16 00:00:00', '2015-08-10 00:00:00',\n",
       "       '2016-01-03 00:00:00', '2016-01-19 00:00:00',\n",
       "       '2015-12-30 00:00:00', '2016-02-01 00:00:00',\n",
       "       '2015-12-17 00:00:00', '2015-11-10 00:00:00',\n",
       "       '2016-01-06 00:00:00', '2015-09-09 00:00:00',\n",
       "       '2015-06-18 00:00:00'], dtype=object)"
      ]
     },
     "execution_count": 257,
     "metadata": {},
     "output_type": "execute_result"
    }
   ],
   "source": [
    "data['DateCreated'].unique()"
   ]
  },
  {
   "cell_type": "code",
   "execution_count": 258,
   "metadata": {},
   "outputs": [
    {
     "data": {
      "text/plain": [
       "'2016-04-07 00:00:00'"
      ]
     },
     "execution_count": 258,
     "metadata": {},
     "output_type": "execute_result"
    }
   ],
   "source": [
    "data['DateCreated'].max()"
   ]
  },
  {
   "cell_type": "code",
   "execution_count": 259,
   "metadata": {},
   "outputs": [
    {
     "data": {
      "text/plain": [
       "'2014-03-10 00:00:00'"
      ]
     },
     "execution_count": 259,
     "metadata": {},
     "output_type": "execute_result"
    }
   ],
   "source": [
    "data['DateCreated'].min()"
   ]
  },
  {
   "cell_type": "markdown",
   "metadata": {},
   "source": [
    "В базе представлены анкеты с 2014 по 2016 гг. На цену может влиять как сезонная составляющая (в зависимости от времени года, так и общий тренд на изменение цены в течение 2 лет), поэтому данный признак удалять не будем."
   ]
  },
  {
   "cell_type": "markdown",
   "metadata": {},
   "source": [
    "Заменим признак DateCreated на признаки year и month:"
   ]
  },
  {
   "cell_type": "code",
   "execution_count": 260,
   "metadata": {},
   "outputs": [
    {
     "data": {
      "text/html": [
       "<div>\n",
       "<style scoped>\n",
       "    .dataframe tbody tr th:only-of-type {\n",
       "        vertical-align: middle;\n",
       "    }\n",
       "\n",
       "    .dataframe tbody tr th {\n",
       "        vertical-align: top;\n",
       "    }\n",
       "\n",
       "    .dataframe thead th {\n",
       "        text-align: right;\n",
       "    }\n",
       "</style>\n",
       "<table border=\"1\" class=\"dataframe\">\n",
       "  <thead>\n",
       "    <tr style=\"text-align: right;\">\n",
       "      <th></th>\n",
       "      <th>Price</th>\n",
       "      <th>VehicleType</th>\n",
       "      <th>RegistrationYear</th>\n",
       "      <th>Gearbox</th>\n",
       "      <th>Power</th>\n",
       "      <th>Model</th>\n",
       "      <th>Kilometer</th>\n",
       "      <th>RegistrationMonth</th>\n",
       "      <th>FuelType</th>\n",
       "      <th>Brand</th>\n",
       "      <th>Repaired</th>\n",
       "      <th>PostalCode</th>\n",
       "      <th>year</th>\n",
       "      <th>month</th>\n",
       "    </tr>\n",
       "  </thead>\n",
       "  <tbody>\n",
       "    <tr>\n",
       "      <th>0</th>\n",
       "      <td>480</td>\n",
       "      <td>NaN</td>\n",
       "      <td>1993</td>\n",
       "      <td>manual</td>\n",
       "      <td>NaN</td>\n",
       "      <td>golf</td>\n",
       "      <td>150000</td>\n",
       "      <td>0</td>\n",
       "      <td>petrol</td>\n",
       "      <td>volkswagen</td>\n",
       "      <td>NaN</td>\n",
       "      <td>70435</td>\n",
       "      <td>2016</td>\n",
       "      <td>3</td>\n",
       "    </tr>\n",
       "    <tr>\n",
       "      <th>1</th>\n",
       "      <td>18300</td>\n",
       "      <td>coupe</td>\n",
       "      <td>2011</td>\n",
       "      <td>manual</td>\n",
       "      <td>190.0</td>\n",
       "      <td>NaN</td>\n",
       "      <td>125000</td>\n",
       "      <td>5</td>\n",
       "      <td>gasoline</td>\n",
       "      <td>audi</td>\n",
       "      <td>yes</td>\n",
       "      <td>66954</td>\n",
       "      <td>2016</td>\n",
       "      <td>3</td>\n",
       "    </tr>\n",
       "    <tr>\n",
       "      <th>2</th>\n",
       "      <td>9800</td>\n",
       "      <td>suv</td>\n",
       "      <td>2004</td>\n",
       "      <td>auto</td>\n",
       "      <td>163.0</td>\n",
       "      <td>grand</td>\n",
       "      <td>125000</td>\n",
       "      <td>8</td>\n",
       "      <td>gasoline</td>\n",
       "      <td>jeep</td>\n",
       "      <td>NaN</td>\n",
       "      <td>90480</td>\n",
       "      <td>2016</td>\n",
       "      <td>3</td>\n",
       "    </tr>\n",
       "    <tr>\n",
       "      <th>3</th>\n",
       "      <td>1500</td>\n",
       "      <td>small</td>\n",
       "      <td>2001</td>\n",
       "      <td>manual</td>\n",
       "      <td>75.0</td>\n",
       "      <td>golf</td>\n",
       "      <td>150000</td>\n",
       "      <td>6</td>\n",
       "      <td>petrol</td>\n",
       "      <td>volkswagen</td>\n",
       "      <td>no</td>\n",
       "      <td>91074</td>\n",
       "      <td>2016</td>\n",
       "      <td>3</td>\n",
       "    </tr>\n",
       "    <tr>\n",
       "      <th>4</th>\n",
       "      <td>3600</td>\n",
       "      <td>small</td>\n",
       "      <td>2008</td>\n",
       "      <td>manual</td>\n",
       "      <td>69.0</td>\n",
       "      <td>fabia</td>\n",
       "      <td>90000</td>\n",
       "      <td>7</td>\n",
       "      <td>gasoline</td>\n",
       "      <td>skoda</td>\n",
       "      <td>no</td>\n",
       "      <td>60437</td>\n",
       "      <td>2016</td>\n",
       "      <td>3</td>\n",
       "    </tr>\n",
       "    <tr>\n",
       "      <th>...</th>\n",
       "      <td>...</td>\n",
       "      <td>...</td>\n",
       "      <td>...</td>\n",
       "      <td>...</td>\n",
       "      <td>...</td>\n",
       "      <td>...</td>\n",
       "      <td>...</td>\n",
       "      <td>...</td>\n",
       "      <td>...</td>\n",
       "      <td>...</td>\n",
       "      <td>...</td>\n",
       "      <td>...</td>\n",
       "      <td>...</td>\n",
       "      <td>...</td>\n",
       "    </tr>\n",
       "    <tr>\n",
       "      <th>330882</th>\n",
       "      <td>1150</td>\n",
       "      <td>bus</td>\n",
       "      <td>2000</td>\n",
       "      <td>manual</td>\n",
       "      <td>NaN</td>\n",
       "      <td>zafira</td>\n",
       "      <td>150000</td>\n",
       "      <td>3</td>\n",
       "      <td>petrol</td>\n",
       "      <td>opel</td>\n",
       "      <td>no</td>\n",
       "      <td>26624</td>\n",
       "      <td>2016</td>\n",
       "      <td>3</td>\n",
       "    </tr>\n",
       "    <tr>\n",
       "      <th>330883</th>\n",
       "      <td>2200</td>\n",
       "      <td>NaN</td>\n",
       "      <td>2005</td>\n",
       "      <td>NaN</td>\n",
       "      <td>NaN</td>\n",
       "      <td>NaN</td>\n",
       "      <td>20000</td>\n",
       "      <td>1</td>\n",
       "      <td>NaN</td>\n",
       "      <td>sonstige_autos</td>\n",
       "      <td>NaN</td>\n",
       "      <td>39576</td>\n",
       "      <td>2016</td>\n",
       "      <td>3</td>\n",
       "    </tr>\n",
       "    <tr>\n",
       "      <th>330884</th>\n",
       "      <td>1199</td>\n",
       "      <td>convertible</td>\n",
       "      <td>2000</td>\n",
       "      <td>auto</td>\n",
       "      <td>101.0</td>\n",
       "      <td>fortwo</td>\n",
       "      <td>125000</td>\n",
       "      <td>3</td>\n",
       "      <td>petrol</td>\n",
       "      <td>smart</td>\n",
       "      <td>no</td>\n",
       "      <td>26135</td>\n",
       "      <td>2016</td>\n",
       "      <td>3</td>\n",
       "    </tr>\n",
       "    <tr>\n",
       "      <th>330885</th>\n",
       "      <td>9200</td>\n",
       "      <td>bus</td>\n",
       "      <td>1996</td>\n",
       "      <td>manual</td>\n",
       "      <td>102.0</td>\n",
       "      <td>transporter</td>\n",
       "      <td>150000</td>\n",
       "      <td>3</td>\n",
       "      <td>gasoline</td>\n",
       "      <td>volkswagen</td>\n",
       "      <td>no</td>\n",
       "      <td>87439</td>\n",
       "      <td>2016</td>\n",
       "      <td>3</td>\n",
       "    </tr>\n",
       "    <tr>\n",
       "      <th>330886</th>\n",
       "      <td>3400</td>\n",
       "      <td>wagon</td>\n",
       "      <td>2002</td>\n",
       "      <td>manual</td>\n",
       "      <td>100.0</td>\n",
       "      <td>golf</td>\n",
       "      <td>150000</td>\n",
       "      <td>6</td>\n",
       "      <td>gasoline</td>\n",
       "      <td>volkswagen</td>\n",
       "      <td>NaN</td>\n",
       "      <td>40764</td>\n",
       "      <td>2016</td>\n",
       "      <td>3</td>\n",
       "    </tr>\n",
       "  </tbody>\n",
       "</table>\n",
       "<p>330887 rows × 14 columns</p>\n",
       "</div>"
      ],
      "text/plain": [
       "        Price  VehicleType  RegistrationYear Gearbox  Power        Model   \n",
       "0         480          NaN              1993  manual    NaN         golf  \\\n",
       "1       18300        coupe              2011  manual  190.0          NaN   \n",
       "2        9800          suv              2004    auto  163.0        grand   \n",
       "3        1500        small              2001  manual   75.0         golf   \n",
       "4        3600        small              2008  manual   69.0        fabia   \n",
       "...       ...          ...               ...     ...    ...          ...   \n",
       "330882   1150          bus              2000  manual    NaN       zafira   \n",
       "330883   2200          NaN              2005     NaN    NaN          NaN   \n",
       "330884   1199  convertible              2000    auto  101.0       fortwo   \n",
       "330885   9200          bus              1996  manual  102.0  transporter   \n",
       "330886   3400        wagon              2002  manual  100.0         golf   \n",
       "\n",
       "        Kilometer  RegistrationMonth  FuelType           Brand Repaired   \n",
       "0          150000                  0    petrol      volkswagen      NaN  \\\n",
       "1          125000                  5  gasoline            audi      yes   \n",
       "2          125000                  8  gasoline            jeep      NaN   \n",
       "3          150000                  6    petrol      volkswagen       no   \n",
       "4           90000                  7  gasoline           skoda       no   \n",
       "...           ...                ...       ...             ...      ...   \n",
       "330882     150000                  3    petrol            opel       no   \n",
       "330883      20000                  1       NaN  sonstige_autos      NaN   \n",
       "330884     125000                  3    petrol           smart       no   \n",
       "330885     150000                  3  gasoline      volkswagen       no   \n",
       "330886     150000                  6  gasoline      volkswagen      NaN   \n",
       "\n",
       "        PostalCode  year  month  \n",
       "0            70435  2016      3  \n",
       "1            66954  2016      3  \n",
       "2            90480  2016      3  \n",
       "3            91074  2016      3  \n",
       "4            60437  2016      3  \n",
       "...            ...   ...    ...  \n",
       "330882       26624  2016      3  \n",
       "330883       39576  2016      3  \n",
       "330884       26135  2016      3  \n",
       "330885       87439  2016      3  \n",
       "330886       40764  2016      3  \n",
       "\n",
       "[330887 rows x 14 columns]"
      ]
     },
     "execution_count": 260,
     "metadata": {},
     "output_type": "execute_result"
    }
   ],
   "source": [
    "data['year'] = pd.DatetimeIndex(data['DateCreated']).year\n",
    "data['month'] = pd.DatetimeIndex(data['DateCreated']).month\n",
    "data = data.drop('DateCreated', axis=1)\n",
    "data"
   ]
  },
  {
   "cell_type": "markdown",
   "metadata": {},
   "source": [
    "**VehicleType**"
   ]
  },
  {
   "cell_type": "markdown",
   "metadata": {},
   "source": [
    "Оценим уникальные значения признака VehicleType:"
   ]
  },
  {
   "cell_type": "code",
   "execution_count": 261,
   "metadata": {},
   "outputs": [
    {
     "data": {
      "text/plain": [
       "array([nan, 'coupe', 'suv', 'small', 'sedan', 'convertible', 'bus',\n",
       "       'wagon', 'other'], dtype=object)"
      ]
     },
     "execution_count": 261,
     "metadata": {},
     "output_type": "execute_result"
    }
   ],
   "source": [
    "data['VehicleType'].unique()"
   ]
  },
  {
   "cell_type": "markdown",
   "metadata": {},
   "source": [
    "Все названия адекватные (https://engineeringlearn.com/top-9-types-of-cars-with-pictures-names-complete-details/), но есть пропуски и категория other."
   ]
  },
  {
   "cell_type": "markdown",
   "metadata": {},
   "source": [
    "**Gearbox**"
   ]
  },
  {
   "cell_type": "markdown",
   "metadata": {},
   "source": [
    "Оценим уникальные значения признака Gearbox:"
   ]
  },
  {
   "cell_type": "code",
   "execution_count": 262,
   "metadata": {},
   "outputs": [
    {
     "data": {
      "text/plain": [
       "array(['manual', 'auto', nan], dtype=object)"
      ]
     },
     "execution_count": 262,
     "metadata": {},
     "output_type": "execute_result"
    }
   ],
   "source": [
    "data['Gearbox'].unique()"
   ]
  },
  {
   "cell_type": "markdown",
   "metadata": {},
   "source": [
    "Все значения объектов адекватные, но есть пропуски."
   ]
  },
  {
   "cell_type": "markdown",
   "metadata": {},
   "source": [
    "**Model**"
   ]
  },
  {
   "cell_type": "markdown",
   "metadata": {},
   "source": [
    "Оценим уникальные значения признака Model:"
   ]
  },
  {
   "cell_type": "code",
   "execution_count": 263,
   "metadata": {
    "scrolled": true
   },
   "outputs": [
    {
     "data": {
      "text/plain": [
       "array(['golf', nan, 'grand', 'fabia', '3er', '2_reihe', 'c_max',\n",
       "       '3_reihe', 'passat', 'navara', 'ka', 'polo', 'twingo', 'a_klasse',\n",
       "       'scirocco', '5er', 'meriva', 'arosa', 'other', 'c4', 'civic',\n",
       "       'transporter', 'punto', 'e_klasse', 'clio', 'kadett', 'kangoo',\n",
       "       'one', 'fortwo', '1er', 'b_klasse', 'signum', 'astra', 'a8',\n",
       "       'jetta', 'fiesta', 'c_klasse', 'micra', 'vito', 'sprinter',\n",
       "       'escort', 'forester', 'xc_reihe', 'scenic', 'a4', 'a1', 'insignia',\n",
       "       'combo', 'focus', 'tt', 'corsa', 'a6', 'jazz', 'omega', 'slk',\n",
       "       '7er', '80', '147', 'z_reihe', 'sportage', 'sorento', 'v40',\n",
       "       'ibiza', 'mustang', 'eos', 'touran', 'getz', 'a3', 'almera',\n",
       "       'megane', 'lupo', 'r19', 'zafira', 'caddy', 'mondeo', 'cordoba',\n",
       "       'colt', 'impreza', 'vectra', 'berlingo', 'tiguan', 'i_reihe',\n",
       "       'espace', 'sharan', '6_reihe', 'panda', 'up', 'seicento', 'ceed',\n",
       "       '5_reihe', 'yeti', 'octavia', 'mii', 'rx_reihe', '6er', 'modus',\n",
       "       'fox', 'matiz', 'beetle', 'c1', 'rio', 'touareg', 'logan',\n",
       "       'spider', 'cuore', 's_max', 'a2', 'galaxy', 'c3', 'viano',\n",
       "       's_klasse', '1_reihe', 'avensis', 'roomster', 'sl', 'kaefer',\n",
       "       'santa', 'cooper', 'leon', '4_reihe', 'a5', '500', 'laguna',\n",
       "       'ptcruiser', 'clk', 'primera', 'x_reihe', 'exeo', '159', 'transit',\n",
       "       'juke', 'qashqai', 'carisma', 'accord', 'corolla', 'lanos',\n",
       "       'phaeton', 'verso', 'swift', 'rav', 'picanto', 'boxster', 'kalos',\n",
       "       'superb', 'stilo', 'alhambra', 'roadster', 'ypsilon', 'galant',\n",
       "       'justy', '90', 'sirion', 'crossfire', 'agila', 'duster',\n",
       "       'cr_reihe', 'v50', 'mx_reihe', 'c_reihe', 'v_klasse', 'm_klasse',\n",
       "       'yaris', 'c5', 'aygo', 'cc', 'carnival', 'fusion', '911', 'bora',\n",
       "       'forfour', '100', 'cl', 'tigra', '156', '300c', 'spark', 'v70',\n",
       "       'kuga', 'x_type', 'ducato', 's_type', 'x_trail', 'toledo', 'altea',\n",
       "       'voyager', 'bravo', 'antara', 'tucson', 'citigo', 'jimny',\n",
       "       'cayenne', 'wrangler', 'lybra', 'q7', 'lancer', 'captiva', 'c2',\n",
       "       'discovery', 'freelander', 'sandero', 'note', '900', 'cherokee',\n",
       "       'clubman', 'defender', '601', 'cx_reihe', 'legacy', 'pajero',\n",
       "       'auris', 'niva', 's60', 'm_reihe', 'nubira', 'vivaro', 'g_klasse',\n",
       "       'lodgy', '850', 'range_rover', 'q3', 'serie_2', 'calibra', 'glk',\n",
       "       'charade', 'croma', 'outlander', 'doblo', 'musa', 'move', '9000',\n",
       "       'v60', 'aveo', '200', '145', 'b_max', 'range_rover_sport',\n",
       "       'terios', 'rangerover', 'q5', 'range_rover_evoque', 'materia',\n",
       "       'delta', 'gl', 'kalina', 'samara', 'amarok', 'elefantino', 'i3',\n",
       "       'kappa', 'serie_3', 'serie_1'], dtype=object)"
      ]
     },
     "execution_count": 263,
     "metadata": {},
     "output_type": "execute_result"
    }
   ],
   "source": [
    "data['Model'].unique()"
   ]
  },
  {
   "cell_type": "code",
   "execution_count": 264,
   "metadata": {},
   "outputs": [
    {
     "data": {
      "text/plain": [
       "Model\n",
       "gl                    12\n",
       "kalina                 9\n",
       "serie_2                8\n",
       "samara                 7\n",
       "i3                     7\n",
       "elefantino             6\n",
       "rangerover             4\n",
       "serie_3                3\n",
       "range_rover_evoque     2\n",
       "serie_1                1\n",
       "Name: count, dtype: int64"
      ]
     },
     "execution_count": 264,
     "metadata": {},
     "output_type": "execute_result"
    }
   ],
   "source": [
    "data['Model'].value_counts().tail(10)"
   ]
  },
  {
   "cell_type": "markdown",
   "metadata": {},
   "source": [
    "Все значения объектов адекватные, но есть пропуски."
   ]
  },
  {
   "cell_type": "markdown",
   "metadata": {},
   "source": [
    "Удалим редкое значение \"serie_1\" в признаке Model для возможности дальнейшего преобразования категориальных признаков."
   ]
  },
  {
   "cell_type": "code",
   "execution_count": 265,
   "metadata": {},
   "outputs": [],
   "source": [
    "data = data.query('Model!=\"serie_1\"') "
   ]
  },
  {
   "cell_type": "markdown",
   "metadata": {},
   "source": [
    "**FuelType**"
   ]
  },
  {
   "cell_type": "markdown",
   "metadata": {},
   "source": [
    "Оценим уникальные значения признака FuelType:"
   ]
  },
  {
   "cell_type": "code",
   "execution_count": 266,
   "metadata": {},
   "outputs": [
    {
     "data": {
      "text/plain": [
       "array(['petrol', 'gasoline', nan, 'lpg', 'other', 'hybrid', 'cng',\n",
       "       'electric'], dtype=object)"
      ]
     },
     "execution_count": 266,
     "metadata": {},
     "output_type": "execute_result"
    }
   ],
   "source": [
    "data['FuelType'].unique()"
   ]
  },
  {
   "cell_type": "markdown",
   "metadata": {},
   "source": [
    "Все значения объектов адекватные, но есть пропуски и значение other."
   ]
  },
  {
   "cell_type": "markdown",
   "metadata": {},
   "source": [
    "**Brand**"
   ]
  },
  {
   "cell_type": "markdown",
   "metadata": {},
   "source": [
    "Оценим уникальные значения признака Brand:"
   ]
  },
  {
   "cell_type": "code",
   "execution_count": 267,
   "metadata": {},
   "outputs": [
    {
     "data": {
      "text/plain": [
       "array(['volkswagen', 'audi', 'jeep', 'skoda', 'bmw', 'peugeot', 'ford',\n",
       "       'mazda', 'nissan', 'renault', 'mercedes_benz', 'opel', 'seat',\n",
       "       'citroen', 'honda', 'fiat', 'mini', 'smart', 'hyundai', 'subaru',\n",
       "       'volvo', 'mitsubishi', 'alfa_romeo', 'kia', 'suzuki', 'lancia',\n",
       "       'toyota', 'chevrolet', 'dacia', 'sonstige_autos', 'daihatsu',\n",
       "       'chrysler', 'jaguar', 'daewoo', 'rover', 'porsche', 'saab',\n",
       "       'trabant', 'land_rover', 'lada'], dtype=object)"
      ]
     },
     "execution_count": 267,
     "metadata": {},
     "output_type": "execute_result"
    }
   ],
   "source": [
    "data['Brand'].unique()"
   ]
  },
  {
   "cell_type": "markdown",
   "metadata": {},
   "source": [
    "Все значения объектов адекватные."
   ]
  },
  {
   "cell_type": "markdown",
   "metadata": {},
   "source": [
    "Так как модель однозначно определяет бренд, то этот признак в приципе неинформативен, но поскольку в признаке Model есть пропуски, то признак Brand оставим для заполнения пропусков в признаке Model."
   ]
  },
  {
   "cell_type": "markdown",
   "metadata": {},
   "source": [
    "**Repaired**"
   ]
  },
  {
   "cell_type": "markdown",
   "metadata": {},
   "source": [
    "Оценим уникальные значения признака Repaired:"
   ]
  },
  {
   "cell_type": "code",
   "execution_count": 268,
   "metadata": {},
   "outputs": [
    {
     "data": {
      "text/plain": [
       "array([nan, 'yes', 'no'], dtype=object)"
      ]
     },
     "execution_count": 268,
     "metadata": {},
     "output_type": "execute_result"
    }
   ],
   "source": [
    "data['Repaired'].unique()"
   ]
  },
  {
   "cell_type": "markdown",
   "metadata": {},
   "source": [
    "Все значения объектов адекватные, но есть пропуски."
   ]
  },
  {
   "cell_type": "markdown",
   "metadata": {},
   "source": [
    "Пропуски всех нечисловых признаков заполнить достоверными значениями нельзя, поскольку нет дополнительной информации. Например, тип кузова авто невозможно определить только по модели и марке, а других данных, уточняющих информацию нет:"
   ]
  },
  {
   "cell_type": "code",
   "execution_count": 269,
   "metadata": {
    "scrolled": true
   },
   "outputs": [
    {
     "data": {
      "text/plain": [
       "Brand       Model     VehicleType\n",
       "alfa_romeo  145       coupe           2\n",
       "                      other           1\n",
       "                      sedan          10\n",
       "                      small          15\n",
       "                      NaN             7\n",
       "                                     ..\n",
       "volvo       xc_reihe  wagon          41\n",
       "                      NaN             6\n",
       "            NaN       sedan          21\n",
       "                      wagon          42\n",
       "                      NaN            26\n",
       "Name: Price, Length: 1951, dtype: int64"
      ]
     },
     "execution_count": 269,
     "metadata": {},
     "output_type": "execute_result"
    }
   ],
   "source": [
    "data.groupby(by=['Brand', 'Model', 'VehicleType'], dropna=False)['Price'].count()"
   ]
  },
  {
   "cell_type": "markdown",
   "metadata": {},
   "source": [
    " То же самое относится к виду топлива, модели, типу коробки передач и факту наличия ремонта."
   ]
  },
  {
   "cell_type": "markdown",
   "metadata": {},
   "source": [
    "Мы лишь можем заполнить пропуски примерными значениями, например, медианным или методом ближайших соседей. Выберем последний. Но перед заполнением сначала разделим данные на выборки и осуществим OHE-преобразование категориальных признаков."
   ]
  },
  {
   "cell_type": "markdown",
   "metadata": {},
   "source": [
    "### Разделение данных на выборки"
   ]
  },
  {
   "cell_type": "markdown",
   "metadata": {},
   "source": [
    "Сначала разделим датафрейм на столбцы с целевым признаком - 'Price' и столбцы с остальными признаками:"
   ]
  },
  {
   "cell_type": "code",
   "execution_count": 270,
   "metadata": {},
   "outputs": [],
   "source": [
    "features = data.drop('Price', axis=1)\n",
    "target = data['Price']"
   ]
  },
  {
   "cell_type": "markdown",
   "metadata": {},
   "source": [
    "Разделим полученные массивы на обучающую, валидационную и тестовую выборки в соотношении 3:1:1. "
   ]
  },
  {
   "cell_type": "markdown",
   "metadata": {},
   "source": [
    "Сначала выделим тестовую выборку:"
   ]
  },
  {
   "cell_type": "code",
   "execution_count": 271,
   "metadata": {},
   "outputs": [],
   "source": [
    "features_train, features_test, target_train, target_test = train_test_split(\n",
    "    features, target, test_size=0.2, random_state=12345)"
   ]
  },
  {
   "cell_type": "markdown",
   "metadata": {},
   "source": [
    "Чтобы сохранить соотношение 3:1:1 для получения валидационной выборки надо взять одну четвертую часть от тренировочной выборки выше:"
   ]
  },
  {
   "cell_type": "code",
   "execution_count": 272,
   "metadata": {},
   "outputs": [],
   "source": [
    "features_train, features_valid, target_train, target_valid = train_test_split(\n",
    "    features_train, target_train, test_size=0.25, random_state=12345)"
   ]
  },
  {
   "cell_type": "code",
   "execution_count": 273,
   "metadata": {},
   "outputs": [
    {
     "data": {
      "text/plain": [
       "4711.843429993301"
      ]
     },
     "execution_count": 273,
     "metadata": {},
     "output_type": "execute_result"
    }
   ],
   "source": [
    "target_train.mean()"
   ]
  },
  {
   "cell_type": "code",
   "execution_count": 274,
   "metadata": {},
   "outputs": [
    {
     "data": {
      "text/plain": [
       "4732.227828399595"
      ]
     },
     "execution_count": 274,
     "metadata": {},
     "output_type": "execute_result"
    }
   ],
   "source": [
    "target_valid.mean()"
   ]
  },
  {
   "cell_type": "code",
   "execution_count": 275,
   "metadata": {},
   "outputs": [
    {
     "data": {
      "text/plain": [
       "4734.385807972438"
      ]
     },
     "execution_count": 275,
     "metadata": {},
     "output_type": "execute_result"
    }
   ],
   "source": [
    "target_test.mean()"
   ]
  },
  {
   "cell_type": "markdown",
   "metadata": {},
   "source": [
    "Доли классов целевого признака примерно одинаковы, поэтому параметр stratify не задействуем."
   ]
  },
  {
   "cell_type": "markdown",
   "metadata": {},
   "source": [
    "Размеры выборок:"
   ]
  },
  {
   "cell_type": "code",
   "execution_count": 276,
   "metadata": {},
   "outputs": [
    {
     "data": {
      "text/plain": [
       "66178"
      ]
     },
     "execution_count": 276,
     "metadata": {},
     "output_type": "execute_result"
    }
   ],
   "source": [
    "features_test.shape[0] #тестовая выборка"
   ]
  },
  {
   "cell_type": "code",
   "execution_count": 277,
   "metadata": {},
   "outputs": [
    {
     "data": {
      "text/plain": [
       "198531"
      ]
     },
     "execution_count": 277,
     "metadata": {},
     "output_type": "execute_result"
    }
   ],
   "source": [
    "features_train.shape[0] #тренировочная выборка"
   ]
  },
  {
   "cell_type": "code",
   "execution_count": 278,
   "metadata": {},
   "outputs": [
    {
     "data": {
      "text/plain": [
       "66177"
      ]
     },
     "execution_count": 278,
     "metadata": {},
     "output_type": "execute_result"
    }
   ],
   "source": [
    "features_valid.shape[0] #валидационная выборка"
   ]
  },
  {
   "cell_type": "markdown",
   "metadata": {},
   "source": [
    "### OE-преобразование категориальных признаков"
   ]
  },
  {
   "cell_type": "markdown",
   "metadata": {},
   "source": [
    "Преобразуем категориальные признаки в количественные с помощью метода OriginalEncoder:"
   ]
  },
  {
   "cell_type": "markdown",
   "metadata": {},
   "source": [
    "Для начала сохраним отдельно массив с числовыми признаками:"
   ]
  },
  {
   "cell_type": "code",
   "execution_count": 279,
   "metadata": {},
   "outputs": [],
   "source": [
    "n = [features_train[i].dtype != 'object' for i in features_train.columns]\n",
    "features_train_num = features_train[features_train.columns[n]] #выборка train с численными признаками\n",
    "features_valid_num = features_valid[features_valid.columns[n]] #выборка valid с численными признаками\n",
    "features_test_num = features_test[features_test.columns[n]] #выборка test с численными признаками"
   ]
  },
  {
   "cell_type": "markdown",
   "metadata": {},
   "source": [
    "Массив с категориальными признаками:"
   ]
  },
  {
   "cell_type": "code",
   "execution_count": 280,
   "metadata": {},
   "outputs": [],
   "source": [
    "n = [features_train[i].dtype == 'object' for i in features_train.columns]\n",
    "features_train_cat = features_train[features_train.columns[n]] #выборка train с катег. признаками\n",
    "features_valid_cat = features_valid[features_valid.columns[n]] #выборка valid с катег. признаками\n",
    "features_test_cat = features_test[features_test.columns[n]] #выборка test с катег. признаками"
   ]
  },
  {
   "cell_type": "markdown",
   "metadata": {},
   "source": [
    "Преобразуем категориальные признаки для предсказания пропусков в признаке Power и других пяти категориальных признаках."
   ]
  },
  {
   "cell_type": "code",
   "execution_count": 281,
   "metadata": {},
   "outputs": [
    {
     "data": {
      "text/html": [
       "<style>#sk-container-id-6 {color: black;background-color: white;}#sk-container-id-6 pre{padding: 0;}#sk-container-id-6 div.sk-toggleable {background-color: white;}#sk-container-id-6 label.sk-toggleable__label {cursor: pointer;display: block;width: 100%;margin-bottom: 0;padding: 0.3em;box-sizing: border-box;text-align: center;}#sk-container-id-6 label.sk-toggleable__label-arrow:before {content: \"▸\";float: left;margin-right: 0.25em;color: #696969;}#sk-container-id-6 label.sk-toggleable__label-arrow:hover:before {color: black;}#sk-container-id-6 div.sk-estimator:hover label.sk-toggleable__label-arrow:before {color: black;}#sk-container-id-6 div.sk-toggleable__content {max-height: 0;max-width: 0;overflow: hidden;text-align: left;background-color: #f0f8ff;}#sk-container-id-6 div.sk-toggleable__content pre {margin: 0.2em;color: black;border-radius: 0.25em;background-color: #f0f8ff;}#sk-container-id-6 input.sk-toggleable__control:checked~div.sk-toggleable__content {max-height: 200px;max-width: 100%;overflow: auto;}#sk-container-id-6 input.sk-toggleable__control:checked~label.sk-toggleable__label-arrow:before {content: \"▾\";}#sk-container-id-6 div.sk-estimator input.sk-toggleable__control:checked~label.sk-toggleable__label {background-color: #d4ebff;}#sk-container-id-6 div.sk-label input.sk-toggleable__control:checked~label.sk-toggleable__label {background-color: #d4ebff;}#sk-container-id-6 input.sk-hidden--visually {border: 0;clip: rect(1px 1px 1px 1px);clip: rect(1px, 1px, 1px, 1px);height: 1px;margin: -1px;overflow: hidden;padding: 0;position: absolute;width: 1px;}#sk-container-id-6 div.sk-estimator {font-family: monospace;background-color: #f0f8ff;border: 1px dotted black;border-radius: 0.25em;box-sizing: border-box;margin-bottom: 0.5em;}#sk-container-id-6 div.sk-estimator:hover {background-color: #d4ebff;}#sk-container-id-6 div.sk-parallel-item::after {content: \"\";width: 100%;border-bottom: 1px solid gray;flex-grow: 1;}#sk-container-id-6 div.sk-label:hover label.sk-toggleable__label {background-color: #d4ebff;}#sk-container-id-6 div.sk-serial::before {content: \"\";position: absolute;border-left: 1px solid gray;box-sizing: border-box;top: 0;bottom: 0;left: 50%;z-index: 0;}#sk-container-id-6 div.sk-serial {display: flex;flex-direction: column;align-items: center;background-color: white;padding-right: 0.2em;padding-left: 0.2em;position: relative;}#sk-container-id-6 div.sk-item {position: relative;z-index: 1;}#sk-container-id-6 div.sk-parallel {display: flex;align-items: stretch;justify-content: center;background-color: white;position: relative;}#sk-container-id-6 div.sk-item::before, #sk-container-id-6 div.sk-parallel-item::before {content: \"\";position: absolute;border-left: 1px solid gray;box-sizing: border-box;top: 0;bottom: 0;left: 50%;z-index: -1;}#sk-container-id-6 div.sk-parallel-item {display: flex;flex-direction: column;z-index: 1;position: relative;background-color: white;}#sk-container-id-6 div.sk-parallel-item:first-child::after {align-self: flex-end;width: 50%;}#sk-container-id-6 div.sk-parallel-item:last-child::after {align-self: flex-start;width: 50%;}#sk-container-id-6 div.sk-parallel-item:only-child::after {width: 0;}#sk-container-id-6 div.sk-dashed-wrapped {border: 1px dashed gray;margin: 0 0.4em 0.5em 0.4em;box-sizing: border-box;padding-bottom: 0.4em;background-color: white;}#sk-container-id-6 div.sk-label label {font-family: monospace;font-weight: bold;display: inline-block;line-height: 1.2em;}#sk-container-id-6 div.sk-label-container {text-align: center;}#sk-container-id-6 div.sk-container {/* jupyter's `normalize.less` sets `[hidden] { display: none; }` but bootstrap.min.css set `[hidden] { display: none !important; }` so we also need the `!important` here to be able to override the default hidden behavior on the sphinx rendered scikit-learn.org. See: https://github.com/scikit-learn/scikit-learn/issues/21755 */display: inline-block !important;position: relative;}#sk-container-id-6 div.sk-text-repr-fallback {display: none;}</style><div id=\"sk-container-id-6\" class=\"sk-top-container\"><div class=\"sk-text-repr-fallback\"><pre>OrdinalEncoder()</pre><b>In a Jupyter environment, please rerun this cell to show the HTML representation or trust the notebook. <br />On GitHub, the HTML representation is unable to render, please try loading this page with nbviewer.org.</b></div><div class=\"sk-container\" hidden><div class=\"sk-item\"><div class=\"sk-estimator sk-toggleable\"><input class=\"sk-toggleable__control sk-hidden--visually\" id=\"sk-estimator-id-6\" type=\"checkbox\" checked><label for=\"sk-estimator-id-6\" class=\"sk-toggleable__label sk-toggleable__label-arrow\">OrdinalEncoder</label><div class=\"sk-toggleable__content\"><pre>OrdinalEncoder()</pre></div></div></div></div></div>"
      ],
      "text/plain": [
       "OrdinalEncoder()"
      ]
     },
     "execution_count": 281,
     "metadata": {},
     "output_type": "execute_result"
    }
   ],
   "source": [
    "enc = OrdinalEncoder(handle_unknown='error') # создаем объект\n",
    "enc.fit(features_train_cat) # обучаем объект"
   ]
  },
  {
   "cell_type": "code",
   "execution_count": 282,
   "metadata": {},
   "outputs": [
    {
     "data": {
      "text/html": [
       "<div>\n",
       "<style scoped>\n",
       "    .dataframe tbody tr th:only-of-type {\n",
       "        vertical-align: middle;\n",
       "    }\n",
       "\n",
       "    .dataframe tbody tr th {\n",
       "        vertical-align: top;\n",
       "    }\n",
       "\n",
       "    .dataframe thead th {\n",
       "        text-align: right;\n",
       "    }\n",
       "</style>\n",
       "<table border=\"1\" class=\"dataframe\">\n",
       "  <thead>\n",
       "    <tr style=\"text-align: right;\">\n",
       "      <th></th>\n",
       "      <th>VehicleType</th>\n",
       "      <th>Gearbox</th>\n",
       "      <th>Model</th>\n",
       "      <th>FuelType</th>\n",
       "      <th>Brand</th>\n",
       "      <th>Repaired</th>\n",
       "    </tr>\n",
       "  </thead>\n",
       "  <tbody>\n",
       "    <tr>\n",
       "      <th>169263</th>\n",
       "      <td>0.0</td>\n",
       "      <td>1.0</td>\n",
       "      <td>248.0</td>\n",
       "      <td>6.0</td>\n",
       "      <td>24.0</td>\n",
       "      <td>-1.0</td>\n",
       "    </tr>\n",
       "    <tr>\n",
       "      <th>128736</th>\n",
       "      <td>0.0</td>\n",
       "      <td>1.0</td>\n",
       "      <td>234.0</td>\n",
       "      <td>2.0</td>\n",
       "      <td>36.0</td>\n",
       "      <td>0.0</td>\n",
       "    </tr>\n",
       "    <tr>\n",
       "      <th>318481</th>\n",
       "      <td>5.0</td>\n",
       "      <td>1.0</td>\n",
       "      <td>75.0</td>\n",
       "      <td>6.0</td>\n",
       "      <td>27.0</td>\n",
       "      <td>0.0</td>\n",
       "    </tr>\n",
       "    <tr>\n",
       "      <th>103623</th>\n",
       "      <td>7.0</td>\n",
       "      <td>0.0</td>\n",
       "      <td>31.0</td>\n",
       "      <td>6.0</td>\n",
       "      <td>1.0</td>\n",
       "      <td>0.0</td>\n",
       "    </tr>\n",
       "    <tr>\n",
       "      <th>25386</th>\n",
       "      <td>4.0</td>\n",
       "      <td>1.0</td>\n",
       "      <td>140.0</td>\n",
       "      <td>6.0</td>\n",
       "      <td>30.0</td>\n",
       "      <td>0.0</td>\n",
       "    </tr>\n",
       "    <tr>\n",
       "      <th>...</th>\n",
       "      <td>...</td>\n",
       "      <td>...</td>\n",
       "      <td>...</td>\n",
       "      <td>...</td>\n",
       "      <td>...</td>\n",
       "      <td>...</td>\n",
       "    </tr>\n",
       "    <tr>\n",
       "      <th>118939</th>\n",
       "      <td>4.0</td>\n",
       "      <td>0.0</td>\n",
       "      <td>19.0</td>\n",
       "      <td>6.0</td>\n",
       "      <td>2.0</td>\n",
       "      <td>0.0</td>\n",
       "    </tr>\n",
       "    <tr>\n",
       "      <th>157724</th>\n",
       "      <td>5.0</td>\n",
       "      <td>0.0</td>\n",
       "      <td>226.0</td>\n",
       "      <td>6.0</td>\n",
       "      <td>27.0</td>\n",
       "      <td>0.0</td>\n",
       "    </tr>\n",
       "    <tr>\n",
       "      <th>102896</th>\n",
       "      <td>1.0</td>\n",
       "      <td>1.0</td>\n",
       "      <td>8.0</td>\n",
       "      <td>6.0</td>\n",
       "      <td>25.0</td>\n",
       "      <td>0.0</td>\n",
       "    </tr>\n",
       "    <tr>\n",
       "      <th>325505</th>\n",
       "      <td>5.0</td>\n",
       "      <td>1.0</td>\n",
       "      <td>116.0</td>\n",
       "      <td>6.0</td>\n",
       "      <td>38.0</td>\n",
       "      <td>0.0</td>\n",
       "    </tr>\n",
       "    <tr>\n",
       "      <th>218846</th>\n",
       "      <td>-1.0</td>\n",
       "      <td>1.0</td>\n",
       "      <td>83.0</td>\n",
       "      <td>6.0</td>\n",
       "      <td>24.0</td>\n",
       "      <td>-1.0</td>\n",
       "    </tr>\n",
       "  </tbody>\n",
       "</table>\n",
       "<p>198531 rows × 6 columns</p>\n",
       "</div>"
      ],
      "text/plain": [
       "        VehicleType  Gearbox  Model  FuelType  Brand  Repaired\n",
       "169263          0.0      1.0  248.0       6.0   24.0      -1.0\n",
       "128736          0.0      1.0  234.0       2.0   36.0       0.0\n",
       "318481          5.0      1.0   75.0       6.0   27.0       0.0\n",
       "103623          7.0      0.0   31.0       6.0    1.0       0.0\n",
       "25386           4.0      1.0  140.0       6.0   30.0       0.0\n",
       "...             ...      ...    ...       ...    ...       ...\n",
       "118939          4.0      0.0   19.0       6.0    2.0       0.0\n",
       "157724          5.0      0.0  226.0       6.0   27.0       0.0\n",
       "102896          1.0      1.0    8.0       6.0   25.0       0.0\n",
       "325505          5.0      1.0  116.0       6.0   38.0       0.0\n",
       "218846         -1.0      1.0   83.0       6.0   24.0      -1.0\n",
       "\n",
       "[198531 rows x 6 columns]"
      ]
     },
     "execution_count": 282,
     "metadata": {},
     "output_type": "execute_result"
    }
   ],
   "source": [
    "#преобразуем признаки\n",
    "orig_enc_cat_train = pd.DataFrame(\n",
    "   enc.transform(features_train_cat), index=features_train_cat.index, columns=features_train_cat.columns).fillna(-1) \n",
    "orig_enc_cat_train"
   ]
  },
  {
   "cell_type": "code",
   "execution_count": 283,
   "metadata": {},
   "outputs": [
    {
     "data": {
      "text/html": [
       "<div>\n",
       "<style scoped>\n",
       "    .dataframe tbody tr th:only-of-type {\n",
       "        vertical-align: middle;\n",
       "    }\n",
       "\n",
       "    .dataframe tbody tr th {\n",
       "        vertical-align: top;\n",
       "    }\n",
       "\n",
       "    .dataframe thead th {\n",
       "        text-align: right;\n",
       "    }\n",
       "</style>\n",
       "<table border=\"1\" class=\"dataframe\">\n",
       "  <thead>\n",
       "    <tr style=\"text-align: right;\">\n",
       "      <th></th>\n",
       "      <th>RegistrationYear</th>\n",
       "      <th>Power</th>\n",
       "      <th>Kilometer</th>\n",
       "      <th>RegistrationMonth</th>\n",
       "      <th>PostalCode</th>\n",
       "      <th>year</th>\n",
       "      <th>month</th>\n",
       "      <th>VehicleType</th>\n",
       "      <th>Gearbox</th>\n",
       "      <th>Model</th>\n",
       "      <th>FuelType</th>\n",
       "      <th>Brand</th>\n",
       "      <th>Repaired</th>\n",
       "    </tr>\n",
       "  </thead>\n",
       "  <tbody>\n",
       "    <tr>\n",
       "      <th>169263</th>\n",
       "      <td>1999</td>\n",
       "      <td>101.0</td>\n",
       "      <td>150000</td>\n",
       "      <td>12</td>\n",
       "      <td>88489</td>\n",
       "      <td>2016</td>\n",
       "      <td>3</td>\n",
       "      <td>0.0</td>\n",
       "      <td>1.0</td>\n",
       "      <td>248.0</td>\n",
       "      <td>6.0</td>\n",
       "      <td>24.0</td>\n",
       "      <td>-1.0</td>\n",
       "    </tr>\n",
       "    <tr>\n",
       "      <th>128736</th>\n",
       "      <td>2008</td>\n",
       "      <td>136.0</td>\n",
       "      <td>125000</td>\n",
       "      <td>3</td>\n",
       "      <td>71642</td>\n",
       "      <td>2016</td>\n",
       "      <td>4</td>\n",
       "      <td>0.0</td>\n",
       "      <td>1.0</td>\n",
       "      <td>234.0</td>\n",
       "      <td>2.0</td>\n",
       "      <td>36.0</td>\n",
       "      <td>0.0</td>\n",
       "    </tr>\n",
       "    <tr>\n",
       "      <th>318481</th>\n",
       "      <td>2001</td>\n",
       "      <td>58.0</td>\n",
       "      <td>100000</td>\n",
       "      <td>3</td>\n",
       "      <td>23626</td>\n",
       "      <td>2016</td>\n",
       "      <td>3</td>\n",
       "      <td>5.0</td>\n",
       "      <td>1.0</td>\n",
       "      <td>75.0</td>\n",
       "      <td>6.0</td>\n",
       "      <td>27.0</td>\n",
       "      <td>0.0</td>\n",
       "    </tr>\n",
       "    <tr>\n",
       "      <th>103623</th>\n",
       "      <td>2006</td>\n",
       "      <td>349.0</td>\n",
       "      <td>150000</td>\n",
       "      <td>9</td>\n",
       "      <td>38122</td>\n",
       "      <td>2016</td>\n",
       "      <td>4</td>\n",
       "      <td>7.0</td>\n",
       "      <td>0.0</td>\n",
       "      <td>31.0</td>\n",
       "      <td>6.0</td>\n",
       "      <td>1.0</td>\n",
       "      <td>0.0</td>\n",
       "    </tr>\n",
       "    <tr>\n",
       "      <th>25386</th>\n",
       "      <td>2010</td>\n",
       "      <td>125.0</td>\n",
       "      <td>125000</td>\n",
       "      <td>2</td>\n",
       "      <td>26160</td>\n",
       "      <td>2016</td>\n",
       "      <td>3</td>\n",
       "      <td>4.0</td>\n",
       "      <td>1.0</td>\n",
       "      <td>140.0</td>\n",
       "      <td>6.0</td>\n",
       "      <td>30.0</td>\n",
       "      <td>0.0</td>\n",
       "    </tr>\n",
       "    <tr>\n",
       "      <th>...</th>\n",
       "      <td>...</td>\n",
       "      <td>...</td>\n",
       "      <td>...</td>\n",
       "      <td>...</td>\n",
       "      <td>...</td>\n",
       "      <td>...</td>\n",
       "      <td>...</td>\n",
       "      <td>...</td>\n",
       "      <td>...</td>\n",
       "      <td>...</td>\n",
       "      <td>...</td>\n",
       "      <td>...</td>\n",
       "      <td>...</td>\n",
       "    </tr>\n",
       "    <tr>\n",
       "      <th>118939</th>\n",
       "      <td>1988</td>\n",
       "      <td>188.0</td>\n",
       "      <td>125000</td>\n",
       "      <td>4</td>\n",
       "      <td>21521</td>\n",
       "      <td>2016</td>\n",
       "      <td>3</td>\n",
       "      <td>4.0</td>\n",
       "      <td>0.0</td>\n",
       "      <td>19.0</td>\n",
       "      <td>6.0</td>\n",
       "      <td>2.0</td>\n",
       "      <td>0.0</td>\n",
       "    </tr>\n",
       "    <tr>\n",
       "      <th>157724</th>\n",
       "      <td>2001</td>\n",
       "      <td>75.0</td>\n",
       "      <td>100000</td>\n",
       "      <td>0</td>\n",
       "      <td>12353</td>\n",
       "      <td>2016</td>\n",
       "      <td>4</td>\n",
       "      <td>5.0</td>\n",
       "      <td>0.0</td>\n",
       "      <td>226.0</td>\n",
       "      <td>6.0</td>\n",
       "      <td>27.0</td>\n",
       "      <td>0.0</td>\n",
       "    </tr>\n",
       "    <tr>\n",
       "      <th>102896</th>\n",
       "      <td>2011</td>\n",
       "      <td>120.0</td>\n",
       "      <td>70000</td>\n",
       "      <td>5</td>\n",
       "      <td>90552</td>\n",
       "      <td>2016</td>\n",
       "      <td>3</td>\n",
       "      <td>1.0</td>\n",
       "      <td>1.0</td>\n",
       "      <td>8.0</td>\n",
       "      <td>6.0</td>\n",
       "      <td>25.0</td>\n",
       "      <td>0.0</td>\n",
       "    </tr>\n",
       "    <tr>\n",
       "      <th>325505</th>\n",
       "      <td>1996</td>\n",
       "      <td>75.0</td>\n",
       "      <td>150000</td>\n",
       "      <td>1</td>\n",
       "      <td>13437</td>\n",
       "      <td>2016</td>\n",
       "      <td>3</td>\n",
       "      <td>5.0</td>\n",
       "      <td>1.0</td>\n",
       "      <td>116.0</td>\n",
       "      <td>6.0</td>\n",
       "      <td>38.0</td>\n",
       "      <td>0.0</td>\n",
       "    </tr>\n",
       "    <tr>\n",
       "      <th>218846</th>\n",
       "      <td>2016</td>\n",
       "      <td>NaN</td>\n",
       "      <td>150000</td>\n",
       "      <td>9</td>\n",
       "      <td>39108</td>\n",
       "      <td>2016</td>\n",
       "      <td>3</td>\n",
       "      <td>-1.0</td>\n",
       "      <td>1.0</td>\n",
       "      <td>83.0</td>\n",
       "      <td>6.0</td>\n",
       "      <td>24.0</td>\n",
       "      <td>-1.0</td>\n",
       "    </tr>\n",
       "  </tbody>\n",
       "</table>\n",
       "<p>198531 rows × 13 columns</p>\n",
       "</div>"
      ],
      "text/plain": [
       "        RegistrationYear  Power  Kilometer  RegistrationMonth  PostalCode   \n",
       "169263              1999  101.0     150000                 12       88489  \\\n",
       "128736              2008  136.0     125000                  3       71642   \n",
       "318481              2001   58.0     100000                  3       23626   \n",
       "103623              2006  349.0     150000                  9       38122   \n",
       "25386               2010  125.0     125000                  2       26160   \n",
       "...                  ...    ...        ...                ...         ...   \n",
       "118939              1988  188.0     125000                  4       21521   \n",
       "157724              2001   75.0     100000                  0       12353   \n",
       "102896              2011  120.0      70000                  5       90552   \n",
       "325505              1996   75.0     150000                  1       13437   \n",
       "218846              2016    NaN     150000                  9       39108   \n",
       "\n",
       "        year  month  VehicleType  Gearbox  Model  FuelType  Brand  Repaired  \n",
       "169263  2016      3          0.0      1.0  248.0       6.0   24.0      -1.0  \n",
       "128736  2016      4          0.0      1.0  234.0       2.0   36.0       0.0  \n",
       "318481  2016      3          5.0      1.0   75.0       6.0   27.0       0.0  \n",
       "103623  2016      4          7.0      0.0   31.0       6.0    1.0       0.0  \n",
       "25386   2016      3          4.0      1.0  140.0       6.0   30.0       0.0  \n",
       "...      ...    ...          ...      ...    ...       ...    ...       ...  \n",
       "118939  2016      3          4.0      0.0   19.0       6.0    2.0       0.0  \n",
       "157724  2016      4          5.0      0.0  226.0       6.0   27.0       0.0  \n",
       "102896  2016      3          1.0      1.0    8.0       6.0   25.0       0.0  \n",
       "325505  2016      3          5.0      1.0  116.0       6.0   38.0       0.0  \n",
       "218846  2016      3         -1.0      1.0   83.0       6.0   24.0      -1.0  \n",
       "\n",
       "[198531 rows x 13 columns]"
      ]
     },
     "execution_count": 283,
     "metadata": {},
     "output_type": "execute_result"
    }
   ],
   "source": [
    "#объединяем числовые и нечисловые признаки после преобразования\n",
    "features_train = pd.concat([features_train_num, orig_enc_cat_train], axis=1)\n",
    "features_train"
   ]
  },
  {
   "cell_type": "markdown",
   "metadata": {},
   "source": [
    "Теперь то же самое с валидационной и тестовой выборками."
   ]
  },
  {
   "cell_type": "code",
   "execution_count": 284,
   "metadata": {},
   "outputs": [],
   "source": [
    "#преобразуем признаки\n",
    "orig_enc_cat_valid = pd.DataFrame(\n",
    "   enc.transform(features_valid_cat), index=features_valid_cat.index, columns=features_valid_cat.columns).fillna(-1)  "
   ]
  },
  {
   "cell_type": "code",
   "execution_count": 285,
   "metadata": {},
   "outputs": [],
   "source": [
    "#объединяем числовые и нечисловые признаки после преобразования\n",
    "features_valid = pd.concat([features_valid_num, orig_enc_cat_valid], axis=1)\n"
   ]
  },
  {
   "cell_type": "code",
   "execution_count": 286,
   "metadata": {},
   "outputs": [],
   "source": [
    "#преобразуем признаки\n",
    "orig_enc_cat_test = pd.DataFrame(\n",
    "     enc.transform(features_test_cat), index=features_test_cat.index, columns=features_test_cat.columns).fillna(-1) "
   ]
  },
  {
   "cell_type": "code",
   "execution_count": 287,
   "metadata": {},
   "outputs": [],
   "source": [
    "#объединяем числовые и нечисловые признаки после преобразования\n",
    "features_test = pd.concat([features_test_num, orig_enc_cat_test], axis=1)\n"
   ]
  },
  {
   "cell_type": "markdown",
   "metadata": {},
   "source": [
    "### Заполнение пропусков"
   ]
  },
  {
   "cell_type": "markdown",
   "metadata": {},
   "source": [
    "Заполним пропуски признака Power методом KNeighborsClassifier"
   ]
  },
  {
   "cell_type": "code",
   "execution_count": 288,
   "metadata": {},
   "outputs": [],
   "source": [
    "features_neigh_train = features_train.query('~Power.isna()').drop('Power', axis=1) #тренировочная выборка"
   ]
  },
  {
   "cell_type": "code",
   "execution_count": 289,
   "metadata": {},
   "outputs": [],
   "source": [
    "target_neigh_train = features_train.query('~Power.isna()')['Power'] #целевые значения тренировочной выборки"
   ]
  },
  {
   "cell_type": "code",
   "execution_count": 290,
   "metadata": {
    "scrolled": false
   },
   "outputs": [
    {
     "data": {
      "text/html": [
       "<style>#sk-container-id-7 {color: black;background-color: white;}#sk-container-id-7 pre{padding: 0;}#sk-container-id-7 div.sk-toggleable {background-color: white;}#sk-container-id-7 label.sk-toggleable__label {cursor: pointer;display: block;width: 100%;margin-bottom: 0;padding: 0.3em;box-sizing: border-box;text-align: center;}#sk-container-id-7 label.sk-toggleable__label-arrow:before {content: \"▸\";float: left;margin-right: 0.25em;color: #696969;}#sk-container-id-7 label.sk-toggleable__label-arrow:hover:before {color: black;}#sk-container-id-7 div.sk-estimator:hover label.sk-toggleable__label-arrow:before {color: black;}#sk-container-id-7 div.sk-toggleable__content {max-height: 0;max-width: 0;overflow: hidden;text-align: left;background-color: #f0f8ff;}#sk-container-id-7 div.sk-toggleable__content pre {margin: 0.2em;color: black;border-radius: 0.25em;background-color: #f0f8ff;}#sk-container-id-7 input.sk-toggleable__control:checked~div.sk-toggleable__content {max-height: 200px;max-width: 100%;overflow: auto;}#sk-container-id-7 input.sk-toggleable__control:checked~label.sk-toggleable__label-arrow:before {content: \"▾\";}#sk-container-id-7 div.sk-estimator input.sk-toggleable__control:checked~label.sk-toggleable__label {background-color: #d4ebff;}#sk-container-id-7 div.sk-label input.sk-toggleable__control:checked~label.sk-toggleable__label {background-color: #d4ebff;}#sk-container-id-7 input.sk-hidden--visually {border: 0;clip: rect(1px 1px 1px 1px);clip: rect(1px, 1px, 1px, 1px);height: 1px;margin: -1px;overflow: hidden;padding: 0;position: absolute;width: 1px;}#sk-container-id-7 div.sk-estimator {font-family: monospace;background-color: #f0f8ff;border: 1px dotted black;border-radius: 0.25em;box-sizing: border-box;margin-bottom: 0.5em;}#sk-container-id-7 div.sk-estimator:hover {background-color: #d4ebff;}#sk-container-id-7 div.sk-parallel-item::after {content: \"\";width: 100%;border-bottom: 1px solid gray;flex-grow: 1;}#sk-container-id-7 div.sk-label:hover label.sk-toggleable__label {background-color: #d4ebff;}#sk-container-id-7 div.sk-serial::before {content: \"\";position: absolute;border-left: 1px solid gray;box-sizing: border-box;top: 0;bottom: 0;left: 50%;z-index: 0;}#sk-container-id-7 div.sk-serial {display: flex;flex-direction: column;align-items: center;background-color: white;padding-right: 0.2em;padding-left: 0.2em;position: relative;}#sk-container-id-7 div.sk-item {position: relative;z-index: 1;}#sk-container-id-7 div.sk-parallel {display: flex;align-items: stretch;justify-content: center;background-color: white;position: relative;}#sk-container-id-7 div.sk-item::before, #sk-container-id-7 div.sk-parallel-item::before {content: \"\";position: absolute;border-left: 1px solid gray;box-sizing: border-box;top: 0;bottom: 0;left: 50%;z-index: -1;}#sk-container-id-7 div.sk-parallel-item {display: flex;flex-direction: column;z-index: 1;position: relative;background-color: white;}#sk-container-id-7 div.sk-parallel-item:first-child::after {align-self: flex-end;width: 50%;}#sk-container-id-7 div.sk-parallel-item:last-child::after {align-self: flex-start;width: 50%;}#sk-container-id-7 div.sk-parallel-item:only-child::after {width: 0;}#sk-container-id-7 div.sk-dashed-wrapped {border: 1px dashed gray;margin: 0 0.4em 0.5em 0.4em;box-sizing: border-box;padding-bottom: 0.4em;background-color: white;}#sk-container-id-7 div.sk-label label {font-family: monospace;font-weight: bold;display: inline-block;line-height: 1.2em;}#sk-container-id-7 div.sk-label-container {text-align: center;}#sk-container-id-7 div.sk-container {/* jupyter's `normalize.less` sets `[hidden] { display: none; }` but bootstrap.min.css set `[hidden] { display: none !important; }` so we also need the `!important` here to be able to override the default hidden behavior on the sphinx rendered scikit-learn.org. See: https://github.com/scikit-learn/scikit-learn/issues/21755 */display: inline-block !important;position: relative;}#sk-container-id-7 div.sk-text-repr-fallback {display: none;}</style><div id=\"sk-container-id-7\" class=\"sk-top-container\"><div class=\"sk-text-repr-fallback\"><pre>KNeighborsClassifier(n_neighbors=20)</pre><b>In a Jupyter environment, please rerun this cell to show the HTML representation or trust the notebook. <br />On GitHub, the HTML representation is unable to render, please try loading this page with nbviewer.org.</b></div><div class=\"sk-container\" hidden><div class=\"sk-item\"><div class=\"sk-estimator sk-toggleable\"><input class=\"sk-toggleable__control sk-hidden--visually\" id=\"sk-estimator-id-7\" type=\"checkbox\" checked><label for=\"sk-estimator-id-7\" class=\"sk-toggleable__label sk-toggleable__label-arrow\">KNeighborsClassifier</label><div class=\"sk-toggleable__content\"><pre>KNeighborsClassifier(n_neighbors=20)</pre></div></div></div></div></div>"
      ],
      "text/plain": [
       "KNeighborsClassifier(n_neighbors=20)"
      ]
     },
     "execution_count": 290,
     "metadata": {},
     "output_type": "execute_result"
    }
   ],
   "source": [
    "neigh = KNeighborsClassifier(n_neighbors=20) # создаем объект модели \n",
    "neigh.fit(features_neigh_train, target_neigh_train) # обучаем модель"
   ]
  },
  {
   "cell_type": "code",
   "execution_count": 291,
   "metadata": {
    "scrolled": true
   },
   "outputs": [],
   "source": [
    "features_neigh_train_na = features_train.query(\n",
    "    'Power.isna()').drop('Power', axis=1) #выделяем признаки, по которым надо предсказать\n",
    "predictions_train = neigh.predict(features_neigh_train_na) # формируем предсказания"
   ]
  },
  {
   "cell_type": "code",
   "execution_count": 292,
   "metadata": {},
   "outputs": [],
   "source": [
    "features_train.loc[features_neigh_train_na.index, ['Power']] = predictions_train \n",
    "#заполняем пропуски предсказаниями"
   ]
  },
  {
   "cell_type": "code",
   "execution_count": 293,
   "metadata": {},
   "outputs": [],
   "source": [
    "features_neigh_valid_na = features_valid.query(\n",
    "    'Power.isna()').drop('Power', axis=1) #выделяем признаки, по которым надо предсказать\n",
    "predictions_valid = neigh.predict(features_neigh_valid_na) # формируем предсказания"
   ]
  },
  {
   "cell_type": "code",
   "execution_count": 294,
   "metadata": {},
   "outputs": [],
   "source": [
    "features_valid.loc[features_neigh_valid_na.index, ['Power']] = predictions_valid \n",
    "#заполняем пропуски предсказаниями"
   ]
  },
  {
   "cell_type": "code",
   "execution_count": 295,
   "metadata": {},
   "outputs": [],
   "source": [
    "features_neigh_test_na = features_test.query(\n",
    "    'Power.isna()').drop('Power', axis=1) #выделяем признаки, по которым надо предсказать\n",
    "predictions_test = neigh.predict(features_neigh_test_na) # формируем предсказания"
   ]
  },
  {
   "cell_type": "code",
   "execution_count": 296,
   "metadata": {},
   "outputs": [],
   "source": [
    "features_test.loc[features_neigh_test_na.index, ['Power']] = predictions_test \n",
    "#заполняем пропуски предсказаниями"
   ]
  },
  {
   "cell_type": "markdown",
   "metadata": {},
   "source": [
    "Теперь заполним пропуски в категориальных признаках. Подход будет тот же: создаем массивы признаков и целевого признака без пропусков для выбранного категориального признака, в котором заполняем пропуски. ОБучаем модель ближайшего соседа, затем предсказыыаем и заполняем пропуски."
   ]
  },
  {
   "cell_type": "markdown",
   "metadata": {},
   "source": [
    "Создадим функцию заполнения пропусков в категориальных признаках:"
   ]
  },
  {
   "cell_type": "code",
   "execution_count": 297,
   "metadata": {},
   "outputs": [],
   "source": [
    "def fill_passes_KNeighborsClas(name_feature, n_neighbors):\n",
    "    #возвращаем на место пропуски в признаке VehicleType (вместо -1)\n",
    "    features_train[name_feature] = features_train[name_feature].replace(-1, np.nan)\n",
    "    features_valid[name_feature] = features_valid[name_feature].replace(-1, np.nan)\n",
    "    features_test[name_feature] = features_test[name_feature].replace(-1, np.nan)\n",
    "    \n",
    "    #тренировочная выборка\n",
    "    features_neigh_train = features_train[~features_train[name_feature].isna()].drop(name_feature, axis=1)\n",
    "    \n",
    "    #целевые значения тренировочной выборки\n",
    "    target_neigh_train = features_train[~features_train[name_feature].isna()][name_feature] \n",
    "    \n",
    "    # создаем объект модели \n",
    "    neigh = KNeighborsClassifier(n_neighbors=20) \n",
    "    # обучаем модель\n",
    "    neigh.fit(features_neigh_train, target_neigh_train) \n",
    "    \n",
    "    #ТРЕЙНОВАЯ ВЫБОРКА\n",
    "    \n",
    "    #выделяем признаки, по которым надо предсказать\n",
    "    features_neigh_train_na = features_train[features_train[name_feature].isna()].drop(name_feature, axis=1) \n",
    "    # формируем предсказания\n",
    "    predictions_train = neigh.predict(features_neigh_train_na)\n",
    "    \n",
    "    #заполняем пропуски предсказаниями\n",
    "    features_train.loc[features_neigh_train_na.index, [name_feature]] = predictions_train \n",
    "\n",
    "    #ВАЛИДАЦИОННАЯ ВЫБОРКА\n",
    "    \n",
    "    #выделяем признаки, по которым надо предсказать\n",
    "    features_neigh_valid_na = features_valid[features_valid[name_feature].isna()].drop(name_feature, axis=1) \n",
    "    # формируем предсказания\n",
    "    predictions_valid = neigh.predict(features_neigh_valid_na)\n",
    "    \n",
    "    #заполняем пропуски предсказаниями\n",
    "    features_valid.loc[features_neigh_valid_na.index, [name_feature]] = predictions_valid \n",
    "    \n",
    "    #ТЕСТОВАЯ ВЫБОРКА\n",
    "    \n",
    "    #выделяем признаки, по которым надо предсказать\n",
    "    features_neigh_test_na = features_test[features_test[name_feature].isna()].drop(name_feature, axis=1) \n",
    "    # формируем предсказания\n",
    "    predictions_test = neigh.predict(features_neigh_test_na)\n",
    "    \n",
    "    #заполняем пропуски предсказаниями\n",
    "    features_test.loc[features_neigh_test_na.index, [name_feature]] = predictions_test "
   ]
  },
  {
   "cell_type": "markdown",
   "metadata": {},
   "source": [
    "Заполняем пропуски:"
   ]
  },
  {
   "cell_type": "code",
   "execution_count": 298,
   "metadata": {},
   "outputs": [],
   "source": [
    "for i in features_train_cat.columns:\n",
    "    if i=='Brand':\n",
    "        continue\n",
    "    fill_passes_KNeighborsClas(i, 20)"
   ]
  },
  {
   "cell_type": "markdown",
   "metadata": {},
   "source": [
    "Все пропуски заполнены:"
   ]
  },
  {
   "cell_type": "code",
   "execution_count": 299,
   "metadata": {},
   "outputs": [
    {
     "data": {
      "text/plain": [
       "RegistrationYear     0\n",
       "Power                0\n",
       "Kilometer            0\n",
       "RegistrationMonth    0\n",
       "PostalCode           0\n",
       "year                 0\n",
       "month                0\n",
       "VehicleType          0\n",
       "Gearbox              0\n",
       "Model                0\n",
       "FuelType             0\n",
       "Brand                0\n",
       "Repaired             0\n",
       "dtype: int64"
      ]
     },
     "execution_count": 299,
     "metadata": {},
     "output_type": "execute_result"
    }
   ],
   "source": [
    "features_train.isna().sum()"
   ]
  },
  {
   "cell_type": "code",
   "execution_count": 300,
   "metadata": {
    "scrolled": true
   },
   "outputs": [
    {
     "data": {
      "text/plain": [
       "RegistrationYear     0\n",
       "Power                0\n",
       "Kilometer            0\n",
       "RegistrationMonth    0\n",
       "PostalCode           0\n",
       "year                 0\n",
       "month                0\n",
       "VehicleType          0\n",
       "Gearbox              0\n",
       "Model                0\n",
       "FuelType             0\n",
       "Brand                0\n",
       "Repaired             0\n",
       "dtype: int64"
      ]
     },
     "execution_count": 300,
     "metadata": {},
     "output_type": "execute_result"
    }
   ],
   "source": [
    "features_valid.isna().sum()"
   ]
  },
  {
   "cell_type": "code",
   "execution_count": 301,
   "metadata": {},
   "outputs": [
    {
     "data": {
      "text/plain": [
       "RegistrationYear     0\n",
       "Power                0\n",
       "Kilometer            0\n",
       "RegistrationMonth    0\n",
       "PostalCode           0\n",
       "year                 0\n",
       "month                0\n",
       "VehicleType          0\n",
       "Gearbox              0\n",
       "Model                0\n",
       "FuelType             0\n",
       "Brand                0\n",
       "Repaired             0\n",
       "dtype: int64"
      ]
     },
     "execution_count": 301,
     "metadata": {},
     "output_type": "execute_result"
    }
   ],
   "source": [
    "features_test.isna().sum()"
   ]
  },
  {
   "cell_type": "code",
   "execution_count": 302,
   "metadata": {
    "scrolled": true
   },
   "outputs": [
    {
     "data": {
      "text/html": [
       "<div>\n",
       "<style scoped>\n",
       "    .dataframe tbody tr th:only-of-type {\n",
       "        vertical-align: middle;\n",
       "    }\n",
       "\n",
       "    .dataframe tbody tr th {\n",
       "        vertical-align: top;\n",
       "    }\n",
       "\n",
       "    .dataframe thead th {\n",
       "        text-align: right;\n",
       "    }\n",
       "</style>\n",
       "<table border=\"1\" class=\"dataframe\">\n",
       "  <thead>\n",
       "    <tr style=\"text-align: right;\">\n",
       "      <th></th>\n",
       "      <th>RegistrationYear</th>\n",
       "      <th>Power</th>\n",
       "      <th>Kilometer</th>\n",
       "      <th>RegistrationMonth</th>\n",
       "      <th>PostalCode</th>\n",
       "      <th>year</th>\n",
       "      <th>month</th>\n",
       "      <th>VehicleType</th>\n",
       "      <th>Gearbox</th>\n",
       "      <th>Model</th>\n",
       "      <th>FuelType</th>\n",
       "      <th>Brand</th>\n",
       "      <th>Repaired</th>\n",
       "    </tr>\n",
       "  </thead>\n",
       "  <tbody>\n",
       "    <tr>\n",
       "      <th>169263</th>\n",
       "      <td>1999</td>\n",
       "      <td>101.0</td>\n",
       "      <td>150000</td>\n",
       "      <td>12</td>\n",
       "      <td>88489</td>\n",
       "      <td>2016</td>\n",
       "      <td>3</td>\n",
       "      <td>0.0</td>\n",
       "      <td>1.0</td>\n",
       "      <td>248.0</td>\n",
       "      <td>6.0</td>\n",
       "      <td>24.0</td>\n",
       "      <td>0.0</td>\n",
       "    </tr>\n",
       "    <tr>\n",
       "      <th>128736</th>\n",
       "      <td>2008</td>\n",
       "      <td>136.0</td>\n",
       "      <td>125000</td>\n",
       "      <td>3</td>\n",
       "      <td>71642</td>\n",
       "      <td>2016</td>\n",
       "      <td>4</td>\n",
       "      <td>0.0</td>\n",
       "      <td>1.0</td>\n",
       "      <td>234.0</td>\n",
       "      <td>2.0</td>\n",
       "      <td>36.0</td>\n",
       "      <td>0.0</td>\n",
       "    </tr>\n",
       "    <tr>\n",
       "      <th>318481</th>\n",
       "      <td>2001</td>\n",
       "      <td>58.0</td>\n",
       "      <td>100000</td>\n",
       "      <td>3</td>\n",
       "      <td>23626</td>\n",
       "      <td>2016</td>\n",
       "      <td>3</td>\n",
       "      <td>5.0</td>\n",
       "      <td>1.0</td>\n",
       "      <td>75.0</td>\n",
       "      <td>6.0</td>\n",
       "      <td>27.0</td>\n",
       "      <td>0.0</td>\n",
       "    </tr>\n",
       "    <tr>\n",
       "      <th>103623</th>\n",
       "      <td>2006</td>\n",
       "      <td>349.0</td>\n",
       "      <td>150000</td>\n",
       "      <td>9</td>\n",
       "      <td>38122</td>\n",
       "      <td>2016</td>\n",
       "      <td>4</td>\n",
       "      <td>7.0</td>\n",
       "      <td>0.0</td>\n",
       "      <td>31.0</td>\n",
       "      <td>6.0</td>\n",
       "      <td>1.0</td>\n",
       "      <td>0.0</td>\n",
       "    </tr>\n",
       "    <tr>\n",
       "      <th>25386</th>\n",
       "      <td>2010</td>\n",
       "      <td>125.0</td>\n",
       "      <td>125000</td>\n",
       "      <td>2</td>\n",
       "      <td>26160</td>\n",
       "      <td>2016</td>\n",
       "      <td>3</td>\n",
       "      <td>4.0</td>\n",
       "      <td>1.0</td>\n",
       "      <td>140.0</td>\n",
       "      <td>6.0</td>\n",
       "      <td>30.0</td>\n",
       "      <td>0.0</td>\n",
       "    </tr>\n",
       "    <tr>\n",
       "      <th>...</th>\n",
       "      <td>...</td>\n",
       "      <td>...</td>\n",
       "      <td>...</td>\n",
       "      <td>...</td>\n",
       "      <td>...</td>\n",
       "      <td>...</td>\n",
       "      <td>...</td>\n",
       "      <td>...</td>\n",
       "      <td>...</td>\n",
       "      <td>...</td>\n",
       "      <td>...</td>\n",
       "      <td>...</td>\n",
       "      <td>...</td>\n",
       "    </tr>\n",
       "    <tr>\n",
       "      <th>118939</th>\n",
       "      <td>1988</td>\n",
       "      <td>188.0</td>\n",
       "      <td>125000</td>\n",
       "      <td>4</td>\n",
       "      <td>21521</td>\n",
       "      <td>2016</td>\n",
       "      <td>3</td>\n",
       "      <td>4.0</td>\n",
       "      <td>0.0</td>\n",
       "      <td>19.0</td>\n",
       "      <td>6.0</td>\n",
       "      <td>2.0</td>\n",
       "      <td>0.0</td>\n",
       "    </tr>\n",
       "    <tr>\n",
       "      <th>157724</th>\n",
       "      <td>2001</td>\n",
       "      <td>75.0</td>\n",
       "      <td>100000</td>\n",
       "      <td>0</td>\n",
       "      <td>12353</td>\n",
       "      <td>2016</td>\n",
       "      <td>4</td>\n",
       "      <td>5.0</td>\n",
       "      <td>0.0</td>\n",
       "      <td>226.0</td>\n",
       "      <td>6.0</td>\n",
       "      <td>27.0</td>\n",
       "      <td>0.0</td>\n",
       "    </tr>\n",
       "    <tr>\n",
       "      <th>102896</th>\n",
       "      <td>2011</td>\n",
       "      <td>120.0</td>\n",
       "      <td>70000</td>\n",
       "      <td>5</td>\n",
       "      <td>90552</td>\n",
       "      <td>2016</td>\n",
       "      <td>3</td>\n",
       "      <td>1.0</td>\n",
       "      <td>1.0</td>\n",
       "      <td>8.0</td>\n",
       "      <td>6.0</td>\n",
       "      <td>25.0</td>\n",
       "      <td>0.0</td>\n",
       "    </tr>\n",
       "    <tr>\n",
       "      <th>325505</th>\n",
       "      <td>1996</td>\n",
       "      <td>75.0</td>\n",
       "      <td>150000</td>\n",
       "      <td>1</td>\n",
       "      <td>13437</td>\n",
       "      <td>2016</td>\n",
       "      <td>3</td>\n",
       "      <td>5.0</td>\n",
       "      <td>1.0</td>\n",
       "      <td>116.0</td>\n",
       "      <td>6.0</td>\n",
       "      <td>38.0</td>\n",
       "      <td>0.0</td>\n",
       "    </tr>\n",
       "    <tr>\n",
       "      <th>218846</th>\n",
       "      <td>2016</td>\n",
       "      <td>58.0</td>\n",
       "      <td>150000</td>\n",
       "      <td>9</td>\n",
       "      <td>39108</td>\n",
       "      <td>2016</td>\n",
       "      <td>3</td>\n",
       "      <td>5.0</td>\n",
       "      <td>1.0</td>\n",
       "      <td>83.0</td>\n",
       "      <td>6.0</td>\n",
       "      <td>24.0</td>\n",
       "      <td>0.0</td>\n",
       "    </tr>\n",
       "  </tbody>\n",
       "</table>\n",
       "<p>198531 rows × 13 columns</p>\n",
       "</div>"
      ],
      "text/plain": [
       "        RegistrationYear  Power  Kilometer  RegistrationMonth  PostalCode   \n",
       "169263              1999  101.0     150000                 12       88489  \\\n",
       "128736              2008  136.0     125000                  3       71642   \n",
       "318481              2001   58.0     100000                  3       23626   \n",
       "103623              2006  349.0     150000                  9       38122   \n",
       "25386               2010  125.0     125000                  2       26160   \n",
       "...                  ...    ...        ...                ...         ...   \n",
       "118939              1988  188.0     125000                  4       21521   \n",
       "157724              2001   75.0     100000                  0       12353   \n",
       "102896              2011  120.0      70000                  5       90552   \n",
       "325505              1996   75.0     150000                  1       13437   \n",
       "218846              2016   58.0     150000                  9       39108   \n",
       "\n",
       "        year  month  VehicleType  Gearbox  Model  FuelType  Brand  Repaired  \n",
       "169263  2016      3          0.0      1.0  248.0       6.0   24.0       0.0  \n",
       "128736  2016      4          0.0      1.0  234.0       2.0   36.0       0.0  \n",
       "318481  2016      3          5.0      1.0   75.0       6.0   27.0       0.0  \n",
       "103623  2016      4          7.0      0.0   31.0       6.0    1.0       0.0  \n",
       "25386   2016      3          4.0      1.0  140.0       6.0   30.0       0.0  \n",
       "...      ...    ...          ...      ...    ...       ...    ...       ...  \n",
       "118939  2016      3          4.0      0.0   19.0       6.0    2.0       0.0  \n",
       "157724  2016      4          5.0      0.0  226.0       6.0   27.0       0.0  \n",
       "102896  2016      3          1.0      1.0    8.0       6.0   25.0       0.0  \n",
       "325505  2016      3          5.0      1.0  116.0       6.0   38.0       0.0  \n",
       "218846  2016      3          5.0      1.0   83.0       6.0   24.0       0.0  \n",
       "\n",
       "[198531 rows x 13 columns]"
      ]
     },
     "execution_count": 302,
     "metadata": {},
     "output_type": "execute_result"
    }
   ],
   "source": [
    "features_train"
   ]
  },
  {
   "cell_type": "markdown",
   "metadata": {},
   "source": [
    "### Масштабирование признакового пространства"
   ]
  },
  {
   "cell_type": "markdown",
   "metadata": {},
   "source": [
    "Масштабируем признаки:"
   ]
  },
  {
   "cell_type": "markdown",
   "metadata": {},
   "source": [
    "Создадим объект структуры StandardScaler() и настроим его на обучающих данных:"
   ]
  },
  {
   "cell_type": "code",
   "execution_count": 303,
   "metadata": {
    "scrolled": true
   },
   "outputs": [
    {
     "data": {
      "text/html": [
       "<style>#sk-container-id-8 {color: black;background-color: white;}#sk-container-id-8 pre{padding: 0;}#sk-container-id-8 div.sk-toggleable {background-color: white;}#sk-container-id-8 label.sk-toggleable__label {cursor: pointer;display: block;width: 100%;margin-bottom: 0;padding: 0.3em;box-sizing: border-box;text-align: center;}#sk-container-id-8 label.sk-toggleable__label-arrow:before {content: \"▸\";float: left;margin-right: 0.25em;color: #696969;}#sk-container-id-8 label.sk-toggleable__label-arrow:hover:before {color: black;}#sk-container-id-8 div.sk-estimator:hover label.sk-toggleable__label-arrow:before {color: black;}#sk-container-id-8 div.sk-toggleable__content {max-height: 0;max-width: 0;overflow: hidden;text-align: left;background-color: #f0f8ff;}#sk-container-id-8 div.sk-toggleable__content pre {margin: 0.2em;color: black;border-radius: 0.25em;background-color: #f0f8ff;}#sk-container-id-8 input.sk-toggleable__control:checked~div.sk-toggleable__content {max-height: 200px;max-width: 100%;overflow: auto;}#sk-container-id-8 input.sk-toggleable__control:checked~label.sk-toggleable__label-arrow:before {content: \"▾\";}#sk-container-id-8 div.sk-estimator input.sk-toggleable__control:checked~label.sk-toggleable__label {background-color: #d4ebff;}#sk-container-id-8 div.sk-label input.sk-toggleable__control:checked~label.sk-toggleable__label {background-color: #d4ebff;}#sk-container-id-8 input.sk-hidden--visually {border: 0;clip: rect(1px 1px 1px 1px);clip: rect(1px, 1px, 1px, 1px);height: 1px;margin: -1px;overflow: hidden;padding: 0;position: absolute;width: 1px;}#sk-container-id-8 div.sk-estimator {font-family: monospace;background-color: #f0f8ff;border: 1px dotted black;border-radius: 0.25em;box-sizing: border-box;margin-bottom: 0.5em;}#sk-container-id-8 div.sk-estimator:hover {background-color: #d4ebff;}#sk-container-id-8 div.sk-parallel-item::after {content: \"\";width: 100%;border-bottom: 1px solid gray;flex-grow: 1;}#sk-container-id-8 div.sk-label:hover label.sk-toggleable__label {background-color: #d4ebff;}#sk-container-id-8 div.sk-serial::before {content: \"\";position: absolute;border-left: 1px solid gray;box-sizing: border-box;top: 0;bottom: 0;left: 50%;z-index: 0;}#sk-container-id-8 div.sk-serial {display: flex;flex-direction: column;align-items: center;background-color: white;padding-right: 0.2em;padding-left: 0.2em;position: relative;}#sk-container-id-8 div.sk-item {position: relative;z-index: 1;}#sk-container-id-8 div.sk-parallel {display: flex;align-items: stretch;justify-content: center;background-color: white;position: relative;}#sk-container-id-8 div.sk-item::before, #sk-container-id-8 div.sk-parallel-item::before {content: \"\";position: absolute;border-left: 1px solid gray;box-sizing: border-box;top: 0;bottom: 0;left: 50%;z-index: -1;}#sk-container-id-8 div.sk-parallel-item {display: flex;flex-direction: column;z-index: 1;position: relative;background-color: white;}#sk-container-id-8 div.sk-parallel-item:first-child::after {align-self: flex-end;width: 50%;}#sk-container-id-8 div.sk-parallel-item:last-child::after {align-self: flex-start;width: 50%;}#sk-container-id-8 div.sk-parallel-item:only-child::after {width: 0;}#sk-container-id-8 div.sk-dashed-wrapped {border: 1px dashed gray;margin: 0 0.4em 0.5em 0.4em;box-sizing: border-box;padding-bottom: 0.4em;background-color: white;}#sk-container-id-8 div.sk-label label {font-family: monospace;font-weight: bold;display: inline-block;line-height: 1.2em;}#sk-container-id-8 div.sk-label-container {text-align: center;}#sk-container-id-8 div.sk-container {/* jupyter's `normalize.less` sets `[hidden] { display: none; }` but bootstrap.min.css set `[hidden] { display: none !important; }` so we also need the `!important` here to be able to override the default hidden behavior on the sphinx rendered scikit-learn.org. See: https://github.com/scikit-learn/scikit-learn/issues/21755 */display: inline-block !important;position: relative;}#sk-container-id-8 div.sk-text-repr-fallback {display: none;}</style><div id=\"sk-container-id-8\" class=\"sk-top-container\"><div class=\"sk-text-repr-fallback\"><pre>StandardScaler()</pre><b>In a Jupyter environment, please rerun this cell to show the HTML representation or trust the notebook. <br />On GitHub, the HTML representation is unable to render, please try loading this page with nbviewer.org.</b></div><div class=\"sk-container\" hidden><div class=\"sk-item\"><div class=\"sk-estimator sk-toggleable\"><input class=\"sk-toggleable__control sk-hidden--visually\" id=\"sk-estimator-id-8\" type=\"checkbox\" checked><label for=\"sk-estimator-id-8\" class=\"sk-toggleable__label sk-toggleable__label-arrow\">StandardScaler</label><div class=\"sk-toggleable__content\"><pre>StandardScaler()</pre></div></div></div></div></div>"
      ],
      "text/plain": [
       "StandardScaler()"
      ]
     },
     "execution_count": 303,
     "metadata": {},
     "output_type": "execute_result"
    }
   ],
   "source": [
    "scaler = StandardScaler()\n",
    "scaler.fit(features_train) "
   ]
  },
  {
   "cell_type": "markdown",
   "metadata": {},
   "source": [
    "Преобразуем столбцы функцией transform() и преобразуем массивы numpy в датафреймы с сохранением индексов разбиения исходного датасета на выборки:"
   ]
  },
  {
   "cell_type": "code",
   "execution_count": 304,
   "metadata": {},
   "outputs": [],
   "source": [
    "features_train = pd.DataFrame(\n",
    "    scaler.transform(features_train), index=features_train.index, columns=features_train.columns)\n",
    "\n",
    "features_valid = pd.DataFrame(\n",
    "    scaler.transform(features_valid), index=features_valid.index, columns=features_valid.columns)\n",
    "\n",
    "features_test = pd.DataFrame(\n",
    "    scaler.transform(features_test), index=features_test.index, columns=features_test.columns)"
   ]
  },
  {
   "cell_type": "code",
   "execution_count": 305,
   "metadata": {
    "scrolled": true
   },
   "outputs": [
    {
     "data": {
      "text/html": [
       "<div>\n",
       "<style scoped>\n",
       "    .dataframe tbody tr th:only-of-type {\n",
       "        vertical-align: middle;\n",
       "    }\n",
       "\n",
       "    .dataframe tbody tr th {\n",
       "        vertical-align: top;\n",
       "    }\n",
       "\n",
       "    .dataframe thead th {\n",
       "        text-align: right;\n",
       "    }\n",
       "</style>\n",
       "<table border=\"1\" class=\"dataframe\">\n",
       "  <thead>\n",
       "    <tr style=\"text-align: right;\">\n",
       "      <th></th>\n",
       "      <th>RegistrationYear</th>\n",
       "      <th>Power</th>\n",
       "      <th>Kilometer</th>\n",
       "      <th>RegistrationMonth</th>\n",
       "      <th>PostalCode</th>\n",
       "      <th>year</th>\n",
       "      <th>month</th>\n",
       "      <th>VehicleType</th>\n",
       "      <th>Gearbox</th>\n",
       "      <th>Model</th>\n",
       "      <th>FuelType</th>\n",
       "      <th>Brand</th>\n",
       "      <th>Repaired</th>\n",
       "    </tr>\n",
       "  </thead>\n",
       "  <tbody>\n",
       "    <tr>\n",
       "      <th>169263</th>\n",
       "      <td>-0.595770</td>\n",
       "      <td>-0.324227</td>\n",
       "      <td>0.582124</td>\n",
       "      <td>1.677473</td>\n",
       "      <td>1.464196</td>\n",
       "      <td>0.008398</td>\n",
       "      <td>-0.426102</td>\n",
       "      <td>-2.057644</td>\n",
       "      <td>0.493765</td>\n",
       "      <td>1.993498</td>\n",
       "      <td>0.68859</td>\n",
       "      <td>0.238710</td>\n",
       "      <td>-0.31688</td>\n",
       "    </tr>\n",
       "    <tr>\n",
       "      <th>128736</th>\n",
       "      <td>0.645962</td>\n",
       "      <td>0.285540</td>\n",
       "      <td>-0.092908</td>\n",
       "      <td>-0.777075</td>\n",
       "      <td>0.809269</td>\n",
       "      <td>0.008398</td>\n",
       "      <td>2.229174</td>\n",
       "      <td>-2.057644</td>\n",
       "      <td>0.493765</td>\n",
       "      <td>1.794991</td>\n",
       "      <td>-1.47084</td>\n",
       "      <td>1.137955</td>\n",
       "      <td>-0.31688</td>\n",
       "    </tr>\n",
       "    <tr>\n",
       "      <th>318481</th>\n",
       "      <td>-0.319829</td>\n",
       "      <td>-1.073368</td>\n",
       "      <td>-0.767939</td>\n",
       "      <td>-0.777075</td>\n",
       "      <td>-1.057353</td>\n",
       "      <td>0.008398</td>\n",
       "      <td>-0.426102</td>\n",
       "      <td>0.344017</td>\n",
       "      <td>0.493765</td>\n",
       "      <td>-0.459487</td>\n",
       "      <td>0.68859</td>\n",
       "      <td>0.463521</td>\n",
       "      <td>-0.31688</td>\n",
       "    </tr>\n",
       "    <tr>\n",
       "      <th>103623</th>\n",
       "      <td>0.370021</td>\n",
       "      <td>3.996402</td>\n",
       "      <td>0.582124</td>\n",
       "      <td>0.859290</td>\n",
       "      <td>-0.493821</td>\n",
       "      <td>0.008398</td>\n",
       "      <td>2.229174</td>\n",
       "      <td>1.304681</td>\n",
       "      <td>-2.025255</td>\n",
       "      <td>-1.083367</td>\n",
       "      <td>0.68859</td>\n",
       "      <td>-1.484844</td>\n",
       "      <td>-0.31688</td>\n",
       "    </tr>\n",
       "    <tr>\n",
       "      <th>25386</th>\n",
       "      <td>0.921902</td>\n",
       "      <td>0.093899</td>\n",
       "      <td>-0.092908</td>\n",
       "      <td>-1.049803</td>\n",
       "      <td>-0.958844</td>\n",
       "      <td>0.008398</td>\n",
       "      <td>-0.426102</td>\n",
       "      <td>-0.136316</td>\n",
       "      <td>0.493765</td>\n",
       "      <td>0.462155</td>\n",
       "      <td>0.68859</td>\n",
       "      <td>0.688332</td>\n",
       "      <td>-0.31688</td>\n",
       "    </tr>\n",
       "    <tr>\n",
       "      <th>...</th>\n",
       "      <td>...</td>\n",
       "      <td>...</td>\n",
       "      <td>...</td>\n",
       "      <td>...</td>\n",
       "      <td>...</td>\n",
       "      <td>...</td>\n",
       "      <td>...</td>\n",
       "      <td>...</td>\n",
       "      <td>...</td>\n",
       "      <td>...</td>\n",
       "      <td>...</td>\n",
       "      <td>...</td>\n",
       "      <td>...</td>\n",
       "    </tr>\n",
       "    <tr>\n",
       "      <th>118939</th>\n",
       "      <td>-2.113441</td>\n",
       "      <td>1.191478</td>\n",
       "      <td>-0.092908</td>\n",
       "      <td>-0.504348</td>\n",
       "      <td>-1.139185</td>\n",
       "      <td>0.008398</td>\n",
       "      <td>-0.426102</td>\n",
       "      <td>-0.136316</td>\n",
       "      <td>-2.025255</td>\n",
       "      <td>-1.253516</td>\n",
       "      <td>0.68859</td>\n",
       "      <td>-1.409907</td>\n",
       "      <td>-0.31688</td>\n",
       "    </tr>\n",
       "    <tr>\n",
       "      <th>157724</th>\n",
       "      <td>-0.319829</td>\n",
       "      <td>-0.777196</td>\n",
       "      <td>-0.767939</td>\n",
       "      <td>-1.595258</td>\n",
       "      <td>-1.495591</td>\n",
       "      <td>0.008398</td>\n",
       "      <td>2.229174</td>\n",
       "      <td>0.344017</td>\n",
       "      <td>-2.025255</td>\n",
       "      <td>1.681558</td>\n",
       "      <td>0.68859</td>\n",
       "      <td>0.463521</td>\n",
       "      <td>-0.31688</td>\n",
       "    </tr>\n",
       "    <tr>\n",
       "      <th>102896</th>\n",
       "      <td>1.059872</td>\n",
       "      <td>0.006789</td>\n",
       "      <td>-1.577977</td>\n",
       "      <td>-0.231620</td>\n",
       "      <td>1.544395</td>\n",
       "      <td>0.008398</td>\n",
       "      <td>-0.426102</td>\n",
       "      <td>-1.577312</td>\n",
       "      <td>0.493765</td>\n",
       "      <td>-1.409487</td>\n",
       "      <td>0.68859</td>\n",
       "      <td>0.313647</td>\n",
       "      <td>-0.31688</td>\n",
       "    </tr>\n",
       "    <tr>\n",
       "      <th>325505</th>\n",
       "      <td>-1.009680</td>\n",
       "      <td>-0.777196</td>\n",
       "      <td>0.582124</td>\n",
       "      <td>-1.322530</td>\n",
       "      <td>-1.453450</td>\n",
       "      <td>0.008398</td>\n",
       "      <td>-0.426102</td>\n",
       "      <td>0.344017</td>\n",
       "      <td>0.493765</td>\n",
       "      <td>0.121857</td>\n",
       "      <td>0.68859</td>\n",
       "      <td>1.287829</td>\n",
       "      <td>-0.31688</td>\n",
       "    </tr>\n",
       "    <tr>\n",
       "      <th>218846</th>\n",
       "      <td>1.749723</td>\n",
       "      <td>-1.073368</td>\n",
       "      <td>0.582124</td>\n",
       "      <td>0.859290</td>\n",
       "      <td>-0.455490</td>\n",
       "      <td>0.008398</td>\n",
       "      <td>-0.426102</td>\n",
       "      <td>0.344017</td>\n",
       "      <td>0.493765</td>\n",
       "      <td>-0.346054</td>\n",
       "      <td>0.68859</td>\n",
       "      <td>0.238710</td>\n",
       "      <td>-0.31688</td>\n",
       "    </tr>\n",
       "  </tbody>\n",
       "</table>\n",
       "<p>198531 rows × 13 columns</p>\n",
       "</div>"
      ],
      "text/plain": [
       "        RegistrationYear     Power  Kilometer  RegistrationMonth  PostalCode   \n",
       "169263         -0.595770 -0.324227   0.582124           1.677473    1.464196  \\\n",
       "128736          0.645962  0.285540  -0.092908          -0.777075    0.809269   \n",
       "318481         -0.319829 -1.073368  -0.767939          -0.777075   -1.057353   \n",
       "103623          0.370021  3.996402   0.582124           0.859290   -0.493821   \n",
       "25386           0.921902  0.093899  -0.092908          -1.049803   -0.958844   \n",
       "...                  ...       ...        ...                ...         ...   \n",
       "118939         -2.113441  1.191478  -0.092908          -0.504348   -1.139185   \n",
       "157724         -0.319829 -0.777196  -0.767939          -1.595258   -1.495591   \n",
       "102896          1.059872  0.006789  -1.577977          -0.231620    1.544395   \n",
       "325505         -1.009680 -0.777196   0.582124          -1.322530   -1.453450   \n",
       "218846          1.749723 -1.073368   0.582124           0.859290   -0.455490   \n",
       "\n",
       "            year     month  VehicleType   Gearbox     Model  FuelType   \n",
       "169263  0.008398 -0.426102    -2.057644  0.493765  1.993498   0.68859  \\\n",
       "128736  0.008398  2.229174    -2.057644  0.493765  1.794991  -1.47084   \n",
       "318481  0.008398 -0.426102     0.344017  0.493765 -0.459487   0.68859   \n",
       "103623  0.008398  2.229174     1.304681 -2.025255 -1.083367   0.68859   \n",
       "25386   0.008398 -0.426102    -0.136316  0.493765  0.462155   0.68859   \n",
       "...          ...       ...          ...       ...       ...       ...   \n",
       "118939  0.008398 -0.426102    -0.136316 -2.025255 -1.253516   0.68859   \n",
       "157724  0.008398  2.229174     0.344017 -2.025255  1.681558   0.68859   \n",
       "102896  0.008398 -0.426102    -1.577312  0.493765 -1.409487   0.68859   \n",
       "325505  0.008398 -0.426102     0.344017  0.493765  0.121857   0.68859   \n",
       "218846  0.008398 -0.426102     0.344017  0.493765 -0.346054   0.68859   \n",
       "\n",
       "           Brand  Repaired  \n",
       "169263  0.238710  -0.31688  \n",
       "128736  1.137955  -0.31688  \n",
       "318481  0.463521  -0.31688  \n",
       "103623 -1.484844  -0.31688  \n",
       "25386   0.688332  -0.31688  \n",
       "...          ...       ...  \n",
       "118939 -1.409907  -0.31688  \n",
       "157724  0.463521  -0.31688  \n",
       "102896  0.313647  -0.31688  \n",
       "325505  1.287829  -0.31688  \n",
       "218846  0.238710  -0.31688  \n",
       "\n",
       "[198531 rows x 13 columns]"
      ]
     },
     "execution_count": 305,
     "metadata": {},
     "output_type": "execute_result"
    }
   ],
   "source": [
    "features_train"
   ]
  },
  {
   "cell_type": "code",
   "execution_count": 306,
   "metadata": {},
   "outputs": [
    {
     "data": {
      "text/html": [
       "<div>\n",
       "<style scoped>\n",
       "    .dataframe tbody tr th:only-of-type {\n",
       "        vertical-align: middle;\n",
       "    }\n",
       "\n",
       "    .dataframe tbody tr th {\n",
       "        vertical-align: top;\n",
       "    }\n",
       "\n",
       "    .dataframe thead th {\n",
       "        text-align: right;\n",
       "    }\n",
       "</style>\n",
       "<table border=\"1\" class=\"dataframe\">\n",
       "  <thead>\n",
       "    <tr style=\"text-align: right;\">\n",
       "      <th></th>\n",
       "      <th>RegistrationYear</th>\n",
       "      <th>Power</th>\n",
       "      <th>Kilometer</th>\n",
       "      <th>RegistrationMonth</th>\n",
       "      <th>PostalCode</th>\n",
       "      <th>year</th>\n",
       "      <th>month</th>\n",
       "      <th>VehicleType</th>\n",
       "      <th>Gearbox</th>\n",
       "      <th>Model</th>\n",
       "      <th>FuelType</th>\n",
       "      <th>Brand</th>\n",
       "      <th>Repaired</th>\n",
       "    </tr>\n",
       "  </thead>\n",
       "  <tbody>\n",
       "    <tr>\n",
       "      <th>612</th>\n",
       "      <td>0.094081</td>\n",
       "      <td>0.877884</td>\n",
       "      <td>0.582124</td>\n",
       "      <td>0.586563</td>\n",
       "      <td>0.412666</td>\n",
       "      <td>0.008398</td>\n",
       "      <td>-0.426102</td>\n",
       "      <td>-0.136316</td>\n",
       "      <td>0.493765</td>\n",
       "      <td>-1.366949</td>\n",
       "      <td>-1.47084</td>\n",
       "      <td>-1.409907</td>\n",
       "      <td>-0.31688</td>\n",
       "    </tr>\n",
       "    <tr>\n",
       "      <th>236939</th>\n",
       "      <td>-0.319829</td>\n",
       "      <td>-0.777196</td>\n",
       "      <td>-0.767939</td>\n",
       "      <td>1.677473</td>\n",
       "      <td>-1.090980</td>\n",
       "      <td>0.008398</td>\n",
       "      <td>-0.426102</td>\n",
       "      <td>0.344017</td>\n",
       "      <td>0.493765</td>\n",
       "      <td>1.681558</td>\n",
       "      <td>0.68859</td>\n",
       "      <td>0.463521</td>\n",
       "      <td>-0.31688</td>\n",
       "    </tr>\n",
       "    <tr>\n",
       "      <th>286290</th>\n",
       "      <td>1.611753</td>\n",
       "      <td>-0.167430</td>\n",
       "      <td>-3.198053</td>\n",
       "      <td>-0.504348</td>\n",
       "      <td>-1.556702</td>\n",
       "      <td>0.008398</td>\n",
       "      <td>-0.426102</td>\n",
       "      <td>-2.057644</td>\n",
       "      <td>0.493765</td>\n",
       "      <td>1.284543</td>\n",
       "      <td>-1.47084</td>\n",
       "      <td>0.463521</td>\n",
       "      <td>-0.31688</td>\n",
       "    </tr>\n",
       "    <tr>\n",
       "      <th>229763</th>\n",
       "      <td>-1.975471</td>\n",
       "      <td>-1.125634</td>\n",
       "      <td>-1.307965</td>\n",
       "      <td>-1.322530</td>\n",
       "      <td>-0.348934</td>\n",
       "      <td>0.008398</td>\n",
       "      <td>2.229174</td>\n",
       "      <td>-0.136316</td>\n",
       "      <td>0.493765</td>\n",
       "      <td>0.121857</td>\n",
       "      <td>0.68859</td>\n",
       "      <td>1.287829</td>\n",
       "      <td>-0.31688</td>\n",
       "    </tr>\n",
       "    <tr>\n",
       "      <th>238251</th>\n",
       "      <td>-0.871710</td>\n",
       "      <td>-1.038524</td>\n",
       "      <td>0.582124</td>\n",
       "      <td>-0.777075</td>\n",
       "      <td>-0.143324</td>\n",
       "      <td>0.008398</td>\n",
       "      <td>-0.426102</td>\n",
       "      <td>0.344017</td>\n",
       "      <td>0.493765</td>\n",
       "      <td>0.292006</td>\n",
       "      <td>0.68859</td>\n",
       "      <td>-0.810410</td>\n",
       "      <td>-0.31688</td>\n",
       "    </tr>\n",
       "    <tr>\n",
       "      <th>...</th>\n",
       "      <td>...</td>\n",
       "      <td>...</td>\n",
       "      <td>...</td>\n",
       "      <td>...</td>\n",
       "      <td>...</td>\n",
       "      <td>...</td>\n",
       "      <td>...</td>\n",
       "      <td>...</td>\n",
       "      <td>...</td>\n",
       "      <td>...</td>\n",
       "      <td>...</td>\n",
       "      <td>...</td>\n",
       "      <td>...</td>\n",
       "    </tr>\n",
       "    <tr>\n",
       "      <th>68935</th>\n",
       "      <td>0.921902</td>\n",
       "      <td>-0.254539</td>\n",
       "      <td>0.582124</td>\n",
       "      <td>-0.777075</td>\n",
       "      <td>0.136342</td>\n",
       "      <td>0.008398</td>\n",
       "      <td>-0.426102</td>\n",
       "      <td>1.304681</td>\n",
       "      <td>0.493765</td>\n",
       "      <td>0.490513</td>\n",
       "      <td>0.68859</td>\n",
       "      <td>-1.110158</td>\n",
       "      <td>-0.31688</td>\n",
       "    </tr>\n",
       "    <tr>\n",
       "      <th>68515</th>\n",
       "      <td>0.783932</td>\n",
       "      <td>-0.742352</td>\n",
       "      <td>-1.577977</td>\n",
       "      <td>0.859290</td>\n",
       "      <td>1.570869</td>\n",
       "      <td>0.008398</td>\n",
       "      <td>-0.426102</td>\n",
       "      <td>0.344017</td>\n",
       "      <td>0.493765</td>\n",
       "      <td>0.830812</td>\n",
       "      <td>0.68859</td>\n",
       "      <td>-0.885347</td>\n",
       "      <td>-0.31688</td>\n",
       "    </tr>\n",
       "    <tr>\n",
       "      <th>114239</th>\n",
       "      <td>0.370021</td>\n",
       "      <td>0.999837</td>\n",
       "      <td>0.582124</td>\n",
       "      <td>-0.777075</td>\n",
       "      <td>1.504276</td>\n",
       "      <td>0.008398</td>\n",
       "      <td>-0.426102</td>\n",
       "      <td>-2.057644</td>\n",
       "      <td>0.493765</td>\n",
       "      <td>-0.360233</td>\n",
       "      <td>-1.47084</td>\n",
       "      <td>1.137955</td>\n",
       "      <td>-0.31688</td>\n",
       "    </tr>\n",
       "    <tr>\n",
       "      <th>265701</th>\n",
       "      <td>-0.319829</td>\n",
       "      <td>-0.184852</td>\n",
       "      <td>-0.092908</td>\n",
       "      <td>0.586563</td>\n",
       "      <td>0.631571</td>\n",
       "      <td>0.008398</td>\n",
       "      <td>-0.426102</td>\n",
       "      <td>-1.577312</td>\n",
       "      <td>-2.025255</td>\n",
       "      <td>-1.409487</td>\n",
       "      <td>0.68859</td>\n",
       "      <td>0.313647</td>\n",
       "      <td>-0.31688</td>\n",
       "    </tr>\n",
       "    <tr>\n",
       "      <th>323757</th>\n",
       "      <td>-0.043889</td>\n",
       "      <td>-0.306805</td>\n",
       "      <td>0.582124</td>\n",
       "      <td>0.859290</td>\n",
       "      <td>0.853042</td>\n",
       "      <td>0.008398</td>\n",
       "      <td>-0.426102</td>\n",
       "      <td>-0.136316</td>\n",
       "      <td>0.493765</td>\n",
       "      <td>-1.125905</td>\n",
       "      <td>0.68859</td>\n",
       "      <td>-1.484844</td>\n",
       "      <td>-0.31688</td>\n",
       "    </tr>\n",
       "  </tbody>\n",
       "</table>\n",
       "<p>66177 rows × 13 columns</p>\n",
       "</div>"
      ],
      "text/plain": [
       "        RegistrationYear     Power  Kilometer  RegistrationMonth  PostalCode   \n",
       "612             0.094081  0.877884   0.582124           0.586563    0.412666  \\\n",
       "236939         -0.319829 -0.777196  -0.767939           1.677473   -1.090980   \n",
       "286290          1.611753 -0.167430  -3.198053          -0.504348   -1.556702   \n",
       "229763         -1.975471 -1.125634  -1.307965          -1.322530   -0.348934   \n",
       "238251         -0.871710 -1.038524   0.582124          -0.777075   -0.143324   \n",
       "...                  ...       ...        ...                ...         ...   \n",
       "68935           0.921902 -0.254539   0.582124          -0.777075    0.136342   \n",
       "68515           0.783932 -0.742352  -1.577977           0.859290    1.570869   \n",
       "114239          0.370021  0.999837   0.582124          -0.777075    1.504276   \n",
       "265701         -0.319829 -0.184852  -0.092908           0.586563    0.631571   \n",
       "323757         -0.043889 -0.306805   0.582124           0.859290    0.853042   \n",
       "\n",
       "            year     month  VehicleType   Gearbox     Model  FuelType   \n",
       "612     0.008398 -0.426102    -0.136316  0.493765 -1.366949  -1.47084  \\\n",
       "236939  0.008398 -0.426102     0.344017  0.493765  1.681558   0.68859   \n",
       "286290  0.008398 -0.426102    -2.057644  0.493765  1.284543  -1.47084   \n",
       "229763  0.008398  2.229174    -0.136316  0.493765  0.121857   0.68859   \n",
       "238251  0.008398 -0.426102     0.344017  0.493765  0.292006   0.68859   \n",
       "...          ...       ...          ...       ...       ...       ...   \n",
       "68935   0.008398 -0.426102     1.304681  0.493765  0.490513   0.68859   \n",
       "68515   0.008398 -0.426102     0.344017  0.493765  0.830812   0.68859   \n",
       "114239  0.008398 -0.426102    -2.057644  0.493765 -0.360233  -1.47084   \n",
       "265701  0.008398 -0.426102    -1.577312 -2.025255 -1.409487   0.68859   \n",
       "323757  0.008398 -0.426102    -0.136316  0.493765 -1.125905   0.68859   \n",
       "\n",
       "           Brand  Repaired  \n",
       "612    -1.409907  -0.31688  \n",
       "236939  0.463521  -0.31688  \n",
       "286290  0.463521  -0.31688  \n",
       "229763  1.287829  -0.31688  \n",
       "238251 -0.810410  -0.31688  \n",
       "...          ...       ...  \n",
       "68935  -1.110158  -0.31688  \n",
       "68515  -0.885347  -0.31688  \n",
       "114239  1.137955  -0.31688  \n",
       "265701  0.313647  -0.31688  \n",
       "323757 -1.484844  -0.31688  \n",
       "\n",
       "[66177 rows x 13 columns]"
      ]
     },
     "execution_count": 306,
     "metadata": {},
     "output_type": "execute_result"
    }
   ],
   "source": [
    "features_valid"
   ]
  },
  {
   "cell_type": "code",
   "execution_count": 307,
   "metadata": {
    "scrolled": false
   },
   "outputs": [
    {
     "data": {
      "text/html": [
       "<div>\n",
       "<style scoped>\n",
       "    .dataframe tbody tr th:only-of-type {\n",
       "        vertical-align: middle;\n",
       "    }\n",
       "\n",
       "    .dataframe tbody tr th {\n",
       "        vertical-align: top;\n",
       "    }\n",
       "\n",
       "    .dataframe thead th {\n",
       "        text-align: right;\n",
       "    }\n",
       "</style>\n",
       "<table border=\"1\" class=\"dataframe\">\n",
       "  <thead>\n",
       "    <tr style=\"text-align: right;\">\n",
       "      <th></th>\n",
       "      <th>RegistrationYear</th>\n",
       "      <th>Power</th>\n",
       "      <th>Kilometer</th>\n",
       "      <th>RegistrationMonth</th>\n",
       "      <th>PostalCode</th>\n",
       "      <th>year</th>\n",
       "      <th>month</th>\n",
       "      <th>VehicleType</th>\n",
       "      <th>Gearbox</th>\n",
       "      <th>Model</th>\n",
       "      <th>FuelType</th>\n",
       "      <th>Brand</th>\n",
       "      <th>Repaired</th>\n",
       "    </tr>\n",
       "  </thead>\n",
       "  <tbody>\n",
       "    <tr>\n",
       "      <th>222950</th>\n",
       "      <td>-0.319829</td>\n",
       "      <td>0.181008</td>\n",
       "      <td>0.582124</td>\n",
       "      <td>1.677473</td>\n",
       "      <td>-0.637309</td>\n",
       "      <td>0.008398</td>\n",
       "      <td>-0.426102</td>\n",
       "      <td>1.304681</td>\n",
       "      <td>0.493765</td>\n",
       "      <td>0.660663</td>\n",
       "      <td>-1.47084</td>\n",
       "      <td>-0.810410</td>\n",
       "      <td>-0.31688</td>\n",
       "    </tr>\n",
       "    <tr>\n",
       "      <th>194210</th>\n",
       "      <td>-2.527352</td>\n",
       "      <td>-0.777196</td>\n",
       "      <td>-0.767939</td>\n",
       "      <td>-1.322530</td>\n",
       "      <td>-0.990916</td>\n",
       "      <td>0.008398</td>\n",
       "      <td>-0.426102</td>\n",
       "      <td>-0.136316</td>\n",
       "      <td>-2.025255</td>\n",
       "      <td>-1.055009</td>\n",
       "      <td>0.68859</td>\n",
       "      <td>-0.061039</td>\n",
       "      <td>-0.31688</td>\n",
       "    </tr>\n",
       "    <tr>\n",
       "      <th>48925</th>\n",
       "      <td>-1.699531</td>\n",
       "      <td>-1.212743</td>\n",
       "      <td>-1.307965</td>\n",
       "      <td>0.859290</td>\n",
       "      <td>-1.708043</td>\n",
       "      <td>0.008398</td>\n",
       "      <td>-0.426102</td>\n",
       "      <td>0.344017</td>\n",
       "      <td>0.493765</td>\n",
       "      <td>0.830812</td>\n",
       "      <td>0.68859</td>\n",
       "      <td>1.287829</td>\n",
       "      <td>-0.31688</td>\n",
       "    </tr>\n",
       "    <tr>\n",
       "      <th>101214</th>\n",
       "      <td>-0.595770</td>\n",
       "      <td>-1.143056</td>\n",
       "      <td>0.582124</td>\n",
       "      <td>1.404745</td>\n",
       "      <td>1.499883</td>\n",
       "      <td>0.008398</td>\n",
       "      <td>-0.426102</td>\n",
       "      <td>0.344017</td>\n",
       "      <td>0.493765</td>\n",
       "      <td>0.618125</td>\n",
       "      <td>0.68859</td>\n",
       "      <td>0.163773</td>\n",
       "      <td>-0.31688</td>\n",
       "    </tr>\n",
       "    <tr>\n",
       "      <th>120113</th>\n",
       "      <td>0.370021</td>\n",
       "      <td>-1.038524</td>\n",
       "      <td>0.582124</td>\n",
       "      <td>1.404745</td>\n",
       "      <td>-0.067674</td>\n",
       "      <td>0.008398</td>\n",
       "      <td>-0.426102</td>\n",
       "      <td>-0.136316</td>\n",
       "      <td>0.493765</td>\n",
       "      <td>1.681558</td>\n",
       "      <td>-1.47084</td>\n",
       "      <td>0.313647</td>\n",
       "      <td>-0.31688</td>\n",
       "    </tr>\n",
       "    <tr>\n",
       "      <th>...</th>\n",
       "      <td>...</td>\n",
       "      <td>...</td>\n",
       "      <td>...</td>\n",
       "      <td>...</td>\n",
       "      <td>...</td>\n",
       "      <td>...</td>\n",
       "      <td>...</td>\n",
       "      <td>...</td>\n",
       "      <td>...</td>\n",
       "      <td>...</td>\n",
       "      <td>...</td>\n",
       "      <td>...</td>\n",
       "      <td>...</td>\n",
       "    </tr>\n",
       "    <tr>\n",
       "      <th>16736</th>\n",
       "      <td>0.921902</td>\n",
       "      <td>1.400541</td>\n",
       "      <td>0.582124</td>\n",
       "      <td>-0.504348</td>\n",
       "      <td>-0.411678</td>\n",
       "      <td>0.008398</td>\n",
       "      <td>-0.426102</td>\n",
       "      <td>-1.577312</td>\n",
       "      <td>0.493765</td>\n",
       "      <td>1.653200</td>\n",
       "      <td>0.68859</td>\n",
       "      <td>-1.484844</td>\n",
       "      <td>-0.31688</td>\n",
       "    </tr>\n",
       "    <tr>\n",
       "      <th>27440</th>\n",
       "      <td>1.473782</td>\n",
       "      <td>0.285540</td>\n",
       "      <td>-2.388015</td>\n",
       "      <td>-1.595258</td>\n",
       "      <td>0.048563</td>\n",
       "      <td>0.008398</td>\n",
       "      <td>-0.426102</td>\n",
       "      <td>-0.136316</td>\n",
       "      <td>0.493765</td>\n",
       "      <td>1.525588</td>\n",
       "      <td>0.68859</td>\n",
       "      <td>1.063018</td>\n",
       "      <td>-0.31688</td>\n",
       "    </tr>\n",
       "    <tr>\n",
       "      <th>241787</th>\n",
       "      <td>-1.009680</td>\n",
       "      <td>0.529446</td>\n",
       "      <td>0.582124</td>\n",
       "      <td>-1.322530</td>\n",
       "      <td>1.458714</td>\n",
       "      <td>0.008398</td>\n",
       "      <td>-0.426102</td>\n",
       "      <td>-0.136316</td>\n",
       "      <td>-2.025255</td>\n",
       "      <td>-0.686352</td>\n",
       "      <td>0.68859</td>\n",
       "      <td>-0.061039</td>\n",
       "      <td>-0.31688</td>\n",
       "    </tr>\n",
       "    <tr>\n",
       "      <th>251395</th>\n",
       "      <td>-0.457800</td>\n",
       "      <td>-0.097742</td>\n",
       "      <td>0.582124</td>\n",
       "      <td>-0.777075</td>\n",
       "      <td>1.357989</td>\n",
       "      <td>0.008398</td>\n",
       "      <td>-0.426102</td>\n",
       "      <td>1.304681</td>\n",
       "      <td>-2.025255</td>\n",
       "      <td>0.405439</td>\n",
       "      <td>0.68859</td>\n",
       "      <td>0.463521</td>\n",
       "      <td>-0.31688</td>\n",
       "    </tr>\n",
       "    <tr>\n",
       "      <th>262246</th>\n",
       "      <td>1.887693</td>\n",
       "      <td>0.355227</td>\n",
       "      <td>-2.658028</td>\n",
       "      <td>0.859290</td>\n",
       "      <td>1.433523</td>\n",
       "      <td>0.008398</td>\n",
       "      <td>-0.426102</td>\n",
       "      <td>0.344017</td>\n",
       "      <td>0.493765</td>\n",
       "      <td>0.121857</td>\n",
       "      <td>-1.47084</td>\n",
       "      <td>1.287829</td>\n",
       "      <td>-0.31688</td>\n",
       "    </tr>\n",
       "  </tbody>\n",
       "</table>\n",
       "<p>66178 rows × 13 columns</p>\n",
       "</div>"
      ],
      "text/plain": [
       "        RegistrationYear     Power  Kilometer  RegistrationMonth  PostalCode   \n",
       "222950         -0.319829  0.181008   0.582124           1.677473   -0.637309  \\\n",
       "194210         -2.527352 -0.777196  -0.767939          -1.322530   -0.990916   \n",
       "48925          -1.699531 -1.212743  -1.307965           0.859290   -1.708043   \n",
       "101214         -0.595770 -1.143056   0.582124           1.404745    1.499883   \n",
       "120113          0.370021 -1.038524   0.582124           1.404745   -0.067674   \n",
       "...                  ...       ...        ...                ...         ...   \n",
       "16736           0.921902  1.400541   0.582124          -0.504348   -0.411678   \n",
       "27440           1.473782  0.285540  -2.388015          -1.595258    0.048563   \n",
       "241787         -1.009680  0.529446   0.582124          -1.322530    1.458714   \n",
       "251395         -0.457800 -0.097742   0.582124          -0.777075    1.357989   \n",
       "262246          1.887693  0.355227  -2.658028           0.859290    1.433523   \n",
       "\n",
       "            year     month  VehicleType   Gearbox     Model  FuelType   \n",
       "222950  0.008398 -0.426102     1.304681  0.493765  0.660663  -1.47084  \\\n",
       "194210  0.008398 -0.426102    -0.136316 -2.025255 -1.055009   0.68859   \n",
       "48925   0.008398 -0.426102     0.344017  0.493765  0.830812   0.68859   \n",
       "101214  0.008398 -0.426102     0.344017  0.493765  0.618125   0.68859   \n",
       "120113  0.008398 -0.426102    -0.136316  0.493765  1.681558  -1.47084   \n",
       "...          ...       ...          ...       ...       ...       ...   \n",
       "16736   0.008398 -0.426102    -1.577312  0.493765  1.653200   0.68859   \n",
       "27440   0.008398 -0.426102    -0.136316  0.493765  1.525588   0.68859   \n",
       "241787  0.008398 -0.426102    -0.136316 -2.025255 -0.686352   0.68859   \n",
       "251395  0.008398 -0.426102     1.304681 -2.025255  0.405439   0.68859   \n",
       "262246  0.008398 -0.426102     0.344017  0.493765  0.121857  -1.47084   \n",
       "\n",
       "           Brand  Repaired  \n",
       "222950 -0.810410  -0.31688  \n",
       "194210 -0.061039  -0.31688  \n",
       "48925   1.287829  -0.31688  \n",
       "101214  0.163773  -0.31688  \n",
       "120113  0.313647  -0.31688  \n",
       "...          ...       ...  \n",
       "16736  -1.484844  -0.31688  \n",
       "27440   1.063018  -0.31688  \n",
       "241787 -0.061039  -0.31688  \n",
       "251395  0.463521  -0.31688  \n",
       "262246  1.287829  -0.31688  \n",
       "\n",
       "[66178 rows x 13 columns]"
      ]
     },
     "execution_count": 307,
     "metadata": {},
     "output_type": "execute_result"
    }
   ],
   "source": [
    "features_test"
   ]
  },
  {
   "cell_type": "markdown",
   "metadata": {},
   "source": [
    "### Проверка признаков на мультиколлинеарность"
   ]
  },
  {
   "cell_type": "markdown",
   "metadata": {},
   "source": [
    "Проверим на мультиколлинеарность сформированный обучающий набор признаков:"
   ]
  },
  {
   "cell_type": "code",
   "execution_count": 308,
   "metadata": {
    "scrolled": true
   },
   "outputs": [
    {
     "name": "stdout",
     "output_type": "stream",
     "text": [
      "interval columns not set, guessing: ['RegistrationYear', 'Power', 'Kilometer', 'RegistrationMonth', 'PostalCode', 'year', 'month', 'VehicleType', 'Gearbox', 'Model', 'FuelType', 'Brand', 'Repaired']\n"
     ]
    },
    {
     "data": {
      "image/png": "[encoded data removed]",
      "text/plain": [
       "<Figure size 1500x1300 with 2 Axes>"
      ]
     },
     "metadata": {},
     "output_type": "display_data"
    }
   ],
   "source": [
    "plt.figure(figsize=(15, 13));\n",
    "sns.heatmap(features_train.phik_matrix(), annot=True);"
   ]
  },
  {
   "cell_type": "markdown",
   "metadata": {},
   "source": [
    "Наблюдается коллинеарность у признаков модель и бренд, что логично, так как как правило название модели определяет название бренда. Поэтому бренд можем исключить из рассмотрения. НО я решил его оставить.\n",
    "Также коллинеарны год и месяц создания анкеты, что логично, поскольку множество объявлений сделано в один и тот же месяц конкретного года."
   ]
  },
  {
   "cell_type": "markdown",
   "metadata": {},
   "source": [
    "### Промежуточные выводы:"
   ]
  },
  {
   "cell_type": "markdown",
   "metadata": {},
   "source": [
    "Изучены данные исходного датафрейма: \n",
    "- датасет имеет 354369 объектов и 16 признаков, из которых 7 признаков - числовые с типом int64 и остальные с типом object; \n",
    "- 5 признаков (все нечисловые) имеют пропуски, 2 из них имеют количество пропусков более 10% от общего числа объектов, общее число пропусков в датасете - 181077.\n",
    "\n",
    "Проведена обработка числовых признаков:\n",
    "- значения целевого признака Price отфильтрованы по условию Price >= 300, ориентируясь на типовой европейский сайт продажи бу машин, удалено 23163 аномальных объекта;\n",
    "- признак RegistrationYear отфильтрован по условию 1900 <= RegistrationYear <= 2019, также с учетом данных с типового европейского сайта продажи бу машин, удалено 97 аномальных значений;\n",
    "- признак Power имеет 32127 значений до 4.2 л.с. и свыше 1600 л.с. (с учетом данных с типового европейского сайта продажи бу машин), 157 аномалий, превышающих 1600 л.с. удалены, 65 аномалий между 0 и 4.2 л.с. удалены, 31905 аномалий, соответствующих нулевой мощности (продавцы не заполнили умышленно или не знали информацию) заполнены методом KNeighbourClassifier с учетом данных других признаков;\n",
    "- признак Kilometer имеет пик в районе 150000 км, возможно многие продают машины после этого пробега, что соотвтествует примерно 5 годам, когда заканечивается гарантия на все агрегаты авто, кроме того, продавцы могут сматывать пробег до этого значения; значения не фильтровались, пропусков нет;\n",
    "- признак RegistrationMonth имеет 28235 нулевых значений, что может значить отсуствие информации у продавцов или нежелание заполнять его, значений много, не удалялись, заполнение нулевых значений не проводилось;\n",
    "- признак NumberOfPictures полнностью удален, поскольку имеет все нулевые значения;\n",
    "- признак PostalCode имеет адекватные значения без пропусков и аномалий;\n",
    "- обновлены индексы обработанного датафрейма.\n",
    "\n",
    "Проведена обработка нечисловых признаков:\n",
    "- удалены неинформативные признаки DateCrawled и LastSeen;\n",
    "- признак DateCreated заменен на признаки year и month;\n",
    "- признак VehicleType имеет адекватные значения, но 37490 из них - пропуски;\n",
    "- признак Gearbox имеет адекватные значения, но 19833 из них - пропуски;\n",
    "- признак Model имеет адекватные значения, но 19705 из них - пропуски;\n",
    "- признак FuelType имеет адекватные значения, но 32895 из них - пропуски;\n",
    "- признак Repaired имеет адекватные значения, но 71154 из них - пропуски.\n",
    "\n",
    "Итоговый размер датасета после предварительной обработки: (330887, 14).\n",
    "\n",
    "Данные разделены на выборки:\n",
    "- перед заполнением пропусков данные разделены на обучающую (198531, 14), валидационную (66177, 14) и тестовую (66178, 14) выборки.\n",
    "\n",
    "Проведено преобразование категориальных признаков в числовые:\n",
    "- категориальные признаки преобразованы в числовые методом Original_encoder.\n",
    "\n",
    "Заполнены пропуски:\n",
    "- значения пяти вышеперечисленных признаков, а также нулевые значения признака Power заполнены методом KNeighbourClassifier.\n",
    "\n",
    "Масштабированы признаки:\n",
    "- признаки масштабированы с помощью метода StandardScaler().\n",
    "\n",
    "Проведена проверка признаков на мультиколлинеарность: \n",
    "- наблюдается коллинеарность у признаков модель и бренд, что логично, так как как правило название модели определяет название бренда. Поэтому бренд можем исключить из рассмотрения. Также коллинеарны год и месяц создания анкеты, что логично, поскольку множество объявлений сделано в один и тот же месяц конкретного года. Признаки Brand и Month были оставлены,, поскольку в дальнейшем не планировал использовать линейную регрессию."
   ]
  },
  {
   "cell_type": "markdown",
   "metadata": {},
   "source": [
    "## Подготовка выборок для обучения моделей"
   ]
  },
  {
   "cell_type": "markdown",
   "metadata": {},
   "source": [
    "Подготовка выборок сделана на предыдущем этапе, поскольку разбивать данные на выборки целесообразно перед преобразование категориальных признаков и их масштабирования, чтобы избежать утечки данных в тест."
   ]
  },
  {
   "cell_type": "markdown",
   "metadata": {},
   "source": [
    "### Промежуточные выводы"
   ]
  },
  {
   "cell_type": "markdown",
   "metadata": {},
   "source": [
    "Данные разделены по целевому и нецелевым признакам, а затем разделены на обучающую (198531, 14), валидационную (66177, 14) и тестовую (66178, 14) выборки в соотношении 3:1:1."
   ]
  },
  {
   "cell_type": "markdown",
   "metadata": {},
   "source": [
    "## Обучение моделей"
   ]
  },
  {
   "cell_type": "markdown",
   "metadata": {},
   "source": [
    "Исследуем четыре модели: решающее дерево, случайный лес, LightGBM и Catboost."
   ]
  },
  {
   "cell_type": "markdown",
   "metadata": {},
   "source": [
    "### Decision tree"
   ]
  },
  {
   "cell_type": "markdown",
   "metadata": {},
   "source": [
    "Используем optuna для подбора параметров."
   ]
  },
  {
   "cell_type": "code",
   "execution_count": 309,
   "metadata": {
    "scrolled": true
   },
   "outputs": [
    {
     "name": "stderr",
     "output_type": "stream",
     "text": [
      "\u001b[32m[I 2023-04-11 13:41:30,108]\u001b[0m A new study created in memory with name: no-name-d4c88d11-a640-4b9b-86f8-445f187ab388\u001b[0m\n",
      "\u001b[32m[I 2023-04-11 13:41:30,700]\u001b[0m Trial 0 finished with value: 2081.939466791733 and parameters: {'max_depth': 11}. Best is trial 0 with value: 2081.939466791733.\u001b[0m\n",
      "\u001b[32m[I 2023-04-11 13:41:30,817]\u001b[0m Trial 1 finished with value: 3332.118368962274 and parameters: {'max_depth': 2}. Best is trial 0 with value: 2081.939466791733.\u001b[0m\n",
      "\u001b[32m[I 2023-04-11 13:41:31,771]\u001b[0m Trial 2 finished with value: 2209.7183674396547 and parameters: {'max_depth': 20}. Best is trial 0 with value: 2081.939466791733.\u001b[0m\n",
      "\u001b[32m[I 2023-04-11 13:41:32,339]\u001b[0m Trial 3 finished with value: 2081.939466791733 and parameters: {'max_depth': 11}. Best is trial 0 with value: 2081.939466791733.\u001b[0m\n",
      "\u001b[32m[I 2023-04-11 13:41:32,953]\u001b[0m Trial 4 finished with value: 2063.2202301138286 and parameters: {'max_depth': 12}. Best is trial 4 with value: 2063.2202301138286.\u001b[0m\n",
      "\u001b[32m[I 2023-04-11 13:41:33,567]\u001b[0m Trial 5 finished with value: 2063.2202301138286 and parameters: {'max_depth': 12}. Best is trial 4 with value: 2063.2202301138286.\u001b[0m\n",
      "\u001b[32m[I 2023-04-11 13:41:33,790]\u001b[0m Trial 6 finished with value: 2718.7791112094365 and parameters: {'max_depth': 4}. Best is trial 4 with value: 2063.2202301138286.\u001b[0m\n",
      "\u001b[32m[I 2023-04-11 13:41:34,408]\u001b[0m Trial 7 finished with value: 2063.2202301138286 and parameters: {'max_depth': 12}. Best is trial 4 with value: 2063.2202301138286.\u001b[0m\n",
      "\u001b[32m[I 2023-04-11 13:41:34,840]\u001b[0m Trial 8 finished with value: 2230.9592370781766 and parameters: {'max_depth': 8}. Best is trial 4 with value: 2063.2202301138286.\u001b[0m\n",
      "\u001b[32m[I 2023-04-11 13:41:35,413]\u001b[0m Trial 9 finished with value: 2081.939466791733 and parameters: {'max_depth': 11}. Best is trial 4 with value: 2063.2202301138286.\u001b[0m\n"
     ]
    },
    {
     "name": "stdout",
     "output_type": "stream",
     "text": [
      "CPU times: user 5.28 s, sys: 25.2 ms, total: 5.31 s\n",
      "Wall time: 5.31 s\n"
     ]
    },
    {
     "data": {
      "text/plain": [
       "({'max_depth': 12}, 2063.2202301138286)"
      ]
     },
     "execution_count": 309,
     "metadata": {},
     "output_type": "execute_result"
    }
   ],
   "source": [
    "%%time\n",
    "def objective_cv(trial):\n",
    "    \n",
    "    depth = trial.suggest_int('max_depth', 1, 20) # задаем диапазон параметра\n",
    "    model = DecisionTreeRegressor(max_depth=depth, random_state=12345) # формируем объект модели \n",
    "    model.fit(features_train, target_train) # обучаем модель\n",
    "    predicted_valid = model.predict(features_valid) # формируем предсказания\n",
    "\n",
    "    return (mean_squared_error(target_valid, predicted_valid))**0.5\n",
    "\n",
    "study = optuna.create_study(direction='minimize') # создаем объект исследования, цель - минимазация метрики RMSE\n",
    "study.optimize(objective_cv, n_trials=10)  # количество прогонов с разными параметрами\n",
    "study.best_params, study.best_value"
   ]
  },
  {
   "cell_type": "markdown",
   "metadata": {},
   "source": [
    "Оценим время обучения и время предсказания для лучшего значения метрики:"
   ]
  },
  {
   "cell_type": "code",
   "execution_count": 310,
   "metadata": {},
   "outputs": [],
   "source": [
    "model = DecisionTreeRegressor(max_depth=study.best_params['max_depth'], random_state=12345)"
   ]
  },
  {
   "cell_type": "markdown",
   "metadata": {},
   "source": [
    "Время обучения:"
   ]
  },
  {
   "cell_type": "code",
   "execution_count": 311,
   "metadata": {
    "scrolled": true
   },
   "outputs": [
    {
     "name": "stdout",
     "output_type": "stream",
     "text": [
      "604 ms ± 0 ns per loop (mean ± std. dev. of 1 run, 1 loop each)\n"
     ]
    },
    {
     "data": {
      "text/plain": [
       "0.6037540239999544"
      ]
     },
     "execution_count": 311,
     "metadata": {},
     "output_type": "execute_result"
    }
   ],
   "source": [
    "time_train_DT = %timeit -n1 -r1 -o model.fit(features_train, target_train)\n",
    "time_train_DT.average"
   ]
  },
  {
   "cell_type": "markdown",
   "metadata": {},
   "source": [
    "Время предсказания:"
   ]
  },
  {
   "cell_type": "code",
   "execution_count": 312,
   "metadata": {
    "scrolled": true
   },
   "outputs": [
    {
     "name": "stdout",
     "output_type": "stream",
     "text": [
      "9.24 ms ± 0 ns per loop (mean ± std. dev. of 1 run, 1 loop each)\n"
     ]
    },
    {
     "data": {
      "text/plain": [
       "0.00924290300008579"
      ]
     },
     "execution_count": 312,
     "metadata": {},
     "output_type": "execute_result"
    }
   ],
   "source": [
    "time_pred_DT = %timeit -n1 -r1 -o model.predict(features_valid)\n",
    "predicted_valid = model.predict(features_valid)\n",
    "time_pred_DT.average"
   ]
  },
  {
   "cell_type": "markdown",
   "metadata": {},
   "source": [
    "Метрика RMSE:"
   ]
  },
  {
   "cell_type": "code",
   "execution_count": 313,
   "metadata": {
    "scrolled": true
   },
   "outputs": [
    {
     "data": {
      "text/plain": [
       "2063.2202301138286"
      ]
     },
     "execution_count": 313,
     "metadata": {},
     "output_type": "execute_result"
    }
   ],
   "source": [
    "RMSE_DT = mean_squared_error(target_valid, predicted_valid)**0.5\n",
    "RMSE_DT"
   ]
  },
  {
   "cell_type": "markdown",
   "metadata": {},
   "source": [
    "### Random forest"
   ]
  },
  {
   "cell_type": "markdown",
   "metadata": {},
   "source": [
    "Используем optuna для подбора параметров."
   ]
  },
  {
   "cell_type": "markdown",
   "metadata": {},
   "source": [
    "Считает долго - сократил диапазон параметров."
   ]
  },
  {
   "cell_type": "code",
   "execution_count": 314,
   "metadata": {
    "scrolled": true
   },
   "outputs": [
    {
     "name": "stderr",
     "output_type": "stream",
     "text": [
      "\u001b[32m[I 2023-04-11 13:41:36,071]\u001b[0m A new study created in memory with name: no-name-4a2b2c79-7e7b-4b35-8f82-56cb96208cd1\u001b[0m\n",
      "\u001b[32m[I 2023-04-11 13:41:49,901]\u001b[0m Trial 0 finished with value: 1843.1477508014455 and parameters: {'max_depth': 13, 'n_estimators': 30}. Best is trial 0 with value: 1843.1477508014455.\u001b[0m\n",
      "\u001b[32m[I 2023-04-11 13:42:04,076]\u001b[0m Trial 1 finished with value: 1843.1477508014455 and parameters: {'max_depth': 13, 'n_estimators': 30}. Best is trial 0 with value: 1843.1477508014455.\u001b[0m\n",
      "\u001b[32m[I 2023-04-11 13:42:10,132]\u001b[0m Trial 2 finished with value: 2446.169144965822 and parameters: {'max_depth': 5, 'n_estimators': 30}. Best is trial 0 with value: 1843.1477508014455.\u001b[0m\n",
      "\u001b[32m[I 2023-04-11 13:42:12,159]\u001b[0m Trial 3 finished with value: 2443.521294565681 and parameters: {'max_depth': 5, 'n_estimators': 10}. Best is trial 0 with value: 1843.1477508014455.\u001b[0m\n",
      "\u001b[32m[I 2023-04-11 13:42:22,339]\u001b[0m Trial 4 finished with value: 2062.6131794340095 and parameters: {'max_depth': 9, 'n_estimators': 30}. Best is trial 0 with value: 1843.1477508014455.\u001b[0m\n",
      "\u001b[32m[I 2023-04-11 13:42:25,713]\u001b[0m Trial 5 finished with value: 2069.170945493859 and parameters: {'max_depth': 9, 'n_estimators': 10}. Best is trial 0 with value: 1843.1477508014455.\u001b[0m\n",
      "\u001b[32m[I 2023-04-11 13:42:35,778]\u001b[0m Trial 6 finished with value: 2062.6131794340095 and parameters: {'max_depth': 9, 'n_estimators': 30}. Best is trial 0 with value: 1843.1477508014455.\u001b[0m\n",
      "\u001b[32m[I 2023-04-11 13:42:36,624]\u001b[0m Trial 7 finished with value: 3774.421804298039 and parameters: {'max_depth': 1, 'n_estimators': 20}. Best is trial 0 with value: 1843.1477508014455.\u001b[0m\n",
      "\u001b[32m[I 2023-04-11 13:42:41,234]\u001b[0m Trial 8 finished with value: 1863.1949446500607 and parameters: {'max_depth': 13, 'n_estimators': 10}. Best is trial 0 with value: 1843.1477508014455.\u001b[0m\n",
      "\u001b[32m[I 2023-04-11 13:42:45,861]\u001b[0m Trial 9 finished with value: 1863.1949446500607 and parameters: {'max_depth': 13, 'n_estimators': 10}. Best is trial 0 with value: 1843.1477508014455.\u001b[0m\n"
     ]
    },
    {
     "name": "stdout",
     "output_type": "stream",
     "text": [
      "CPU times: user 1min 9s, sys: 246 ms, total: 1min 9s\n",
      "Wall time: 1min 9s\n"
     ]
    },
    {
     "data": {
      "text/plain": [
       "({'max_depth': 13, 'n_estimators': 30}, 1843.1477508014455)"
      ]
     },
     "execution_count": 314,
     "metadata": {},
     "output_type": "execute_result"
    }
   ],
   "source": [
    "%%time\n",
    "\n",
    "def objective_cv(trial):\n",
    "    \n",
    "    depth = trial.suggest_int('max_depth', 1, 21, step=4)\n",
    "    n_est = trial.suggest_int('n_estimators', 10, 30, step=10)\n",
    "    \n",
    "    model = RandomForestRegressor(max_depth=depth, n_estimators=n_est, random_state=12345)\n",
    "    model.fit(features_train, target_train)\n",
    "    predicted_valid = model.predict(features_valid)\n",
    "    \n",
    "    return mean_squared_error(target_valid, predicted_valid)**0.5\n",
    "\n",
    "study = optuna.create_study(direction='minimize')\n",
    "study.optimize(objective_cv, n_trials=10)\n",
    "study.best_params, study.best_value"
   ]
  },
  {
   "cell_type": "markdown",
   "metadata": {},
   "source": [
    "Оценим время обучения и время предсказания для лучшего значения метрики:"
   ]
  },
  {
   "cell_type": "code",
   "execution_count": 315,
   "metadata": {},
   "outputs": [],
   "source": [
    "model = RandomForestRegressor(\n",
    "    max_depth=study.best_params['max_depth'], n_estimators=study.best_params['n_estimators'], random_state=12345)"
   ]
  },
  {
   "cell_type": "markdown",
   "metadata": {},
   "source": [
    "Время обучения:"
   ]
  },
  {
   "cell_type": "code",
   "execution_count": 316,
   "metadata": {},
   "outputs": [
    {
     "name": "stdout",
     "output_type": "stream",
     "text": [
      "13.6 s ± 0 ns per loop (mean ± std. dev. of 1 run, 1 loop each)\n"
     ]
    },
    {
     "data": {
      "text/plain": [
       "13.597985321000124"
      ]
     },
     "execution_count": 316,
     "metadata": {},
     "output_type": "execute_result"
    }
   ],
   "source": [
    "time_train_RF = %timeit -n1 -r1 -o model.fit(features_train, target_train)\n",
    "time_train_RF.average"
   ]
  },
  {
   "cell_type": "markdown",
   "metadata": {},
   "source": [
    "Время предсказания:"
   ]
  },
  {
   "cell_type": "code",
   "execution_count": 317,
   "metadata": {},
   "outputs": [
    {
     "name": "stdout",
     "output_type": "stream",
     "text": [
      "244 ms ± 0 ns per loop (mean ± std. dev. of 1 run, 1 loop each)\n"
     ]
    },
    {
     "data": {
      "text/plain": [
       "0.24448574100006226"
      ]
     },
     "execution_count": 317,
     "metadata": {},
     "output_type": "execute_result"
    }
   ],
   "source": [
    "time_pred_RF = %timeit -n1 -r1 -o model.predict(features_valid)\n",
    "predicted_valid = model.predict(features_valid)\n",
    "time_pred_RF.average"
   ]
  },
  {
   "cell_type": "markdown",
   "metadata": {},
   "source": [
    "Метрика RMSE:"
   ]
  },
  {
   "cell_type": "code",
   "execution_count": 318,
   "metadata": {
    "scrolled": true
   },
   "outputs": [
    {
     "data": {
      "text/plain": [
       "1843.1477508014455"
      ]
     },
     "execution_count": 318,
     "metadata": {},
     "output_type": "execute_result"
    }
   ],
   "source": [
    "RMSE_RF = mean_squared_error(target_valid, predicted_valid)**0.5\n",
    "RMSE_RF"
   ]
  },
  {
   "cell_type": "markdown",
   "metadata": {},
   "source": [
    "### Light GBM"
   ]
  },
  {
   "cell_type": "markdown",
   "metadata": {},
   "source": [
    "Используем optuna для подбора параметров."
   ]
  },
  {
   "cell_type": "code",
   "execution_count": 319,
   "metadata": {
    "scrolled": true
   },
   "outputs": [
    {
     "name": "stderr",
     "output_type": "stream",
     "text": [
      "\u001b[32m[I 2023-04-11 13:42:59,970]\u001b[0m A new study created in memory with name: no-name-9a7c2256-a78e-464b-a5db-0b4eb017789d\u001b[0m\n",
      "\u001b[32m[I 2023-04-11 13:43:01,300]\u001b[0m Trial 0 finished with value: 1742.6450916271995 and parameters: {'leaves': 41, 'n_estimators': 150}. Best is trial 0 with value: 1742.6450916271995.\u001b[0m\n",
      "\u001b[32m[I 2023-04-11 13:43:02,331]\u001b[0m Trial 1 finished with value: 1738.1405441692157 and parameters: {'leaves': 31, 'n_estimators': 200}. Best is trial 1 with value: 1738.1405441692157.\u001b[0m\n",
      "\u001b[32m[I 2023-04-11 13:43:03,161]\u001b[0m Trial 2 finished with value: 1763.0640468200427 and parameters: {'leaves': 31, 'n_estimators': 150}. Best is trial 1 with value: 1738.1405441692157.\u001b[0m\n",
      "\u001b[32m[I 2023-04-11 13:43:03,993]\u001b[0m Trial 3 finished with value: 1763.0640468200427 and parameters: {'leaves': 31, 'n_estimators': 150}. Best is trial 1 with value: 1738.1405441692157.\u001b[0m\n",
      "\u001b[32m[I 2023-04-11 13:43:04,878]\u001b[0m Trial 4 finished with value: 1742.6450916271995 and parameters: {'leaves': 41, 'n_estimators': 150}. Best is trial 1 with value: 1738.1405441692157.\u001b[0m\n",
      "\u001b[32m[I 2023-04-11 13:43:06,084]\u001b[0m Trial 5 finished with value: 1699.4754954675366 and parameters: {'leaves': 61, 'n_estimators': 200}. Best is trial 5 with value: 1699.4754954675366.\u001b[0m\n",
      "\u001b[32m[I 2023-04-11 13:43:06,959]\u001b[0m Trial 6 finished with value: 1763.0640468200427 and parameters: {'leaves': 31, 'n_estimators': 150}. Best is trial 5 with value: 1699.4754954675366.\u001b[0m\n",
      "\u001b[32m[I 2023-04-11 13:43:07,958]\u001b[0m Trial 7 finished with value: 1738.1405441692157 and parameters: {'leaves': 31, 'n_estimators': 200}. Best is trial 5 with value: 1699.4754954675366.\u001b[0m\n",
      "\u001b[32m[I 2023-04-11 13:43:09,038]\u001b[0m Trial 8 finished with value: 1722.2932610000732 and parameters: {'leaves': 41, 'n_estimators': 200}. Best is trial 5 with value: 1699.4754954675366.\u001b[0m\n",
      "\u001b[32m[I 2023-04-11 13:43:09,766]\u001b[0m Trial 9 finished with value: 1777.9325691294691 and parameters: {'leaves': 41, 'n_estimators': 100}. Best is trial 5 with value: 1699.4754954675366.\u001b[0m\n"
     ]
    },
    {
     "name": "stdout",
     "output_type": "stream",
     "text": [
      "CPU times: user 1min 9s, sys: 3.1 s, total: 1min 12s\n",
      "Wall time: 9.8 s\n"
     ]
    },
    {
     "data": {
      "text/plain": [
       "({'leaves': 61, 'n_estimators': 200}, 1699.4754954675366)"
      ]
     },
     "execution_count": 319,
     "metadata": {},
     "output_type": "execute_result"
    }
   ],
   "source": [
    "%%time\n",
    "\n",
    "def objective_cv(trial):\n",
    "    \n",
    "    leaves = trial.suggest_int('leaves', 31, 61, step=10)\n",
    "    n_est = trial.suggest_int('n_estimators', 100, 200, step=50)\n",
    "    \n",
    "    model = lgbm.LGBMRegressor(objective=\"regression\", n_estimators=n_est, metric='rmse', num_leaves=leaves)\n",
    "    model.fit(features_train, target_train)\n",
    "    predicted_valid = model.predict(features_valid)\n",
    "    \n",
    "    return (mean_squared_error(target_valid, predicted_valid))**0.5\n",
    "\n",
    "study = optuna.create_study(direction='minimize')\n",
    "study.optimize(objective_cv, n_trials=10)\n",
    "study.best_params, study.best_value"
   ]
  },
  {
   "cell_type": "markdown",
   "metadata": {},
   "source": [
    "Оценим время обучения и время предсказания для лучшего значения метрики:"
   ]
  },
  {
   "cell_type": "code",
   "execution_count": 320,
   "metadata": {},
   "outputs": [],
   "source": [
    "model = lgbm.LGBMRegressor(\n",
    "    objective=\"regression\", n_estimators=study.best_params['n_estimators'], \\\n",
    "    metric='rmse', num_leaves=study.best_params['leaves'])"
   ]
  },
  {
   "cell_type": "markdown",
   "metadata": {},
   "source": [
    "Время обучения:"
   ]
  },
  {
   "cell_type": "code",
   "execution_count": 321,
   "metadata": {},
   "outputs": [
    {
     "name": "stdout",
     "output_type": "stream",
     "text": [
      "1.04 s ± 0 ns per loop (mean ± std. dev. of 1 run, 1 loop each)\n"
     ]
    },
    {
     "data": {
      "text/plain": [
       "1.0371692030003032"
      ]
     },
     "execution_count": 321,
     "metadata": {},
     "output_type": "execute_result"
    }
   ],
   "source": [
    "time_train_LGBM = %timeit -n1 -r1 -o model.fit(features_train, target_train)\n",
    "time_train_LGBM.average"
   ]
  },
  {
   "cell_type": "markdown",
   "metadata": {},
   "source": [
    "Время предсказания:"
   ]
  },
  {
   "cell_type": "code",
   "execution_count": 322,
   "metadata": {},
   "outputs": [
    {
     "name": "stdout",
     "output_type": "stream",
     "text": [
      "245 ms ± 0 ns per loop (mean ± std. dev. of 1 run, 1 loop each)\n"
     ]
    },
    {
     "data": {
      "text/plain": [
       "0.24471972999981517"
      ]
     },
     "execution_count": 322,
     "metadata": {},
     "output_type": "execute_result"
    }
   ],
   "source": [
    "time_pred_LGBM = %timeit -n1 -r1 -o model.predict(features_valid)\n",
    "predicted_valid = model.predict(features_valid)\n",
    "time_pred_LGBM.average"
   ]
  },
  {
   "cell_type": "markdown",
   "metadata": {},
   "source": [
    "Метрика RMSE:"
   ]
  },
  {
   "cell_type": "code",
   "execution_count": 323,
   "metadata": {
    "scrolled": true
   },
   "outputs": [
    {
     "data": {
      "text/plain": [
       "1699.4754954675366"
      ]
     },
     "execution_count": 323,
     "metadata": {},
     "output_type": "execute_result"
    }
   ],
   "source": [
    "RMSE_LGBM = mean_squared_error(target_valid, predicted_valid)**0.5\n",
    "RMSE_LGBM"
   ]
  },
  {
   "cell_type": "markdown",
   "metadata": {},
   "source": [
    "### CatBoost"
   ]
  },
  {
   "cell_type": "markdown",
   "metadata": {},
   "source": [
    "Используем optuna для подбора параметров."
   ]
  },
  {
   "cell_type": "code",
   "execution_count": 324,
   "metadata": {},
   "outputs": [
    {
     "name": "stderr",
     "output_type": "stream",
     "text": [
      "\u001b[32m[I 2023-04-11 13:43:11,318]\u001b[0m A new study created in memory with name: no-name-8ec188c0-6c4f-4c28-a681-1b9e93e570b0\u001b[0m\n",
      "\u001b[32m[I 2023-04-11 13:43:17,613]\u001b[0m Trial 0 finished with value: 1829.9320339193719 and parameters: {'max_depth': 16, 'n_estimators': 10}. Best is trial 0 with value: 1829.9320339193719.\u001b[0m\n",
      "\u001b[32m[I 2023-04-11 13:43:49,735]\u001b[0m Trial 1 finished with value: 1754.2077536501934 and parameters: {'max_depth': 16, 'n_estimators': 50}. Best is trial 1 with value: 1754.2077536501934.\u001b[0m\n",
      "\u001b[32m[I 2023-04-11 13:43:56,284]\u001b[0m Trial 2 finished with value: 1829.9320339193719 and parameters: {'max_depth': 16, 'n_estimators': 10}. Best is trial 1 with value: 1754.2077536501934.\u001b[0m\n",
      "\u001b[32m[I 2023-04-11 13:43:56,441]\u001b[0m Trial 3 finished with value: 2069.0600445088203 and parameters: {'max_depth': 6, 'n_estimators': 10}. Best is trial 1 with value: 1754.2077536501934.\u001b[0m\n",
      "\u001b[32m[I 2023-04-11 13:43:57,829]\u001b[0m Trial 4 finished with value: 1746.5026912457727 and parameters: {'max_depth': 11, 'n_estimators': 50}. Best is trial 4 with value: 1746.5026912457727.\u001b[0m\n",
      "\u001b[32m[I 2023-04-11 13:43:58,163]\u001b[0m Trial 5 finished with value: 1903.191025250085 and parameters: {'max_depth': 11, 'n_estimators': 10}. Best is trial 4 with value: 1746.5026912457727.\u001b[0m\n",
      "\u001b[32m[I 2023-04-11 13:43:58,279]\u001b[0m Trial 6 finished with value: 2874.2777168405796 and parameters: {'max_depth': 1, 'n_estimators': 10}. Best is trial 4 with value: 1746.5026912457727.\u001b[0m\n",
      "\u001b[32m[I 2023-04-11 13:43:58,625]\u001b[0m Trial 7 finished with value: 1903.191025250085 and parameters: {'max_depth': 11, 'n_estimators': 10}. Best is trial 4 with value: 1746.5026912457727.\u001b[0m\n",
      "\u001b[32m[I 2023-04-11 13:43:58,969]\u001b[0m Trial 8 finished with value: 1903.191025250085 and parameters: {'max_depth': 11, 'n_estimators': 10}. Best is trial 4 with value: 1746.5026912457727.\u001b[0m\n",
      "\u001b[32m[I 2023-04-11 13:43:59,350]\u001b[0m Trial 9 finished with value: 1903.191025250085 and parameters: {'max_depth': 11, 'n_estimators': 10}. Best is trial 4 with value: 1746.5026912457727.\u001b[0m\n"
     ]
    },
    {
     "name": "stdout",
     "output_type": "stream",
     "text": [
      "CPU times: user 1min 46s, sys: 45 s, total: 2min 31s\n",
      "Wall time: 48 s\n"
     ]
    },
    {
     "data": {
      "text/plain": [
       "({'max_depth': 11, 'n_estimators': 50}, 1746.5026912457727)"
      ]
     },
     "execution_count": 324,
     "metadata": {},
     "output_type": "execute_result"
    }
   ],
   "source": [
    "%%time\n",
    "\n",
    "def objective_cv(trial):\n",
    "    \n",
    "    depth = trial.suggest_int('max_depth', 1, 16, step=5)\n",
    "    n_est = trial.suggest_int('n_estimators', 10, 50, step=20)\n",
    "    \n",
    "    model = CatBoostRegressor(random_state=12345, max_depth=depth, n_estimators=n_est, verbose=False)\n",
    "    model.fit(features_train, target_train)\n",
    "    predicted_valid = model.predict(features_valid)\n",
    "    \n",
    "    return (mean_squared_error(target_valid, predicted_valid))**0.5\n",
    "\n",
    "study = optuna.create_study(direction='minimize')\n",
    "#optuna.logging.set_verbosity(optuna.logging.WARNING)\n",
    "study.optimize(objective_cv, n_trials=10)\n",
    "study.best_params, study.best_value"
   ]
  },
  {
   "cell_type": "markdown",
   "metadata": {},
   "source": [
    "Оценим время обучения и время предсказания для лучшего значения метрики:"
   ]
  },
  {
   "cell_type": "code",
   "execution_count": 325,
   "metadata": {},
   "outputs": [],
   "source": [
    "model = CatBoostRegressor(\n",
    "    random_state=12345, max_depth=study.best_params['max_depth'], \\\n",
    "    n_estimators=study.best_params['n_estimators'], verbose=False)"
   ]
  },
  {
   "cell_type": "markdown",
   "metadata": {},
   "source": [
    "Время обучения:"
   ]
  },
  {
   "cell_type": "code",
   "execution_count": 326,
   "metadata": {},
   "outputs": [
    {
     "name": "stdout",
     "output_type": "stream",
     "text": [
      "1.67 s ± 0 ns per loop (mean ± std. dev. of 1 run, 1 loop each)\n"
     ]
    },
    {
     "data": {
      "text/plain": [
       "1.6692954190002638"
      ]
     },
     "execution_count": 326,
     "metadata": {},
     "output_type": "execute_result"
    }
   ],
   "source": [
    "time_train_CatB = %timeit -n1 -r1 -o model.fit(features_train, target_train)\n",
    "time_train_CatB.average"
   ]
  },
  {
   "cell_type": "markdown",
   "metadata": {},
   "source": [
    "Время предсказания:"
   ]
  },
  {
   "cell_type": "code",
   "execution_count": 327,
   "metadata": {},
   "outputs": [
    {
     "name": "stdout",
     "output_type": "stream",
     "text": [
      "11.6 ms ± 0 ns per loop (mean ± std. dev. of 1 run, 1 loop each)\n"
     ]
    },
    {
     "data": {
      "text/plain": [
       "0.011588149000090198"
      ]
     },
     "execution_count": 327,
     "metadata": {},
     "output_type": "execute_result"
    }
   ],
   "source": [
    "time_pred_CatB = %timeit -n1 -r1 -o model.predict(features_valid)\n",
    "predicted_valid = model.predict(features_valid)\n",
    "time_pred_CatB.average"
   ]
  },
  {
   "cell_type": "markdown",
   "metadata": {},
   "source": [
    "Метрика RMSE:"
   ]
  },
  {
   "cell_type": "code",
   "execution_count": 328,
   "metadata": {
    "scrolled": true
   },
   "outputs": [
    {
     "data": {
      "text/plain": [
       "1746.5026912457727"
      ]
     },
     "execution_count": 328,
     "metadata": {},
     "output_type": "execute_result"
    }
   ],
   "source": [
    "RMSE_CatB = mean_squared_error(target_valid, predicted_valid)**0.5\n",
    "RMSE_CatB"
   ]
  },
  {
   "cell_type": "markdown",
   "metadata": {},
   "source": [
    "### Промежуточные выводы"
   ]
  },
  {
   "cell_type": "markdown",
   "metadata": {},
   "source": [
    "Исследованы четыре модели: решающее дерево, случайный лес, LightGBM и Catboost. Гиперпараметры подбирались с помощью оптимизатора optuna. В некоторых случаях диапазон исследуемых гиперпараметров был уменьшен для снижения времени работы алгоритма.\n",
    "\n",
    "Модель решающее дерево исследовалась при изменении параметра max_depth.<br>\n",
    "Модель случайный лес исследовалась при изменении параметров max_depth и число оценщиков.<br>\n",
    "Модель LightGBM исследовалась при изменении параметров число оценщиков и число листьев.<br>\n",
    "Модель Catboost исследовалась при изменении параметров max_depth и число оценщиков.<br>\n",
    "\n",
    "В ходе исследования получены модели с подходящими параметрами:\n",
    "- DecisionTreeRegressor(max_depth=12, random_state=12345);\n",
    "- RandomForestRegressor(max_depth=21, n_estimators=10, random_state=12345);\n",
    "- LGBMRegressor(n_estimators=200, num_leaves=s61);\n",
    "- CatBoostRegressor(random_state=12345, max_depth=11, n_estimators=50).\n",
    "\n",
    "По каждой из вышеперечисленных моделей рассчитаны значения критериев - метрики RMSE, времени обучения модели и времени предсказания модели."
   ]
  },
  {
   "cell_type": "markdown",
   "metadata": {},
   "source": [
    "## Анализ моделей"
   ]
  },
  {
   "cell_type": "markdown",
   "metadata": {},
   "source": [
    "По условию проекта при анализе моделей необходимо использовать три критерия: метрика RMSE, время обучения модели и время предсказания модели.\n",
    "\n",
    "Ограничения на критерии: \n",
    "- метрика RMSE < 2500, \n",
    "- время обучения модели и время предсказания модели должны быть минимальны. "
   ]
  },
  {
   "cell_type": "markdown",
   "metadata": {},
   "source": [
    "Для анализа моделей по заданным критериям создадим датафрейм с полученными на предыдущем шаге значениями:"
   ]
  },
  {
   "cell_type": "code",
   "execution_count": 329,
   "metadata": {},
   "outputs": [],
   "source": [
    "df = pd.DataFrame(\n",
    "   ....:     {\n",
    "   ....:         'RMSE': [RMSE_DT, RMSE_RF, RMSE_LGBM, RMSE_CatB],\n",
    "                 'time_train': [time_train_DT.average, time_train_RF.average, \\\n",
    "                                time_train_LGBM.average, time_train_CatB.average],\n",
    "   ....:         'time_predict': [time_pred_DT.average, time_pred_RF.average, \\\n",
    "                                  time_pred_LGBM.average, time_pred_CatB.average]\n",
    "\n",
    "   ....:     },\n",
    "   ....:     index=['Decision Tree', 'Random Forest', 'LightGBM', 'Catboost'],\n",
    "             columns=['RMSE', 'time_train', 'time_predict']\n",
    "    \n",
    "   ....: )"
   ]
  },
  {
   "cell_type": "code",
   "execution_count": 330,
   "metadata": {
    "scrolled": false
   },
   "outputs": [
    {
     "data": {
      "text/html": [
       "<div>\n",
       "<style scoped>\n",
       "    .dataframe tbody tr th:only-of-type {\n",
       "        vertical-align: middle;\n",
       "    }\n",
       "\n",
       "    .dataframe tbody tr th {\n",
       "        vertical-align: top;\n",
       "    }\n",
       "\n",
       "    .dataframe thead th {\n",
       "        text-align: right;\n",
       "    }\n",
       "</style>\n",
       "<table border=\"1\" class=\"dataframe\">\n",
       "  <thead>\n",
       "    <tr style=\"text-align: right;\">\n",
       "      <th></th>\n",
       "      <th>RMSE</th>\n",
       "      <th>time_train</th>\n",
       "      <th>time_predict</th>\n",
       "    </tr>\n",
       "  </thead>\n",
       "  <tbody>\n",
       "    <tr>\n",
       "      <th>Decision Tree</th>\n",
       "      <td>2063.220230</td>\n",
       "      <td>0.603754</td>\n",
       "      <td>0.009243</td>\n",
       "    </tr>\n",
       "    <tr>\n",
       "      <th>Random Forest</th>\n",
       "      <td>1843.147751</td>\n",
       "      <td>13.597985</td>\n",
       "      <td>0.244486</td>\n",
       "    </tr>\n",
       "    <tr>\n",
       "      <th>LightGBM</th>\n",
       "      <td>1699.475495</td>\n",
       "      <td>1.037169</td>\n",
       "      <td>0.244720</td>\n",
       "    </tr>\n",
       "    <tr>\n",
       "      <th>Catboost</th>\n",
       "      <td>1746.502691</td>\n",
       "      <td>1.669295</td>\n",
       "      <td>0.011588</td>\n",
       "    </tr>\n",
       "  </tbody>\n",
       "</table>\n",
       "</div>"
      ],
      "text/plain": [
       "                      RMSE  time_train  time_predict\n",
       "Decision Tree  2063.220230    0.603754      0.009243\n",
       "Random Forest  1843.147751   13.597985      0.244486\n",
       "LightGBM       1699.475495    1.037169      0.244720\n",
       "Catboost       1746.502691    1.669295      0.011588"
      ]
     },
     "execution_count": 330,
     "metadata": {},
     "output_type": "execute_result"
    }
   ],
   "source": [
    "df"
   ]
  },
  {
   "cell_type": "code",
   "execution_count": 331,
   "metadata": {},
   "outputs": [
    {
     "data": {
      "text/plain": [
       "<Axes: title={'center': 'RMSE'}>"
      ]
     },
     "execution_count": 331,
     "metadata": {},
     "output_type": "execute_result"
    },
    {
     "data": {
      "image/png": "[encoded data removed]",
      "text/plain": [
       "<Figure size 640x480 with 1 Axes>"
      ]
     },
     "metadata": {},
     "output_type": "display_data"
    }
   ],
   "source": [
    "df['RMSE'].plot(kind='barh', grid=True, title='RMSE')"
   ]
  },
  {
   "cell_type": "code",
   "execution_count": 332,
   "metadata": {
    "scrolled": true
   },
   "outputs": [
    {
     "data": {
      "text/plain": [
       "<Axes: title={'center': 'Анализ времени обучения моделей'}>"
      ]
     },
     "execution_count": 332,
     "metadata": {},
     "output_type": "execute_result"
    },
    {
     "data": {
      "image/png": "[encoded data removed]",
      "text/plain": [
       "<Figure size 640x480 with 1 Axes>"
      ]
     },
     "metadata": {},
     "output_type": "display_data"
    }
   ],
   "source": [
    "df['time_train'].plot(kind='barh', grid=True, title='Анализ времени обучения моделей', xlim=[0, 25])"
   ]
  },
  {
   "cell_type": "markdown",
   "metadata": {},
   "source": [
    "Специально сделал тот же масштаб, что и при анализе времени обучения."
   ]
  },
  {
   "cell_type": "code",
   "execution_count": 333,
   "metadata": {
    "scrolled": false
   },
   "outputs": [
    {
     "data": {
      "text/plain": [
       "<Axes: title={'center': 'Анализ времени предсказания'}>"
      ]
     },
     "execution_count": 333,
     "metadata": {},
     "output_type": "execute_result"
    },
    {
     "data": {
      "image/png": "[encoded data removed]",
      "text/plain": [
       "<Figure size 640x480 with 1 Axes>"
      ]
     },
     "metadata": {},
     "output_type": "display_data"
    }
   ],
   "source": [
    "df['time_predict'].plot(kind='barh', grid=True, title='Анализ времени предсказания', xlim=[0, 1])"
   ]
  },
  {
   "cell_type": "markdown",
   "metadata": {},
   "source": [
    "### Промежуточные выводы"
   ]
  },
  {
   "cell_type": "markdown",
   "metadata": {},
   "source": [
    "Анализируя данные полученного датaфрейма и графики, можно сделать вывод:\n",
    "\n",
    "- наилучшей моделью по качеству предсказания является LGBMRegressor(n_estimators=200, num_leaves=s61).\n",
    "\n",
    "- наилучшей моделью по времени обучения и предсказания является DecisionTreeRegressor(max_depth=12, random_state=12345).\n",
    "\n",
    "- в совокупности по всем трем критериям наилучшей моделью является модель DecisionTreeRegressor(max_depth=12, random_state=12345), несмотря на худшую метрику RMSE, которая все же удовлетворяет требуемому значению <2500.\n",
    "\n",
    "В то же время необходимо отметить важное обстоятельство: в условиях ограничения на временные ресурсы при выполнении проекта мы ограничиваемся числом прогонов оптимизатора по параметрам, а также используем не все параметры моделей, в сявзи с чем при запуске ноутбука значения рассчитываемых критериев имеют значительный разброс и тип и параметры лучшей модели меняются. Поэтому более корректным будет отметить, что при данном запуске лучшей является модель DecisionTreeRegressor(max_depth=12, random_state=12345)."
   ]
  },
  {
   "cell_type": "markdown",
   "metadata": {},
   "source": [
    "## Проверка качества выбранной модели"
   ]
  },
  {
   "cell_type": "code",
   "execution_count": 334,
   "metadata": {
    "scrolled": true
   },
   "outputs": [
    {
     "name": "stdout",
     "output_type": "stream",
     "text": [
      "657 ms ± 0 ns per loop (mean ± std. dev. of 1 run, 1 loop each)\n",
      "8.75 ms ± 0 ns per loop (mean ± std. dev. of 1 run, 1 loop each)\n"
     ]
    },
    {
     "data": {
      "text/plain": [
       "2050.7111538802847"
      ]
     },
     "execution_count": 334,
     "metadata": {},
     "output_type": "execute_result"
    }
   ],
   "source": [
    "model = DecisionTreeRegressor(max_depth=12, random_state=12345)\n",
    "\n",
    "%timeit -n1 -r1 -o model.fit(features_train, target_train)\n",
    "model.fit(features_train, target_train)\n",
    "%timeit -n1 -r1 -o model.predict(features_test)\n",
    "predicted_test = model.predict(features_test)\n",
    "mean_squared_error(target_test, predicted_test)**0.5"
   ]
  },
  {
   "cell_type": "code",
   "execution_count": 335,
   "metadata": {
    "scrolled": true
   },
   "outputs": [
    {
     "data": {
      "image/png": "[encoded data removed]",
      "text/plain": [
       "<Figure size 1600x1400 with 1 Axes>"
      ]
     },
     "metadata": {},
     "output_type": "display_data"
    }
   ],
   "source": [
    "DT_feat_imp = pd.Series(model.feature_importances_,\n",
    "                         features_train.columns)\n",
    "\n",
    "fig, ax = plt.subplots(figsize=(16,14))\n",
    "DT_feat_imp.plot.bar(ax=ax)\n",
    "ax.set_title(\"Важность признаков\")\n",
    "ax.set_ylabel('Важность')\n",
    "fig.tight_layout()"
   ]
  },
  {
   "cell_type": "markdown",
   "metadata": {},
   "source": [
    "Самый важный признак - год регистрации, что логично, но только для большинства машин со средней ценой, второй выделяющийся - мощность, если больше мощность, то, как правило, люксовее авто, все логично."
   ]
  },
  {
   "cell_type": "markdown",
   "metadata": {},
   "source": [
    "### Проверка адекватности модели"
   ]
  },
  {
   "cell_type": "markdown",
   "metadata": {},
   "source": [
    "Проверим адекватность модели:"
   ]
  },
  {
   "cell_type": "code",
   "execution_count": 336,
   "metadata": {},
   "outputs": [
    {
     "data": {
      "text/plain": [
       "4503.888331740954"
      ]
     },
     "execution_count": 336,
     "metadata": {},
     "output_type": "execute_result"
    }
   ],
   "source": [
    "# создаем объект dummy со стратегией заполнения средним\n",
    "dummy_reg = DummyRegressor(strategy=\"mean\")\n",
    "# обучаем на трейне\n",
    "dummy_reg.fit(features_train, target_train)\n",
    "predict_test = dummy_reg.predict(features_test)\n",
    "# считаем метрику\n",
    "mean_squared_error(target_test, predict_test)**0.5"
   ]
  },
  {
   "cell_type": "markdown",
   "metadata": {},
   "source": [
    "Значение метрики намного больше рассчитанного, что подтверждает адекватность выбранной модели."
   ]
  },
  {
   "cell_type": "markdown",
   "metadata": {},
   "source": [
    "### Промежуточные выводы"
   ]
  },
  {
   "cell_type": "markdown",
   "metadata": {},
   "source": [
    "Протестировали выбранную модель DecisionTreeRegressor(max_depth=12, random_state=12345).\n",
    "\n",
    "Результаты тестирования показали, что метрика RMSE = 2050, что удовлетворяет требованию  RMSE < 2500. \n",
    "\n",
    "Время обучения - 0.605 с, время предсказания модели - 0.008 с."
   ]
  },
  {
   "cell_type": "markdown",
   "metadata": {},
   "source": [
    "## Общие выводы"
   ]
  },
  {
   "cell_type": "markdown",
   "metadata": {},
   "source": [
    "**Целью проекта** являлась разработка функционала по прогнозированию цены автомобиля для приложения сервиса по продаже автомобилей с пробегом «Не бит, не крашен».\n",
    "Для реализации функционала по прогнозированию необходимо было предложить модель, удовлетворяющую трем критериям: минимальная метрика RMSE, минимальное время обучения и минимальное время предсказания. Ограничения: метрика RMSE не должна превышать значение 2500.\n",
    "\n",
    "**В ходе выполнения проекта:**\n",
    "- проведена загрузка исходных данных;\n",
    "- данные изучены и предобработаны: удалены аномальные значения (23483, что составило 6.6% от общего числа данных), основная часть удалена из целевого признака - при обучении с учителем необходимо иметь достоверные адекватные  значения признака, поэтому все подозрительные значения были удалены; для заполнения пропусков использовался метод ближайших соседей; перед заполнением пропусков данные были разделены на выборки и проведено преобразование нечисловых признаков в числовые; после заполнения пропусков выполнено масштабирование признаков и проверка на мультиколлинеарность;\n",
    "- исследованы четыре модели: решающее дерево, случайный лес, LightGBM и Catboost. Гиперпараметры подбирались с помощью оптимизатора optuna; В ходе исследования получены модели с подходящими параметрами:\n",
    "DecisionTreeRegressor(max_depth=12, random_state=12345);\n",
    "RandomForestRegressor(max_depth=21, n_estimators=10, random_state=12345);\n",
    "LGBMRegressor(n_estimators=200, num_leaves=s61);\n",
    "CatBoostRegressor(random_state=12345, max_depth=11, n_estimators=50);\n",
    "- по рассчитанным параметрам - критериям установлено: наилучшей моделью по качеству предсказания является LGBMRegressor(n_estimators=200, num_leaves=s61).\n",
    "наилучшей моделью по времени обучения и предсказания является DecisionTreeRegressor(max_depth=12, random_state=12345).\n",
    "в совокупности по всем трем критериям наилучшей моделью является модель DecisionTreeRegressor(max_depth=12, random_state=12345), несмотря на худшую метрику RMSE, которая все же удовлетворяет требуемому значению <2500;\n",
    "- выбрана модель DecisionTreeRegressor(max_depth=12, random_state=12345) и протестирована:\n",
    "результаты тестирования показали, что метрика RMSE = 2050, что удовлетворяет требованию RMSE < 2500.\n",
    "Время обучения и время предсказания модели имели ожидаемые величины.\n",
    "\n",
    "В то же время необходимо отметить важное обстоятельство: в условиях ограничения на временные ресурсы при выполнении проекта мы ограничиваемся числом прогонов оптимизатора по параметрам, а также используем не все параметры моделей, в сявзи с чем при запуске ноутбука значения рассчитываемых критериев имеют значительный разброс и тип и параметры лучшей модели меняются. Поэтому более корректным будет отметить, что при данном запуске лучшей является модель DecisionTreeRegressor(max_depth=12, random_state=12345).\n",
    "\n",
    "**Таким образом**, для реализации функционала по прогнозированию цены автомобиля в приложении сервиса подходящей моделью является DecisionTreeRegressor(max_depth=12, random_state=12345) с метрикой RMSE = 2050, временем обучения ~0.6-0.7 c и временем предсказания ~0.007-0.010 c."
   ]
  },
  {
   "cell_type": "markdown",
   "metadata": {},
   "source": [
    "## Вывод для начальства"
   ]
  },
  {
   "cell_type": "markdown",
   "metadata": {},
   "source": [
    "Целью проекта являлась разработка функционала по прогнозированию цены автомобиля для приложения сервиса. Для реализации функционала по прогнозированию необходимо было предложить модель, удовлетворяющую трем критериям: минимальная метрика RMSE, минимальное время обучения и минимальное время предсказания. Ограничения: метрика RMSE не должна превышать значение 2500. \n",
    "\n",
    "Предлагается модель DecisionTreeRegressor(max_depth=12, random_state=12345) с метрикой RMSE = 2050, временем обучения ~0.6-0.7 c и временем предсказания ~0.007-0.010 c."
   ]
  }
 ],
 "metadata": {
  "ExecuteTimeLog": [
   {
    "duration": 1000,
    "start_time": "2023-03-23T14:46:29.452Z"
   },
   {
    "duration": 87,
    "start_time": "2023-03-23T14:46:30.454Z"
   },
   {
    "duration": 18,
    "start_time": "2023-03-23T14:46:30.542Z"
   },
   {
    "duration": 52,
    "start_time": "2023-03-23T14:46:30.562Z"
   },
   {
    "duration": 30,
    "start_time": "2023-03-23T14:46:30.615Z"
   },
   {
    "duration": 42,
    "start_time": "2023-03-23T14:46:30.646Z"
   },
   {
    "duration": 47,
    "start_time": "2023-03-23T14:46:30.690Z"
   },
   {
    "duration": 39,
    "start_time": "2023-03-23T14:46:30.738Z"
   },
   {
    "duration": 38,
    "start_time": "2023-03-23T14:46:30.779Z"
   },
   {
    "duration": 67,
    "start_time": "2023-03-23T14:46:30.820Z"
   },
   {
    "duration": 116,
    "start_time": "2023-03-23T14:46:30.889Z"
   },
   {
    "duration": 199,
    "start_time": "2023-03-23T14:46:31.007Z"
   },
   {
    "duration": 199,
    "start_time": "2023-03-23T14:46:31.209Z"
   },
   {
    "duration": 79,
    "start_time": "2023-03-23T14:46:31.410Z"
   },
   {
    "duration": 4962,
    "start_time": "2023-03-24T07:51:02.125Z"
   },
   {
    "duration": 42,
    "start_time": "2023-03-24T07:51:07.090Z"
   },
   {
    "duration": 26,
    "start_time": "2023-03-24T07:51:07.134Z"
   },
   {
    "duration": 29,
    "start_time": "2023-03-24T07:51:07.168Z"
   },
   {
    "duration": 7,
    "start_time": "2023-03-24T07:51:07.199Z"
   },
   {
    "duration": 7,
    "start_time": "2023-03-24T07:51:07.214Z"
   },
   {
    "duration": 13,
    "start_time": "2023-03-24T07:51:08.328Z"
   },
   {
    "duration": 6,
    "start_time": "2023-03-24T07:51:08.833Z"
   },
   {
    "duration": 8,
    "start_time": "2023-03-24T07:52:06.191Z"
   },
   {
    "duration": 5,
    "start_time": "2023-03-24T07:52:24.035Z"
   },
   {
    "duration": 26,
    "start_time": "2023-03-24T07:52:25.863Z"
   },
   {
    "duration": 17,
    "start_time": "2023-03-24T07:52:27.100Z"
   },
   {
    "duration": 9,
    "start_time": "2023-03-24T07:52:27.915Z"
   },
   {
    "duration": 10,
    "start_time": "2023-03-24T07:52:29.954Z"
   },
   {
    "duration": 2150,
    "start_time": "2023-03-24T15:28:53.496Z"
   },
   {
    "duration": 125,
    "start_time": "2023-03-24T15:28:55.648Z"
   },
   {
    "duration": 22,
    "start_time": "2023-03-24T15:28:55.775Z"
   },
   {
    "duration": 13,
    "start_time": "2023-03-24T15:28:55.799Z"
   }
  ],
  "kernelspec": {
   "display_name": "Python 3 (ipykernel)",
   "language": "python",
   "name": "python3"
  },
  "language_info": {
   "codemirror_mode": {
    "name": "ipython",
    "version": 3
   },
   "file_extension": ".py",
   "mimetype": "text/x-python",
   "name": "python",
   "nbconvert_exporter": "python",
   "pygments_lexer": "ipython3",
   "version": "3.9.12"
  },
  "toc": {
   "base_numbering": 1,
   "nav_menu": {},
   "number_sections": true,
   "sideBar": true,
   "skip_h1_title": true,
   "title_cell": "Содержание",
   "title_sidebar": "Contents",
   "toc_cell": true,
   "toc_position": {
    "height": "calc(100% - 180px)",
    "left": "10px",
    "top": "150px",
    "width": "251px"
   },
   "toc_section_display": true,
   "toc_window_display": true
  }
 },
 "nbformat": 4,
 "nbformat_minor": 2
}
