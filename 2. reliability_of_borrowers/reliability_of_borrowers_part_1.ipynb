{
 "cells": [
  {
   "cell_type": "markdown",
   "id": "c81daeeb",
   "metadata": {
    "deletable": false,
    "editable": false,
    "id": "c81daeeb"
   },
   "source": [
    "# Исследование надежности заемщиков"
   ]
  },
  {
   "cell_type": "markdown",
   "id": "-G3EJWzf62s6",
   "metadata": {
    "deletable": false,
    "editable": false,
    "id": "-G3EJWzf62s6"
   },
   "source": [
    "Это первая часть проекта, она будет проверена автоматически. Вторую часть проверит ревьюер. "
   ]
  },
  {
   "cell_type": "markdown",
   "id": "744d7639",
   "metadata": {
    "deletable": false,
    "editable": false,
    "id": "744d7639"
   },
   "source": [
    "## Откройте таблицу и изучите общую информацию о данных"
   ]
  },
  {
   "cell_type": "markdown",
   "id": "e7a14c31",
   "metadata": {
    "deletable": false,
    "editable": false,
    "id": "e7a14c31",
    "tags": [
     "start_task"
    ]
   },
   "source": [
    "**Задание 1. Импортируйте библиотеку pandas. Считайте данные из csv-файла в датафрейм и сохраните в переменную `data`. Путь к файлу:**\n",
    "\n",
    "`/datasets/data.csv`"
   ]
  },
  {
   "cell_type": "code",
   "execution_count": 1,
   "id": "7bcf75c9",
   "metadata": {
    "id": "7bcf75c9"
   },
   "outputs": [],
   "source": [
    "# импортируйте библиотеку pandas\n",
    "import pandas as pd"
   ]
  },
  {
   "cell_type": "code",
   "execution_count": 2,
   "id": "4d240ee2",
   "metadata": {
    "id": "4d240ee2"
   },
   "outputs": [],
   "source": [
    "# прочитайте csv-файл\n",
    "data = pd.read_csv('/datasets/data.csv')"
   ]
  },
  {
   "cell_type": "markdown",
   "id": "b8038fe3",
   "metadata": {
    "deletable": false,
    "editable": false,
    "id": "b8038fe3",
    "tags": [
     "start_task"
    ]
   },
   "source": [
    "**Задание 2. Выведите первые 20 строчек датафрейма `data` на экран.**"
   ]
  },
  {
   "cell_type": "code",
   "execution_count": 3,
   "id": "2a7cab99",
   "metadata": {
    "id": "2a7cab99"
   },
   "outputs": [
    {
     "data": {
      "text/html": [
       "<div>\n",
       "<style scoped>\n",
       "    .dataframe tbody tr th:only-of-type {\n",
       "        vertical-align: middle;\n",
       "    }\n",
       "\n",
       "    .dataframe tbody tr th {\n",
       "        vertical-align: top;\n",
       "    }\n",
       "\n",
       "    .dataframe thead th {\n",
       "        text-align: right;\n",
       "    }\n",
       "</style>\n",
       "<table border=\"1\" class=\"dataframe\">\n",
       "  <thead>\n",
       "    <tr style=\"text-align: right;\">\n",
       "      <th></th>\n",
       "      <th>children</th>\n",
       "      <th>days_employed</th>\n",
       "      <th>dob_years</th>\n",
       "      <th>education</th>\n",
       "      <th>education_id</th>\n",
       "      <th>family_status</th>\n",
       "      <th>family_status_id</th>\n",
       "      <th>gender</th>\n",
       "      <th>income_type</th>\n",
       "      <th>debt</th>\n",
       "      <th>total_income</th>\n",
       "      <th>purpose</th>\n",
       "    </tr>\n",
       "  </thead>\n",
       "  <tbody>\n",
       "    <tr>\n",
       "      <th>0</th>\n",
       "      <td>1</td>\n",
       "      <td>-8437.673028</td>\n",
       "      <td>42</td>\n",
       "      <td>высшее</td>\n",
       "      <td>0</td>\n",
       "      <td>женат / замужем</td>\n",
       "      <td>0</td>\n",
       "      <td>F</td>\n",
       "      <td>сотрудник</td>\n",
       "      <td>0</td>\n",
       "      <td>253875.639453</td>\n",
       "      <td>покупка жилья</td>\n",
       "    </tr>\n",
       "    <tr>\n",
       "      <th>1</th>\n",
       "      <td>1</td>\n",
       "      <td>-4024.803754</td>\n",
       "      <td>36</td>\n",
       "      <td>среднее</td>\n",
       "      <td>1</td>\n",
       "      <td>женат / замужем</td>\n",
       "      <td>0</td>\n",
       "      <td>F</td>\n",
       "      <td>сотрудник</td>\n",
       "      <td>0</td>\n",
       "      <td>112080.014102</td>\n",
       "      <td>приобретение автомобиля</td>\n",
       "    </tr>\n",
       "    <tr>\n",
       "      <th>2</th>\n",
       "      <td>0</td>\n",
       "      <td>-5623.422610</td>\n",
       "      <td>33</td>\n",
       "      <td>Среднее</td>\n",
       "      <td>1</td>\n",
       "      <td>женат / замужем</td>\n",
       "      <td>0</td>\n",
       "      <td>M</td>\n",
       "      <td>сотрудник</td>\n",
       "      <td>0</td>\n",
       "      <td>145885.952297</td>\n",
       "      <td>покупка жилья</td>\n",
       "    </tr>\n",
       "    <tr>\n",
       "      <th>3</th>\n",
       "      <td>3</td>\n",
       "      <td>-4124.747207</td>\n",
       "      <td>32</td>\n",
       "      <td>среднее</td>\n",
       "      <td>1</td>\n",
       "      <td>женат / замужем</td>\n",
       "      <td>0</td>\n",
       "      <td>M</td>\n",
       "      <td>сотрудник</td>\n",
       "      <td>0</td>\n",
       "      <td>267628.550329</td>\n",
       "      <td>дополнительное образование</td>\n",
       "    </tr>\n",
       "    <tr>\n",
       "      <th>4</th>\n",
       "      <td>0</td>\n",
       "      <td>340266.072047</td>\n",
       "      <td>53</td>\n",
       "      <td>среднее</td>\n",
       "      <td>1</td>\n",
       "      <td>гражданский брак</td>\n",
       "      <td>1</td>\n",
       "      <td>F</td>\n",
       "      <td>пенсионер</td>\n",
       "      <td>0</td>\n",
       "      <td>158616.077870</td>\n",
       "      <td>сыграть свадьбу</td>\n",
       "    </tr>\n",
       "    <tr>\n",
       "      <th>5</th>\n",
       "      <td>0</td>\n",
       "      <td>-926.185831</td>\n",
       "      <td>27</td>\n",
       "      <td>высшее</td>\n",
       "      <td>0</td>\n",
       "      <td>гражданский брак</td>\n",
       "      <td>1</td>\n",
       "      <td>M</td>\n",
       "      <td>компаньон</td>\n",
       "      <td>0</td>\n",
       "      <td>255763.565419</td>\n",
       "      <td>покупка жилья</td>\n",
       "    </tr>\n",
       "    <tr>\n",
       "      <th>6</th>\n",
       "      <td>0</td>\n",
       "      <td>-2879.202052</td>\n",
       "      <td>43</td>\n",
       "      <td>высшее</td>\n",
       "      <td>0</td>\n",
       "      <td>женат / замужем</td>\n",
       "      <td>0</td>\n",
       "      <td>F</td>\n",
       "      <td>компаньон</td>\n",
       "      <td>0</td>\n",
       "      <td>240525.971920</td>\n",
       "      <td>операции с жильем</td>\n",
       "    </tr>\n",
       "    <tr>\n",
       "      <th>7</th>\n",
       "      <td>0</td>\n",
       "      <td>-152.779569</td>\n",
       "      <td>50</td>\n",
       "      <td>СРЕДНЕЕ</td>\n",
       "      <td>1</td>\n",
       "      <td>женат / замужем</td>\n",
       "      <td>0</td>\n",
       "      <td>M</td>\n",
       "      <td>сотрудник</td>\n",
       "      <td>0</td>\n",
       "      <td>135823.934197</td>\n",
       "      <td>образование</td>\n",
       "    </tr>\n",
       "    <tr>\n",
       "      <th>8</th>\n",
       "      <td>2</td>\n",
       "      <td>-6929.865299</td>\n",
       "      <td>35</td>\n",
       "      <td>ВЫСШЕЕ</td>\n",
       "      <td>0</td>\n",
       "      <td>гражданский брак</td>\n",
       "      <td>1</td>\n",
       "      <td>F</td>\n",
       "      <td>сотрудник</td>\n",
       "      <td>0</td>\n",
       "      <td>95856.832424</td>\n",
       "      <td>на проведение свадьбы</td>\n",
       "    </tr>\n",
       "    <tr>\n",
       "      <th>9</th>\n",
       "      <td>0</td>\n",
       "      <td>-2188.756445</td>\n",
       "      <td>41</td>\n",
       "      <td>среднее</td>\n",
       "      <td>1</td>\n",
       "      <td>женат / замужем</td>\n",
       "      <td>0</td>\n",
       "      <td>M</td>\n",
       "      <td>сотрудник</td>\n",
       "      <td>0</td>\n",
       "      <td>144425.938277</td>\n",
       "      <td>покупка жилья для семьи</td>\n",
       "    </tr>\n",
       "    <tr>\n",
       "      <th>10</th>\n",
       "      <td>2</td>\n",
       "      <td>-4171.483647</td>\n",
       "      <td>36</td>\n",
       "      <td>высшее</td>\n",
       "      <td>0</td>\n",
       "      <td>женат / замужем</td>\n",
       "      <td>0</td>\n",
       "      <td>M</td>\n",
       "      <td>компаньон</td>\n",
       "      <td>0</td>\n",
       "      <td>113943.491460</td>\n",
       "      <td>покупка недвижимости</td>\n",
       "    </tr>\n",
       "    <tr>\n",
       "      <th>11</th>\n",
       "      <td>0</td>\n",
       "      <td>-792.701887</td>\n",
       "      <td>40</td>\n",
       "      <td>среднее</td>\n",
       "      <td>1</td>\n",
       "      <td>женат / замужем</td>\n",
       "      <td>0</td>\n",
       "      <td>F</td>\n",
       "      <td>сотрудник</td>\n",
       "      <td>0</td>\n",
       "      <td>77069.234271</td>\n",
       "      <td>покупка коммерческой недвижимости</td>\n",
       "    </tr>\n",
       "    <tr>\n",
       "      <th>12</th>\n",
       "      <td>0</td>\n",
       "      <td>NaN</td>\n",
       "      <td>65</td>\n",
       "      <td>среднее</td>\n",
       "      <td>1</td>\n",
       "      <td>гражданский брак</td>\n",
       "      <td>1</td>\n",
       "      <td>M</td>\n",
       "      <td>пенсионер</td>\n",
       "      <td>0</td>\n",
       "      <td>NaN</td>\n",
       "      <td>сыграть свадьбу</td>\n",
       "    </tr>\n",
       "    <tr>\n",
       "      <th>13</th>\n",
       "      <td>0</td>\n",
       "      <td>-1846.641941</td>\n",
       "      <td>54</td>\n",
       "      <td>неоконченное высшее</td>\n",
       "      <td>2</td>\n",
       "      <td>женат / замужем</td>\n",
       "      <td>0</td>\n",
       "      <td>F</td>\n",
       "      <td>сотрудник</td>\n",
       "      <td>0</td>\n",
       "      <td>130458.228857</td>\n",
       "      <td>приобретение автомобиля</td>\n",
       "    </tr>\n",
       "    <tr>\n",
       "      <th>14</th>\n",
       "      <td>0</td>\n",
       "      <td>-1844.956182</td>\n",
       "      <td>56</td>\n",
       "      <td>высшее</td>\n",
       "      <td>0</td>\n",
       "      <td>гражданский брак</td>\n",
       "      <td>1</td>\n",
       "      <td>F</td>\n",
       "      <td>компаньон</td>\n",
       "      <td>1</td>\n",
       "      <td>165127.911772</td>\n",
       "      <td>покупка жилой недвижимости</td>\n",
       "    </tr>\n",
       "    <tr>\n",
       "      <th>15</th>\n",
       "      <td>1</td>\n",
       "      <td>-972.364419</td>\n",
       "      <td>26</td>\n",
       "      <td>среднее</td>\n",
       "      <td>1</td>\n",
       "      <td>женат / замужем</td>\n",
       "      <td>0</td>\n",
       "      <td>F</td>\n",
       "      <td>сотрудник</td>\n",
       "      <td>0</td>\n",
       "      <td>116820.904450</td>\n",
       "      <td>строительство собственной недвижимости</td>\n",
       "    </tr>\n",
       "    <tr>\n",
       "      <th>16</th>\n",
       "      <td>0</td>\n",
       "      <td>-1719.934226</td>\n",
       "      <td>35</td>\n",
       "      <td>среднее</td>\n",
       "      <td>1</td>\n",
       "      <td>женат / замужем</td>\n",
       "      <td>0</td>\n",
       "      <td>F</td>\n",
       "      <td>сотрудник</td>\n",
       "      <td>0</td>\n",
       "      <td>289202.704229</td>\n",
       "      <td>недвижимость</td>\n",
       "    </tr>\n",
       "    <tr>\n",
       "      <th>17</th>\n",
       "      <td>0</td>\n",
       "      <td>-2369.999720</td>\n",
       "      <td>33</td>\n",
       "      <td>высшее</td>\n",
       "      <td>0</td>\n",
       "      <td>гражданский брак</td>\n",
       "      <td>1</td>\n",
       "      <td>M</td>\n",
       "      <td>сотрудник</td>\n",
       "      <td>0</td>\n",
       "      <td>90410.586745</td>\n",
       "      <td>строительство недвижимости</td>\n",
       "    </tr>\n",
       "    <tr>\n",
       "      <th>18</th>\n",
       "      <td>0</td>\n",
       "      <td>400281.136913</td>\n",
       "      <td>53</td>\n",
       "      <td>среднее</td>\n",
       "      <td>1</td>\n",
       "      <td>вдовец / вдова</td>\n",
       "      <td>2</td>\n",
       "      <td>F</td>\n",
       "      <td>пенсионер</td>\n",
       "      <td>0</td>\n",
       "      <td>56823.777243</td>\n",
       "      <td>на покупку подержанного автомобиля</td>\n",
       "    </tr>\n",
       "    <tr>\n",
       "      <th>19</th>\n",
       "      <td>0</td>\n",
       "      <td>-10038.818549</td>\n",
       "      <td>48</td>\n",
       "      <td>СРЕДНЕЕ</td>\n",
       "      <td>1</td>\n",
       "      <td>в разводе</td>\n",
       "      <td>3</td>\n",
       "      <td>F</td>\n",
       "      <td>сотрудник</td>\n",
       "      <td>0</td>\n",
       "      <td>242831.107982</td>\n",
       "      <td>на покупку своего автомобиля</td>\n",
       "    </tr>\n",
       "  </tbody>\n",
       "</table>\n",
       "</div>"
      ],
      "text/plain": [
       "    children  days_employed  dob_years            education  education_id  \\\n",
       "0          1   -8437.673028         42               высшее             0   \n",
       "1          1   -4024.803754         36              среднее             1   \n",
       "2          0   -5623.422610         33              Среднее             1   \n",
       "3          3   -4124.747207         32              среднее             1   \n",
       "4          0  340266.072047         53              среднее             1   \n",
       "5          0    -926.185831         27               высшее             0   \n",
       "6          0   -2879.202052         43               высшее             0   \n",
       "7          0    -152.779569         50              СРЕДНЕЕ             1   \n",
       "8          2   -6929.865299         35               ВЫСШЕЕ             0   \n",
       "9          0   -2188.756445         41              среднее             1   \n",
       "10         2   -4171.483647         36               высшее             0   \n",
       "11         0    -792.701887         40              среднее             1   \n",
       "12         0            NaN         65              среднее             1   \n",
       "13         0   -1846.641941         54  неоконченное высшее             2   \n",
       "14         0   -1844.956182         56               высшее             0   \n",
       "15         1    -972.364419         26              среднее             1   \n",
       "16         0   -1719.934226         35              среднее             1   \n",
       "17         0   -2369.999720         33               высшее             0   \n",
       "18         0  400281.136913         53              среднее             1   \n",
       "19         0  -10038.818549         48              СРЕДНЕЕ             1   \n",
       "\n",
       "       family_status  family_status_id gender income_type  debt  \\\n",
       "0    женат / замужем                 0      F   сотрудник     0   \n",
       "1    женат / замужем                 0      F   сотрудник     0   \n",
       "2    женат / замужем                 0      M   сотрудник     0   \n",
       "3    женат / замужем                 0      M   сотрудник     0   \n",
       "4   гражданский брак                 1      F   пенсионер     0   \n",
       "5   гражданский брак                 1      M   компаньон     0   \n",
       "6    женат / замужем                 0      F   компаньон     0   \n",
       "7    женат / замужем                 0      M   сотрудник     0   \n",
       "8   гражданский брак                 1      F   сотрудник     0   \n",
       "9    женат / замужем                 0      M   сотрудник     0   \n",
       "10   женат / замужем                 0      M   компаньон     0   \n",
       "11   женат / замужем                 0      F   сотрудник     0   \n",
       "12  гражданский брак                 1      M   пенсионер     0   \n",
       "13   женат / замужем                 0      F   сотрудник     0   \n",
       "14  гражданский брак                 1      F   компаньон     1   \n",
       "15   женат / замужем                 0      F   сотрудник     0   \n",
       "16   женат / замужем                 0      F   сотрудник     0   \n",
       "17  гражданский брак                 1      M   сотрудник     0   \n",
       "18    вдовец / вдова                 2      F   пенсионер     0   \n",
       "19         в разводе                 3      F   сотрудник     0   \n",
       "\n",
       "     total_income                                 purpose  \n",
       "0   253875.639453                           покупка жилья  \n",
       "1   112080.014102                 приобретение автомобиля  \n",
       "2   145885.952297                           покупка жилья  \n",
       "3   267628.550329              дополнительное образование  \n",
       "4   158616.077870                         сыграть свадьбу  \n",
       "5   255763.565419                           покупка жилья  \n",
       "6   240525.971920                       операции с жильем  \n",
       "7   135823.934197                             образование  \n",
       "8    95856.832424                   на проведение свадьбы  \n",
       "9   144425.938277                 покупка жилья для семьи  \n",
       "10  113943.491460                    покупка недвижимости  \n",
       "11   77069.234271       покупка коммерческой недвижимости  \n",
       "12            NaN                         сыграть свадьбу  \n",
       "13  130458.228857                 приобретение автомобиля  \n",
       "14  165127.911772              покупка жилой недвижимости  \n",
       "15  116820.904450  строительство собственной недвижимости  \n",
       "16  289202.704229                            недвижимость  \n",
       "17   90410.586745              строительство недвижимости  \n",
       "18   56823.777243      на покупку подержанного автомобиля  \n",
       "19  242831.107982            на покупку своего автомобиля  "
      ]
     },
     "execution_count": 3,
     "metadata": {},
     "output_type": "execute_result"
    }
   ],
   "source": [
    "# ваш код здесь\n",
    "data.head(20)"
   ]
  },
  {
   "cell_type": "markdown",
   "id": "1c12e233",
   "metadata": {
    "deletable": false,
    "editable": false,
    "id": "1c12e233",
    "tags": [
     "start_task"
    ]
   },
   "source": [
    "**Задание 3. Выведите основную информацию о датафрейме с помощью метода `info()`.**"
   ]
  },
  {
   "cell_type": "code",
   "execution_count": 4,
   "id": "2b757bca",
   "metadata": {
    "id": "2b757bca"
   },
   "outputs": [
    {
     "name": "stdout",
     "output_type": "stream",
     "text": [
      "<class 'pandas.core.frame.DataFrame'>\n",
      "RangeIndex: 21525 entries, 0 to 21524\n",
      "Data columns (total 12 columns):\n",
      " #   Column            Non-Null Count  Dtype  \n",
      "---  ------            --------------  -----  \n",
      " 0   children          21525 non-null  int64  \n",
      " 1   days_employed     19351 non-null  float64\n",
      " 2   dob_years         21525 non-null  int64  \n",
      " 3   education         21525 non-null  object \n",
      " 4   education_id      21525 non-null  int64  \n",
      " 5   family_status     21525 non-null  object \n",
      " 6   family_status_id  21525 non-null  int64  \n",
      " 7   gender            21525 non-null  object \n",
      " 8   income_type       21525 non-null  object \n",
      " 9   debt              21525 non-null  int64  \n",
      " 10  total_income      19351 non-null  float64\n",
      " 11  purpose           21525 non-null  object \n",
      "dtypes: float64(2), int64(5), object(5)\n",
      "memory usage: 2.0+ MB\n"
     ]
    }
   ],
   "source": [
    "# ваш код здесь\n",
    "data.info()"
   ]
  },
  {
   "cell_type": "markdown",
   "id": "333ec665",
   "metadata": {
    "deletable": false,
    "editable": false,
    "id": "333ec665"
   },
   "source": [
    "## Предобработка данных"
   ]
  },
  {
   "cell_type": "markdown",
   "id": "02d92d53",
   "metadata": {
    "deletable": false,
    "editable": false,
    "id": "02d92d53"
   },
   "source": [
    "### Удаление пропусков"
   ]
  },
  {
   "cell_type": "markdown",
   "id": "cd84967c",
   "metadata": {
    "deletable": false,
    "editable": false,
    "id": "cd84967c",
    "tags": [
     "start_task"
    ]
   },
   "source": [
    "**Задание 4. Выведите количество пропущенных значений для каждого столбца. Используйте комбинацию двух методов.**"
   ]
  },
  {
   "cell_type": "code",
   "execution_count": 5,
   "id": "7f9b2309",
   "metadata": {
    "id": "7f9b2309"
   },
   "outputs": [
    {
     "data": {
      "text/plain": [
       "children               0\n",
       "days_employed       2174\n",
       "dob_years              0\n",
       "education              0\n",
       "education_id           0\n",
       "family_status          0\n",
       "family_status_id       0\n",
       "gender                 0\n",
       "income_type            0\n",
       "debt                   0\n",
       "total_income        2174\n",
       "purpose                0\n",
       "dtype: int64"
      ]
     },
     "execution_count": 5,
     "metadata": {},
     "output_type": "execute_result"
    }
   ],
   "source": [
    "# ваш код здесь\n",
    "data.isna().sum()"
   ]
  },
  {
   "cell_type": "markdown",
   "id": "db86e27b",
   "metadata": {
    "deletable": false,
    "editable": false,
    "id": "db86e27b",
    "tags": [
     "start_task"
    ]
   },
   "source": [
    "**Задание 5. В двух столбцах есть пропущенные значения. Один из них — `days_employed`. Пропуски в этом столбце вы обработаете на следующем этапе. Другой столбец с пропущенными значениями — `total_income` — хранит данные о доходах. На сумму дохода сильнее всего влияет тип занятости, поэтому заполнить пропуски в этом столбце нужно медианным значением по каждому типу из столбца `income_type`. Например, у человека с типом занятости `сотрудник` пропуск в столбце `total_income` должен быть заполнен медианным доходом среди всех записей с тем же типом.**"
   ]
  },
  {
   "cell_type": "code",
   "execution_count": 6,
   "id": "42006a93",
   "metadata": {
    "id": "42006a93"
   },
   "outputs": [],
   "source": [
    "# ваш код здесь\n",
    "for i in data['income_type'].unique():\n",
    "    \n",
    "    data.loc[(data['income_type'] == i) & (data['total_income'].isna()),'total_income'] = \\\n",
    "    data.loc[(data['income_type'] == i),'total_income'].median()\n",
    "    \n",
    "\n",
    "    \n"
   ]
  },
  {
   "cell_type": "markdown",
   "id": "89da5ece",
   "metadata": {
    "deletable": false,
    "editable": false,
    "id": "89da5ece"
   },
   "source": [
    "### Обработка аномальных значений"
   ]
  },
  {
   "cell_type": "markdown",
   "id": "57964554",
   "metadata": {
    "deletable": false,
    "editable": false,
    "id": "57964554",
    "tags": [
     "start_task"
    ]
   },
   "source": [
    "**Задание 6. В данных могут встречаться артефакты (аномалии) — значения, которые не отражают действительность и появились по какой-то ошибке. Таким артефактом будет отрицательное количество дней трудового стажа в столбце `days_employed`. Для реальных данных это нормально. Обработайте значения в этом столбце: замените все отрицательные значения положительными с помощью метода `abs()`.**"
   ]
  },
  {
   "cell_type": "code",
   "execution_count": 7,
   "id": "f6f055bf",
   "metadata": {
    "id": "f6f055bf"
   },
   "outputs": [],
   "source": [
    "# ваш код здесь\n",
    "data['days_employed'] = abs(data['days_employed'])"
   ]
  },
  {
   "cell_type": "markdown",
   "id": "6107dd2f",
   "metadata": {
    "deletable": false,
    "editable": false,
    "id": "6107dd2f",
    "tags": [
     "start_task"
    ]
   },
   "source": [
    "**Задание 7. Для каждого типа занятости выведите медианное значение трудового стажа `days_employed` в днях.**"
   ]
  },
  {
   "cell_type": "code",
   "execution_count": 8,
   "id": "85a5faf6",
   "metadata": {
    "id": "85a5faf6"
   },
   "outputs": [
    {
     "name": "stdout",
     "output_type": "stream",
     "text": [
      "income_type\n",
      "безработный        366413.652744\n",
      "в декрете            3296.759962\n",
      "госслужащий          2689.368353\n",
      "компаньон            1547.382223\n",
      "пенсионер          365213.306266\n",
      "предприниматель       520.848083\n",
      "сотрудник            1574.202821\n",
      "студент               578.751554\n",
      "Name: days_employed, dtype: float64\n"
     ]
    }
   ],
   "source": [
    "# ваш код здесь\n",
    "print(data.groupby('income_type')['days_employed'].median())"
   ]
  },
  {
   "cell_type": "markdown",
   "id": "38d1a030",
   "metadata": {
    "deletable": false,
    "editable": false,
    "id": "38d1a030"
   },
   "source": [
    "У двух типов (безработные и пенсионеры) получатся аномально большие значения. Исправить такие значения сложно, поэтому оставьте их как есть. Тем более этот столбец не понадобится вам для исследования."
   ]
  },
  {
   "cell_type": "markdown",
   "id": "d8a9f147",
   "metadata": {
    "deletable": false,
    "editable": false,
    "id": "d8a9f147",
    "tags": [
     "start_task"
    ]
   },
   "source": [
    "**Задание 8. Выведите перечень уникальных значений столбца `children`.**"
   ]
  },
  {
   "cell_type": "code",
   "execution_count": 9,
   "id": "ef5056eb",
   "metadata": {
    "id": "ef5056eb"
   },
   "outputs": [
    {
     "name": "stdout",
     "output_type": "stream",
     "text": [
      "[ 1  0  3  2 -1  4 20  5]\n"
     ]
    }
   ],
   "source": [
    "# ваш код здесь\n",
    "print(data['children'].unique())"
   ]
  },
  {
   "cell_type": "markdown",
   "id": "40b9ebf2",
   "metadata": {
    "deletable": false,
    "editable": false,
    "id": "40b9ebf2",
    "tags": [
     "start_task"
    ]
   },
   "source": [
    "**Задание 9. В столбце `children` есть два аномальных значения. Удалите строки, в которых встречаются такие аномальные значения из датафрейма `data`.**"
   ]
  },
  {
   "cell_type": "code",
   "execution_count": 10,
   "id": "3ff9801d",
   "metadata": {
    "id": "3ff9801d"
   },
   "outputs": [],
   "source": [
    "data = data.loc[(data['children']!=-1) & (data['children']!=20)]"
   ]
  },
  {
   "cell_type": "markdown",
   "id": "bbc4d0ce",
   "metadata": {
    "deletable": false,
    "editable": false,
    "id": "bbc4d0ce",
    "tags": [
     "start_task"
    ]
   },
   "source": [
    "**Задание 10. Ещё раз выведите перечень уникальных значений столбца `children`, чтобы убедиться, что артефакты удалены.**"
   ]
  },
  {
   "cell_type": "code",
   "execution_count": 11,
   "id": "ad4fa8b7",
   "metadata": {
    "id": "ad4fa8b7"
   },
   "outputs": [
    {
     "name": "stdout",
     "output_type": "stream",
     "text": [
      "[1 0 3 2 4 5]\n"
     ]
    }
   ],
   "source": [
    "# ваш код здесь\n",
    "print(data['children'].unique())"
   ]
  },
  {
   "cell_type": "markdown",
   "id": "75440b63",
   "metadata": {
    "deletable": false,
    "editable": false,
    "id": "75440b63"
   },
   "source": [
    "### Удаление пропусков (продолжение)"
   ]
  },
  {
   "cell_type": "markdown",
   "id": "f4ea573f",
   "metadata": {
    "deletable": false,
    "editable": false,
    "id": "f4ea573f",
    "tags": [
     "start_task"
    ]
   },
   "source": [
    "**Задание 11. Заполните пропуски в столбце `days_employed` медианными значениями по каждому типу занятости `income_type`.**"
   ]
  },
  {
   "cell_type": "code",
   "execution_count": 12,
   "id": "af6b1a7e",
   "metadata": {
    "id": "af6b1a7e"
   },
   "outputs": [],
   "source": [
    "# ваш код здесь\n",
    "for i in data['income_type'].unique():\n",
    "    data.loc[(data['income_type'] == i) & (data['days_employed'].isna()),'days_employed'] = \\\n",
    "    data.loc[(data['income_type'] == i), 'days_employed'].median()   \n"
   ]
  },
  {
   "cell_type": "markdown",
   "id": "2753f40d",
   "metadata": {
    "deletable": false,
    "editable": false,
    "id": "2753f40d",
    "tags": [
     "start_task"
    ]
   },
   "source": [
    "**Задание 12. Убедитесь, что все пропуски заполнены. Проверьте себя и ещё раз выведите количество пропущенных значений для каждого столбца с помощью двух методов.**"
   ]
  },
  {
   "cell_type": "code",
   "execution_count": 13,
   "id": "55f78bc2",
   "metadata": {
    "id": "55f78bc2"
   },
   "outputs": [
    {
     "data": {
      "text/plain": [
       "total_income     0\n",
       "days_employed    0\n",
       "dtype: int64"
      ]
     },
     "execution_count": 13,
     "metadata": {},
     "output_type": "execute_result"
    }
   ],
   "source": [
    "# ваш код здесь\n",
    "data[['total_income', 'days_employed']].isna().sum()"
   ]
  },
  {
   "cell_type": "markdown",
   "id": "ddc81e43",
   "metadata": {
    "deletable": false,
    "editable": false,
    "id": "ddc81e43"
   },
   "source": [
    "### Изменение типов данных"
   ]
  },
  {
   "cell_type": "markdown",
   "id": "42d19d24",
   "metadata": {
    "deletable": false,
    "editable": false,
    "id": "42d19d24",
    "tags": [
     "start_task"
    ]
   },
   "source": [
    "**Задание 13. Замените вещественный тип данных в столбце `total_income` на целочисленный с помощью метода `astype()`.**"
   ]
  },
  {
   "cell_type": "code",
   "execution_count": 14,
   "id": "920b65ad",
   "metadata": {
    "id": "920b65ad"
   },
   "outputs": [],
   "source": [
    "# ваш код здесь\n",
    "data['total_income'] = data['total_income'].astype('int')"
   ]
  },
  {
   "cell_type": "markdown",
   "id": "80c420ba",
   "metadata": {
    "deletable": false,
    "editable": false,
    "id": "80c420ba"
   },
   "source": [
    "### Обработка дубликатов"
   ]
  },
  {
   "cell_type": "markdown",
   "id": "dc587695",
   "metadata": {
    "deletable": false,
    "editable": false,
    "id": "dc587695",
    "tags": [
     "start_task"
    ]
   },
   "source": [
    "**Задание 14. Обработайте неявные дубликаты в столбце `education`. В этом столбце есть одни и те же значения, но записанные по-разному: с использованием заглавных и строчных букв. Приведите их к нижнему регистру.**"
   ]
  },
  {
   "cell_type": "code",
   "execution_count": 15,
   "id": "a9f8e2bf",
   "metadata": {
    "id": "a9f8e2bf"
   },
   "outputs": [],
   "source": [
    "# ваш код здесь\n",
    "data['education'] = data['education'].str.lower()"
   ]
  },
  {
   "cell_type": "markdown",
   "id": "9771a76c",
   "metadata": {
    "deletable": false,
    "editable": false,
    "id": "9771a76c",
    "tags": [
     "start_task"
    ]
   },
   "source": [
    "**Задание 15. Выведите на экран количество строк-дубликатов в данных. Если такие строки присутствуют, удалите их. Сбрасывать индексы после удаления строк дубликатов с помощью `reset_index(drop=True)` здесь не требуется.**"
   ]
  },
  {
   "cell_type": "code",
   "execution_count": 16,
   "id": "3ee445e4",
   "metadata": {
    "id": "3ee445e4"
   },
   "outputs": [
    {
     "name": "stdout",
     "output_type": "stream",
     "text": [
      "71\n"
     ]
    }
   ],
   "source": [
    "# посчитайте дубликаты\n",
    "print(data.duplicated().sum())\n"
   ]
  },
  {
   "cell_type": "code",
   "execution_count": 17,
   "id": "8575fe05",
   "metadata": {
    "id": "8575fe05"
   },
   "outputs": [
    {
     "data": {
      "text/html": [
       "<div>\n",
       "<style scoped>\n",
       "    .dataframe tbody tr th:only-of-type {\n",
       "        vertical-align: middle;\n",
       "    }\n",
       "\n",
       "    .dataframe tbody tr th {\n",
       "        vertical-align: top;\n",
       "    }\n",
       "\n",
       "    .dataframe thead th {\n",
       "        text-align: right;\n",
       "    }\n",
       "</style>\n",
       "<table border=\"1\" class=\"dataframe\">\n",
       "  <thead>\n",
       "    <tr style=\"text-align: right;\">\n",
       "      <th></th>\n",
       "      <th>children</th>\n",
       "      <th>days_employed</th>\n",
       "      <th>dob_years</th>\n",
       "      <th>education</th>\n",
       "      <th>education_id</th>\n",
       "      <th>family_status</th>\n",
       "      <th>family_status_id</th>\n",
       "      <th>gender</th>\n",
       "      <th>income_type</th>\n",
       "      <th>debt</th>\n",
       "      <th>total_income</th>\n",
       "      <th>purpose</th>\n",
       "    </tr>\n",
       "  </thead>\n",
       "  <tbody>\n",
       "    <tr>\n",
       "      <th>0</th>\n",
       "      <td>1</td>\n",
       "      <td>8437.673028</td>\n",
       "      <td>42</td>\n",
       "      <td>высшее</td>\n",
       "      <td>0</td>\n",
       "      <td>женат / замужем</td>\n",
       "      <td>0</td>\n",
       "      <td>F</td>\n",
       "      <td>сотрудник</td>\n",
       "      <td>0</td>\n",
       "      <td>253875</td>\n",
       "      <td>покупка жилья</td>\n",
       "    </tr>\n",
       "    <tr>\n",
       "      <th>1</th>\n",
       "      <td>1</td>\n",
       "      <td>4024.803754</td>\n",
       "      <td>36</td>\n",
       "      <td>среднее</td>\n",
       "      <td>1</td>\n",
       "      <td>женат / замужем</td>\n",
       "      <td>0</td>\n",
       "      <td>F</td>\n",
       "      <td>сотрудник</td>\n",
       "      <td>0</td>\n",
       "      <td>112080</td>\n",
       "      <td>приобретение автомобиля</td>\n",
       "    </tr>\n",
       "    <tr>\n",
       "      <th>2</th>\n",
       "      <td>0</td>\n",
       "      <td>5623.422610</td>\n",
       "      <td>33</td>\n",
       "      <td>среднее</td>\n",
       "      <td>1</td>\n",
       "      <td>женат / замужем</td>\n",
       "      <td>0</td>\n",
       "      <td>M</td>\n",
       "      <td>сотрудник</td>\n",
       "      <td>0</td>\n",
       "      <td>145885</td>\n",
       "      <td>покупка жилья</td>\n",
       "    </tr>\n",
       "    <tr>\n",
       "      <th>3</th>\n",
       "      <td>3</td>\n",
       "      <td>4124.747207</td>\n",
       "      <td>32</td>\n",
       "      <td>среднее</td>\n",
       "      <td>1</td>\n",
       "      <td>женат / замужем</td>\n",
       "      <td>0</td>\n",
       "      <td>M</td>\n",
       "      <td>сотрудник</td>\n",
       "      <td>0</td>\n",
       "      <td>267628</td>\n",
       "      <td>дополнительное образование</td>\n",
       "    </tr>\n",
       "    <tr>\n",
       "      <th>4</th>\n",
       "      <td>0</td>\n",
       "      <td>340266.072047</td>\n",
       "      <td>53</td>\n",
       "      <td>среднее</td>\n",
       "      <td>1</td>\n",
       "      <td>гражданский брак</td>\n",
       "      <td>1</td>\n",
       "      <td>F</td>\n",
       "      <td>пенсионер</td>\n",
       "      <td>0</td>\n",
       "      <td>158616</td>\n",
       "      <td>сыграть свадьбу</td>\n",
       "    </tr>\n",
       "    <tr>\n",
       "      <th>...</th>\n",
       "      <td>...</td>\n",
       "      <td>...</td>\n",
       "      <td>...</td>\n",
       "      <td>...</td>\n",
       "      <td>...</td>\n",
       "      <td>...</td>\n",
       "      <td>...</td>\n",
       "      <td>...</td>\n",
       "      <td>...</td>\n",
       "      <td>...</td>\n",
       "      <td>...</td>\n",
       "      <td>...</td>\n",
       "    </tr>\n",
       "    <tr>\n",
       "      <th>21520</th>\n",
       "      <td>1</td>\n",
       "      <td>4529.316663</td>\n",
       "      <td>43</td>\n",
       "      <td>среднее</td>\n",
       "      <td>1</td>\n",
       "      <td>гражданский брак</td>\n",
       "      <td>1</td>\n",
       "      <td>F</td>\n",
       "      <td>компаньон</td>\n",
       "      <td>0</td>\n",
       "      <td>224791</td>\n",
       "      <td>операции с жильем</td>\n",
       "    </tr>\n",
       "    <tr>\n",
       "      <th>21521</th>\n",
       "      <td>0</td>\n",
       "      <td>343937.404131</td>\n",
       "      <td>67</td>\n",
       "      <td>среднее</td>\n",
       "      <td>1</td>\n",
       "      <td>женат / замужем</td>\n",
       "      <td>0</td>\n",
       "      <td>F</td>\n",
       "      <td>пенсионер</td>\n",
       "      <td>0</td>\n",
       "      <td>155999</td>\n",
       "      <td>сделка с автомобилем</td>\n",
       "    </tr>\n",
       "    <tr>\n",
       "      <th>21522</th>\n",
       "      <td>1</td>\n",
       "      <td>2113.346888</td>\n",
       "      <td>38</td>\n",
       "      <td>среднее</td>\n",
       "      <td>1</td>\n",
       "      <td>гражданский брак</td>\n",
       "      <td>1</td>\n",
       "      <td>M</td>\n",
       "      <td>сотрудник</td>\n",
       "      <td>1</td>\n",
       "      <td>89672</td>\n",
       "      <td>недвижимость</td>\n",
       "    </tr>\n",
       "    <tr>\n",
       "      <th>21523</th>\n",
       "      <td>3</td>\n",
       "      <td>3112.481705</td>\n",
       "      <td>38</td>\n",
       "      <td>среднее</td>\n",
       "      <td>1</td>\n",
       "      <td>женат / замужем</td>\n",
       "      <td>0</td>\n",
       "      <td>M</td>\n",
       "      <td>сотрудник</td>\n",
       "      <td>1</td>\n",
       "      <td>244093</td>\n",
       "      <td>на покупку своего автомобиля</td>\n",
       "    </tr>\n",
       "    <tr>\n",
       "      <th>21524</th>\n",
       "      <td>2</td>\n",
       "      <td>1984.507589</td>\n",
       "      <td>40</td>\n",
       "      <td>среднее</td>\n",
       "      <td>1</td>\n",
       "      <td>женат / замужем</td>\n",
       "      <td>0</td>\n",
       "      <td>F</td>\n",
       "      <td>сотрудник</td>\n",
       "      <td>0</td>\n",
       "      <td>82047</td>\n",
       "      <td>на покупку автомобиля</td>\n",
       "    </tr>\n",
       "  </tbody>\n",
       "</table>\n",
       "<p>21331 rows × 12 columns</p>\n",
       "</div>"
      ],
      "text/plain": [
       "       children  days_employed  dob_years education  education_id  \\\n",
       "0             1    8437.673028         42    высшее             0   \n",
       "1             1    4024.803754         36   среднее             1   \n",
       "2             0    5623.422610         33   среднее             1   \n",
       "3             3    4124.747207         32   среднее             1   \n",
       "4             0  340266.072047         53   среднее             1   \n",
       "...         ...            ...        ...       ...           ...   \n",
       "21520         1    4529.316663         43   среднее             1   \n",
       "21521         0  343937.404131         67   среднее             1   \n",
       "21522         1    2113.346888         38   среднее             1   \n",
       "21523         3    3112.481705         38   среднее             1   \n",
       "21524         2    1984.507589         40   среднее             1   \n",
       "\n",
       "          family_status  family_status_id gender income_type  debt  \\\n",
       "0       женат / замужем                 0      F   сотрудник     0   \n",
       "1       женат / замужем                 0      F   сотрудник     0   \n",
       "2       женат / замужем                 0      M   сотрудник     0   \n",
       "3       женат / замужем                 0      M   сотрудник     0   \n",
       "4      гражданский брак                 1      F   пенсионер     0   \n",
       "...                 ...               ...    ...         ...   ...   \n",
       "21520  гражданский брак                 1      F   компаньон     0   \n",
       "21521   женат / замужем                 0      F   пенсионер     0   \n",
       "21522  гражданский брак                 1      M   сотрудник     1   \n",
       "21523   женат / замужем                 0      M   сотрудник     1   \n",
       "21524   женат / замужем                 0      F   сотрудник     0   \n",
       "\n",
       "       total_income                       purpose  \n",
       "0            253875                 покупка жилья  \n",
       "1            112080       приобретение автомобиля  \n",
       "2            145885                 покупка жилья  \n",
       "3            267628    дополнительное образование  \n",
       "4            158616               сыграть свадьбу  \n",
       "...             ...                           ...  \n",
       "21520        224791             операции с жильем  \n",
       "21521        155999          сделка с автомобилем  \n",
       "21522         89672                  недвижимость  \n",
       "21523        244093  на покупку своего автомобиля  \n",
       "21524         82047         на покупку автомобиля  \n",
       "\n",
       "[21331 rows x 12 columns]"
      ]
     },
     "execution_count": 17,
     "metadata": {},
     "output_type": "execute_result"
    }
   ],
   "source": [
    "# удалите дубликаты\n",
    "data.drop_duplicates()"
   ]
  },
  {
   "cell_type": "markdown",
   "id": "9904cf55",
   "metadata": {
    "deletable": false,
    "editable": false,
    "id": "9904cf55"
   },
   "source": [
    "### Категоризация данных"
   ]
  },
  {
   "cell_type": "markdown",
   "id": "72fcc8a2",
   "metadata": {
    "deletable": false,
    "editable": false,
    "id": "72fcc8a2",
    "tags": [
     "start_task"
    ]
   },
   "source": [
    "**Задание 16. На основании диапазонов, указанных ниже, создайте в датафрейме `data` столбец `total_income_category` с категориями:**\n",
    "\n",
    "- 0–30000 — `'E'`;\n",
    "- 30001–50000 — `'D'`;\n",
    "- 50001–200000 — `'C'`;\n",
    "- 200001–1000000 — `'B'`;\n",
    "- 1000001 и выше — `'A'`.\n",
    "\n",
    "\n",
    "**Например, кредитополучателю с доходом 25000 нужно назначить категорию `'E'`, а клиенту, получающему 235000, — `'B'`. Используйте собственную функцию с именем `categorize_income()` и метод `apply()`.**"
   ]
  },
  {
   "cell_type": "code",
   "execution_count": 18,
   "id": "e1771346",
   "metadata": {
    "id": "e1771346"
   },
   "outputs": [],
   "source": [
    "# создайте функцию categorize_income()\n",
    "def categorize_income(category):\n",
    "    \n",
    "        if 0 <= category <= 30000:\n",
    "            return 'E'\n",
    "        elif 30001 <= category <= 50000:\n",
    "            return 'D'\n",
    "        elif 50001 <= category <= 200000:\n",
    "            return 'C'        \n",
    "        elif 200001 <= category <= 1000000:\n",
    "            return 'B'\n",
    "        else:\n",
    "            return 'A'\n",
    "    "
   ]
  },
  {
   "cell_type": "code",
   "execution_count": 19,
   "id": "d5f3586d",
   "metadata": {
    "id": "d5f3586d"
   },
   "outputs": [],
   "source": [
    "# примените функцию методом apply()\n",
    "data['total_income_category'] = data['total_income'].apply(categorize_income)"
   ]
  },
  {
   "cell_type": "markdown",
   "id": "dde49b5c",
   "metadata": {
    "deletable": false,
    "editable": false,
    "id": "dde49b5c",
    "tags": [
     "start_task"
    ]
   },
   "source": [
    "**Задание 17. Выведите на экран перечень уникальных целей взятия кредита из столбца `purpose`.**"
   ]
  },
  {
   "cell_type": "code",
   "execution_count": 20,
   "id": "f67ce9b3",
   "metadata": {
    "id": "f67ce9b3"
   },
   "outputs": [
    {
     "data": {
      "text/plain": [
       "array(['покупка жилья', 'приобретение автомобиля',\n",
       "       'дополнительное образование', 'сыграть свадьбу',\n",
       "       'операции с жильем', 'образование', 'на проведение свадьбы',\n",
       "       'покупка жилья для семьи', 'покупка недвижимости',\n",
       "       'покупка коммерческой недвижимости', 'покупка жилой недвижимости',\n",
       "       'строительство собственной недвижимости', 'недвижимость',\n",
       "       'строительство недвижимости', 'на покупку подержанного автомобиля',\n",
       "       'на покупку своего автомобиля',\n",
       "       'операции с коммерческой недвижимостью',\n",
       "       'строительство жилой недвижимости', 'жилье',\n",
       "       'операции со своей недвижимостью', 'автомобили',\n",
       "       'заняться образованием', 'сделка с подержанным автомобилем',\n",
       "       'получение образования', 'автомобиль', 'свадьба',\n",
       "       'получение дополнительного образования', 'покупка своего жилья',\n",
       "       'операции с недвижимостью', 'получение высшего образования',\n",
       "       'свой автомобиль', 'сделка с автомобилем',\n",
       "       'профильное образование', 'высшее образование',\n",
       "       'покупка жилья для сдачи', 'на покупку автомобиля', 'ремонт жилью',\n",
       "       'заняться высшим образованием'], dtype=object)"
      ]
     },
     "execution_count": 20,
     "metadata": {},
     "output_type": "execute_result"
    }
   ],
   "source": [
    "# ваш код здесь\n",
    "data['purpose'].unique()"
   ]
  },
  {
   "cell_type": "markdown",
   "id": "85d0aef0",
   "metadata": {
    "deletable": false,
    "editable": false,
    "id": "85d0aef0",
    "tags": [
     "start_task"
    ]
   },
   "source": [
    "**Задание 18. Создайте функцию, которая на основании данных из столбца `purpose` сформирует новый столбец `purpose_category`, в который войдут следующие категории:**\n",
    "\n",
    "- `'операции с автомобилем'`,\n",
    "- `'операции с недвижимостью'`,\n",
    "- `'проведение свадьбы'`,\n",
    "- `'получение образования'`.\n",
    "\n",
    "**Например, если в столбце `purpose` находится подстрока `'на покупку автомобиля'`, то в столбце `purpose_category` должна появиться строка `'операции с автомобилем'`.**\n",
    "\n",
    "**Используйте собственную функцию с именем `categorize_purpose()` и метод `apply()`. Изучите данные в столбце `purpose` и определите, какие подстроки помогут вам правильно определить категорию.**"
   ]
  },
  {
   "cell_type": "code",
   "execution_count": 26,
   "id": "788f8300",
   "metadata": {},
   "outputs": [
    {
     "data": {
      "text/plain": [
       "0"
      ]
     },
     "execution_count": 26,
     "metadata": {},
     "output_type": "execute_result"
    }
   ],
   "source": [
    "data['purpose'].isna().sum()"
   ]
  },
  {
   "cell_type": "code",
   "execution_count": 21,
   "id": "e149fab4",
   "metadata": {
    "id": "e149fab4"
   },
   "outputs": [],
   "source": [
    "# создайте функцию categorize_purpose()\n",
    "def categorize_purpose(category):\n",
    "    if ('автомобил' in category) == True:\n",
    "        return 'операции с автомобилем'\n",
    "    elif ('образован' in category) == True:\n",
    "        return 'получение образования'\n",
    "    elif ('свадьб' in category) == True:\n",
    "        return 'проведение свадьбы'\n",
    "    else: \n",
    "        return 'операции с недвижимостью'"
   ]
  },
  {
   "cell_type": "code",
   "execution_count": 22,
   "id": "bf36e69b",
   "metadata": {
    "id": "bf36e69b",
    "scrolled": true
   },
   "outputs": [],
   "source": [
    "# примените функцию методом apply()\n",
    "data['purpose_category'] = data['purpose'].apply(categorize_purpose)\n"
   ]
  }
 ],
 "metadata": {
  "ExecuteTimeLog": [
   {
    "duration": 373,
    "start_time": "2022-11-20T10:18:22.037Z"
   },
   {
    "duration": 76,
    "start_time": "2022-11-20T10:18:38.916Z"
   },
   {
    "duration": 124,
    "start_time": "2022-11-20T10:18:45.286Z"
   },
   {
    "duration": 21,
    "start_time": "2022-11-20T10:18:47.703Z"
   },
   {
    "duration": 15,
    "start_time": "2022-11-20T10:19:02.855Z"
   },
   {
    "duration": 15,
    "start_time": "2022-11-20T10:23:44.533Z"
   },
   {
    "duration": 22,
    "start_time": "2022-11-20T10:25:07.339Z"
   },
   {
    "duration": 12,
    "start_time": "2022-11-20T10:25:41.229Z"
   },
   {
    "duration": 5,
    "start_time": "2022-11-20T10:59:26.590Z"
   },
   {
    "duration": 11,
    "start_time": "2022-11-20T10:59:38.795Z"
   },
   {
    "duration": 20,
    "start_time": "2022-11-20T11:00:58.510Z"
   },
   {
    "duration": 11,
    "start_time": "2022-11-20T11:01:16.508Z"
   },
   {
    "duration": 11,
    "start_time": "2022-11-20T11:01:26.222Z"
   },
   {
    "duration": 12,
    "start_time": "2022-11-20T11:01:30.533Z"
   },
   {
    "duration": 12,
    "start_time": "2022-11-20T11:03:37.450Z"
   },
   {
    "duration": 6,
    "start_time": "2022-11-20T11:09:15.778Z"
   },
   {
    "duration": 76,
    "start_time": "2022-11-20T11:16:35.692Z"
   },
   {
    "duration": 12,
    "start_time": "2022-11-20T11:16:41.381Z"
   },
   {
    "duration": 6,
    "start_time": "2022-11-20T11:16:49.281Z"
   },
   {
    "duration": 72,
    "start_time": "2022-11-20T11:49:12.288Z"
   },
   {
    "duration": 72,
    "start_time": "2022-11-20T11:49:23.399Z"
   },
   {
    "duration": 88,
    "start_time": "2022-11-20T11:49:39.308Z"
   },
   {
    "duration": 91,
    "start_time": "2022-11-20T11:49:57.243Z"
   },
   {
    "duration": 14,
    "start_time": "2022-11-20T11:51:37.242Z"
   },
   {
    "duration": 24,
    "start_time": "2022-11-20T11:51:51.952Z"
   },
   {
    "duration": 28,
    "start_time": "2022-11-20T11:52:12.306Z"
   },
   {
    "duration": 35,
    "start_time": "2022-11-20T11:52:25.584Z"
   },
   {
    "duration": 42,
    "start_time": "2022-11-20T11:54:37.200Z"
   },
   {
    "duration": 48,
    "start_time": "2022-11-20T11:54:56.277Z"
   },
   {
    "duration": 51,
    "start_time": "2022-11-20T11:55:07.414Z"
   },
   {
    "duration": 373,
    "start_time": "2022-11-20T11:55:20.853Z"
   },
   {
    "duration": 69,
    "start_time": "2022-11-20T11:55:27.192Z"
   },
   {
    "duration": 69,
    "start_time": "2022-11-20T11:55:34.282Z"
   },
   {
    "duration": 38,
    "start_time": "2022-11-20T11:55:47.029Z"
   },
   {
    "duration": 30,
    "start_time": "2022-11-20T11:56:07.202Z"
   },
   {
    "duration": 32,
    "start_time": "2022-11-20T12:05:18.453Z"
   },
   {
    "duration": 33,
    "start_time": "2022-11-20T12:05:51.070Z"
   },
   {
    "duration": 4,
    "start_time": "2022-11-20T12:08:34.324Z"
   },
   {
    "duration": 9,
    "start_time": "2022-11-20T12:23:33.257Z"
   },
   {
    "duration": 3,
    "start_time": "2022-11-20T12:25:48.133Z"
   },
   {
    "duration": 4,
    "start_time": "2022-11-20T12:54:42.648Z"
   },
   {
    "duration": 13,
    "start_time": "2022-11-20T13:01:52.422Z"
   },
   {
    "duration": 3,
    "start_time": "2022-11-20T13:02:25.124Z"
   },
   {
    "duration": 11,
    "start_time": "2022-11-20T13:02:33.984Z"
   },
   {
    "duration": 68,
    "start_time": "2022-11-20T13:04:22.583Z"
   },
   {
    "duration": 10,
    "start_time": "2022-11-20T13:04:27.587Z"
   },
   {
    "duration": 13,
    "start_time": "2022-11-20T13:04:44.225Z"
   },
   {
    "duration": 11,
    "start_time": "2022-11-20T13:05:11.551Z"
   },
   {
    "duration": 12,
    "start_time": "2022-11-20T13:05:45.306Z"
   },
   {
    "duration": 16,
    "start_time": "2022-11-20T13:07:07.061Z"
   },
   {
    "duration": 12,
    "start_time": "2022-11-20T13:07:24.603Z"
   },
   {
    "duration": 21,
    "start_time": "2022-11-20T13:07:33.419Z"
   },
   {
    "duration": 27,
    "start_time": "2022-11-20T13:11:32.536Z"
   },
   {
    "duration": 4,
    "start_time": "2022-11-20T13:11:42.487Z"
   },
   {
    "duration": 7,
    "start_time": "2022-11-20T13:12:08.684Z"
   },
   {
    "duration": 14,
    "start_time": "2022-11-20T13:13:47.426Z"
   },
   {
    "duration": 4,
    "start_time": "2022-11-20T13:13:49.687Z"
   },
   {
    "duration": 4,
    "start_time": "2022-11-20T13:14:16.131Z"
   },
   {
    "duration": 116,
    "start_time": "2022-11-20T13:22:01.169Z"
   },
   {
    "duration": 13,
    "start_time": "2022-11-20T13:22:52.850Z"
   },
   {
    "duration": 7,
    "start_time": "2022-11-20T13:23:07.726Z"
   },
   {
    "duration": 12,
    "start_time": "2022-11-20T13:23:38.528Z"
   },
   {
    "duration": 12,
    "start_time": "2022-11-20T13:24:04.519Z"
   },
   {
    "duration": 79,
    "start_time": "2022-11-20T13:25:50.230Z"
   },
   {
    "duration": 11,
    "start_time": "2022-11-20T13:26:00.917Z"
   },
   {
    "duration": 71,
    "start_time": "2022-11-20T13:26:11.313Z"
   },
   {
    "duration": 13,
    "start_time": "2022-11-20T13:27:56.855Z"
   },
   {
    "duration": 623,
    "start_time": "2022-11-20T13:29:29.943Z"
   },
   {
    "duration": 9,
    "start_time": "2022-11-20T13:31:05.438Z"
   },
   {
    "duration": 3,
    "start_time": "2022-11-20T13:31:10.378Z"
   },
   {
    "duration": 7,
    "start_time": "2022-11-20T13:31:16.366Z"
   },
   {
    "duration": 3,
    "start_time": "2022-11-20T13:31:20.716Z"
   },
   {
    "duration": 7,
    "start_time": "2022-11-20T13:31:26.009Z"
   },
   {
    "duration": 3,
    "start_time": "2022-11-20T13:31:41.900Z"
   },
   {
    "duration": 4,
    "start_time": "2022-11-20T13:31:56.316Z"
   },
   {
    "duration": 3,
    "start_time": "2022-11-20T13:32:48.895Z"
   },
   {
    "duration": 21,
    "start_time": "2022-11-20T13:33:34.374Z"
   },
   {
    "duration": 577,
    "start_time": "2022-11-20T13:38:38.471Z"
   },
   {
    "duration": 578,
    "start_time": "2022-11-20T13:38:55.871Z"
   },
   {
    "duration": 7,
    "start_time": "2022-11-20T13:51:23.172Z"
   },
   {
    "duration": 3,
    "start_time": "2022-11-20T13:51:34.389Z"
   },
   {
    "duration": 4,
    "start_time": "2022-11-20T13:51:41.966Z"
   },
   {
    "duration": 4,
    "start_time": "2022-11-20T13:51:45.292Z"
   },
   {
    "duration": 4,
    "start_time": "2022-11-20T13:52:06.447Z"
   },
   {
    "duration": 428,
    "start_time": "2022-11-20T13:52:30.777Z"
   },
   {
    "duration": 73,
    "start_time": "2022-11-20T13:52:31.207Z"
   },
   {
    "duration": 23,
    "start_time": "2022-11-20T13:52:31.282Z"
   },
   {
    "duration": 36,
    "start_time": "2022-11-20T13:52:31.307Z"
   },
   {
    "duration": 49,
    "start_time": "2022-11-20T13:52:31.345Z"
   },
   {
    "duration": 51,
    "start_time": "2022-11-20T13:52:31.396Z"
   },
   {
    "duration": 4,
    "start_time": "2022-11-20T13:52:31.448Z"
   },
   {
    "duration": 29,
    "start_time": "2022-11-20T13:52:31.453Z"
   },
   {
    "duration": 23,
    "start_time": "2022-11-20T13:52:31.483Z"
   },
   {
    "duration": 32,
    "start_time": "2022-11-20T13:52:31.508Z"
   },
   {
    "duration": 11,
    "start_time": "2022-11-20T13:52:31.542Z"
   },
   {
    "duration": 14,
    "start_time": "2022-11-20T13:52:31.555Z"
   },
   {
    "duration": 28,
    "start_time": "2022-11-20T13:52:31.570Z"
   },
   {
    "duration": 33,
    "start_time": "2022-11-20T13:52:31.601Z"
   },
   {
    "duration": 40,
    "start_time": "2022-11-20T13:52:31.635Z"
   },
   {
    "duration": 27,
    "start_time": "2022-11-20T13:52:31.676Z"
   },
   {
    "duration": 21,
    "start_time": "2022-11-20T13:52:31.705Z"
   },
   {
    "duration": 19,
    "start_time": "2022-11-20T13:52:31.727Z"
   },
   {
    "duration": 28,
    "start_time": "2022-11-20T13:52:31.748Z"
   },
   {
    "duration": 36,
    "start_time": "2022-11-20T13:52:31.778Z"
   },
   {
    "duration": 20,
    "start_time": "2022-11-20T13:52:31.816Z"
   },
   {
    "duration": 29,
    "start_time": "2022-11-20T13:52:31.838Z"
   },
   {
    "duration": 17,
    "start_time": "2022-11-20T13:52:52.635Z"
   },
   {
    "duration": 3,
    "start_time": "2022-11-20T13:53:16.176Z"
   },
   {
    "duration": 68,
    "start_time": "2022-11-20T13:54:50.102Z"
   },
   {
    "duration": 8,
    "start_time": "2022-11-20T13:56:02.092Z"
   },
   {
    "duration": 71,
    "start_time": "2022-11-20T13:56:22.987Z"
   },
   {
    "duration": 66,
    "start_time": "2022-11-20T13:57:11.804Z"
   },
   {
    "duration": 8,
    "start_time": "2022-11-20T13:57:20.410Z"
   },
   {
    "duration": 9,
    "start_time": "2022-11-20T13:57:39.653Z"
   },
   {
    "duration": 8,
    "start_time": "2022-11-20T13:57:55.721Z"
   },
   {
    "duration": 45,
    "start_time": "2022-11-21T07:34:58.562Z"
   },
   {
    "duration": 367,
    "start_time": "2022-11-21T07:35:05.073Z"
   },
   {
    "duration": 308,
    "start_time": "2022-11-21T07:35:05.442Z"
   },
   {
    "duration": 22,
    "start_time": "2022-11-21T07:35:05.752Z"
   },
   {
    "duration": 15,
    "start_time": "2022-11-21T07:35:05.776Z"
   },
   {
    "duration": 11,
    "start_time": "2022-11-21T07:35:05.794Z"
   },
   {
    "duration": 38,
    "start_time": "2022-11-21T07:35:05.806Z"
   },
   {
    "duration": 4,
    "start_time": "2022-11-21T07:35:05.845Z"
   },
   {
    "duration": 10,
    "start_time": "2022-11-21T07:35:05.850Z"
   },
   {
    "duration": 4,
    "start_time": "2022-11-21T07:35:05.861Z"
   },
   {
    "duration": 9,
    "start_time": "2022-11-21T07:35:05.867Z"
   },
   {
    "duration": 54,
    "start_time": "2022-11-21T07:35:05.877Z"
   },
   {
    "duration": 0,
    "start_time": "2022-11-21T07:35:05.933Z"
   },
   {
    "duration": 0,
    "start_time": "2022-11-21T07:35:05.934Z"
   },
   {
    "duration": 0,
    "start_time": "2022-11-21T07:35:05.935Z"
   },
   {
    "duration": 0,
    "start_time": "2022-11-21T07:35:05.936Z"
   },
   {
    "duration": 0,
    "start_time": "2022-11-21T07:35:05.938Z"
   },
   {
    "duration": 0,
    "start_time": "2022-11-21T07:35:05.939Z"
   },
   {
    "duration": 0,
    "start_time": "2022-11-21T07:35:05.940Z"
   },
   {
    "duration": 0,
    "start_time": "2022-11-21T07:35:05.942Z"
   },
   {
    "duration": 1,
    "start_time": "2022-11-21T07:35:05.942Z"
   },
   {
    "duration": 0,
    "start_time": "2022-11-21T07:35:05.943Z"
   },
   {
    "duration": 0,
    "start_time": "2022-11-21T07:35:05.944Z"
   },
   {
    "duration": 4,
    "start_time": "2022-11-21T07:35:18.395Z"
   },
   {
    "duration": 429,
    "start_time": "2022-11-21T07:55:32.256Z"
   },
   {
    "duration": 427,
    "start_time": "2022-11-21T07:57:06.999Z"
   },
   {
    "duration": 21,
    "start_time": "2022-11-21T07:58:38.716Z"
   },
   {
    "duration": 19,
    "start_time": "2022-11-21T07:58:45.365Z"
   },
   {
    "duration": 19,
    "start_time": "2022-11-21T08:00:01.897Z"
   },
   {
    "duration": 35,
    "start_time": "2022-11-21T08:01:27.827Z"
   },
   {
    "duration": 9,
    "start_time": "2022-11-21T08:03:12.499Z"
   },
   {
    "duration": 3,
    "start_time": "2022-11-21T08:41:18.517Z"
   },
   {
    "duration": 139,
    "start_time": "2022-11-21T08:41:18.522Z"
   },
   {
    "duration": 16,
    "start_time": "2022-11-21T08:41:18.663Z"
   },
   {
    "duration": 46,
    "start_time": "2022-11-21T08:41:18.681Z"
   },
   {
    "duration": 67,
    "start_time": "2022-11-21T08:41:18.730Z"
   },
   {
    "duration": 68,
    "start_time": "2022-11-21T08:41:18.799Z"
   },
   {
    "duration": 4,
    "start_time": "2022-11-21T08:41:18.869Z"
   },
   {
    "duration": 38,
    "start_time": "2022-11-21T08:41:18.875Z"
   },
   {
    "duration": 69,
    "start_time": "2022-11-21T08:41:18.915Z"
   },
   {
    "duration": 13,
    "start_time": "2022-11-21T08:41:18.986Z"
   },
   {
    "duration": 28,
    "start_time": "2022-11-21T08:41:19.001Z"
   },
   {
    "duration": 46,
    "start_time": "2022-11-21T08:41:19.031Z"
   },
   {
    "duration": 14,
    "start_time": "2022-11-21T08:41:19.080Z"
   },
   {
    "duration": 0,
    "start_time": "2022-11-21T08:41:19.097Z"
   },
   {
    "duration": 0,
    "start_time": "2022-11-21T08:41:19.098Z"
   },
   {
    "duration": 0,
    "start_time": "2022-11-21T08:41:19.100Z"
   },
   {
    "duration": 0,
    "start_time": "2022-11-21T08:41:19.101Z"
   },
   {
    "duration": 0,
    "start_time": "2022-11-21T08:41:19.103Z"
   },
   {
    "duration": 0,
    "start_time": "2022-11-21T08:41:19.104Z"
   },
   {
    "duration": 0,
    "start_time": "2022-11-21T08:41:19.106Z"
   },
   {
    "duration": 0,
    "start_time": "2022-11-21T08:41:19.112Z"
   },
   {
    "duration": 0,
    "start_time": "2022-11-21T08:41:19.114Z"
   },
   {
    "duration": 7,
    "start_time": "2022-11-21T08:41:31.660Z"
   },
   {
    "duration": 4,
    "start_time": "2022-11-21T08:41:34.140Z"
   },
   {
    "duration": 8,
    "start_time": "2022-11-21T08:42:35.828Z"
   },
   {
    "duration": 16,
    "start_time": "2022-11-21T08:43:46.140Z"
   },
   {
    "duration": 19,
    "start_time": "2022-11-21T08:51:15.710Z"
   },
   {
    "duration": 18,
    "start_time": "2022-11-21T08:51:23.741Z"
   },
   {
    "duration": 16,
    "start_time": "2022-11-21T08:51:32.348Z"
   },
   {
    "duration": 47,
    "start_time": "2022-11-21T08:52:18.902Z"
   },
   {
    "duration": 47,
    "start_time": "2022-11-21T09:18:28.700Z"
   },
   {
    "duration": 51,
    "start_time": "2022-11-21T09:18:43.301Z"
   },
   {
    "duration": 4,
    "start_time": "2022-11-21T09:19:12.702Z"
   },
   {
    "duration": 202,
    "start_time": "2022-11-21T09:19:19.101Z"
   },
   {
    "duration": 686,
    "start_time": "2022-11-21T09:20:47.232Z"
   },
   {
    "duration": 5,
    "start_time": "2022-11-21T09:24:09.428Z"
   },
   {
    "duration": 174,
    "start_time": "2022-11-21T09:24:17.460Z"
   },
   {
    "duration": 4,
    "start_time": "2022-11-21T09:24:28.101Z"
   },
   {
    "duration": 4,
    "start_time": "2022-11-21T09:26:25.909Z"
   },
   {
    "duration": 5,
    "start_time": "2022-11-21T09:26:39.741Z"
   },
   {
    "duration": 9,
    "start_time": "2022-11-21T09:26:49.381Z"
   },
   {
    "duration": 3,
    "start_time": "2022-11-21T09:26:55.721Z"
   },
   {
    "duration": 3,
    "start_time": "2022-11-21T09:27:03.250Z"
   },
   {
    "duration": 80,
    "start_time": "2022-11-21T09:27:03.254Z"
   },
   {
    "duration": 16,
    "start_time": "2022-11-21T09:27:03.335Z"
   },
   {
    "duration": 16,
    "start_time": "2022-11-21T09:27:03.353Z"
   },
   {
    "duration": 9,
    "start_time": "2022-11-21T09:27:03.371Z"
   },
   {
    "duration": 63,
    "start_time": "2022-11-21T09:27:03.383Z"
   },
   {
    "duration": 4,
    "start_time": "2022-11-21T09:27:03.448Z"
   },
   {
    "duration": 12,
    "start_time": "2022-11-21T09:27:03.454Z"
   },
   {
    "duration": 7,
    "start_time": "2022-11-21T09:27:03.468Z"
   },
   {
    "duration": 10,
    "start_time": "2022-11-21T09:27:03.477Z"
   },
   {
    "duration": 28,
    "start_time": "2022-11-21T09:27:03.488Z"
   },
   {
    "duration": 46,
    "start_time": "2022-11-21T09:27:03.519Z"
   },
   {
    "duration": 7,
    "start_time": "2022-11-21T09:27:03.568Z"
   },
   {
    "duration": 8,
    "start_time": "2022-11-21T09:27:03.577Z"
   },
   {
    "duration": 29,
    "start_time": "2022-11-21T09:27:03.586Z"
   },
   {
    "duration": 21,
    "start_time": "2022-11-21T09:27:03.617Z"
   },
   {
    "duration": 35,
    "start_time": "2022-11-21T09:27:03.640Z"
   },
   {
    "duration": 4,
    "start_time": "2022-11-21T09:27:03.678Z"
   },
   {
    "duration": 443,
    "start_time": "2022-11-21T09:27:03.713Z"
   },
   {
    "duration": 0,
    "start_time": "2022-11-21T09:27:04.158Z"
   },
   {
    "duration": 0,
    "start_time": "2022-11-21T09:27:04.160Z"
   },
   {
    "duration": 0,
    "start_time": "2022-11-21T09:27:04.161Z"
   },
   {
    "duration": 626,
    "start_time": "2022-11-21T09:27:15.281Z"
   },
   {
    "duration": 3,
    "start_time": "2022-11-21T09:30:21.081Z"
   },
   {
    "duration": 10,
    "start_time": "2022-11-21T09:33:28.896Z"
   },
   {
    "duration": 9,
    "start_time": "2022-11-21T09:34:15.902Z"
   },
   {
    "duration": 4,
    "start_time": "2022-11-21T09:36:16.470Z"
   },
   {
    "duration": 9,
    "start_time": "2022-11-21T09:36:17.521Z"
   },
   {
    "duration": 19,
    "start_time": "2022-11-21T09:39:34.548Z"
   },
   {
    "duration": 17,
    "start_time": "2022-11-21T09:39:51.509Z"
   },
   {
    "duration": 18,
    "start_time": "2022-11-21T09:40:25.243Z"
   },
   {
    "duration": 19,
    "start_time": "2022-11-21T09:40:44.282Z"
   },
   {
    "duration": 16,
    "start_time": "2022-11-21T09:41:03.707Z"
   },
   {
    "duration": 2,
    "start_time": "2022-11-21T09:41:56.562Z"
   },
   {
    "duration": 82,
    "start_time": "2022-11-21T09:41:56.566Z"
   },
   {
    "duration": 17,
    "start_time": "2022-11-21T09:41:56.650Z"
   },
   {
    "duration": 17,
    "start_time": "2022-11-21T09:41:56.669Z"
   },
   {
    "duration": 27,
    "start_time": "2022-11-21T09:41:56.688Z"
   },
   {
    "duration": 35,
    "start_time": "2022-11-21T09:41:56.717Z"
   },
   {
    "duration": 3,
    "start_time": "2022-11-21T09:41:56.754Z"
   },
   {
    "duration": 12,
    "start_time": "2022-11-21T09:41:56.759Z"
   },
   {
    "duration": 12,
    "start_time": "2022-11-21T09:41:56.772Z"
   },
   {
    "duration": 10,
    "start_time": "2022-11-21T09:41:56.786Z"
   },
   {
    "duration": 5,
    "start_time": "2022-11-21T09:41:56.811Z"
   },
   {
    "duration": 38,
    "start_time": "2022-11-21T09:41:56.817Z"
   },
   {
    "duration": 7,
    "start_time": "2022-11-21T09:41:56.857Z"
   },
   {
    "duration": 5,
    "start_time": "2022-11-21T09:41:56.865Z"
   },
   {
    "duration": 17,
    "start_time": "2022-11-21T09:41:56.871Z"
   },
   {
    "duration": 19,
    "start_time": "2022-11-21T09:41:56.912Z"
   },
   {
    "duration": 33,
    "start_time": "2022-11-21T09:41:56.933Z"
   },
   {
    "duration": 4,
    "start_time": "2022-11-21T09:41:56.967Z"
   },
   {
    "duration": 42,
    "start_time": "2022-11-21T09:41:56.972Z"
   },
   {
    "duration": 5,
    "start_time": "2022-11-21T09:41:57.016Z"
   },
   {
    "duration": 5,
    "start_time": "2022-11-21T09:41:57.023Z"
   },
   {
    "duration": 8,
    "start_time": "2022-11-21T09:41:57.030Z"
   },
   {
    "duration": 3,
    "start_time": "2022-11-21T09:43:15.121Z"
   },
   {
    "duration": 16,
    "start_time": "2022-11-21T09:43:17.662Z"
   },
   {
    "duration": 9,
    "start_time": "2022-11-21T09:43:22.341Z"
   },
   {
    "duration": 46,
    "start_time": "2022-11-21T11:41:56.179Z"
   },
   {
    "duration": 404,
    "start_time": "2022-11-21T11:42:12.677Z"
   },
   {
    "duration": 701,
    "start_time": "2022-11-21T11:42:13.083Z"
   },
   {
    "duration": 23,
    "start_time": "2022-11-21T11:42:13.786Z"
   },
   {
    "duration": 17,
    "start_time": "2022-11-21T11:42:13.811Z"
   },
   {
    "duration": 10,
    "start_time": "2022-11-21T11:42:13.829Z"
   },
   {
    "duration": 41,
    "start_time": "2022-11-21T11:42:13.841Z"
   },
   {
    "duration": 3,
    "start_time": "2022-11-21T11:42:13.883Z"
   },
   {
    "duration": 10,
    "start_time": "2022-11-21T11:42:13.888Z"
   },
   {
    "duration": 4,
    "start_time": "2022-11-21T11:42:13.899Z"
   },
   {
    "duration": 9,
    "start_time": "2022-11-21T11:42:13.905Z"
   },
   {
    "duration": 5,
    "start_time": "2022-11-21T11:42:13.915Z"
   },
   {
    "duration": 66,
    "start_time": "2022-11-21T11:42:13.921Z"
   },
   {
    "duration": 6,
    "start_time": "2022-11-21T11:42:13.988Z"
   },
   {
    "duration": 6,
    "start_time": "2022-11-21T11:42:13.996Z"
   },
   {
    "duration": 14,
    "start_time": "2022-11-21T11:42:14.003Z"
   },
   {
    "duration": 40,
    "start_time": "2022-11-21T11:42:14.018Z"
   },
   {
    "duration": 31,
    "start_time": "2022-11-21T11:42:14.060Z"
   },
   {
    "duration": 4,
    "start_time": "2022-11-21T11:42:14.092Z"
   },
   {
    "duration": 13,
    "start_time": "2022-11-21T11:42:14.097Z"
   },
   {
    "duration": 11,
    "start_time": "2022-11-21T11:42:14.111Z"
   },
   {
    "duration": 3,
    "start_time": "2022-11-21T11:42:14.124Z"
   },
   {
    "duration": 26,
    "start_time": "2022-11-21T11:42:14.129Z"
   },
   {
    "duration": 58,
    "start_time": "2022-11-21T11:52:24.966Z"
   },
   {
    "duration": 4,
    "start_time": "2022-11-21T11:52:29.933Z"
   },
   {
    "duration": 10,
    "start_time": "2022-11-21T11:53:47.359Z"
   },
   {
    "duration": 19,
    "start_time": "2022-11-21T11:54:05.978Z"
   },
   {
    "duration": 10,
    "start_time": "2022-11-21T11:54:32.429Z"
   },
   {
    "duration": 387,
    "start_time": "2022-12-05T19:54:56.820Z"
   },
   {
    "duration": 562,
    "start_time": "2022-12-05T19:54:57.209Z"
   },
   {
    "duration": 22,
    "start_time": "2022-12-05T19:54:57.773Z"
   },
   {
    "duration": 17,
    "start_time": "2022-12-05T19:54:57.797Z"
   },
   {
    "duration": 10,
    "start_time": "2022-12-05T19:54:57.816Z"
   },
   {
    "duration": 42,
    "start_time": "2022-12-05T19:54:57.827Z"
   },
   {
    "duration": 3,
    "start_time": "2022-12-05T19:54:57.871Z"
   },
   {
    "duration": 15,
    "start_time": "2022-12-05T19:54:57.876Z"
   },
   {
    "duration": 5,
    "start_time": "2022-12-05T19:54:57.893Z"
   },
   {
    "duration": 22,
    "start_time": "2022-12-05T19:54:57.900Z"
   },
   {
    "duration": 6,
    "start_time": "2022-12-05T19:54:57.924Z"
   },
   {
    "duration": 56,
    "start_time": "2022-12-05T19:54:57.932Z"
   },
   {
    "duration": 7,
    "start_time": "2022-12-05T19:54:57.990Z"
   },
   {
    "duration": 7,
    "start_time": "2022-12-05T19:54:57.999Z"
   },
   {
    "duration": 22,
    "start_time": "2022-12-05T19:54:58.008Z"
   },
   {
    "duration": 28,
    "start_time": "2022-12-05T19:54:58.032Z"
   },
   {
    "duration": 33,
    "start_time": "2022-12-05T19:54:58.062Z"
   },
   {
    "duration": 4,
    "start_time": "2022-12-05T19:54:58.097Z"
   },
   {
    "duration": 13,
    "start_time": "2022-12-05T19:54:58.103Z"
   },
   {
    "duration": 8,
    "start_time": "2022-12-05T19:54:58.117Z"
   },
   {
    "duration": 29,
    "start_time": "2022-12-05T19:54:58.127Z"
   },
   {
    "duration": 14,
    "start_time": "2022-12-05T19:54:58.158Z"
   },
   {
    "duration": 8,
    "start_time": "2022-12-05T20:15:27.887Z"
   },
   {
    "duration": 7,
    "start_time": "2022-12-05T20:21:30.028Z"
   },
   {
    "duration": 6,
    "start_time": "2022-12-05T20:25:06.206Z"
   },
   {
    "duration": 6,
    "start_time": "2022-12-05T20:25:30.931Z"
   }
  ],
  "colab": {
   "provenance": []
  },
  "kernelspec": {
   "display_name": "Python 3 (ipykernel)",
   "language": "python",
   "name": "python3"
  },
  "language_info": {
   "codemirror_mode": {
    "name": "ipython",
    "version": 3
   },
   "file_extension": ".py",
   "mimetype": "text/x-python",
   "name": "python",
   "nbconvert_exporter": "python",
   "pygments_lexer": "ipython3",
   "version": "3.9.5"
  },
  "toc": {
   "base_numbering": 1,
   "nav_menu": {},
   "number_sections": true,
   "sideBar": true,
   "skip_h1_title": true,
   "title_cell": "Table of Contents",
   "title_sidebar": "Contents",
   "toc_cell": false,
   "toc_position": {},
   "toc_section_display": true,
   "toc_window_display": false
  }
 },
 "nbformat": 4,
 "nbformat_minor": 5
}
