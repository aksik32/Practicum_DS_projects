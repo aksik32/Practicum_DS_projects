{
 "cells": [
  {
   "cell_type": "markdown",
   "id": "af892418",
   "metadata": {
    "deletable": false,
    "editable": false,
    "id": "c81daeeb"
   },
   "source": [
    "# Исследование надежности заемщиков\n"
   ]
  },
  {
   "cell_type": "markdown",
   "id": "8dfb7eca",
   "metadata": {
    "deletable": false,
    "editable": false,
    "id": "827c20bf"
   },
   "source": [
    "Во второй части проекта вы выполните шаги 3 и 4. Их вручную проверит ревьюер.\n",
    "Чтобы вам не пришлось писать код заново для шагов 1 и 2, мы добавили авторские решения в ячейки с кодом. \n",
    "\n"
   ]
  },
  {
   "cell_type": "markdown",
   "id": "3c276826",
   "metadata": {
    "deletable": false,
    "editable": false,
    "id": "744d7639"
   },
   "source": [
    "## Откройте таблицу и изучите общую информацию о данных"
   ]
  },
  {
   "cell_type": "markdown",
   "id": "69c03d67",
   "metadata": {
    "deletable": false,
    "editable": false,
    "id": "e7a14c31"
   },
   "source": [
    "**Задание 1. Импортируйте библиотеку pandas. Считайте данные из csv-файла в датафрейм и сохраните в переменную `data`. Путь к файлу:**\n",
    "\n",
    "`/datasets/data.csv`"
   ]
  },
  {
   "cell_type": "code",
   "execution_count": 1,
   "id": "cc36787d",
   "metadata": {
    "deletable": false,
    "id": "7bcf75c9"
   },
   "outputs": [],
   "source": [
    "import pandas as pd\n",
    "\n",
    "try:\n",
    "    data = pd.read_csv('/datasets/data.csv')\n",
    "except:\n",
    "    data = pd.read_csv('https://code.s3.yandex.net/datasets/data.csv')"
   ]
  },
  {
   "cell_type": "markdown",
   "id": "bc1739d4",
   "metadata": {
    "deletable": false,
    "editable": false,
    "id": "b8038fe3"
   },
   "source": [
    "**Задание 2. Выведите первые 20 строчек датафрейма `data` на экран.**"
   ]
  },
  {
   "cell_type": "code",
   "execution_count": 2,
   "id": "a3c656a2",
   "metadata": {
    "deletable": false,
    "id": "2a7cab99",
    "outputId": "1a8f3ef2-d323-4ec2-ddf7-89670b5944c4"
   },
   "outputs": [
    {
     "data": {
      "text/html": [
       "<div>\n",
       "<style scoped>\n",
       "    .dataframe tbody tr th:only-of-type {\n",
       "        vertical-align: middle;\n",
       "    }\n",
       "\n",
       "    .dataframe tbody tr th {\n",
       "        vertical-align: top;\n",
       "    }\n",
       "\n",
       "    .dataframe thead th {\n",
       "        text-align: right;\n",
       "    }\n",
       "</style>\n",
       "<table border=\"1\" class=\"dataframe\">\n",
       "  <thead>\n",
       "    <tr style=\"text-align: right;\">\n",
       "      <th></th>\n",
       "      <th>children</th>\n",
       "      <th>days_employed</th>\n",
       "      <th>dob_years</th>\n",
       "      <th>education</th>\n",
       "      <th>education_id</th>\n",
       "      <th>family_status</th>\n",
       "      <th>family_status_id</th>\n",
       "      <th>gender</th>\n",
       "      <th>income_type</th>\n",
       "      <th>debt</th>\n",
       "      <th>total_income</th>\n",
       "      <th>purpose</th>\n",
       "    </tr>\n",
       "  </thead>\n",
       "  <tbody>\n",
       "    <tr>\n",
       "      <th>0</th>\n",
       "      <td>1</td>\n",
       "      <td>-8437.673028</td>\n",
       "      <td>42</td>\n",
       "      <td>высшее</td>\n",
       "      <td>0</td>\n",
       "      <td>женат / замужем</td>\n",
       "      <td>0</td>\n",
       "      <td>F</td>\n",
       "      <td>сотрудник</td>\n",
       "      <td>0</td>\n",
       "      <td>253875.639453</td>\n",
       "      <td>покупка жилья</td>\n",
       "    </tr>\n",
       "    <tr>\n",
       "      <th>1</th>\n",
       "      <td>1</td>\n",
       "      <td>-4024.803754</td>\n",
       "      <td>36</td>\n",
       "      <td>среднее</td>\n",
       "      <td>1</td>\n",
       "      <td>женат / замужем</td>\n",
       "      <td>0</td>\n",
       "      <td>F</td>\n",
       "      <td>сотрудник</td>\n",
       "      <td>0</td>\n",
       "      <td>112080.014102</td>\n",
       "      <td>приобретение автомобиля</td>\n",
       "    </tr>\n",
       "    <tr>\n",
       "      <th>2</th>\n",
       "      <td>0</td>\n",
       "      <td>-5623.422610</td>\n",
       "      <td>33</td>\n",
       "      <td>Среднее</td>\n",
       "      <td>1</td>\n",
       "      <td>женат / замужем</td>\n",
       "      <td>0</td>\n",
       "      <td>M</td>\n",
       "      <td>сотрудник</td>\n",
       "      <td>0</td>\n",
       "      <td>145885.952297</td>\n",
       "      <td>покупка жилья</td>\n",
       "    </tr>\n",
       "    <tr>\n",
       "      <th>3</th>\n",
       "      <td>3</td>\n",
       "      <td>-4124.747207</td>\n",
       "      <td>32</td>\n",
       "      <td>среднее</td>\n",
       "      <td>1</td>\n",
       "      <td>женат / замужем</td>\n",
       "      <td>0</td>\n",
       "      <td>M</td>\n",
       "      <td>сотрудник</td>\n",
       "      <td>0</td>\n",
       "      <td>267628.550329</td>\n",
       "      <td>дополнительное образование</td>\n",
       "    </tr>\n",
       "    <tr>\n",
       "      <th>4</th>\n",
       "      <td>0</td>\n",
       "      <td>340266.072047</td>\n",
       "      <td>53</td>\n",
       "      <td>среднее</td>\n",
       "      <td>1</td>\n",
       "      <td>гражданский брак</td>\n",
       "      <td>1</td>\n",
       "      <td>F</td>\n",
       "      <td>пенсионер</td>\n",
       "      <td>0</td>\n",
       "      <td>158616.077870</td>\n",
       "      <td>сыграть свадьбу</td>\n",
       "    </tr>\n",
       "    <tr>\n",
       "      <th>5</th>\n",
       "      <td>0</td>\n",
       "      <td>-926.185831</td>\n",
       "      <td>27</td>\n",
       "      <td>высшее</td>\n",
       "      <td>0</td>\n",
       "      <td>гражданский брак</td>\n",
       "      <td>1</td>\n",
       "      <td>M</td>\n",
       "      <td>компаньон</td>\n",
       "      <td>0</td>\n",
       "      <td>255763.565419</td>\n",
       "      <td>покупка жилья</td>\n",
       "    </tr>\n",
       "    <tr>\n",
       "      <th>6</th>\n",
       "      <td>0</td>\n",
       "      <td>-2879.202052</td>\n",
       "      <td>43</td>\n",
       "      <td>высшее</td>\n",
       "      <td>0</td>\n",
       "      <td>женат / замужем</td>\n",
       "      <td>0</td>\n",
       "      <td>F</td>\n",
       "      <td>компаньон</td>\n",
       "      <td>0</td>\n",
       "      <td>240525.971920</td>\n",
       "      <td>операции с жильем</td>\n",
       "    </tr>\n",
       "    <tr>\n",
       "      <th>7</th>\n",
       "      <td>0</td>\n",
       "      <td>-152.779569</td>\n",
       "      <td>50</td>\n",
       "      <td>СРЕДНЕЕ</td>\n",
       "      <td>1</td>\n",
       "      <td>женат / замужем</td>\n",
       "      <td>0</td>\n",
       "      <td>M</td>\n",
       "      <td>сотрудник</td>\n",
       "      <td>0</td>\n",
       "      <td>135823.934197</td>\n",
       "      <td>образование</td>\n",
       "    </tr>\n",
       "    <tr>\n",
       "      <th>8</th>\n",
       "      <td>2</td>\n",
       "      <td>-6929.865299</td>\n",
       "      <td>35</td>\n",
       "      <td>ВЫСШЕЕ</td>\n",
       "      <td>0</td>\n",
       "      <td>гражданский брак</td>\n",
       "      <td>1</td>\n",
       "      <td>F</td>\n",
       "      <td>сотрудник</td>\n",
       "      <td>0</td>\n",
       "      <td>95856.832424</td>\n",
       "      <td>на проведение свадьбы</td>\n",
       "    </tr>\n",
       "    <tr>\n",
       "      <th>9</th>\n",
       "      <td>0</td>\n",
       "      <td>-2188.756445</td>\n",
       "      <td>41</td>\n",
       "      <td>среднее</td>\n",
       "      <td>1</td>\n",
       "      <td>женат / замужем</td>\n",
       "      <td>0</td>\n",
       "      <td>M</td>\n",
       "      <td>сотрудник</td>\n",
       "      <td>0</td>\n",
       "      <td>144425.938277</td>\n",
       "      <td>покупка жилья для семьи</td>\n",
       "    </tr>\n",
       "    <tr>\n",
       "      <th>10</th>\n",
       "      <td>2</td>\n",
       "      <td>-4171.483647</td>\n",
       "      <td>36</td>\n",
       "      <td>высшее</td>\n",
       "      <td>0</td>\n",
       "      <td>женат / замужем</td>\n",
       "      <td>0</td>\n",
       "      <td>M</td>\n",
       "      <td>компаньон</td>\n",
       "      <td>0</td>\n",
       "      <td>113943.491460</td>\n",
       "      <td>покупка недвижимости</td>\n",
       "    </tr>\n",
       "    <tr>\n",
       "      <th>11</th>\n",
       "      <td>0</td>\n",
       "      <td>-792.701887</td>\n",
       "      <td>40</td>\n",
       "      <td>среднее</td>\n",
       "      <td>1</td>\n",
       "      <td>женат / замужем</td>\n",
       "      <td>0</td>\n",
       "      <td>F</td>\n",
       "      <td>сотрудник</td>\n",
       "      <td>0</td>\n",
       "      <td>77069.234271</td>\n",
       "      <td>покупка коммерческой недвижимости</td>\n",
       "    </tr>\n",
       "    <tr>\n",
       "      <th>12</th>\n",
       "      <td>0</td>\n",
       "      <td>NaN</td>\n",
       "      <td>65</td>\n",
       "      <td>среднее</td>\n",
       "      <td>1</td>\n",
       "      <td>гражданский брак</td>\n",
       "      <td>1</td>\n",
       "      <td>M</td>\n",
       "      <td>пенсионер</td>\n",
       "      <td>0</td>\n",
       "      <td>NaN</td>\n",
       "      <td>сыграть свадьбу</td>\n",
       "    </tr>\n",
       "    <tr>\n",
       "      <th>13</th>\n",
       "      <td>0</td>\n",
       "      <td>-1846.641941</td>\n",
       "      <td>54</td>\n",
       "      <td>неоконченное высшее</td>\n",
       "      <td>2</td>\n",
       "      <td>женат / замужем</td>\n",
       "      <td>0</td>\n",
       "      <td>F</td>\n",
       "      <td>сотрудник</td>\n",
       "      <td>0</td>\n",
       "      <td>130458.228857</td>\n",
       "      <td>приобретение автомобиля</td>\n",
       "    </tr>\n",
       "    <tr>\n",
       "      <th>14</th>\n",
       "      <td>0</td>\n",
       "      <td>-1844.956182</td>\n",
       "      <td>56</td>\n",
       "      <td>высшее</td>\n",
       "      <td>0</td>\n",
       "      <td>гражданский брак</td>\n",
       "      <td>1</td>\n",
       "      <td>F</td>\n",
       "      <td>компаньон</td>\n",
       "      <td>1</td>\n",
       "      <td>165127.911772</td>\n",
       "      <td>покупка жилой недвижимости</td>\n",
       "    </tr>\n",
       "    <tr>\n",
       "      <th>15</th>\n",
       "      <td>1</td>\n",
       "      <td>-972.364419</td>\n",
       "      <td>26</td>\n",
       "      <td>среднее</td>\n",
       "      <td>1</td>\n",
       "      <td>женат / замужем</td>\n",
       "      <td>0</td>\n",
       "      <td>F</td>\n",
       "      <td>сотрудник</td>\n",
       "      <td>0</td>\n",
       "      <td>116820.904450</td>\n",
       "      <td>строительство собственной недвижимости</td>\n",
       "    </tr>\n",
       "    <tr>\n",
       "      <th>16</th>\n",
       "      <td>0</td>\n",
       "      <td>-1719.934226</td>\n",
       "      <td>35</td>\n",
       "      <td>среднее</td>\n",
       "      <td>1</td>\n",
       "      <td>женат / замужем</td>\n",
       "      <td>0</td>\n",
       "      <td>F</td>\n",
       "      <td>сотрудник</td>\n",
       "      <td>0</td>\n",
       "      <td>289202.704229</td>\n",
       "      <td>недвижимость</td>\n",
       "    </tr>\n",
       "    <tr>\n",
       "      <th>17</th>\n",
       "      <td>0</td>\n",
       "      <td>-2369.999720</td>\n",
       "      <td>33</td>\n",
       "      <td>высшее</td>\n",
       "      <td>0</td>\n",
       "      <td>гражданский брак</td>\n",
       "      <td>1</td>\n",
       "      <td>M</td>\n",
       "      <td>сотрудник</td>\n",
       "      <td>0</td>\n",
       "      <td>90410.586745</td>\n",
       "      <td>строительство недвижимости</td>\n",
       "    </tr>\n",
       "    <tr>\n",
       "      <th>18</th>\n",
       "      <td>0</td>\n",
       "      <td>400281.136913</td>\n",
       "      <td>53</td>\n",
       "      <td>среднее</td>\n",
       "      <td>1</td>\n",
       "      <td>вдовец / вдова</td>\n",
       "      <td>2</td>\n",
       "      <td>F</td>\n",
       "      <td>пенсионер</td>\n",
       "      <td>0</td>\n",
       "      <td>56823.777243</td>\n",
       "      <td>на покупку подержанного автомобиля</td>\n",
       "    </tr>\n",
       "    <tr>\n",
       "      <th>19</th>\n",
       "      <td>0</td>\n",
       "      <td>-10038.818549</td>\n",
       "      <td>48</td>\n",
       "      <td>СРЕДНЕЕ</td>\n",
       "      <td>1</td>\n",
       "      <td>в разводе</td>\n",
       "      <td>3</td>\n",
       "      <td>F</td>\n",
       "      <td>сотрудник</td>\n",
       "      <td>0</td>\n",
       "      <td>242831.107982</td>\n",
       "      <td>на покупку своего автомобиля</td>\n",
       "    </tr>\n",
       "  </tbody>\n",
       "</table>\n",
       "</div>"
      ],
      "text/plain": [
       "    children  days_employed  dob_years            education  education_id  \\\n",
       "0          1   -8437.673028         42               высшее             0   \n",
       "1          1   -4024.803754         36              среднее             1   \n",
       "2          0   -5623.422610         33              Среднее             1   \n",
       "3          3   -4124.747207         32              среднее             1   \n",
       "4          0  340266.072047         53              среднее             1   \n",
       "5          0    -926.185831         27               высшее             0   \n",
       "6          0   -2879.202052         43               высшее             0   \n",
       "7          0    -152.779569         50              СРЕДНЕЕ             1   \n",
       "8          2   -6929.865299         35               ВЫСШЕЕ             0   \n",
       "9          0   -2188.756445         41              среднее             1   \n",
       "10         2   -4171.483647         36               высшее             0   \n",
       "11         0    -792.701887         40              среднее             1   \n",
       "12         0            NaN         65              среднее             1   \n",
       "13         0   -1846.641941         54  неоконченное высшее             2   \n",
       "14         0   -1844.956182         56               высшее             0   \n",
       "15         1    -972.364419         26              среднее             1   \n",
       "16         0   -1719.934226         35              среднее             1   \n",
       "17         0   -2369.999720         33               высшее             0   \n",
       "18         0  400281.136913         53              среднее             1   \n",
       "19         0  -10038.818549         48              СРЕДНЕЕ             1   \n",
       "\n",
       "       family_status  family_status_id gender income_type  debt  \\\n",
       "0    женат / замужем                 0      F   сотрудник     0   \n",
       "1    женат / замужем                 0      F   сотрудник     0   \n",
       "2    женат / замужем                 0      M   сотрудник     0   \n",
       "3    женат / замужем                 0      M   сотрудник     0   \n",
       "4   гражданский брак                 1      F   пенсионер     0   \n",
       "5   гражданский брак                 1      M   компаньон     0   \n",
       "6    женат / замужем                 0      F   компаньон     0   \n",
       "7    женат / замужем                 0      M   сотрудник     0   \n",
       "8   гражданский брак                 1      F   сотрудник     0   \n",
       "9    женат / замужем                 0      M   сотрудник     0   \n",
       "10   женат / замужем                 0      M   компаньон     0   \n",
       "11   женат / замужем                 0      F   сотрудник     0   \n",
       "12  гражданский брак                 1      M   пенсионер     0   \n",
       "13   женат / замужем                 0      F   сотрудник     0   \n",
       "14  гражданский брак                 1      F   компаньон     1   \n",
       "15   женат / замужем                 0      F   сотрудник     0   \n",
       "16   женат / замужем                 0      F   сотрудник     0   \n",
       "17  гражданский брак                 1      M   сотрудник     0   \n",
       "18    вдовец / вдова                 2      F   пенсионер     0   \n",
       "19         в разводе                 3      F   сотрудник     0   \n",
       "\n",
       "     total_income                                 purpose  \n",
       "0   253875.639453                           покупка жилья  \n",
       "1   112080.014102                 приобретение автомобиля  \n",
       "2   145885.952297                           покупка жилья  \n",
       "3   267628.550329              дополнительное образование  \n",
       "4   158616.077870                         сыграть свадьбу  \n",
       "5   255763.565419                           покупка жилья  \n",
       "6   240525.971920                       операции с жильем  \n",
       "7   135823.934197                             образование  \n",
       "8    95856.832424                   на проведение свадьбы  \n",
       "9   144425.938277                 покупка жилья для семьи  \n",
       "10  113943.491460                    покупка недвижимости  \n",
       "11   77069.234271       покупка коммерческой недвижимости  \n",
       "12            NaN                         сыграть свадьбу  \n",
       "13  130458.228857                 приобретение автомобиля  \n",
       "14  165127.911772              покупка жилой недвижимости  \n",
       "15  116820.904450  строительство собственной недвижимости  \n",
       "16  289202.704229                            недвижимость  \n",
       "17   90410.586745              строительство недвижимости  \n",
       "18   56823.777243      на покупку подержанного автомобиля  \n",
       "19  242831.107982            на покупку своего автомобиля  "
      ]
     },
     "execution_count": 2,
     "metadata": {},
     "output_type": "execute_result"
    }
   ],
   "source": [
    "data.head(20)"
   ]
  },
  {
   "cell_type": "code",
   "execution_count": 3,
   "id": "5fdee8f2",
   "metadata": {
    "scrolled": true
   },
   "outputs": [
    {
     "data": {
      "text/plain": [
       "21525"
      ]
     },
     "execution_count": 3,
     "metadata": {},
     "output_type": "execute_result"
    }
   ],
   "source": [
    "len(data['days_employed'])"
   ]
  },
  {
   "cell_type": "code",
   "execution_count": 4,
   "id": "8a84bdd0",
   "metadata": {},
   "outputs": [],
   "source": [
    "data1 = data[(data['days_employed'].isna())].head(30)"
   ]
  },
  {
   "cell_type": "markdown",
   "id": "c94073c2",
   "metadata": {
    "deletable": false,
    "editable": false,
    "id": "1c12e233"
   },
   "source": [
    "**Задание 3. Выведите основную информацию о датафрейме с помощью метода `info()`.**"
   ]
  },
  {
   "cell_type": "code",
   "execution_count": 5,
   "id": "ce2ec5e0",
   "metadata": {
    "deletable": false,
    "id": "2b757bca",
    "outputId": "15376089-8dad-46c9-b520-c05248d43158"
   },
   "outputs": [
    {
     "name": "stdout",
     "output_type": "stream",
     "text": [
      "<class 'pandas.core.frame.DataFrame'>\n",
      "RangeIndex: 21525 entries, 0 to 21524\n",
      "Data columns (total 12 columns):\n",
      " #   Column            Non-Null Count  Dtype  \n",
      "---  ------            --------------  -----  \n",
      " 0   children          21525 non-null  int64  \n",
      " 1   days_employed     19351 non-null  float64\n",
      " 2   dob_years         21525 non-null  int64  \n",
      " 3   education         21525 non-null  object \n",
      " 4   education_id      21525 non-null  int64  \n",
      " 5   family_status     21525 non-null  object \n",
      " 6   family_status_id  21525 non-null  int64  \n",
      " 7   gender            21525 non-null  object \n",
      " 8   income_type       21525 non-null  object \n",
      " 9   debt              21525 non-null  int64  \n",
      " 10  total_income      19351 non-null  float64\n",
      " 11  purpose           21525 non-null  object \n",
      "dtypes: float64(2), int64(5), object(5)\n",
      "memory usage: 2.0+ MB\n"
     ]
    }
   ],
   "source": [
    "data.info()"
   ]
  },
  {
   "cell_type": "markdown",
   "id": "99625747",
   "metadata": {
    "deletable": false,
    "editable": false,
    "id": "333ec665"
   },
   "source": [
    "## Предобработка данных"
   ]
  },
  {
   "cell_type": "markdown",
   "id": "29edbfc4",
   "metadata": {
    "deletable": false,
    "editable": false,
    "id": "02d92d53"
   },
   "source": [
    "### Удаление пропусков"
   ]
  },
  {
   "cell_type": "markdown",
   "id": "6726f892",
   "metadata": {
    "deletable": false,
    "editable": false,
    "id": "cd84967c"
   },
   "source": [
    "**Задание 4. Выведите количество пропущенных значений для каждого столбца. Используйте комбинацию двух методов.**"
   ]
  },
  {
   "cell_type": "code",
   "execution_count": 6,
   "id": "e99b7353",
   "metadata": {
    "deletable": false,
    "id": "7f9b2309",
    "outputId": "81f4d817-781c-465c-ed15-91ce4446810d"
   },
   "outputs": [
    {
     "data": {
      "text/plain": [
       "children               0\n",
       "days_employed       2174\n",
       "dob_years              0\n",
       "education              0\n",
       "education_id           0\n",
       "family_status          0\n",
       "family_status_id       0\n",
       "gender                 0\n",
       "income_type            0\n",
       "debt                   0\n",
       "total_income        2174\n",
       "purpose                0\n",
       "dtype: int64"
      ]
     },
     "execution_count": 6,
     "metadata": {},
     "output_type": "execute_result"
    }
   ],
   "source": [
    "data.isna().sum()"
   ]
  },
  {
   "cell_type": "markdown",
   "id": "4c1f586d",
   "metadata": {
    "deletable": false,
    "editable": false,
    "id": "db86e27b"
   },
   "source": [
    "**Задание 5. В двух столбцах есть пропущенные значения. Один из них — `days_employed`. Пропуски в этом столбце вы обработаете на следующем этапе. Другой столбец с пропущенными значениями — `total_income` — хранит данные о доходах. На сумму дохода сильнее всего влияет тип занятости, поэтому заполнить пропуски в этом столбце нужно медианным значением по каждому типу из столбца `income_type`. Например, у человека с типом занятости `сотрудник` пропуск в столбце `total_income` должен быть заполнен медианным доходом среди всех записей с тем же типом.**"
   ]
  },
  {
   "cell_type": "code",
   "execution_count": 7,
   "id": "e46081b9",
   "metadata": {
    "deletable": false,
    "id": "42006a93"
   },
   "outputs": [],
   "source": [
    "for t in data['income_type'].unique():\n",
    "    data.loc[(data['income_type'] == t) & (data['total_income'].isna()), 'total_income'] = \\\n",
    "    data.loc[(data['income_type'] == t), 'total_income'].median()"
   ]
  },
  {
   "cell_type": "markdown",
   "id": "de69c4a4",
   "metadata": {
    "deletable": false,
    "editable": false,
    "id": "89da5ece"
   },
   "source": [
    "### Обработка аномальных значений"
   ]
  },
  {
   "cell_type": "markdown",
   "id": "4db01315",
   "metadata": {
    "deletable": false,
    "editable": false,
    "id": "57964554"
   },
   "source": [
    "**Задание 6. В данных могут встречаться артефакты (аномалии) — значения, которые не отражают действительность и появились по какой-то ошибке. таким артефактом будет отрицательное количество дней трудового стажа в столбце `days_employed`. Для реальных данных это нормально. Обработайте значения в этом столбце: замените все отрицательные значения положительными с помощью метода `abs()`.**"
   ]
  },
  {
   "cell_type": "code",
   "execution_count": 8,
   "id": "fc14c732",
   "metadata": {
    "deletable": false,
    "id": "f6f055bf"
   },
   "outputs": [],
   "source": [
    "data['days_employed'] = data['days_employed'].abs()"
   ]
  },
  {
   "cell_type": "markdown",
   "id": "a156aa86",
   "metadata": {
    "deletable": false,
    "editable": false,
    "id": "6107dd2f"
   },
   "source": [
    "**Задание 7. Для каждого типа занятости выведите медианное значение трудового стажа `days_employed` в днях.**"
   ]
  },
  {
   "cell_type": "code",
   "execution_count": 9,
   "id": "9022079c",
   "metadata": {
    "deletable": false,
    "id": "85a5faf6",
    "outputId": "801ef80e-522b-4668-f34e-565af7432bcf"
   },
   "outputs": [
    {
     "data": {
      "text/plain": [
       "income_type\n",
       "безработный        366413.652744\n",
       "в декрете            3296.759962\n",
       "госслужащий          2689.368353\n",
       "компаньон            1547.382223\n",
       "пенсионер          365213.306266\n",
       "предприниматель       520.848083\n",
       "сотрудник            1574.202821\n",
       "студент               578.751554\n",
       "Name: days_employed, dtype: float64"
      ]
     },
     "execution_count": 9,
     "metadata": {},
     "output_type": "execute_result"
    }
   ],
   "source": [
    "data.groupby('income_type')['days_employed'].agg('median')"
   ]
  },
  {
   "cell_type": "markdown",
   "id": "0f18219a",
   "metadata": {
    "deletable": false,
    "editable": false,
    "id": "38d1a030"
   },
   "source": [
    "У двух типов (безработные и пенсионеры) получатся аномально большие значения. Исправить такие значения сложно, поэтому оставьте их как есть. Тем более этот столбец не понадобится вам для исследования."
   ]
  },
  {
   "cell_type": "markdown",
   "id": "7d4bb062",
   "metadata": {
    "deletable": false,
    "editable": false,
    "id": "d8a9f147"
   },
   "source": [
    "**Задание 8. Выведите перечень уникальных значений столбца `children`.**"
   ]
  },
  {
   "cell_type": "code",
   "execution_count": 10,
   "id": "9ca7be6f",
   "metadata": {
    "deletable": false,
    "id": "ef5056eb",
    "outputId": "6975b15c-7f95-4697-d16d-a0c79b657b03"
   },
   "outputs": [
    {
     "data": {
      "text/plain": [
       "array([ 1,  0,  3,  2, -1,  4, 20,  5])"
      ]
     },
     "execution_count": 10,
     "metadata": {},
     "output_type": "execute_result"
    }
   ],
   "source": [
    "data['children'].unique()"
   ]
  },
  {
   "cell_type": "markdown",
   "id": "64c250d5",
   "metadata": {
    "deletable": false,
    "editable": false,
    "id": "40b9ebf2"
   },
   "source": [
    "**Задание 9. В столбце `children` есть два аномальных значения. Удалите строки, в которых встречаются такие аномальные значения из датафрейма `data`.**"
   ]
  },
  {
   "cell_type": "code",
   "execution_count": 11,
   "id": "86e31922",
   "metadata": {
    "deletable": false,
    "id": "3ff9801d"
   },
   "outputs": [],
   "source": [
    "data = data[(data['children'] != -1) & (data['children'] != 20)]"
   ]
  },
  {
   "cell_type": "markdown",
   "id": "8a5db1c1",
   "metadata": {
    "deletable": false,
    "editable": false,
    "id": "bbc4d0ce"
   },
   "source": [
    "**Задание 10. Ещё раз выведите перечень уникальных значений столбца `children`, чтобы убедиться, что артефакты удалены.**"
   ]
  },
  {
   "cell_type": "code",
   "execution_count": 12,
   "id": "83cf4874",
   "metadata": {
    "deletable": false,
    "id": "ad4fa8b7",
    "outputId": "b2097101-d49d-44d9-901b-32a65c9463d1"
   },
   "outputs": [
    {
     "data": {
      "text/plain": [
       "array([1, 0, 3, 2, 4, 5])"
      ]
     },
     "execution_count": 12,
     "metadata": {},
     "output_type": "execute_result"
    }
   ],
   "source": [
    "data['children'].unique()"
   ]
  },
  {
   "cell_type": "markdown",
   "id": "115d49dc",
   "metadata": {
    "deletable": false,
    "editable": false,
    "id": "75440b63"
   },
   "source": [
    "### Удаление пропусков (продолжение)"
   ]
  },
  {
   "cell_type": "markdown",
   "id": "43f0de16",
   "metadata": {
    "deletable": false,
    "editable": false,
    "id": "f4ea573f"
   },
   "source": [
    "**Задание 11. Заполните пропуски в столбце `days_employed` медианными значениями по каждого типа занятости `income_type`.**"
   ]
  },
  {
   "cell_type": "code",
   "execution_count": 13,
   "id": "2eac1391",
   "metadata": {
    "deletable": false,
    "id": "af6b1a7e"
   },
   "outputs": [],
   "source": [
    "for t in data['income_type'].unique():\n",
    "    data.loc[(data['income_type'] == t) & (data['days_employed'].isna()), 'days_employed'] = \\\n",
    "    data.loc[(data['income_type'] == t), 'days_employed'].median()"
   ]
  },
  {
   "cell_type": "markdown",
   "id": "aca4a8c7",
   "metadata": {
    "deletable": false,
    "editable": false,
    "id": "2753f40d"
   },
   "source": [
    "**Задание 12. Убедитесь, что все пропуски заполнены. Проверьте себя и ещё раз выведите количество пропущенных значений для каждого столбца с помощью двух методов.**"
   ]
  },
  {
   "cell_type": "code",
   "execution_count": 14,
   "id": "d35de941",
   "metadata": {
    "deletable": false,
    "id": "55f78bc2",
    "outputId": "8da1e4e1-358e-4e87-98c9-f261bce0a7b2"
   },
   "outputs": [
    {
     "data": {
      "text/plain": [
       "children            0\n",
       "days_employed       0\n",
       "dob_years           0\n",
       "education           0\n",
       "education_id        0\n",
       "family_status       0\n",
       "family_status_id    0\n",
       "gender              0\n",
       "income_type         0\n",
       "debt                0\n",
       "total_income        0\n",
       "purpose             0\n",
       "dtype: int64"
      ]
     },
     "execution_count": 14,
     "metadata": {},
     "output_type": "execute_result"
    }
   ],
   "source": [
    "data.isna().sum()"
   ]
  },
  {
   "cell_type": "markdown",
   "id": "4a32611c",
   "metadata": {
    "deletable": false,
    "editable": false,
    "id": "ddc81e43"
   },
   "source": [
    "### Изменение типов данных"
   ]
  },
  {
   "cell_type": "markdown",
   "id": "04f2fedf",
   "metadata": {
    "deletable": false,
    "editable": false,
    "id": "42d19d24"
   },
   "source": [
    "**Задание 13. Замените вещественный тип данных в столбце `total_income` на целочисленный с помощью метода `astype()`.**"
   ]
  },
  {
   "cell_type": "code",
   "execution_count": 15,
   "id": "7bf23748",
   "metadata": {
    "deletable": false,
    "id": "920b65ad"
   },
   "outputs": [],
   "source": [
    "data['total_income'] = data['total_income'].astype(int)"
   ]
  },
  {
   "cell_type": "markdown",
   "id": "62a725ea",
   "metadata": {
    "deletable": false,
    "editable": false,
    "id": "80c420ba"
   },
   "source": [
    "### Обработка дубликатов"
   ]
  },
  {
   "cell_type": "markdown",
   "id": "16d6b6dd",
   "metadata": {
    "deletable": false,
    "editable": false
   },
   "source": [
    "**Задание 14. Обработайте неявные дубликаты в столбце `education`. В этом столбце есть одни и те же значения, но записанные по-разному: с использованием заглавных и строчных букв. Приведите их к нижнему регистру. Проверьте остальные столбцы.**"
   ]
  },
  {
   "cell_type": "code",
   "execution_count": 16,
   "id": "6215fcc3",
   "metadata": {
    "deletable": false
   },
   "outputs": [],
   "source": [
    "data['education'] = data['education'].str.lower()"
   ]
  },
  {
   "cell_type": "markdown",
   "id": "f202adce",
   "metadata": {
    "deletable": false,
    "editable": false,
    "id": "dc587695"
   },
   "source": [
    "**Задание 15. Выведите на экран количество строк-дубликатов в данных. Если такие строки присутствуют, удалите их.**"
   ]
  },
  {
   "cell_type": "code",
   "execution_count": 17,
   "id": "6dabea61",
   "metadata": {
    "deletable": false,
    "id": "3ee445e4",
    "outputId": "9684deba-1934-42d1-99e1-cda61740f822"
   },
   "outputs": [
    {
     "data": {
      "text/plain": [
       "71"
      ]
     },
     "execution_count": 17,
     "metadata": {},
     "output_type": "execute_result"
    }
   ],
   "source": [
    "data.duplicated().sum()"
   ]
  },
  {
   "cell_type": "code",
   "execution_count": 18,
   "id": "abe4cd45",
   "metadata": {
    "deletable": false,
    "id": "8575fe05"
   },
   "outputs": [],
   "source": [
    "data = data.drop_duplicates()"
   ]
  },
  {
   "cell_type": "markdown",
   "id": "39fc25ed",
   "metadata": {
    "deletable": false,
    "editable": false,
    "id": "9904cf55"
   },
   "source": [
    "### Категоризация данных"
   ]
  },
  {
   "cell_type": "markdown",
   "id": "78cca0e0",
   "metadata": {
    "deletable": false,
    "editable": false,
    "id": "72fcc8a2"
   },
   "source": [
    "**Задание 16. На основании диапазонов, указанных ниже, создайте в датафрейме `data` столбец `total_income_category` с категориями:**\n",
    "\n",
    "- 0–30000 — `'E'`;\n",
    "- 30001–50000 — `'D'`;\n",
    "- 50001–200000 — `'C'`;\n",
    "- 200001–1000000 — `'B'`;\n",
    "- 1000001 и выше — `'A'`.\n",
    "\n",
    "\n",
    "**Например, кредитополучателю с доходом 25000 нужно назначить категорию `'E'`, а клиенту, получающему 235000, — `'B'`. Используйте собственную функцию с именем `categorize_income()` и метод `apply()`.**"
   ]
  },
  {
   "cell_type": "code",
   "execution_count": 19,
   "id": "0a36bb0f",
   "metadata": {
    "deletable": false,
    "id": "e1771346"
   },
   "outputs": [],
   "source": [
    "def categorize_income(income):\n",
    "    try:\n",
    "        if 0 <= income <= 30000:\n",
    "            return 'E'\n",
    "        elif 30001 <= income <= 50000:\n",
    "            return 'D'\n",
    "        elif 50001 <= income <= 200000:\n",
    "            return 'C'\n",
    "        elif 200001 <= income <= 1000000:\n",
    "            return 'B'\n",
    "        elif income >= 1000001:\n",
    "            return 'A'\n",
    "    except:\n",
    "        pass"
   ]
  },
  {
   "cell_type": "code",
   "execution_count": 20,
   "id": "9367b40e",
   "metadata": {
    "deletable": false,
    "id": "d5f3586d"
   },
   "outputs": [],
   "source": [
    "data['total_income_category'] = data['total_income'].apply(categorize_income)"
   ]
  },
  {
   "cell_type": "markdown",
   "id": "b548a06e",
   "metadata": {
    "deletable": false,
    "editable": false,
    "id": "dde49b5c"
   },
   "source": [
    "**Задание 17. Выведите на экран перечень уникальных целей взятия кредита из столбца `purpose`.**"
   ]
  },
  {
   "cell_type": "code",
   "execution_count": 21,
   "id": "d3b2618b",
   "metadata": {
    "deletable": false,
    "id": "f67ce9b3",
    "outputId": "673c12d9-7d7e-4ae0-9812-c622c89dd244"
   },
   "outputs": [
    {
     "data": {
      "text/plain": [
       "array(['покупка жилья', 'приобретение автомобиля',\n",
       "       'дополнительное образование', 'сыграть свадьбу',\n",
       "       'операции с жильем', 'образование', 'на проведение свадьбы',\n",
       "       'покупка жилья для семьи', 'покупка недвижимости',\n",
       "       'покупка коммерческой недвижимости', 'покупка жилой недвижимости',\n",
       "       'строительство собственной недвижимости', 'недвижимость',\n",
       "       'строительство недвижимости', 'на покупку подержанного автомобиля',\n",
       "       'на покупку своего автомобиля',\n",
       "       'операции с коммерческой недвижимостью',\n",
       "       'строительство жилой недвижимости', 'жилье',\n",
       "       'операции со своей недвижимостью', 'автомобили',\n",
       "       'заняться образованием', 'сделка с подержанным автомобилем',\n",
       "       'получение образования', 'автомобиль', 'свадьба',\n",
       "       'получение дополнительного образования', 'покупка своего жилья',\n",
       "       'операции с недвижимостью', 'получение высшего образования',\n",
       "       'свой автомобиль', 'сделка с автомобилем',\n",
       "       'профильное образование', 'высшее образование',\n",
       "       'покупка жилья для сдачи', 'на покупку автомобиля', 'ремонт жилью',\n",
       "       'заняться высшим образованием'], dtype=object)"
      ]
     },
     "execution_count": 21,
     "metadata": {},
     "output_type": "execute_result"
    }
   ],
   "source": [
    "data['purpose'].unique()"
   ]
  },
  {
   "cell_type": "markdown",
   "id": "ae1cfddb",
   "metadata": {
    "deletable": false,
    "editable": false,
    "id": "85d0aef0"
   },
   "source": [
    "**Задание 18. Создайте функцию, которая на основании данных из столбца `purpose` сформирует новый столбец `purpose_category`, в который войдут следующие категории:**\n",
    "\n",
    "- `'операции с автомобилем'`,\n",
    "- `'операции с недвижимостью'`,\n",
    "- `'проведение свадьбы'`,\n",
    "- `'получение образования'`.\n",
    "\n",
    "**Например, если в столбце `purpose` находится подстрока `'на покупку автомобиля'`, то в столбце `purpose_category` должна появиться строка `'операции с автомобилем'`.**\n",
    "\n",
    "**Используйте собственную функцию с именем `categorize_purpose()` и метод `apply()`. Изучите данные в столбце `purpose` и определите, какие подстроки помогут вам правильно определить категорию.**"
   ]
  },
  {
   "cell_type": "code",
   "execution_count": 22,
   "id": "2904f820",
   "metadata": {
    "deletable": false,
    "id": "e149fab4"
   },
   "outputs": [],
   "source": [
    "def categorize_purpose(row):\n",
    "    try:\n",
    "        if 'автом' in row:\n",
    "            return 'операции с автомобилем'\n",
    "        elif 'жил' in row or 'недвиж' in row:\n",
    "            return 'операции с недвижимостью'\n",
    "        elif 'свад' in row:\n",
    "            return 'проведение свадьбы'\n",
    "        elif 'образов' in row:\n",
    "            return 'получение образования'\n",
    "    except:\n",
    "        return 'нет категории'"
   ]
  },
  {
   "cell_type": "code",
   "execution_count": 23,
   "id": "b4fcdc98",
   "metadata": {
    "deletable": false,
    "id": "bf36e69b"
   },
   "outputs": [
    {
     "data": {
      "text/html": [
       "<div>\n",
       "<style scoped>\n",
       "    .dataframe tbody tr th:only-of-type {\n",
       "        vertical-align: middle;\n",
       "    }\n",
       "\n",
       "    .dataframe tbody tr th {\n",
       "        vertical-align: top;\n",
       "    }\n",
       "\n",
       "    .dataframe thead th {\n",
       "        text-align: right;\n",
       "    }\n",
       "</style>\n",
       "<table border=\"1\" class=\"dataframe\">\n",
       "  <thead>\n",
       "    <tr style=\"text-align: right;\">\n",
       "      <th></th>\n",
       "      <th>children</th>\n",
       "      <th>days_employed</th>\n",
       "      <th>dob_years</th>\n",
       "      <th>education</th>\n",
       "      <th>education_id</th>\n",
       "      <th>family_status</th>\n",
       "      <th>family_status_id</th>\n",
       "      <th>gender</th>\n",
       "      <th>income_type</th>\n",
       "      <th>debt</th>\n",
       "      <th>total_income</th>\n",
       "      <th>purpose</th>\n",
       "      <th>total_income_category</th>\n",
       "      <th>purpose_category</th>\n",
       "    </tr>\n",
       "  </thead>\n",
       "  <tbody>\n",
       "    <tr>\n",
       "      <th>0</th>\n",
       "      <td>1</td>\n",
       "      <td>8437.673028</td>\n",
       "      <td>42</td>\n",
       "      <td>высшее</td>\n",
       "      <td>0</td>\n",
       "      <td>женат / замужем</td>\n",
       "      <td>0</td>\n",
       "      <td>F</td>\n",
       "      <td>сотрудник</td>\n",
       "      <td>0</td>\n",
       "      <td>253875</td>\n",
       "      <td>покупка жилья</td>\n",
       "      <td>B</td>\n",
       "      <td>операции с недвижимостью</td>\n",
       "    </tr>\n",
       "    <tr>\n",
       "      <th>1</th>\n",
       "      <td>1</td>\n",
       "      <td>4024.803754</td>\n",
       "      <td>36</td>\n",
       "      <td>среднее</td>\n",
       "      <td>1</td>\n",
       "      <td>женат / замужем</td>\n",
       "      <td>0</td>\n",
       "      <td>F</td>\n",
       "      <td>сотрудник</td>\n",
       "      <td>0</td>\n",
       "      <td>112080</td>\n",
       "      <td>приобретение автомобиля</td>\n",
       "      <td>C</td>\n",
       "      <td>операции с автомобилем</td>\n",
       "    </tr>\n",
       "    <tr>\n",
       "      <th>2</th>\n",
       "      <td>0</td>\n",
       "      <td>5623.422610</td>\n",
       "      <td>33</td>\n",
       "      <td>среднее</td>\n",
       "      <td>1</td>\n",
       "      <td>женат / замужем</td>\n",
       "      <td>0</td>\n",
       "      <td>M</td>\n",
       "      <td>сотрудник</td>\n",
       "      <td>0</td>\n",
       "      <td>145885</td>\n",
       "      <td>покупка жилья</td>\n",
       "      <td>C</td>\n",
       "      <td>операции с недвижимостью</td>\n",
       "    </tr>\n",
       "    <tr>\n",
       "      <th>3</th>\n",
       "      <td>3</td>\n",
       "      <td>4124.747207</td>\n",
       "      <td>32</td>\n",
       "      <td>среднее</td>\n",
       "      <td>1</td>\n",
       "      <td>женат / замужем</td>\n",
       "      <td>0</td>\n",
       "      <td>M</td>\n",
       "      <td>сотрудник</td>\n",
       "      <td>0</td>\n",
       "      <td>267628</td>\n",
       "      <td>дополнительное образование</td>\n",
       "      <td>B</td>\n",
       "      <td>получение образования</td>\n",
       "    </tr>\n",
       "    <tr>\n",
       "      <th>4</th>\n",
       "      <td>0</td>\n",
       "      <td>340266.072047</td>\n",
       "      <td>53</td>\n",
       "      <td>среднее</td>\n",
       "      <td>1</td>\n",
       "      <td>гражданский брак</td>\n",
       "      <td>1</td>\n",
       "      <td>F</td>\n",
       "      <td>пенсионер</td>\n",
       "      <td>0</td>\n",
       "      <td>158616</td>\n",
       "      <td>сыграть свадьбу</td>\n",
       "      <td>C</td>\n",
       "      <td>проведение свадьбы</td>\n",
       "    </tr>\n",
       "    <tr>\n",
       "      <th>...</th>\n",
       "      <td>...</td>\n",
       "      <td>...</td>\n",
       "      <td>...</td>\n",
       "      <td>...</td>\n",
       "      <td>...</td>\n",
       "      <td>...</td>\n",
       "      <td>...</td>\n",
       "      <td>...</td>\n",
       "      <td>...</td>\n",
       "      <td>...</td>\n",
       "      <td>...</td>\n",
       "      <td>...</td>\n",
       "      <td>...</td>\n",
       "      <td>...</td>\n",
       "    </tr>\n",
       "    <tr>\n",
       "      <th>21520</th>\n",
       "      <td>1</td>\n",
       "      <td>4529.316663</td>\n",
       "      <td>43</td>\n",
       "      <td>среднее</td>\n",
       "      <td>1</td>\n",
       "      <td>гражданский брак</td>\n",
       "      <td>1</td>\n",
       "      <td>F</td>\n",
       "      <td>компаньон</td>\n",
       "      <td>0</td>\n",
       "      <td>224791</td>\n",
       "      <td>операции с жильем</td>\n",
       "      <td>B</td>\n",
       "      <td>операции с недвижимостью</td>\n",
       "    </tr>\n",
       "    <tr>\n",
       "      <th>21521</th>\n",
       "      <td>0</td>\n",
       "      <td>343937.404131</td>\n",
       "      <td>67</td>\n",
       "      <td>среднее</td>\n",
       "      <td>1</td>\n",
       "      <td>женат / замужем</td>\n",
       "      <td>0</td>\n",
       "      <td>F</td>\n",
       "      <td>пенсионер</td>\n",
       "      <td>0</td>\n",
       "      <td>155999</td>\n",
       "      <td>сделка с автомобилем</td>\n",
       "      <td>C</td>\n",
       "      <td>операции с автомобилем</td>\n",
       "    </tr>\n",
       "    <tr>\n",
       "      <th>21522</th>\n",
       "      <td>1</td>\n",
       "      <td>2113.346888</td>\n",
       "      <td>38</td>\n",
       "      <td>среднее</td>\n",
       "      <td>1</td>\n",
       "      <td>гражданский брак</td>\n",
       "      <td>1</td>\n",
       "      <td>M</td>\n",
       "      <td>сотрудник</td>\n",
       "      <td>1</td>\n",
       "      <td>89672</td>\n",
       "      <td>недвижимость</td>\n",
       "      <td>C</td>\n",
       "      <td>операции с недвижимостью</td>\n",
       "    </tr>\n",
       "    <tr>\n",
       "      <th>21523</th>\n",
       "      <td>3</td>\n",
       "      <td>3112.481705</td>\n",
       "      <td>38</td>\n",
       "      <td>среднее</td>\n",
       "      <td>1</td>\n",
       "      <td>женат / замужем</td>\n",
       "      <td>0</td>\n",
       "      <td>M</td>\n",
       "      <td>сотрудник</td>\n",
       "      <td>1</td>\n",
       "      <td>244093</td>\n",
       "      <td>на покупку своего автомобиля</td>\n",
       "      <td>B</td>\n",
       "      <td>операции с автомобилем</td>\n",
       "    </tr>\n",
       "    <tr>\n",
       "      <th>21524</th>\n",
       "      <td>2</td>\n",
       "      <td>1984.507589</td>\n",
       "      <td>40</td>\n",
       "      <td>среднее</td>\n",
       "      <td>1</td>\n",
       "      <td>женат / замужем</td>\n",
       "      <td>0</td>\n",
       "      <td>F</td>\n",
       "      <td>сотрудник</td>\n",
       "      <td>0</td>\n",
       "      <td>82047</td>\n",
       "      <td>на покупку автомобиля</td>\n",
       "      <td>C</td>\n",
       "      <td>операции с автомобилем</td>\n",
       "    </tr>\n",
       "  </tbody>\n",
       "</table>\n",
       "<p>21331 rows × 14 columns</p>\n",
       "</div>"
      ],
      "text/plain": [
       "       children  days_employed  dob_years education  education_id  \\\n",
       "0             1    8437.673028         42    высшее             0   \n",
       "1             1    4024.803754         36   среднее             1   \n",
       "2             0    5623.422610         33   среднее             1   \n",
       "3             3    4124.747207         32   среднее             1   \n",
       "4             0  340266.072047         53   среднее             1   \n",
       "...         ...            ...        ...       ...           ...   \n",
       "21520         1    4529.316663         43   среднее             1   \n",
       "21521         0  343937.404131         67   среднее             1   \n",
       "21522         1    2113.346888         38   среднее             1   \n",
       "21523         3    3112.481705         38   среднее             1   \n",
       "21524         2    1984.507589         40   среднее             1   \n",
       "\n",
       "          family_status  family_status_id gender income_type  debt  \\\n",
       "0       женат / замужем                 0      F   сотрудник     0   \n",
       "1       женат / замужем                 0      F   сотрудник     0   \n",
       "2       женат / замужем                 0      M   сотрудник     0   \n",
       "3       женат / замужем                 0      M   сотрудник     0   \n",
       "4      гражданский брак                 1      F   пенсионер     0   \n",
       "...                 ...               ...    ...         ...   ...   \n",
       "21520  гражданский брак                 1      F   компаньон     0   \n",
       "21521   женат / замужем                 0      F   пенсионер     0   \n",
       "21522  гражданский брак                 1      M   сотрудник     1   \n",
       "21523   женат / замужем                 0      M   сотрудник     1   \n",
       "21524   женат / замужем                 0      F   сотрудник     0   \n",
       "\n",
       "       total_income                       purpose total_income_category  \\\n",
       "0            253875                 покупка жилья                     B   \n",
       "1            112080       приобретение автомобиля                     C   \n",
       "2            145885                 покупка жилья                     C   \n",
       "3            267628    дополнительное образование                     B   \n",
       "4            158616               сыграть свадьбу                     C   \n",
       "...             ...                           ...                   ...   \n",
       "21520        224791             операции с жильем                     B   \n",
       "21521        155999          сделка с автомобилем                     C   \n",
       "21522         89672                  недвижимость                     C   \n",
       "21523        244093  на покупку своего автомобиля                     B   \n",
       "21524         82047         на покупку автомобиля                     C   \n",
       "\n",
       "               purpose_category  \n",
       "0      операции с недвижимостью  \n",
       "1        операции с автомобилем  \n",
       "2      операции с недвижимостью  \n",
       "3         получение образования  \n",
       "4            проведение свадьбы  \n",
       "...                         ...  \n",
       "21520  операции с недвижимостью  \n",
       "21521    операции с автомобилем  \n",
       "21522  операции с недвижимостью  \n",
       "21523    операции с автомобилем  \n",
       "21524    операции с автомобилем  \n",
       "\n",
       "[21331 rows x 14 columns]"
      ]
     },
     "execution_count": 23,
     "metadata": {},
     "output_type": "execute_result"
    }
   ],
   "source": [
    "data['purpose_category'] = data['purpose'].apply(categorize_purpose)\n",
    "data"
   ]
  },
  {
   "cell_type": "markdown",
   "id": "637914b3",
   "metadata": {
    "deletable": false,
    "editable": false,
    "id": "09b242bf"
   },
   "source": [
    "### Шаг 3. Исследуйте данные и ответьте на вопросы"
   ]
  },
  {
   "cell_type": "markdown",
   "id": "f662ad7a",
   "metadata": {
    "deletable": false,
    "editable": false,
    "id": "c5d66278"
   },
   "source": [
    "#### 3.1 Есть ли зависимость между количеством детей и возвратом кредита в срок?"
   ]
  },
  {
   "cell_type": "markdown",
   "id": "a2f45d0d",
   "metadata": {},
   "source": [
    "Изначально сгруппируем данные по долгу между людьми с разным количеством детей"
   ]
  },
  {
   "cell_type": "code",
   "execution_count": 24,
   "id": "15f07d17",
   "metadata": {
    "deletable": false,
    "id": "2cacfc4a",
    "scrolled": true
   },
   "outputs": [
    {
     "data": {
      "text/plain": [
       "children\n",
       "0    1063\n",
       "1     444\n",
       "2     194\n",
       "3      27\n",
       "4       4\n",
       "5       0\n",
       "Name: debt, dtype: int64"
      ]
     },
     "execution_count": 24,
     "metadata": {},
     "output_type": "execute_result"
    }
   ],
   "source": [
    "data.groupby('children')['debt'].sum()\n",
    "\n"
   ]
  },
  {
   "cell_type": "markdown",
   "id": "14ba2233",
   "metadata": {},
   "source": [
    "Цифры выше нерепрезентативны, поскольку не учитывают число людей с разным количеством детей. Найдем число людей для разного количества детей\n"
   ]
  },
  {
   "cell_type": "code",
   "execution_count": 25,
   "id": "1cea6c9f",
   "metadata": {},
   "outputs": [
    {
     "data": {
      "text/plain": [
       "children\n",
       "0    14091\n",
       "1     4808\n",
       "2     2052\n",
       "3      330\n",
       "4       41\n",
       "5        9\n",
       "Name: children, dtype: int64"
      ]
     },
     "execution_count": 25,
     "metadata": {},
     "output_type": "execute_result"
    }
   ],
   "source": [
    "data.groupby('children')['children'].count()\n"
   ]
  },
  {
   "cell_type": "markdown",
   "id": "2a7e81ff",
   "metadata": {},
   "source": [
    "Зависимость оценим, посчитав конверсию\n"
   ]
  },
  {
   "cell_type": "code",
   "execution_count": 26,
   "id": "09006b09",
   "metadata": {
    "scrolled": true
   },
   "outputs": [
    {
     "data": {
      "text/plain": [
       "children\n",
       "0    0.075438\n",
       "1    0.092346\n",
       "2    0.094542\n",
       "3    0.081818\n",
       "4    0.097561\n",
       "5    0.000000\n",
       "dtype: float64"
      ]
     },
     "execution_count": 26,
     "metadata": {},
     "output_type": "execute_result"
    }
   ],
   "source": [
    "data.groupby('children')['debt'].sum()/data.groupby('children')['children'].count()\n"
   ]
  },
  {
   "cell_type": "markdown",
   "id": "1436d748",
   "metadata": {
    "deletable": false,
    "id": "3a6b99ec"
   },
   "source": [
    "**Вывод:** \n",
    "Зависимость есть.\n",
    "Хуже всего возвращают кредиты в срок люди с 4 детьми.  Наименьшая конверсия у людей с 5 детьми, что скорее всего обусловлено их малым количестве в таблице (т.е. недостаточной статистикой). Потому что даже если один человек из этой категории не вернет кредит вовремя, то конверсия составит 1/10 = 0.1 и конверсия будет максимальной из представленных. Поэтому, если не учитывать эту категорию, получим, что минимальная конверсия соответствует людям без детей.\n",
    "Также наблюдаем локальный минимум для семей с 3 детьми - это обусловлено возможно появлением льгот для многодетных семей (от 3 детей) и финансовая нагрузка не такая большая. \n",
    "В то же время люди с 4 детьми имеют высокую конверсию - можно предположить, что несмотря на действующие в стране льготы для семей с 3 детьми и выше, 4 ребенок добавляет существенную финансовую нагрузку на семью.\n",
    "\n",
    "**Таким образом:** \n",
    "1) если не учитывать категорию с 5 детьми можно сделать вывод, что само по себе наличие детей влияет на возврат кредита в срок - люди чаще отдают кредиты вовремя.\n",
    "\n",
    "2) неплохую конверсию показыют люди с 3 детьми (минимальным числом детей для статуса многодетной семьи), поскольку возможно финансовая нагрузка облегчается существующими льготами."
   ]
  },
  {
   "cell_type": "markdown",
   "id": "57797dbb",
   "metadata": {
    "deletable": false,
    "editable": false,
    "id": "97be82ca"
   },
   "source": [
    "#### 3.2 Есть ли зависимость между семейным положением и возвратом кредита в срок?"
   ]
  },
  {
   "cell_type": "markdown",
   "id": "323ab304",
   "metadata": {},
   "source": [
    "Проводим аналогичные расчеты, но с использованием столбца 'family_status'"
   ]
  },
  {
   "cell_type": "code",
   "execution_count": 27,
   "id": "f6694fc4",
   "metadata": {
    "deletable": false,
    "id": "dc3f7ee8"
   },
   "outputs": [
    {
     "data": {
      "text/plain": [
       "family_status\n",
       "Не женат / не замужем     2796\n",
       "в разводе                 1189\n",
       "вдовец / вдова             951\n",
       "гражданский брак          4134\n",
       "женат / замужем          12261\n",
       "Name: family_status, dtype: int64"
      ]
     },
     "execution_count": 27,
     "metadata": {},
     "output_type": "execute_result"
    }
   ],
   "source": [
    "data.groupby('family_status')['family_status'].count()"
   ]
  },
  {
   "cell_type": "code",
   "execution_count": 28,
   "id": "f03c4950",
   "metadata": {},
   "outputs": [
    {
     "data": {
      "text/plain": [
       "family_status\n",
       "Не женат / не замужем    273\n",
       "в разводе                 84\n",
       "вдовец / вдова            63\n",
       "гражданский брак         385\n",
       "женат / замужем          927\n",
       "Name: debt, dtype: int64"
      ]
     },
     "execution_count": 28,
     "metadata": {},
     "output_type": "execute_result"
    }
   ],
   "source": [
    "data.groupby('family_status')['debt'].sum()"
   ]
  },
  {
   "cell_type": "code",
   "execution_count": 29,
   "id": "03548271",
   "metadata": {
    "scrolled": true
   },
   "outputs": [
    {
     "data": {
      "text/plain": [
       "family_status\n",
       "Не женат / не замужем    0.097639\n",
       "в разводе                0.070648\n",
       "вдовец / вдова           0.066246\n",
       "гражданский брак         0.093130\n",
       "женат / замужем          0.075606\n",
       "dtype: float64"
      ]
     },
     "execution_count": 29,
     "metadata": {},
     "output_type": "execute_result"
    }
   ],
   "source": [
    "data.groupby('family_status')['debt'].sum()/data.groupby('family_status')['family_status'].count()"
   ]
  },
  {
   "cell_type": "markdown",
   "id": "9bd5b791",
   "metadata": {
    "deletable": false,
    "id": "1cef7837"
   },
   "source": [
    "**Вывод:** \n",
    "Зависимость есть. \n",
    "\n",
    "Наименьшая конверсия характерна для категории \"вдовец/вдова\". Чаще всего не отдают кредиты в срок неженатые и незамужние."
   ]
  },
  {
   "cell_type": "markdown",
   "id": "fc0bcb47",
   "metadata": {
    "deletable": false,
    "editable": false,
    "id": "1e8b2fca"
   },
   "source": [
    "#### 3.3 Есть ли зависимость между уровнем дохода и возвратом кредита в срок?"
   ]
  },
  {
   "cell_type": "markdown",
   "id": "4a9d9152",
   "metadata": {
    "deletable": false,
    "id": "cd7e3720"
   },
   "source": [
    "Проводим аналогичные расчеты, но с использованием столбца 'total_income_category'"
   ]
  },
  {
   "cell_type": "code",
   "execution_count": 30,
   "id": "f389ae52",
   "metadata": {
    "scrolled": true
   },
   "outputs": [
    {
     "data": {
      "text/plain": [
       "total_income_category\n",
       "A       25\n",
       "B     5014\n",
       "C    15921\n",
       "D      349\n",
       "E       22\n",
       "Name: total_income_category, dtype: int64"
      ]
     },
     "execution_count": 30,
     "metadata": {},
     "output_type": "execute_result"
    }
   ],
   "source": [
    "data.groupby('total_income_category')['total_income_category'].count()"
   ]
  },
  {
   "cell_type": "code",
   "execution_count": 31,
   "id": "bd73f290",
   "metadata": {
    "scrolled": true
   },
   "outputs": [
    {
     "data": {
      "text/plain": [
       "total_income_category\n",
       "A       2\n",
       "B     354\n",
       "C    1353\n",
       "D      21\n",
       "E       2\n",
       "Name: debt, dtype: int64"
      ]
     },
     "execution_count": 31,
     "metadata": {},
     "output_type": "execute_result"
    }
   ],
   "source": [
    "data.groupby('total_income_category')['debt'].sum()"
   ]
  },
  {
   "cell_type": "code",
   "execution_count": 32,
   "id": "f7736d7d",
   "metadata": {},
   "outputs": [
    {
     "data": {
      "text/plain": [
       "total_income_category\n",
       "A    0.080000\n",
       "B    0.070602\n",
       "C    0.084982\n",
       "D    0.060172\n",
       "E    0.090909\n",
       "dtype: float64"
      ]
     },
     "execution_count": 32,
     "metadata": {},
     "output_type": "execute_result"
    }
   ],
   "source": [
    "data.groupby('total_income_category')['debt'].sum() / \\\n",
    "data.groupby('total_income_category')['total_income_category'].count()"
   ]
  },
  {
   "cell_type": "markdown",
   "id": "d0b88784",
   "metadata": {
    "deletable": false,
    "id": "e8593def"
   },
   "source": [
    "**Вывод:** \n",
    "Зависимость есть, но необратнопропорциональная доходу (т.е. конверсия не снижается при увеличении дохода).\n",
    "Наихудшая (наибольшая) конверсия характерная для категории 'Е', т.е. люди с доходом от 0 до 30000 чаще всего не отдают кредит в срок. Наименьшая конверсия соответствует категории 'D'. В то же время статистических данных для категорий 'D','Е' и 'А' мало по сравнению с остальными категориями, что может стать причиной неправильной оценки. "
   ]
  },
  {
   "cell_type": "code",
   "execution_count": 33,
   "id": "ad15ce2c",
   "metadata": {},
   "outputs": [
    {
     "data": {
      "text/html": [
       "<div>\n",
       "<style scoped>\n",
       "    .dataframe tbody tr th:only-of-type {\n",
       "        vertical-align: middle;\n",
       "    }\n",
       "\n",
       "    .dataframe tbody tr th {\n",
       "        vertical-align: top;\n",
       "    }\n",
       "\n",
       "    .dataframe thead tr th {\n",
       "        text-align: left;\n",
       "    }\n",
       "\n",
       "    .dataframe thead tr:last-of-type th {\n",
       "        text-align: right;\n",
       "    }\n",
       "</style>\n",
       "<table border=\"1\" class=\"dataframe\">\n",
       "  <thead>\n",
       "    <tr>\n",
       "      <th></th>\n",
       "      <th colspan=\"2\" halign=\"left\">debt</th>\n",
       "      <th>total_income_category</th>\n",
       "    </tr>\n",
       "    <tr>\n",
       "      <th></th>\n",
       "      <th>sum</th>\n",
       "      <th>mean</th>\n",
       "      <th>count</th>\n",
       "    </tr>\n",
       "    <tr>\n",
       "      <th>total_income_category</th>\n",
       "      <th></th>\n",
       "      <th></th>\n",
       "      <th></th>\n",
       "    </tr>\n",
       "  </thead>\n",
       "  <tbody>\n",
       "    <tr>\n",
       "      <th>A</th>\n",
       "      <td>2</td>\n",
       "      <td>0.080000</td>\n",
       "      <td>25</td>\n",
       "    </tr>\n",
       "    <tr>\n",
       "      <th>B</th>\n",
       "      <td>354</td>\n",
       "      <td>0.070602</td>\n",
       "      <td>5014</td>\n",
       "    </tr>\n",
       "    <tr>\n",
       "      <th>C</th>\n",
       "      <td>1353</td>\n",
       "      <td>0.084982</td>\n",
       "      <td>15921</td>\n",
       "    </tr>\n",
       "    <tr>\n",
       "      <th>D</th>\n",
       "      <td>21</td>\n",
       "      <td>0.060172</td>\n",
       "      <td>349</td>\n",
       "    </tr>\n",
       "    <tr>\n",
       "      <th>E</th>\n",
       "      <td>2</td>\n",
       "      <td>0.090909</td>\n",
       "      <td>22</td>\n",
       "    </tr>\n",
       "  </tbody>\n",
       "</table>\n",
       "</div>"
      ],
      "text/plain": [
       "                       debt           total_income_category\n",
       "                        sum      mean                 count\n",
       "total_income_category                                      \n",
       "A                         2  0.080000                    25\n",
       "B                       354  0.070602                  5014\n",
       "C                      1353  0.084982                 15921\n",
       "D                        21  0.060172                   349\n",
       "E                         2  0.090909                    22"
      ]
     },
     "execution_count": 33,
     "metadata": {},
     "output_type": "execute_result"
    }
   ],
   "source": [
    "data2 = data.groupby('total_income_category').agg({'debt':['sum','mean'], 'total_income_category': 'count'})\n",
    "data2"
   ]
  },
  {
   "cell_type": "markdown",
   "id": "a2e0ed9c",
   "metadata": {
    "deletable": false,
    "editable": false,
    "id": "99ecbd1f"
   },
   "source": [
    "#### 3.4 Как разные цели кредита влияют на его возврат в срок?"
   ]
  },
  {
   "cell_type": "markdown",
   "id": "def7ff7a",
   "metadata": {
    "deletable": false,
    "id": "2b687290"
   },
   "source": [
    "Проводим аналогичные расчеты, но с использованием столбца 'purpose_category'"
   ]
  },
  {
   "cell_type": "code",
   "execution_count": 34,
   "id": "7b17199b",
   "metadata": {},
   "outputs": [
    {
     "data": {
      "text/plain": [
       "purpose_category\n",
       "операции с автомобилем       4279\n",
       "операции с недвижимостью    10751\n",
       "получение образования        3988\n",
       "проведение свадьбы           2313\n",
       "Name: purpose_category, dtype: int64"
      ]
     },
     "execution_count": 34,
     "metadata": {},
     "output_type": "execute_result"
    }
   ],
   "source": [
    "data.groupby('purpose_category')['purpose_category'].count()"
   ]
  },
  {
   "cell_type": "code",
   "execution_count": 35,
   "id": "9b6a06cc",
   "metadata": {},
   "outputs": [
    {
     "data": {
      "text/plain": [
       "purpose_category\n",
       "операции с автомобилем      400\n",
       "операции с недвижимостью    780\n",
       "получение образования       369\n",
       "проведение свадьбы          183\n",
       "Name: debt, dtype: int64"
      ]
     },
     "execution_count": 35,
     "metadata": {},
     "output_type": "execute_result"
    }
   ],
   "source": [
    "data.groupby('purpose_category')['debt'].sum()"
   ]
  },
  {
   "cell_type": "code",
   "execution_count": 36,
   "id": "8bdb572e",
   "metadata": {},
   "outputs": [
    {
     "data": {
      "text/plain": [
       "purpose_category\n",
       "операции с автомобилем      0.093480\n",
       "операции с недвижимостью    0.072551\n",
       "получение образования       0.092528\n",
       "проведение свадьбы          0.079118\n",
       "dtype: float64"
      ]
     },
     "execution_count": 36,
     "metadata": {},
     "output_type": "execute_result"
    }
   ],
   "source": [
    "data.groupby('purpose_category')['debt'].sum()/data.groupby('purpose_category')['purpose_category'].count()"
   ]
  },
  {
   "cell_type": "markdown",
   "id": "1a50dbae",
   "metadata": {
    "deletable": false,
    "id": "b4bb2ce6"
   },
   "source": [
    "**Вывод:** \n",
    "Чаще всего не отдают кредит в срок для двух целей: получение образования и операции с автомобилем. Кредит на недвижимость погашают в срок чаще по сравнению с другими целями."
   ]
  },
  {
   "cell_type": "code",
   "execution_count": 37,
   "id": "9620f7d5",
   "metadata": {},
   "outputs": [
    {
     "data": {
      "text/html": [
       "<div>\n",
       "<style scoped>\n",
       "    .dataframe tbody tr th:only-of-type {\n",
       "        vertical-align: middle;\n",
       "    }\n",
       "\n",
       "    .dataframe tbody tr th {\n",
       "        vertical-align: top;\n",
       "    }\n",
       "\n",
       "    .dataframe thead th {\n",
       "        text-align: right;\n",
       "    }\n",
       "</style>\n",
       "<table border=\"1\" class=\"dataframe\">\n",
       "  <thead>\n",
       "    <tr style=\"text-align: right;\">\n",
       "      <th>family_status</th>\n",
       "      <th>Не женат / не замужем</th>\n",
       "      <th>в разводе</th>\n",
       "      <th>вдовец / вдова</th>\n",
       "      <th>гражданский брак</th>\n",
       "      <th>женат / замужем</th>\n",
       "    </tr>\n",
       "    <tr>\n",
       "      <th>purpose_category</th>\n",
       "      <th></th>\n",
       "      <th></th>\n",
       "      <th></th>\n",
       "      <th></th>\n",
       "      <th></th>\n",
       "    </tr>\n",
       "  </thead>\n",
       "  <tbody>\n",
       "    <tr>\n",
       "      <th>операции с автомобилем</th>\n",
       "      <td>0.129134</td>\n",
       "      <td>0.075269</td>\n",
       "      <td>0.091743</td>\n",
       "      <td>0.118605</td>\n",
       "      <td>0.083180</td>\n",
       "    </tr>\n",
       "    <tr>\n",
       "      <th>операции с недвижимостью</th>\n",
       "      <td>0.081337</td>\n",
       "      <td>0.068452</td>\n",
       "      <td>0.052336</td>\n",
       "      <td>0.092105</td>\n",
       "      <td>0.069727</td>\n",
       "    </tr>\n",
       "    <tr>\n",
       "      <th>получение образования</th>\n",
       "      <td>0.107826</td>\n",
       "      <td>0.071429</td>\n",
       "      <td>0.075758</td>\n",
       "      <td>0.148883</td>\n",
       "      <td>0.083528</td>\n",
       "    </tr>\n",
       "    <tr>\n",
       "      <th>проведение свадьбы</th>\n",
       "      <td>NaN</td>\n",
       "      <td>NaN</td>\n",
       "      <td>NaN</td>\n",
       "      <td>0.079118</td>\n",
       "      <td>NaN</td>\n",
       "    </tr>\n",
       "  </tbody>\n",
       "</table>\n",
       "</div>"
      ],
      "text/plain": [
       "family_status             Не женат / не замужем  в разводе  вдовец / вдова  \\\n",
       "purpose_category                                                             \n",
       "операции с автомобилем                 0.129134   0.075269        0.091743   \n",
       "операции с недвижимостью               0.081337   0.068452        0.052336   \n",
       "получение образования                  0.107826   0.071429        0.075758   \n",
       "проведение свадьбы                          NaN        NaN             NaN   \n",
       "\n",
       "family_status             гражданский брак  женат / замужем  \n",
       "purpose_category                                             \n",
       "операции с автомобилем            0.118605         0.083180  \n",
       "операции с недвижимостью          0.092105         0.069727  \n",
       "получение образования             0.148883         0.083528  \n",
       "проведение свадьбы                0.079118              NaN  "
      ]
     },
     "execution_count": 37,
     "metadata": {},
     "output_type": "execute_result"
    }
   ],
   "source": [
    "data_pivot = data.pivot_table(index=['purpose_category'], columns='family_status', values='debt', aggfunc='mean')\n",
    "data_pivot"
   ]
  },
  {
   "cell_type": "markdown",
   "id": "4c79bbec",
   "metadata": {},
   "source": [
    "Из полученной сводной таблицы видно, что доля невозвратов кредитов в срок различна для каждой из целей и также зависит от семейного положения."
   ]
  },
  {
   "cell_type": "markdown",
   "id": "c02685b3",
   "metadata": {},
   "source": [
    "Вот еще пример расчета конверсии невозвратов с учетом дополнительных зависимостей - конверсия по возврату кредита в срок от семейного положения с учетом числа детей у людей"
   ]
  },
  {
   "cell_type": "code",
   "execution_count": 38,
   "id": "5a1b7ced",
   "metadata": {},
   "outputs": [],
   "source": [
    "#data.groupby(['children', 'family_status'])['debt'].sum()/ \\\n",
    "#data.groupby(['children', 'family_status'])['debt'].count()"
   ]
  },
  {
   "cell_type": "code",
   "execution_count": 39,
   "id": "5e9ea17b",
   "metadata": {
    "scrolled": true
   },
   "outputs": [
    {
     "data": {
      "text/html": [
       "<div>\n",
       "<style scoped>\n",
       "    .dataframe tbody tr th:only-of-type {\n",
       "        vertical-align: middle;\n",
       "    }\n",
       "\n",
       "    .dataframe tbody tr th {\n",
       "        vertical-align: top;\n",
       "    }\n",
       "\n",
       "    .dataframe thead th {\n",
       "        text-align: right;\n",
       "    }\n",
       "</style>\n",
       "<table border=\"1\" class=\"dataframe\">\n",
       "  <thead>\n",
       "    <tr style=\"text-align: right;\">\n",
       "      <th>family_status</th>\n",
       "      <th>Не женат / не замужем</th>\n",
       "      <th>в разводе</th>\n",
       "      <th>вдовец / вдова</th>\n",
       "      <th>гражданский брак</th>\n",
       "      <th>женат / замужем</th>\n",
       "    </tr>\n",
       "    <tr>\n",
       "      <th>children</th>\n",
       "      <th></th>\n",
       "      <th></th>\n",
       "      <th></th>\n",
       "      <th></th>\n",
       "      <th></th>\n",
       "    </tr>\n",
       "  </thead>\n",
       "  <tbody>\n",
       "    <tr>\n",
       "      <th>0</th>\n",
       "      <td>0.092838</td>\n",
       "      <td>0.070153</td>\n",
       "      <td>0.062574</td>\n",
       "      <td>0.083883</td>\n",
       "      <td>0.069095</td>\n",
       "    </tr>\n",
       "    <tr>\n",
       "      <th>1</th>\n",
       "      <td>0.115813</td>\n",
       "      <td>0.067308</td>\n",
       "      <td>0.090909</td>\n",
       "      <td>0.118593</td>\n",
       "      <td>0.082689</td>\n",
       "    </tr>\n",
       "    <tr>\n",
       "      <th>2</th>\n",
       "      <td>0.120000</td>\n",
       "      <td>0.086420</td>\n",
       "      <td>0.150000</td>\n",
       "      <td>0.087464</td>\n",
       "      <td>0.094586</td>\n",
       "    </tr>\n",
       "    <tr>\n",
       "      <th>3</th>\n",
       "      <td>0.125000</td>\n",
       "      <td>0.090909</td>\n",
       "      <td>0.000000</td>\n",
       "      <td>0.142857</td>\n",
       "      <td>0.068273</td>\n",
       "    </tr>\n",
       "    <tr>\n",
       "      <th>4</th>\n",
       "      <td>0.500000</td>\n",
       "      <td>0.000000</td>\n",
       "      <td>0.000000</td>\n",
       "      <td>0.000000</td>\n",
       "      <td>0.103448</td>\n",
       "    </tr>\n",
       "    <tr>\n",
       "      <th>5</th>\n",
       "      <td>NaN</td>\n",
       "      <td>NaN</td>\n",
       "      <td>NaN</td>\n",
       "      <td>0.000000</td>\n",
       "      <td>0.000000</td>\n",
       "    </tr>\n",
       "  </tbody>\n",
       "</table>\n",
       "</div>"
      ],
      "text/plain": [
       "family_status  Не женат / не замужем  в разводе  вдовец / вдова  \\\n",
       "children                                                          \n",
       "0                           0.092838   0.070153        0.062574   \n",
       "1                           0.115813   0.067308        0.090909   \n",
       "2                           0.120000   0.086420        0.150000   \n",
       "3                           0.125000   0.090909        0.000000   \n",
       "4                           0.500000   0.000000        0.000000   \n",
       "5                                NaN        NaN             NaN   \n",
       "\n",
       "family_status  гражданский брак  женат / замужем  \n",
       "children                                          \n",
       "0                      0.083883         0.069095  \n",
       "1                      0.118593         0.082689  \n",
       "2                      0.087464         0.094586  \n",
       "3                      0.142857         0.068273  \n",
       "4                      0.000000         0.103448  \n",
       "5                      0.000000         0.000000  "
      ]
     },
     "execution_count": 39,
     "metadata": {},
     "output_type": "execute_result"
    }
   ],
   "source": [
    "data_pivot = data.pivot_table(index=['children'], columns='family_status', values='debt', aggfunc='mean')\n",
    "data_pivot"
   ]
  },
  {
   "cell_type": "markdown",
   "id": "497e69e6",
   "metadata": {},
   "source": [
    " Для ситуации с отсутствием детей наименьшая конверсия также характерна для семейного положения вдовец/вдова.\n",
    " \n",
    " Для ситуации с 1 ребенком наименьшая конверсия характерна для семейного положения в разводе.\n",
    " \n",
    " Для 2 детей - гражд брак и в разводе и т.д."
   ]
  },
  {
   "cell_type": "markdown",
   "id": "5f186827",
   "metadata": {
    "deletable": false,
    "editable": false,
    "id": "09c3ac4c"
   },
   "source": [
    "#### 3.5 Приведите возможные причины появления пропусков в исходных данных."
   ]
  },
  {
   "cell_type": "markdown",
   "id": "ea27ca05",
   "metadata": {
    "deletable": false,
    "id": "9da2ceda"
   },
   "source": [
    "*Ответ:* \n",
    "Изначально пропуски данных были в двух столбцах: 'days_employed' и 'total_income' по 2174 в каждом (т.е. минимум в каждом 10 значении: 21525/2174, что много для человеческого фактора). Причем значение NaN по столбцам встречались в одних и тех же строках. Значения в остальных строках не коррелируют с пропусками:"
   ]
  },
  {
   "cell_type": "code",
   "execution_count": 40,
   "id": "71e59132",
   "metadata": {},
   "outputs": [
    {
     "data": {
      "text/html": [
       "<div>\n",
       "<style scoped>\n",
       "    .dataframe tbody tr th:only-of-type {\n",
       "        vertical-align: middle;\n",
       "    }\n",
       "\n",
       "    .dataframe tbody tr th {\n",
       "        vertical-align: top;\n",
       "    }\n",
       "\n",
       "    .dataframe thead th {\n",
       "        text-align: right;\n",
       "    }\n",
       "</style>\n",
       "<table border=\"1\" class=\"dataframe\">\n",
       "  <thead>\n",
       "    <tr style=\"text-align: right;\">\n",
       "      <th></th>\n",
       "      <th>children</th>\n",
       "      <th>days_employed</th>\n",
       "      <th>dob_years</th>\n",
       "      <th>education</th>\n",
       "      <th>education_id</th>\n",
       "      <th>family_status</th>\n",
       "      <th>family_status_id</th>\n",
       "      <th>gender</th>\n",
       "      <th>income_type</th>\n",
       "      <th>debt</th>\n",
       "      <th>total_income</th>\n",
       "      <th>purpose</th>\n",
       "    </tr>\n",
       "  </thead>\n",
       "  <tbody>\n",
       "    <tr>\n",
       "      <th>12</th>\n",
       "      <td>0</td>\n",
       "      <td>NaN</td>\n",
       "      <td>65</td>\n",
       "      <td>среднее</td>\n",
       "      <td>1</td>\n",
       "      <td>гражданский брак</td>\n",
       "      <td>1</td>\n",
       "      <td>M</td>\n",
       "      <td>пенсионер</td>\n",
       "      <td>0</td>\n",
       "      <td>NaN</td>\n",
       "      <td>сыграть свадьбу</td>\n",
       "    </tr>\n",
       "    <tr>\n",
       "      <th>26</th>\n",
       "      <td>0</td>\n",
       "      <td>NaN</td>\n",
       "      <td>41</td>\n",
       "      <td>среднее</td>\n",
       "      <td>1</td>\n",
       "      <td>женат / замужем</td>\n",
       "      <td>0</td>\n",
       "      <td>M</td>\n",
       "      <td>госслужащий</td>\n",
       "      <td>0</td>\n",
       "      <td>NaN</td>\n",
       "      <td>образование</td>\n",
       "    </tr>\n",
       "    <tr>\n",
       "      <th>29</th>\n",
       "      <td>0</td>\n",
       "      <td>NaN</td>\n",
       "      <td>63</td>\n",
       "      <td>среднее</td>\n",
       "      <td>1</td>\n",
       "      <td>Не женат / не замужем</td>\n",
       "      <td>4</td>\n",
       "      <td>F</td>\n",
       "      <td>пенсионер</td>\n",
       "      <td>0</td>\n",
       "      <td>NaN</td>\n",
       "      <td>строительство жилой недвижимости</td>\n",
       "    </tr>\n",
       "    <tr>\n",
       "      <th>41</th>\n",
       "      <td>0</td>\n",
       "      <td>NaN</td>\n",
       "      <td>50</td>\n",
       "      <td>среднее</td>\n",
       "      <td>1</td>\n",
       "      <td>женат / замужем</td>\n",
       "      <td>0</td>\n",
       "      <td>F</td>\n",
       "      <td>госслужащий</td>\n",
       "      <td>0</td>\n",
       "      <td>NaN</td>\n",
       "      <td>сделка с подержанным автомобилем</td>\n",
       "    </tr>\n",
       "    <tr>\n",
       "      <th>55</th>\n",
       "      <td>0</td>\n",
       "      <td>NaN</td>\n",
       "      <td>54</td>\n",
       "      <td>среднее</td>\n",
       "      <td>1</td>\n",
       "      <td>гражданский брак</td>\n",
       "      <td>1</td>\n",
       "      <td>F</td>\n",
       "      <td>пенсионер</td>\n",
       "      <td>1</td>\n",
       "      <td>NaN</td>\n",
       "      <td>сыграть свадьбу</td>\n",
       "    </tr>\n",
       "    <tr>\n",
       "      <th>65</th>\n",
       "      <td>0</td>\n",
       "      <td>NaN</td>\n",
       "      <td>21</td>\n",
       "      <td>среднее</td>\n",
       "      <td>1</td>\n",
       "      <td>Не женат / не замужем</td>\n",
       "      <td>4</td>\n",
       "      <td>M</td>\n",
       "      <td>компаньон</td>\n",
       "      <td>0</td>\n",
       "      <td>NaN</td>\n",
       "      <td>операции с коммерческой недвижимостью</td>\n",
       "    </tr>\n",
       "    <tr>\n",
       "      <th>67</th>\n",
       "      <td>0</td>\n",
       "      <td>NaN</td>\n",
       "      <td>52</td>\n",
       "      <td>высшее</td>\n",
       "      <td>0</td>\n",
       "      <td>женат / замужем</td>\n",
       "      <td>0</td>\n",
       "      <td>F</td>\n",
       "      <td>пенсионер</td>\n",
       "      <td>0</td>\n",
       "      <td>NaN</td>\n",
       "      <td>покупка жилья для семьи</td>\n",
       "    </tr>\n",
       "    <tr>\n",
       "      <th>72</th>\n",
       "      <td>1</td>\n",
       "      <td>NaN</td>\n",
       "      <td>32</td>\n",
       "      <td>высшее</td>\n",
       "      <td>0</td>\n",
       "      <td>женат / замужем</td>\n",
       "      <td>0</td>\n",
       "      <td>M</td>\n",
       "      <td>госслужащий</td>\n",
       "      <td>0</td>\n",
       "      <td>NaN</td>\n",
       "      <td>операции с коммерческой недвижимостью</td>\n",
       "    </tr>\n",
       "    <tr>\n",
       "      <th>82</th>\n",
       "      <td>2</td>\n",
       "      <td>NaN</td>\n",
       "      <td>50</td>\n",
       "      <td>высшее</td>\n",
       "      <td>0</td>\n",
       "      <td>женат / замужем</td>\n",
       "      <td>0</td>\n",
       "      <td>F</td>\n",
       "      <td>сотрудник</td>\n",
       "      <td>0</td>\n",
       "      <td>NaN</td>\n",
       "      <td>жилье</td>\n",
       "    </tr>\n",
       "    <tr>\n",
       "      <th>83</th>\n",
       "      <td>0</td>\n",
       "      <td>NaN</td>\n",
       "      <td>52</td>\n",
       "      <td>среднее</td>\n",
       "      <td>1</td>\n",
       "      <td>женат / замужем</td>\n",
       "      <td>0</td>\n",
       "      <td>M</td>\n",
       "      <td>сотрудник</td>\n",
       "      <td>0</td>\n",
       "      <td>NaN</td>\n",
       "      <td>жилье</td>\n",
       "    </tr>\n",
       "    <tr>\n",
       "      <th>90</th>\n",
       "      <td>2</td>\n",
       "      <td>NaN</td>\n",
       "      <td>35</td>\n",
       "      <td>высшее</td>\n",
       "      <td>0</td>\n",
       "      <td>женат / замужем</td>\n",
       "      <td>0</td>\n",
       "      <td>F</td>\n",
       "      <td>сотрудник</td>\n",
       "      <td>0</td>\n",
       "      <td>NaN</td>\n",
       "      <td>операции с жильем</td>\n",
       "    </tr>\n",
       "    <tr>\n",
       "      <th>94</th>\n",
       "      <td>1</td>\n",
       "      <td>NaN</td>\n",
       "      <td>34</td>\n",
       "      <td>высшее</td>\n",
       "      <td>0</td>\n",
       "      <td>гражданский брак</td>\n",
       "      <td>1</td>\n",
       "      <td>F</td>\n",
       "      <td>компаньон</td>\n",
       "      <td>0</td>\n",
       "      <td>NaN</td>\n",
       "      <td>на проведение свадьбы</td>\n",
       "    </tr>\n",
       "    <tr>\n",
       "      <th>96</th>\n",
       "      <td>0</td>\n",
       "      <td>NaN</td>\n",
       "      <td>44</td>\n",
       "      <td>СРЕДНЕЕ</td>\n",
       "      <td>1</td>\n",
       "      <td>женат / замужем</td>\n",
       "      <td>0</td>\n",
       "      <td>F</td>\n",
       "      <td>сотрудник</td>\n",
       "      <td>0</td>\n",
       "      <td>NaN</td>\n",
       "      <td>покупка жилой недвижимости</td>\n",
       "    </tr>\n",
       "    <tr>\n",
       "      <th>97</th>\n",
       "      <td>0</td>\n",
       "      <td>NaN</td>\n",
       "      <td>47</td>\n",
       "      <td>высшее</td>\n",
       "      <td>0</td>\n",
       "      <td>женат / замужем</td>\n",
       "      <td>0</td>\n",
       "      <td>F</td>\n",
       "      <td>сотрудник</td>\n",
       "      <td>0</td>\n",
       "      <td>NaN</td>\n",
       "      <td>профильное образование</td>\n",
       "    </tr>\n",
       "    <tr>\n",
       "      <th>120</th>\n",
       "      <td>0</td>\n",
       "      <td>NaN</td>\n",
       "      <td>46</td>\n",
       "      <td>среднее</td>\n",
       "      <td>1</td>\n",
       "      <td>женат / замужем</td>\n",
       "      <td>0</td>\n",
       "      <td>F</td>\n",
       "      <td>сотрудник</td>\n",
       "      <td>0</td>\n",
       "      <td>NaN</td>\n",
       "      <td>высшее образование</td>\n",
       "    </tr>\n",
       "    <tr>\n",
       "      <th>121</th>\n",
       "      <td>0</td>\n",
       "      <td>NaN</td>\n",
       "      <td>29</td>\n",
       "      <td>высшее</td>\n",
       "      <td>0</td>\n",
       "      <td>женат / замужем</td>\n",
       "      <td>0</td>\n",
       "      <td>F</td>\n",
       "      <td>компаньон</td>\n",
       "      <td>0</td>\n",
       "      <td>NaN</td>\n",
       "      <td>автомобиль</td>\n",
       "    </tr>\n",
       "    <tr>\n",
       "      <th>135</th>\n",
       "      <td>0</td>\n",
       "      <td>NaN</td>\n",
       "      <td>27</td>\n",
       "      <td>среднее</td>\n",
       "      <td>1</td>\n",
       "      <td>женат / замужем</td>\n",
       "      <td>0</td>\n",
       "      <td>M</td>\n",
       "      <td>компаньон</td>\n",
       "      <td>0</td>\n",
       "      <td>NaN</td>\n",
       "      <td>жилье</td>\n",
       "    </tr>\n",
       "    <tr>\n",
       "      <th>141</th>\n",
       "      <td>0</td>\n",
       "      <td>NaN</td>\n",
       "      <td>39</td>\n",
       "      <td>среднее</td>\n",
       "      <td>1</td>\n",
       "      <td>гражданский брак</td>\n",
       "      <td>1</td>\n",
       "      <td>M</td>\n",
       "      <td>сотрудник</td>\n",
       "      <td>0</td>\n",
       "      <td>NaN</td>\n",
       "      <td>свадьба</td>\n",
       "    </tr>\n",
       "    <tr>\n",
       "      <th>145</th>\n",
       "      <td>0</td>\n",
       "      <td>NaN</td>\n",
       "      <td>62</td>\n",
       "      <td>среднее</td>\n",
       "      <td>1</td>\n",
       "      <td>женат / замужем</td>\n",
       "      <td>0</td>\n",
       "      <td>M</td>\n",
       "      <td>пенсионер</td>\n",
       "      <td>0</td>\n",
       "      <td>NaN</td>\n",
       "      <td>строительство недвижимости</td>\n",
       "    </tr>\n",
       "    <tr>\n",
       "      <th>174</th>\n",
       "      <td>0</td>\n",
       "      <td>NaN</td>\n",
       "      <td>55</td>\n",
       "      <td>высшее</td>\n",
       "      <td>0</td>\n",
       "      <td>вдовец / вдова</td>\n",
       "      <td>2</td>\n",
       "      <td>F</td>\n",
       "      <td>компаньон</td>\n",
       "      <td>0</td>\n",
       "      <td>NaN</td>\n",
       "      <td>свой автомобиль</td>\n",
       "    </tr>\n",
       "    <tr>\n",
       "      <th>181</th>\n",
       "      <td>0</td>\n",
       "      <td>NaN</td>\n",
       "      <td>26</td>\n",
       "      <td>среднее</td>\n",
       "      <td>1</td>\n",
       "      <td>гражданский брак</td>\n",
       "      <td>1</td>\n",
       "      <td>F</td>\n",
       "      <td>компаньон</td>\n",
       "      <td>1</td>\n",
       "      <td>NaN</td>\n",
       "      <td>покупка жилья для семьи</td>\n",
       "    </tr>\n",
       "    <tr>\n",
       "      <th>189</th>\n",
       "      <td>1</td>\n",
       "      <td>NaN</td>\n",
       "      <td>30</td>\n",
       "      <td>среднее</td>\n",
       "      <td>1</td>\n",
       "      <td>Не женат / не замужем</td>\n",
       "      <td>4</td>\n",
       "      <td>F</td>\n",
       "      <td>сотрудник</td>\n",
       "      <td>0</td>\n",
       "      <td>NaN</td>\n",
       "      <td>свой автомобиль</td>\n",
       "    </tr>\n",
       "    <tr>\n",
       "      <th>205</th>\n",
       "      <td>1</td>\n",
       "      <td>NaN</td>\n",
       "      <td>31</td>\n",
       "      <td>высшее</td>\n",
       "      <td>0</td>\n",
       "      <td>женат / замужем</td>\n",
       "      <td>0</td>\n",
       "      <td>F</td>\n",
       "      <td>сотрудник</td>\n",
       "      <td>0</td>\n",
       "      <td>NaN</td>\n",
       "      <td>на покупку подержанного автомобиля</td>\n",
       "    </tr>\n",
       "    <tr>\n",
       "      <th>220</th>\n",
       "      <td>1</td>\n",
       "      <td>NaN</td>\n",
       "      <td>23</td>\n",
       "      <td>неоконченное высшее</td>\n",
       "      <td>2</td>\n",
       "      <td>гражданский брак</td>\n",
       "      <td>1</td>\n",
       "      <td>F</td>\n",
       "      <td>компаньон</td>\n",
       "      <td>0</td>\n",
       "      <td>NaN</td>\n",
       "      <td>сыграть свадьбу</td>\n",
       "    </tr>\n",
       "    <tr>\n",
       "      <th>241</th>\n",
       "      <td>0</td>\n",
       "      <td>NaN</td>\n",
       "      <td>47</td>\n",
       "      <td>среднее</td>\n",
       "      <td>1</td>\n",
       "      <td>женат / замужем</td>\n",
       "      <td>0</td>\n",
       "      <td>M</td>\n",
       "      <td>сотрудник</td>\n",
       "      <td>0</td>\n",
       "      <td>NaN</td>\n",
       "      <td>строительство собственной недвижимости</td>\n",
       "    </tr>\n",
       "    <tr>\n",
       "      <th>242</th>\n",
       "      <td>0</td>\n",
       "      <td>NaN</td>\n",
       "      <td>58</td>\n",
       "      <td>среднее</td>\n",
       "      <td>1</td>\n",
       "      <td>женат / замужем</td>\n",
       "      <td>0</td>\n",
       "      <td>F</td>\n",
       "      <td>госслужащий</td>\n",
       "      <td>0</td>\n",
       "      <td>NaN</td>\n",
       "      <td>покупка своего жилья</td>\n",
       "    </tr>\n",
       "    <tr>\n",
       "      <th>247</th>\n",
       "      <td>1</td>\n",
       "      <td>NaN</td>\n",
       "      <td>60</td>\n",
       "      <td>высшее</td>\n",
       "      <td>0</td>\n",
       "      <td>женат / замужем</td>\n",
       "      <td>0</td>\n",
       "      <td>F</td>\n",
       "      <td>пенсионер</td>\n",
       "      <td>1</td>\n",
       "      <td>NaN</td>\n",
       "      <td>заняться высшим образованием</td>\n",
       "    </tr>\n",
       "    <tr>\n",
       "      <th>250</th>\n",
       "      <td>0</td>\n",
       "      <td>NaN</td>\n",
       "      <td>54</td>\n",
       "      <td>высшее</td>\n",
       "      <td>0</td>\n",
       "      <td>женат / замужем</td>\n",
       "      <td>0</td>\n",
       "      <td>F</td>\n",
       "      <td>сотрудник</td>\n",
       "      <td>0</td>\n",
       "      <td>NaN</td>\n",
       "      <td>сделка с подержанным автомобилем</td>\n",
       "    </tr>\n",
       "    <tr>\n",
       "      <th>264</th>\n",
       "      <td>2</td>\n",
       "      <td>NaN</td>\n",
       "      <td>40</td>\n",
       "      <td>среднее</td>\n",
       "      <td>1</td>\n",
       "      <td>в разводе</td>\n",
       "      <td>3</td>\n",
       "      <td>F</td>\n",
       "      <td>сотрудник</td>\n",
       "      <td>0</td>\n",
       "      <td>NaN</td>\n",
       "      <td>недвижимость</td>\n",
       "    </tr>\n",
       "    <tr>\n",
       "      <th>278</th>\n",
       "      <td>1</td>\n",
       "      <td>NaN</td>\n",
       "      <td>23</td>\n",
       "      <td>Среднее</td>\n",
       "      <td>1</td>\n",
       "      <td>гражданский брак</td>\n",
       "      <td>1</td>\n",
       "      <td>F</td>\n",
       "      <td>сотрудник</td>\n",
       "      <td>1</td>\n",
       "      <td>NaN</td>\n",
       "      <td>автомобиль</td>\n",
       "    </tr>\n",
       "  </tbody>\n",
       "</table>\n",
       "</div>"
      ],
      "text/plain": [
       "     children  days_employed  dob_years            education  education_id  \\\n",
       "12          0            NaN         65              среднее             1   \n",
       "26          0            NaN         41              среднее             1   \n",
       "29          0            NaN         63              среднее             1   \n",
       "41          0            NaN         50              среднее             1   \n",
       "55          0            NaN         54              среднее             1   \n",
       "65          0            NaN         21              среднее             1   \n",
       "67          0            NaN         52               высшее             0   \n",
       "72          1            NaN         32               высшее             0   \n",
       "82          2            NaN         50               высшее             0   \n",
       "83          0            NaN         52              среднее             1   \n",
       "90          2            NaN         35               высшее             0   \n",
       "94          1            NaN         34               высшее             0   \n",
       "96          0            NaN         44              СРЕДНЕЕ             1   \n",
       "97          0            NaN         47               высшее             0   \n",
       "120         0            NaN         46              среднее             1   \n",
       "121         0            NaN         29               высшее             0   \n",
       "135         0            NaN         27              среднее             1   \n",
       "141         0            NaN         39              среднее             1   \n",
       "145         0            NaN         62              среднее             1   \n",
       "174         0            NaN         55               высшее             0   \n",
       "181         0            NaN         26              среднее             1   \n",
       "189         1            NaN         30              среднее             1   \n",
       "205         1            NaN         31               высшее             0   \n",
       "220         1            NaN         23  неоконченное высшее             2   \n",
       "241         0            NaN         47              среднее             1   \n",
       "242         0            NaN         58              среднее             1   \n",
       "247         1            NaN         60               высшее             0   \n",
       "250         0            NaN         54               высшее             0   \n",
       "264         2            NaN         40              среднее             1   \n",
       "278         1            NaN         23              Среднее             1   \n",
       "\n",
       "             family_status  family_status_id gender  income_type  debt  \\\n",
       "12        гражданский брак                 1      M    пенсионер     0   \n",
       "26         женат / замужем                 0      M  госслужащий     0   \n",
       "29   Не женат / не замужем                 4      F    пенсионер     0   \n",
       "41         женат / замужем                 0      F  госслужащий     0   \n",
       "55        гражданский брак                 1      F    пенсионер     1   \n",
       "65   Не женат / не замужем                 4      M    компаньон     0   \n",
       "67         женат / замужем                 0      F    пенсионер     0   \n",
       "72         женат / замужем                 0      M  госслужащий     0   \n",
       "82         женат / замужем                 0      F    сотрудник     0   \n",
       "83         женат / замужем                 0      M    сотрудник     0   \n",
       "90         женат / замужем                 0      F    сотрудник     0   \n",
       "94        гражданский брак                 1      F    компаньон     0   \n",
       "96         женат / замужем                 0      F    сотрудник     0   \n",
       "97         женат / замужем                 0      F    сотрудник     0   \n",
       "120        женат / замужем                 0      F    сотрудник     0   \n",
       "121        женат / замужем                 0      F    компаньон     0   \n",
       "135        женат / замужем                 0      M    компаньон     0   \n",
       "141       гражданский брак                 1      M    сотрудник     0   \n",
       "145        женат / замужем                 0      M    пенсионер     0   \n",
       "174         вдовец / вдова                 2      F    компаньон     0   \n",
       "181       гражданский брак                 1      F    компаньон     1   \n",
       "189  Не женат / не замужем                 4      F    сотрудник     0   \n",
       "205        женат / замужем                 0      F    сотрудник     0   \n",
       "220       гражданский брак                 1      F    компаньон     0   \n",
       "241        женат / замужем                 0      M    сотрудник     0   \n",
       "242        женат / замужем                 0      F  госслужащий     0   \n",
       "247        женат / замужем                 0      F    пенсионер     1   \n",
       "250        женат / замужем                 0      F    сотрудник     0   \n",
       "264              в разводе                 3      F    сотрудник     0   \n",
       "278       гражданский брак                 1      F    сотрудник     1   \n",
       "\n",
       "     total_income                                 purpose  \n",
       "12            NaN                         сыграть свадьбу  \n",
       "26            NaN                             образование  \n",
       "29            NaN        строительство жилой недвижимости  \n",
       "41            NaN        сделка с подержанным автомобилем  \n",
       "55            NaN                         сыграть свадьбу  \n",
       "65            NaN   операции с коммерческой недвижимостью  \n",
       "67            NaN                 покупка жилья для семьи  \n",
       "72            NaN   операции с коммерческой недвижимостью  \n",
       "82            NaN                                   жилье  \n",
       "83            NaN                                   жилье  \n",
       "90            NaN                       операции с жильем  \n",
       "94            NaN                   на проведение свадьбы  \n",
       "96            NaN              покупка жилой недвижимости  \n",
       "97            NaN                  профильное образование  \n",
       "120           NaN                      высшее образование  \n",
       "121           NaN                              автомобиль  \n",
       "135           NaN                                   жилье  \n",
       "141           NaN                                 свадьба  \n",
       "145           NaN              строительство недвижимости  \n",
       "174           NaN                         свой автомобиль  \n",
       "181           NaN                 покупка жилья для семьи  \n",
       "189           NaN                         свой автомобиль  \n",
       "205           NaN      на покупку подержанного автомобиля  \n",
       "220           NaN                         сыграть свадьбу  \n",
       "241           NaN  строительство собственной недвижимости  \n",
       "242           NaN                    покупка своего жилья  \n",
       "247           NaN            заняться высшим образованием  \n",
       "250           NaN        сделка с подержанным автомобилем  \n",
       "264           NaN                            недвижимость  \n",
       "278           NaN                              автомобиль  "
      ]
     },
     "execution_count": 40,
     "metadata": {},
     "output_type": "execute_result"
    }
   ],
   "source": [
    "data1"
   ]
  },
  {
   "cell_type": "markdown",
   "id": "1b4c2b18",
   "metadata": {},
   "source": [
    "**Вывод:** Скорее всего имел место технологический фактор - сбой в процессе копирования, считывания, смены формата или записи данных."
   ]
  },
  {
   "cell_type": "markdown",
   "id": "6649db8a",
   "metadata": {
    "deletable": false,
    "editable": false,
    "id": "7b0487d6"
   },
   "source": [
    "#### 3.6 Объясните, почему заполнить пропуски медианным значением — лучшее решение для количественных переменных."
   ]
  },
  {
   "cell_type": "markdown",
   "id": "1474e4f2",
   "metadata": {
    "deletable": false,
    "id": "7ecf2b8e"
   },
   "source": [
    "*Ответ:* \n",
    "На примере решаемой задачи мы столкнулись с ситуацией, когда в столбце 'days_employed' было 2 аномально больших значения. Если бы мы заполнили пропуски в этом столбце не медианными, а средними значениями по каждому типу занятости 'income_type', мы бы получили смещенное в большую сторону значение, которое бы хуже отражало реальные данные."
   ]
  },
  {
   "cell_type": "markdown",
   "id": "bf411506",
   "metadata": {
    "deletable": false,
    "editable": false,
    "id": "6db5255a"
   },
   "source": [
    "### Шаг 4: общий вывод."
   ]
  },
  {
   "cell_type": "markdown",
   "id": "9545fe2f",
   "metadata": {
    "deletable": false,
    "id": "bad65432"
   },
   "source": [
    "Изначально в описании проекта была задача - разобраться, влияет ли семейное положение и количество детей клиента на факт погашения кредита в срок.\n",
    "\n",
    "В ходе решения задачи получены конверсии по возврату кредитов для людей с разных количеством детей, разным семейным положением, разным доходом и для разных целей. Во всех случаях наблюдалась определенная зависимость: возврат кредита зависит от всех перечисленных факторов. \n",
    "\n",
    "В ряде случаев значение конверсии нельзя назвать объективным из-за малого объема статистики по случаям, что может быть причиной неправильных выводов. \n",
    "\n",
    "Кроме того, в проекте были исследованы простые зависимости. Если мы зададимся дополнительными зависимостями, например, посчитаем конверсию по возврату кредита в срок от семейного положения с учетом числа детей у людей, то ситуация изменится (см. расчет выше, где применял метод pivot_table())\n"
   ]
  }
 ],
 "metadata": {
  "ExecuteTimeLog": [
   {
    "duration": 495,
    "start_time": "2022-11-21T12:11:31.171Z"
   },
   {
    "duration": 26,
    "start_time": "2022-11-21T12:11:31.668Z"
   },
   {
    "duration": 17,
    "start_time": "2022-11-21T12:11:31.697Z"
   },
   {
    "duration": 17,
    "start_time": "2022-11-21T12:11:31.716Z"
   },
   {
    "duration": 52,
    "start_time": "2022-11-21T12:11:31.737Z"
   },
   {
    "duration": 4,
    "start_time": "2022-11-21T12:11:31.791Z"
   },
   {
    "duration": 13,
    "start_time": "2022-11-21T12:11:31.797Z"
   },
   {
    "duration": 5,
    "start_time": "2022-11-21T12:11:31.812Z"
   },
   {
    "duration": 40,
    "start_time": "2022-11-21T12:11:31.820Z"
   },
   {
    "duration": 5,
    "start_time": "2022-11-21T12:11:31.862Z"
   },
   {
    "duration": 40,
    "start_time": "2022-11-21T12:11:31.868Z"
   },
   {
    "duration": 10,
    "start_time": "2022-11-21T12:11:31.910Z"
   },
   {
    "duration": 33,
    "start_time": "2022-11-21T12:11:31.922Z"
   },
   {
    "duration": 15,
    "start_time": "2022-11-21T12:11:31.958Z"
   },
   {
    "duration": 38,
    "start_time": "2022-11-21T12:11:31.975Z"
   },
   {
    "duration": 42,
    "start_time": "2022-11-21T12:11:32.015Z"
   },
   {
    "duration": 5,
    "start_time": "2022-11-21T12:11:32.059Z"
   },
   {
    "duration": 23,
    "start_time": "2022-11-21T12:11:32.066Z"
   },
   {
    "duration": 9,
    "start_time": "2022-11-21T12:11:32.091Z"
   },
   {
    "duration": 4,
    "start_time": "2022-11-21T12:11:32.103Z"
   },
   {
    "duration": 26,
    "start_time": "2022-11-21T12:11:32.109Z"
   },
   {
    "duration": 18,
    "start_time": "2022-11-21T12:11:32.137Z"
   },
   {
    "duration": 8,
    "start_time": "2022-11-21T12:11:32.157Z"
   },
   {
    "duration": 23,
    "start_time": "2022-11-21T12:11:32.167Z"
   },
   {
    "duration": 11,
    "start_time": "2022-11-21T12:11:32.192Z"
   },
   {
    "duration": 7,
    "start_time": "2022-11-21T12:14:26.588Z"
   },
   {
    "duration": 7,
    "start_time": "2022-11-21T12:14:52.928Z"
   },
   {
    "duration": 8,
    "start_time": "2022-11-21T12:15:13.996Z"
   },
   {
    "duration": 69,
    "start_time": "2022-11-21T12:19:51.685Z"
   },
   {
    "duration": 11,
    "start_time": "2022-11-21T12:20:07.024Z"
   },
   {
    "duration": 8,
    "start_time": "2022-11-21T12:20:12.523Z"
   },
   {
    "duration": 26,
    "start_time": "2022-11-21T12:20:18.110Z"
   },
   {
    "duration": 8,
    "start_time": "2022-11-21T12:20:30.293Z"
   },
   {
    "duration": 10,
    "start_time": "2022-11-21T12:20:37.057Z"
   },
   {
    "duration": 8,
    "start_time": "2022-11-21T12:21:04.811Z"
   },
   {
    "duration": 8,
    "start_time": "2022-11-21T12:21:18.198Z"
   },
   {
    "duration": 9,
    "start_time": "2022-11-21T12:21:24.537Z"
   },
   {
    "duration": 7,
    "start_time": "2022-11-21T12:26:43.084Z"
   },
   {
    "duration": 5,
    "start_time": "2022-11-21T12:28:52.709Z"
   },
   {
    "duration": 10,
    "start_time": "2022-11-21T12:36:38.573Z"
   },
   {
    "duration": 73,
    "start_time": "2022-11-21T14:10:55.307Z"
   },
   {
    "duration": 15,
    "start_time": "2022-11-21T14:10:55.383Z"
   },
   {
    "duration": 49,
    "start_time": "2022-11-21T14:10:55.400Z"
   },
   {
    "duration": 25,
    "start_time": "2022-11-21T14:10:55.451Z"
   },
   {
    "duration": 57,
    "start_time": "2022-11-21T14:10:55.479Z"
   },
   {
    "duration": 3,
    "start_time": "2022-11-21T14:10:55.538Z"
   },
   {
    "duration": 41,
    "start_time": "2022-11-21T14:10:55.543Z"
   },
   {
    "duration": 19,
    "start_time": "2022-11-21T14:10:55.586Z"
   },
   {
    "duration": 35,
    "start_time": "2022-11-21T14:10:55.606Z"
   },
   {
    "duration": 20,
    "start_time": "2022-11-21T14:10:55.643Z"
   },
   {
    "duration": 71,
    "start_time": "2022-11-21T14:10:55.665Z"
   },
   {
    "duration": 11,
    "start_time": "2022-11-21T14:10:55.738Z"
   },
   {
    "duration": 27,
    "start_time": "2022-11-21T14:10:55.752Z"
   },
   {
    "duration": 45,
    "start_time": "2022-11-21T14:10:55.783Z"
   },
   {
    "duration": 60,
    "start_time": "2022-11-21T14:10:55.831Z"
   },
   {
    "duration": 27,
    "start_time": "2022-11-21T14:10:55.894Z"
   },
   {
    "duration": 4,
    "start_time": "2022-11-21T14:10:55.923Z"
   },
   {
    "duration": 60,
    "start_time": "2022-11-21T14:10:55.929Z"
   },
   {
    "duration": 28,
    "start_time": "2022-11-21T14:10:55.991Z"
   },
   {
    "duration": 28,
    "start_time": "2022-11-21T14:10:56.021Z"
   },
   {
    "duration": 41,
    "start_time": "2022-11-21T14:10:56.051Z"
   },
   {
    "duration": 39,
    "start_time": "2022-11-21T14:10:56.094Z"
   },
   {
    "duration": 33,
    "start_time": "2022-11-21T14:10:56.136Z"
   },
   {
    "duration": 31,
    "start_time": "2022-11-21T14:10:56.171Z"
   },
   {
    "duration": 28,
    "start_time": "2022-11-21T14:10:56.204Z"
   },
   {
    "duration": 44,
    "start_time": "2022-11-21T14:10:56.234Z"
   },
   {
    "duration": 20,
    "start_time": "2022-11-21T14:10:56.280Z"
   },
   {
    "duration": 36,
    "start_time": "2022-11-21T14:10:56.302Z"
   },
   {
    "duration": 9,
    "start_time": "2022-11-21T14:24:22.643Z"
   },
   {
    "duration": 12,
    "start_time": "2022-11-21T14:24:30.263Z"
   },
   {
    "duration": 8,
    "start_time": "2022-11-21T14:24:43.859Z"
   },
   {
    "duration": 9,
    "start_time": "2022-11-21T14:25:00.364Z"
   },
   {
    "duration": 5,
    "start_time": "2022-11-21T14:25:14.290Z"
   },
   {
    "duration": 5,
    "start_time": "2022-11-21T14:25:31.788Z"
   },
   {
    "duration": 76,
    "start_time": "2022-11-21T14:25:38.297Z"
   },
   {
    "duration": 20,
    "start_time": "2022-11-21T14:25:38.375Z"
   },
   {
    "duration": 23,
    "start_time": "2022-11-21T14:25:38.397Z"
   },
   {
    "duration": 37,
    "start_time": "2022-11-21T14:25:38.422Z"
   },
   {
    "duration": 37,
    "start_time": "2022-11-21T14:25:38.461Z"
   },
   {
    "duration": 4,
    "start_time": "2022-11-21T14:25:38.500Z"
   },
   {
    "duration": 11,
    "start_time": "2022-11-21T14:25:38.506Z"
   },
   {
    "duration": 5,
    "start_time": "2022-11-21T14:25:38.519Z"
   },
   {
    "duration": 8,
    "start_time": "2022-11-21T14:25:38.554Z"
   },
   {
    "duration": 7,
    "start_time": "2022-11-21T14:25:38.564Z"
   },
   {
    "duration": 51,
    "start_time": "2022-11-21T14:25:38.572Z"
   },
   {
    "duration": 10,
    "start_time": "2022-11-21T14:25:38.625Z"
   },
   {
    "duration": 4,
    "start_time": "2022-11-21T14:25:38.654Z"
   },
   {
    "duration": 14,
    "start_time": "2022-11-21T14:25:38.660Z"
   },
   {
    "duration": 25,
    "start_time": "2022-11-21T14:25:38.676Z"
   },
   {
    "duration": 19,
    "start_time": "2022-11-21T14:25:38.703Z"
   },
   {
    "duration": 4,
    "start_time": "2022-11-21T14:25:38.724Z"
   },
   {
    "duration": 36,
    "start_time": "2022-11-21T14:25:38.729Z"
   },
   {
    "duration": 9,
    "start_time": "2022-11-21T14:25:38.767Z"
   },
   {
    "duration": 5,
    "start_time": "2022-11-21T14:25:38.778Z"
   },
   {
    "duration": 13,
    "start_time": "2022-11-21T14:25:38.785Z"
   },
   {
    "duration": 8,
    "start_time": "2022-11-21T14:25:38.800Z"
   },
   {
    "duration": 5,
    "start_time": "2022-11-21T14:25:38.810Z"
   },
   {
    "duration": 42,
    "start_time": "2022-11-21T14:25:38.818Z"
   },
   {
    "duration": 6,
    "start_time": "2022-11-21T14:25:38.862Z"
   },
   {
    "duration": 12,
    "start_time": "2022-11-21T14:25:38.870Z"
   },
   {
    "duration": 2,
    "start_time": "2022-11-21T14:25:38.884Z"
   },
   {
    "duration": 7,
    "start_time": "2022-11-21T14:25:38.888Z"
   },
   {
    "duration": 6,
    "start_time": "2022-11-21T14:25:38.896Z"
   },
   {
    "duration": 7,
    "start_time": "2022-11-21T14:26:03.629Z"
   },
   {
    "duration": 5,
    "start_time": "2022-11-21T14:26:53.763Z"
   },
   {
    "duration": 7,
    "start_time": "2022-11-21T14:29:43.948Z"
   },
   {
    "duration": 77,
    "start_time": "2022-11-21T14:30:09.639Z"
   },
   {
    "duration": 16,
    "start_time": "2022-11-21T14:30:09.718Z"
   },
   {
    "duration": 38,
    "start_time": "2022-11-21T14:30:09.737Z"
   },
   {
    "duration": 22,
    "start_time": "2022-11-21T14:30:09.777Z"
   },
   {
    "duration": 39,
    "start_time": "2022-11-21T14:30:09.801Z"
   },
   {
    "duration": 4,
    "start_time": "2022-11-21T14:30:09.842Z"
   },
   {
    "duration": 17,
    "start_time": "2022-11-21T14:30:09.847Z"
   },
   {
    "duration": 6,
    "start_time": "2022-11-21T14:30:10.064Z"
   },
   {
    "duration": 17,
    "start_time": "2022-11-21T14:30:10.072Z"
   },
   {
    "duration": 18,
    "start_time": "2022-11-21T14:30:10.091Z"
   },
   {
    "duration": 40,
    "start_time": "2022-11-21T14:30:10.111Z"
   },
   {
    "duration": 10,
    "start_time": "2022-11-21T14:30:10.154Z"
   },
   {
    "duration": 23,
    "start_time": "2022-11-21T14:30:10.166Z"
   },
   {
    "duration": 23,
    "start_time": "2022-11-21T14:30:10.191Z"
   },
   {
    "duration": 35,
    "start_time": "2022-11-21T14:30:10.216Z"
   },
   {
    "duration": 19,
    "start_time": "2022-11-21T14:30:10.253Z"
   },
   {
    "duration": 15,
    "start_time": "2022-11-21T14:30:10.275Z"
   },
   {
    "duration": 25,
    "start_time": "2022-11-21T14:30:10.291Z"
   },
   {
    "duration": 7,
    "start_time": "2022-11-21T14:30:10.318Z"
   },
   {
    "duration": 13,
    "start_time": "2022-11-21T14:30:10.327Z"
   },
   {
    "duration": 15,
    "start_time": "2022-11-21T14:30:10.344Z"
   },
   {
    "duration": 7,
    "start_time": "2022-11-21T14:30:10.361Z"
   },
   {
    "duration": 21,
    "start_time": "2022-11-21T14:30:10.370Z"
   },
   {
    "duration": 10,
    "start_time": "2022-11-21T14:30:10.393Z"
   },
   {
    "duration": 6,
    "start_time": "2022-11-21T14:30:10.404Z"
   },
   {
    "duration": 8,
    "start_time": "2022-11-21T14:30:10.412Z"
   },
   {
    "duration": 11,
    "start_time": "2022-11-21T14:30:10.422Z"
   },
   {
    "duration": 18,
    "start_time": "2022-11-21T14:30:10.435Z"
   },
   {
    "duration": 7,
    "start_time": "2022-11-21T14:30:10.455Z"
   },
   {
    "duration": 12,
    "start_time": "2022-11-21T14:30:10.464Z"
   },
   {
    "duration": 5,
    "start_time": "2022-11-21T14:30:27.223Z"
   },
   {
    "duration": 7,
    "start_time": "2022-11-21T14:30:46.768Z"
   },
   {
    "duration": 11,
    "start_time": "2022-11-21T14:31:12.984Z"
   },
   {
    "duration": 548,
    "start_time": "2022-11-21T16:08:44.294Z"
   },
   {
    "duration": 30,
    "start_time": "2022-11-21T16:08:44.846Z"
   },
   {
    "duration": 27,
    "start_time": "2022-11-21T16:08:44.878Z"
   },
   {
    "duration": 13,
    "start_time": "2022-11-21T16:08:44.907Z"
   },
   {
    "duration": 74,
    "start_time": "2022-11-21T16:08:44.922Z"
   },
   {
    "duration": 5,
    "start_time": "2022-11-21T16:08:44.998Z"
   },
   {
    "duration": 35,
    "start_time": "2022-11-21T16:08:45.005Z"
   },
   {
    "duration": 36,
    "start_time": "2022-11-21T16:08:45.042Z"
   },
   {
    "duration": 20,
    "start_time": "2022-11-21T16:08:45.080Z"
   },
   {
    "duration": 5,
    "start_time": "2022-11-21T16:08:45.101Z"
   },
   {
    "duration": 52,
    "start_time": "2022-11-21T16:08:45.109Z"
   },
   {
    "duration": 22,
    "start_time": "2022-11-21T16:08:45.163Z"
   },
   {
    "duration": 29,
    "start_time": "2022-11-21T16:08:45.196Z"
   },
   {
    "duration": 17,
    "start_time": "2022-11-21T16:08:45.229Z"
   },
   {
    "duration": 41,
    "start_time": "2022-11-21T16:08:45.248Z"
   },
   {
    "duration": 19,
    "start_time": "2022-11-21T16:08:45.290Z"
   },
   {
    "duration": 4,
    "start_time": "2022-11-21T16:08:45.311Z"
   },
   {
    "duration": 14,
    "start_time": "2022-11-21T16:08:45.317Z"
   },
   {
    "duration": 23,
    "start_time": "2022-11-21T16:08:45.333Z"
   },
   {
    "duration": 9,
    "start_time": "2022-11-21T16:08:45.359Z"
   },
   {
    "duration": 16,
    "start_time": "2022-11-21T16:08:45.371Z"
   },
   {
    "duration": 7,
    "start_time": "2022-11-21T16:08:45.389Z"
   },
   {
    "duration": 7,
    "start_time": "2022-11-21T16:08:45.397Z"
   },
   {
    "duration": 11,
    "start_time": "2022-11-21T16:08:45.405Z"
   },
   {
    "duration": 34,
    "start_time": "2022-11-21T16:08:45.418Z"
   },
   {
    "duration": 15,
    "start_time": "2022-11-21T16:08:45.455Z"
   },
   {
    "duration": 22,
    "start_time": "2022-11-21T16:08:45.473Z"
   },
   {
    "duration": 4,
    "start_time": "2022-11-21T16:08:45.497Z"
   },
   {
    "duration": 5,
    "start_time": "2022-11-21T16:08:45.503Z"
   },
   {
    "duration": 10,
    "start_time": "2022-11-21T16:08:45.510Z"
   },
   {
    "duration": 9,
    "start_time": "2022-11-21T16:08:53.074Z"
   },
   {
    "duration": 9,
    "start_time": "2022-11-21T16:14:02.662Z"
   },
   {
    "duration": 10,
    "start_time": "2022-11-21T16:17:55.101Z"
   },
   {
    "duration": 13,
    "start_time": "2022-11-21T16:18:57.834Z"
   },
   {
    "duration": 15,
    "start_time": "2022-11-21T16:19:06.368Z"
   },
   {
    "duration": 77,
    "start_time": "2022-11-21T16:22:18.556Z"
   },
   {
    "duration": 20,
    "start_time": "2022-11-21T16:22:25.205Z"
   },
   {
    "duration": 10,
    "start_time": "2022-11-21T16:26:27.070Z"
   },
   {
    "duration": 13,
    "start_time": "2022-11-21T16:27:32.111Z"
   },
   {
    "duration": 15,
    "start_time": "2022-11-21T16:35:42.226Z"
   },
   {
    "duration": 75,
    "start_time": "2022-11-21T16:41:00.789Z"
   },
   {
    "duration": 78,
    "start_time": "2022-11-21T16:43:29.844Z"
   },
   {
    "duration": 17,
    "start_time": "2022-11-21T16:44:27.876Z"
   },
   {
    "duration": 80,
    "start_time": "2022-11-21T16:44:59.228Z"
   },
   {
    "duration": 12,
    "start_time": "2022-11-21T16:48:03.379Z"
   },
   {
    "duration": 7,
    "start_time": "2022-11-21T16:49:06.928Z"
   },
   {
    "duration": 9,
    "start_time": "2022-11-21T16:49:17.238Z"
   },
   {
    "duration": 6,
    "start_time": "2022-11-21T16:49:41.226Z"
   },
   {
    "duration": 7,
    "start_time": "2022-11-21T16:50:20.439Z"
   },
   {
    "duration": 11,
    "start_time": "2022-11-21T16:50:40.508Z"
   },
   {
    "duration": 634,
    "start_time": "2022-11-22T06:27:36.985Z"
   },
   {
    "duration": 21,
    "start_time": "2022-11-22T06:27:37.621Z"
   },
   {
    "duration": 26,
    "start_time": "2022-11-22T06:27:37.643Z"
   },
   {
    "duration": 27,
    "start_time": "2022-11-22T06:27:37.671Z"
   },
   {
    "duration": 40,
    "start_time": "2022-11-22T06:27:37.700Z"
   },
   {
    "duration": 4,
    "start_time": "2022-11-22T06:27:37.741Z"
   },
   {
    "duration": 15,
    "start_time": "2022-11-22T06:27:37.747Z"
   },
   {
    "duration": 7,
    "start_time": "2022-11-22T06:27:37.763Z"
   },
   {
    "duration": 18,
    "start_time": "2022-11-22T06:27:37.771Z"
   },
   {
    "duration": 8,
    "start_time": "2022-11-22T06:27:37.791Z"
   },
   {
    "duration": 34,
    "start_time": "2022-11-22T06:27:37.801Z"
   },
   {
    "duration": 10,
    "start_time": "2022-11-22T06:27:37.836Z"
   },
   {
    "duration": 4,
    "start_time": "2022-11-22T06:27:37.848Z"
   },
   {
    "duration": 17,
    "start_time": "2022-11-22T06:27:37.854Z"
   },
   {
    "duration": 36,
    "start_time": "2022-11-22T06:27:37.872Z"
   },
   {
    "duration": 17,
    "start_time": "2022-11-22T06:27:37.909Z"
   },
   {
    "duration": 3,
    "start_time": "2022-11-22T06:27:37.927Z"
   },
   {
    "duration": 13,
    "start_time": "2022-11-22T06:27:37.932Z"
   },
   {
    "duration": 9,
    "start_time": "2022-11-22T06:27:37.946Z"
   },
   {
    "duration": 4,
    "start_time": "2022-11-22T06:27:37.957Z"
   },
   {
    "duration": 13,
    "start_time": "2022-11-22T06:27:37.962Z"
   },
   {
    "duration": 29,
    "start_time": "2022-11-22T06:27:37.977Z"
   },
   {
    "duration": 6,
    "start_time": "2022-11-22T06:27:38.007Z"
   },
   {
    "duration": 14,
    "start_time": "2022-11-22T06:27:38.014Z"
   },
   {
    "duration": 8,
    "start_time": "2022-11-22T06:27:38.029Z"
   },
   {
    "duration": 8,
    "start_time": "2022-11-22T06:27:38.038Z"
   },
   {
    "duration": 10,
    "start_time": "2022-11-22T06:27:38.047Z"
   },
   {
    "duration": 16,
    "start_time": "2022-11-22T06:27:38.058Z"
   },
   {
    "duration": 7,
    "start_time": "2022-11-22T06:27:38.105Z"
   },
   {
    "duration": 7,
    "start_time": "2022-11-22T06:27:38.113Z"
   },
   {
    "duration": 10,
    "start_time": "2022-11-22T06:27:38.121Z"
   },
   {
    "duration": 2,
    "start_time": "2022-11-22T06:27:38.132Z"
   },
   {
    "duration": 8,
    "start_time": "2022-11-22T06:37:27.702Z"
   },
   {
    "duration": 9,
    "start_time": "2022-11-22T06:37:57.541Z"
   },
   {
    "duration": 12,
    "start_time": "2022-11-22T06:38:10.101Z"
   },
   {
    "duration": 4,
    "start_time": "2022-11-22T06:50:15.083Z"
   },
   {
    "duration": 3,
    "start_time": "2022-11-22T06:59:06.037Z"
   },
   {
    "duration": 16,
    "start_time": "2022-11-22T07:04:30.283Z"
   },
   {
    "duration": 68,
    "start_time": "2022-11-22T07:04:42.265Z"
   },
   {
    "duration": 14,
    "start_time": "2022-11-22T07:04:42.335Z"
   },
   {
    "duration": 21,
    "start_time": "2022-11-22T07:04:42.350Z"
   },
   {
    "duration": 32,
    "start_time": "2022-11-22T07:04:42.373Z"
   },
   {
    "duration": 9,
    "start_time": "2022-11-22T07:04:42.407Z"
   },
   {
    "duration": 33,
    "start_time": "2022-11-22T07:04:42.418Z"
   },
   {
    "duration": 3,
    "start_time": "2022-11-22T07:04:42.453Z"
   },
   {
    "duration": 12,
    "start_time": "2022-11-22T07:04:42.457Z"
   },
   {
    "duration": 6,
    "start_time": "2022-11-22T07:04:42.470Z"
   },
   {
    "duration": 5,
    "start_time": "2022-11-22T07:04:42.505Z"
   },
   {
    "duration": 6,
    "start_time": "2022-11-22T07:04:42.512Z"
   },
   {
    "duration": 35,
    "start_time": "2022-11-22T07:04:42.519Z"
   },
   {
    "duration": 10,
    "start_time": "2022-11-22T07:04:42.555Z"
   },
   {
    "duration": 4,
    "start_time": "2022-11-22T07:04:42.568Z"
   },
   {
    "duration": 37,
    "start_time": "2022-11-22T07:04:42.573Z"
   },
   {
    "duration": 20,
    "start_time": "2022-11-22T07:04:42.612Z"
   },
   {
    "duration": 16,
    "start_time": "2022-11-22T07:04:42.634Z"
   },
   {
    "duration": 3,
    "start_time": "2022-11-22T07:04:42.652Z"
   },
   {
    "duration": 15,
    "start_time": "2022-11-22T07:04:42.657Z"
   },
   {
    "duration": 6,
    "start_time": "2022-11-22T07:04:42.674Z"
   },
   {
    "duration": 25,
    "start_time": "2022-11-22T07:04:42.681Z"
   },
   {
    "duration": 11,
    "start_time": "2022-11-22T07:04:42.708Z"
   },
   {
    "duration": 8,
    "start_time": "2022-11-22T07:04:42.721Z"
   },
   {
    "duration": 7,
    "start_time": "2022-11-22T07:04:42.730Z"
   },
   {
    "duration": 9,
    "start_time": "2022-11-22T07:04:42.738Z"
   },
   {
    "duration": 13,
    "start_time": "2022-11-22T07:04:42.748Z"
   },
   {
    "duration": 7,
    "start_time": "2022-11-22T07:04:42.763Z"
   },
   {
    "duration": 42,
    "start_time": "2022-11-22T07:04:42.771Z"
   },
   {
    "duration": 17,
    "start_time": "2022-11-22T07:04:42.814Z"
   },
   {
    "duration": 8,
    "start_time": "2022-11-22T07:04:42.832Z"
   },
   {
    "duration": 9,
    "start_time": "2022-11-22T07:04:42.841Z"
   },
   {
    "duration": 11,
    "start_time": "2022-11-22T07:04:42.852Z"
   },
   {
    "duration": 41,
    "start_time": "2022-11-22T07:04:42.865Z"
   },
   {
    "duration": 9,
    "start_time": "2022-11-22T07:04:42.908Z"
   },
   {
    "duration": 15,
    "start_time": "2022-11-22T07:04:42.918Z"
   },
   {
    "duration": 4,
    "start_time": "2022-11-22T07:04:42.934Z"
   },
   {
    "duration": 7,
    "start_time": "2022-11-22T07:07:00.346Z"
   },
   {
    "duration": 4,
    "start_time": "2022-11-22T07:07:02.757Z"
   },
   {
    "duration": 73,
    "start_time": "2022-11-22T07:07:04.877Z"
   },
   {
    "duration": 15,
    "start_time": "2022-11-22T07:07:04.952Z"
   },
   {
    "duration": 25,
    "start_time": "2022-11-22T07:07:04.969Z"
   },
   {
    "duration": 29,
    "start_time": "2022-11-22T07:07:04.995Z"
   },
   {
    "duration": 40,
    "start_time": "2022-11-22T07:07:05.027Z"
   },
   {
    "duration": 68,
    "start_time": "2022-11-22T07:07:05.068Z"
   },
   {
    "duration": 3,
    "start_time": "2022-11-22T07:07:05.137Z"
   },
   {
    "duration": 54,
    "start_time": "2022-11-22T07:07:05.142Z"
   },
   {
    "duration": 33,
    "start_time": "2022-11-22T07:07:05.198Z"
   },
   {
    "duration": 31,
    "start_time": "2022-11-22T07:07:05.233Z"
   },
   {
    "duration": 21,
    "start_time": "2022-11-22T07:07:05.266Z"
   },
   {
    "duration": 73,
    "start_time": "2022-11-22T07:07:05.288Z"
   },
   {
    "duration": 11,
    "start_time": "2022-11-22T07:07:05.363Z"
   },
   {
    "duration": 43,
    "start_time": "2022-11-22T07:07:05.376Z"
   },
   {
    "duration": 37,
    "start_time": "2022-11-22T07:07:05.421Z"
   },
   {
    "duration": 41,
    "start_time": "2022-11-22T07:07:05.459Z"
   },
   {
    "duration": 23,
    "start_time": "2022-11-22T07:07:05.501Z"
   },
   {
    "duration": 4,
    "start_time": "2022-11-22T07:07:05.526Z"
   },
   {
    "duration": 14,
    "start_time": "2022-11-22T07:07:05.531Z"
   },
   {
    "duration": 17,
    "start_time": "2022-11-22T07:07:05.547Z"
   },
   {
    "duration": 25,
    "start_time": "2022-11-22T07:07:05.566Z"
   },
   {
    "duration": 23,
    "start_time": "2022-11-22T07:07:05.593Z"
   },
   {
    "duration": 15,
    "start_time": "2022-11-22T07:07:05.617Z"
   },
   {
    "duration": 28,
    "start_time": "2022-11-22T07:07:05.634Z"
   },
   {
    "duration": 11,
    "start_time": "2022-11-22T07:07:05.664Z"
   },
   {
    "duration": 8,
    "start_time": "2022-11-22T07:07:05.677Z"
   },
   {
    "duration": 11,
    "start_time": "2022-11-22T07:07:05.686Z"
   },
   {
    "duration": 16,
    "start_time": "2022-11-22T07:07:05.698Z"
   },
   {
    "duration": 15,
    "start_time": "2022-11-22T07:07:05.715Z"
   },
   {
    "duration": 7,
    "start_time": "2022-11-22T07:07:05.731Z"
   },
   {
    "duration": 9,
    "start_time": "2022-11-22T07:07:05.740Z"
   },
   {
    "duration": 10,
    "start_time": "2022-11-22T07:07:05.750Z"
   },
   {
    "duration": 8,
    "start_time": "2022-11-22T07:07:05.761Z"
   },
   {
    "duration": 36,
    "start_time": "2022-11-22T07:07:05.770Z"
   },
   {
    "duration": 12,
    "start_time": "2022-11-22T07:07:05.808Z"
   },
   {
    "duration": 3,
    "start_time": "2022-11-22T07:07:05.822Z"
   },
   {
    "duration": 17,
    "start_time": "2022-11-22T07:13:37.571Z"
   },
   {
    "duration": 67,
    "start_time": "2022-11-22T07:16:11.051Z"
   },
   {
    "duration": 14,
    "start_time": "2022-11-22T07:16:11.120Z"
   },
   {
    "duration": 19,
    "start_time": "2022-11-22T07:16:11.136Z"
   },
   {
    "duration": 30,
    "start_time": "2022-11-22T07:16:11.156Z"
   },
   {
    "duration": 18,
    "start_time": "2022-11-22T07:16:11.188Z"
   },
   {
    "duration": 49,
    "start_time": "2022-11-22T07:16:11.207Z"
   },
   {
    "duration": 4,
    "start_time": "2022-11-22T07:16:11.257Z"
   },
   {
    "duration": 11,
    "start_time": "2022-11-22T07:16:11.262Z"
   },
   {
    "duration": 6,
    "start_time": "2022-11-22T07:16:11.274Z"
   },
   {
    "duration": 21,
    "start_time": "2022-11-22T07:16:11.282Z"
   },
   {
    "duration": 19,
    "start_time": "2022-11-22T07:16:11.304Z"
   },
   {
    "duration": 36,
    "start_time": "2022-11-22T07:16:11.325Z"
   },
   {
    "duration": 9,
    "start_time": "2022-11-22T07:16:11.362Z"
   },
   {
    "duration": 12,
    "start_time": "2022-11-22T07:16:11.374Z"
   },
   {
    "duration": 26,
    "start_time": "2022-11-22T07:16:11.388Z"
   },
   {
    "duration": 34,
    "start_time": "2022-11-22T07:16:11.416Z"
   },
   {
    "duration": 18,
    "start_time": "2022-11-22T07:16:11.452Z"
   },
   {
    "duration": 4,
    "start_time": "2022-11-22T07:16:11.472Z"
   },
   {
    "duration": 85,
    "start_time": "2022-11-22T07:16:11.477Z"
   },
   {
    "duration": 12,
    "start_time": "2022-11-22T07:16:11.563Z"
   },
   {
    "duration": 15,
    "start_time": "2022-11-22T07:16:11.576Z"
   },
   {
    "duration": 39,
    "start_time": "2022-11-22T07:16:11.592Z"
   },
   {
    "duration": 18,
    "start_time": "2022-11-22T07:16:11.632Z"
   },
   {
    "duration": 19,
    "start_time": "2022-11-22T07:16:11.651Z"
   },
   {
    "duration": 9,
    "start_time": "2022-11-22T07:16:11.671Z"
   },
   {
    "duration": 13,
    "start_time": "2022-11-22T07:16:11.681Z"
   },
   {
    "duration": 23,
    "start_time": "2022-11-22T07:16:11.695Z"
   },
   {
    "duration": 16,
    "start_time": "2022-11-22T07:16:11.720Z"
   },
   {
    "duration": 12,
    "start_time": "2022-11-22T07:16:11.737Z"
   },
   {
    "duration": 7,
    "start_time": "2022-11-22T07:16:11.750Z"
   },
   {
    "duration": 14,
    "start_time": "2022-11-22T07:16:11.758Z"
   },
   {
    "duration": 14,
    "start_time": "2022-11-22T07:16:11.773Z"
   },
   {
    "duration": 7,
    "start_time": "2022-11-22T07:16:11.789Z"
   },
   {
    "duration": 14,
    "start_time": "2022-11-22T07:16:11.797Z"
   },
   {
    "duration": 28,
    "start_time": "2022-11-22T07:16:11.813Z"
   },
   {
    "duration": 31,
    "start_time": "2022-11-22T07:16:11.842Z"
   },
   {
    "duration": 13,
    "start_time": "2022-11-22T07:16:11.875Z"
   },
   {
    "duration": 4,
    "start_time": "2022-11-22T07:16:29.794Z"
   },
   {
    "duration": 10,
    "start_time": "2022-11-22T07:16:41.008Z"
   },
   {
    "duration": 68,
    "start_time": "2022-11-22T07:16:43.777Z"
   },
   {
    "duration": 16,
    "start_time": "2022-11-22T07:16:43.846Z"
   },
   {
    "duration": 12,
    "start_time": "2022-11-22T07:16:43.864Z"
   },
   {
    "duration": 8,
    "start_time": "2022-11-22T07:16:43.878Z"
   },
   {
    "duration": 15,
    "start_time": "2022-11-22T07:16:43.904Z"
   },
   {
    "duration": 10,
    "start_time": "2022-11-22T07:16:43.921Z"
   },
   {
    "duration": 35,
    "start_time": "2022-11-22T07:16:43.932Z"
   },
   {
    "duration": 3,
    "start_time": "2022-11-22T07:16:43.969Z"
   },
   {
    "duration": 35,
    "start_time": "2022-11-22T07:16:43.974Z"
   },
   {
    "duration": 4,
    "start_time": "2022-11-22T07:16:44.012Z"
   },
   {
    "duration": 7,
    "start_time": "2022-11-22T07:16:44.017Z"
   },
   {
    "duration": 7,
    "start_time": "2022-11-22T07:16:44.026Z"
   },
   {
    "duration": 35,
    "start_time": "2022-11-22T07:16:44.034Z"
   },
   {
    "duration": 10,
    "start_time": "2022-11-22T07:16:44.070Z"
   },
   {
    "duration": 5,
    "start_time": "2022-11-22T07:16:44.104Z"
   },
   {
    "duration": 14,
    "start_time": "2022-11-22T07:16:44.110Z"
   },
   {
    "duration": 20,
    "start_time": "2022-11-22T07:16:44.126Z"
   },
   {
    "duration": 19,
    "start_time": "2022-11-22T07:16:44.148Z"
   },
   {
    "duration": 4,
    "start_time": "2022-11-22T07:16:44.168Z"
   },
   {
    "duration": 40,
    "start_time": "2022-11-22T07:16:44.173Z"
   },
   {
    "duration": 6,
    "start_time": "2022-11-22T07:16:44.215Z"
   },
   {
    "duration": 8,
    "start_time": "2022-11-22T07:16:44.223Z"
   },
   {
    "duration": 13,
    "start_time": "2022-11-22T07:16:44.233Z"
   },
   {
    "duration": 9,
    "start_time": "2022-11-22T07:16:44.248Z"
   },
   {
    "duration": 6,
    "start_time": "2022-11-22T07:16:44.259Z"
   },
   {
    "duration": 8,
    "start_time": "2022-11-22T07:16:44.267Z"
   },
   {
    "duration": 34,
    "start_time": "2022-11-22T07:16:44.277Z"
   },
   {
    "duration": 13,
    "start_time": "2022-11-22T07:16:44.315Z"
   },
   {
    "duration": 15,
    "start_time": "2022-11-22T07:16:44.330Z"
   },
   {
    "duration": 12,
    "start_time": "2022-11-22T07:16:44.347Z"
   },
   {
    "duration": 8,
    "start_time": "2022-11-22T07:16:44.360Z"
   },
   {
    "duration": 41,
    "start_time": "2022-11-22T07:16:44.369Z"
   },
   {
    "duration": 14,
    "start_time": "2022-11-22T07:16:44.412Z"
   },
   {
    "duration": 9,
    "start_time": "2022-11-22T07:16:44.428Z"
   },
   {
    "duration": 32,
    "start_time": "2022-11-22T07:16:44.439Z"
   },
   {
    "duration": 22,
    "start_time": "2022-11-22T07:16:44.472Z"
   },
   {
    "duration": 21,
    "start_time": "2022-11-22T07:16:44.495Z"
   },
   {
    "duration": 16,
    "start_time": "2022-11-22T07:16:44.518Z"
   },
   {
    "duration": 14,
    "start_time": "2022-11-22T08:08:43.354Z"
   },
   {
    "duration": 68,
    "start_time": "2022-11-22T08:09:25.921Z"
   },
   {
    "duration": 458,
    "start_time": "2022-11-22T08:57:23.636Z"
   },
   {
    "duration": 20,
    "start_time": "2022-11-22T08:57:24.096Z"
   },
   {
    "duration": 4,
    "start_time": "2022-11-22T08:57:24.117Z"
   },
   {
    "duration": 13,
    "start_time": "2022-11-22T08:57:24.123Z"
   },
   {
    "duration": 25,
    "start_time": "2022-11-22T08:57:24.138Z"
   },
   {
    "duration": 9,
    "start_time": "2022-11-22T08:57:24.165Z"
   },
   {
    "duration": 43,
    "start_time": "2022-11-22T08:57:24.175Z"
   },
   {
    "duration": 3,
    "start_time": "2022-11-22T08:57:24.220Z"
   },
   {
    "duration": 33,
    "start_time": "2022-11-22T08:57:24.225Z"
   },
   {
    "duration": 4,
    "start_time": "2022-11-22T08:57:24.262Z"
   },
   {
    "duration": 9,
    "start_time": "2022-11-22T08:57:24.267Z"
   },
   {
    "duration": 7,
    "start_time": "2022-11-22T08:57:24.277Z"
   },
   {
    "duration": 33,
    "start_time": "2022-11-22T08:57:24.285Z"
   },
   {
    "duration": 8,
    "start_time": "2022-11-22T08:57:24.320Z"
   },
   {
    "duration": 5,
    "start_time": "2022-11-22T08:57:24.330Z"
   },
   {
    "duration": 14,
    "start_time": "2022-11-22T08:57:24.337Z"
   },
   {
    "duration": 25,
    "start_time": "2022-11-22T08:57:24.353Z"
   },
   {
    "duration": 24,
    "start_time": "2022-11-22T08:57:24.379Z"
   },
   {
    "duration": 4,
    "start_time": "2022-11-22T08:57:24.404Z"
   },
   {
    "duration": 17,
    "start_time": "2022-11-22T08:57:24.409Z"
   },
   {
    "duration": 6,
    "start_time": "2022-11-22T08:57:24.427Z"
   },
   {
    "duration": 6,
    "start_time": "2022-11-22T08:57:24.434Z"
   },
   {
    "duration": 11,
    "start_time": "2022-11-22T08:57:24.441Z"
   },
   {
    "duration": 5,
    "start_time": "2022-11-22T08:57:24.454Z"
   },
   {
    "duration": 7,
    "start_time": "2022-11-22T08:57:24.461Z"
   },
   {
    "duration": 27,
    "start_time": "2022-11-22T08:57:24.470Z"
   },
   {
    "duration": 8,
    "start_time": "2022-11-22T08:57:24.499Z"
   },
   {
    "duration": 7,
    "start_time": "2022-11-22T08:57:24.509Z"
   },
   {
    "duration": 30,
    "start_time": "2022-11-22T08:57:24.517Z"
   },
   {
    "duration": 10,
    "start_time": "2022-11-22T08:57:24.549Z"
   },
   {
    "duration": 24,
    "start_time": "2022-11-22T08:57:24.560Z"
   },
   {
    "duration": 20,
    "start_time": "2022-11-22T08:57:24.586Z"
   },
   {
    "duration": 19,
    "start_time": "2022-11-22T08:57:24.609Z"
   },
   {
    "duration": 19,
    "start_time": "2022-11-22T08:57:24.630Z"
   },
   {
    "duration": 20,
    "start_time": "2022-11-22T08:57:24.651Z"
   },
   {
    "duration": 26,
    "start_time": "2022-11-22T08:57:24.673Z"
   },
   {
    "duration": 20,
    "start_time": "2022-11-22T08:57:24.702Z"
   },
   {
    "duration": 149,
    "start_time": "2022-11-22T09:25:02.790Z"
   },
   {
    "duration": 112,
    "start_time": "2022-11-22T09:48:46.939Z"
   },
   {
    "duration": 86,
    "start_time": "2022-11-22T09:48:50.171Z"
   },
   {
    "duration": 16,
    "start_time": "2022-11-22T09:48:50.258Z"
   },
   {
    "duration": 47,
    "start_time": "2022-11-22T09:48:50.276Z"
   },
   {
    "duration": 7,
    "start_time": "2022-11-22T09:48:50.326Z"
   },
   {
    "duration": 38,
    "start_time": "2022-11-22T09:48:50.335Z"
   },
   {
    "duration": 27,
    "start_time": "2022-11-22T09:48:50.375Z"
   },
   {
    "duration": 51,
    "start_time": "2022-11-22T09:48:50.408Z"
   },
   {
    "duration": 5,
    "start_time": "2022-11-22T09:48:50.461Z"
   },
   {
    "duration": 45,
    "start_time": "2022-11-22T09:48:50.468Z"
   },
   {
    "duration": 39,
    "start_time": "2022-11-22T09:48:50.518Z"
   },
   {
    "duration": 37,
    "start_time": "2022-11-22T09:48:50.559Z"
   },
   {
    "duration": 34,
    "start_time": "2022-11-22T09:48:50.598Z"
   },
   {
    "duration": 95,
    "start_time": "2022-11-22T09:48:50.634Z"
   },
   {
    "duration": 14,
    "start_time": "2022-11-22T09:48:50.733Z"
   },
   {
    "duration": 34,
    "start_time": "2022-11-22T09:48:50.749Z"
   },
   {
    "duration": 35,
    "start_time": "2022-11-22T09:48:50.785Z"
   },
   {
    "duration": 53,
    "start_time": "2022-11-22T09:48:50.821Z"
   },
   {
    "duration": 27,
    "start_time": "2022-11-22T09:48:50.875Z"
   },
   {
    "duration": 33,
    "start_time": "2022-11-22T09:48:50.904Z"
   },
   {
    "duration": 43,
    "start_time": "2022-11-22T09:48:50.939Z"
   },
   {
    "duration": 41,
    "start_time": "2022-11-22T09:48:50.984Z"
   },
   {
    "duration": 36,
    "start_time": "2022-11-22T09:48:51.027Z"
   },
   {
    "duration": 50,
    "start_time": "2022-11-22T09:48:51.065Z"
   },
   {
    "duration": 63,
    "start_time": "2022-11-22T09:48:51.116Z"
   },
   {
    "duration": 22,
    "start_time": "2022-11-22T09:48:51.181Z"
   },
   {
    "duration": 39,
    "start_time": "2022-11-22T09:48:51.205Z"
   },
   {
    "duration": 23,
    "start_time": "2022-11-22T09:48:51.246Z"
   },
   {
    "duration": 28,
    "start_time": "2022-11-22T09:48:51.271Z"
   },
   {
    "duration": 41,
    "start_time": "2022-11-22T09:48:51.301Z"
   },
   {
    "duration": 29,
    "start_time": "2022-11-22T09:48:51.344Z"
   },
   {
    "duration": 0,
    "start_time": "2022-11-22T09:48:51.374Z"
   },
   {
    "duration": 0,
    "start_time": "2022-11-22T09:48:51.376Z"
   },
   {
    "duration": 0,
    "start_time": "2022-11-22T09:48:51.377Z"
   },
   {
    "duration": 0,
    "start_time": "2022-11-22T09:48:51.378Z"
   },
   {
    "duration": 0,
    "start_time": "2022-11-22T09:48:51.380Z"
   },
   {
    "duration": 0,
    "start_time": "2022-11-22T09:48:51.381Z"
   },
   {
    "duration": 0,
    "start_time": "2022-11-22T09:48:51.383Z"
   },
   {
    "duration": 0,
    "start_time": "2022-11-22T09:48:51.384Z"
   },
   {
    "duration": 0,
    "start_time": "2022-11-22T09:48:51.427Z"
   },
   {
    "duration": 15,
    "start_time": "2022-11-22T09:49:07.015Z"
   },
   {
    "duration": 21,
    "start_time": "2022-11-22T09:49:27.638Z"
   },
   {
    "duration": 15,
    "start_time": "2022-11-22T09:50:31.577Z"
   },
   {
    "duration": 17,
    "start_time": "2022-11-22T09:51:01.694Z"
   },
   {
    "duration": 18,
    "start_time": "2022-11-22T09:51:05.616Z"
   },
   {
    "duration": 1364,
    "start_time": "2022-11-22T09:59:14.821Z"
   },
   {
    "duration": 10,
    "start_time": "2022-11-22T09:59:51.340Z"
   },
   {
    "duration": 17,
    "start_time": "2022-11-22T09:59:59.396Z"
   },
   {
    "duration": 81,
    "start_time": "2022-11-22T10:07:15.387Z"
   },
   {
    "duration": 73,
    "start_time": "2022-11-22T10:07:36.229Z"
   },
   {
    "duration": 82,
    "start_time": "2022-11-22T10:07:51.684Z"
   },
   {
    "duration": 79,
    "start_time": "2022-11-22T10:07:59.646Z"
   },
   {
    "duration": 20,
    "start_time": "2022-11-22T10:07:59.727Z"
   },
   {
    "duration": 5,
    "start_time": "2022-11-22T10:07:59.749Z"
   },
   {
    "duration": 10,
    "start_time": "2022-11-22T10:07:59.757Z"
   },
   {
    "duration": 50,
    "start_time": "2022-11-22T10:07:59.769Z"
   },
   {
    "duration": 10,
    "start_time": "2022-11-22T10:07:59.823Z"
   },
   {
    "duration": 49,
    "start_time": "2022-11-22T10:07:59.834Z"
   },
   {
    "duration": 3,
    "start_time": "2022-11-22T10:07:59.885Z"
   },
   {
    "duration": 38,
    "start_time": "2022-11-22T10:07:59.889Z"
   },
   {
    "duration": 10,
    "start_time": "2022-11-22T10:07:59.929Z"
   },
   {
    "duration": 13,
    "start_time": "2022-11-22T10:07:59.941Z"
   },
   {
    "duration": 22,
    "start_time": "2022-11-22T10:07:59.956Z"
   },
   {
    "duration": 62,
    "start_time": "2022-11-22T10:07:59.979Z"
   },
   {
    "duration": 11,
    "start_time": "2022-11-22T10:08:00.043Z"
   },
   {
    "duration": 14,
    "start_time": "2022-11-22T10:08:00.056Z"
   },
   {
    "duration": 54,
    "start_time": "2022-11-22T10:08:00.072Z"
   },
   {
    "duration": 45,
    "start_time": "2022-11-22T10:08:00.128Z"
   },
   {
    "duration": 22,
    "start_time": "2022-11-22T10:08:00.175Z"
   },
   {
    "duration": 16,
    "start_time": "2022-11-22T10:08:00.199Z"
   },
   {
    "duration": 35,
    "start_time": "2022-11-22T10:08:00.219Z"
   },
   {
    "duration": 25,
    "start_time": "2022-11-22T10:08:00.256Z"
   },
   {
    "duration": 19,
    "start_time": "2022-11-22T10:08:00.283Z"
   },
   {
    "duration": 46,
    "start_time": "2022-11-22T10:08:00.304Z"
   },
   {
    "duration": 117,
    "start_time": "2022-11-22T10:08:00.352Z"
   },
   {
    "duration": 22,
    "start_time": "2022-11-22T10:08:00.471Z"
   },
   {
    "duration": 39,
    "start_time": "2022-11-22T10:08:00.495Z"
   },
   {
    "duration": 19,
    "start_time": "2022-11-22T10:08:00.536Z"
   },
   {
    "duration": 23,
    "start_time": "2022-11-22T10:08:00.559Z"
   },
   {
    "duration": 34,
    "start_time": "2022-11-22T10:08:00.584Z"
   },
   {
    "duration": 81,
    "start_time": "2022-11-22T10:08:00.621Z"
   },
   {
    "duration": 0,
    "start_time": "2022-11-22T10:08:00.704Z"
   },
   {
    "duration": 0,
    "start_time": "2022-11-22T10:08:00.707Z"
   },
   {
    "duration": 0,
    "start_time": "2022-11-22T10:08:00.708Z"
   },
   {
    "duration": 0,
    "start_time": "2022-11-22T10:08:00.710Z"
   },
   {
    "duration": 0,
    "start_time": "2022-11-22T10:08:00.711Z"
   },
   {
    "duration": 0,
    "start_time": "2022-11-22T10:08:00.717Z"
   },
   {
    "duration": 0,
    "start_time": "2022-11-22T10:08:00.719Z"
   },
   {
    "duration": 0,
    "start_time": "2022-11-22T10:08:00.721Z"
   },
   {
    "duration": 0,
    "start_time": "2022-11-22T10:08:00.721Z"
   },
   {
    "duration": 10,
    "start_time": "2022-11-22T10:08:36.286Z"
   },
   {
    "duration": 11,
    "start_time": "2022-11-22T10:11:40.370Z"
   },
   {
    "duration": 73,
    "start_time": "2022-11-22T10:11:55.223Z"
   },
   {
    "duration": 26,
    "start_time": "2022-11-22T10:11:55.298Z"
   },
   {
    "duration": 20,
    "start_time": "2022-11-22T10:11:55.326Z"
   },
   {
    "duration": 7,
    "start_time": "2022-11-22T10:11:55.349Z"
   },
   {
    "duration": 27,
    "start_time": "2022-11-22T10:11:55.358Z"
   },
   {
    "duration": 29,
    "start_time": "2022-11-22T10:11:55.387Z"
   },
   {
    "duration": 43,
    "start_time": "2022-11-22T10:11:55.418Z"
   },
   {
    "duration": 4,
    "start_time": "2022-11-22T10:11:56.957Z"
   },
   {
    "duration": 10,
    "start_time": "2022-11-22T10:11:56.963Z"
   },
   {
    "duration": 8,
    "start_time": "2022-11-22T10:11:56.975Z"
   },
   {
    "duration": 7,
    "start_time": "2022-11-22T10:11:57.022Z"
   },
   {
    "duration": 11,
    "start_time": "2022-11-22T10:11:57.031Z"
   },
   {
    "duration": 38,
    "start_time": "2022-11-22T10:11:57.043Z"
   },
   {
    "duration": 12,
    "start_time": "2022-11-22T10:11:57.082Z"
   },
   {
    "duration": 10,
    "start_time": "2022-11-22T10:11:57.096Z"
   },
   {
    "duration": 32,
    "start_time": "2022-11-22T10:11:57.111Z"
   },
   {
    "duration": 39,
    "start_time": "2022-11-22T10:11:57.145Z"
   },
   {
    "duration": 21,
    "start_time": "2022-11-22T10:11:57.185Z"
   },
   {
    "duration": 7,
    "start_time": "2022-11-22T10:11:57.215Z"
   },
   {
    "duration": 16,
    "start_time": "2022-11-22T10:11:57.223Z"
   },
   {
    "duration": 7,
    "start_time": "2022-11-22T10:11:57.241Z"
   },
   {
    "duration": 3,
    "start_time": "2022-11-22T10:11:57.250Z"
   },
   {
    "duration": 10,
    "start_time": "2022-11-22T10:11:57.255Z"
   },
   {
    "duration": 8,
    "start_time": "2022-11-22T10:11:57.268Z"
   },
   {
    "duration": 5,
    "start_time": "2022-11-22T10:11:57.278Z"
   },
   {
    "duration": 13,
    "start_time": "2022-11-22T10:11:57.307Z"
   },
   {
    "duration": 24,
    "start_time": "2022-11-22T10:11:57.325Z"
   },
   {
    "duration": 8,
    "start_time": "2022-11-22T10:11:57.351Z"
   },
   {
    "duration": 12,
    "start_time": "2022-11-22T10:11:57.361Z"
   },
   {
    "duration": 10,
    "start_time": "2022-11-22T10:11:57.375Z"
   },
   {
    "duration": 37,
    "start_time": "2022-11-22T10:11:57.386Z"
   },
   {
    "duration": 24,
    "start_time": "2022-11-22T10:11:57.426Z"
   },
   {
    "duration": 18,
    "start_time": "2022-11-22T10:11:57.451Z"
   },
   {
    "duration": 11,
    "start_time": "2022-11-22T10:11:57.471Z"
   },
   {
    "duration": 0,
    "start_time": "2022-11-22T10:11:57.483Z"
   },
   {
    "duration": 0,
    "start_time": "2022-11-22T10:11:57.485Z"
   },
   {
    "duration": 0,
    "start_time": "2022-11-22T10:11:57.486Z"
   },
   {
    "duration": 0,
    "start_time": "2022-11-22T10:11:57.488Z"
   },
   {
    "duration": 0,
    "start_time": "2022-11-22T10:11:57.489Z"
   },
   {
    "duration": 73,
    "start_time": "2022-11-22T10:12:27.806Z"
   },
   {
    "duration": 15,
    "start_time": "2022-11-22T10:12:27.881Z"
   },
   {
    "duration": 6,
    "start_time": "2022-11-22T10:12:27.897Z"
   },
   {
    "duration": 20,
    "start_time": "2022-11-22T10:12:27.909Z"
   },
   {
    "duration": 16,
    "start_time": "2022-11-22T10:12:27.931Z"
   },
   {
    "duration": 9,
    "start_time": "2022-11-22T10:12:27.949Z"
   },
   {
    "duration": 34,
    "start_time": "2022-11-22T10:12:27.960Z"
   },
   {
    "duration": 4,
    "start_time": "2022-11-22T10:12:27.996Z"
   },
   {
    "duration": 40,
    "start_time": "2022-11-22T10:12:28.006Z"
   },
   {
    "duration": 13,
    "start_time": "2022-11-22T10:12:28.049Z"
   },
   {
    "duration": 32,
    "start_time": "2022-11-22T10:12:28.064Z"
   },
   {
    "duration": 12,
    "start_time": "2022-11-22T10:12:28.098Z"
   },
   {
    "duration": 48,
    "start_time": "2022-11-22T10:12:28.119Z"
   },
   {
    "duration": 17,
    "start_time": "2022-11-22T10:12:28.168Z"
   },
   {
    "duration": 14,
    "start_time": "2022-11-22T10:12:28.187Z"
   },
   {
    "duration": 49,
    "start_time": "2022-11-22T10:12:28.208Z"
   },
   {
    "duration": 42,
    "start_time": "2022-11-22T10:12:28.259Z"
   },
   {
    "duration": 27,
    "start_time": "2022-11-22T10:12:28.302Z"
   },
   {
    "duration": 12,
    "start_time": "2022-11-22T10:12:28.330Z"
   },
   {
    "duration": 22,
    "start_time": "2022-11-22T10:12:28.344Z"
   },
   {
    "duration": 10,
    "start_time": "2022-11-22T10:12:28.368Z"
   },
   {
    "duration": 15,
    "start_time": "2022-11-22T10:12:28.379Z"
   },
   {
    "duration": 19,
    "start_time": "2022-11-22T10:12:28.395Z"
   },
   {
    "duration": 30,
    "start_time": "2022-11-22T10:12:28.418Z"
   },
   {
    "duration": 12,
    "start_time": "2022-11-22T10:12:28.450Z"
   },
   {
    "duration": 17,
    "start_time": "2022-11-22T10:12:28.464Z"
   },
   {
    "duration": 11,
    "start_time": "2022-11-22T10:12:28.483Z"
   },
   {
    "duration": 34,
    "start_time": "2022-11-22T10:12:28.497Z"
   },
   {
    "duration": 13,
    "start_time": "2022-11-22T10:12:28.532Z"
   },
   {
    "duration": 13,
    "start_time": "2022-11-22T10:12:28.547Z"
   },
   {
    "duration": 14,
    "start_time": "2022-11-22T10:12:28.561Z"
   },
   {
    "duration": 7,
    "start_time": "2022-11-22T10:12:28.577Z"
   },
   {
    "duration": 11,
    "start_time": "2022-11-22T10:12:28.586Z"
   },
   {
    "duration": 20,
    "start_time": "2022-11-22T10:12:28.599Z"
   },
   {
    "duration": 16,
    "start_time": "2022-11-22T10:12:28.621Z"
   },
   {
    "duration": 13,
    "start_time": "2022-11-22T10:12:28.638Z"
   },
   {
    "duration": 26,
    "start_time": "2022-11-22T10:12:28.652Z"
   },
   {
    "duration": 30,
    "start_time": "2022-11-22T10:12:28.679Z"
   },
   {
    "duration": 21,
    "start_time": "2022-11-22T10:12:52.001Z"
   },
   {
    "duration": 6,
    "start_time": "2022-11-22T10:13:10.559Z"
   },
   {
    "duration": 14,
    "start_time": "2022-11-22T10:13:31.000Z"
   },
   {
    "duration": 21,
    "start_time": "2022-11-22T10:14:16.198Z"
   },
   {
    "duration": 96,
    "start_time": "2022-11-22T10:14:18.820Z"
   },
   {
    "duration": 16,
    "start_time": "2022-11-22T10:14:18.925Z"
   },
   {
    "duration": 19,
    "start_time": "2022-11-22T10:14:18.943Z"
   },
   {
    "duration": 7,
    "start_time": "2022-11-22T10:14:18.964Z"
   },
   {
    "duration": 38,
    "start_time": "2022-11-22T10:14:18.973Z"
   },
   {
    "duration": 24,
    "start_time": "2022-11-22T10:14:19.015Z"
   },
   {
    "duration": 62,
    "start_time": "2022-11-22T10:14:19.041Z"
   },
   {
    "duration": 6,
    "start_time": "2022-11-22T10:14:19.105Z"
   },
   {
    "duration": 33,
    "start_time": "2022-11-22T10:14:19.113Z"
   },
   {
    "duration": 5,
    "start_time": "2022-11-22T10:14:19.152Z"
   },
   {
    "duration": 16,
    "start_time": "2022-11-22T10:14:19.159Z"
   },
   {
    "duration": 17,
    "start_time": "2022-11-22T10:14:19.178Z"
   },
   {
    "duration": 55,
    "start_time": "2022-11-22T10:14:19.197Z"
   },
   {
    "duration": 14,
    "start_time": "2022-11-22T10:14:19.254Z"
   },
   {
    "duration": 7,
    "start_time": "2022-11-22T10:14:19.270Z"
   },
   {
    "duration": 39,
    "start_time": "2022-11-22T10:14:19.279Z"
   },
   {
    "duration": 28,
    "start_time": "2022-11-22T10:14:19.323Z"
   },
   {
    "duration": 18,
    "start_time": "2022-11-22T10:14:19.353Z"
   },
   {
    "duration": 3,
    "start_time": "2022-11-22T10:14:19.373Z"
   },
   {
    "duration": 22,
    "start_time": "2022-11-22T10:14:19.378Z"
   },
   {
    "duration": 27,
    "start_time": "2022-11-22T10:14:19.402Z"
   },
   {
    "duration": 9,
    "start_time": "2022-11-22T10:14:19.431Z"
   },
   {
    "duration": 18,
    "start_time": "2022-11-22T10:14:19.442Z"
   },
   {
    "duration": 12,
    "start_time": "2022-11-22T10:14:19.461Z"
   },
   {
    "duration": 6,
    "start_time": "2022-11-22T10:14:19.475Z"
   },
   {
    "duration": 28,
    "start_time": "2022-11-22T10:14:19.483Z"
   },
   {
    "duration": 16,
    "start_time": "2022-11-22T10:14:19.517Z"
   },
   {
    "duration": 7,
    "start_time": "2022-11-22T10:14:19.536Z"
   },
   {
    "duration": 12,
    "start_time": "2022-11-22T10:14:19.545Z"
   },
   {
    "duration": 5,
    "start_time": "2022-11-22T10:14:19.558Z"
   },
   {
    "duration": 17,
    "start_time": "2022-11-22T10:14:19.564Z"
   },
   {
    "duration": 25,
    "start_time": "2022-11-22T10:14:19.583Z"
   },
   {
    "duration": 12,
    "start_time": "2022-11-22T10:14:19.615Z"
   },
   {
    "duration": 10,
    "start_time": "2022-11-22T10:14:19.629Z"
   },
   {
    "duration": 9,
    "start_time": "2022-11-22T10:14:19.641Z"
   },
   {
    "duration": 11,
    "start_time": "2022-11-22T10:14:19.651Z"
   },
   {
    "duration": 13,
    "start_time": "2022-11-22T10:14:19.663Z"
   },
   {
    "duration": 47,
    "start_time": "2022-11-22T10:14:19.678Z"
   },
   {
    "duration": 14,
    "start_time": "2022-11-22T10:14:19.727Z"
   },
   {
    "duration": 18,
    "start_time": "2022-11-22T10:14:27.567Z"
   },
   {
    "duration": 22,
    "start_time": "2022-11-22T10:14:41.923Z"
   },
   {
    "duration": 11,
    "start_time": "2022-11-22T10:17:16.423Z"
   },
   {
    "duration": 68,
    "start_time": "2022-11-22T10:17:20.022Z"
   },
   {
    "duration": 15,
    "start_time": "2022-11-22T10:17:20.166Z"
   },
   {
    "duration": 14,
    "start_time": "2022-11-22T10:17:20.183Z"
   },
   {
    "duration": 22,
    "start_time": "2022-11-22T10:17:20.199Z"
   },
   {
    "duration": 20,
    "start_time": "2022-11-22T10:17:20.224Z"
   },
   {
    "duration": 9,
    "start_time": "2022-11-22T10:17:20.246Z"
   },
   {
    "duration": 36,
    "start_time": "2022-11-22T10:17:20.257Z"
   },
   {
    "duration": 3,
    "start_time": "2022-11-22T10:17:20.295Z"
   },
   {
    "duration": 32,
    "start_time": "2022-11-22T10:17:20.299Z"
   },
   {
    "duration": 5,
    "start_time": "2022-11-22T10:17:20.332Z"
   },
   {
    "duration": 16,
    "start_time": "2022-11-22T10:17:20.339Z"
   },
   {
    "duration": 9,
    "start_time": "2022-11-22T10:17:20.357Z"
   },
   {
    "duration": 33,
    "start_time": "2022-11-22T10:17:20.368Z"
   },
   {
    "duration": 14,
    "start_time": "2022-11-22T10:17:20.403Z"
   },
   {
    "duration": 14,
    "start_time": "2022-11-22T10:17:20.421Z"
   },
   {
    "duration": 15,
    "start_time": "2022-11-22T10:17:20.437Z"
   },
   {
    "duration": 25,
    "start_time": "2022-11-22T10:17:20.454Z"
   },
   {
    "duration": 18,
    "start_time": "2022-11-22T10:17:20.481Z"
   },
   {
    "duration": 23,
    "start_time": "2022-11-22T10:17:20.501Z"
   },
   {
    "duration": 21,
    "start_time": "2022-11-22T10:17:20.525Z"
   },
   {
    "duration": 20,
    "start_time": "2022-11-22T10:17:20.549Z"
   },
   {
    "duration": 10,
    "start_time": "2022-11-22T10:17:20.571Z"
   },
   {
    "duration": 16,
    "start_time": "2022-11-22T10:17:20.583Z"
   },
   {
    "duration": 19,
    "start_time": "2022-11-22T10:17:20.601Z"
   },
   {
    "duration": 11,
    "start_time": "2022-11-22T10:17:20.622Z"
   },
   {
    "duration": 9,
    "start_time": "2022-11-22T10:17:20.635Z"
   },
   {
    "duration": 10,
    "start_time": "2022-11-22T10:17:20.646Z"
   },
   {
    "duration": 7,
    "start_time": "2022-11-22T10:17:20.658Z"
   },
   {
    "duration": 14,
    "start_time": "2022-11-22T10:17:20.666Z"
   },
   {
    "duration": 6,
    "start_time": "2022-11-22T10:17:20.682Z"
   },
   {
    "duration": 55,
    "start_time": "2022-11-22T10:17:20.690Z"
   },
   {
    "duration": 23,
    "start_time": "2022-11-22T10:17:20.747Z"
   },
   {
    "duration": 19,
    "start_time": "2022-11-22T10:17:20.771Z"
   },
   {
    "duration": 30,
    "start_time": "2022-11-22T10:17:20.791Z"
   },
   {
    "duration": 15,
    "start_time": "2022-11-22T10:17:20.824Z"
   },
   {
    "duration": 14,
    "start_time": "2022-11-22T10:17:20.840Z"
   },
   {
    "duration": 7,
    "start_time": "2022-11-22T10:17:20.856Z"
   },
   {
    "duration": 17,
    "start_time": "2022-11-22T10:17:20.865Z"
   },
   {
    "duration": 14,
    "start_time": "2022-11-22T10:17:20.883Z"
   },
   {
    "duration": 27,
    "start_time": "2022-11-22T10:17:20.899Z"
   },
   {
    "duration": 27,
    "start_time": "2022-11-22T10:17:20.928Z"
   },
   {
    "duration": 34,
    "start_time": "2022-11-22T10:18:04.067Z"
   },
   {
    "duration": 18,
    "start_time": "2022-11-22T10:18:27.264Z"
   },
   {
    "duration": 88,
    "start_time": "2022-11-22T10:20:03.127Z"
   },
   {
    "duration": 28,
    "start_time": "2022-11-22T10:20:03.218Z"
   },
   {
    "duration": 9,
    "start_time": "2022-11-22T10:20:03.248Z"
   },
   {
    "duration": 20,
    "start_time": "2022-11-22T10:20:03.260Z"
   },
   {
    "duration": 32,
    "start_time": "2022-11-22T10:20:03.282Z"
   },
   {
    "duration": 50,
    "start_time": "2022-11-22T10:20:03.315Z"
   },
   {
    "duration": 69,
    "start_time": "2022-11-22T10:20:03.366Z"
   },
   {
    "duration": 5,
    "start_time": "2022-11-22T10:20:03.441Z"
   },
   {
    "duration": 33,
    "start_time": "2022-11-22T10:20:03.448Z"
   },
   {
    "duration": 13,
    "start_time": "2022-11-22T10:20:03.484Z"
   },
   {
    "duration": 57,
    "start_time": "2022-11-22T10:20:03.498Z"
   },
   {
    "duration": 39,
    "start_time": "2022-11-22T10:20:03.557Z"
   },
   {
    "duration": 97,
    "start_time": "2022-11-22T10:20:03.598Z"
   },
   {
    "duration": 14,
    "start_time": "2022-11-22T10:20:03.697Z"
   },
   {
    "duration": 46,
    "start_time": "2022-11-22T10:20:03.713Z"
   },
   {
    "duration": 35,
    "start_time": "2022-11-22T10:20:03.761Z"
   },
   {
    "duration": 63,
    "start_time": "2022-11-22T10:20:03.798Z"
   },
   {
    "duration": 27,
    "start_time": "2022-11-22T10:20:03.863Z"
   },
   {
    "duration": 4,
    "start_time": "2022-11-22T10:20:03.892Z"
   },
   {
    "duration": 56,
    "start_time": "2022-11-22T10:20:03.898Z"
   },
   {
    "duration": 21,
    "start_time": "2022-11-22T10:20:03.956Z"
   },
   {
    "duration": 57,
    "start_time": "2022-11-22T10:20:03.979Z"
   },
   {
    "duration": 21,
    "start_time": "2022-11-22T10:20:04.037Z"
   },
   {
    "duration": 26,
    "start_time": "2022-11-22T10:20:04.060Z"
   },
   {
    "duration": 11,
    "start_time": "2022-11-22T10:20:04.088Z"
   },
   {
    "duration": 49,
    "start_time": "2022-11-22T10:20:04.101Z"
   },
   {
    "duration": 10,
    "start_time": "2022-11-22T10:20:04.152Z"
   },
   {
    "duration": 15,
    "start_time": "2022-11-22T10:20:04.166Z"
   },
   {
    "duration": 16,
    "start_time": "2022-11-22T10:20:04.183Z"
   },
   {
    "duration": 70,
    "start_time": "2022-11-22T10:20:04.201Z"
   },
   {
    "duration": 17,
    "start_time": "2022-11-22T10:20:04.273Z"
   },
   {
    "duration": 74,
    "start_time": "2022-11-22T10:20:04.291Z"
   },
   {
    "duration": 36,
    "start_time": "2022-11-22T10:20:04.366Z"
   },
   {
    "duration": 11,
    "start_time": "2022-11-22T10:20:04.408Z"
   },
   {
    "duration": 37,
    "start_time": "2022-11-22T10:20:04.420Z"
   },
   {
    "duration": 31,
    "start_time": "2022-11-22T10:20:04.458Z"
   },
   {
    "duration": 12,
    "start_time": "2022-11-22T10:20:04.491Z"
   },
   {
    "duration": 39,
    "start_time": "2022-11-22T10:20:04.512Z"
   },
   {
    "duration": 23,
    "start_time": "2022-11-22T10:20:04.553Z"
   },
   {
    "duration": 22,
    "start_time": "2022-11-22T10:20:04.577Z"
   },
   {
    "duration": 54,
    "start_time": "2022-11-22T10:20:04.601Z"
   },
   {
    "duration": 28,
    "start_time": "2022-11-22T10:28:51.874Z"
   },
   {
    "duration": 94,
    "start_time": "2022-11-22T10:35:47.605Z"
   },
   {
    "duration": 23,
    "start_time": "2022-11-22T10:35:47.701Z"
   },
   {
    "duration": 19,
    "start_time": "2022-11-22T10:35:47.726Z"
   },
   {
    "duration": 20,
    "start_time": "2022-11-22T10:35:47.747Z"
   },
   {
    "duration": 43,
    "start_time": "2022-11-22T10:35:47.769Z"
   },
   {
    "duration": 25,
    "start_time": "2022-11-22T10:35:47.813Z"
   },
   {
    "duration": 45,
    "start_time": "2022-11-22T10:35:47.840Z"
   },
   {
    "duration": 13,
    "start_time": "2022-11-22T10:35:47.886Z"
   },
   {
    "duration": 25,
    "start_time": "2022-11-22T10:35:47.901Z"
   },
   {
    "duration": 12,
    "start_time": "2022-11-22T10:35:47.927Z"
   },
   {
    "duration": 11,
    "start_time": "2022-11-22T10:35:47.940Z"
   },
   {
    "duration": 13,
    "start_time": "2022-11-22T10:35:47.953Z"
   },
   {
    "duration": 35,
    "start_time": "2022-11-22T10:35:47.968Z"
   },
   {
    "duration": 19,
    "start_time": "2022-11-22T10:35:48.008Z"
   },
   {
    "duration": 7,
    "start_time": "2022-11-22T10:35:48.030Z"
   },
   {
    "duration": 14,
    "start_time": "2022-11-22T10:35:48.038Z"
   },
   {
    "duration": 20,
    "start_time": "2022-11-22T10:35:48.055Z"
   },
   {
    "duration": 33,
    "start_time": "2022-11-22T10:35:48.077Z"
   },
   {
    "duration": 4,
    "start_time": "2022-11-22T10:35:48.114Z"
   },
   {
    "duration": 24,
    "start_time": "2022-11-22T10:35:48.120Z"
   },
   {
    "duration": 7,
    "start_time": "2022-11-22T10:35:48.145Z"
   },
   {
    "duration": 7,
    "start_time": "2022-11-22T10:35:48.153Z"
   },
   {
    "duration": 16,
    "start_time": "2022-11-22T10:35:48.162Z"
   },
   {
    "duration": 13,
    "start_time": "2022-11-22T10:35:48.181Z"
   },
   {
    "duration": 35,
    "start_time": "2022-11-22T10:35:48.207Z"
   },
   {
    "duration": 10,
    "start_time": "2022-11-22T10:35:48.244Z"
   },
   {
    "duration": 9,
    "start_time": "2022-11-22T10:35:48.256Z"
   },
   {
    "duration": 8,
    "start_time": "2022-11-22T10:35:48.267Z"
   },
   {
    "duration": 16,
    "start_time": "2022-11-22T10:35:48.277Z"
   },
   {
    "duration": 5,
    "start_time": "2022-11-22T10:35:48.296Z"
   },
   {
    "duration": 26,
    "start_time": "2022-11-22T10:35:48.305Z"
   },
   {
    "duration": 36,
    "start_time": "2022-11-22T10:35:48.333Z"
   },
   {
    "duration": 22,
    "start_time": "2022-11-22T10:35:48.371Z"
   },
   {
    "duration": 20,
    "start_time": "2022-11-22T10:35:48.395Z"
   },
   {
    "duration": 47,
    "start_time": "2022-11-22T10:35:48.416Z"
   },
   {
    "duration": 13,
    "start_time": "2022-11-22T10:35:48.465Z"
   },
   {
    "duration": 14,
    "start_time": "2022-11-22T10:35:48.480Z"
   },
   {
    "duration": 22,
    "start_time": "2022-11-22T10:35:48.498Z"
   },
   {
    "duration": 21,
    "start_time": "2022-11-22T10:35:48.525Z"
   },
   {
    "duration": 24,
    "start_time": "2022-11-22T10:35:48.547Z"
   },
   {
    "duration": 19,
    "start_time": "2022-11-22T10:35:48.573Z"
   },
   {
    "duration": 22,
    "start_time": "2022-11-22T10:36:50.672Z"
   },
   {
    "duration": 30,
    "start_time": "2022-11-22T10:37:38.896Z"
   },
   {
    "duration": 22,
    "start_time": "2022-11-22T10:37:50.465Z"
   },
   {
    "duration": 19,
    "start_time": "2022-11-22T10:38:49.579Z"
   },
   {
    "duration": 24,
    "start_time": "2022-11-22T10:39:16.235Z"
   },
   {
    "duration": 23,
    "start_time": "2022-11-22T10:39:32.879Z"
   },
   {
    "duration": 20,
    "start_time": "2022-11-22T10:39:57.127Z"
   },
   {
    "duration": 17,
    "start_time": "2022-11-22T10:40:04.048Z"
   },
   {
    "duration": 19,
    "start_time": "2022-11-22T10:40:10.724Z"
   },
   {
    "duration": 17,
    "start_time": "2022-11-22T10:43:46.070Z"
   },
   {
    "duration": 12,
    "start_time": "2022-11-22T10:43:51.730Z"
   },
   {
    "duration": 91,
    "start_time": "2022-11-22T10:43:57.632Z"
   },
   {
    "duration": 23,
    "start_time": "2022-11-22T10:43:57.728Z"
   },
   {
    "duration": 22,
    "start_time": "2022-11-22T10:43:57.753Z"
   },
   {
    "duration": 33,
    "start_time": "2022-11-22T10:43:57.778Z"
   },
   {
    "duration": 29,
    "start_time": "2022-11-22T10:43:57.816Z"
   },
   {
    "duration": 13,
    "start_time": "2022-11-22T10:43:57.847Z"
   },
   {
    "duration": 59,
    "start_time": "2022-11-22T10:43:57.862Z"
   },
   {
    "duration": 4,
    "start_time": "2022-11-22T10:43:57.923Z"
   },
   {
    "duration": 14,
    "start_time": "2022-11-22T10:43:57.928Z"
   },
   {
    "duration": 4,
    "start_time": "2022-11-22T10:43:57.944Z"
   },
   {
    "duration": 11,
    "start_time": "2022-11-22T10:43:57.950Z"
   },
   {
    "duration": 7,
    "start_time": "2022-11-22T10:43:57.964Z"
   },
   {
    "duration": 52,
    "start_time": "2022-11-22T10:43:57.973Z"
   },
   {
    "duration": 11,
    "start_time": "2022-11-22T10:43:58.029Z"
   },
   {
    "duration": 4,
    "start_time": "2022-11-22T10:43:58.042Z"
   },
   {
    "duration": 15,
    "start_time": "2022-11-22T10:43:58.047Z"
   },
   {
    "duration": 57,
    "start_time": "2022-11-22T10:43:58.063Z"
   },
   {
    "duration": 27,
    "start_time": "2022-11-22T10:43:58.124Z"
   },
   {
    "duration": 4,
    "start_time": "2022-11-22T10:43:58.154Z"
   },
   {
    "duration": 57,
    "start_time": "2022-11-22T10:43:58.160Z"
   },
   {
    "duration": 13,
    "start_time": "2022-11-22T10:43:58.229Z"
   },
   {
    "duration": 18,
    "start_time": "2022-11-22T10:43:58.244Z"
   },
   {
    "duration": 17,
    "start_time": "2022-11-22T10:43:58.265Z"
   },
   {
    "duration": 9,
    "start_time": "2022-11-22T10:43:58.285Z"
   },
   {
    "duration": 6,
    "start_time": "2022-11-22T10:43:58.296Z"
   },
   {
    "duration": 10,
    "start_time": "2022-11-22T10:43:58.309Z"
   },
   {
    "duration": 21,
    "start_time": "2022-11-22T10:43:58.320Z"
   },
   {
    "duration": 8,
    "start_time": "2022-11-22T10:43:58.343Z"
   },
   {
    "duration": 12,
    "start_time": "2022-11-22T10:43:58.352Z"
   },
   {
    "duration": 3,
    "start_time": "2022-11-22T10:43:58.366Z"
   },
   {
    "duration": 14,
    "start_time": "2022-11-22T10:43:58.371Z"
   },
   {
    "duration": 42,
    "start_time": "2022-11-22T10:43:58.386Z"
   },
   {
    "duration": 19,
    "start_time": "2022-11-22T10:43:58.430Z"
   },
   {
    "duration": 10,
    "start_time": "2022-11-22T10:43:58.452Z"
   },
   {
    "duration": 10,
    "start_time": "2022-11-22T10:43:58.463Z"
   },
   {
    "duration": 43,
    "start_time": "2022-11-22T10:43:58.475Z"
   },
   {
    "duration": 13,
    "start_time": "2022-11-22T10:43:58.525Z"
   },
   {
    "duration": 15,
    "start_time": "2022-11-22T10:43:58.540Z"
   },
   {
    "duration": 18,
    "start_time": "2022-11-22T10:43:58.557Z"
   },
   {
    "duration": 22,
    "start_time": "2022-11-22T10:43:58.577Z"
   },
   {
    "duration": 36,
    "start_time": "2022-11-22T10:43:58.603Z"
   },
   {
    "duration": 18,
    "start_time": "2022-11-22T10:44:35.963Z"
   },
   {
    "duration": 110,
    "start_time": "2022-11-22T10:46:23.846Z"
   },
   {
    "duration": 143,
    "start_time": "2022-11-22T10:46:44.973Z"
   },
   {
    "duration": 3,
    "start_time": "2022-11-22T10:47:02.439Z"
   },
   {
    "duration": 11,
    "start_time": "2022-11-22T10:47:07.760Z"
   },
   {
    "duration": 9,
    "start_time": "2022-11-22T10:47:46.613Z"
   },
   {
    "duration": 14,
    "start_time": "2022-11-22T10:51:42.173Z"
   },
   {
    "duration": 21,
    "start_time": "2022-11-22T10:52:00.255Z"
   },
   {
    "duration": 17,
    "start_time": "2022-11-22T10:53:23.050Z"
   },
   {
    "duration": 750,
    "start_time": "2022-11-22T13:14:59.256Z"
   },
   {
    "duration": 22,
    "start_time": "2022-11-22T13:15:00.008Z"
   },
   {
    "duration": 16,
    "start_time": "2022-11-22T13:15:00.032Z"
   },
   {
    "duration": 21,
    "start_time": "2022-11-22T13:15:00.050Z"
   },
   {
    "duration": 32,
    "start_time": "2022-11-22T13:15:00.073Z"
   },
   {
    "duration": 24,
    "start_time": "2022-11-22T13:15:00.107Z"
   },
   {
    "duration": 53,
    "start_time": "2022-11-22T13:15:00.133Z"
   },
   {
    "duration": 3,
    "start_time": "2022-11-22T13:15:00.188Z"
   },
   {
    "duration": 40,
    "start_time": "2022-11-22T13:15:00.192Z"
   },
   {
    "duration": 15,
    "start_time": "2022-11-22T13:15:00.234Z"
   },
   {
    "duration": 26,
    "start_time": "2022-11-22T13:15:00.251Z"
   },
   {
    "duration": 28,
    "start_time": "2022-11-22T13:15:00.278Z"
   },
   {
    "duration": 50,
    "start_time": "2022-11-22T13:15:00.308Z"
   },
   {
    "duration": 13,
    "start_time": "2022-11-22T13:15:00.361Z"
   },
   {
    "duration": 23,
    "start_time": "2022-11-22T13:15:00.375Z"
   },
   {
    "duration": 61,
    "start_time": "2022-11-22T13:15:00.400Z"
   },
   {
    "duration": 36,
    "start_time": "2022-11-22T13:15:00.463Z"
   },
   {
    "duration": 26,
    "start_time": "2022-11-22T13:15:00.500Z"
   },
   {
    "duration": 11,
    "start_time": "2022-11-22T13:15:00.528Z"
   },
   {
    "duration": 17,
    "start_time": "2022-11-22T13:15:00.540Z"
   },
   {
    "duration": 17,
    "start_time": "2022-11-22T13:15:00.559Z"
   },
   {
    "duration": 35,
    "start_time": "2022-11-22T13:15:00.578Z"
   },
   {
    "duration": 53,
    "start_time": "2022-11-22T13:15:00.615Z"
   },
   {
    "duration": 30,
    "start_time": "2022-11-22T13:15:00.670Z"
   },
   {
    "duration": 24,
    "start_time": "2022-11-22T13:15:00.702Z"
   },
   {
    "duration": 36,
    "start_time": "2022-11-22T13:15:00.728Z"
   },
   {
    "duration": 41,
    "start_time": "2022-11-22T13:15:00.765Z"
   },
   {
    "duration": 67,
    "start_time": "2022-11-22T13:15:00.808Z"
   },
   {
    "duration": 78,
    "start_time": "2022-11-22T13:15:00.876Z"
   },
   {
    "duration": 21,
    "start_time": "2022-11-22T13:15:00.956Z"
   },
   {
    "duration": 42,
    "start_time": "2022-11-22T13:15:00.978Z"
   },
   {
    "duration": 30,
    "start_time": "2022-11-22T13:15:01.022Z"
   },
   {
    "duration": 108,
    "start_time": "2022-11-22T13:15:01.054Z"
   },
   {
    "duration": 0,
    "start_time": "2022-11-22T13:15:01.164Z"
   },
   {
    "duration": 0,
    "start_time": "2022-11-22T13:15:01.165Z"
   },
   {
    "duration": 0,
    "start_time": "2022-11-22T13:15:01.166Z"
   },
   {
    "duration": 0,
    "start_time": "2022-11-22T13:15:01.167Z"
   },
   {
    "duration": 0,
    "start_time": "2022-11-22T13:15:01.168Z"
   },
   {
    "duration": 0,
    "start_time": "2022-11-22T13:15:01.169Z"
   },
   {
    "duration": 0,
    "start_time": "2022-11-22T13:15:01.170Z"
   },
   {
    "duration": 0,
    "start_time": "2022-11-22T13:15:01.172Z"
   },
   {
    "duration": 0,
    "start_time": "2022-11-22T13:15:01.173Z"
   },
   {
    "duration": 3,
    "start_time": "2022-11-22T13:15:35.454Z"
   },
   {
    "duration": 7,
    "start_time": "2022-11-22T13:16:01.475Z"
   },
   {
    "duration": 71,
    "start_time": "2022-11-22T13:16:11.147Z"
   },
   {
    "duration": 16,
    "start_time": "2022-11-22T13:16:11.220Z"
   },
   {
    "duration": 8,
    "start_time": "2022-11-22T13:16:11.237Z"
   },
   {
    "duration": 8,
    "start_time": "2022-11-22T13:16:11.247Z"
   },
   {
    "duration": 27,
    "start_time": "2022-11-22T13:16:11.257Z"
   },
   {
    "duration": 10,
    "start_time": "2022-11-22T13:16:11.286Z"
   },
   {
    "duration": 34,
    "start_time": "2022-11-22T13:16:11.297Z"
   },
   {
    "duration": 3,
    "start_time": "2022-11-22T13:16:11.333Z"
   },
   {
    "duration": 40,
    "start_time": "2022-11-22T13:16:11.338Z"
   },
   {
    "duration": 5,
    "start_time": "2022-11-22T13:16:11.381Z"
   },
   {
    "duration": 11,
    "start_time": "2022-11-22T13:16:11.387Z"
   },
   {
    "duration": 11,
    "start_time": "2022-11-22T13:16:11.399Z"
   },
   {
    "duration": 36,
    "start_time": "2022-11-22T13:16:11.412Z"
   },
   {
    "duration": 34,
    "start_time": "2022-11-22T13:16:11.449Z"
   },
   {
    "duration": 5,
    "start_time": "2022-11-22T13:16:11.485Z"
   },
   {
    "duration": 16,
    "start_time": "2022-11-22T13:16:11.491Z"
   },
   {
    "duration": 22,
    "start_time": "2022-11-22T13:16:11.509Z"
   },
   {
    "duration": 46,
    "start_time": "2022-11-22T13:16:11.533Z"
   },
   {
    "duration": 4,
    "start_time": "2022-11-22T13:16:11.581Z"
   },
   {
    "duration": 14,
    "start_time": "2022-11-22T13:16:11.587Z"
   },
   {
    "duration": 8,
    "start_time": "2022-11-22T13:16:11.602Z"
   },
   {
    "duration": 4,
    "start_time": "2022-11-22T13:16:11.611Z"
   },
   {
    "duration": 13,
    "start_time": "2022-11-22T13:16:11.616Z"
   },
   {
    "duration": 11,
    "start_time": "2022-11-22T13:16:11.630Z"
   },
   {
    "duration": 36,
    "start_time": "2022-11-22T13:16:11.642Z"
   },
   {
    "duration": 8,
    "start_time": "2022-11-22T13:16:11.680Z"
   },
   {
    "duration": 15,
    "start_time": "2022-11-22T13:16:11.690Z"
   },
   {
    "duration": 8,
    "start_time": "2022-11-22T13:16:11.708Z"
   },
   {
    "duration": 12,
    "start_time": "2022-11-22T13:16:11.717Z"
   },
   {
    "duration": 3,
    "start_time": "2022-11-22T13:16:11.730Z"
   },
   {
    "duration": 12,
    "start_time": "2022-11-22T13:16:11.735Z"
   },
   {
    "duration": 30,
    "start_time": "2022-11-22T13:16:11.749Z"
   },
   {
    "duration": 11,
    "start_time": "2022-11-22T13:16:11.780Z"
   },
   {
    "duration": 0,
    "start_time": "2022-11-22T13:16:11.792Z"
   },
   {
    "duration": 0,
    "start_time": "2022-11-22T13:16:11.793Z"
   },
   {
    "duration": 0,
    "start_time": "2022-11-22T13:16:11.794Z"
   },
   {
    "duration": 1,
    "start_time": "2022-11-22T13:16:11.795Z"
   },
   {
    "duration": 0,
    "start_time": "2022-11-22T13:16:11.796Z"
   },
   {
    "duration": 0,
    "start_time": "2022-11-22T13:16:11.797Z"
   },
   {
    "duration": 0,
    "start_time": "2022-11-22T13:16:11.799Z"
   },
   {
    "duration": 0,
    "start_time": "2022-11-22T13:16:11.799Z"
   },
   {
    "duration": 0,
    "start_time": "2022-11-22T13:16:11.800Z"
   },
   {
    "duration": 4,
    "start_time": "2022-11-22T13:16:31.109Z"
   },
   {
    "duration": 7,
    "start_time": "2022-11-22T13:16:32.349Z"
   },
   {
    "duration": 70,
    "start_time": "2022-11-22T13:16:59.473Z"
   },
   {
    "duration": 16,
    "start_time": "2022-11-22T13:16:59.545Z"
   },
   {
    "duration": 8,
    "start_time": "2022-11-22T13:16:59.562Z"
   },
   {
    "duration": 4,
    "start_time": "2022-11-22T13:16:59.585Z"
   },
   {
    "duration": 16,
    "start_time": "2022-11-22T13:16:59.591Z"
   },
   {
    "duration": 9,
    "start_time": "2022-11-22T13:16:59.608Z"
   },
   {
    "duration": 32,
    "start_time": "2022-11-22T13:16:59.619Z"
   },
   {
    "duration": 3,
    "start_time": "2022-11-22T13:16:59.653Z"
   },
   {
    "duration": 10,
    "start_time": "2022-11-22T13:16:59.677Z"
   },
   {
    "duration": 4,
    "start_time": "2022-11-22T13:16:59.689Z"
   },
   {
    "duration": 9,
    "start_time": "2022-11-22T13:16:59.694Z"
   },
   {
    "duration": 7,
    "start_time": "2022-11-22T13:16:59.705Z"
   },
   {
    "duration": 37,
    "start_time": "2022-11-22T13:16:59.713Z"
   },
   {
    "duration": 29,
    "start_time": "2022-11-22T13:16:59.752Z"
   },
   {
    "duration": 10,
    "start_time": "2022-11-22T13:16:59.783Z"
   },
   {
    "duration": 13,
    "start_time": "2022-11-22T13:16:59.795Z"
   },
   {
    "duration": 25,
    "start_time": "2022-11-22T13:16:59.812Z"
   },
   {
    "duration": 18,
    "start_time": "2022-11-22T13:16:59.839Z"
   },
   {
    "duration": 18,
    "start_time": "2022-11-22T13:16:59.859Z"
   },
   {
    "duration": 10,
    "start_time": "2022-11-22T13:16:59.879Z"
   },
   {
    "duration": 15,
    "start_time": "2022-11-22T13:16:59.890Z"
   },
   {
    "duration": 6,
    "start_time": "2022-11-22T13:16:59.907Z"
   },
   {
    "duration": 12,
    "start_time": "2022-11-22T13:16:59.914Z"
   },
   {
    "duration": 22,
    "start_time": "2022-11-22T13:16:59.927Z"
   },
   {
    "duration": 11,
    "start_time": "2022-11-22T13:16:59.951Z"
   },
   {
    "duration": 11,
    "start_time": "2022-11-22T13:16:59.964Z"
   },
   {
    "duration": 18,
    "start_time": "2022-11-22T13:16:59.976Z"
   },
   {
    "duration": 15,
    "start_time": "2022-11-22T13:16:59.995Z"
   },
   {
    "duration": 34,
    "start_time": "2022-11-22T13:17:00.012Z"
   },
   {
    "duration": 31,
    "start_time": "2022-11-22T13:17:00.048Z"
   },
   {
    "duration": 75,
    "start_time": "2022-11-22T13:17:00.081Z"
   },
   {
    "duration": 59,
    "start_time": "2022-11-22T13:17:00.157Z"
   },
   {
    "duration": 23,
    "start_time": "2022-11-22T13:17:00.218Z"
   },
   {
    "duration": 0,
    "start_time": "2022-11-22T13:17:00.242Z"
   },
   {
    "duration": 0,
    "start_time": "2022-11-22T13:17:00.243Z"
   },
   {
    "duration": 0,
    "start_time": "2022-11-22T13:17:00.244Z"
   },
   {
    "duration": 0,
    "start_time": "2022-11-22T13:17:00.246Z"
   },
   {
    "duration": 0,
    "start_time": "2022-11-22T13:17:00.246Z"
   },
   {
    "duration": 0,
    "start_time": "2022-11-22T13:17:00.247Z"
   },
   {
    "duration": 0,
    "start_time": "2022-11-22T13:17:00.248Z"
   },
   {
    "duration": 0,
    "start_time": "2022-11-22T13:17:00.249Z"
   },
   {
    "duration": 0,
    "start_time": "2022-11-22T13:17:00.250Z"
   },
   {
    "duration": 8,
    "start_time": "2022-11-22T13:17:05.923Z"
   },
   {
    "duration": 2,
    "start_time": "2022-11-22T13:17:07.364Z"
   },
   {
    "duration": 8,
    "start_time": "2022-11-22T13:17:09.434Z"
   },
   {
    "duration": 8,
    "start_time": "2022-11-22T13:18:00.166Z"
   },
   {
    "duration": 7,
    "start_time": "2022-11-22T13:18:19.513Z"
   },
   {
    "duration": 8,
    "start_time": "2022-11-22T13:18:31.660Z"
   },
   {
    "duration": 8,
    "start_time": "2022-11-22T13:18:38.647Z"
   },
   {
    "duration": 74,
    "start_time": "2022-11-22T13:18:48.964Z"
   },
   {
    "duration": 16,
    "start_time": "2022-11-22T13:18:51.517Z"
   },
   {
    "duration": 4,
    "start_time": "2022-11-22T13:18:58.009Z"
   },
   {
    "duration": 20,
    "start_time": "2022-11-22T13:18:58.018Z"
   },
   {
    "duration": 33,
    "start_time": "2022-11-22T13:18:58.040Z"
   },
   {
    "duration": 21,
    "start_time": "2022-11-22T13:18:58.075Z"
   },
   {
    "duration": 43,
    "start_time": "2022-11-22T13:18:58.098Z"
   },
   {
    "duration": 3,
    "start_time": "2022-11-22T13:18:58.144Z"
   },
   {
    "duration": 12,
    "start_time": "2022-11-22T13:18:58.148Z"
   },
   {
    "duration": 8,
    "start_time": "2022-11-22T13:18:58.162Z"
   },
   {
    "duration": 12,
    "start_time": "2022-11-22T13:18:58.172Z"
   },
   {
    "duration": 14,
    "start_time": "2022-11-22T13:18:58.186Z"
   },
   {
    "duration": 51,
    "start_time": "2022-11-22T13:18:58.202Z"
   },
   {
    "duration": 14,
    "start_time": "2022-11-22T13:18:58.255Z"
   },
   {
    "duration": 25,
    "start_time": "2022-11-22T13:18:58.271Z"
   },
   {
    "duration": 27,
    "start_time": "2022-11-22T13:18:58.298Z"
   },
   {
    "duration": 44,
    "start_time": "2022-11-22T13:18:58.329Z"
   },
   {
    "duration": 20,
    "start_time": "2022-11-22T13:18:58.376Z"
   },
   {
    "duration": 4,
    "start_time": "2022-11-22T13:18:58.398Z"
   },
   {
    "duration": 23,
    "start_time": "2022-11-22T13:18:58.403Z"
   },
   {
    "duration": 22,
    "start_time": "2022-11-22T13:18:58.427Z"
   },
   {
    "duration": 25,
    "start_time": "2022-11-22T13:18:58.452Z"
   },
   {
    "duration": 26,
    "start_time": "2022-11-22T13:18:58.479Z"
   },
   {
    "duration": 57,
    "start_time": "2022-11-22T13:18:58.507Z"
   },
   {
    "duration": 6,
    "start_time": "2022-11-22T13:18:58.565Z"
   },
   {
    "duration": 9,
    "start_time": "2022-11-22T13:18:58.573Z"
   },
   {
    "duration": 8,
    "start_time": "2022-11-22T13:18:58.583Z"
   },
   {
    "duration": 8,
    "start_time": "2022-11-22T13:18:58.593Z"
   },
   {
    "duration": 14,
    "start_time": "2022-11-22T13:18:58.602Z"
   },
   {
    "duration": 3,
    "start_time": "2022-11-22T13:18:58.618Z"
   },
   {
    "duration": 15,
    "start_time": "2022-11-22T13:18:58.622Z"
   },
   {
    "duration": 7,
    "start_time": "2022-11-22T13:18:58.639Z"
   },
   {
    "duration": 36,
    "start_time": "2022-11-22T13:18:58.647Z"
   },
   {
    "duration": 0,
    "start_time": "2022-11-22T13:18:58.684Z"
   },
   {
    "duration": 0,
    "start_time": "2022-11-22T13:18:58.685Z"
   },
   {
    "duration": 0,
    "start_time": "2022-11-22T13:18:58.686Z"
   },
   {
    "duration": 0,
    "start_time": "2022-11-22T13:18:58.687Z"
   },
   {
    "duration": 0,
    "start_time": "2022-11-22T13:18:58.688Z"
   },
   {
    "duration": 0,
    "start_time": "2022-11-22T13:18:58.689Z"
   },
   {
    "duration": 0,
    "start_time": "2022-11-22T13:18:58.690Z"
   },
   {
    "duration": 0,
    "start_time": "2022-11-22T13:18:58.691Z"
   },
   {
    "duration": 0,
    "start_time": "2022-11-22T13:18:58.692Z"
   },
   {
    "duration": 7,
    "start_time": "2022-11-22T13:19:01.446Z"
   },
   {
    "duration": 4,
    "start_time": "2022-11-22T13:19:07.145Z"
   },
   {
    "duration": 9,
    "start_time": "2022-11-22T13:19:08.274Z"
   },
   {
    "duration": 505,
    "start_time": "2022-11-22T13:19:28.936Z"
   },
   {
    "duration": 26,
    "start_time": "2022-11-22T13:19:29.443Z"
   },
   {
    "duration": 53,
    "start_time": "2022-11-22T13:19:29.471Z"
   },
   {
    "duration": 44,
    "start_time": "2022-11-22T13:19:29.526Z"
   },
   {
    "duration": 45,
    "start_time": "2022-11-22T13:19:29.571Z"
   },
   {
    "duration": 39,
    "start_time": "2022-11-22T13:19:29.617Z"
   },
   {
    "duration": 78,
    "start_time": "2022-11-22T13:19:29.658Z"
   },
   {
    "duration": 4,
    "start_time": "2022-11-22T13:19:29.738Z"
   },
   {
    "duration": 40,
    "start_time": "2022-11-22T13:19:29.744Z"
   },
   {
    "duration": 103,
    "start_time": "2022-11-22T13:19:29.788Z"
   },
   {
    "duration": 47,
    "start_time": "2022-11-22T13:19:29.893Z"
   },
   {
    "duration": 37,
    "start_time": "2022-11-22T13:19:29.942Z"
   },
   {
    "duration": 51,
    "start_time": "2022-11-22T13:19:29.981Z"
   },
   {
    "duration": 29,
    "start_time": "2022-11-22T13:19:30.034Z"
   },
   {
    "duration": 36,
    "start_time": "2022-11-22T13:19:30.065Z"
   },
   {
    "duration": 46,
    "start_time": "2022-11-22T13:19:30.103Z"
   },
   {
    "duration": 67,
    "start_time": "2022-11-22T13:19:30.151Z"
   },
   {
    "duration": 58,
    "start_time": "2022-11-22T13:19:30.220Z"
   },
   {
    "duration": 29,
    "start_time": "2022-11-22T13:19:30.280Z"
   },
   {
    "duration": 62,
    "start_time": "2022-11-22T13:19:30.311Z"
   },
   {
    "duration": 60,
    "start_time": "2022-11-22T13:19:30.375Z"
   },
   {
    "duration": 48,
    "start_time": "2022-11-22T13:19:30.437Z"
   },
   {
    "duration": 56,
    "start_time": "2022-11-22T13:19:30.487Z"
   },
   {
    "duration": 100,
    "start_time": "2022-11-22T13:19:30.545Z"
   },
   {
    "duration": 65,
    "start_time": "2022-11-22T13:19:30.647Z"
   },
   {
    "duration": 43,
    "start_time": "2022-11-22T13:19:30.714Z"
   },
   {
    "duration": 72,
    "start_time": "2022-11-22T13:19:30.759Z"
   },
   {
    "duration": 60,
    "start_time": "2022-11-22T13:19:30.836Z"
   },
   {
    "duration": 262,
    "start_time": "2022-11-22T13:19:30.898Z"
   },
   {
    "duration": 99,
    "start_time": "2022-11-22T13:19:31.162Z"
   },
   {
    "duration": 89,
    "start_time": "2022-11-22T13:19:31.263Z"
   },
   {
    "duration": 130,
    "start_time": "2022-11-22T13:19:31.354Z"
   },
   {
    "duration": 290,
    "start_time": "2022-11-22T13:19:31.486Z"
   },
   {
    "duration": 0,
    "start_time": "2022-11-22T13:19:31.777Z"
   },
   {
    "duration": 0,
    "start_time": "2022-11-22T13:19:31.779Z"
   },
   {
    "duration": 0,
    "start_time": "2022-11-22T13:19:31.780Z"
   },
   {
    "duration": 0,
    "start_time": "2022-11-22T13:19:31.781Z"
   },
   {
    "duration": 0,
    "start_time": "2022-11-22T13:19:31.782Z"
   },
   {
    "duration": 0,
    "start_time": "2022-11-22T13:19:31.783Z"
   },
   {
    "duration": 0,
    "start_time": "2022-11-22T13:19:31.784Z"
   },
   {
    "duration": 0,
    "start_time": "2022-11-22T13:19:31.786Z"
   },
   {
    "duration": 1,
    "start_time": "2022-11-22T13:19:31.786Z"
   },
   {
    "duration": 9,
    "start_time": "2022-11-22T13:19:39.627Z"
   },
   {
    "duration": 8,
    "start_time": "2022-11-22T13:19:46.151Z"
   },
   {
    "duration": 8,
    "start_time": "2022-11-22T13:19:50.258Z"
   },
   {
    "duration": 75,
    "start_time": "2022-11-22T13:19:51.872Z"
   },
   {
    "duration": 18,
    "start_time": "2022-11-22T13:19:53.889Z"
   },
   {
    "duration": 75,
    "start_time": "2022-11-22T13:20:09.359Z"
   },
   {
    "duration": 17,
    "start_time": "2022-11-22T13:20:09.436Z"
   },
   {
    "duration": 68,
    "start_time": "2022-11-22T13:20:09.455Z"
   },
   {
    "duration": 36,
    "start_time": "2022-11-22T13:20:09.525Z"
   },
   {
    "duration": 52,
    "start_time": "2022-11-22T13:20:09.563Z"
   },
   {
    "duration": 27,
    "start_time": "2022-11-22T13:20:09.617Z"
   },
   {
    "duration": 65,
    "start_time": "2022-11-22T13:20:09.646Z"
   },
   {
    "duration": 13,
    "start_time": "2022-11-22T13:20:09.713Z"
   },
   {
    "duration": 38,
    "start_time": "2022-11-22T13:20:09.728Z"
   },
   {
    "duration": 19,
    "start_time": "2022-11-22T13:20:09.769Z"
   },
   {
    "duration": 78,
    "start_time": "2022-11-22T13:20:09.790Z"
   },
   {
    "duration": 58,
    "start_time": "2022-11-22T13:20:09.871Z"
   },
   {
    "duration": 68,
    "start_time": "2022-11-22T13:20:09.931Z"
   },
   {
    "duration": 10,
    "start_time": "2022-11-22T13:20:10.002Z"
   },
   {
    "duration": 64,
    "start_time": "2022-11-22T13:20:10.014Z"
   },
   {
    "duration": 59,
    "start_time": "2022-11-22T13:20:10.080Z"
   },
   {
    "duration": 27,
    "start_time": "2022-11-22T13:20:10.141Z"
   },
   {
    "duration": 29,
    "start_time": "2022-11-22T13:20:10.170Z"
   },
   {
    "duration": 31,
    "start_time": "2022-11-22T13:20:10.202Z"
   },
   {
    "duration": 42,
    "start_time": "2022-11-22T13:20:10.235Z"
   },
   {
    "duration": 59,
    "start_time": "2022-11-22T13:20:10.279Z"
   },
   {
    "duration": 13,
    "start_time": "2022-11-22T13:20:10.340Z"
   },
   {
    "duration": 50,
    "start_time": "2022-11-22T13:20:10.355Z"
   },
   {
    "duration": 70,
    "start_time": "2022-11-22T13:20:10.407Z"
   },
   {
    "duration": 57,
    "start_time": "2022-11-22T13:20:10.479Z"
   },
   {
    "duration": 19,
    "start_time": "2022-11-22T13:20:10.538Z"
   },
   {
    "duration": 50,
    "start_time": "2022-11-22T13:20:10.559Z"
   },
   {
    "duration": 35,
    "start_time": "2022-11-22T13:20:10.613Z"
   },
   {
    "duration": 35,
    "start_time": "2022-11-22T13:20:10.650Z"
   },
   {
    "duration": 18,
    "start_time": "2022-11-22T13:20:10.686Z"
   },
   {
    "duration": 40,
    "start_time": "2022-11-22T13:20:10.706Z"
   },
   {
    "duration": 17,
    "start_time": "2022-11-22T13:20:10.748Z"
   },
   {
    "duration": 43,
    "start_time": "2022-11-22T13:20:10.767Z"
   },
   {
    "duration": 0,
    "start_time": "2022-11-22T13:20:10.812Z"
   },
   {
    "duration": 0,
    "start_time": "2022-11-22T13:20:10.814Z"
   },
   {
    "duration": 0,
    "start_time": "2022-11-22T13:20:10.815Z"
   },
   {
    "duration": 0,
    "start_time": "2022-11-22T13:20:10.816Z"
   },
   {
    "duration": 0,
    "start_time": "2022-11-22T13:20:10.817Z"
   },
   {
    "duration": 0,
    "start_time": "2022-11-22T13:20:10.818Z"
   },
   {
    "duration": 0,
    "start_time": "2022-11-22T13:20:10.819Z"
   },
   {
    "duration": 0,
    "start_time": "2022-11-22T13:20:10.820Z"
   },
   {
    "duration": 0,
    "start_time": "2022-11-22T13:20:10.822Z"
   },
   {
    "duration": 8,
    "start_time": "2022-11-22T13:20:38.991Z"
   },
   {
    "duration": 72,
    "start_time": "2022-11-22T13:20:47.025Z"
   },
   {
    "duration": 17,
    "start_time": "2022-11-22T13:20:49.450Z"
   },
   {
    "duration": 5,
    "start_time": "2022-11-22T13:20:52.098Z"
   },
   {
    "duration": 7,
    "start_time": "2022-11-22T13:20:53.904Z"
   },
   {
    "duration": 14,
    "start_time": "2022-11-22T13:20:56.220Z"
   },
   {
    "duration": 16,
    "start_time": "2022-11-22T13:20:58.724Z"
   },
   {
    "duration": 34,
    "start_time": "2022-11-22T13:21:01.119Z"
   },
   {
    "duration": 3,
    "start_time": "2022-11-22T13:21:03.771Z"
   },
   {
    "duration": 8,
    "start_time": "2022-11-22T13:21:04.707Z"
   },
   {
    "duration": 6,
    "start_time": "2022-11-22T13:21:08.147Z"
   },
   {
    "duration": 6,
    "start_time": "2022-11-22T13:21:09.827Z"
   },
   {
    "duration": 5,
    "start_time": "2022-11-22T13:21:11.460Z"
   },
   {
    "duration": 33,
    "start_time": "2022-11-22T13:21:13.679Z"
   },
   {
    "duration": 10,
    "start_time": "2022-11-22T13:21:14.601Z"
   },
   {
    "duration": 4,
    "start_time": "2022-11-22T13:21:16.447Z"
   },
   {
    "duration": 19,
    "start_time": "2022-11-22T13:21:17.410Z"
   },
   {
    "duration": 27,
    "start_time": "2022-11-22T13:21:18.385Z"
   },
   {
    "duration": 20,
    "start_time": "2022-11-22T13:21:19.318Z"
   },
   {
    "duration": 4,
    "start_time": "2022-11-22T13:21:22.830Z"
   },
   {
    "duration": 11,
    "start_time": "2022-11-22T13:21:23.843Z"
   },
   {
    "duration": 7,
    "start_time": "2022-11-22T13:21:24.686Z"
   },
   {
    "duration": 4,
    "start_time": "2022-11-22T13:21:31.358Z"
   },
   {
    "duration": 9,
    "start_time": "2022-11-22T13:21:33.530Z"
   },
   {
    "duration": 7,
    "start_time": "2022-11-22T13:21:36.746Z"
   },
   {
    "duration": 7,
    "start_time": "2022-11-22T13:21:38.320Z"
   },
   {
    "duration": 11,
    "start_time": "2022-11-22T13:21:40.427Z"
   },
   {
    "duration": 8,
    "start_time": "2022-11-22T13:21:42.708Z"
   },
   {
    "duration": 9,
    "start_time": "2022-11-22T13:21:44.214Z"
   },
   {
    "duration": 13,
    "start_time": "2022-11-22T13:21:45.237Z"
   },
   {
    "duration": 4,
    "start_time": "2022-11-22T13:21:48.596Z"
   },
   {
    "duration": 9,
    "start_time": "2022-11-22T13:21:50.616Z"
   },
   {
    "duration": 3,
    "start_time": "2022-11-22T13:21:52.300Z"
   },
   {
    "duration": 8,
    "start_time": "2022-11-22T13:21:54.174Z"
   },
   {
    "duration": 3,
    "start_time": "2022-11-22T13:22:01.696Z"
   },
   {
    "duration": 8,
    "start_time": "2022-11-22T13:22:12.220Z"
   },
   {
    "duration": 9,
    "start_time": "2022-11-22T13:22:13.038Z"
   },
   {
    "duration": 4,
    "start_time": "2022-11-22T13:22:13.988Z"
   },
   {
    "duration": 8,
    "start_time": "2022-11-22T13:22:14.706Z"
   },
   {
    "duration": 8,
    "start_time": "2022-11-22T13:22:55.188Z"
   },
   {
    "duration": 8,
    "start_time": "2022-11-22T13:23:16.277Z"
   },
   {
    "duration": 4,
    "start_time": "2022-11-22T13:23:19.913Z"
   },
   {
    "duration": 7,
    "start_time": "2022-11-22T13:23:21.828Z"
   },
   {
    "duration": 3,
    "start_time": "2022-11-22T13:23:23.208Z"
   },
   {
    "duration": 9,
    "start_time": "2022-11-22T13:23:45.217Z"
   },
   {
    "duration": 3,
    "start_time": "2022-11-22T13:23:46.368Z"
   },
   {
    "duration": 9,
    "start_time": "2022-11-22T13:23:47.207Z"
   },
   {
    "duration": 8,
    "start_time": "2022-11-22T13:23:51.477Z"
   },
   {
    "duration": 3,
    "start_time": "2022-11-22T13:24:41.228Z"
   },
   {
    "duration": 78,
    "start_time": "2022-11-22T13:24:49.795Z"
   },
   {
    "duration": 21,
    "start_time": "2022-11-22T13:24:49.880Z"
   },
   {
    "duration": 9,
    "start_time": "2022-11-22T13:24:49.903Z"
   },
   {
    "duration": 7,
    "start_time": "2022-11-22T13:24:49.915Z"
   },
   {
    "duration": 21,
    "start_time": "2022-11-22T13:24:49.924Z"
   },
   {
    "duration": 10,
    "start_time": "2022-11-22T13:24:49.946Z"
   },
   {
    "duration": 53,
    "start_time": "2022-11-22T13:24:49.957Z"
   },
   {
    "duration": 3,
    "start_time": "2022-11-22T13:24:50.012Z"
   },
   {
    "duration": 49,
    "start_time": "2022-11-22T13:24:50.017Z"
   },
   {
    "duration": 28,
    "start_time": "2022-11-22T13:24:50.069Z"
   },
   {
    "duration": 14,
    "start_time": "2022-11-22T13:24:50.098Z"
   },
   {
    "duration": 26,
    "start_time": "2022-11-22T13:24:50.114Z"
   },
   {
    "duration": 69,
    "start_time": "2022-11-22T13:24:50.142Z"
   },
   {
    "duration": 10,
    "start_time": "2022-11-22T13:24:50.213Z"
   },
   {
    "duration": 8,
    "start_time": "2022-11-22T13:24:50.224Z"
   },
   {
    "duration": 26,
    "start_time": "2022-11-22T13:24:50.233Z"
   },
   {
    "duration": 20,
    "start_time": "2022-11-22T13:24:50.261Z"
   },
   {
    "duration": 18,
    "start_time": "2022-11-22T13:24:50.283Z"
   },
   {
    "duration": 4,
    "start_time": "2022-11-22T13:24:50.303Z"
   },
   {
    "duration": 21,
    "start_time": "2022-11-22T13:24:50.309Z"
   },
   {
    "duration": 22,
    "start_time": "2022-11-22T13:24:50.332Z"
   },
   {
    "duration": 10,
    "start_time": "2022-11-22T13:24:50.355Z"
   },
   {
    "duration": 18,
    "start_time": "2022-11-22T13:24:50.367Z"
   },
   {
    "duration": 7,
    "start_time": "2022-11-22T13:24:50.386Z"
   },
   {
    "duration": 8,
    "start_time": "2022-11-22T13:24:50.395Z"
   },
   {
    "duration": 19,
    "start_time": "2022-11-22T13:24:50.405Z"
   },
   {
    "duration": 11,
    "start_time": "2022-11-22T13:24:50.425Z"
   },
   {
    "duration": 9,
    "start_time": "2022-11-22T13:24:50.439Z"
   },
   {
    "duration": 13,
    "start_time": "2022-11-22T13:24:50.449Z"
   },
   {
    "duration": 14,
    "start_time": "2022-11-22T13:24:50.464Z"
   },
   {
    "duration": 15,
    "start_time": "2022-11-22T13:24:50.480Z"
   },
   {
    "duration": 19,
    "start_time": "2022-11-22T13:24:50.497Z"
   },
   {
    "duration": 24,
    "start_time": "2022-11-22T13:24:50.518Z"
   },
   {
    "duration": 0,
    "start_time": "2022-11-22T13:24:50.544Z"
   },
   {
    "duration": 0,
    "start_time": "2022-11-22T13:24:50.545Z"
   },
   {
    "duration": 0,
    "start_time": "2022-11-22T13:24:50.546Z"
   },
   {
    "duration": 0,
    "start_time": "2022-11-22T13:24:50.547Z"
   },
   {
    "duration": 0,
    "start_time": "2022-11-22T13:24:50.548Z"
   },
   {
    "duration": 0,
    "start_time": "2022-11-22T13:24:50.549Z"
   },
   {
    "duration": 0,
    "start_time": "2022-11-22T13:24:50.550Z"
   },
   {
    "duration": 0,
    "start_time": "2022-11-22T13:24:50.551Z"
   },
   {
    "duration": 0,
    "start_time": "2022-11-22T13:24:50.552Z"
   },
   {
    "duration": 3,
    "start_time": "2022-11-22T13:24:56.924Z"
   },
   {
    "duration": 8,
    "start_time": "2022-11-22T13:25:11.607Z"
   },
   {
    "duration": 507,
    "start_time": "2022-11-22T13:32:19.561Z"
   },
   {
    "duration": 24,
    "start_time": "2022-11-22T13:32:20.070Z"
   },
   {
    "duration": 63,
    "start_time": "2022-11-22T13:32:20.096Z"
   },
   {
    "duration": 61,
    "start_time": "2022-11-22T13:32:20.161Z"
   },
   {
    "duration": 101,
    "start_time": "2022-11-22T13:32:20.224Z"
   },
   {
    "duration": 53,
    "start_time": "2022-11-22T13:32:20.327Z"
   },
   {
    "duration": 68,
    "start_time": "2022-11-22T13:32:20.382Z"
   },
   {
    "duration": 14,
    "start_time": "2022-11-22T13:32:20.452Z"
   },
   {
    "duration": 38,
    "start_time": "2022-11-22T13:32:20.468Z"
   },
   {
    "duration": 48,
    "start_time": "2022-11-22T13:32:20.508Z"
   },
   {
    "duration": 56,
    "start_time": "2022-11-22T13:32:20.558Z"
   },
   {
    "duration": 27,
    "start_time": "2022-11-22T13:32:20.616Z"
   },
   {
    "duration": 97,
    "start_time": "2022-11-22T13:32:20.646Z"
   },
   {
    "duration": 62,
    "start_time": "2022-11-22T13:32:20.747Z"
   },
   {
    "duration": 58,
    "start_time": "2022-11-22T13:32:20.811Z"
   },
   {
    "duration": 26,
    "start_time": "2022-11-22T13:32:20.871Z"
   },
   {
    "duration": 56,
    "start_time": "2022-11-22T13:32:20.899Z"
   },
   {
    "duration": 39,
    "start_time": "2022-11-22T13:32:20.958Z"
   },
   {
    "duration": 25,
    "start_time": "2022-11-22T13:32:21.000Z"
   },
   {
    "duration": 63,
    "start_time": "2022-11-22T13:32:21.027Z"
   },
   {
    "duration": 47,
    "start_time": "2022-11-22T13:32:21.092Z"
   },
   {
    "duration": 40,
    "start_time": "2022-11-22T13:32:21.141Z"
   },
   {
    "duration": 74,
    "start_time": "2022-11-22T13:32:21.183Z"
   },
   {
    "duration": 64,
    "start_time": "2022-11-22T13:32:21.258Z"
   },
   {
    "duration": 46,
    "start_time": "2022-11-22T13:32:21.324Z"
   },
   {
    "duration": 61,
    "start_time": "2022-11-22T13:32:21.372Z"
   },
   {
    "duration": 92,
    "start_time": "2022-11-22T13:32:21.435Z"
   },
   {
    "duration": 67,
    "start_time": "2022-11-22T13:32:21.528Z"
   },
   {
    "duration": 65,
    "start_time": "2022-11-22T13:32:21.597Z"
   },
   {
    "duration": 39,
    "start_time": "2022-11-22T13:32:21.664Z"
   },
   {
    "duration": 61,
    "start_time": "2022-11-22T13:32:21.705Z"
   },
   {
    "duration": 93,
    "start_time": "2022-11-22T13:32:21.768Z"
   },
   {
    "duration": 0,
    "start_time": "2022-11-22T13:32:21.863Z"
   },
   {
    "duration": 0,
    "start_time": "2022-11-22T13:32:21.865Z"
   },
   {
    "duration": 0,
    "start_time": "2022-11-22T13:32:21.866Z"
   },
   {
    "duration": 0,
    "start_time": "2022-11-22T13:32:21.867Z"
   },
   {
    "duration": 0,
    "start_time": "2022-11-22T13:32:21.868Z"
   },
   {
    "duration": 0,
    "start_time": "2022-11-22T13:32:21.869Z"
   },
   {
    "duration": 0,
    "start_time": "2022-11-22T13:32:21.871Z"
   },
   {
    "duration": 0,
    "start_time": "2022-11-22T13:32:21.872Z"
   },
   {
    "duration": 0,
    "start_time": "2022-11-22T13:32:21.873Z"
   },
   {
    "duration": 0,
    "start_time": "2022-11-22T13:32:21.874Z"
   },
   {
    "duration": 7,
    "start_time": "2022-11-22T13:37:43.017Z"
   },
   {
    "duration": 9,
    "start_time": "2022-11-22T13:38:46.928Z"
   },
   {
    "duration": 3,
    "start_time": "2022-11-22T13:39:15.957Z"
   },
   {
    "duration": 9,
    "start_time": "2022-11-22T13:39:17.583Z"
   },
   {
    "duration": 3,
    "start_time": "2022-11-22T13:39:44.507Z"
   },
   {
    "duration": 2,
    "start_time": "2022-11-22T13:39:50.144Z"
   },
   {
    "duration": 4,
    "start_time": "2022-11-22T13:42:51.619Z"
   },
   {
    "duration": 3,
    "start_time": "2022-11-22T13:43:28.872Z"
   },
   {
    "duration": 7,
    "start_time": "2022-11-22T13:43:52.603Z"
   },
   {
    "duration": 8,
    "start_time": "2022-11-22T13:44:13.559Z"
   },
   {
    "duration": 8,
    "start_time": "2022-11-22T13:44:21.461Z"
   },
   {
    "duration": 72,
    "start_time": "2022-11-22T13:44:23.633Z"
   },
   {
    "duration": 17,
    "start_time": "2022-11-22T13:44:25.171Z"
   },
   {
    "duration": 4,
    "start_time": "2022-11-22T13:44:33.387Z"
   },
   {
    "duration": 5,
    "start_time": "2022-11-22T13:44:35.401Z"
   },
   {
    "duration": 18,
    "start_time": "2022-11-22T13:44:38.462Z"
   },
   {
    "duration": 11,
    "start_time": "2022-11-22T13:44:41.835Z"
   },
   {
    "duration": 5,
    "start_time": "2022-11-22T13:44:44.885Z"
   },
   {
    "duration": 7,
    "start_time": "2022-11-22T13:44:46.653Z"
   },
   {
    "duration": 5,
    "start_time": "2022-11-22T13:44:48.691Z"
   },
   {
    "duration": 6,
    "start_time": "2022-11-22T13:44:50.911Z"
   },
   {
    "duration": 6,
    "start_time": "2022-11-22T13:44:53.810Z"
   },
   {
    "duration": 32,
    "start_time": "2022-11-22T13:44:56.699Z"
   },
   {
    "duration": 9,
    "start_time": "2022-11-22T13:44:58.849Z"
   },
   {
    "duration": 11,
    "start_time": "2022-11-22T13:45:40.859Z"
   },
   {
    "duration": 33,
    "start_time": "2022-11-22T13:45:55.002Z"
   },
   {
    "duration": 3,
    "start_time": "2022-11-22T13:45:57.037Z"
   },
   {
    "duration": 11,
    "start_time": "2022-11-22T13:45:58.259Z"
   },
   {
    "duration": 5,
    "start_time": "2022-11-22T13:46:00.181Z"
   },
   {
    "duration": 7,
    "start_time": "2022-11-22T13:46:02.485Z"
   },
   {
    "duration": 5,
    "start_time": "2022-11-22T13:46:05.305Z"
   },
   {
    "duration": 35,
    "start_time": "2022-11-22T13:46:09.239Z"
   },
   {
    "duration": 12,
    "start_time": "2022-11-22T13:46:10.967Z"
   },
   {
    "duration": 4,
    "start_time": "2022-11-22T13:46:13.823Z"
   },
   {
    "duration": 11,
    "start_time": "2022-11-22T13:46:21.741Z"
   },
   {
    "duration": 21,
    "start_time": "2022-11-22T13:46:24.171Z"
   },
   {
    "duration": 20,
    "start_time": "2022-11-22T13:46:32.909Z"
   },
   {
    "duration": 4,
    "start_time": "2022-11-22T13:46:39.975Z"
   },
   {
    "duration": 10,
    "start_time": "2022-11-22T13:46:41.756Z"
   },
   {
    "duration": 6,
    "start_time": "2022-11-22T13:46:44.481Z"
   },
   {
    "duration": 4,
    "start_time": "2022-11-22T13:46:48.166Z"
   },
   {
    "duration": 29,
    "start_time": "2022-11-22T13:46:50.297Z"
   },
   {
    "duration": 7,
    "start_time": "2022-11-22T13:47:02.553Z"
   },
   {
    "duration": 7,
    "start_time": "2022-11-22T13:47:04.793Z"
   },
   {
    "duration": 8,
    "start_time": "2022-11-22T13:47:06.917Z"
   },
   {
    "duration": 11,
    "start_time": "2022-11-22T13:47:10.702Z"
   },
   {
    "duration": 8,
    "start_time": "2022-11-22T13:47:12.631Z"
   },
   {
    "duration": 14,
    "start_time": "2022-11-22T13:47:14.817Z"
   },
   {
    "duration": 4,
    "start_time": "2022-11-22T13:47:17.650Z"
   },
   {
    "duration": 23,
    "start_time": "2022-11-22T13:47:19.566Z"
   },
   {
    "duration": 10,
    "start_time": "2022-11-22T13:47:25.555Z"
   },
   {
    "duration": 3,
    "start_time": "2022-11-22T13:51:18.810Z"
   },
   {
    "duration": 3,
    "start_time": "2022-11-22T13:51:21.209Z"
   },
   {
    "duration": 3,
    "start_time": "2022-11-22T13:51:22.540Z"
   },
   {
    "duration": 8,
    "start_time": "2022-11-22T13:51:24.567Z"
   },
   {
    "duration": 3,
    "start_time": "2022-11-22T13:51:56.769Z"
   },
   {
    "duration": 8,
    "start_time": "2022-11-22T13:52:02.454Z"
   },
   {
    "duration": 11,
    "start_time": "2022-11-22T13:52:19.157Z"
   },
   {
    "duration": 8,
    "start_time": "2022-11-22T13:52:21.125Z"
   },
   {
    "duration": 3,
    "start_time": "2022-11-22T13:52:24.145Z"
   },
   {
    "duration": 3,
    "start_time": "2022-11-22T13:52:26.017Z"
   },
   {
    "duration": 4,
    "start_time": "2022-11-22T13:52:29.300Z"
   },
   {
    "duration": 3,
    "start_time": "2022-11-22T13:52:30.352Z"
   },
   {
    "duration": 4,
    "start_time": "2022-11-22T13:52:31.884Z"
   },
   {
    "duration": 9,
    "start_time": "2022-11-22T13:52:32.700Z"
   },
   {
    "duration": 105,
    "start_time": "2022-11-22T13:52:38.552Z"
   },
   {
    "duration": 20,
    "start_time": "2022-11-22T13:52:38.663Z"
   },
   {
    "duration": 19,
    "start_time": "2022-11-22T13:52:38.686Z"
   },
   {
    "duration": 16,
    "start_time": "2022-11-22T13:52:38.708Z"
   },
   {
    "duration": 26,
    "start_time": "2022-11-22T13:52:38.752Z"
   },
   {
    "duration": 27,
    "start_time": "2022-11-22T13:52:38.781Z"
   },
   {
    "duration": 67,
    "start_time": "2022-11-22T13:52:38.811Z"
   },
   {
    "duration": 4,
    "start_time": "2022-11-22T13:52:38.881Z"
   },
   {
    "duration": 15,
    "start_time": "2022-11-22T13:52:38.888Z"
   },
   {
    "duration": 5,
    "start_time": "2022-11-22T13:52:38.905Z"
   },
   {
    "duration": 12,
    "start_time": "2022-11-22T13:52:38.912Z"
   },
   {
    "duration": 6,
    "start_time": "2022-11-22T13:52:38.926Z"
   },
   {
    "duration": 87,
    "start_time": "2022-11-22T13:52:38.934Z"
   },
   {
    "duration": 9,
    "start_time": "2022-11-22T13:52:39.023Z"
   },
   {
    "duration": 8,
    "start_time": "2022-11-22T13:52:39.034Z"
   },
   {
    "duration": 35,
    "start_time": "2022-11-22T13:52:39.043Z"
   },
   {
    "duration": 20,
    "start_time": "2022-11-22T13:52:39.080Z"
   },
   {
    "duration": 17,
    "start_time": "2022-11-22T13:52:39.104Z"
   },
   {
    "duration": 4,
    "start_time": "2022-11-22T13:52:39.123Z"
   },
   {
    "duration": 13,
    "start_time": "2022-11-22T13:52:39.128Z"
   },
   {
    "duration": 39,
    "start_time": "2022-11-22T13:52:39.143Z"
   },
   {
    "duration": 13,
    "start_time": "2022-11-22T13:52:39.184Z"
   },
   {
    "duration": 43,
    "start_time": "2022-11-22T13:52:39.199Z"
   },
   {
    "duration": 7,
    "start_time": "2022-11-22T13:52:39.243Z"
   },
   {
    "duration": 16,
    "start_time": "2022-11-22T13:52:39.252Z"
   },
   {
    "duration": 36,
    "start_time": "2022-11-22T13:52:39.278Z"
   },
   {
    "duration": 17,
    "start_time": "2022-11-22T13:52:39.316Z"
   },
   {
    "duration": 26,
    "start_time": "2022-11-22T13:52:39.335Z"
   },
   {
    "duration": 13,
    "start_time": "2022-11-22T13:52:39.363Z"
   },
   {
    "duration": 4,
    "start_time": "2022-11-22T13:52:39.378Z"
   },
   {
    "duration": 44,
    "start_time": "2022-11-22T13:52:39.384Z"
   },
   {
    "duration": 11,
    "start_time": "2022-11-22T13:52:39.430Z"
   },
   {
    "duration": 19,
    "start_time": "2022-11-22T13:52:39.443Z"
   },
   {
    "duration": 0,
    "start_time": "2022-11-22T13:52:39.463Z"
   },
   {
    "duration": 0,
    "start_time": "2022-11-22T13:52:39.465Z"
   },
   {
    "duration": 0,
    "start_time": "2022-11-22T13:52:39.466Z"
   },
   {
    "duration": 0,
    "start_time": "2022-11-22T13:52:39.477Z"
   },
   {
    "duration": 0,
    "start_time": "2022-11-22T13:52:39.479Z"
   },
   {
    "duration": 0,
    "start_time": "2022-11-22T13:52:39.481Z"
   },
   {
    "duration": 0,
    "start_time": "2022-11-22T13:52:39.482Z"
   },
   {
    "duration": 0,
    "start_time": "2022-11-22T13:52:39.483Z"
   },
   {
    "duration": 0,
    "start_time": "2022-11-22T13:52:39.485Z"
   },
   {
    "duration": 9,
    "start_time": "2022-11-22T13:53:49.476Z"
   },
   {
    "duration": 10,
    "start_time": "2022-11-22T13:53:58.082Z"
   },
   {
    "duration": 3,
    "start_time": "2022-11-22T13:54:07.652Z"
   },
   {
    "duration": 3,
    "start_time": "2022-11-22T13:54:09.189Z"
   },
   {
    "duration": 8,
    "start_time": "2022-11-22T13:54:09.919Z"
   },
   {
    "duration": 4,
    "start_time": "2022-11-22T13:54:12.915Z"
   },
   {
    "duration": 3,
    "start_time": "2022-11-22T13:54:14.023Z"
   },
   {
    "duration": 8,
    "start_time": "2022-11-22T13:54:14.813Z"
   },
   {
    "duration": 94,
    "start_time": "2022-11-22T13:54:40.799Z"
   },
   {
    "duration": 19,
    "start_time": "2022-11-22T13:54:40.895Z"
   },
   {
    "duration": 17,
    "start_time": "2022-11-22T13:54:40.915Z"
   },
   {
    "duration": 11,
    "start_time": "2022-11-22T13:54:40.934Z"
   },
   {
    "duration": 27,
    "start_time": "2022-11-22T13:54:40.948Z"
   },
   {
    "duration": 18,
    "start_time": "2022-11-22T13:54:40.978Z"
   },
   {
    "duration": 36,
    "start_time": "2022-11-22T13:54:40.998Z"
   },
   {
    "duration": 4,
    "start_time": "2022-11-22T13:54:41.036Z"
   },
   {
    "duration": 11,
    "start_time": "2022-11-22T13:54:41.042Z"
   },
   {
    "duration": 6,
    "start_time": "2022-11-22T13:54:41.077Z"
   },
   {
    "duration": 9,
    "start_time": "2022-11-22T13:54:41.085Z"
   },
   {
    "duration": 6,
    "start_time": "2022-11-22T13:54:41.096Z"
   },
   {
    "duration": 38,
    "start_time": "2022-11-22T13:54:41.103Z"
   },
   {
    "duration": 10,
    "start_time": "2022-11-22T13:54:41.144Z"
   },
   {
    "duration": 5,
    "start_time": "2022-11-22T13:54:41.177Z"
   },
   {
    "duration": 19,
    "start_time": "2022-11-22T13:54:41.183Z"
   },
   {
    "duration": 23,
    "start_time": "2022-11-22T13:54:41.203Z"
   },
   {
    "duration": 19,
    "start_time": "2022-11-22T13:54:41.228Z"
   },
   {
    "duration": 3,
    "start_time": "2022-11-22T13:54:41.249Z"
   },
   {
    "duration": 36,
    "start_time": "2022-11-22T13:54:41.254Z"
   },
   {
    "duration": 9,
    "start_time": "2022-11-22T13:54:41.292Z"
   },
   {
    "duration": 4,
    "start_time": "2022-11-22T13:54:41.303Z"
   },
   {
    "duration": 30,
    "start_time": "2022-11-22T13:54:41.308Z"
   },
   {
    "duration": 10,
    "start_time": "2022-11-22T13:54:41.340Z"
   },
   {
    "duration": 8,
    "start_time": "2022-11-22T13:54:41.352Z"
   },
   {
    "duration": 10,
    "start_time": "2022-11-22T13:54:41.378Z"
   },
   {
    "duration": 11,
    "start_time": "2022-11-22T13:54:41.390Z"
   },
   {
    "duration": 10,
    "start_time": "2022-11-22T13:54:41.404Z"
   },
   {
    "duration": 17,
    "start_time": "2022-11-22T13:54:41.416Z"
   },
   {
    "duration": 3,
    "start_time": "2022-11-22T13:54:41.435Z"
   },
   {
    "duration": 22,
    "start_time": "2022-11-22T13:54:41.478Z"
   },
   {
    "duration": 8,
    "start_time": "2022-11-22T13:54:41.502Z"
   },
   {
    "duration": 13,
    "start_time": "2022-11-22T13:54:41.512Z"
   },
   {
    "duration": 0,
    "start_time": "2022-11-22T13:54:41.527Z"
   },
   {
    "duration": 0,
    "start_time": "2022-11-22T13:54:41.528Z"
   },
   {
    "duration": 0,
    "start_time": "2022-11-22T13:54:41.529Z"
   },
   {
    "duration": 0,
    "start_time": "2022-11-22T13:54:41.531Z"
   },
   {
    "duration": 0,
    "start_time": "2022-11-22T13:54:41.532Z"
   },
   {
    "duration": 0,
    "start_time": "2022-11-22T13:54:41.533Z"
   },
   {
    "duration": 0,
    "start_time": "2022-11-22T13:54:41.535Z"
   },
   {
    "duration": 0,
    "start_time": "2022-11-22T13:54:41.536Z"
   },
   {
    "duration": 0,
    "start_time": "2022-11-22T13:54:41.538Z"
   },
   {
    "duration": 3,
    "start_time": "2022-11-22T13:58:19.888Z"
   },
   {
    "duration": 3,
    "start_time": "2022-11-22T13:58:20.745Z"
   },
   {
    "duration": 3,
    "start_time": "2022-11-22T13:58:30.174Z"
   },
   {
    "duration": 2,
    "start_time": "2022-11-22T13:58:38.957Z"
   },
   {
    "duration": 3,
    "start_time": "2022-11-22T13:58:50.124Z"
   },
   {
    "duration": 72,
    "start_time": "2022-11-22T13:58:56.604Z"
   },
   {
    "duration": 15,
    "start_time": "2022-11-22T13:58:56.679Z"
   },
   {
    "duration": 17,
    "start_time": "2022-11-22T13:58:56.696Z"
   },
   {
    "duration": 8,
    "start_time": "2022-11-22T13:58:56.715Z"
   },
   {
    "duration": 19,
    "start_time": "2022-11-22T13:58:56.725Z"
   },
   {
    "duration": 14,
    "start_time": "2022-11-22T13:58:56.745Z"
   },
   {
    "duration": 45,
    "start_time": "2022-11-22T13:58:56.760Z"
   },
   {
    "duration": 4,
    "start_time": "2022-11-22T13:58:56.807Z"
   },
   {
    "duration": 15,
    "start_time": "2022-11-22T13:58:56.813Z"
   },
   {
    "duration": 13,
    "start_time": "2022-11-22T13:58:56.831Z"
   },
   {
    "duration": 9,
    "start_time": "2022-11-22T13:58:56.846Z"
   },
   {
    "duration": 15,
    "start_time": "2022-11-22T13:58:56.857Z"
   },
   {
    "duration": 40,
    "start_time": "2022-11-22T13:58:56.874Z"
   },
   {
    "duration": 10,
    "start_time": "2022-11-22T13:58:56.916Z"
   },
   {
    "duration": 8,
    "start_time": "2022-11-22T13:58:56.927Z"
   },
   {
    "duration": 23,
    "start_time": "2022-11-22T13:58:56.937Z"
   },
   {
    "duration": 31,
    "start_time": "2022-11-22T13:58:56.962Z"
   },
   {
    "duration": 19,
    "start_time": "2022-11-22T13:58:56.995Z"
   },
   {
    "duration": 5,
    "start_time": "2022-11-22T13:58:57.016Z"
   },
   {
    "duration": 19,
    "start_time": "2022-11-22T13:58:57.022Z"
   },
   {
    "duration": 22,
    "start_time": "2022-11-22T13:58:57.043Z"
   },
   {
    "duration": 10,
    "start_time": "2022-11-22T13:58:57.067Z"
   },
   {
    "duration": 35,
    "start_time": "2022-11-22T13:58:57.079Z"
   },
   {
    "duration": 7,
    "start_time": "2022-11-22T13:58:57.115Z"
   },
   {
    "duration": 10,
    "start_time": "2022-11-22T13:58:57.123Z"
   },
   {
    "duration": 11,
    "start_time": "2022-11-22T13:58:57.135Z"
   },
   {
    "duration": 8,
    "start_time": "2022-11-22T13:58:57.148Z"
   },
   {
    "duration": 9,
    "start_time": "2022-11-22T13:58:57.178Z"
   },
   {
    "duration": 17,
    "start_time": "2022-11-22T13:58:57.189Z"
   },
   {
    "duration": 13,
    "start_time": "2022-11-22T13:58:57.208Z"
   },
   {
    "duration": 27,
    "start_time": "2022-11-22T13:58:57.223Z"
   },
   {
    "duration": 19,
    "start_time": "2022-11-22T13:58:57.252Z"
   },
   {
    "duration": 17,
    "start_time": "2022-11-22T13:58:57.273Z"
   },
   {
    "duration": 32,
    "start_time": "2022-11-22T13:58:57.292Z"
   },
   {
    "duration": 19,
    "start_time": "2022-11-22T13:58:57.326Z"
   },
   {
    "duration": 10,
    "start_time": "2022-11-22T13:58:57.347Z"
   },
   {
    "duration": 35,
    "start_time": "2022-11-22T13:58:57.359Z"
   },
   {
    "duration": 23,
    "start_time": "2022-11-22T13:58:57.396Z"
   },
   {
    "duration": 11,
    "start_time": "2022-11-22T13:58:57.421Z"
   },
   {
    "duration": 14,
    "start_time": "2022-11-22T13:58:57.434Z"
   },
   {
    "duration": 16,
    "start_time": "2022-11-22T13:58:57.450Z"
   },
   {
    "duration": 19,
    "start_time": "2022-11-22T13:58:57.468Z"
   },
   {
    "duration": 78,
    "start_time": "2022-11-22T14:00:09.363Z"
   },
   {
    "duration": 7,
    "start_time": "2022-11-22T14:01:50.838Z"
   },
   {
    "duration": 15,
    "start_time": "2022-11-22T14:02:11.996Z"
   },
   {
    "duration": 17,
    "start_time": "2022-11-22T14:03:17.583Z"
   },
   {
    "duration": 20,
    "start_time": "2022-11-22T14:05:55.079Z"
   },
   {
    "duration": 15,
    "start_time": "2022-11-22T14:08:14.211Z"
   },
   {
    "duration": 24,
    "start_time": "2022-11-22T14:09:21.487Z"
   },
   {
    "duration": 16,
    "start_time": "2022-11-22T14:10:07.644Z"
   },
   {
    "duration": 15,
    "start_time": "2022-11-22T14:10:51.299Z"
   },
   {
    "duration": 71,
    "start_time": "2022-11-22T15:17:26.909Z"
   },
   {
    "duration": 15,
    "start_time": "2022-11-22T15:17:26.983Z"
   },
   {
    "duration": 10,
    "start_time": "2022-11-22T15:17:27.000Z"
   },
   {
    "duration": 12,
    "start_time": "2022-11-22T15:17:27.012Z"
   },
   {
    "duration": 33,
    "start_time": "2022-11-22T15:17:27.026Z"
   },
   {
    "duration": 18,
    "start_time": "2022-11-22T15:17:27.060Z"
   },
   {
    "duration": 49,
    "start_time": "2022-11-22T15:17:27.080Z"
   },
   {
    "duration": 4,
    "start_time": "2022-11-22T15:17:27.131Z"
   },
   {
    "duration": 24,
    "start_time": "2022-11-22T15:17:27.136Z"
   },
   {
    "duration": 12,
    "start_time": "2022-11-22T15:17:27.163Z"
   },
   {
    "duration": 29,
    "start_time": "2022-11-22T15:17:27.178Z"
   },
   {
    "duration": 20,
    "start_time": "2022-11-22T15:17:27.209Z"
   },
   {
    "duration": 60,
    "start_time": "2022-11-22T15:17:27.231Z"
   },
   {
    "duration": 10,
    "start_time": "2022-11-22T15:17:27.293Z"
   },
   {
    "duration": 23,
    "start_time": "2022-11-22T15:17:27.304Z"
   },
   {
    "duration": 16,
    "start_time": "2022-11-22T15:17:27.329Z"
   },
   {
    "duration": 75,
    "start_time": "2022-11-22T15:17:27.347Z"
   },
   {
    "duration": 19,
    "start_time": "2022-11-22T15:17:27.423Z"
   },
   {
    "duration": 14,
    "start_time": "2022-11-22T15:17:27.444Z"
   },
   {
    "duration": 22,
    "start_time": "2022-11-22T15:17:27.459Z"
   },
   {
    "duration": 15,
    "start_time": "2022-11-22T15:17:27.483Z"
   },
   {
    "duration": 6,
    "start_time": "2022-11-22T15:17:27.500Z"
   },
   {
    "duration": 29,
    "start_time": "2022-11-22T15:17:27.508Z"
   },
   {
    "duration": 6,
    "start_time": "2022-11-22T15:17:27.539Z"
   },
   {
    "duration": 8,
    "start_time": "2022-11-22T15:17:27.546Z"
   },
   {
    "duration": 24,
    "start_time": "2022-11-22T15:17:27.556Z"
   },
   {
    "duration": 12,
    "start_time": "2022-11-22T15:17:27.582Z"
   },
   {
    "duration": 18,
    "start_time": "2022-11-22T15:17:27.599Z"
   },
   {
    "duration": 26,
    "start_time": "2022-11-22T15:17:27.620Z"
   },
   {
    "duration": 4,
    "start_time": "2022-11-22T15:17:27.649Z"
   },
   {
    "duration": 33,
    "start_time": "2022-11-22T15:17:27.654Z"
   },
   {
    "duration": 18,
    "start_time": "2022-11-22T15:17:27.689Z"
   },
   {
    "duration": 3,
    "start_time": "2022-11-22T15:17:27.709Z"
   },
   {
    "duration": 14,
    "start_time": "2022-11-22T15:17:27.713Z"
   },
   {
    "duration": 10,
    "start_time": "2022-11-22T15:17:27.728Z"
   },
   {
    "duration": 11,
    "start_time": "2022-11-22T15:17:27.740Z"
   },
   {
    "duration": 9,
    "start_time": "2022-11-22T15:17:27.753Z"
   },
   {
    "duration": 11,
    "start_time": "2022-11-22T15:17:27.778Z"
   },
   {
    "duration": 9,
    "start_time": "2022-11-22T15:17:27.790Z"
   },
   {
    "duration": 9,
    "start_time": "2022-11-22T15:17:27.800Z"
   },
   {
    "duration": 13,
    "start_time": "2022-11-22T15:17:27.810Z"
   },
   {
    "duration": 17,
    "start_time": "2022-11-22T15:17:27.825Z"
   },
   {
    "duration": 16,
    "start_time": "2022-11-22T15:17:27.877Z"
   },
   {
    "duration": 7,
    "start_time": "2022-11-22T15:18:02.980Z"
   },
   {
    "duration": 5,
    "start_time": "2022-11-22T15:18:21.819Z"
   },
   {
    "duration": 5,
    "start_time": "2022-11-22T15:21:46.120Z"
   },
   {
    "duration": 11,
    "start_time": "2022-11-22T15:21:52.141Z"
   },
   {
    "duration": 61,
    "start_time": "2022-11-22T15:22:23.536Z"
   },
   {
    "duration": 64,
    "start_time": "2022-11-22T15:22:33.936Z"
   },
   {
    "duration": 12,
    "start_time": "2022-11-22T15:22:43.768Z"
   },
   {
    "duration": 13,
    "start_time": "2022-11-22T15:23:12.405Z"
   },
   {
    "duration": 13,
    "start_time": "2022-11-22T15:23:54.022Z"
   },
   {
    "duration": 11,
    "start_time": "2022-11-22T15:24:03.893Z"
   },
   {
    "duration": 11,
    "start_time": "2022-11-22T15:24:04.765Z"
   },
   {
    "duration": 504,
    "start_time": "2022-11-22T19:54:56.633Z"
   },
   {
    "duration": 21,
    "start_time": "2022-11-22T19:54:57.139Z"
   },
   {
    "duration": 4,
    "start_time": "2022-11-22T19:54:57.161Z"
   },
   {
    "duration": 6,
    "start_time": "2022-11-22T19:54:57.166Z"
   },
   {
    "duration": 16,
    "start_time": "2022-11-22T19:54:57.174Z"
   },
   {
    "duration": 17,
    "start_time": "2022-11-22T19:54:57.191Z"
   },
   {
    "duration": 37,
    "start_time": "2022-11-22T19:54:57.210Z"
   },
   {
    "duration": 4,
    "start_time": "2022-11-22T19:54:57.249Z"
   },
   {
    "duration": 10,
    "start_time": "2022-11-22T19:54:57.255Z"
   },
   {
    "duration": 5,
    "start_time": "2022-11-22T19:54:57.268Z"
   },
   {
    "duration": 32,
    "start_time": "2022-11-22T19:54:57.275Z"
   },
   {
    "duration": 5,
    "start_time": "2022-11-22T19:54:57.309Z"
   },
   {
    "duration": 39,
    "start_time": "2022-11-22T19:54:57.316Z"
   },
   {
    "duration": 13,
    "start_time": "2022-11-22T19:54:57.357Z"
   },
   {
    "duration": 8,
    "start_time": "2022-11-22T19:54:57.373Z"
   },
   {
    "duration": 35,
    "start_time": "2022-11-22T19:54:57.383Z"
   },
   {
    "duration": 35,
    "start_time": "2022-11-22T19:54:57.420Z"
   },
   {
    "duration": 20,
    "start_time": "2022-11-22T19:54:57.456Z"
   },
   {
    "duration": 4,
    "start_time": "2022-11-22T19:54:57.478Z"
   },
   {
    "duration": 31,
    "start_time": "2022-11-22T19:54:57.484Z"
   },
   {
    "duration": 13,
    "start_time": "2022-11-22T19:54:57.517Z"
   },
   {
    "duration": 16,
    "start_time": "2022-11-22T19:54:57.532Z"
   },
   {
    "duration": 54,
    "start_time": "2022-11-22T19:54:57.550Z"
   },
   {
    "duration": 7,
    "start_time": "2022-11-22T19:54:57.607Z"
   },
   {
    "duration": 21,
    "start_time": "2022-11-22T19:54:57.616Z"
   },
   {
    "duration": 11,
    "start_time": "2022-11-22T19:54:57.639Z"
   },
   {
    "duration": 10,
    "start_time": "2022-11-22T19:54:57.651Z"
   },
   {
    "duration": 7,
    "start_time": "2022-11-22T19:54:57.664Z"
   },
   {
    "duration": 33,
    "start_time": "2022-11-22T19:54:57.672Z"
   },
   {
    "duration": 3,
    "start_time": "2022-11-22T19:54:57.707Z"
   },
   {
    "duration": 29,
    "start_time": "2022-11-22T19:54:57.711Z"
   },
   {
    "duration": 23,
    "start_time": "2022-11-22T19:54:57.742Z"
   },
   {
    "duration": 9,
    "start_time": "2022-11-22T19:54:57.767Z"
   },
   {
    "duration": 4,
    "start_time": "2022-11-22T19:54:57.778Z"
   },
   {
    "duration": 7,
    "start_time": "2022-11-22T19:54:57.784Z"
   },
   {
    "duration": 29,
    "start_time": "2022-11-22T19:54:57.792Z"
   },
   {
    "duration": 11,
    "start_time": "2022-11-22T19:54:57.823Z"
   },
   {
    "duration": 9,
    "start_time": "2022-11-22T19:54:57.835Z"
   },
   {
    "duration": 10,
    "start_time": "2022-11-22T19:54:57.846Z"
   },
   {
    "duration": 10,
    "start_time": "2022-11-22T19:54:57.858Z"
   },
   {
    "duration": 20,
    "start_time": "2022-11-22T19:54:57.870Z"
   },
   {
    "duration": 23,
    "start_time": "2022-11-22T19:54:57.891Z"
   },
   {
    "duration": 16,
    "start_time": "2022-11-22T19:54:57.915Z"
   },
   {
    "duration": 19,
    "start_time": "2022-11-22T19:54:57.933Z"
   },
   {
    "duration": 69,
    "start_time": "2022-11-22T20:07:25.407Z"
   },
   {
    "duration": 11,
    "start_time": "2022-11-22T20:08:20.708Z"
   },
   {
    "duration": 9,
    "start_time": "2022-11-22T20:11:01.857Z"
   },
   {
    "duration": 12,
    "start_time": "2022-11-22T20:11:09.002Z"
   },
   {
    "duration": 10,
    "start_time": "2022-11-22T20:13:17.416Z"
   },
   {
    "duration": 8,
    "start_time": "2022-11-22T20:13:43.991Z"
   },
   {
    "duration": 13,
    "start_time": "2022-11-22T20:13:51.098Z"
   },
   {
    "duration": 11,
    "start_time": "2022-11-22T20:19:23.952Z"
   },
   {
    "duration": 13,
    "start_time": "2022-11-22T20:19:42.264Z"
   },
   {
    "duration": 15,
    "start_time": "2022-11-22T20:20:50.567Z"
   },
   {
    "duration": 12,
    "start_time": "2022-11-22T20:21:09.089Z"
   },
   {
    "duration": 13,
    "start_time": "2022-11-22T20:24:46.198Z"
   },
   {
    "duration": 9,
    "start_time": "2022-11-22T20:30:34.004Z"
   },
   {
    "duration": 71,
    "start_time": "2022-11-22T20:31:45.901Z"
   },
   {
    "duration": 14,
    "start_time": "2022-11-22T20:32:08.602Z"
   },
   {
    "duration": 15,
    "start_time": "2022-11-22T20:32:34.376Z"
   },
   {
    "duration": 7,
    "start_time": "2022-11-22T20:44:24.991Z"
   },
   {
    "duration": 8,
    "start_time": "2022-11-22T20:46:48.572Z"
   },
   {
    "duration": 29,
    "start_time": "2022-11-22T20:47:01.399Z"
   },
   {
    "duration": 48,
    "start_time": "2022-11-22T20:47:12.741Z"
   },
   {
    "duration": 33,
    "start_time": "2022-11-22T20:47:22.753Z"
   },
   {
    "duration": 43,
    "start_time": "2022-11-22T20:48:23.493Z"
   },
   {
    "duration": 21,
    "start_time": "2022-11-22T20:49:00.443Z"
   },
   {
    "duration": 23,
    "start_time": "2022-11-22T20:49:41.553Z"
   },
   {
    "duration": 16,
    "start_time": "2022-11-22T20:52:18.125Z"
   },
   {
    "duration": 22,
    "start_time": "2022-11-22T20:54:43.379Z"
   },
   {
    "duration": 22,
    "start_time": "2022-11-22T20:56:09.087Z"
   },
   {
    "duration": 20,
    "start_time": "2022-11-22T20:56:18.742Z"
   },
   {
    "duration": 20,
    "start_time": "2022-11-22T21:04:03.400Z"
   },
   {
    "duration": 2,
    "start_time": "2022-11-22T21:04:53.376Z"
   },
   {
    "duration": 71,
    "start_time": "2022-11-22T21:12:55.644Z"
   },
   {
    "duration": 16,
    "start_time": "2022-11-22T21:12:55.716Z"
   },
   {
    "duration": 8,
    "start_time": "2022-11-22T21:12:55.734Z"
   },
   {
    "duration": 9,
    "start_time": "2022-11-22T21:12:55.744Z"
   },
   {
    "duration": 18,
    "start_time": "2022-11-22T21:12:55.755Z"
   },
   {
    "duration": 31,
    "start_time": "2022-11-22T21:12:55.775Z"
   },
   {
    "duration": 34,
    "start_time": "2022-11-22T21:12:55.808Z"
   },
   {
    "duration": 4,
    "start_time": "2022-11-22T21:12:55.844Z"
   },
   {
    "duration": 13,
    "start_time": "2022-11-22T21:12:55.849Z"
   },
   {
    "duration": 4,
    "start_time": "2022-11-22T21:12:55.863Z"
   },
   {
    "duration": 9,
    "start_time": "2022-11-22T21:12:55.868Z"
   },
   {
    "duration": 6,
    "start_time": "2022-11-22T21:12:55.904Z"
   },
   {
    "duration": 36,
    "start_time": "2022-11-22T21:12:55.911Z"
   },
   {
    "duration": 11,
    "start_time": "2022-11-22T21:12:55.950Z"
   },
   {
    "duration": 5,
    "start_time": "2022-11-22T21:12:55.962Z"
   },
   {
    "duration": 39,
    "start_time": "2022-11-22T21:12:55.968Z"
   },
   {
    "duration": 22,
    "start_time": "2022-11-22T21:12:56.009Z"
   },
   {
    "duration": 18,
    "start_time": "2022-11-22T21:12:56.032Z"
   },
   {
    "duration": 4,
    "start_time": "2022-11-22T21:12:56.051Z"
   },
   {
    "duration": 15,
    "start_time": "2022-11-22T21:12:56.056Z"
   },
   {
    "duration": 31,
    "start_time": "2022-11-22T21:12:56.073Z"
   },
   {
    "duration": 3,
    "start_time": "2022-11-22T21:12:56.106Z"
   },
   {
    "duration": 28,
    "start_time": "2022-11-22T21:12:56.111Z"
   },
   {
    "duration": 9,
    "start_time": "2022-11-22T21:12:56.141Z"
   },
   {
    "duration": 6,
    "start_time": "2022-11-22T21:12:56.152Z"
   },
   {
    "duration": 10,
    "start_time": "2022-11-22T21:12:56.160Z"
   },
   {
    "duration": 38,
    "start_time": "2022-11-22T21:12:56.171Z"
   },
   {
    "duration": 9,
    "start_time": "2022-11-22T21:12:56.211Z"
   },
   {
    "duration": 12,
    "start_time": "2022-11-22T21:12:56.222Z"
   },
   {
    "duration": 9,
    "start_time": "2022-11-22T21:12:56.235Z"
   },
   {
    "duration": 9,
    "start_time": "2022-11-22T21:12:56.245Z"
   },
   {
    "duration": 52,
    "start_time": "2022-11-22T21:12:56.256Z"
   },
   {
    "duration": 16,
    "start_time": "2022-11-22T21:12:56.309Z"
   },
   {
    "duration": 7,
    "start_time": "2022-11-22T21:12:56.326Z"
   },
   {
    "duration": 10,
    "start_time": "2022-11-22T21:12:56.335Z"
   },
   {
    "duration": 12,
    "start_time": "2022-11-22T21:12:56.346Z"
   },
   {
    "duration": 53,
    "start_time": "2022-11-22T21:12:56.360Z"
   },
   {
    "duration": 2,
    "start_time": "2022-11-22T21:12:56.415Z"
   },
   {
    "duration": 24,
    "start_time": "2022-11-22T21:12:56.418Z"
   },
   {
    "duration": 15,
    "start_time": "2022-11-22T21:12:56.443Z"
   },
   {
    "duration": 69,
    "start_time": "2022-11-22T21:13:21.159Z"
   },
   {
    "duration": 14,
    "start_time": "2022-11-22T21:13:21.230Z"
   },
   {
    "duration": 7,
    "start_time": "2022-11-22T21:13:21.245Z"
   },
   {
    "duration": 7,
    "start_time": "2022-11-22T21:13:21.254Z"
   },
   {
    "duration": 16,
    "start_time": "2022-11-22T21:13:21.262Z"
   },
   {
    "duration": 32,
    "start_time": "2022-11-22T21:13:21.280Z"
   },
   {
    "duration": 32,
    "start_time": "2022-11-22T21:13:21.313Z"
   },
   {
    "duration": 3,
    "start_time": "2022-11-22T21:13:21.349Z"
   },
   {
    "duration": 9,
    "start_time": "2022-11-22T21:13:21.354Z"
   },
   {
    "duration": 4,
    "start_time": "2022-11-22T21:13:21.365Z"
   },
   {
    "duration": 6,
    "start_time": "2022-11-22T21:13:21.371Z"
   },
   {
    "duration": 27,
    "start_time": "2022-11-22T21:13:21.378Z"
   },
   {
    "duration": 37,
    "start_time": "2022-11-22T21:13:21.407Z"
   },
   {
    "duration": 10,
    "start_time": "2022-11-22T21:13:21.445Z"
   },
   {
    "duration": 4,
    "start_time": "2022-11-22T21:13:21.456Z"
   },
   {
    "duration": 11,
    "start_time": "2022-11-22T21:13:21.461Z"
   },
   {
    "duration": 34,
    "start_time": "2022-11-22T21:13:21.474Z"
   },
   {
    "duration": 14,
    "start_time": "2022-11-22T21:13:21.509Z"
   },
   {
    "duration": 3,
    "start_time": "2022-11-22T21:13:21.525Z"
   },
   {
    "duration": 18,
    "start_time": "2022-11-22T21:13:21.529Z"
   },
   {
    "duration": 6,
    "start_time": "2022-11-22T21:13:21.548Z"
   },
   {
    "duration": 3,
    "start_time": "2022-11-22T21:13:21.556Z"
   },
   {
    "duration": 45,
    "start_time": "2022-11-22T21:13:21.561Z"
   },
   {
    "duration": 7,
    "start_time": "2022-11-22T21:13:21.608Z"
   },
   {
    "duration": 5,
    "start_time": "2022-11-22T21:13:21.616Z"
   },
   {
    "duration": 7,
    "start_time": "2022-11-22T21:13:21.623Z"
   },
   {
    "duration": 6,
    "start_time": "2022-11-22T21:13:21.632Z"
   },
   {
    "duration": 7,
    "start_time": "2022-11-22T21:13:21.641Z"
   },
   {
    "duration": 12,
    "start_time": "2022-11-22T21:13:21.649Z"
   },
   {
    "duration": 46,
    "start_time": "2022-11-22T21:13:21.662Z"
   },
   {
    "duration": 6,
    "start_time": "2022-11-22T21:13:21.710Z"
   },
   {
    "duration": 9,
    "start_time": "2022-11-22T21:13:21.717Z"
   },
   {
    "duration": 15,
    "start_time": "2022-11-22T21:13:21.728Z"
   },
   {
    "duration": 7,
    "start_time": "2022-11-22T21:13:21.745Z"
   },
   {
    "duration": 8,
    "start_time": "2022-11-22T21:13:21.753Z"
   },
   {
    "duration": 46,
    "start_time": "2022-11-22T21:13:21.763Z"
   },
   {
    "duration": 24,
    "start_time": "2022-11-22T21:13:21.810Z"
   },
   {
    "duration": 2,
    "start_time": "2022-11-22T21:13:21.836Z"
   },
   {
    "duration": 24,
    "start_time": "2022-11-22T21:13:21.839Z"
   },
   {
    "duration": 15,
    "start_time": "2022-11-22T21:13:21.865Z"
   },
   {
    "duration": 462,
    "start_time": "2022-11-22T21:13:33.125Z"
   },
   {
    "duration": 23,
    "start_time": "2022-11-22T21:13:33.589Z"
   },
   {
    "duration": 4,
    "start_time": "2022-11-22T21:13:33.614Z"
   },
   {
    "duration": 6,
    "start_time": "2022-11-22T21:13:33.621Z"
   },
   {
    "duration": 20,
    "start_time": "2022-11-22T21:13:33.628Z"
   },
   {
    "duration": 10,
    "start_time": "2022-11-22T21:13:33.649Z"
   },
   {
    "duration": 58,
    "start_time": "2022-11-22T21:13:33.660Z"
   },
   {
    "duration": 4,
    "start_time": "2022-11-22T21:13:33.719Z"
   },
   {
    "duration": 13,
    "start_time": "2022-11-22T21:13:33.724Z"
   },
   {
    "duration": 5,
    "start_time": "2022-11-22T21:13:33.740Z"
   },
   {
    "duration": 8,
    "start_time": "2022-11-22T21:13:33.746Z"
   },
   {
    "duration": 4,
    "start_time": "2022-11-22T21:13:33.755Z"
   },
   {
    "duration": 57,
    "start_time": "2022-11-22T21:13:33.760Z"
   },
   {
    "duration": 10,
    "start_time": "2022-11-22T21:13:33.818Z"
   },
   {
    "duration": 8,
    "start_time": "2022-11-22T21:13:33.829Z"
   },
   {
    "duration": 15,
    "start_time": "2022-11-22T21:13:33.838Z"
   },
   {
    "duration": 21,
    "start_time": "2022-11-22T21:13:33.855Z"
   },
   {
    "duration": 34,
    "start_time": "2022-11-22T21:13:33.877Z"
   },
   {
    "duration": 3,
    "start_time": "2022-11-22T21:13:33.913Z"
   },
   {
    "duration": 17,
    "start_time": "2022-11-22T21:13:33.918Z"
   },
   {
    "duration": 14,
    "start_time": "2022-11-22T21:13:33.937Z"
   },
   {
    "duration": 5,
    "start_time": "2022-11-22T21:13:33.953Z"
   },
   {
    "duration": 32,
    "start_time": "2022-11-22T21:13:33.959Z"
   },
   {
    "duration": 15,
    "start_time": "2022-11-22T21:13:33.993Z"
   },
   {
    "duration": 6,
    "start_time": "2022-11-22T21:13:34.010Z"
   },
   {
    "duration": 8,
    "start_time": "2022-11-22T21:13:34.017Z"
   },
   {
    "duration": 8,
    "start_time": "2022-11-22T21:13:34.026Z"
   },
   {
    "duration": 8,
    "start_time": "2022-11-22T21:13:34.037Z"
   },
   {
    "duration": 12,
    "start_time": "2022-11-22T21:13:34.046Z"
   },
   {
    "duration": 9,
    "start_time": "2022-11-22T21:13:34.059Z"
   },
   {
    "duration": 43,
    "start_time": "2022-11-22T21:13:34.069Z"
   },
   {
    "duration": 11,
    "start_time": "2022-11-22T21:13:34.113Z"
   },
   {
    "duration": 17,
    "start_time": "2022-11-22T21:13:34.125Z"
   },
   {
    "duration": 8,
    "start_time": "2022-11-22T21:13:34.144Z"
   },
   {
    "duration": 10,
    "start_time": "2022-11-22T21:13:34.154Z"
   },
   {
    "duration": 45,
    "start_time": "2022-11-22T21:13:34.166Z"
   },
   {
    "duration": 25,
    "start_time": "2022-11-22T21:13:34.212Z"
   },
   {
    "duration": 3,
    "start_time": "2022-11-22T21:13:34.239Z"
   },
   {
    "duration": 21,
    "start_time": "2022-11-22T21:13:34.244Z"
   },
   {
    "duration": 39,
    "start_time": "2022-11-22T21:13:34.267Z"
   },
   {
    "duration": 70,
    "start_time": "2022-11-22T21:16:38.301Z"
   },
   {
    "duration": 14,
    "start_time": "2022-11-22T21:16:38.373Z"
   },
   {
    "duration": 5,
    "start_time": "2022-11-22T21:16:38.389Z"
   },
   {
    "duration": 9,
    "start_time": "2022-11-22T21:16:38.396Z"
   },
   {
    "duration": 17,
    "start_time": "2022-11-22T21:16:38.406Z"
   },
   {
    "duration": 11,
    "start_time": "2022-11-22T21:16:38.425Z"
   },
   {
    "duration": 33,
    "start_time": "2022-11-22T21:16:38.438Z"
   },
   {
    "duration": 4,
    "start_time": "2022-11-22T21:16:38.473Z"
   },
   {
    "duration": 31,
    "start_time": "2022-11-22T21:16:38.478Z"
   },
   {
    "duration": 5,
    "start_time": "2022-11-22T21:16:38.512Z"
   },
   {
    "duration": 8,
    "start_time": "2022-11-22T21:16:38.518Z"
   },
   {
    "duration": 5,
    "start_time": "2022-11-22T21:16:38.528Z"
   },
   {
    "duration": 36,
    "start_time": "2022-11-22T21:16:38.534Z"
   },
   {
    "duration": 34,
    "start_time": "2022-11-22T21:16:38.572Z"
   },
   {
    "duration": 4,
    "start_time": "2022-11-22T21:16:38.607Z"
   },
   {
    "duration": 14,
    "start_time": "2022-11-22T21:16:38.612Z"
   },
   {
    "duration": 22,
    "start_time": "2022-11-22T21:16:38.628Z"
   },
   {
    "duration": 17,
    "start_time": "2022-11-22T21:16:38.651Z"
   },
   {
    "duration": 3,
    "start_time": "2022-11-22T21:16:38.670Z"
   },
   {
    "duration": 38,
    "start_time": "2022-11-22T21:16:38.674Z"
   },
   {
    "duration": 6,
    "start_time": "2022-11-22T21:16:38.713Z"
   },
   {
    "duration": 5,
    "start_time": "2022-11-22T21:16:38.720Z"
   },
   {
    "duration": 32,
    "start_time": "2022-11-22T21:16:38.727Z"
   },
   {
    "duration": 7,
    "start_time": "2022-11-22T21:16:38.760Z"
   },
   {
    "duration": 8,
    "start_time": "2022-11-22T21:16:38.768Z"
   },
   {
    "duration": 28,
    "start_time": "2022-11-22T21:16:38.777Z"
   },
   {
    "duration": 8,
    "start_time": "2022-11-22T21:16:38.807Z"
   },
   {
    "duration": 7,
    "start_time": "2022-11-22T21:16:38.819Z"
   },
   {
    "duration": 17,
    "start_time": "2022-11-22T21:16:38.828Z"
   },
   {
    "duration": 8,
    "start_time": "2022-11-22T21:16:38.846Z"
   },
   {
    "duration": 8,
    "start_time": "2022-11-22T21:16:38.855Z"
   },
   {
    "duration": 43,
    "start_time": "2022-11-22T21:16:38.864Z"
   },
   {
    "duration": 15,
    "start_time": "2022-11-22T21:16:38.908Z"
   },
   {
    "duration": 7,
    "start_time": "2022-11-22T21:16:38.925Z"
   },
   {
    "duration": 8,
    "start_time": "2022-11-22T21:16:38.933Z"
   },
   {
    "duration": 12,
    "start_time": "2022-11-22T21:16:38.942Z"
   },
   {
    "duration": 58,
    "start_time": "2022-11-22T21:16:38.955Z"
   },
   {
    "duration": 2,
    "start_time": "2022-11-22T21:16:39.014Z"
   },
   {
    "duration": 27,
    "start_time": "2022-11-22T21:16:39.018Z"
   },
   {
    "duration": 16,
    "start_time": "2022-11-22T21:16:39.046Z"
   },
   {
    "duration": 473,
    "start_time": "2022-11-22T21:16:49.209Z"
   },
   {
    "duration": 22,
    "start_time": "2022-11-22T21:16:49.684Z"
   },
   {
    "duration": 4,
    "start_time": "2022-11-22T21:16:49.707Z"
   },
   {
    "duration": 10,
    "start_time": "2022-11-22T21:16:49.713Z"
   },
   {
    "duration": 18,
    "start_time": "2022-11-22T21:16:49.725Z"
   },
   {
    "duration": 10,
    "start_time": "2022-11-22T21:16:49.745Z"
   },
   {
    "duration": 52,
    "start_time": "2022-11-22T21:16:49.756Z"
   },
   {
    "duration": 5,
    "start_time": "2022-11-22T21:16:49.810Z"
   },
   {
    "duration": 10,
    "start_time": "2022-11-22T21:16:49.816Z"
   },
   {
    "duration": 5,
    "start_time": "2022-11-22T21:16:49.827Z"
   },
   {
    "duration": 9,
    "start_time": "2022-11-22T21:16:49.833Z"
   },
   {
    "duration": 5,
    "start_time": "2022-11-22T21:16:49.843Z"
   },
   {
    "duration": 58,
    "start_time": "2022-11-22T21:16:49.850Z"
   },
   {
    "duration": 9,
    "start_time": "2022-11-22T21:16:49.911Z"
   },
   {
    "duration": 5,
    "start_time": "2022-11-22T21:16:49.921Z"
   },
   {
    "duration": 13,
    "start_time": "2022-11-22T21:16:49.927Z"
   },
   {
    "duration": 19,
    "start_time": "2022-11-22T21:16:49.941Z"
   },
   {
    "duration": 16,
    "start_time": "2022-11-22T21:16:49.961Z"
   },
   {
    "duration": 28,
    "start_time": "2022-11-22T21:16:49.978Z"
   },
   {
    "duration": 16,
    "start_time": "2022-11-22T21:16:50.008Z"
   },
   {
    "duration": 11,
    "start_time": "2022-11-22T21:16:50.026Z"
   },
   {
    "duration": 3,
    "start_time": "2022-11-22T21:16:50.038Z"
   },
   {
    "duration": 29,
    "start_time": "2022-11-22T21:16:50.043Z"
   },
   {
    "duration": 6,
    "start_time": "2022-11-22T21:16:50.073Z"
   },
   {
    "duration": 25,
    "start_time": "2022-11-22T21:16:50.080Z"
   },
   {
    "duration": 9,
    "start_time": "2022-11-22T21:16:50.107Z"
   },
   {
    "duration": 8,
    "start_time": "2022-11-22T21:16:50.118Z"
   },
   {
    "duration": 8,
    "start_time": "2022-11-22T21:16:50.127Z"
   },
   {
    "duration": 17,
    "start_time": "2022-11-22T21:16:50.137Z"
   },
   {
    "duration": 9,
    "start_time": "2022-11-22T21:16:50.156Z"
   },
   {
    "duration": 8,
    "start_time": "2022-11-22T21:16:50.204Z"
   },
   {
    "duration": 10,
    "start_time": "2022-11-22T21:16:50.214Z"
   },
   {
    "duration": 15,
    "start_time": "2022-11-22T21:16:50.225Z"
   },
   {
    "duration": 8,
    "start_time": "2022-11-22T21:16:50.241Z"
   },
   {
    "duration": 8,
    "start_time": "2022-11-22T21:16:50.250Z"
   },
   {
    "duration": 45,
    "start_time": "2022-11-22T21:16:50.260Z"
   },
   {
    "duration": 25,
    "start_time": "2022-11-22T21:16:50.307Z"
   },
   {
    "duration": 2,
    "start_time": "2022-11-22T21:16:50.333Z"
   },
   {
    "duration": 25,
    "start_time": "2022-11-22T21:16:50.337Z"
   },
   {
    "duration": 15,
    "start_time": "2022-11-22T21:16:50.363Z"
   }
  ],
  "colab": {
   "name": "dpp_template_part2.ipynb",
   "provenance": []
  },
  "kernelspec": {
   "display_name": "Python 3 (ipykernel)",
   "language": "python",
   "name": "python3"
  },
  "language_info": {
   "codemirror_mode": {
    "name": "ipython",
    "version": 3
   },
   "file_extension": ".py",
   "mimetype": "text/x-python",
   "name": "python",
   "nbconvert_exporter": "python",
   "pygments_lexer": "ipython3",
   "version": "3.9.12"
  },
  "toc": {
   "base_numbering": 1,
   "nav_menu": {},
   "number_sections": true,
   "sideBar": true,
   "skip_h1_title": true,
   "title_cell": "Table of Contents",
   "title_sidebar": "Contents",
   "toc_cell": false,
   "toc_position": {},
   "toc_section_display": true,
   "toc_window_display": false
  }
 },
 "nbformat": 4,
 "nbformat_minor": 5
}
