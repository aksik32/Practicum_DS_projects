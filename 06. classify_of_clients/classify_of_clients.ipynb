{
 "cells": [
  {
   "cell_type": "markdown",
   "metadata": {},
   "source": [
    "# Проект \"Рекомендация тарифов\""
   ]
  },
  {
   "cell_type": "markdown",
   "metadata": {},
   "source": [
    "## Открытие и изучение файла с данными"
   ]
  },
  {
   "cell_type": "code",
   "execution_count": 9,
   "metadata": {},
   "outputs": [],
   "source": [
    "import pandas as pd\n",
    "from sklearn.model_selection import train_test_split\n",
    "from sklearn.tree import DecisionTreeClassifier\n",
    "from sklearn.ensemble import RandomForestClassifier\n",
    "from sklearn.linear_model import LogisticRegression\n",
    "from sklearn.metrics import accuracy_score"
   ]
  },
  {
   "cell_type": "code",
   "execution_count": 10,
   "metadata": {},
   "outputs": [],
   "source": [
    "df = pd.read_csv('/datasets/users_behavior.csv')"
   ]
  },
  {
   "cell_type": "code",
   "execution_count": 11,
   "metadata": {},
   "outputs": [
    {
     "data": {
      "text/plain": [
       "(3214, 5)"
      ]
     },
     "execution_count": 11,
     "metadata": {},
     "output_type": "execute_result"
    }
   ],
   "source": [
    "df.shape"
   ]
  },
  {
   "cell_type": "code",
   "execution_count": 12,
   "metadata": {},
   "outputs": [
    {
     "name": "stdout",
     "output_type": "stream",
     "text": [
      "<class 'pandas.core.frame.DataFrame'>\n",
      "RangeIndex: 3214 entries, 0 to 3213\n",
      "Data columns (total 5 columns):\n",
      " #   Column    Non-Null Count  Dtype  \n",
      "---  ------    --------------  -----  \n",
      " 0   calls     3214 non-null   float64\n",
      " 1   minutes   3214 non-null   float64\n",
      " 2   messages  3214 non-null   float64\n",
      " 3   mb_used   3214 non-null   float64\n",
      " 4   is_ultra  3214 non-null   int64  \n",
      "dtypes: float64(4), int64(1)\n",
      "memory usage: 125.7 KB\n"
     ]
    }
   ],
   "source": [
    "df.info()"
   ]
  },
  {
   "cell_type": "code",
   "execution_count": 13,
   "metadata": {
    "scrolled": false
   },
   "outputs": [
    {
     "data": {
      "text/html": [
       "<div>\n",
       "<style scoped>\n",
       "    .dataframe tbody tr th:only-of-type {\n",
       "        vertical-align: middle;\n",
       "    }\n",
       "\n",
       "    .dataframe tbody tr th {\n",
       "        vertical-align: top;\n",
       "    }\n",
       "\n",
       "    .dataframe thead th {\n",
       "        text-align: right;\n",
       "    }\n",
       "</style>\n",
       "<table border=\"1\" class=\"dataframe\">\n",
       "  <thead>\n",
       "    <tr style=\"text-align: right;\">\n",
       "      <th></th>\n",
       "      <th>calls</th>\n",
       "      <th>minutes</th>\n",
       "      <th>messages</th>\n",
       "      <th>mb_used</th>\n",
       "      <th>is_ultra</th>\n",
       "    </tr>\n",
       "  </thead>\n",
       "  <tbody>\n",
       "    <tr>\n",
       "      <th>0</th>\n",
       "      <td>40.0</td>\n",
       "      <td>311.90</td>\n",
       "      <td>83.0</td>\n",
       "      <td>19915.42</td>\n",
       "      <td>0</td>\n",
       "    </tr>\n",
       "    <tr>\n",
       "      <th>1</th>\n",
       "      <td>85.0</td>\n",
       "      <td>516.75</td>\n",
       "      <td>56.0</td>\n",
       "      <td>22696.96</td>\n",
       "      <td>0</td>\n",
       "    </tr>\n",
       "    <tr>\n",
       "      <th>2</th>\n",
       "      <td>77.0</td>\n",
       "      <td>467.66</td>\n",
       "      <td>86.0</td>\n",
       "      <td>21060.45</td>\n",
       "      <td>0</td>\n",
       "    </tr>\n",
       "    <tr>\n",
       "      <th>3</th>\n",
       "      <td>106.0</td>\n",
       "      <td>745.53</td>\n",
       "      <td>81.0</td>\n",
       "      <td>8437.39</td>\n",
       "      <td>1</td>\n",
       "    </tr>\n",
       "    <tr>\n",
       "      <th>4</th>\n",
       "      <td>66.0</td>\n",
       "      <td>418.74</td>\n",
       "      <td>1.0</td>\n",
       "      <td>14502.75</td>\n",
       "      <td>0</td>\n",
       "    </tr>\n",
       "  </tbody>\n",
       "</table>\n",
       "</div>"
      ],
      "text/plain": [
       "   calls  minutes  messages   mb_used  is_ultra\n",
       "0   40.0   311.90      83.0  19915.42         0\n",
       "1   85.0   516.75      56.0  22696.96         0\n",
       "2   77.0   467.66      86.0  21060.45         0\n",
       "3  106.0   745.53      81.0   8437.39         1\n",
       "4   66.0   418.74       1.0  14502.75         0"
      ]
     },
     "execution_count": 13,
     "metadata": {},
     "output_type": "execute_result"
    }
   ],
   "source": [
    "df.head()"
   ]
  },
  {
   "cell_type": "markdown",
   "metadata": {},
   "source": [
    "**Выводы:**\n",
    "\n",
    "- подключили все необходимые функции библиотеки sklearn;\n",
    "- загрузили данные с 3214 объектами и 5 признаками;\n",
    "- поскольку подбираем тарифный план - целевой признак находится в столбце \"is_ultra\"."
   ]
  },
  {
   "cell_type": "markdown",
   "metadata": {},
   "source": [
    "## Разделение исходных данных на обучающую, валидационную и тестовую выборки"
   ]
  },
  {
   "cell_type": "markdown",
   "metadata": {},
   "source": [
    "Разделим датафрейм на столбцы с целевым признаком - 'is_ultra' и столбцы с остальными признаками:"
   ]
  },
  {
   "cell_type": "code",
   "execution_count": 14,
   "metadata": {},
   "outputs": [],
   "source": [
    "features = df.drop('is_ultra', axis=1)\n",
    "target = df['is_ultra']"
   ]
  },
  {
   "cell_type": "markdown",
   "metadata": {},
   "source": [
    "Далее разделим полученные массивы на на обучающую, валидационную и тестовую выборки в соотношении 3:1:1. Сначала выделим тестовую выборку:"
   ]
  },
  {
   "cell_type": "code",
   "execution_count": 15,
   "metadata": {},
   "outputs": [],
   "source": [
    "features_train, features_test, target_train, target_test = (train_test_split(features, \n",
    "                                                            target, test_size=0.2, random_state=12345))"
   ]
  },
  {
   "cell_type": "markdown",
   "metadata": {},
   "source": [
    "Чтобы сохранить соотношение 3:1:1 для получения валидационной выборки надо взять одну четвертую часть от тренировочной выборки выше:"
   ]
  },
  {
   "cell_type": "code",
   "execution_count": 16,
   "metadata": {},
   "outputs": [],
   "source": [
    "features_train, features_valid, target_train, target_valid = \\\n",
    "train_test_split(features_train, target_train, test_size=0.25, random_state=12345)"
   ]
  },
  {
   "cell_type": "markdown",
   "metadata": {},
   "source": [
    "Размеры выборок:"
   ]
  },
  {
   "cell_type": "code",
   "execution_count": 17,
   "metadata": {},
   "outputs": [
    {
     "data": {
      "text/plain": [
       "643"
      ]
     },
     "execution_count": 17,
     "metadata": {},
     "output_type": "execute_result"
    }
   ],
   "source": [
    "features_test.shape[0] #тестовая выборка"
   ]
  },
  {
   "cell_type": "code",
   "execution_count": 18,
   "metadata": {},
   "outputs": [
    {
     "data": {
      "text/plain": [
       "1928"
      ]
     },
     "execution_count": 18,
     "metadata": {},
     "output_type": "execute_result"
    }
   ],
   "source": [
    "features_train.shape[0] #тренировочная выборка"
   ]
  },
  {
   "cell_type": "code",
   "execution_count": 19,
   "metadata": {},
   "outputs": [
    {
     "data": {
      "text/plain": [
       "643"
      ]
     },
     "execution_count": 19,
     "metadata": {},
     "output_type": "execute_result"
    }
   ],
   "source": [
    "features_valid.shape[0] #валидационная выборка"
   ]
  },
  {
   "cell_type": "markdown",
   "metadata": {},
   "source": [
    "**Выводы:**\n",
    "\n",
    "- скрытой тестовой выборки не было по условию, поэтому ипользовал разбиение в соотношении 3:1:1;\n",
    "- последовательно использовал функцию train_test_split сначала для формирования тестовой и тренировочной выборок, а затем для формирования валидационной выборки из тренировочной с изменением процентных долей;\n",
    "- получил длину тестовой и валидационной выборок 643, длину тренировочной выборки - 1928."
   ]
  },
  {
   "cell_type": "markdown",
   "metadata": {},
   "source": [
    "## Исследование качества разных моделей"
   ]
  },
  {
   "cell_type": "markdown",
   "metadata": {},
   "source": [
    "Рассмотрим три изученные модели: решающее дерево, случайный лес и логистическая регрессия. Для этого вначале проекта подключим соответствующие модели из библиотеки sklearn."
   ]
  },
  {
   "cell_type": "markdown",
   "metadata": {},
   "source": [
    "**6.1 Решающее дерево**"
   ]
  },
  {
   "cell_type": "markdown",
   "metadata": {},
   "source": [
    "Инициализируем модель решающего дерева:"
   ]
  },
  {
   "cell_type": "code",
   "execution_count": 20,
   "metadata": {},
   "outputs": [],
   "source": [
    "model = DecisionTreeClassifier(random_state=12345)"
   ]
  },
  {
   "cell_type": "markdown",
   "metadata": {},
   "source": [
    "Обучим модель на тренировочных данных:"
   ]
  },
  {
   "cell_type": "code",
   "execution_count": 21,
   "metadata": {},
   "outputs": [
    {
     "data": {
      "text/plain": [
       "DecisionTreeClassifier(random_state=12345)"
      ]
     },
     "execution_count": 21,
     "metadata": {},
     "output_type": "execute_result"
    }
   ],
   "source": [
    "model.fit(features_train, target_train)"
   ]
  },
  {
   "cell_type": "code",
   "execution_count": 23,
   "metadata": {},
   "outputs": [
    {
     "data": {
      "text/plain": [
       "28"
      ]
     },
     "execution_count": 23,
     "metadata": {},
     "output_type": "execute_result"
    }
   ],
   "source": [
    "model.get_depth()"
   ]
  },
  {
   "cell_type": "markdown",
   "metadata": {},
   "source": [
    "Получим предсказания по валидационной выборке:"
   ]
  },
  {
   "cell_type": "code",
   "execution_count": 24,
   "metadata": {},
   "outputs": [],
   "source": [
    "predictions = model.predict(features_valid)"
   ]
  },
  {
   "cell_type": "markdown",
   "metadata": {},
   "source": [
    "Считаем качество accuracy, подключив перед этим соответствующую функцию из библиотеки sklearn:"
   ]
  },
  {
   "cell_type": "code",
   "execution_count": 25,
   "metadata": {
    "scrolled": false
   },
   "outputs": [
    {
     "data": {
      "text/plain": [
       "0.7122861586314152"
      ]
     },
     "execution_count": 25,
     "metadata": {},
     "output_type": "execute_result"
    }
   ],
   "source": [
    "accuracy_score(target_valid, predictions)"
   ]
  },
  {
   "cell_type": "markdown",
   "metadata": {},
   "source": [
    "Попробуем подобрать параметры "
   ]
  },
  {
   "cell_type": "code",
   "execution_count": 27,
   "metadata": {
    "scrolled": true
   },
   "outputs": [
    {
     "name": "stdout",
     "output_type": "stream",
     "text": [
      "Accuracy лучшей модели: 0.7651632970451011\n",
      "Лучшая модель: DecisionTreeClassifier(max_depth=3, random_state=12345)\n"
     ]
    }
   ],
   "source": [
    "best_model = None\n",
    "best_result = 0\n",
    "for depth in range(1, 6):\n",
    "\tmodel = DecisionTreeClassifier(random_state=12345, max_depth=depth) # инициируем модель с заданной глубиной дерева\n",
    "\tmodel.fit(features_train, target_train) # обучаем модель\n",
    "\tpredictions = model.predict(features_valid) # получаем предсказания модели\n",
    "\tresult = accuracy_score(target_valid, predictions) # считаем качество модели\n",
    "\tif result > best_result:\n",
    "\t\tbest_model = model\n",
    "\t\tbest_result = result\n",
    "        \n",
    "print(\"Accuracy лучшей модели:\", best_result)\n",
    "print(\"Лучшая модель:\", best_model)"
   ]
  },
  {
   "cell_type": "markdown",
   "metadata": {},
   "source": [
    "**6.2 Cлучайный лес**"
   ]
  },
  {
   "cell_type": "markdown",
   "metadata": {},
   "source": [
    "Будем сразу перебирать варианты с разными гиперпараметрами (n_estimators и max_depth): "
   ]
  },
  {
   "cell_type": "code",
   "execution_count": 28,
   "metadata": {},
   "outputs": [
    {
     "name": "stdout",
     "output_type": "stream",
     "text": [
      "Accuracy лучшей модели: 0.7962674961119751\n",
      "Лучшая модель: RandomForestClassifier(max_depth=9, n_estimators=3, random_state=12345)\n"
     ]
    }
   ],
   "source": [
    "best_model = None\n",
    "best_result = 0\n",
    "\n",
    "for est in (10, 51, 3):\n",
    "    for depth in range(1, 11):\n",
    "        model = RandomForestClassifier(random_state=12345, n_estimators=est, max_depth=depth)\n",
    "        model.fit(features_train, target_train) # обучаем модель\n",
    "        predictions = model.predict(features_valid) # получаем предсказания модели\n",
    "        result = accuracy_score(target_valid, predictions) # считаем качество модели\n",
    "        if result > best_result:\n",
    "            best_model = model\n",
    "            best_result = result\n",
    "        \n",
    "print(\"Accuracy лучшей модели:\", best_result)\n",
    "print(\"Лучшая модель:\", best_model)"
   ]
  },
  {
   "cell_type": "markdown",
   "metadata": {},
   "source": [
    "**6.3 Логистическая регрессия**"
   ]
  },
  {
   "cell_type": "markdown",
   "metadata": {},
   "source": [
    "Инициализируем модель логистической регрессии с типовыми параметрами из теоретической части курса:"
   ]
  },
  {
   "cell_type": "code",
   "execution_count": 29,
   "metadata": {},
   "outputs": [],
   "source": [
    "model = LogisticRegression(random_state=12345, solver='lbfgs', max_iter=1000)"
   ]
  },
  {
   "cell_type": "markdown",
   "metadata": {},
   "source": [
    "Обучим модель на тренировочных данных:"
   ]
  },
  {
   "cell_type": "code",
   "execution_count": 30,
   "metadata": {},
   "outputs": [
    {
     "data": {
      "text/plain": [
       "LogisticRegression(max_iter=1000, random_state=12345)"
      ]
     },
     "execution_count": 30,
     "metadata": {},
     "output_type": "execute_result"
    }
   ],
   "source": [
    "model.fit(features_train, target_train)"
   ]
  },
  {
   "cell_type": "markdown",
   "metadata": {},
   "source": [
    "Получим предсказания по валидационной выборке:"
   ]
  },
  {
   "cell_type": "code",
   "execution_count": 31,
   "metadata": {},
   "outputs": [],
   "source": [
    "predictions = model.predict(features_valid)"
   ]
  },
  {
   "cell_type": "markdown",
   "metadata": {},
   "source": [
    "Считаем качество accuracy:"
   ]
  },
  {
   "cell_type": "code",
   "execution_count": 32,
   "metadata": {
    "scrolled": true
   },
   "outputs": [
    {
     "data": {
      "text/plain": [
       "0.7262830482115086"
      ]
     },
     "execution_count": 32,
     "metadata": {},
     "output_type": "execute_result"
    }
   ],
   "source": [
    "accuracy_score(target_valid, predictions)"
   ]
  },
  {
   "cell_type": "markdown",
   "metadata": {},
   "source": [
    "Выводы:\n",
    "- проанализировано три типа модели: решающее дерево с разной глубиной дерева (лучший результат правильности - 0.76 с глубиной 3), случайный лес с разными гиперпараметрами (лучший результат правильности - 0.79 с глубиной 9 и числом оценщиков 3) и логистическая регрессия (0.72);\n",
    "- для дальнейшей проверки качества на тестовой выборке выбираем модель с максимальным accuracy:\n",
    "Accuracy лучшей модели: 0.7962674961119751\n",
    "Лучшая модель: RandomForestClassifier(max_depth=9, n_estimators=3, random_state=12345)"
   ]
  },
  {
   "cell_type": "markdown",
   "metadata": {},
   "source": [
    "## Проверка качества модели на тестовой выборке"
   ]
  },
  {
   "cell_type": "markdown",
   "metadata": {},
   "source": [
    "Проверим качество выбранной модели с лучшими параметрами на тестовой выборке:"
   ]
  },
  {
   "cell_type": "markdown",
   "metadata": {},
   "source": [
    "Инициализируем модель:"
   ]
  },
  {
   "cell_type": "code",
   "execution_count": 27,
   "metadata": {},
   "outputs": [],
   "source": [
    "model = RandomForestClassifier(random_state=12345, max_depth=9, n_estimators=3)"
   ]
  },
  {
   "cell_type": "markdown",
   "metadata": {},
   "source": [
    "Обучим модель на тренировочных данных:"
   ]
  },
  {
   "cell_type": "code",
   "execution_count": 28,
   "metadata": {},
   "outputs": [
    {
     "data": {
      "text/plain": [
       "RandomForestClassifier(max_depth=9, n_estimators=3, random_state=12345)"
      ]
     },
     "execution_count": 28,
     "metadata": {},
     "output_type": "execute_result"
    }
   ],
   "source": [
    "model.fit(features_train, target_train)"
   ]
  },
  {
   "cell_type": "markdown",
   "metadata": {},
   "source": [
    "Получим предсказания по тестовой выборке:"
   ]
  },
  {
   "cell_type": "code",
   "execution_count": 29,
   "metadata": {},
   "outputs": [],
   "source": [
    "predictions = model.predict(features_test)"
   ]
  },
  {
   "cell_type": "markdown",
   "metadata": {},
   "source": [
    "Считаем качество accuracy:"
   ]
  },
  {
   "cell_type": "code",
   "execution_count": 30,
   "metadata": {
    "scrolled": false
   },
   "outputs": [
    {
     "data": {
      "text/plain": [
       "0.7931570762052877"
      ]
     },
     "execution_count": 30,
     "metadata": {},
     "output_type": "execute_result"
    }
   ],
   "source": [
    "accuracy_score(target_test, predictions)"
   ]
  },
  {
   "cell_type": "markdown",
   "metadata": {},
   "source": [
    "Выводы:\n",
    "На тестовой выборке проверено качество модели случайный лес: RandomForestClassifier(max_depth=9, n_estimators=3, random_state=12345). Значение accuracy = 0.79, что удовлетворяет поставленным требованиям."
   ]
  },
  {
   "cell_type": "markdown",
   "metadata": {},
   "source": [
    "## Проверка модели на адекватность"
   ]
  },
  {
   "cell_type": "markdown",
   "metadata": {},
   "source": [
    "В основе проверки на адекватность лежит очень простая идея. Модель считается адекватной, если способна \"побить\" любой \"наивный\" алгоритм, например предсказывающий случайный или постояный ответ.\n",
    "Для нашего проекта самую высокую точность дает \"наивный\" алгоритм, всегда предсказывающий самый популярный ответ (у нас это 0). Проверить точность такого подхода можно вручную или используя DummyClassifier."
   ]
  },
  {
   "cell_type": "markdown",
   "metadata": {},
   "source": [
    "Найдем доли тарифных планов в датасете. Доля тарифа ultra:"
   ]
  },
  {
   "cell_type": "code",
   "execution_count": 58,
   "metadata": {},
   "outputs": [
    {
     "data": {
      "text/plain": [
       "0.30549792531120334"
      ]
     },
     "execution_count": 58,
     "metadata": {},
     "output_type": "execute_result"
    }
   ],
   "source": [
    "target_train.sum() / len(target_train)"
   ]
  },
  {
   "cell_type": "markdown",
   "metadata": {},
   "source": [
    "Значит доля тарифа смарт:"
   ]
  },
  {
   "cell_type": "code",
   "execution_count": 59,
   "metadata": {},
   "outputs": [
    {
     "data": {
      "text/plain": [
       "0.6945020746887967"
      ]
     },
     "execution_count": 59,
     "metadata": {},
     "output_type": "execute_result"
    }
   ],
   "source": [
    "1 - target_train.sum() / len(target_train)"
   ]
  },
  {
   "cell_type": "markdown",
   "metadata": {},
   "source": [
    "значит если модель будет всегда предсказывать тариф смарт, то accuracy составит 0.69."
   ]
  },
  {
   "cell_type": "code",
   "execution_count": 33,
   "metadata": {},
   "outputs": [],
   "source": [
    "from sklearn.dummy import DummyClassifier"
   ]
  },
  {
   "cell_type": "code",
   "execution_count": 64,
   "metadata": {},
   "outputs": [
    {
     "data": {
      "text/plain": [
       "0.6945020746887967"
      ]
     },
     "execution_count": 64,
     "metadata": {},
     "output_type": "execute_result"
    }
   ],
   "source": [
    "dummy_clf = DummyClassifier(strategy=\"most_frequent\")\n",
    "dummy_clf.fit(features_train, target_train)\n",
    "dummy_clf.score(features_train, target_train) # значение accuracy"
   ]
  },
  {
   "cell_type": "markdown",
   "metadata": {},
   "source": [
    "**Выводы:**\n",
    "\n",
    "Accuracy для выбранной модели превосходит accuracy для случайной модели: 0.79 > 0.69. Следовательно, полученная модель адекватна."
   ]
  },
  {
   "cell_type": "markdown",
   "metadata": {},
   "source": [
    "## Общий вывод по исследованию"
   ]
  },
  {
   "cell_type": "markdown",
   "metadata": {},
   "source": [
    "Построена модель для задачи классификации (выбор подходящего тарифного плана) с максимально большим значением accuracy:\n",
    "\n",
    "Accuracy лучшей модели: 0.7962674961119751\n",
    "Лучшая модель: RandomForestClassifier(max_depth=9, n_estimators=3, random_state=12345)\n",
    "\n",
    "Адекватность модели проверена путем сравнения с наивной моделью, предсказывающей наиболее популярный тариф смарт(0.79 > 0.69)."
   ]
  }
 ],
 "metadata": {
  "ExecuteTimeLog": [
   {
    "duration": 454,
    "start_time": "2023-01-21T10:31:01.984Z"
   },
   {
    "duration": 8,
    "start_time": "2023-01-21T10:31:15.496Z"
   },
   {
    "duration": 11,
    "start_time": "2023-01-21T10:31:26.829Z"
   },
   {
    "duration": 12,
    "start_time": "2023-01-21T10:38:16.531Z"
   },
   {
    "duration": 5,
    "start_time": "2023-01-21T10:48:41.993Z"
   },
   {
    "duration": 76,
    "start_time": "2023-01-21T10:54:27.104Z"
   },
   {
    "duration": 5,
    "start_time": "2023-01-21T10:54:36.205Z"
   },
   {
    "duration": 808,
    "start_time": "2023-01-21T10:54:52.926Z"
   },
   {
    "duration": 27,
    "start_time": "2023-01-21T10:54:56.187Z"
   },
   {
    "duration": 6,
    "start_time": "2023-01-21T10:54:57.474Z"
   },
   {
    "duration": 15,
    "start_time": "2023-01-21T10:54:58.442Z"
   },
   {
    "duration": 13,
    "start_time": "2023-01-21T10:54:59.507Z"
   },
   {
    "duration": 3,
    "start_time": "2023-01-21T10:55:03.109Z"
   },
   {
    "duration": 43,
    "start_time": "2023-01-21T10:55:03.197Z"
   },
   {
    "duration": 8,
    "start_time": "2023-01-21T10:56:04.626Z"
   },
   {
    "duration": 5,
    "start_time": "2023-01-21T10:57:22.993Z"
   },
   {
    "duration": 5,
    "start_time": "2023-01-21T10:58:49.624Z"
   },
   {
    "duration": 8,
    "start_time": "2023-01-21T10:59:13.728Z"
   },
   {
    "duration": 4,
    "start_time": "2023-01-21T11:00:06.680Z"
   },
   {
    "duration": 3,
    "start_time": "2023-01-21T11:00:45.637Z"
   },
   {
    "duration": 5,
    "start_time": "2023-01-21T11:00:46.002Z"
   },
   {
    "duration": 5,
    "start_time": "2023-01-21T11:00:46.518Z"
   },
   {
    "duration": 3,
    "start_time": "2023-01-21T11:00:47.282Z"
   },
   {
    "duration": 5,
    "start_time": "2023-01-21T11:00:55.045Z"
   },
   {
    "duration": 4,
    "start_time": "2023-01-21T11:01:06.650Z"
   },
   {
    "duration": 4,
    "start_time": "2023-01-21T11:01:21.367Z"
   },
   {
    "duration": 4,
    "start_time": "2023-01-21T11:39:44.175Z"
   },
   {
    "duration": 5,
    "start_time": "2023-01-21T11:39:44.713Z"
   },
   {
    "duration": 4,
    "start_time": "2023-01-21T11:39:45.492Z"
   },
   {
    "duration": 4,
    "start_time": "2023-01-21T11:39:47.677Z"
   },
   {
    "duration": 5,
    "start_time": "2023-01-21T11:39:48.836Z"
   },
   {
    "duration": 4,
    "start_time": "2023-01-21T11:39:54.000Z"
   },
   {
    "duration": 4,
    "start_time": "2023-01-21T11:45:01.042Z"
   },
   {
    "duration": 4,
    "start_time": "2023-01-21T11:45:01.749Z"
   },
   {
    "duration": 3,
    "start_time": "2023-01-21T11:45:02.522Z"
   },
   {
    "duration": 48,
    "start_time": "2023-01-21T11:53:59.143Z"
   },
   {
    "duration": 67,
    "start_time": "2023-01-21T12:00:31.874Z"
   },
   {
    "duration": 2,
    "start_time": "2023-01-21T12:00:38.048Z"
   },
   {
    "duration": 16,
    "start_time": "2023-01-21T12:02:00.070Z"
   },
   {
    "duration": 6,
    "start_time": "2023-01-21T12:03:51.303Z"
   },
   {
    "duration": 16,
    "start_time": "2023-01-21T12:05:54.734Z"
   },
   {
    "duration": 3,
    "start_time": "2023-01-21T12:07:19.795Z"
   },
   {
    "duration": 4,
    "start_time": "2023-01-21T12:07:34.368Z"
   },
   {
    "duration": 14,
    "start_time": "2023-01-21T12:07:35.981Z"
   },
   {
    "duration": 5,
    "start_time": "2023-01-21T12:07:37.977Z"
   },
   {
    "duration": 3,
    "start_time": "2023-01-21T12:07:40.054Z"
   },
   {
    "duration": 5,
    "start_time": "2023-01-21T12:07:48.710Z"
   },
   {
    "duration": 1213,
    "start_time": "2023-01-21T14:37:09.252Z"
   },
   {
    "duration": 131,
    "start_time": "2023-01-21T14:37:10.467Z"
   },
   {
    "duration": 9,
    "start_time": "2023-01-21T14:37:10.600Z"
   },
   {
    "duration": 16,
    "start_time": "2023-01-21T14:37:10.611Z"
   },
   {
    "duration": 16,
    "start_time": "2023-01-21T14:37:10.629Z"
   },
   {
    "duration": 9,
    "start_time": "2023-01-21T14:37:10.647Z"
   },
   {
    "duration": 18,
    "start_time": "2023-01-21T14:37:10.657Z"
   },
   {
    "duration": 14,
    "start_time": "2023-01-21T14:37:10.677Z"
   },
   {
    "duration": 20,
    "start_time": "2023-01-21T14:37:10.692Z"
   },
   {
    "duration": 10,
    "start_time": "2023-01-21T14:37:10.714Z"
   },
   {
    "duration": 8,
    "start_time": "2023-01-21T14:37:10.726Z"
   },
   {
    "duration": 19,
    "start_time": "2023-01-21T14:37:10.736Z"
   },
   {
    "duration": 23,
    "start_time": "2023-01-21T14:37:10.756Z"
   },
   {
    "duration": 4,
    "start_time": "2023-01-21T14:37:10.781Z"
   },
   {
    "duration": 5,
    "start_time": "2023-01-21T14:37:15.575Z"
   },
   {
    "duration": 97,
    "start_time": "2023-01-21T14:37:17.310Z"
   },
   {
    "duration": 69,
    "start_time": "2023-01-21T14:37:23.711Z"
   },
   {
    "duration": 31,
    "start_time": "2023-01-21T14:37:33.703Z"
   },
   {
    "duration": 34,
    "start_time": "2023-01-21T14:37:48.631Z"
   },
   {
    "duration": 41,
    "start_time": "2023-01-21T14:38:29.470Z"
   },
   {
    "duration": 41,
    "start_time": "2023-01-21T14:38:34.220Z"
   },
   {
    "duration": 4,
    "start_time": "2023-01-21T15:38:40.361Z"
   },
   {
    "duration": 30,
    "start_time": "2023-01-21T15:38:40.377Z"
   },
   {
    "duration": 4,
    "start_time": "2023-01-21T15:38:40.409Z"
   },
   {
    "duration": 25,
    "start_time": "2023-01-21T15:38:40.415Z"
   },
   {
    "duration": 20,
    "start_time": "2023-01-21T15:38:40.442Z"
   },
   {
    "duration": 14,
    "start_time": "2023-01-21T15:38:40.464Z"
   },
   {
    "duration": 16,
    "start_time": "2023-01-21T15:38:40.480Z"
   },
   {
    "duration": 17,
    "start_time": "2023-01-21T15:38:40.497Z"
   },
   {
    "duration": 15,
    "start_time": "2023-01-21T15:38:40.515Z"
   },
   {
    "duration": 16,
    "start_time": "2023-01-21T15:38:40.531Z"
   },
   {
    "duration": 10,
    "start_time": "2023-01-21T15:38:40.549Z"
   },
   {
    "duration": 13,
    "start_time": "2023-01-21T15:38:40.561Z"
   },
   {
    "duration": 26,
    "start_time": "2023-01-21T15:38:40.576Z"
   },
   {
    "duration": 6,
    "start_time": "2023-01-21T15:38:40.604Z"
   },
   {
    "duration": 13,
    "start_time": "2023-01-21T15:38:40.612Z"
   },
   {
    "duration": 52,
    "start_time": "2023-01-21T15:38:40.627Z"
   },
   {
    "duration": 169,
    "start_time": "2023-01-21T15:39:03.248Z"
   },
   {
    "duration": 1974,
    "start_time": "2023-01-21T15:39:20.849Z"
   },
   {
    "duration": 3,
    "start_time": "2023-01-21T15:48:41.611Z"
   },
   {
    "duration": 54,
    "start_time": "2023-01-21T15:49:38.048Z"
   },
   {
    "duration": 4,
    "start_time": "2023-01-21T15:49:39.221Z"
   },
   {
    "duration": 5,
    "start_time": "2023-01-21T15:49:40.893Z"
   },
   {
    "duration": 2,
    "start_time": "2023-01-21T16:50:47.600Z"
   },
   {
    "duration": 47,
    "start_time": "2023-01-21T16:50:47.604Z"
   },
   {
    "duration": 4,
    "start_time": "2023-01-21T16:50:47.653Z"
   },
   {
    "duration": 29,
    "start_time": "2023-01-21T16:50:47.659Z"
   },
   {
    "duration": 11,
    "start_time": "2023-01-21T16:50:47.691Z"
   },
   {
    "duration": 12,
    "start_time": "2023-01-21T16:50:47.704Z"
   },
   {
    "duration": 15,
    "start_time": "2023-01-21T16:50:47.718Z"
   },
   {
    "duration": 23,
    "start_time": "2023-01-21T16:50:47.734Z"
   },
   {
    "duration": 9,
    "start_time": "2023-01-21T16:50:47.759Z"
   },
   {
    "duration": 6,
    "start_time": "2023-01-21T16:50:47.769Z"
   },
   {
    "duration": 7,
    "start_time": "2023-01-21T16:50:47.777Z"
   },
   {
    "duration": 7,
    "start_time": "2023-01-21T16:50:47.786Z"
   },
   {
    "duration": 19,
    "start_time": "2023-01-21T16:50:47.795Z"
   },
   {
    "duration": 5,
    "start_time": "2023-01-21T16:50:47.817Z"
   },
   {
    "duration": 17,
    "start_time": "2023-01-21T16:50:47.824Z"
   },
   {
    "duration": 46,
    "start_time": "2023-01-21T16:50:47.842Z"
   },
   {
    "duration": 2019,
    "start_time": "2023-01-21T16:50:47.890Z"
   },
   {
    "duration": 4,
    "start_time": "2023-01-21T16:50:49.911Z"
   },
   {
    "duration": 56,
    "start_time": "2023-01-21T16:50:49.916Z"
   },
   {
    "duration": 5,
    "start_time": "2023-01-21T16:50:49.973Z"
   },
   {
    "duration": 10,
    "start_time": "2023-01-21T16:50:49.979Z"
   },
   {
    "duration": 3,
    "start_time": "2023-01-21T16:50:53.568Z"
   },
   {
    "duration": 12,
    "start_time": "2023-01-21T16:51:32.928Z"
   },
   {
    "duration": 4,
    "start_time": "2023-01-21T16:51:56.803Z"
   },
   {
    "duration": 4,
    "start_time": "2023-01-21T16:52:12.025Z"
   },
   {
    "duration": 30,
    "start_time": "2023-01-21T16:53:17.981Z"
   },
   {
    "duration": 3,
    "start_time": "2023-01-21T16:59:06.215Z"
   },
   {
    "duration": 48,
    "start_time": "2023-01-21T16:59:13.414Z"
   },
   {
    "duration": 7,
    "start_time": "2023-01-21T16:59:20.567Z"
   },
   {
    "duration": 7,
    "start_time": "2023-01-21T16:59:23.261Z"
   },
   {
    "duration": 3,
    "start_time": "2023-01-21T16:59:59.321Z"
   },
   {
    "duration": 58,
    "start_time": "2023-01-21T16:59:59.326Z"
   },
   {
    "duration": 4,
    "start_time": "2023-01-21T16:59:59.386Z"
   },
   {
    "duration": 25,
    "start_time": "2023-01-21T16:59:59.392Z"
   },
   {
    "duration": 11,
    "start_time": "2023-01-21T16:59:59.419Z"
   },
   {
    "duration": 15,
    "start_time": "2023-01-21T16:59:59.431Z"
   },
   {
    "duration": 9,
    "start_time": "2023-01-21T16:59:59.448Z"
   },
   {
    "duration": 13,
    "start_time": "2023-01-21T16:59:59.458Z"
   },
   {
    "duration": 11,
    "start_time": "2023-01-21T16:59:59.472Z"
   },
   {
    "duration": 10,
    "start_time": "2023-01-21T16:59:59.485Z"
   },
   {
    "duration": 19,
    "start_time": "2023-01-21T16:59:59.497Z"
   },
   {
    "duration": 12,
    "start_time": "2023-01-21T16:59:59.517Z"
   },
   {
    "duration": 20,
    "start_time": "2023-01-21T16:59:59.531Z"
   },
   {
    "duration": 5,
    "start_time": "2023-01-21T16:59:59.552Z"
   },
   {
    "duration": 11,
    "start_time": "2023-01-21T16:59:59.559Z"
   },
   {
    "duration": 45,
    "start_time": "2023-01-21T16:59:59.572Z"
   },
   {
    "duration": 1845,
    "start_time": "2023-01-21T16:59:59.619Z"
   },
   {
    "duration": 3,
    "start_time": "2023-01-21T17:00:01.466Z"
   },
   {
    "duration": 118,
    "start_time": "2023-01-21T17:00:01.470Z"
   },
   {
    "duration": 5,
    "start_time": "2023-01-21T17:00:01.590Z"
   },
   {
    "duration": 48,
    "start_time": "2023-01-21T17:00:01.596Z"
   },
   {
    "duration": 73,
    "start_time": "2023-01-21T17:00:01.646Z"
   },
   {
    "duration": 44,
    "start_time": "2023-01-21T17:00:01.720Z"
   },
   {
    "duration": 40,
    "start_time": "2023-01-21T17:00:01.766Z"
   },
   {
    "duration": 37,
    "start_time": "2023-01-21T17:00:01.808Z"
   },
   {
    "duration": 44,
    "start_time": "2023-01-21T17:00:01.847Z"
   },
   {
    "duration": 66,
    "start_time": "2023-01-21T17:00:01.893Z"
   },
   {
    "duration": 31,
    "start_time": "2023-01-21T17:00:01.961Z"
   },
   {
    "duration": 5,
    "start_time": "2023-01-21T17:00:04.587Z"
   },
   {
    "duration": 2,
    "start_time": "2023-01-21T17:02:15.303Z"
   },
   {
    "duration": 40,
    "start_time": "2023-01-21T17:02:23.734Z"
   },
   {
    "duration": 5,
    "start_time": "2023-01-21T17:02:26.780Z"
   },
   {
    "duration": 4,
    "start_time": "2023-01-21T17:02:28.979Z"
   },
   {
    "duration": 3,
    "start_time": "2023-01-21T17:16:29.948Z"
   },
   {
    "duration": 36,
    "start_time": "2023-01-21T17:16:29.953Z"
   },
   {
    "duration": 4,
    "start_time": "2023-01-21T17:16:29.991Z"
   },
   {
    "duration": 42,
    "start_time": "2023-01-21T17:16:29.997Z"
   },
   {
    "duration": 25,
    "start_time": "2023-01-21T17:16:30.042Z"
   },
   {
    "duration": 12,
    "start_time": "2023-01-21T17:16:30.068Z"
   },
   {
    "duration": 24,
    "start_time": "2023-01-21T17:16:30.082Z"
   },
   {
    "duration": 31,
    "start_time": "2023-01-21T17:16:30.112Z"
   },
   {
    "duration": 42,
    "start_time": "2023-01-21T17:16:30.145Z"
   },
   {
    "duration": 33,
    "start_time": "2023-01-21T17:16:30.189Z"
   },
   {
    "duration": 7,
    "start_time": "2023-01-21T17:16:30.224Z"
   },
   {
    "duration": 33,
    "start_time": "2023-01-21T17:16:30.233Z"
   },
   {
    "duration": 44,
    "start_time": "2023-01-21T17:16:30.268Z"
   },
   {
    "duration": 19,
    "start_time": "2023-01-21T17:16:30.313Z"
   },
   {
    "duration": 47,
    "start_time": "2023-01-21T17:16:30.334Z"
   },
   {
    "duration": 60,
    "start_time": "2023-01-21T17:16:30.383Z"
   },
   {
    "duration": 1822,
    "start_time": "2023-01-21T17:16:34.209Z"
   },
   {
    "duration": 1913,
    "start_time": "2023-01-21T17:16:51.669Z"
   },
   {
    "duration": 3,
    "start_time": "2023-01-21T17:17:38.727Z"
   },
   {
    "duration": 36,
    "start_time": "2023-01-21T17:17:38.732Z"
   },
   {
    "duration": 5,
    "start_time": "2023-01-21T17:17:38.770Z"
   },
   {
    "duration": 19,
    "start_time": "2023-01-21T17:17:38.777Z"
   },
   {
    "duration": 16,
    "start_time": "2023-01-21T17:17:38.798Z"
   },
   {
    "duration": 4,
    "start_time": "2023-01-21T17:17:38.865Z"
   },
   {
    "duration": 14,
    "start_time": "2023-01-21T17:17:38.872Z"
   },
   {
    "duration": 10,
    "start_time": "2023-01-21T17:17:38.889Z"
   },
   {
    "duration": 15,
    "start_time": "2023-01-21T17:17:38.901Z"
   },
   {
    "duration": 14,
    "start_time": "2023-01-21T17:17:38.918Z"
   },
   {
    "duration": 5,
    "start_time": "2023-01-21T17:17:39.027Z"
   },
   {
    "duration": 17,
    "start_time": "2023-01-21T17:17:39.034Z"
   },
   {
    "duration": 32,
    "start_time": "2023-01-21T17:17:39.053Z"
   },
   {
    "duration": 6,
    "start_time": "2023-01-21T17:17:39.087Z"
   },
   {
    "duration": 18,
    "start_time": "2023-01-21T17:17:39.094Z"
   },
   {
    "duration": 36,
    "start_time": "2023-01-21T17:17:39.115Z"
   },
   {
    "duration": 1825,
    "start_time": "2023-01-21T17:17:39.154Z"
   },
   {
    "duration": 2,
    "start_time": "2023-01-21T17:17:40.982Z"
   },
   {
    "duration": 53,
    "start_time": "2023-01-21T17:17:40.986Z"
   },
   {
    "duration": 5,
    "start_time": "2023-01-21T17:17:41.041Z"
   },
   {
    "duration": 22,
    "start_time": "2023-01-21T17:17:41.048Z"
   },
   {
    "duration": 16,
    "start_time": "2023-01-21T17:17:41.072Z"
   },
   {
    "duration": 20,
    "start_time": "2023-01-21T17:17:41.090Z"
   },
   {
    "duration": 14,
    "start_time": "2023-01-21T17:17:41.112Z"
   },
   {
    "duration": 11,
    "start_time": "2023-01-21T17:17:41.128Z"
   },
   {
    "duration": 3,
    "start_time": "2023-01-21T17:17:44.081Z"
   },
   {
    "duration": 17,
    "start_time": "2023-01-21T17:18:20.695Z"
   },
   {
    "duration": 12,
    "start_time": "2023-01-21T17:18:23.638Z"
   },
   {
    "duration": 5,
    "start_time": "2023-01-21T17:18:24.857Z"
   },
   {
    "duration": 1787,
    "start_time": "2023-01-21T17:19:12.921Z"
   },
   {
    "duration": 34,
    "start_time": "2023-01-21T17:20:17.269Z"
   },
   {
    "duration": 11,
    "start_time": "2023-01-21T17:32:20.132Z"
   },
   {
    "duration": 9,
    "start_time": "2023-01-21T17:32:35.269Z"
   },
   {
    "duration": 8,
    "start_time": "2023-01-21T17:33:18.731Z"
   },
   {
    "duration": 7,
    "start_time": "2023-01-21T17:33:46.458Z"
   },
   {
    "duration": 8,
    "start_time": "2023-01-21T17:34:25.164Z"
   },
   {
    "duration": 7,
    "start_time": "2023-01-21T17:35:03.432Z"
   },
   {
    "duration": 4,
    "start_time": "2023-01-21T17:36:18.315Z"
   },
   {
    "duration": 1115,
    "start_time": "2023-01-21T17:54:59.197Z"
   },
   {
    "duration": 37,
    "start_time": "2023-01-21T17:55:00.314Z"
   },
   {
    "duration": 9,
    "start_time": "2023-01-21T17:55:00.353Z"
   },
   {
    "duration": 49,
    "start_time": "2023-01-21T17:55:00.364Z"
   },
   {
    "duration": 37,
    "start_time": "2023-01-21T17:55:00.416Z"
   },
   {
    "duration": 28,
    "start_time": "2023-01-21T17:55:00.455Z"
   },
   {
    "duration": 43,
    "start_time": "2023-01-21T17:55:00.485Z"
   },
   {
    "duration": 44,
    "start_time": "2023-01-21T17:55:00.530Z"
   },
   {
    "duration": 34,
    "start_time": "2023-01-21T17:55:00.576Z"
   },
   {
    "duration": 41,
    "start_time": "2023-01-21T17:55:00.612Z"
   },
   {
    "duration": 36,
    "start_time": "2023-01-21T17:55:00.655Z"
   },
   {
    "duration": 33,
    "start_time": "2023-01-21T17:55:00.693Z"
   },
   {
    "duration": 56,
    "start_time": "2023-01-21T17:55:00.728Z"
   },
   {
    "duration": 66,
    "start_time": "2023-01-21T17:55:00.787Z"
   },
   {
    "duration": 28,
    "start_time": "2023-01-21T17:55:00.857Z"
   },
   {
    "duration": 65,
    "start_time": "2023-01-21T17:55:00.886Z"
   },
   {
    "duration": 1839,
    "start_time": "2023-01-21T17:55:00.953Z"
   },
   {
    "duration": 3,
    "start_time": "2023-01-21T17:55:02.793Z"
   },
   {
    "duration": 75,
    "start_time": "2023-01-21T17:55:02.798Z"
   },
   {
    "duration": 5,
    "start_time": "2023-01-21T17:55:02.875Z"
   },
   {
    "duration": 12,
    "start_time": "2023-01-21T17:55:02.881Z"
   },
   {
    "duration": 8,
    "start_time": "2023-01-21T17:55:02.896Z"
   },
   {
    "duration": 17,
    "start_time": "2023-01-21T17:55:02.906Z"
   },
   {
    "duration": 20,
    "start_time": "2023-01-21T17:55:02.926Z"
   },
   {
    "duration": 6,
    "start_time": "2023-01-21T17:55:02.948Z"
   },
   {
    "duration": 50,
    "start_time": "2023-01-21T17:55:02.955Z"
   },
   {
    "duration": 34,
    "start_time": "2023-01-21T17:55:03.007Z"
   },
   {
    "duration": 35,
    "start_time": "2023-01-21T17:55:03.043Z"
   },
   {
    "duration": 11,
    "start_time": "2023-01-21T17:55:03.079Z"
   },
   {
    "duration": 15,
    "start_time": "2023-01-21T17:55:03.092Z"
   },
   {
    "duration": 1842,
    "start_time": "2023-01-21T17:55:03.108Z"
   },
   {
    "duration": 3,
    "start_time": "2023-01-21T17:55:04.952Z"
   },
   {
    "duration": 54,
    "start_time": "2023-01-21T17:55:04.956Z"
   },
   {
    "duration": 5,
    "start_time": "2023-01-21T17:55:05.011Z"
   },
   {
    "duration": 35,
    "start_time": "2023-01-21T17:55:05.017Z"
   },
   {
    "duration": 12,
    "start_time": "2023-01-21T17:55:05.054Z"
   },
   {
    "duration": 8,
    "start_time": "2023-01-21T17:55:05.067Z"
   },
   {
    "duration": 16,
    "start_time": "2023-01-21T17:55:05.077Z"
   },
   {
    "duration": 1796,
    "start_time": "2023-01-21T19:48:18.099Z"
   },
   {
    "duration": 31,
    "start_time": "2023-01-21T19:48:19.896Z"
   },
   {
    "duration": 8,
    "start_time": "2023-01-21T19:48:19.929Z"
   },
   {
    "duration": 24,
    "start_time": "2023-01-21T19:48:19.939Z"
   },
   {
    "duration": 13,
    "start_time": "2023-01-21T19:48:19.966Z"
   },
   {
    "duration": 5,
    "start_time": "2023-01-21T19:48:19.981Z"
   },
   {
    "duration": 5,
    "start_time": "2023-01-21T19:48:19.989Z"
   },
   {
    "duration": 6,
    "start_time": "2023-01-21T19:48:19.996Z"
   },
   {
    "duration": 8,
    "start_time": "2023-01-21T19:48:20.004Z"
   },
   {
    "duration": 5,
    "start_time": "2023-01-21T19:48:20.037Z"
   },
   {
    "duration": 10,
    "start_time": "2023-01-21T19:48:20.044Z"
   },
   {
    "duration": 4,
    "start_time": "2023-01-21T19:48:20.056Z"
   },
   {
    "duration": 19,
    "start_time": "2023-01-21T19:48:20.062Z"
   },
   {
    "duration": 5,
    "start_time": "2023-01-21T19:48:20.085Z"
   },
   {
    "duration": 8,
    "start_time": "2023-01-21T19:48:20.092Z"
   },
   {
    "duration": 64,
    "start_time": "2023-01-21T19:48:20.101Z"
   },
   {
    "duration": 1871,
    "start_time": "2023-01-21T19:48:20.168Z"
   },
   {
    "duration": 6,
    "start_time": "2023-01-21T19:48:22.042Z"
   },
   {
    "duration": 58,
    "start_time": "2023-01-21T19:48:22.051Z"
   },
   {
    "duration": 5,
    "start_time": "2023-01-21T19:48:22.111Z"
   },
   {
    "duration": 22,
    "start_time": "2023-01-21T19:48:22.117Z"
   },
   {
    "duration": 4,
    "start_time": "2023-01-21T19:48:22.141Z"
   },
   {
    "duration": 12,
    "start_time": "2023-01-21T19:48:22.147Z"
   },
   {
    "duration": 11,
    "start_time": "2023-01-21T19:48:22.161Z"
   },
   {
    "duration": 18,
    "start_time": "2023-01-21T19:48:22.174Z"
   },
   {
    "duration": 45,
    "start_time": "2023-01-21T19:48:22.194Z"
   },
   {
    "duration": 3,
    "start_time": "2023-01-21T19:48:22.241Z"
   },
   {
    "duration": 24,
    "start_time": "2023-01-21T19:48:22.246Z"
   },
   {
    "duration": 6,
    "start_time": "2023-01-21T19:48:22.272Z"
   },
   {
    "duration": 7,
    "start_time": "2023-01-21T19:48:22.280Z"
   },
   {
    "duration": 1763,
    "start_time": "2023-01-21T19:48:22.288Z"
   },
   {
    "duration": 5,
    "start_time": "2023-01-21T19:48:24.053Z"
   },
   {
    "duration": 63,
    "start_time": "2023-01-21T19:48:24.060Z"
   },
   {
    "duration": 4,
    "start_time": "2023-01-21T19:48:24.124Z"
   },
   {
    "duration": 37,
    "start_time": "2023-01-21T19:48:24.130Z"
   },
   {
    "duration": 25,
    "start_time": "2023-01-21T19:48:24.169Z"
   },
   {
    "duration": 17,
    "start_time": "2023-01-21T19:48:24.196Z"
   },
   {
    "duration": 25,
    "start_time": "2023-01-21T19:48:24.214Z"
   },
   {
    "duration": 104,
    "start_time": "2023-01-21T19:55:22.052Z"
   },
   {
    "duration": 9,
    "start_time": "2023-01-21T19:55:25.854Z"
   },
   {
    "duration": 9,
    "start_time": "2023-01-21T19:55:43.711Z"
   },
   {
    "duration": 3,
    "start_time": "2023-01-21T19:55:53.809Z"
   },
   {
    "duration": 15,
    "start_time": "2023-01-21T19:55:54.189Z"
   },
   {
    "duration": 10,
    "start_time": "2023-01-21T19:55:54.746Z"
   },
   {
    "duration": 4,
    "start_time": "2023-01-21T19:56:02.130Z"
   },
   {
    "duration": 5,
    "start_time": "2023-01-21T19:56:13.875Z"
   },
   {
    "duration": 6,
    "start_time": "2023-01-21T19:56:16.100Z"
   },
   {
    "duration": 31,
    "start_time": "2023-01-21T19:56:22.886Z"
   },
   {
    "duration": 4,
    "start_time": "2023-01-21T20:00:58.562Z"
   },
   {
    "duration": 1248,
    "start_time": "2023-01-22T06:49:31.048Z"
   },
   {
    "duration": 128,
    "start_time": "2023-01-22T06:49:32.299Z"
   },
   {
    "duration": 20,
    "start_time": "2023-01-22T06:49:32.430Z"
   },
   {
    "duration": 30,
    "start_time": "2023-01-22T06:49:32.452Z"
   },
   {
    "duration": 28,
    "start_time": "2023-01-22T06:49:32.485Z"
   },
   {
    "duration": 29,
    "start_time": "2023-01-22T06:49:32.515Z"
   },
   {
    "duration": 80,
    "start_time": "2023-01-22T06:49:38.652Z"
   },
   {
    "duration": 6,
    "start_time": "2023-01-22T06:49:47.370Z"
   },
   {
    "duration": 3,
    "start_time": "2023-01-22T06:57:36.927Z"
   },
   {
    "duration": 55,
    "start_time": "2023-01-22T06:57:36.933Z"
   },
   {
    "duration": 4,
    "start_time": "2023-01-22T06:57:36.990Z"
   },
   {
    "duration": 24,
    "start_time": "2023-01-22T06:57:36.999Z"
   },
   {
    "duration": 35,
    "start_time": "2023-01-22T06:57:37.025Z"
   },
   {
    "duration": 15,
    "start_time": "2023-01-22T06:57:37.062Z"
   },
   {
    "duration": 21,
    "start_time": "2023-01-22T06:57:37.079Z"
   },
   {
    "duration": 18,
    "start_time": "2023-01-22T06:57:37.102Z"
   },
   {
    "duration": 22,
    "start_time": "2023-01-22T06:57:37.123Z"
   },
   {
    "duration": 31,
    "start_time": "2023-01-22T06:57:37.147Z"
   },
   {
    "duration": 17,
    "start_time": "2023-01-22T06:57:37.180Z"
   },
   {
    "duration": 12,
    "start_time": "2023-01-22T06:57:37.200Z"
   },
   {
    "duration": 43,
    "start_time": "2023-01-22T06:57:37.215Z"
   },
   {
    "duration": 4,
    "start_time": "2023-01-22T06:57:44.314Z"
   },
   {
    "duration": 8,
    "start_time": "2023-01-22T06:58:49.944Z"
   },
   {
    "duration": 5,
    "start_time": "2023-01-22T06:58:50.952Z"
   },
   {
    "duration": 5,
    "start_time": "2023-01-22T06:58:51.870Z"
   },
   {
    "duration": 132,
    "start_time": "2023-01-22T06:58:53.967Z"
   },
   {
    "duration": 64,
    "start_time": "2023-01-22T06:59:05.342Z"
   },
   {
    "duration": 1921,
    "start_time": "2023-01-22T06:59:14.014Z"
   },
   {
    "duration": 3,
    "start_time": "2023-01-22T06:59:25.084Z"
   },
   {
    "duration": 52,
    "start_time": "2023-01-22T06:59:25.910Z"
   },
   {
    "duration": 5,
    "start_time": "2023-01-22T06:59:29.902Z"
   },
   {
    "duration": 5,
    "start_time": "2023-01-22T06:59:31.501Z"
   },
   {
    "duration": 3,
    "start_time": "2023-01-22T07:20:02.951Z"
   },
   {
    "duration": 8,
    "start_time": "2023-01-22T07:22:43.673Z"
   },
   {
    "duration": 6,
    "start_time": "2023-01-22T07:22:44.002Z"
   },
   {
    "duration": 116,
    "start_time": "2023-01-22T07:23:35.319Z"
   },
   {
    "duration": 15,
    "start_time": "2023-01-22T07:23:49.774Z"
   },
   {
    "duration": 6,
    "start_time": "2023-01-22T07:24:07.408Z"
   },
   {
    "duration": 11,
    "start_time": "2023-01-22T07:24:08.097Z"
   },
   {
    "duration": 7,
    "start_time": "2023-01-22T07:24:31.521Z"
   },
   {
    "duration": 6,
    "start_time": "2023-01-22T07:24:47.050Z"
   },
   {
    "duration": 10,
    "start_time": "2023-01-22T07:25:09.899Z"
   },
   {
    "duration": 11,
    "start_time": "2023-01-22T07:25:16.988Z"
   },
   {
    "duration": 12,
    "start_time": "2023-01-22T07:25:22.706Z"
   },
   {
    "duration": 19,
    "start_time": "2023-01-22T07:25:29.322Z"
   },
   {
    "duration": 1369,
    "start_time": "2023-01-22T07:25:40.912Z"
   },
   {
    "duration": 6,
    "start_time": "2023-01-22T07:26:10.471Z"
   },
   {
    "duration": 7,
    "start_time": "2023-01-22T07:26:12.516Z"
   },
   {
    "duration": 11,
    "start_time": "2023-01-22T07:26:13.316Z"
   },
   {
    "duration": 9,
    "start_time": "2023-01-22T07:26:39.333Z"
   },
   {
    "duration": 9,
    "start_time": "2023-01-22T07:26:55.415Z"
   },
   {
    "duration": 7,
    "start_time": "2023-01-22T07:27:10.583Z"
   },
   {
    "duration": 10,
    "start_time": "2023-01-22T07:40:11.818Z"
   },
   {
    "duration": 11,
    "start_time": "2023-01-22T07:49:56.134Z"
   },
   {
    "duration": 13,
    "start_time": "2023-01-22T07:50:42.029Z"
   },
   {
    "duration": 6,
    "start_time": "2023-01-22T07:53:32.293Z"
   },
   {
    "duration": 11,
    "start_time": "2023-01-22T07:56:34.723Z"
   },
   {
    "duration": 4,
    "start_time": "2023-01-22T07:57:39.443Z"
   },
   {
    "duration": 5,
    "start_time": "2023-01-22T07:57:54.015Z"
   },
   {
    "duration": 7,
    "start_time": "2023-01-22T07:59:30.324Z"
   },
   {
    "duration": 6,
    "start_time": "2023-01-22T08:01:06.827Z"
   },
   {
    "duration": 13,
    "start_time": "2023-01-22T08:01:20.195Z"
   },
   {
    "duration": 5,
    "start_time": "2023-01-22T08:01:33.519Z"
   },
   {
    "duration": 5,
    "start_time": "2023-01-22T08:01:47.823Z"
   }
  ],
  "kernelspec": {
   "display_name": "Python 3 (ipykernel)",
   "language": "python",
   "name": "python3"
  },
  "language_info": {
   "codemirror_mode": {
    "name": "ipython",
    "version": 3
   },
   "file_extension": ".py",
   "mimetype": "text/x-python",
   "name": "python",
   "nbconvert_exporter": "python",
   "pygments_lexer": "ipython3",
   "version": "3.9.12"
  },
  "toc": {
   "base_numbering": 1,
   "nav_menu": {},
   "number_sections": true,
   "sideBar": true,
   "skip_h1_title": true,
   "title_cell": "Содержание",
   "title_sidebar": "Contents",
   "toc_cell": true,
   "toc_position": {},
   "toc_section_display": true,
   "toc_window_display": true
  }
 },
 "nbformat": 4,
 "nbformat_minor": 2
}
