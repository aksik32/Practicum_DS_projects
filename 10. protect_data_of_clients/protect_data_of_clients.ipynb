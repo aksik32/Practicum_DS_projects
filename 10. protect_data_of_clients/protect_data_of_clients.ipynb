{
 "cells": [
  {
   "cell_type": "markdown",
   "metadata": {},
   "source": [
    "# Защита персональных данных клиентов"
   ]
  },
  {
   "cell_type": "markdown",
   "metadata": {},
   "source": [
    "## Загрузка данных"
   ]
  },
  {
   "cell_type": "markdown",
   "metadata": {},
   "source": [
    "Импортируем необходимые библиотеки, модели, функции:"
   ]
  },
  {
   "cell_type": "code",
   "execution_count": 1,
   "metadata": {},
   "outputs": [],
   "source": [
    "import pandas as pd\n",
    "import numpy as np\n",
    "\n",
    "from sklearn.linear_model import LinearRegression\n",
    "\n",
    "from warnings import warn\n",
    "from sklearn.metrics import r2_score"
   ]
  },
  {
   "cell_type": "markdown",
   "metadata": {},
   "source": [
    "Загружаем и изучаем исходные данные:"
   ]
  },
  {
   "cell_type": "code",
   "execution_count": 2,
   "metadata": {},
   "outputs": [
    {
     "data": {
      "text/html": [
       "<div>\n",
       "<style scoped>\n",
       "    .dataframe tbody tr th:only-of-type {\n",
       "        vertical-align: middle;\n",
       "    }\n",
       "\n",
       "    .dataframe tbody tr th {\n",
       "        vertical-align: top;\n",
       "    }\n",
       "\n",
       "    .dataframe thead th {\n",
       "        text-align: right;\n",
       "    }\n",
       "</style>\n",
       "<table border=\"1\" class=\"dataframe\">\n",
       "  <thead>\n",
       "    <tr style=\"text-align: right;\">\n",
       "      <th></th>\n",
       "      <th>Пол</th>\n",
       "      <th>Возраст</th>\n",
       "      <th>Зарплата</th>\n",
       "      <th>Члены семьи</th>\n",
       "      <th>Страховые выплаты</th>\n",
       "    </tr>\n",
       "  </thead>\n",
       "  <tbody>\n",
       "    <tr>\n",
       "      <th>0</th>\n",
       "      <td>1</td>\n",
       "      <td>41.0</td>\n",
       "      <td>49600.0</td>\n",
       "      <td>1</td>\n",
       "      <td>0</td>\n",
       "    </tr>\n",
       "    <tr>\n",
       "      <th>1</th>\n",
       "      <td>0</td>\n",
       "      <td>46.0</td>\n",
       "      <td>38000.0</td>\n",
       "      <td>1</td>\n",
       "      <td>1</td>\n",
       "    </tr>\n",
       "    <tr>\n",
       "      <th>2</th>\n",
       "      <td>0</td>\n",
       "      <td>29.0</td>\n",
       "      <td>21000.0</td>\n",
       "      <td>0</td>\n",
       "      <td>0</td>\n",
       "    </tr>\n",
       "    <tr>\n",
       "      <th>3</th>\n",
       "      <td>0</td>\n",
       "      <td>21.0</td>\n",
       "      <td>41700.0</td>\n",
       "      <td>2</td>\n",
       "      <td>0</td>\n",
       "    </tr>\n",
       "    <tr>\n",
       "      <th>4</th>\n",
       "      <td>1</td>\n",
       "      <td>28.0</td>\n",
       "      <td>26100.0</td>\n",
       "      <td>0</td>\n",
       "      <td>0</td>\n",
       "    </tr>\n",
       "    <tr>\n",
       "      <th>...</th>\n",
       "      <td>...</td>\n",
       "      <td>...</td>\n",
       "      <td>...</td>\n",
       "      <td>...</td>\n",
       "      <td>...</td>\n",
       "    </tr>\n",
       "    <tr>\n",
       "      <th>4995</th>\n",
       "      <td>0</td>\n",
       "      <td>28.0</td>\n",
       "      <td>35700.0</td>\n",
       "      <td>2</td>\n",
       "      <td>0</td>\n",
       "    </tr>\n",
       "    <tr>\n",
       "      <th>4996</th>\n",
       "      <td>0</td>\n",
       "      <td>34.0</td>\n",
       "      <td>52400.0</td>\n",
       "      <td>1</td>\n",
       "      <td>0</td>\n",
       "    </tr>\n",
       "    <tr>\n",
       "      <th>4997</th>\n",
       "      <td>0</td>\n",
       "      <td>20.0</td>\n",
       "      <td>33900.0</td>\n",
       "      <td>2</td>\n",
       "      <td>0</td>\n",
       "    </tr>\n",
       "    <tr>\n",
       "      <th>4998</th>\n",
       "      <td>1</td>\n",
       "      <td>22.0</td>\n",
       "      <td>32700.0</td>\n",
       "      <td>3</td>\n",
       "      <td>0</td>\n",
       "    </tr>\n",
       "    <tr>\n",
       "      <th>4999</th>\n",
       "      <td>1</td>\n",
       "      <td>28.0</td>\n",
       "      <td>40600.0</td>\n",
       "      <td>1</td>\n",
       "      <td>0</td>\n",
       "    </tr>\n",
       "  </tbody>\n",
       "</table>\n",
       "<p>5000 rows × 5 columns</p>\n",
       "</div>"
      ],
      "text/plain": [
       "      Пол  Возраст  Зарплата  Члены семьи  Страховые выплаты\n",
       "0       1     41.0   49600.0            1                  0\n",
       "1       0     46.0   38000.0            1                  1\n",
       "2       0     29.0   21000.0            0                  0\n",
       "3       0     21.0   41700.0            2                  0\n",
       "4       1     28.0   26100.0            0                  0\n",
       "...   ...      ...       ...          ...                ...\n",
       "4995    0     28.0   35700.0            2                  0\n",
       "4996    0     34.0   52400.0            1                  0\n",
       "4997    0     20.0   33900.0            2                  0\n",
       "4998    1     22.0   32700.0            3                  0\n",
       "4999    1     28.0   40600.0            1                  0\n",
       "\n",
       "[5000 rows x 5 columns]"
      ]
     },
     "execution_count": 2,
     "metadata": {},
     "output_type": "execute_result"
    }
   ],
   "source": [
    "data = pd.read_csv('/datasets/insurance.csv')\n",
    "data"
   ]
  },
  {
   "cell_type": "code",
   "execution_count": 3,
   "metadata": {
    "scrolled": false
   },
   "outputs": [
    {
     "data": {
      "text/html": [
       "<div>\n",
       "<style scoped>\n",
       "    .dataframe tbody tr th:only-of-type {\n",
       "        vertical-align: middle;\n",
       "    }\n",
       "\n",
       "    .dataframe tbody tr th {\n",
       "        vertical-align: top;\n",
       "    }\n",
       "\n",
       "    .dataframe thead th {\n",
       "        text-align: right;\n",
       "    }\n",
       "</style>\n",
       "<table border=\"1\" class=\"dataframe\">\n",
       "  <thead>\n",
       "    <tr style=\"text-align: right;\">\n",
       "      <th></th>\n",
       "      <th>Пол</th>\n",
       "      <th>Возраст</th>\n",
       "      <th>Зарплата</th>\n",
       "      <th>Члены семьи</th>\n",
       "      <th>Страховые выплаты</th>\n",
       "    </tr>\n",
       "  </thead>\n",
       "  <tbody>\n",
       "    <tr>\n",
       "      <th>count</th>\n",
       "      <td>5000.000000</td>\n",
       "      <td>5000.000000</td>\n",
       "      <td>5000.000000</td>\n",
       "      <td>5000.000000</td>\n",
       "      <td>5000.000000</td>\n",
       "    </tr>\n",
       "    <tr>\n",
       "      <th>mean</th>\n",
       "      <td>0.499000</td>\n",
       "      <td>30.952800</td>\n",
       "      <td>39916.360000</td>\n",
       "      <td>1.194200</td>\n",
       "      <td>0.148000</td>\n",
       "    </tr>\n",
       "    <tr>\n",
       "      <th>std</th>\n",
       "      <td>0.500049</td>\n",
       "      <td>8.440807</td>\n",
       "      <td>9900.083569</td>\n",
       "      <td>1.091387</td>\n",
       "      <td>0.463183</td>\n",
       "    </tr>\n",
       "    <tr>\n",
       "      <th>min</th>\n",
       "      <td>0.000000</td>\n",
       "      <td>18.000000</td>\n",
       "      <td>5300.000000</td>\n",
       "      <td>0.000000</td>\n",
       "      <td>0.000000</td>\n",
       "    </tr>\n",
       "    <tr>\n",
       "      <th>25%</th>\n",
       "      <td>0.000000</td>\n",
       "      <td>24.000000</td>\n",
       "      <td>33300.000000</td>\n",
       "      <td>0.000000</td>\n",
       "      <td>0.000000</td>\n",
       "    </tr>\n",
       "    <tr>\n",
       "      <th>50%</th>\n",
       "      <td>0.000000</td>\n",
       "      <td>30.000000</td>\n",
       "      <td>40200.000000</td>\n",
       "      <td>1.000000</td>\n",
       "      <td>0.000000</td>\n",
       "    </tr>\n",
       "    <tr>\n",
       "      <th>75%</th>\n",
       "      <td>1.000000</td>\n",
       "      <td>37.000000</td>\n",
       "      <td>46600.000000</td>\n",
       "      <td>2.000000</td>\n",
       "      <td>0.000000</td>\n",
       "    </tr>\n",
       "    <tr>\n",
       "      <th>max</th>\n",
       "      <td>1.000000</td>\n",
       "      <td>65.000000</td>\n",
       "      <td>79000.000000</td>\n",
       "      <td>6.000000</td>\n",
       "      <td>5.000000</td>\n",
       "    </tr>\n",
       "  </tbody>\n",
       "</table>\n",
       "</div>"
      ],
      "text/plain": [
       "               Пол      Возраст      Зарплата  Члены семьи  Страховые выплаты\n",
       "count  5000.000000  5000.000000   5000.000000  5000.000000        5000.000000\n",
       "mean      0.499000    30.952800  39916.360000     1.194200           0.148000\n",
       "std       0.500049     8.440807   9900.083569     1.091387           0.463183\n",
       "min       0.000000    18.000000   5300.000000     0.000000           0.000000\n",
       "25%       0.000000    24.000000  33300.000000     0.000000           0.000000\n",
       "50%       0.000000    30.000000  40200.000000     1.000000           0.000000\n",
       "75%       1.000000    37.000000  46600.000000     2.000000           0.000000\n",
       "max       1.000000    65.000000  79000.000000     6.000000           5.000000"
      ]
     },
     "execution_count": 3,
     "metadata": {},
     "output_type": "execute_result"
    }
   ],
   "source": [
    "data.describe()"
   ]
  },
  {
   "cell_type": "markdown",
   "metadata": {},
   "source": [
    "### Поиск и удаление дубликатов"
   ]
  },
  {
   "cell_type": "markdown",
   "metadata": {},
   "source": [
    "Проверяем наличие полных дубликатов:"
   ]
  },
  {
   "cell_type": "code",
   "execution_count": 4,
   "metadata": {},
   "outputs": [
    {
     "data": {
      "text/html": [
       "<div>\n",
       "<style scoped>\n",
       "    .dataframe tbody tr th:only-of-type {\n",
       "        vertical-align: middle;\n",
       "    }\n",
       "\n",
       "    .dataframe tbody tr th {\n",
       "        vertical-align: top;\n",
       "    }\n",
       "\n",
       "    .dataframe thead th {\n",
       "        text-align: right;\n",
       "    }\n",
       "</style>\n",
       "<table border=\"1\" class=\"dataframe\">\n",
       "  <thead>\n",
       "    <tr style=\"text-align: right;\">\n",
       "      <th></th>\n",
       "      <th>Пол</th>\n",
       "      <th>Возраст</th>\n",
       "      <th>Зарплата</th>\n",
       "      <th>Члены семьи</th>\n",
       "      <th>Страховые выплаты</th>\n",
       "    </tr>\n",
       "  </thead>\n",
       "  <tbody>\n",
       "    <tr>\n",
       "      <th>281</th>\n",
       "      <td>1</td>\n",
       "      <td>39.0</td>\n",
       "      <td>48100.0</td>\n",
       "      <td>1</td>\n",
       "      <td>0</td>\n",
       "    </tr>\n",
       "    <tr>\n",
       "      <th>488</th>\n",
       "      <td>1</td>\n",
       "      <td>24.0</td>\n",
       "      <td>32900.0</td>\n",
       "      <td>1</td>\n",
       "      <td>0</td>\n",
       "    </tr>\n",
       "    <tr>\n",
       "      <th>513</th>\n",
       "      <td>0</td>\n",
       "      <td>31.0</td>\n",
       "      <td>37400.0</td>\n",
       "      <td>2</td>\n",
       "      <td>0</td>\n",
       "    </tr>\n",
       "    <tr>\n",
       "      <th>718</th>\n",
       "      <td>1</td>\n",
       "      <td>22.0</td>\n",
       "      <td>32600.0</td>\n",
       "      <td>1</td>\n",
       "      <td>0</td>\n",
       "    </tr>\n",
       "    <tr>\n",
       "      <th>785</th>\n",
       "      <td>0</td>\n",
       "      <td>20.0</td>\n",
       "      <td>35800.0</td>\n",
       "      <td>0</td>\n",
       "      <td>0</td>\n",
       "    </tr>\n",
       "    <tr>\n",
       "      <th>...</th>\n",
       "      <td>...</td>\n",
       "      <td>...</td>\n",
       "      <td>...</td>\n",
       "      <td>...</td>\n",
       "      <td>...</td>\n",
       "    </tr>\n",
       "    <tr>\n",
       "      <th>4793</th>\n",
       "      <td>1</td>\n",
       "      <td>24.0</td>\n",
       "      <td>37800.0</td>\n",
       "      <td>0</td>\n",
       "      <td>0</td>\n",
       "    </tr>\n",
       "    <tr>\n",
       "      <th>4902</th>\n",
       "      <td>1</td>\n",
       "      <td>35.0</td>\n",
       "      <td>38700.0</td>\n",
       "      <td>1</td>\n",
       "      <td>0</td>\n",
       "    </tr>\n",
       "    <tr>\n",
       "      <th>4935</th>\n",
       "      <td>1</td>\n",
       "      <td>19.0</td>\n",
       "      <td>32700.0</td>\n",
       "      <td>0</td>\n",
       "      <td>0</td>\n",
       "    </tr>\n",
       "    <tr>\n",
       "      <th>4945</th>\n",
       "      <td>1</td>\n",
       "      <td>21.0</td>\n",
       "      <td>45800.0</td>\n",
       "      <td>0</td>\n",
       "      <td>0</td>\n",
       "    </tr>\n",
       "    <tr>\n",
       "      <th>4965</th>\n",
       "      <td>0</td>\n",
       "      <td>22.0</td>\n",
       "      <td>40100.0</td>\n",
       "      <td>1</td>\n",
       "      <td>0</td>\n",
       "    </tr>\n",
       "  </tbody>\n",
       "</table>\n",
       "<p>153 rows × 5 columns</p>\n",
       "</div>"
      ],
      "text/plain": [
       "      Пол  Возраст  Зарплата  Члены семьи  Страховые выплаты\n",
       "281     1     39.0   48100.0            1                  0\n",
       "488     1     24.0   32900.0            1                  0\n",
       "513     0     31.0   37400.0            2                  0\n",
       "718     1     22.0   32600.0            1                  0\n",
       "785     0     20.0   35800.0            0                  0\n",
       "...   ...      ...       ...          ...                ...\n",
       "4793    1     24.0   37800.0            0                  0\n",
       "4902    1     35.0   38700.0            1                  0\n",
       "4935    1     19.0   32700.0            0                  0\n",
       "4945    1     21.0   45800.0            0                  0\n",
       "4965    0     22.0   40100.0            1                  0\n",
       "\n",
       "[153 rows x 5 columns]"
      ]
     },
     "execution_count": 4,
     "metadata": {},
     "output_type": "execute_result"
    }
   ],
   "source": [
    "data[data.duplicated()==True]"
   ]
  },
  {
   "cell_type": "markdown",
   "metadata": {},
   "source": [
    "Нашлось 153 полных дубликата, они составляют 153/5000 = 0.03 часть от общих данных, то есть можем их удалить. Но поскольку нет привязки к ID пользователя мы не можем на 100% считать их дубликатами. Поэтому не будем их удалять."
   ]
  },
  {
   "cell_type": "markdown",
   "metadata": {},
   "source": [
    "### Проверка и удаление пропусков"
   ]
  },
  {
   "cell_type": "code",
   "execution_count": 5,
   "metadata": {
    "scrolled": true
   },
   "outputs": [
    {
     "data": {
      "text/plain": [
       "Пол                  0\n",
       "Возраст              0\n",
       "Зарплата             0\n",
       "Члены семьи          0\n",
       "Страховые выплаты    0\n",
       "dtype: int64"
      ]
     },
     "execution_count": 5,
     "metadata": {},
     "output_type": "execute_result"
    }
   ],
   "source": [
    "data.isna().sum()"
   ]
  },
  {
   "cell_type": "markdown",
   "metadata": {},
   "source": [
    "Пропусков не обнаружено."
   ]
  },
  {
   "cell_type": "markdown",
   "metadata": {},
   "source": [
    "### Провека наличия неинформативных признаков"
   ]
  },
  {
   "cell_type": "markdown",
   "metadata": {},
   "source": [
    "Все признаки информативны."
   ]
  },
  {
   "cell_type": "markdown",
   "metadata": {},
   "source": [
    "### Разделение данных по целевому и нецелевому признакам"
   ]
  },
  {
   "cell_type": "code",
   "execution_count": 6,
   "metadata": {
    "scrolled": true
   },
   "outputs": [
    {
     "data": {
      "text/html": [
       "<div>\n",
       "<style scoped>\n",
       "    .dataframe tbody tr th:only-of-type {\n",
       "        vertical-align: middle;\n",
       "    }\n",
       "\n",
       "    .dataframe tbody tr th {\n",
       "        vertical-align: top;\n",
       "    }\n",
       "\n",
       "    .dataframe thead th {\n",
       "        text-align: right;\n",
       "    }\n",
       "</style>\n",
       "<table border=\"1\" class=\"dataframe\">\n",
       "  <thead>\n",
       "    <tr style=\"text-align: right;\">\n",
       "      <th></th>\n",
       "      <th>Пол</th>\n",
       "      <th>Возраст</th>\n",
       "      <th>Зарплата</th>\n",
       "      <th>Члены семьи</th>\n",
       "    </tr>\n",
       "  </thead>\n",
       "  <tbody>\n",
       "    <tr>\n",
       "      <th>0</th>\n",
       "      <td>1</td>\n",
       "      <td>41.0</td>\n",
       "      <td>49600.0</td>\n",
       "      <td>1</td>\n",
       "    </tr>\n",
       "    <tr>\n",
       "      <th>1</th>\n",
       "      <td>0</td>\n",
       "      <td>46.0</td>\n",
       "      <td>38000.0</td>\n",
       "      <td>1</td>\n",
       "    </tr>\n",
       "    <tr>\n",
       "      <th>2</th>\n",
       "      <td>0</td>\n",
       "      <td>29.0</td>\n",
       "      <td>21000.0</td>\n",
       "      <td>0</td>\n",
       "    </tr>\n",
       "    <tr>\n",
       "      <th>3</th>\n",
       "      <td>0</td>\n",
       "      <td>21.0</td>\n",
       "      <td>41700.0</td>\n",
       "      <td>2</td>\n",
       "    </tr>\n",
       "    <tr>\n",
       "      <th>4</th>\n",
       "      <td>1</td>\n",
       "      <td>28.0</td>\n",
       "      <td>26100.0</td>\n",
       "      <td>0</td>\n",
       "    </tr>\n",
       "    <tr>\n",
       "      <th>...</th>\n",
       "      <td>...</td>\n",
       "      <td>...</td>\n",
       "      <td>...</td>\n",
       "      <td>...</td>\n",
       "    </tr>\n",
       "    <tr>\n",
       "      <th>4995</th>\n",
       "      <td>0</td>\n",
       "      <td>28.0</td>\n",
       "      <td>35700.0</td>\n",
       "      <td>2</td>\n",
       "    </tr>\n",
       "    <tr>\n",
       "      <th>4996</th>\n",
       "      <td>0</td>\n",
       "      <td>34.0</td>\n",
       "      <td>52400.0</td>\n",
       "      <td>1</td>\n",
       "    </tr>\n",
       "    <tr>\n",
       "      <th>4997</th>\n",
       "      <td>0</td>\n",
       "      <td>20.0</td>\n",
       "      <td>33900.0</td>\n",
       "      <td>2</td>\n",
       "    </tr>\n",
       "    <tr>\n",
       "      <th>4998</th>\n",
       "      <td>1</td>\n",
       "      <td>22.0</td>\n",
       "      <td>32700.0</td>\n",
       "      <td>3</td>\n",
       "    </tr>\n",
       "    <tr>\n",
       "      <th>4999</th>\n",
       "      <td>1</td>\n",
       "      <td>28.0</td>\n",
       "      <td>40600.0</td>\n",
       "      <td>1</td>\n",
       "    </tr>\n",
       "  </tbody>\n",
       "</table>\n",
       "<p>5000 rows × 4 columns</p>\n",
       "</div>"
      ],
      "text/plain": [
       "      Пол  Возраст  Зарплата  Члены семьи\n",
       "0       1     41.0   49600.0            1\n",
       "1       0     46.0   38000.0            1\n",
       "2       0     29.0   21000.0            0\n",
       "3       0     21.0   41700.0            2\n",
       "4       1     28.0   26100.0            0\n",
       "...   ...      ...       ...          ...\n",
       "4995    0     28.0   35700.0            2\n",
       "4996    0     34.0   52400.0            1\n",
       "4997    0     20.0   33900.0            2\n",
       "4998    1     22.0   32700.0            3\n",
       "4999    1     28.0   40600.0            1\n",
       "\n",
       "[5000 rows x 4 columns]"
      ]
     },
     "execution_count": 6,
     "metadata": {},
     "output_type": "execute_result"
    }
   ],
   "source": [
    "features = data.drop('Страховые выплаты', axis=1) # нецелевые признаки\n",
    "features"
   ]
  },
  {
   "cell_type": "code",
   "execution_count": 7,
   "metadata": {},
   "outputs": [
    {
     "data": {
      "text/plain": [
       "0       0\n",
       "1       1\n",
       "2       0\n",
       "3       0\n",
       "4       0\n",
       "       ..\n",
       "4995    0\n",
       "4996    0\n",
       "4997    0\n",
       "4998    0\n",
       "4999    0\n",
       "Name: Страховые выплаты, Length: 5000, dtype: int64"
      ]
     },
     "execution_count": 7,
     "metadata": {},
     "output_type": "execute_result"
    }
   ],
   "source": [
    "target = data['Страховые выплаты'] #целевой признак\n",
    "target"
   ]
  },
  {
   "cell_type": "markdown",
   "metadata": {},
   "source": [
    "### Промежуточные выводы"
   ]
  },
  {
   "cell_type": "markdown",
   "metadata": {},
   "source": [
    "Проведена загрузка, изучение и предобработка исходных данных:\n",
    "\n",
    "- исходный датасет состоит из 5000 элементов и 5 признаков; признаки: пол, возраст, зарплата, члены семьи; целевой признак: страховые выплаты;\n",
    "- обнаружены 153 полных дубликата, они составляли около 3% от общего набора данны, но принято решение их не удалять;\n",
    "- пропуски не обнаружены;\n",
    "- неинформативные признаки не обнаружены;\n",
    "- данные разделены по целевому (4847,1) и нецелевому признакам (4847,4)."
   ]
  },
  {
   "cell_type": "code",
   "execution_count": 8,
   "metadata": {
    "scrolled": true
   },
   "outputs": [
    {
     "data": {
      "image/png": "[encoded data removed]",
      "text/plain": [
       "<Figure size 432x432 with 1 Axes>"
      ]
     },
     "metadata": {},
     "output_type": "display_data"
    }
   ],
   "source": [
    "(data['Пол']\n",
    "            .value_counts()\n",
    "            .plot.pie(figsize=(6, 6))\n",
    ");"
   ]
  },
  {
   "cell_type": "code",
   "execution_count": 9,
   "metadata": {},
   "outputs": [
    {
     "data": {
      "image/png": "[encoded data removed]",
      "text/plain": [
       "<Figure size 432x432 with 1 Axes>"
      ]
     },
     "metadata": {
      "needs_background": "light"
     },
     "output_type": "display_data"
    }
   ],
   "source": [
    "(data['Пол']\n",
    "            .value_counts()\n",
    "            .plot.bar(figsize=(6, 6))\n",
    ");"
   ]
  },
  {
   "cell_type": "markdown",
   "metadata": {},
   "source": [
    "Можем сделать вывод, что женщины и мужчины представлены практически в равном или в равном соотношении."
   ]
  },
  {
   "cell_type": "code",
   "execution_count": 10,
   "metadata": {},
   "outputs": [
    {
     "data": {
      "image/png": "[encoded data removed]",
      "text/plain": [
       "<Figure size 432x432 with 1 Axes>"
      ]
     },
     "metadata": {},
     "output_type": "display_data"
    }
   ],
   "source": [
    "(data['Члены семьи']\n",
    "            .value_counts()\n",
    "            .plot.pie(figsize=(6, 6))\n",
    ");"
   ]
  },
  {
   "cell_type": "code",
   "execution_count": 11,
   "metadata": {},
   "outputs": [
    {
     "data": {
      "image/png": "[encoded data removed]",
      "text/plain": [
       "<Figure size 432x432 with 1 Axes>"
      ]
     },
     "metadata": {
      "needs_background": "light"
     },
     "output_type": "display_data"
    }
   ],
   "source": [
    "(data['Члены семьи']\n",
    "            .value_counts()\n",
    "            .plot.bar(figsize=(6, 6))\n",
    ");"
   ]
  },
  {
   "cell_type": "markdown",
   "metadata": {},
   "source": [
    "Члены семьи варьируются от 1 до 6. В основном это 0 или 1 член семьи."
   ]
  },
  {
   "cell_type": "code",
   "execution_count": 12,
   "metadata": {},
   "outputs": [
    {
     "data": {
      "image/png": "[encoded data removed]",
      "text/plain": [
       "<Figure size 432x432 with 1 Axes>"
      ]
     },
     "metadata": {},
     "output_type": "display_data"
    }
   ],
   "source": [
    "(data['Страховые выплаты']\n",
    "            .value_counts()\n",
    "            .plot.pie(figsize=(6, 6))\n",
    ");"
   ]
  },
  {
   "cell_type": "markdown",
   "metadata": {},
   "source": [
    "Видим, что подавляющее число семей не пользовалась страховыми выплатами. Что \"на руку\" страховым компаниям."
   ]
  },
  {
   "cell_type": "code",
   "execution_count": 13,
   "metadata": {},
   "outputs": [
    {
     "data": {
      "image/png": "[encoded data removed]",
      "text/plain": [
       "<Figure size 432x432 with 1 Axes>"
      ]
     },
     "metadata": {
      "needs_background": "light"
     },
     "output_type": "display_data"
    }
   ],
   "source": [
    "(data['Возраст']\n",
    "            .plot.hist(figsize=(6, 6))\n",
    ");"
   ]
  },
  {
   "cell_type": "markdown",
   "metadata": {},
   "source": [
    "Подавляющее большинство - клиенты до 40 лет."
   ]
  },
  {
   "cell_type": "code",
   "execution_count": 14,
   "metadata": {},
   "outputs": [
    {
     "data": {
      "image/png": "[encoded data removed]",
      "text/plain": [
       "<Figure size 432x432 with 1 Axes>"
      ]
     },
     "metadata": {
      "needs_background": "light"
     },
     "output_type": "display_data"
    }
   ],
   "source": [
    "(data['Зарплата']\n",
    "            .plot.hist(figsize=(6, 6))\n",
    ");"
   ]
  },
  {
   "cell_type": "markdown",
   "metadata": {},
   "source": [
    "График похож на нормальное распределение со средним и стандартным отклонением:"
   ]
  },
  {
   "cell_type": "code",
   "execution_count": 15,
   "metadata": {},
   "outputs": [
    {
     "data": {
      "text/plain": [
       "mean    39916.360000\n",
       "std      9900.083569\n",
       "Name: Зарплата, dtype: float64"
      ]
     },
     "execution_count": 15,
     "metadata": {},
     "output_type": "execute_result"
    }
   ],
   "source": [
    "data['Зарплата'].describe()[1:3]"
   ]
  },
  {
   "cell_type": "markdown",
   "metadata": {},
   "source": [
    "## Умножение матриц"
   ]
  },
  {
   "cell_type": "markdown",
   "metadata": {},
   "source": [
    "### Изменится ли качество линейной регрессии?"
   ]
  },
  {
   "cell_type": "markdown",
   "metadata": {},
   "source": [
    " Признаки умножают на обратимую матрицу. Изменится ли качество линейной регрессии? (Её можно обучить заново.)"
   ]
  },
  {
   "cell_type": "markdown",
   "metadata": {},
   "source": [
    "Качество линейной регрессии определяется метрикой MAE, минимальное значение которой достигается при значении вектора весов (вектора параметров): \n",
    "\n",
    "$$w = \\arg\\min_w MSE(Xw, y) = (X^T X)^{-1} X^T y$$"
   ]
  },
  {
   "cell_type": "markdown",
   "metadata": {},
   "source": [
    "При этом вектор предсказаний определяется как:\n",
    "\n",
    "$$\n",
    "a = Xw\n",
    "$$"
   ]
  },
  {
   "cell_type": "markdown",
   "metadata": {},
   "source": [
    "Подсчитаем вектор предсказаний для двух случаев: \n",
    "1. Матрица признаков равна $ X $.\n",
    "2. Матрица признаков равна $ XX^{-1}$."
   ]
  },
  {
   "cell_type": "markdown",
   "metadata": {},
   "source": [
    "**Случай 1. Матрица признаков равна $ X $**"
   ]
  },
  {
   "cell_type": "markdown",
   "metadata": {},
   "source": [
    "Используя свойства обратимых матриц $ (AB)^{-1} = B^{-1}A^{-1}, AA^{-1} = E$, транспонированных матриц $ (AB)^{T} = B^{T}A^{T}, E^T = E$ и единичных матриц $EE = E, AE = EA = A$, а также свойство ассоциативности $ (AB)C = A(BC)$, получим:"
   ]
  },
  {
   "cell_type": "markdown",
   "metadata": {},
   "source": [
    "Вектор параметров:"
   ]
  },
  {
   "cell_type": "markdown",
   "metadata": {},
   "source": [
    "$$\n",
    "w = (X^T X)^{-1} X^Ty = X^{-1}X^{-T}X^Ty = X^{-1}(X^{-T}X^T)y = X^{-1}Ey =  X^{-1}y.\n",
    "$$"
   ]
  },
  {
   "cell_type": "markdown",
   "metadata": {},
   "source": [
    "Вектор предсказаний для случая предсказания по обучаемым признакам:"
   ]
  },
  {
   "cell_type": "markdown",
   "metadata": {},
   "source": [
    "$$a = X(X^{-1}y) = (XX^{-1})y = Ey = y.$$"
   ]
  },
  {
   "cell_type": "markdown",
   "metadata": {},
   "source": [
    "Все верно: вектор предсказаний совпал с обучающим таргетом, покольку прогнозировали по обучающим признакам."
   ]
  },
  {
   "cell_type": "markdown",
   "metadata": {},
   "source": [
    "Вектор предсказаний для ОБЩЕГО СЛУЧАЯ (принимаем матрицу тестовых признаков равной $Z$):"
   ]
  },
  {
   "cell_type": "markdown",
   "metadata": {},
   "source": [
    "$$a = ZX^{-1}y.$$"
   ]
  },
  {
   "cell_type": "markdown",
   "metadata": {},
   "source": [
    "**Случай 2. Матрица признаков умножается на обратимую матрицу $A$**"
   ]
  },
  {
   "cell_type": "markdown",
   "metadata": {},
   "source": [
    "В данном случае, чтобы осуществить умножение матрицы признаков на обратимую матрицу $A$, последняя должна быть квадратной размерностью $nxn$, где $n$ - количество признаков, а также пройти проверку на обратимость (определитель матрицы д.б. отличен от нуля). Исходная матрица признаков будет задана в виде произведения:"
   ]
  },
  {
   "cell_type": "markdown",
   "metadata": {},
   "source": [
    "$$XA$$"
   ]
  },
  {
   "cell_type": "markdown",
   "metadata": {},
   "source": [
    "Тогда вектор параметров с учетом выведенного выше выражения будет иметь вид:"
   ]
  },
  {
   "cell_type": "markdown",
   "metadata": {},
   "source": [
    "$$\n",
    "w = (XA)^{-1}y = A^{-1}X^{-1}y.\n",
    "$$"
   ]
  },
  {
   "cell_type": "markdown",
   "metadata": {},
   "source": [
    "Вектор предсказаний для случая предсказания по обучаемым признакам:"
   ]
  },
  {
   "cell_type": "markdown",
   "metadata": {},
   "source": [
    "$$a = Xw = XAA^{-1}X^{-1}y = X(AA^{-1})X^{-1}y = XEX^{-1}y = (XX^{-1})y = Ey = y.$$"
   ]
  },
  {
   "cell_type": "markdown",
   "metadata": {},
   "source": [
    "Вектор предсказаний для ОБЩЕГО СЛУЧАЯ (принимаем матрицу тестовых признаков равной $ZA$):"
   ]
  },
  {
   "cell_type": "markdown",
   "metadata": {},
   "source": [
    "$$a = ZAA^{-1}X^{-1}y = Z(AA^{-1})X^{-1}y = ZEX^{-1}y = ZX^{-1}y.$$"
   ]
  },
  {
   "cell_type": "markdown",
   "metadata": {},
   "source": [
    "Таким образом, качество линейной регрессии не изменится, поскольку вектор предсказаний после умножения матрицы признаков на обратную матрицу не изменился, как в случае предсказания по обучающим признакам, так и в случае предсказания по тестовым признакам."
   ]
  },
  {
   "cell_type": "markdown",
   "metadata": {},
   "source": [
    "$$\n",
    "a = Xw = XEw = XPP^{-1}w = (XP)P^{-1}w = (XP)w'\n",
    "$$\n",
    "\n",
    "$$\n",
    "w' = ((XP)^T XP)^{-1} (XP)^T y\n",
    "$$\n",
    "$$\n",
    "w' = (P^T (X^T X) P)^{-1} (XP)^T y\n",
    "$$\n",
    "\n",
    "Здесь теперь можем раскрыть скобки, так как матрицы $P^T, X^T X и P$ квадратные:\n",
    "\n",
    "$$\n",
    "w' = P^{-1}(X^T X)^{-1}P^{-T}P^TX^Ty\n",
    "$$\n",
    "\n",
    "$$\n",
    "w' = P^{-1}(X^T X)^{-1}(P^{-T}P^T)X^Ty\n",
    "$$\n",
    "\n",
    "$$\n",
    "w' = P^{-1}(X^T X)^{-1}EX^Ty\n",
    "$$\n",
    "\n",
    "$$\n",
    "w' = P^{-1}((X^T X)^{-1}X^Ty)\n",
    "$$\n",
    "\n",
    "$$\n",
    "w' = P^{-1}w\n",
    "$$\n",
    "\n",
    "что и требовалось доказать."
   ]
  },
  {
   "cell_type": "markdown",
   "metadata": {},
   "source": [
    "### Связь параметров линейной регрессии в исходной задаче и в преобразованной"
   ]
  },
  {
   "cell_type": "markdown",
   "metadata": {},
   "source": [
    "Если обозначим вектор параметров для первого случая как $w_1$, а для второго случая - $w_2$, то получим следующую взаимосвязь:\n",
    "\n",
    "$$ w_2 = A^{-1}w_1 $$"
   ]
  },
  {
   "cell_type": "markdown",
   "metadata": {},
   "source": [
    "### Промежуточные выводы"
   ]
  },
  {
   "cell_type": "markdown",
   "metadata": {},
   "source": [
    "- обоснована неизменность качества линейной регрессии при домножении матрицы признаков на обратимую матрицу;\n",
    "- установлена взаимосвязь векторов параметров до и после преобразования: вектор параметров после домножения равен произведению матрицы обратной обратимой матрице на вектор параметров до преобразования."
   ]
  },
  {
   "cell_type": "markdown",
   "metadata": {},
   "source": [
    "## Алгоритм преобразования"
   ]
  },
  {
   "cell_type": "markdown",
   "metadata": {},
   "source": [
    "1. Генерируем случайную матрицу размерностью $nxn$, где $n$ - количество обучающих признаков:$$A = (nxn).$$\n",
    "2. Производим проверку сгенерированной матрицы на обратимость (определитель матрицы не равен нулю): $$det(A) != 0.$$\n",
    "3. Умножаем исходную матрицу признаков размером $mxn$ на сгенерированную случайную матрицу размером $nxn$: $$X @ A,$$где $$X = features.values.$$\n",
    "4. Используем полученную матрицу в качестве матрицы признаков в ходе предсказания с помощью линейной регрессии:$$X = X @ A.$$\n",
    "5. Обратный доступ к данным - домножаем на матрицу обратную обратимой матрице $А$:$$X @ A @ A^{-1} = X @ (A @ A^{-1}) = X @ E = X.$$"
   ]
  },
  {
   "cell_type": "markdown",
   "metadata": {},
   "source": [
    "**Обоснование**\n",
    "\n",
    "С учетом полученных на шаге 2 выводов при домножении исходной матрицы признаков на случайную обратимую матрицу качество предсказания не изменяется, что видно по выражениям для векторов предсказания. <br>Таким образом, для защиты базы данных клиентов от несанкционированного доступа доверенное лицо может осуществлять домножение данных на обратимую случайную матрицу, которая в данном случае будет являться ключом, который не должен знать никто из остальных сотрудников компании. <br>Сотрудники-аналитики, в свою очередь, получают видоизмененную матрицу признаков и работают с моделью линейной регрессии без потери качества прогноза.\n",
    "Сотрудникам, которые имеют право доступа к ограниченной информации, может быть выдан ключ, по которому они могут восстановить исходные данные."
   ]
  },
  {
   "cell_type": "markdown",
   "metadata": {},
   "source": [
    "### Промежуточные выводы \n",
    "\n",
    "- возможность умножения матрицы признаков на случайную обратимую матрицу без потери качества прогноза позволяет реализовать алгоритм защиты ценных корпоративных данных от несанкционированного доступа посторонних лиц, в частности, специалистов, занимающихся исследованием данных с помощью модели линейной регрессии - как показали теоретические выводы на 2 шаге качество метрик не ухудшается;\n",
    "- алгоритм состоит из 5 этапов и основан на известных свойствах матриц и их преобразований."
   ]
  },
  {
   "cell_type": "markdown",
   "metadata": {},
   "source": [
    "## Проверка алгоритма"
   ]
  },
  {
   "cell_type": "markdown",
   "metadata": {},
   "source": [
    "### Реализация предложенного алгоритма"
   ]
  },
  {
   "cell_type": "code",
   "execution_count": 16,
   "metadata": {},
   "outputs": [],
   "source": [
    "# 1. Генерируем случайную матрицу\n",
    "A = np.random.rand(features.shape[1], features.shape[1])\n",
    "\n",
    "# 2. Проводим проверку на обратимость\n",
    "if np.linalg.det(A) == 0:\n",
    "    warn('Данная матрица необратима. Сформируйте другую матрицу.')\n",
    "\n",
    "# 3. Умножаем исходную матрицу признаков на сгенерированную обратимую матрицу\n",
    "feat = features.values @ A\n",
    "\n",
    "# 4. Используем полученную матрицу в качестве матрицы признаков в ходе обучения модели линейной регрессии\n",
    "\n",
    "# 5. Восстанавливаем исходные данные\n",
    "features_recovered = feat @ np.linalg.inv(A)"
   ]
  },
  {
   "cell_type": "code",
   "execution_count": 17,
   "metadata": {},
   "outputs": [],
   "source": [
    "# создаем класс LinearRegression1\n",
    "class LinearRegression1:\n",
    "    \n",
    "    def fit(self, features, target):\n",
    "        \n",
    "        X = np.concatenate((np.ones((features.shape[0], 1)), features), axis=1)\n",
    "        y = target\n",
    "        w = np.linalg.inv(X.T @ X) @ X.T @ y\n",
    "        self.w = w[1:]\n",
    "        self.w0 = w[0]\n",
    "\n",
    "    def predict(self, features):\n",
    "        \n",
    "        return features.dot(self.w) + self.w0"
   ]
  },
  {
   "cell_type": "markdown",
   "metadata": {},
   "source": [
    "### Сравнение качества моделей"
   ]
  },
  {
   "cell_type": "markdown",
   "metadata": {},
   "source": [
    "#### До преобразования"
   ]
  },
  {
   "cell_type": "code",
   "execution_count": 18,
   "metadata": {},
   "outputs": [
    {
     "name": "stdout",
     "output_type": "stream",
     "text": [
      "0.4249455028666801\n"
     ]
    }
   ],
   "source": [
    "model = LinearRegression1() # создаем объект модели\n",
    "model.fit(features, target) # обучаем модель\n",
    "predictions = model.predict(features) # формируем предсказания по обучающей выборке\n",
    "print(r2_score(target, predictions))"
   ]
  },
  {
   "cell_type": "markdown",
   "metadata": {},
   "source": [
    "Или то же самое с помощью функции sclearn LinearRegression:"
   ]
  },
  {
   "cell_type": "code",
   "execution_count": 19,
   "metadata": {},
   "outputs": [
    {
     "name": "stdout",
     "output_type": "stream",
     "text": [
      "0.4249455028666801\n"
     ]
    }
   ],
   "source": [
    "model = LinearRegression()\n",
    "model.fit(features, target)\n",
    "predictions = model.predict(features)\n",
    "print(r2_score(target, predictions))"
   ]
  },
  {
   "cell_type": "markdown",
   "metadata": {},
   "source": [
    "#### После преобразования"
   ]
  },
  {
   "cell_type": "code",
   "execution_count": 20,
   "metadata": {},
   "outputs": [
    {
     "name": "stdout",
     "output_type": "stream",
     "text": [
      "0.4249455028660122\n"
     ]
    }
   ],
   "source": [
    "model = LinearRegression1() # создаем объект созданного класса\n",
    "model.fit(feat, target)\n",
    "predictions = model.predict(feat)\n",
    "print(r2_score(target, predictions))"
   ]
  },
  {
   "cell_type": "markdown",
   "metadata": {},
   "source": [
    "И то же самое с помощью штатной функции sclearn LinearRegression:"
   ]
  },
  {
   "cell_type": "code",
   "execution_count": 21,
   "metadata": {},
   "outputs": [
    {
     "name": "stdout",
     "output_type": "stream",
     "text": [
      "0.4249455028666802\n"
     ]
    }
   ],
   "source": [
    "A = np.random.rand(features.shape[1], features.shape[1])\n",
    "feat = features.values @ A\n",
    "model = LinearRegression()\n",
    "model.fit(feat, target)\n",
    "predictions = model.predict(feat)\n",
    "print(r2_score(target, predictions))"
   ]
  },
  {
   "cell_type": "markdown",
   "metadata": {},
   "source": [
    "### Промежуточные выводы\n",
    "\n",
    "- предложенный на шаге 3 реализован программно, в частности с помощью функций библиотеки numpy;\n",
    "- по аналогии с теоретическим материалом курса создан вручную класс модели линейной регрессии LinearRegression1;\n",
    "- проведено сравнение результатов работы моделей, созданных на основе штатного класса sclearn - LinearRegression и на основе созданного класса LinearRegression1 для случая обычного использования матрицы признаков и случая домножения матрицы признаков на обратимую матрицу. В качестве критерия сравнения использована метрика r2. Во всех случаях значение метрики составило ~ 0.43, что подтвердило теоретические выводы, сделанные на 2 шаге."
   ]
  },
  {
   "cell_type": "markdown",
   "metadata": {},
   "source": [
    "## Общие выводы\n",
    "\n",
    "**Целью выполнения проекта** являлась разработка метода преобразования информации для защиты данных клиентов страховой компании «Хоть потоп», при использовании которого качество моделей машинного обучения не должно было ухудшиться. \n",
    "\n",
    "**На первом этапе** загружены, изучены и преобработаны исходные данные по клиентам:\n",
    "- исходный датасет состоит из 5000 элементов и 5 признаков; признаки: пол, возраст, зарплата, члены семьи; целевой признак: страховые выплаты;\n",
    "- обнаружены и удалены 153 полных дубликата, поскольку они составляли около 3% от общего набора данных;\n",
    "- пропуски не обнаружены;\n",
    "- неинформативные признаки не обнаружены;\n",
    "- данные разделены по целевому (4847,1) и нецелевому признакам (4847,4).\n",
    "\n",
    "**На втором этапе** проведено теоретическое исследование с целью установить возможное влияние на качество модели линейной регрессии домножения матрицы признаков на обратимую матрицу:\n",
    "- обоснована неизменность качества линейной регрессии при домножении матрицы признаков на обратимую матрицу;\n",
    "- установлена взаимосвязь векторов параметров до и после преобразования: вектор параметров после домножения равен произведению матрицы обратной обратимой матрице на вектор параметров до преобразования.\n",
    "\n",
    "**На третьем этапе** в соответствии с проведенными аналитическими расчетами предложен алгоритм преобразования данных:\n",
    "- возможность умножения матрицы признаков на случайную обратимую матрицу без потери качества прогноза позволяет реализовать алгоритм защиты ценных корпоративных данных от несанкционированного доступа посторонних лиц, в частности, специалистов, занимающихся исследованием данных с помощью модели линейной регрессии - как показали теоретические выводы на 2 шаге качество метрик не ухудшается;\n",
    "- алгоритм состоит из 5 этапов и основан на известных свойствах матриц и их преобразований.\n",
    "\n",
    "**На четвертом этапе** осущетвлена программная реализация предложенного алгоритма преобразования данных и проведено сравнение результатов работы модели линейной регрессии для всех рассмотренных на 2 этапе случаев. В качестве критерия сравнения использована метрика r2. Во всех случаях значение метрики составило ~ 0.43, что подтвердило теоретические выводы, сделанные на 2 этапе.\n",
    "\n",
    "Полученные в ходе выполнения проекта результаты показывают одно из возможных практических применений свойств матриц и их преобразований: обеспечить защиту ценной корпоративной информации путем элементарных матричных преобразований - домножения матрицы признаков на любую случайную обратимую матрицу."
   ]
  },
  {
   "cell_type": "markdown",
   "metadata": {},
   "source": [
    "## Вывод для начальства\n",
    "\n",
    "**Целью выполнения проекта** являлась разработка метода преобразования информации для защиты данных клиентов компании, при использовании которого качество моделей машинного обучения не должно было ухудшиться.\n",
    "\n",
    "Разработан специальный алгоритм преобразования данных. Для защиты базы данных клиентов от несанкционированного доступа предлагается выделить доверенное лицо, которое будет иметь специальный ключ для преобразования данных в соответствии с разработанным алгоритмом. \n",
    "Сотрудникам, которые имеют право доступа к ограниченной информации, может быть выдан ключ, по которому они могут восстановить исходные данные. Остальные сотрудники, в частности, сотрудники-аналитики, получают видоизмененные данные, при этом качество моделей машинного обучения не изменится."
   ]
  }
 ],
 "metadata": {
  "ExecuteTimeLog": [
   {
    "duration": 1000,
    "start_time": "2023-03-23T14:46:29.452Z"
   },
   {
    "duration": 87,
    "start_time": "2023-03-23T14:46:30.454Z"
   },
   {
    "duration": 18,
    "start_time": "2023-03-23T14:46:30.542Z"
   },
   {
    "duration": 52,
    "start_time": "2023-03-23T14:46:30.562Z"
   },
   {
    "duration": 30,
    "start_time": "2023-03-23T14:46:30.615Z"
   },
   {
    "duration": 42,
    "start_time": "2023-03-23T14:46:30.646Z"
   },
   {
    "duration": 47,
    "start_time": "2023-03-23T14:46:30.690Z"
   },
   {
    "duration": 39,
    "start_time": "2023-03-23T14:46:30.738Z"
   },
   {
    "duration": 38,
    "start_time": "2023-03-23T14:46:30.779Z"
   },
   {
    "duration": 67,
    "start_time": "2023-03-23T14:46:30.820Z"
   },
   {
    "duration": 116,
    "start_time": "2023-03-23T14:46:30.889Z"
   },
   {
    "duration": 199,
    "start_time": "2023-03-23T14:46:31.007Z"
   },
   {
    "duration": 199,
    "start_time": "2023-03-23T14:46:31.209Z"
   },
   {
    "duration": 79,
    "start_time": "2023-03-23T14:46:31.410Z"
   },
   {
    "duration": 4962,
    "start_time": "2023-03-24T07:51:02.125Z"
   },
   {
    "duration": 42,
    "start_time": "2023-03-24T07:51:07.090Z"
   },
   {
    "duration": 26,
    "start_time": "2023-03-24T07:51:07.134Z"
   },
   {
    "duration": 29,
    "start_time": "2023-03-24T07:51:07.168Z"
   },
   {
    "duration": 7,
    "start_time": "2023-03-24T07:51:07.199Z"
   },
   {
    "duration": 7,
    "start_time": "2023-03-24T07:51:07.214Z"
   },
   {
    "duration": 13,
    "start_time": "2023-03-24T07:51:08.328Z"
   },
   {
    "duration": 6,
    "start_time": "2023-03-24T07:51:08.833Z"
   },
   {
    "duration": 8,
    "start_time": "2023-03-24T07:52:06.191Z"
   },
   {
    "duration": 5,
    "start_time": "2023-03-24T07:52:24.035Z"
   },
   {
    "duration": 26,
    "start_time": "2023-03-24T07:52:25.863Z"
   },
   {
    "duration": 17,
    "start_time": "2023-03-24T07:52:27.100Z"
   },
   {
    "duration": 9,
    "start_time": "2023-03-24T07:52:27.915Z"
   },
   {
    "duration": 10,
    "start_time": "2023-03-24T07:52:29.954Z"
   },
   {
    "duration": 2150,
    "start_time": "2023-03-24T15:28:53.496Z"
   },
   {
    "duration": 125,
    "start_time": "2023-03-24T15:28:55.648Z"
   },
   {
    "duration": 22,
    "start_time": "2023-03-24T15:28:55.775Z"
   },
   {
    "duration": 13,
    "start_time": "2023-03-24T15:28:55.799Z"
   }
  ],
  "kernelspec": {
   "display_name": "Python 3 (ipykernel)",
   "language": "python",
   "name": "python3"
  },
  "language_info": {
   "codemirror_mode": {
    "name": "ipython",
    "version": 3
   },
   "file_extension": ".py",
   "mimetype": "text/x-python",
   "name": "python",
   "nbconvert_exporter": "python",
   "pygments_lexer": "ipython3",
   "version": "3.9.12"
  },
  "toc": {
   "base_numbering": 1,
   "nav_menu": {},
   "number_sections": true,
   "sideBar": true,
   "skip_h1_title": true,
   "title_cell": "Содержание",
   "title_sidebar": "Contents",
   "toc_cell": true,
   "toc_position": {
    "height": "calc(100% - 180px)",
    "left": "10px",
    "top": "150px",
    "width": "170px"
   },
   "toc_section_display": true,
   "toc_window_display": true
  }
 },
 "nbformat": 4,
 "nbformat_minor": 2
}
