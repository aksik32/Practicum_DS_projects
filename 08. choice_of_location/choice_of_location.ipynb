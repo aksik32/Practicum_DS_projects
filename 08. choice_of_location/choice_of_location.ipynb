{
 "cells": [
  {
   "cell_type": "markdown",
   "metadata": {},
   "source": [
    "# Выбор локации для скважины"
   ]
  },
  {
   "cell_type": "markdown",
   "metadata": {},
   "source": [
    "## Загрузка и подготовка данных"
   ]
  },
  {
   "cell_type": "markdown",
   "metadata": {},
   "source": [
    "Импортируем все необходимые модели, функции и библиотеки:"
   ]
  },
  {
   "cell_type": "code",
   "execution_count": 1,
   "metadata": {},
   "outputs": [],
   "source": [
    "import pandas as pd\n",
    "import numpy as np\n",
    "import seaborn as sns\n",
    "import matplotlib.pyplot as plt\n",
    "\n",
    "from sklearn.model_selection import GridSearchCV\n",
    "from sklearn.model_selection import train_test_split\n",
    "from sklearn.preprocessing import StandardScaler \n",
    "\n",
    "from sklearn.metrics import mean_squared_error\n",
    "\n",
    "from sklearn.linear_model import LinearRegression"
   ]
  },
  {
   "cell_type": "markdown",
   "metadata": {},
   "source": [
    "Определяем константы:"
   ]
  },
  {
   "cell_type": "code",
   "execution_count": 2,
   "metadata": {},
   "outputs": [],
   "source": [
    "NUM_BOREHOLS = 200   # количество разрабатываемых скважин\n",
    "SAMPLE_BOREHOLES = 500 # размер выборки для бутстрепа\n",
    "BUDGET = 10e9  # бюджет компании\n",
    "PRICE_BARREL = 450 # доход c одного барреля нефти\n",
    "PROB_LOSS = 0.025 # вероятность убытков"
   ]
  },
  {
   "cell_type": "markdown",
   "metadata": {},
   "source": [
    "### Загрузка и изучение исходных данных:"
   ]
  },
  {
   "cell_type": "code",
   "execution_count": 3,
   "metadata": {},
   "outputs": [],
   "source": [
    "data_0 = pd.read_csv('/datasets/geo_data_0.csv')\n",
    "data_1 = pd.read_csv('/datasets/geo_data_1.csv')\n",
    "data_2 = pd.read_csv('/datasets/geo_data_2.csv')"
   ]
  },
  {
   "cell_type": "markdown",
   "metadata": {},
   "source": [
    "Посмотрим размер датафреймов, основную информацию и общий вид данных по первым пяти строкам:"
   ]
  },
  {
   "cell_type": "code",
   "execution_count": 4,
   "metadata": {},
   "outputs": [
    {
     "data": {
      "text/plain": [
       "((100000, 5), (100000, 5), (100000, 5))"
      ]
     },
     "execution_count": 4,
     "metadata": {},
     "output_type": "execute_result"
    }
   ],
   "source": [
    "data_0.shape, data_1.shape, data_2.shape"
   ]
  },
  {
   "cell_type": "code",
   "execution_count": 5,
   "metadata": {
    "scrolled": false
   },
   "outputs": [
    {
     "name": "stdout",
     "output_type": "stream",
     "text": [
      "<class 'pandas.core.frame.DataFrame'>\n",
      "RangeIndex: 100000 entries, 0 to 99999\n",
      "Data columns (total 5 columns):\n",
      " #   Column   Non-Null Count   Dtype  \n",
      "---  ------   --------------   -----  \n",
      " 0   id       100000 non-null  object \n",
      " 1   f0       100000 non-null  float64\n",
      " 2   f1       100000 non-null  float64\n",
      " 3   f2       100000 non-null  float64\n",
      " 4   product  100000 non-null  float64\n",
      "dtypes: float64(4), object(1)\n",
      "memory usage: 3.8+ MB\n"
     ]
    }
   ],
   "source": [
    "data_0.info()"
   ]
  },
  {
   "cell_type": "code",
   "execution_count": 6,
   "metadata": {},
   "outputs": [
    {
     "data": {
      "text/html": [
       "<div>\n",
       "<style scoped>\n",
       "    .dataframe tbody tr th:only-of-type {\n",
       "        vertical-align: middle;\n",
       "    }\n",
       "\n",
       "    .dataframe tbody tr th {\n",
       "        vertical-align: top;\n",
       "    }\n",
       "\n",
       "    .dataframe thead th {\n",
       "        text-align: right;\n",
       "    }\n",
       "</style>\n",
       "<table border=\"1\" class=\"dataframe\">\n",
       "  <thead>\n",
       "    <tr style=\"text-align: right;\">\n",
       "      <th></th>\n",
       "      <th>id</th>\n",
       "      <th>f0</th>\n",
       "      <th>f1</th>\n",
       "      <th>f2</th>\n",
       "      <th>product</th>\n",
       "    </tr>\n",
       "  </thead>\n",
       "  <tbody>\n",
       "    <tr>\n",
       "      <th>0</th>\n",
       "      <td>txEyH</td>\n",
       "      <td>0.705745</td>\n",
       "      <td>-0.497823</td>\n",
       "      <td>1.221170</td>\n",
       "      <td>105.280062</td>\n",
       "    </tr>\n",
       "    <tr>\n",
       "      <th>1</th>\n",
       "      <td>2acmU</td>\n",
       "      <td>1.334711</td>\n",
       "      <td>-0.340164</td>\n",
       "      <td>4.365080</td>\n",
       "      <td>73.037750</td>\n",
       "    </tr>\n",
       "    <tr>\n",
       "      <th>2</th>\n",
       "      <td>409Wp</td>\n",
       "      <td>1.022732</td>\n",
       "      <td>0.151990</td>\n",
       "      <td>1.419926</td>\n",
       "      <td>85.265647</td>\n",
       "    </tr>\n",
       "    <tr>\n",
       "      <th>3</th>\n",
       "      <td>iJLyR</td>\n",
       "      <td>-0.032172</td>\n",
       "      <td>0.139033</td>\n",
       "      <td>2.978566</td>\n",
       "      <td>168.620776</td>\n",
       "    </tr>\n",
       "    <tr>\n",
       "      <th>4</th>\n",
       "      <td>Xdl7t</td>\n",
       "      <td>1.988431</td>\n",
       "      <td>0.155413</td>\n",
       "      <td>4.751769</td>\n",
       "      <td>154.036647</td>\n",
       "    </tr>\n",
       "  </tbody>\n",
       "</table>\n",
       "</div>"
      ],
      "text/plain": [
       "      id        f0        f1        f2     product\n",
       "0  txEyH  0.705745 -0.497823  1.221170  105.280062\n",
       "1  2acmU  1.334711 -0.340164  4.365080   73.037750\n",
       "2  409Wp  1.022732  0.151990  1.419926   85.265647\n",
       "3  iJLyR -0.032172  0.139033  2.978566  168.620776\n",
       "4  Xdl7t  1.988431  0.155413  4.751769  154.036647"
      ]
     },
     "execution_count": 6,
     "metadata": {},
     "output_type": "execute_result"
    }
   ],
   "source": [
    "data_0.head()"
   ]
  },
  {
   "cell_type": "code",
   "execution_count": 7,
   "metadata": {
    "scrolled": true
   },
   "outputs": [
    {
     "data": {
      "text/html": [
       "<div>\n",
       "<style scoped>\n",
       "    .dataframe tbody tr th:only-of-type {\n",
       "        vertical-align: middle;\n",
       "    }\n",
       "\n",
       "    .dataframe tbody tr th {\n",
       "        vertical-align: top;\n",
       "    }\n",
       "\n",
       "    .dataframe thead th {\n",
       "        text-align: right;\n",
       "    }\n",
       "</style>\n",
       "<table border=\"1\" class=\"dataframe\">\n",
       "  <thead>\n",
       "    <tr style=\"text-align: right;\">\n",
       "      <th></th>\n",
       "      <th>f0</th>\n",
       "      <th>f1</th>\n",
       "      <th>f2</th>\n",
       "      <th>product</th>\n",
       "    </tr>\n",
       "  </thead>\n",
       "  <tbody>\n",
       "    <tr>\n",
       "      <th>count</th>\n",
       "      <td>100000.000000</td>\n",
       "      <td>100000.000000</td>\n",
       "      <td>100000.000000</td>\n",
       "      <td>100000.000000</td>\n",
       "    </tr>\n",
       "    <tr>\n",
       "      <th>mean</th>\n",
       "      <td>0.500419</td>\n",
       "      <td>0.250143</td>\n",
       "      <td>2.502647</td>\n",
       "      <td>92.500000</td>\n",
       "    </tr>\n",
       "    <tr>\n",
       "      <th>std</th>\n",
       "      <td>0.871832</td>\n",
       "      <td>0.504433</td>\n",
       "      <td>3.248248</td>\n",
       "      <td>44.288691</td>\n",
       "    </tr>\n",
       "    <tr>\n",
       "      <th>min</th>\n",
       "      <td>-1.408605</td>\n",
       "      <td>-0.848218</td>\n",
       "      <td>-12.088328</td>\n",
       "      <td>0.000000</td>\n",
       "    </tr>\n",
       "    <tr>\n",
       "      <th>25%</th>\n",
       "      <td>-0.072580</td>\n",
       "      <td>-0.200881</td>\n",
       "      <td>0.287748</td>\n",
       "      <td>56.497507</td>\n",
       "    </tr>\n",
       "    <tr>\n",
       "      <th>50%</th>\n",
       "      <td>0.502360</td>\n",
       "      <td>0.250252</td>\n",
       "      <td>2.515969</td>\n",
       "      <td>91.849972</td>\n",
       "    </tr>\n",
       "    <tr>\n",
       "      <th>75%</th>\n",
       "      <td>1.073581</td>\n",
       "      <td>0.700646</td>\n",
       "      <td>4.715088</td>\n",
       "      <td>128.564089</td>\n",
       "    </tr>\n",
       "    <tr>\n",
       "      <th>max</th>\n",
       "      <td>2.362331</td>\n",
       "      <td>1.343769</td>\n",
       "      <td>16.003790</td>\n",
       "      <td>185.364347</td>\n",
       "    </tr>\n",
       "  </tbody>\n",
       "</table>\n",
       "</div>"
      ],
      "text/plain": [
       "                  f0             f1             f2        product\n",
       "count  100000.000000  100000.000000  100000.000000  100000.000000\n",
       "mean        0.500419       0.250143       2.502647      92.500000\n",
       "std         0.871832       0.504433       3.248248      44.288691\n",
       "min        -1.408605      -0.848218     -12.088328       0.000000\n",
       "25%        -0.072580      -0.200881       0.287748      56.497507\n",
       "50%         0.502360       0.250252       2.515969      91.849972\n",
       "75%         1.073581       0.700646       4.715088     128.564089\n",
       "max         2.362331       1.343769      16.003790     185.364347"
      ]
     },
     "execution_count": 7,
     "metadata": {},
     "output_type": "execute_result"
    }
   ],
   "source": [
    "data_0.describe()"
   ]
  },
  {
   "cell_type": "markdown",
   "metadata": {},
   "source": [
    "Максимальный объем запасов в 1м регионе - 185, минимальный - 0."
   ]
  },
  {
   "cell_type": "code",
   "execution_count": 8,
   "metadata": {
    "scrolled": true
   },
   "outputs": [
    {
     "name": "stdout",
     "output_type": "stream",
     "text": [
      "<class 'pandas.core.frame.DataFrame'>\n",
      "RangeIndex: 100000 entries, 0 to 99999\n",
      "Data columns (total 5 columns):\n",
      " #   Column   Non-Null Count   Dtype  \n",
      "---  ------   --------------   -----  \n",
      " 0   id       100000 non-null  object \n",
      " 1   f0       100000 non-null  float64\n",
      " 2   f1       100000 non-null  float64\n",
      " 3   f2       100000 non-null  float64\n",
      " 4   product  100000 non-null  float64\n",
      "dtypes: float64(4), object(1)\n",
      "memory usage: 3.8+ MB\n"
     ]
    }
   ],
   "source": [
    "data_1.info()"
   ]
  },
  {
   "cell_type": "code",
   "execution_count": 9,
   "metadata": {
    "scrolled": true
   },
   "outputs": [
    {
     "data": {
      "text/html": [
       "<div>\n",
       "<style scoped>\n",
       "    .dataframe tbody tr th:only-of-type {\n",
       "        vertical-align: middle;\n",
       "    }\n",
       "\n",
       "    .dataframe tbody tr th {\n",
       "        vertical-align: top;\n",
       "    }\n",
       "\n",
       "    .dataframe thead th {\n",
       "        text-align: right;\n",
       "    }\n",
       "</style>\n",
       "<table border=\"1\" class=\"dataframe\">\n",
       "  <thead>\n",
       "    <tr style=\"text-align: right;\">\n",
       "      <th></th>\n",
       "      <th>id</th>\n",
       "      <th>f0</th>\n",
       "      <th>f1</th>\n",
       "      <th>f2</th>\n",
       "      <th>product</th>\n",
       "    </tr>\n",
       "  </thead>\n",
       "  <tbody>\n",
       "    <tr>\n",
       "      <th>0</th>\n",
       "      <td>kBEdx</td>\n",
       "      <td>-15.001348</td>\n",
       "      <td>-8.276000</td>\n",
       "      <td>-0.005876</td>\n",
       "      <td>3.179103</td>\n",
       "    </tr>\n",
       "    <tr>\n",
       "      <th>1</th>\n",
       "      <td>62mP7</td>\n",
       "      <td>14.272088</td>\n",
       "      <td>-3.475083</td>\n",
       "      <td>0.999183</td>\n",
       "      <td>26.953261</td>\n",
       "    </tr>\n",
       "    <tr>\n",
       "      <th>2</th>\n",
       "      <td>vyE1P</td>\n",
       "      <td>6.263187</td>\n",
       "      <td>-5.948386</td>\n",
       "      <td>5.001160</td>\n",
       "      <td>134.766305</td>\n",
       "    </tr>\n",
       "    <tr>\n",
       "      <th>3</th>\n",
       "      <td>KcrkZ</td>\n",
       "      <td>-13.081196</td>\n",
       "      <td>-11.506057</td>\n",
       "      <td>4.999415</td>\n",
       "      <td>137.945408</td>\n",
       "    </tr>\n",
       "    <tr>\n",
       "      <th>4</th>\n",
       "      <td>AHL4O</td>\n",
       "      <td>12.702195</td>\n",
       "      <td>-8.147433</td>\n",
       "      <td>5.004363</td>\n",
       "      <td>134.766305</td>\n",
       "    </tr>\n",
       "  </tbody>\n",
       "</table>\n",
       "</div>"
      ],
      "text/plain": [
       "      id         f0         f1        f2     product\n",
       "0  kBEdx -15.001348  -8.276000 -0.005876    3.179103\n",
       "1  62mP7  14.272088  -3.475083  0.999183   26.953261\n",
       "2  vyE1P   6.263187  -5.948386  5.001160  134.766305\n",
       "3  KcrkZ -13.081196 -11.506057  4.999415  137.945408\n",
       "4  AHL4O  12.702195  -8.147433  5.004363  134.766305"
      ]
     },
     "execution_count": 9,
     "metadata": {},
     "output_type": "execute_result"
    }
   ],
   "source": [
    "data_1.head()"
   ]
  },
  {
   "cell_type": "code",
   "execution_count": 10,
   "metadata": {
    "scrolled": false
   },
   "outputs": [
    {
     "data": {
      "text/html": [
       "<div>\n",
       "<style scoped>\n",
       "    .dataframe tbody tr th:only-of-type {\n",
       "        vertical-align: middle;\n",
       "    }\n",
       "\n",
       "    .dataframe tbody tr th {\n",
       "        vertical-align: top;\n",
       "    }\n",
       "\n",
       "    .dataframe thead th {\n",
       "        text-align: right;\n",
       "    }\n",
       "</style>\n",
       "<table border=\"1\" class=\"dataframe\">\n",
       "  <thead>\n",
       "    <tr style=\"text-align: right;\">\n",
       "      <th></th>\n",
       "      <th>f0</th>\n",
       "      <th>f1</th>\n",
       "      <th>f2</th>\n",
       "      <th>product</th>\n",
       "    </tr>\n",
       "  </thead>\n",
       "  <tbody>\n",
       "    <tr>\n",
       "      <th>count</th>\n",
       "      <td>100000.000000</td>\n",
       "      <td>100000.000000</td>\n",
       "      <td>100000.000000</td>\n",
       "      <td>100000.000000</td>\n",
       "    </tr>\n",
       "    <tr>\n",
       "      <th>mean</th>\n",
       "      <td>1.141296</td>\n",
       "      <td>-4.796579</td>\n",
       "      <td>2.494541</td>\n",
       "      <td>68.825000</td>\n",
       "    </tr>\n",
       "    <tr>\n",
       "      <th>std</th>\n",
       "      <td>8.965932</td>\n",
       "      <td>5.119872</td>\n",
       "      <td>1.703572</td>\n",
       "      <td>45.944423</td>\n",
       "    </tr>\n",
       "    <tr>\n",
       "      <th>min</th>\n",
       "      <td>-31.609576</td>\n",
       "      <td>-26.358598</td>\n",
       "      <td>-0.018144</td>\n",
       "      <td>0.000000</td>\n",
       "    </tr>\n",
       "    <tr>\n",
       "      <th>25%</th>\n",
       "      <td>-6.298551</td>\n",
       "      <td>-8.267985</td>\n",
       "      <td>1.000021</td>\n",
       "      <td>26.953261</td>\n",
       "    </tr>\n",
       "    <tr>\n",
       "      <th>50%</th>\n",
       "      <td>1.153055</td>\n",
       "      <td>-4.813172</td>\n",
       "      <td>2.011479</td>\n",
       "      <td>57.085625</td>\n",
       "    </tr>\n",
       "    <tr>\n",
       "      <th>75%</th>\n",
       "      <td>8.621015</td>\n",
       "      <td>-1.332816</td>\n",
       "      <td>3.999904</td>\n",
       "      <td>107.813044</td>\n",
       "    </tr>\n",
       "    <tr>\n",
       "      <th>max</th>\n",
       "      <td>29.421755</td>\n",
       "      <td>18.734063</td>\n",
       "      <td>5.019721</td>\n",
       "      <td>137.945408</td>\n",
       "    </tr>\n",
       "  </tbody>\n",
       "</table>\n",
       "</div>"
      ],
      "text/plain": [
       "                  f0             f1             f2        product\n",
       "count  100000.000000  100000.000000  100000.000000  100000.000000\n",
       "mean        1.141296      -4.796579       2.494541      68.825000\n",
       "std         8.965932       5.119872       1.703572      45.944423\n",
       "min       -31.609576     -26.358598      -0.018144       0.000000\n",
       "25%        -6.298551      -8.267985       1.000021      26.953261\n",
       "50%         1.153055      -4.813172       2.011479      57.085625\n",
       "75%         8.621015      -1.332816       3.999904     107.813044\n",
       "max        29.421755      18.734063       5.019721     137.945408"
      ]
     },
     "execution_count": 10,
     "metadata": {},
     "output_type": "execute_result"
    }
   ],
   "source": [
    "data_1.describe()"
   ]
  },
  {
   "cell_type": "markdown",
   "metadata": {},
   "source": [
    "Максимальный объем запасов во 2м регионе - 137, минимальный - 0."
   ]
  },
  {
   "cell_type": "code",
   "execution_count": 11,
   "metadata": {
    "scrolled": false
   },
   "outputs": [
    {
     "name": "stdout",
     "output_type": "stream",
     "text": [
      "<class 'pandas.core.frame.DataFrame'>\n",
      "RangeIndex: 100000 entries, 0 to 99999\n",
      "Data columns (total 5 columns):\n",
      " #   Column   Non-Null Count   Dtype  \n",
      "---  ------   --------------   -----  \n",
      " 0   id       100000 non-null  object \n",
      " 1   f0       100000 non-null  float64\n",
      " 2   f1       100000 non-null  float64\n",
      " 3   f2       100000 non-null  float64\n",
      " 4   product  100000 non-null  float64\n",
      "dtypes: float64(4), object(1)\n",
      "memory usage: 3.8+ MB\n"
     ]
    }
   ],
   "source": [
    "data_2.info()"
   ]
  },
  {
   "cell_type": "code",
   "execution_count": 12,
   "metadata": {
    "scrolled": true
   },
   "outputs": [
    {
     "data": {
      "text/html": [
       "<div>\n",
       "<style scoped>\n",
       "    .dataframe tbody tr th:only-of-type {\n",
       "        vertical-align: middle;\n",
       "    }\n",
       "\n",
       "    .dataframe tbody tr th {\n",
       "        vertical-align: top;\n",
       "    }\n",
       "\n",
       "    .dataframe thead th {\n",
       "        text-align: right;\n",
       "    }\n",
       "</style>\n",
       "<table border=\"1\" class=\"dataframe\">\n",
       "  <thead>\n",
       "    <tr style=\"text-align: right;\">\n",
       "      <th></th>\n",
       "      <th>id</th>\n",
       "      <th>f0</th>\n",
       "      <th>f1</th>\n",
       "      <th>f2</th>\n",
       "      <th>product</th>\n",
       "    </tr>\n",
       "  </thead>\n",
       "  <tbody>\n",
       "    <tr>\n",
       "      <th>0</th>\n",
       "      <td>fwXo0</td>\n",
       "      <td>-1.146987</td>\n",
       "      <td>0.963328</td>\n",
       "      <td>-0.828965</td>\n",
       "      <td>27.758673</td>\n",
       "    </tr>\n",
       "    <tr>\n",
       "      <th>1</th>\n",
       "      <td>WJtFt</td>\n",
       "      <td>0.262778</td>\n",
       "      <td>0.269839</td>\n",
       "      <td>-2.530187</td>\n",
       "      <td>56.069697</td>\n",
       "    </tr>\n",
       "    <tr>\n",
       "      <th>2</th>\n",
       "      <td>ovLUW</td>\n",
       "      <td>0.194587</td>\n",
       "      <td>0.289035</td>\n",
       "      <td>-5.586433</td>\n",
       "      <td>62.871910</td>\n",
       "    </tr>\n",
       "    <tr>\n",
       "      <th>3</th>\n",
       "      <td>q6cA6</td>\n",
       "      <td>2.236060</td>\n",
       "      <td>-0.553760</td>\n",
       "      <td>0.930038</td>\n",
       "      <td>114.572842</td>\n",
       "    </tr>\n",
       "    <tr>\n",
       "      <th>4</th>\n",
       "      <td>WPMUX</td>\n",
       "      <td>-0.515993</td>\n",
       "      <td>1.716266</td>\n",
       "      <td>5.899011</td>\n",
       "      <td>149.600746</td>\n",
       "    </tr>\n",
       "  </tbody>\n",
       "</table>\n",
       "</div>"
      ],
      "text/plain": [
       "      id        f0        f1        f2     product\n",
       "0  fwXo0 -1.146987  0.963328 -0.828965   27.758673\n",
       "1  WJtFt  0.262778  0.269839 -2.530187   56.069697\n",
       "2  ovLUW  0.194587  0.289035 -5.586433   62.871910\n",
       "3  q6cA6  2.236060 -0.553760  0.930038  114.572842\n",
       "4  WPMUX -0.515993  1.716266  5.899011  149.600746"
      ]
     },
     "execution_count": 12,
     "metadata": {},
     "output_type": "execute_result"
    }
   ],
   "source": [
    "data_2.head()"
   ]
  },
  {
   "cell_type": "code",
   "execution_count": 13,
   "metadata": {
    "scrolled": true
   },
   "outputs": [
    {
     "data": {
      "text/html": [
       "<div>\n",
       "<style scoped>\n",
       "    .dataframe tbody tr th:only-of-type {\n",
       "        vertical-align: middle;\n",
       "    }\n",
       "\n",
       "    .dataframe tbody tr th {\n",
       "        vertical-align: top;\n",
       "    }\n",
       "\n",
       "    .dataframe thead th {\n",
       "        text-align: right;\n",
       "    }\n",
       "</style>\n",
       "<table border=\"1\" class=\"dataframe\">\n",
       "  <thead>\n",
       "    <tr style=\"text-align: right;\">\n",
       "      <th></th>\n",
       "      <th>f0</th>\n",
       "      <th>f1</th>\n",
       "      <th>f2</th>\n",
       "      <th>product</th>\n",
       "    </tr>\n",
       "  </thead>\n",
       "  <tbody>\n",
       "    <tr>\n",
       "      <th>count</th>\n",
       "      <td>100000.000000</td>\n",
       "      <td>100000.000000</td>\n",
       "      <td>100000.000000</td>\n",
       "      <td>100000.000000</td>\n",
       "    </tr>\n",
       "    <tr>\n",
       "      <th>mean</th>\n",
       "      <td>0.002023</td>\n",
       "      <td>-0.002081</td>\n",
       "      <td>2.495128</td>\n",
       "      <td>95.000000</td>\n",
       "    </tr>\n",
       "    <tr>\n",
       "      <th>std</th>\n",
       "      <td>1.732045</td>\n",
       "      <td>1.730417</td>\n",
       "      <td>3.473445</td>\n",
       "      <td>44.749921</td>\n",
       "    </tr>\n",
       "    <tr>\n",
       "      <th>min</th>\n",
       "      <td>-8.760004</td>\n",
       "      <td>-7.084020</td>\n",
       "      <td>-11.970335</td>\n",
       "      <td>0.000000</td>\n",
       "    </tr>\n",
       "    <tr>\n",
       "      <th>25%</th>\n",
       "      <td>-1.162288</td>\n",
       "      <td>-1.174820</td>\n",
       "      <td>0.130359</td>\n",
       "      <td>59.450441</td>\n",
       "    </tr>\n",
       "    <tr>\n",
       "      <th>50%</th>\n",
       "      <td>0.009424</td>\n",
       "      <td>-0.009482</td>\n",
       "      <td>2.484236</td>\n",
       "      <td>94.925613</td>\n",
       "    </tr>\n",
       "    <tr>\n",
       "      <th>75%</th>\n",
       "      <td>1.158535</td>\n",
       "      <td>1.163678</td>\n",
       "      <td>4.858794</td>\n",
       "      <td>130.595027</td>\n",
       "    </tr>\n",
       "    <tr>\n",
       "      <th>max</th>\n",
       "      <td>7.238262</td>\n",
       "      <td>7.844801</td>\n",
       "      <td>16.739402</td>\n",
       "      <td>190.029838</td>\n",
       "    </tr>\n",
       "  </tbody>\n",
       "</table>\n",
       "</div>"
      ],
      "text/plain": [
       "                  f0             f1             f2        product\n",
       "count  100000.000000  100000.000000  100000.000000  100000.000000\n",
       "mean        0.002023      -0.002081       2.495128      95.000000\n",
       "std         1.732045       1.730417       3.473445      44.749921\n",
       "min        -8.760004      -7.084020     -11.970335       0.000000\n",
       "25%        -1.162288      -1.174820       0.130359      59.450441\n",
       "50%         0.009424      -0.009482       2.484236      94.925613\n",
       "75%         1.158535       1.163678       4.858794     130.595027\n",
       "max         7.238262       7.844801      16.739402     190.029838"
      ]
     },
     "execution_count": 13,
     "metadata": {},
     "output_type": "execute_result"
    }
   ],
   "source": [
    "data_2.describe()"
   ]
  },
  {
   "cell_type": "markdown",
   "metadata": {},
   "source": [
    "Максимальный объем запасов в 3м регионе - 190, минимальный - 0."
   ]
  },
  {
   "cell_type": "markdown",
   "metadata": {},
   "source": [
    "В каждом датасете по 100000 объектов, из 5 признаков один (уникальный идентификатор скважины) имеет тип данных 'object', остальные - вещественный тип float64. Признак id - неинформативный (далее - удалим его), признак produc - целевой, f0, f1, f2 - нецелевые признаки."
   ]
  },
  {
   "cell_type": "markdown",
   "metadata": {},
   "source": [
    "### Подготовка данных"
   ]
  },
  {
   "cell_type": "markdown",
   "metadata": {},
   "source": [
    "#### Поиск дубликатов"
   ]
  },
  {
   "cell_type": "markdown",
   "metadata": {},
   "source": [
    "Проверим данные на дубликаты по id скважины:"
   ]
  },
  {
   "cell_type": "code",
   "execution_count": 14,
   "metadata": {},
   "outputs": [
    {
     "data": {
      "text/plain": [
       "10"
      ]
     },
     "execution_count": 14,
     "metadata": {},
     "output_type": "execute_result"
    }
   ],
   "source": [
    "data_0.duplicated(subset='id').sum()"
   ]
  },
  {
   "cell_type": "code",
   "execution_count": 15,
   "metadata": {},
   "outputs": [
    {
     "data": {
      "text/plain": [
       "4"
      ]
     },
     "execution_count": 15,
     "metadata": {},
     "output_type": "execute_result"
    }
   ],
   "source": [
    "data_1.duplicated(subset='id').sum()"
   ]
  },
  {
   "cell_type": "code",
   "execution_count": 16,
   "metadata": {
    "scrolled": true
   },
   "outputs": [
    {
     "data": {
      "text/plain": [
       "4"
      ]
     },
     "execution_count": 16,
     "metadata": {},
     "output_type": "execute_result"
    }
   ],
   "source": [
    "data_2.duplicated(subset='id').sum()"
   ]
  },
  {
   "cell_type": "markdown",
   "metadata": {},
   "source": [
    "По условию дана информация о 100000 разных месторождений в каждом из 3х регионов. Значит в данных есть ошибки."
   ]
  },
  {
   "cell_type": "code",
   "execution_count": 17,
   "metadata": {
    "scrolled": false
   },
   "outputs": [
    {
     "data": {
      "text/html": [
       "<div>\n",
       "<style scoped>\n",
       "    .dataframe tbody tr th:only-of-type {\n",
       "        vertical-align: middle;\n",
       "    }\n",
       "\n",
       "    .dataframe tbody tr th {\n",
       "        vertical-align: top;\n",
       "    }\n",
       "\n",
       "    .dataframe thead th {\n",
       "        text-align: right;\n",
       "    }\n",
       "</style>\n",
       "<table border=\"1\" class=\"dataframe\">\n",
       "  <thead>\n",
       "    <tr style=\"text-align: right;\">\n",
       "      <th></th>\n",
       "      <th>id</th>\n",
       "      <th>f0</th>\n",
       "      <th>f1</th>\n",
       "      <th>f2</th>\n",
       "      <th>product</th>\n",
       "    </tr>\n",
       "  </thead>\n",
       "  <tbody>\n",
       "    <tr>\n",
       "      <th>7530</th>\n",
       "      <td>HZww2</td>\n",
       "      <td>1.061194</td>\n",
       "      <td>-0.373969</td>\n",
       "      <td>10.430210</td>\n",
       "      <td>158.828695</td>\n",
       "    </tr>\n",
       "    <tr>\n",
       "      <th>41724</th>\n",
       "      <td>bxg6G</td>\n",
       "      <td>-0.823752</td>\n",
       "      <td>0.546319</td>\n",
       "      <td>3.630479</td>\n",
       "      <td>93.007798</td>\n",
       "    </tr>\n",
       "    <tr>\n",
       "      <th>51970</th>\n",
       "      <td>A5aEY</td>\n",
       "      <td>-0.180335</td>\n",
       "      <td>0.935548</td>\n",
       "      <td>-2.094773</td>\n",
       "      <td>33.020205</td>\n",
       "    </tr>\n",
       "    <tr>\n",
       "      <th>63593</th>\n",
       "      <td>QcMuo</td>\n",
       "      <td>0.635635</td>\n",
       "      <td>-0.473422</td>\n",
       "      <td>0.862670</td>\n",
       "      <td>64.578675</td>\n",
       "    </tr>\n",
       "    <tr>\n",
       "      <th>66136</th>\n",
       "      <td>74z30</td>\n",
       "      <td>1.084962</td>\n",
       "      <td>-0.312358</td>\n",
       "      <td>6.990771</td>\n",
       "      <td>127.643327</td>\n",
       "    </tr>\n",
       "    <tr>\n",
       "      <th>69163</th>\n",
       "      <td>AGS9W</td>\n",
       "      <td>-0.933795</td>\n",
       "      <td>0.116194</td>\n",
       "      <td>-3.655896</td>\n",
       "      <td>19.230453</td>\n",
       "    </tr>\n",
       "    <tr>\n",
       "      <th>75715</th>\n",
       "      <td>Tdehs</td>\n",
       "      <td>0.112079</td>\n",
       "      <td>0.430296</td>\n",
       "      <td>3.218993</td>\n",
       "      <td>60.964018</td>\n",
       "    </tr>\n",
       "    <tr>\n",
       "      <th>90815</th>\n",
       "      <td>fiKDv</td>\n",
       "      <td>0.049883</td>\n",
       "      <td>0.841313</td>\n",
       "      <td>6.394613</td>\n",
       "      <td>137.346586</td>\n",
       "    </tr>\n",
       "    <tr>\n",
       "      <th>92341</th>\n",
       "      <td>TtcGQ</td>\n",
       "      <td>0.110711</td>\n",
       "      <td>1.022689</td>\n",
       "      <td>0.911381</td>\n",
       "      <td>101.318008</td>\n",
       "    </tr>\n",
       "    <tr>\n",
       "      <th>97785</th>\n",
       "      <td>bsk9y</td>\n",
       "      <td>0.378429</td>\n",
       "      <td>0.005837</td>\n",
       "      <td>0.160827</td>\n",
       "      <td>160.637302</td>\n",
       "    </tr>\n",
       "  </tbody>\n",
       "</table>\n",
       "</div>"
      ],
      "text/plain": [
       "          id        f0        f1         f2     product\n",
       "7530   HZww2  1.061194 -0.373969  10.430210  158.828695\n",
       "41724  bxg6G -0.823752  0.546319   3.630479   93.007798\n",
       "51970  A5aEY -0.180335  0.935548  -2.094773   33.020205\n",
       "63593  QcMuo  0.635635 -0.473422   0.862670   64.578675\n",
       "66136  74z30  1.084962 -0.312358   6.990771  127.643327\n",
       "69163  AGS9W -0.933795  0.116194  -3.655896   19.230453\n",
       "75715  Tdehs  0.112079  0.430296   3.218993   60.964018\n",
       "90815  fiKDv  0.049883  0.841313   6.394613  137.346586\n",
       "92341  TtcGQ  0.110711  1.022689   0.911381  101.318008\n",
       "97785  bsk9y  0.378429  0.005837   0.160827  160.637302"
      ]
     },
     "execution_count": 17,
     "metadata": {},
     "output_type": "execute_result"
    }
   ],
   "source": [
    "data_0[data_0.duplicated(subset='id')] #дубликаты в 1 регионе"
   ]
  },
  {
   "cell_type": "markdown",
   "metadata": {},
   "source": [
    "Посмотрим на некоторые дубликаты:"
   ]
  },
  {
   "cell_type": "code",
   "execution_count": 18,
   "metadata": {},
   "outputs": [
    {
     "data": {
      "text/html": [
       "<div>\n",
       "<style scoped>\n",
       "    .dataframe tbody tr th:only-of-type {\n",
       "        vertical-align: middle;\n",
       "    }\n",
       "\n",
       "    .dataframe tbody tr th {\n",
       "        vertical-align: top;\n",
       "    }\n",
       "\n",
       "    .dataframe thead th {\n",
       "        text-align: right;\n",
       "    }\n",
       "</style>\n",
       "<table border=\"1\" class=\"dataframe\">\n",
       "  <thead>\n",
       "    <tr style=\"text-align: right;\">\n",
       "      <th></th>\n",
       "      <th>id</th>\n",
       "      <th>f0</th>\n",
       "      <th>f1</th>\n",
       "      <th>f2</th>\n",
       "      <th>product</th>\n",
       "    </tr>\n",
       "  </thead>\n",
       "  <tbody>\n",
       "    <tr>\n",
       "      <th>931</th>\n",
       "      <td>HZww2</td>\n",
       "      <td>0.755284</td>\n",
       "      <td>0.368511</td>\n",
       "      <td>1.863211</td>\n",
       "      <td>30.681774</td>\n",
       "    </tr>\n",
       "    <tr>\n",
       "      <th>7530</th>\n",
       "      <td>HZww2</td>\n",
       "      <td>1.061194</td>\n",
       "      <td>-0.373969</td>\n",
       "      <td>10.430210</td>\n",
       "      <td>158.828695</td>\n",
       "    </tr>\n",
       "  </tbody>\n",
       "</table>\n",
       "</div>"
      ],
      "text/plain": [
       "         id        f0        f1         f2     product\n",
       "931   HZww2  0.755284  0.368511   1.863211   30.681774\n",
       "7530  HZww2  1.061194 -0.373969  10.430210  158.828695"
      ]
     },
     "execution_count": 18,
     "metadata": {},
     "output_type": "execute_result"
    }
   ],
   "source": [
    "data_0.query('id==\"HZww2\"')"
   ]
  },
  {
   "cell_type": "code",
   "execution_count": 19,
   "metadata": {
    "scrolled": false
   },
   "outputs": [
    {
     "data": {
      "text/html": [
       "<div>\n",
       "<style scoped>\n",
       "    .dataframe tbody tr th:only-of-type {\n",
       "        vertical-align: middle;\n",
       "    }\n",
       "\n",
       "    .dataframe tbody tr th {\n",
       "        vertical-align: top;\n",
       "    }\n",
       "\n",
       "    .dataframe thead th {\n",
       "        text-align: right;\n",
       "    }\n",
       "</style>\n",
       "<table border=\"1\" class=\"dataframe\">\n",
       "  <thead>\n",
       "    <tr style=\"text-align: right;\">\n",
       "      <th></th>\n",
       "      <th>id</th>\n",
       "      <th>f0</th>\n",
       "      <th>f1</th>\n",
       "      <th>f2</th>\n",
       "      <th>product</th>\n",
       "    </tr>\n",
       "  </thead>\n",
       "  <tbody>\n",
       "    <tr>\n",
       "      <th>1364</th>\n",
       "      <td>bxg6G</td>\n",
       "      <td>0.411645</td>\n",
       "      <td>0.856830</td>\n",
       "      <td>-3.653440</td>\n",
       "      <td>73.604260</td>\n",
       "    </tr>\n",
       "    <tr>\n",
       "      <th>41724</th>\n",
       "      <td>bxg6G</td>\n",
       "      <td>-0.823752</td>\n",
       "      <td>0.546319</td>\n",
       "      <td>3.630479</td>\n",
       "      <td>93.007798</td>\n",
       "    </tr>\n",
       "  </tbody>\n",
       "</table>\n",
       "</div>"
      ],
      "text/plain": [
       "          id        f0        f1        f2    product\n",
       "1364   bxg6G  0.411645  0.856830 -3.653440  73.604260\n",
       "41724  bxg6G -0.823752  0.546319  3.630479  93.007798"
      ]
     },
     "execution_count": 19,
     "metadata": {},
     "output_type": "execute_result"
    }
   ],
   "source": [
    "data_0.query('id==\"bxg6G\"')"
   ]
  },
  {
   "cell_type": "code",
   "execution_count": 20,
   "metadata": {
    "scrolled": false
   },
   "outputs": [
    {
     "data": {
      "text/html": [
       "<div>\n",
       "<style scoped>\n",
       "    .dataframe tbody tr th:only-of-type {\n",
       "        vertical-align: middle;\n",
       "    }\n",
       "\n",
       "    .dataframe tbody tr th {\n",
       "        vertical-align: top;\n",
       "    }\n",
       "\n",
       "    .dataframe thead th {\n",
       "        text-align: right;\n",
       "    }\n",
       "</style>\n",
       "<table border=\"1\" class=\"dataframe\">\n",
       "  <thead>\n",
       "    <tr style=\"text-align: right;\">\n",
       "      <th></th>\n",
       "      <th>id</th>\n",
       "      <th>f0</th>\n",
       "      <th>f1</th>\n",
       "      <th>f2</th>\n",
       "      <th>product</th>\n",
       "    </tr>\n",
       "  </thead>\n",
       "  <tbody>\n",
       "    <tr>\n",
       "      <th>41906</th>\n",
       "      <td>LHZR0</td>\n",
       "      <td>-8.989672</td>\n",
       "      <td>-4.286607</td>\n",
       "      <td>2.009139</td>\n",
       "      <td>57.085625</td>\n",
       "    </tr>\n",
       "    <tr>\n",
       "      <th>82178</th>\n",
       "      <td>bfPNe</td>\n",
       "      <td>-6.202799</td>\n",
       "      <td>-4.820045</td>\n",
       "      <td>2.995107</td>\n",
       "      <td>84.038886</td>\n",
       "    </tr>\n",
       "    <tr>\n",
       "      <th>82873</th>\n",
       "      <td>wt4Uk</td>\n",
       "      <td>10.259972</td>\n",
       "      <td>-9.376355</td>\n",
       "      <td>4.994297</td>\n",
       "      <td>134.766305</td>\n",
       "    </tr>\n",
       "    <tr>\n",
       "      <th>84461</th>\n",
       "      <td>5ltQ6</td>\n",
       "      <td>18.213839</td>\n",
       "      <td>2.191999</td>\n",
       "      <td>3.993869</td>\n",
       "      <td>107.813044</td>\n",
       "    </tr>\n",
       "  </tbody>\n",
       "</table>\n",
       "</div>"
      ],
      "text/plain": [
       "          id         f0        f1        f2     product\n",
       "41906  LHZR0  -8.989672 -4.286607  2.009139   57.085625\n",
       "82178  bfPNe  -6.202799 -4.820045  2.995107   84.038886\n",
       "82873  wt4Uk  10.259972 -9.376355  4.994297  134.766305\n",
       "84461  5ltQ6  18.213839  2.191999  3.993869  107.813044"
      ]
     },
     "execution_count": 20,
     "metadata": {},
     "output_type": "execute_result"
    }
   ],
   "source": [
    "data_1[data_1.duplicated(subset='id')]  #дубликаты во 2 регионе"
   ]
  },
  {
   "cell_type": "markdown",
   "metadata": {},
   "source": [
    "Посмотрим на некоторые дубликаты:"
   ]
  },
  {
   "cell_type": "code",
   "execution_count": 21,
   "metadata": {},
   "outputs": [
    {
     "data": {
      "text/html": [
       "<div>\n",
       "<style scoped>\n",
       "    .dataframe tbody tr th:only-of-type {\n",
       "        vertical-align: middle;\n",
       "    }\n",
       "\n",
       "    .dataframe tbody tr th {\n",
       "        vertical-align: top;\n",
       "    }\n",
       "\n",
       "    .dataframe thead th {\n",
       "        text-align: right;\n",
       "    }\n",
       "</style>\n",
       "<table border=\"1\" class=\"dataframe\">\n",
       "  <thead>\n",
       "    <tr style=\"text-align: right;\">\n",
       "      <th></th>\n",
       "      <th>id</th>\n",
       "      <th>f0</th>\n",
       "      <th>f1</th>\n",
       "      <th>f2</th>\n",
       "      <th>product</th>\n",
       "    </tr>\n",
       "  </thead>\n",
       "  <tbody>\n",
       "    <tr>\n",
       "      <th>1305</th>\n",
       "      <td>LHZR0</td>\n",
       "      <td>11.170835</td>\n",
       "      <td>-1.945066</td>\n",
       "      <td>3.002872</td>\n",
       "      <td>80.859783</td>\n",
       "    </tr>\n",
       "    <tr>\n",
       "      <th>41906</th>\n",
       "      <td>LHZR0</td>\n",
       "      <td>-8.989672</td>\n",
       "      <td>-4.286607</td>\n",
       "      <td>2.009139</td>\n",
       "      <td>57.085625</td>\n",
       "    </tr>\n",
       "  </tbody>\n",
       "</table>\n",
       "</div>"
      ],
      "text/plain": [
       "          id         f0        f1        f2    product\n",
       "1305   LHZR0  11.170835 -1.945066  3.002872  80.859783\n",
       "41906  LHZR0  -8.989672 -4.286607  2.009139  57.085625"
      ]
     },
     "execution_count": 21,
     "metadata": {},
     "output_type": "execute_result"
    }
   ],
   "source": [
    "data_1.query('id==\"LHZR0\"')"
   ]
  },
  {
   "cell_type": "code",
   "execution_count": 22,
   "metadata": {
    "scrolled": true
   },
   "outputs": [
    {
     "data": {
      "text/html": [
       "<div>\n",
       "<style scoped>\n",
       "    .dataframe tbody tr th:only-of-type {\n",
       "        vertical-align: middle;\n",
       "    }\n",
       "\n",
       "    .dataframe tbody tr th {\n",
       "        vertical-align: top;\n",
       "    }\n",
       "\n",
       "    .dataframe thead th {\n",
       "        text-align: right;\n",
       "    }\n",
       "</style>\n",
       "<table border=\"1\" class=\"dataframe\">\n",
       "  <thead>\n",
       "    <tr style=\"text-align: right;\">\n",
       "      <th></th>\n",
       "      <th>id</th>\n",
       "      <th>f0</th>\n",
       "      <th>f1</th>\n",
       "      <th>f2</th>\n",
       "      <th>product</th>\n",
       "    </tr>\n",
       "  </thead>\n",
       "  <tbody>\n",
       "    <tr>\n",
       "      <th>47591</th>\n",
       "      <td>wt4Uk</td>\n",
       "      <td>-9.091098</td>\n",
       "      <td>-8.109279</td>\n",
       "      <td>-0.002314</td>\n",
       "      <td>3.179103</td>\n",
       "    </tr>\n",
       "    <tr>\n",
       "      <th>82873</th>\n",
       "      <td>wt4Uk</td>\n",
       "      <td>10.259972</td>\n",
       "      <td>-9.376355</td>\n",
       "      <td>4.994297</td>\n",
       "      <td>134.766305</td>\n",
       "    </tr>\n",
       "  </tbody>\n",
       "</table>\n",
       "</div>"
      ],
      "text/plain": [
       "          id         f0        f1        f2     product\n",
       "47591  wt4Uk  -9.091098 -8.109279 -0.002314    3.179103\n",
       "82873  wt4Uk  10.259972 -9.376355  4.994297  134.766305"
      ]
     },
     "execution_count": 22,
     "metadata": {},
     "output_type": "execute_result"
    }
   ],
   "source": [
    "data_1.query('id==\"wt4Uk\"')"
   ]
  },
  {
   "cell_type": "code",
   "execution_count": 23,
   "metadata": {
    "scrolled": false
   },
   "outputs": [
    {
     "data": {
      "text/html": [
       "<div>\n",
       "<style scoped>\n",
       "    .dataframe tbody tr th:only-of-type {\n",
       "        vertical-align: middle;\n",
       "    }\n",
       "\n",
       "    .dataframe tbody tr th {\n",
       "        vertical-align: top;\n",
       "    }\n",
       "\n",
       "    .dataframe thead th {\n",
       "        text-align: right;\n",
       "    }\n",
       "</style>\n",
       "<table border=\"1\" class=\"dataframe\">\n",
       "  <thead>\n",
       "    <tr style=\"text-align: right;\">\n",
       "      <th></th>\n",
       "      <th>id</th>\n",
       "      <th>f0</th>\n",
       "      <th>f1</th>\n",
       "      <th>f2</th>\n",
       "      <th>product</th>\n",
       "    </tr>\n",
       "  </thead>\n",
       "  <tbody>\n",
       "    <tr>\n",
       "      <th>43233</th>\n",
       "      <td>xCHr8</td>\n",
       "      <td>-0.847066</td>\n",
       "      <td>2.101796</td>\n",
       "      <td>5.597130</td>\n",
       "      <td>184.388641</td>\n",
       "    </tr>\n",
       "    <tr>\n",
       "      <th>49564</th>\n",
       "      <td>VF7Jo</td>\n",
       "      <td>-0.883115</td>\n",
       "      <td>0.560537</td>\n",
       "      <td>0.723601</td>\n",
       "      <td>136.233420</td>\n",
       "    </tr>\n",
       "    <tr>\n",
       "      <th>55967</th>\n",
       "      <td>KUPhW</td>\n",
       "      <td>1.211150</td>\n",
       "      <td>3.176408</td>\n",
       "      <td>5.543540</td>\n",
       "      <td>132.831802</td>\n",
       "    </tr>\n",
       "    <tr>\n",
       "      <th>95090</th>\n",
       "      <td>Vcm5J</td>\n",
       "      <td>2.587702</td>\n",
       "      <td>1.986875</td>\n",
       "      <td>2.482245</td>\n",
       "      <td>92.327572</td>\n",
       "    </tr>\n",
       "  </tbody>\n",
       "</table>\n",
       "</div>"
      ],
      "text/plain": [
       "          id        f0        f1        f2     product\n",
       "43233  xCHr8 -0.847066  2.101796  5.597130  184.388641\n",
       "49564  VF7Jo -0.883115  0.560537  0.723601  136.233420\n",
       "55967  KUPhW  1.211150  3.176408  5.543540  132.831802\n",
       "95090  Vcm5J  2.587702  1.986875  2.482245   92.327572"
      ]
     },
     "execution_count": 23,
     "metadata": {},
     "output_type": "execute_result"
    }
   ],
   "source": [
    "data_2[data_2.duplicated(subset='id')]  #дубликаты в 3 регионе"
   ]
  },
  {
   "cell_type": "markdown",
   "metadata": {},
   "source": [
    "Посмотрим на некоторые дубликаты:"
   ]
  },
  {
   "cell_type": "code",
   "execution_count": 24,
   "metadata": {},
   "outputs": [
    {
     "data": {
      "text/html": [
       "<div>\n",
       "<style scoped>\n",
       "    .dataframe tbody tr th:only-of-type {\n",
       "        vertical-align: middle;\n",
       "    }\n",
       "\n",
       "    .dataframe tbody tr th {\n",
       "        vertical-align: top;\n",
       "    }\n",
       "\n",
       "    .dataframe thead th {\n",
       "        text-align: right;\n",
       "    }\n",
       "</style>\n",
       "<table border=\"1\" class=\"dataframe\">\n",
       "  <thead>\n",
       "    <tr style=\"text-align: right;\">\n",
       "      <th></th>\n",
       "      <th>id</th>\n",
       "      <th>f0</th>\n",
       "      <th>f1</th>\n",
       "      <th>f2</th>\n",
       "      <th>product</th>\n",
       "    </tr>\n",
       "  </thead>\n",
       "  <tbody>\n",
       "    <tr>\n",
       "      <th>28039</th>\n",
       "      <td>xCHr8</td>\n",
       "      <td>1.633027</td>\n",
       "      <td>0.368135</td>\n",
       "      <td>-2.378367</td>\n",
       "      <td>6.120525</td>\n",
       "    </tr>\n",
       "    <tr>\n",
       "      <th>43233</th>\n",
       "      <td>xCHr8</td>\n",
       "      <td>-0.847066</td>\n",
       "      <td>2.101796</td>\n",
       "      <td>5.597130</td>\n",
       "      <td>184.388641</td>\n",
       "    </tr>\n",
       "  </tbody>\n",
       "</table>\n",
       "</div>"
      ],
      "text/plain": [
       "          id        f0        f1        f2     product\n",
       "28039  xCHr8  1.633027  0.368135 -2.378367    6.120525\n",
       "43233  xCHr8 -0.847066  2.101796  5.597130  184.388641"
      ]
     },
     "execution_count": 24,
     "metadata": {},
     "output_type": "execute_result"
    }
   ],
   "source": [
    "data_2.query('id==\"xCHr8\"')"
   ]
  },
  {
   "cell_type": "code",
   "execution_count": 25,
   "metadata": {
    "scrolled": true
   },
   "outputs": [
    {
     "data": {
      "text/html": [
       "<div>\n",
       "<style scoped>\n",
       "    .dataframe tbody tr th:only-of-type {\n",
       "        vertical-align: middle;\n",
       "    }\n",
       "\n",
       "    .dataframe tbody tr th {\n",
       "        vertical-align: top;\n",
       "    }\n",
       "\n",
       "    .dataframe thead th {\n",
       "        text-align: right;\n",
       "    }\n",
       "</style>\n",
       "<table border=\"1\" class=\"dataframe\">\n",
       "  <thead>\n",
       "    <tr style=\"text-align: right;\">\n",
       "      <th></th>\n",
       "      <th>id</th>\n",
       "      <th>f0</th>\n",
       "      <th>f1</th>\n",
       "      <th>f2</th>\n",
       "      <th>product</th>\n",
       "    </tr>\n",
       "  </thead>\n",
       "  <tbody>\n",
       "    <tr>\n",
       "      <th>45404</th>\n",
       "      <td>KUPhW</td>\n",
       "      <td>0.231846</td>\n",
       "      <td>-1.698941</td>\n",
       "      <td>4.990775</td>\n",
       "      <td>11.716299</td>\n",
       "    </tr>\n",
       "    <tr>\n",
       "      <th>55967</th>\n",
       "      <td>KUPhW</td>\n",
       "      <td>1.211150</td>\n",
       "      <td>3.176408</td>\n",
       "      <td>5.543540</td>\n",
       "      <td>132.831802</td>\n",
       "    </tr>\n",
       "  </tbody>\n",
       "</table>\n",
       "</div>"
      ],
      "text/plain": [
       "          id        f0        f1        f2     product\n",
       "45404  KUPhW  0.231846 -1.698941  4.990775   11.716299\n",
       "55967  KUPhW  1.211150  3.176408  5.543540  132.831802"
      ]
     },
     "execution_count": 25,
     "metadata": {},
     "output_type": "execute_result"
    }
   ],
   "source": [
    "data_2.query('id==\"KUPhW\"')"
   ]
  },
  {
   "cell_type": "markdown",
   "metadata": {},
   "source": [
    "Число полных дубликатов в датасетах:"
   ]
  },
  {
   "cell_type": "code",
   "execution_count": 26,
   "metadata": {},
   "outputs": [
    {
     "data": {
      "text/plain": [
       "0"
      ]
     },
     "execution_count": 26,
     "metadata": {},
     "output_type": "execute_result"
    }
   ],
   "source": [
    "data_0.duplicated().sum()"
   ]
  },
  {
   "cell_type": "code",
   "execution_count": 27,
   "metadata": {},
   "outputs": [
    {
     "data": {
      "text/plain": [
       "0"
      ]
     },
     "execution_count": 27,
     "metadata": {},
     "output_type": "execute_result"
    }
   ],
   "source": [
    "data_1.duplicated().sum()"
   ]
  },
  {
   "cell_type": "code",
   "execution_count": 28,
   "metadata": {},
   "outputs": [
    {
     "data": {
      "text/plain": [
       "0"
      ]
     },
     "execution_count": 28,
     "metadata": {},
     "output_type": "execute_result"
    }
   ],
   "source": [
    "data_2.duplicated().sum()"
   ]
  },
  {
   "cell_type": "markdown",
   "metadata": {},
   "source": [
    "Видим, что полных дубликатов нет и дубликаты по id скважины отличаются во всех остальных признаках. Поэтому скорее всего это ошибка присвоения идентификатора другой скважиене в результате человеческого фактора (дубликатов немного)."
   ]
  },
  {
   "cell_type": "markdown",
   "metadata": {},
   "source": [
    "В принципе значения признаков адекватные и данные можно оставить, поскольку для нас не важен признак id при исследовании. Но так как дубликатов крайне малый процент и имеется большой разброс между дубликатами по значению product, а мы не знаем какой из них истинный, то  удалим их все:"
   ]
  },
  {
   "cell_type": "code",
   "execution_count": 29,
   "metadata": {},
   "outputs": [],
   "source": [
    "data_0 = data_0.drop_duplicates(subset='id', keep=False, ignore_index=True)"
   ]
  },
  {
   "cell_type": "code",
   "execution_count": 30,
   "metadata": {},
   "outputs": [],
   "source": [
    "data_1 = data_1.drop_duplicates(subset='id', keep=False, ignore_index=True)"
   ]
  },
  {
   "cell_type": "code",
   "execution_count": 31,
   "metadata": {},
   "outputs": [],
   "source": [
    "data_2 = data_2.drop_duplicates(subset='id', keep=False, ignore_index=True)"
   ]
  },
  {
   "cell_type": "markdown",
   "metadata": {},
   "source": [
    "#### Удаление неинформативных признаков"
   ]
  },
  {
   "cell_type": "markdown",
   "metadata": {},
   "source": [
    "Далее удалим уникальный идентификатор скважины, так как это неинформативный признак."
   ]
  },
  {
   "cell_type": "code",
   "execution_count": 32,
   "metadata": {},
   "outputs": [],
   "source": [
    "data_0 = data_0.drop(['id'], axis=1)"
   ]
  },
  {
   "cell_type": "code",
   "execution_count": 33,
   "metadata": {},
   "outputs": [],
   "source": [
    "data_1 = data_1.drop(['id'], axis=1)"
   ]
  },
  {
   "cell_type": "code",
   "execution_count": 34,
   "metadata": {},
   "outputs": [],
   "source": [
    "data_2 = data_2.drop(['id'], axis=1)"
   ]
  },
  {
   "cell_type": "markdown",
   "metadata": {},
   "source": [
    "#### Проверка данных на наличие пропусков"
   ]
  },
  {
   "cell_type": "code",
   "execution_count": 35,
   "metadata": {},
   "outputs": [
    {
     "data": {
      "text/plain": [
       "f0         0\n",
       "f1         0\n",
       "f2         0\n",
       "product    0\n",
       "dtype: int64"
      ]
     },
     "execution_count": 35,
     "metadata": {},
     "output_type": "execute_result"
    }
   ],
   "source": [
    "data_0.isna().sum()"
   ]
  },
  {
   "cell_type": "code",
   "execution_count": 36,
   "metadata": {},
   "outputs": [
    {
     "data": {
      "text/plain": [
       "f0         0\n",
       "f1         0\n",
       "f2         0\n",
       "product    0\n",
       "dtype: int64"
      ]
     },
     "execution_count": 36,
     "metadata": {},
     "output_type": "execute_result"
    }
   ],
   "source": [
    "data_1.isna().sum()"
   ]
  },
  {
   "cell_type": "code",
   "execution_count": 37,
   "metadata": {},
   "outputs": [
    {
     "data": {
      "text/plain": [
       "f0         0\n",
       "f1         0\n",
       "f2         0\n",
       "product    0\n",
       "dtype: int64"
      ]
     },
     "execution_count": 37,
     "metadata": {},
     "output_type": "execute_result"
    }
   ],
   "source": [
    "data_2.isna().sum()"
   ]
  },
  {
   "cell_type": "markdown",
   "metadata": {},
   "source": [
    "Пропусков нет - отлично."
   ]
  },
  {
   "cell_type": "markdown",
   "metadata": {},
   "source": [
    "#### Проверка нецелевых признаков на мультиколлинеарность"
   ]
  },
  {
   "cell_type": "markdown",
   "metadata": {},
   "source": [
    "Все нецелевые признаки являются количественными - используем критерий Пирсона:"
   ]
  },
  {
   "cell_type": "code",
   "execution_count": 38,
   "metadata": {
    "scrolled": true
   },
   "outputs": [
    {
     "data": {
      "text/plain": [
       "<AxesSubplot:>"
      ]
     },
     "execution_count": 38,
     "metadata": {},
     "output_type": "execute_result"
    },
    {
     "data": {
      "image/png": "[encoded data removed]",
      "text/plain": [
       "<Figure size 1080x936 with 2 Axes>"
      ]
     },
     "metadata": {
      "needs_background": "light"
     },
     "output_type": "display_data"
    }
   ],
   "source": [
    "plt.figure(figsize=(15, 13))\n",
    "sns.heatmap(data_0.drop('product', axis=1).corr(), annot=True)"
   ]
  },
  {
   "cell_type": "code",
   "execution_count": 39,
   "metadata": {
    "scrolled": true
   },
   "outputs": [
    {
     "data": {
      "text/plain": [
       "<AxesSubplot:>"
      ]
     },
     "execution_count": 39,
     "metadata": {},
     "output_type": "execute_result"
    },
    {
     "data": {
      "image/png": "[encoded data removed]",
      "text/plain": [
       "<Figure size 1080x936 with 2 Axes>"
      ]
     },
     "metadata": {
      "needs_background": "light"
     },
     "output_type": "display_data"
    }
   ],
   "source": [
    "plt.figure(figsize=(15, 13))\n",
    "sns.heatmap(data_1.drop('product', axis=1).corr(), annot=True)"
   ]
  },
  {
   "cell_type": "code",
   "execution_count": 40,
   "metadata": {
    "scrolled": true
   },
   "outputs": [
    {
     "data": {
      "text/plain": [
       "<AxesSubplot:>"
      ]
     },
     "execution_count": 40,
     "metadata": {},
     "output_type": "execute_result"
    },
    {
     "data": {
      "image/png": "[encoded data removed]",
      "text/plain": [
       "<Figure size 1080x936 with 2 Axes>"
      ]
     },
     "metadata": {
      "needs_background": "light"
     },
     "output_type": "display_data"
    }
   ],
   "source": [
    "plt.figure(figsize=(15, 13))\n",
    "sns.heatmap(data_2.drop('product', axis=1).corr(), annot=True)"
   ]
  },
  {
   "cell_type": "markdown",
   "metadata": {},
   "source": [
    "Коэффициенты корреляции не превышают 0.6 - все в норме."
   ]
  },
  {
   "cell_type": "code",
   "execution_count": 41,
   "metadata": {
    "scrolled": false
   },
   "outputs": [
    {
     "data": {
      "text/plain": [
       "<AxesSubplot:>"
      ]
     },
     "execution_count": 41,
     "metadata": {},
     "output_type": "execute_result"
    },
    {
     "data": {
      "image/png": "[encoded data removed]",
      "text/plain": [
       "<Figure size 1080x936 with 2 Axes>"
      ]
     },
     "metadata": {
      "needs_background": "light"
     },
     "output_type": "display_data"
    }
   ],
   "source": [
    "plt.figure(figsize=(15, 13))\n",
    "sns.heatmap(data_1.corr(), annot=True)"
   ]
  },
  {
   "cell_type": "markdown",
   "metadata": {},
   "source": [
    "#### Разделение данных по целевому и нецелевому признакам"
   ]
  },
  {
   "cell_type": "markdown",
   "metadata": {},
   "source": [
    "Разделим датафреймы на столбцы с целевым признаком - 'product' и столбцы с остальными признаками:"
   ]
  },
  {
   "cell_type": "code",
   "execution_count": 42,
   "metadata": {},
   "outputs": [],
   "source": [
    "features_0 = data_0.drop('product', axis=1)\n",
    "target_0 = data_0['product']"
   ]
  },
  {
   "cell_type": "code",
   "execution_count": 43,
   "metadata": {},
   "outputs": [],
   "source": [
    "features_1 = data_1.drop('product', axis=1)\n",
    "target_1 = data_1['product']"
   ]
  },
  {
   "cell_type": "code",
   "execution_count": 44,
   "metadata": {},
   "outputs": [],
   "source": [
    "features_2 = data_2.drop('product', axis=1)\n",
    "target_2 = data_2['product']"
   ]
  },
  {
   "cell_type": "markdown",
   "metadata": {},
   "source": [
    "### Промежуточные выводы по 1 этапу:"
   ]
  },
  {
   "cell_type": "markdown",
   "metadata": {},
   "source": [
    "В ходе 1 этапа выполнены следующие задачи:\n",
    "- загружены и изучены исходные данные:\n",
    "по условию задачи даны 3 датасета размером в 100000 объектов с 5 признаками, один из которых оказался неиформативным (идентификатор скважины). Целевой признак - product (объём запасов в скважине, тыс. баррелей);\n",
    "\n",
    "- подготовлены данные:\n",
    "найдены и удалены дубликаты (10, 4 и 4 дубликата - в 1, 2 и 3 датасетах соответственно),\n",
    "удален неинформативный признак id скважины, проверено наличие пропусков - пропусков не найдено, нецелевые признаки проверены на мультиколлинеарность - коэффициентов со значением 0.6 и более не обнаружено, данные датасетов разделены по целевому и нецелевому признакам.\n"
   ]
  },
  {
   "cell_type": "markdown",
   "metadata": {},
   "source": [
    "## Обучение и проверка модели"
   ]
  },
  {
   "cell_type": "markdown",
   "metadata": {},
   "source": [
    "###  Разбиение данных на обучающую и валидационную выборки в соотношении 75:25."
   ]
  },
  {
   "cell_type": "markdown",
   "metadata": {},
   "source": [
    "Разделим обработанные датасеты на обучающую и валидационную выборки в соотношении 3:1."
   ]
  },
  {
   "cell_type": "code",
   "execution_count": 45,
   "metadata": {},
   "outputs": [],
   "source": [
    "features_train_0, features_valid_0, target_train_0, target_valid_0 = train_test_split(\n",
    "    features_0, target_0, test_size=0.25, random_state=12345)\n",
    "\n",
    "features_train_1, features_valid_1, target_train_1, target_valid_1 = train_test_split(\n",
    "    features_1, target_1, test_size=0.25, random_state=12345)\n",
    "\n",
    "features_train_2, features_valid_2, target_train_2, target_valid_2 = train_test_split(\n",
    "    features_2, target_2, test_size=0.25, random_state=12345)"
   ]
  },
  {
   "cell_type": "code",
   "execution_count": 46,
   "metadata": {},
   "outputs": [
    {
     "data": {
      "text/plain": [
       "3.0"
      ]
     },
     "execution_count": 46,
     "metadata": {},
     "output_type": "execute_result"
    }
   ],
   "source": [
    "len(features_train_2)/len(features_valid_2)"
   ]
  },
  {
   "cell_type": "markdown",
   "metadata": {},
   "source": [
    "Смотрим размер полученных выборок:"
   ]
  },
  {
   "cell_type": "code",
   "execution_count": 47,
   "metadata": {
    "scrolled": true
   },
   "outputs": [
    {
     "data": {
      "text/plain": [
       "74985"
      ]
     },
     "execution_count": 47,
     "metadata": {},
     "output_type": "execute_result"
    }
   ],
   "source": [
    "features_train_0.shape[0] #смотрим размер полученных выборок"
   ]
  },
  {
   "cell_type": "code",
   "execution_count": 48,
   "metadata": {
    "scrolled": true
   },
   "outputs": [
    {
     "data": {
      "text/plain": [
       "24995"
      ]
     },
     "execution_count": 48,
     "metadata": {},
     "output_type": "execute_result"
    }
   ],
   "source": [
    "features_valid_0.shape[0] #смотрим размер полученных выборок"
   ]
  },
  {
   "cell_type": "code",
   "execution_count": 49,
   "metadata": {
    "scrolled": true
   },
   "outputs": [
    {
     "data": {
      "text/plain": [
       "74994"
      ]
     },
     "execution_count": 49,
     "metadata": {},
     "output_type": "execute_result"
    }
   ],
   "source": [
    "features_train_1.shape[0] #смотрим размер полученных выборок"
   ]
  },
  {
   "cell_type": "code",
   "execution_count": 50,
   "metadata": {
    "scrolled": true
   },
   "outputs": [
    {
     "data": {
      "text/plain": [
       "24998"
      ]
     },
     "execution_count": 50,
     "metadata": {},
     "output_type": "execute_result"
    }
   ],
   "source": [
    "features_valid_1.shape[0] #смотрим размер полученных выборок"
   ]
  },
  {
   "cell_type": "code",
   "execution_count": 51,
   "metadata": {
    "scrolled": true
   },
   "outputs": [
    {
     "data": {
      "text/plain": [
       "74994"
      ]
     },
     "execution_count": 51,
     "metadata": {},
     "output_type": "execute_result"
    }
   ],
   "source": [
    "features_train_2.shape[0] #смотрим размер полученных выборок"
   ]
  },
  {
   "cell_type": "code",
   "execution_count": 52,
   "metadata": {
    "scrolled": true
   },
   "outputs": [
    {
     "data": {
      "text/plain": [
       "24998"
      ]
     },
     "execution_count": 52,
     "metadata": {},
     "output_type": "execute_result"
    }
   ],
   "source": [
    "features_valid_2.shape[0] #смотрим размер полученных выборок"
   ]
  },
  {
   "cell_type": "markdown",
   "metadata": {},
   "source": [
    "### Масштабирование числовых признаков"
   ]
  },
  {
   "cell_type": "markdown",
   "metadata": {},
   "source": [
    "Все нецелевые признаки - числовые, но имеют различный диапазон изменения (см. пукнт 1.1), поэтому масштабируем их."
   ]
  },
  {
   "cell_type": "markdown",
   "metadata": {},
   "source": [
    "Создадим объект структуры StandardScaler() и настроим его для всех датасетов:"
   ]
  },
  {
   "cell_type": "code",
   "execution_count": 53,
   "metadata": {},
   "outputs": [
    {
     "data": {
      "text/plain": [
       "StandardScaler()"
      ]
     },
     "execution_count": 53,
     "metadata": {},
     "output_type": "execute_result"
    }
   ],
   "source": [
    "scaler_0 = StandardScaler()\n",
    "scaler_1 = StandardScaler()\n",
    "scaler_2 = StandardScaler()\n",
    "\n",
    "# обучаем модель на трейнах по каждому региону\n",
    "scaler_0.fit(features_train_0)\n",
    "scaler_1.fit(features_train_1)\n",
    "scaler_2.fit(features_train_2)"
   ]
  },
  {
   "cell_type": "markdown",
   "metadata": {},
   "source": [
    "Преобразуем столбцы функцией transform() и преобразуем массивы numpy в датафреймы с исходными названиями признаков:"
   ]
  },
  {
   "cell_type": "code",
   "execution_count": 54,
   "metadata": {
    "scrolled": true
   },
   "outputs": [],
   "source": [
    "# масштабируем трейн \n",
    "\n",
    "features_train_0 = pd.DataFrame(\n",
    "    scaler_0.transform(features_train_0), columns=features_0.columns)\n",
    "\n",
    "features_train_1 = pd.DataFrame(\n",
    "    scaler_1.transform(features_train_1), columns=features_1.columns)\n",
    "\n",
    "features_train_2 = pd.DataFrame(\n",
    "    scaler_2.transform(features_train_2), columns=features_2.columns)\n",
    "\n",
    "# масштабируем валид\n",
    "\n",
    "features_valid_0 = pd.DataFrame(\n",
    "    scaler_0.transform(features_valid_0), columns=features_0.columns)\n",
    "\n",
    "features_valid_1 = pd.DataFrame(\n",
    "    scaler_1.transform(features_valid_1), columns=features_1.columns)\n",
    "\n",
    "features_valid_2 = pd.DataFrame(\n",
    "    scaler_2.transform(features_valid_2), columns=features_2.columns)"
   ]
  },
  {
   "cell_type": "code",
   "execution_count": 55,
   "metadata": {
    "scrolled": false
   },
   "outputs": [
    {
     "data": {
      "text/html": [
       "<div>\n",
       "<style scoped>\n",
       "    .dataframe tbody tr th:only-of-type {\n",
       "        vertical-align: middle;\n",
       "    }\n",
       "\n",
       "    .dataframe tbody tr th {\n",
       "        vertical-align: top;\n",
       "    }\n",
       "\n",
       "    .dataframe thead th {\n",
       "        text-align: right;\n",
       "    }\n",
       "</style>\n",
       "<table border=\"1\" class=\"dataframe\">\n",
       "  <thead>\n",
       "    <tr style=\"text-align: right;\">\n",
       "      <th></th>\n",
       "      <th>f0</th>\n",
       "      <th>f1</th>\n",
       "      <th>f2</th>\n",
       "    </tr>\n",
       "  </thead>\n",
       "  <tbody>\n",
       "    <tr>\n",
       "      <th>count</th>\n",
       "      <td>7.498500e+04</td>\n",
       "      <td>7.498500e+04</td>\n",
       "      <td>7.498500e+04</td>\n",
       "    </tr>\n",
       "    <tr>\n",
       "      <th>mean</th>\n",
       "      <td>-2.515824e-17</td>\n",
       "      <td>-4.927415e-18</td>\n",
       "      <td>-3.899291e-17</td>\n",
       "    </tr>\n",
       "    <tr>\n",
       "      <th>std</th>\n",
       "      <td>1.000007e+00</td>\n",
       "      <td>1.000007e+00</td>\n",
       "      <td>1.000007e+00</td>\n",
       "    </tr>\n",
       "    <tr>\n",
       "      <th>min</th>\n",
       "      <td>-2.190786e+00</td>\n",
       "      <td>-2.177497e+00</td>\n",
       "      <td>-4.495803e+00</td>\n",
       "    </tr>\n",
       "    <tr>\n",
       "      <th>25%</th>\n",
       "      <td>-6.570672e-01</td>\n",
       "      <td>-8.907212e-01</td>\n",
       "      <td>-6.836842e-01</td>\n",
       "    </tr>\n",
       "    <tr>\n",
       "      <th>50%</th>\n",
       "      <td>1.425555e-03</td>\n",
       "      <td>1.081909e-03</td>\n",
       "      <td>3.204443e-03</td>\n",
       "    </tr>\n",
       "    <tr>\n",
       "      <th>75%</th>\n",
       "      <td>6.580222e-01</td>\n",
       "      <td>8.904933e-01</td>\n",
       "      <td>6.801353e-01</td>\n",
       "    </tr>\n",
       "    <tr>\n",
       "      <th>max</th>\n",
       "      <td>2.135624e+00</td>\n",
       "      <td>2.168314e+00</td>\n",
       "      <td>4.157751e+00</td>\n",
       "    </tr>\n",
       "  </tbody>\n",
       "</table>\n",
       "</div>"
      ],
      "text/plain": [
       "                 f0            f1            f2\n",
       "count  7.498500e+04  7.498500e+04  7.498500e+04\n",
       "mean  -2.515824e-17 -4.927415e-18 -3.899291e-17\n",
       "std    1.000007e+00  1.000007e+00  1.000007e+00\n",
       "min   -2.190786e+00 -2.177497e+00 -4.495803e+00\n",
       "25%   -6.570672e-01 -8.907212e-01 -6.836842e-01\n",
       "50%    1.425555e-03  1.081909e-03  3.204443e-03\n",
       "75%    6.580222e-01  8.904933e-01  6.801353e-01\n",
       "max    2.135624e+00  2.168314e+00  4.157751e+00"
      ]
     },
     "execution_count": 55,
     "metadata": {},
     "output_type": "execute_result"
    }
   ],
   "source": [
    "features_train_0.describe() # наблюдаем, что std признаков выравнялось"
   ]
  },
  {
   "cell_type": "code",
   "execution_count": 56,
   "metadata": {
    "scrolled": true
   },
   "outputs": [
    {
     "data": {
      "text/html": [
       "<div>\n",
       "<style scoped>\n",
       "    .dataframe tbody tr th:only-of-type {\n",
       "        vertical-align: middle;\n",
       "    }\n",
       "\n",
       "    .dataframe tbody tr th {\n",
       "        vertical-align: top;\n",
       "    }\n",
       "\n",
       "    .dataframe thead th {\n",
       "        text-align: right;\n",
       "    }\n",
       "</style>\n",
       "<table border=\"1\" class=\"dataframe\">\n",
       "  <thead>\n",
       "    <tr style=\"text-align: right;\">\n",
       "      <th></th>\n",
       "      <th>f0</th>\n",
       "      <th>f1</th>\n",
       "      <th>f2</th>\n",
       "    </tr>\n",
       "  </thead>\n",
       "  <tbody>\n",
       "    <tr>\n",
       "      <th>count</th>\n",
       "      <td>24998.000000</td>\n",
       "      <td>24998.000000</td>\n",
       "      <td>24998.000000</td>\n",
       "    </tr>\n",
       "    <tr>\n",
       "      <th>mean</th>\n",
       "      <td>-0.005731</td>\n",
       "      <td>0.008511</td>\n",
       "      <td>-0.001590</td>\n",
       "    </tr>\n",
       "    <tr>\n",
       "      <th>std</th>\n",
       "      <td>1.009873</td>\n",
       "      <td>1.006335</td>\n",
       "      <td>1.003402</td>\n",
       "    </tr>\n",
       "    <tr>\n",
       "      <th>min</th>\n",
       "      <td>-5.072680</td>\n",
       "      <td>-3.902740</td>\n",
       "      <td>-4.168465</td>\n",
       "    </tr>\n",
       "    <tr>\n",
       "      <th>25%</th>\n",
       "      <td>-0.680303</td>\n",
       "      <td>-0.669447</td>\n",
       "      <td>-0.686729</td>\n",
       "    </tr>\n",
       "    <tr>\n",
       "      <th>50%</th>\n",
       "      <td>0.004137</td>\n",
       "      <td>0.010394</td>\n",
       "      <td>-0.006612</td>\n",
       "    </tr>\n",
       "    <tr>\n",
       "      <th>75%</th>\n",
       "      <td>0.667719</td>\n",
       "      <td>0.681157</td>\n",
       "      <td>0.675862</td>\n",
       "    </tr>\n",
       "    <tr>\n",
       "      <th>max</th>\n",
       "      <td>4.161515</td>\n",
       "      <td>3.940884</td>\n",
       "      <td>3.955206</td>\n",
       "    </tr>\n",
       "  </tbody>\n",
       "</table>\n",
       "</div>"
      ],
      "text/plain": [
       "                 f0            f1            f2\n",
       "count  24998.000000  24998.000000  24998.000000\n",
       "mean      -0.005731      0.008511     -0.001590\n",
       "std        1.009873      1.006335      1.003402\n",
       "min       -5.072680     -3.902740     -4.168465\n",
       "25%       -0.680303     -0.669447     -0.686729\n",
       "50%        0.004137      0.010394     -0.006612\n",
       "75%        0.667719      0.681157      0.675862\n",
       "max        4.161515      3.940884      3.955206"
      ]
     },
     "execution_count": 56,
     "metadata": {},
     "output_type": "execute_result"
    }
   ],
   "source": [
    "features_valid_2.describe() # наблюдаем, что std признаков выравнялось"
   ]
  },
  {
   "cell_type": "markdown",
   "metadata": {},
   "source": [
    "### Обучение модели"
   ]
  },
  {
   "cell_type": "markdown",
   "metadata": {},
   "source": [
    "По условию задачи используем только линейную регрессию."
   ]
  },
  {
   "cell_type": "code",
   "execution_count": 57,
   "metadata": {},
   "outputs": [
    {
     "data": {
      "text/plain": [
       "LinearRegression()"
      ]
     },
     "execution_count": 57,
     "metadata": {},
     "output_type": "execute_result"
    }
   ],
   "source": [
    "# инициализируем модели LinearRegression\n",
    "model_0 = LinearRegression() \n",
    "model_1 = LinearRegression()\n",
    "model_2 = LinearRegression()\n",
    "\n",
    "# обучаем модели на тренировочных выборках\n",
    "model_0.fit(features_train_0, target_train_0) \n",
    "model_1.fit(features_train_1, target_train_1) \n",
    "model_2.fit(features_train_2, target_train_2) "
   ]
  },
  {
   "cell_type": "markdown",
   "metadata": {},
   "source": [
    "### Сохранение предсказаний и правильных ответов на валидационной выборке"
   ]
  },
  {
   "cell_type": "markdown",
   "metadata": {},
   "source": [
    "Правильные ответы на валидационной выборке записаны в переменных: target_valid_0, target_valid_1 и target_valid_2."
   ]
  },
  {
   "cell_type": "code",
   "execution_count": 58,
   "metadata": {},
   "outputs": [],
   "source": [
    "# получаем предсказания моделей на валидационных выборках\n",
    "predictions_valid_0 = pd.Series(model_0.predict(features_valid_0))\n",
    "predictions_valid_1 = pd.Series(model_1.predict(features_valid_1))\n",
    "predictions_valid_2 = pd.Series(model_2.predict(features_valid_2))\n",
    "\n",
    "# правильные ответы на валидационной выборке\n",
    "#заранее сбрасываем индексы во избежание дублей индексов при бутстрепе\n",
    "target_valid_0 = target_valid_0.reset_index(drop=True) \n",
    "target_valid_1 = target_valid_1.reset_index(drop=True)\n",
    "target_valid_2 = target_valid_2.reset_index(drop=True)"
   ]
  },
  {
   "cell_type": "markdown",
   "metadata": {},
   "source": [
    "###  Cредний запас предсказанного сырья и RMSE модели."
   ]
  },
  {
   "cell_type": "code",
   "execution_count": 59,
   "metadata": {
    "scrolled": false
   },
   "outputs": [
    {
     "data": {
      "text/plain": [
       "'Cредний запас предсказанного сырья 1-го региона:'"
      ]
     },
     "metadata": {},
     "output_type": "display_data"
    },
    {
     "data": {
      "text/plain": [
       "92.42384109947359"
      ]
     },
     "metadata": {},
     "output_type": "display_data"
    },
    {
     "data": {
      "text/plain": [
       "'RMSE 1-го региона:'"
      ]
     },
     "metadata": {},
     "output_type": "display_data"
    },
    {
     "data": {
      "text/plain": [
       "37.716904960382735"
      ]
     },
     "metadata": {},
     "output_type": "display_data"
    },
    {
     "data": {
      "text/plain": [
       "'Cредний запас предсказанного сырья 2-го региона:'"
      ]
     },
     "metadata": {},
     "output_type": "display_data"
    },
    {
     "data": {
      "text/plain": [
       "68.98311857983121"
      ]
     },
     "metadata": {},
     "output_type": "display_data"
    },
    {
     "data": {
      "text/plain": [
       "'RMSE 2-го региона:'"
      ]
     },
     "metadata": {},
     "output_type": "display_data"
    },
    {
     "data": {
      "text/plain": [
       "0.891490139034854"
      ]
     },
     "metadata": {},
     "output_type": "display_data"
    },
    {
     "data": {
      "text/plain": [
       "'Cредний запас предсказанного сырья 3-го региона:'"
      ]
     },
     "metadata": {},
     "output_type": "display_data"
    },
    {
     "data": {
      "text/plain": [
       "95.11622302076478"
      ]
     },
     "metadata": {},
     "output_type": "display_data"
    },
    {
     "data": {
      "text/plain": [
       "'RMSE 3-го региона:'"
      ]
     },
     "metadata": {},
     "output_type": "display_data"
    },
    {
     "data": {
      "text/plain": [
       "39.975543264382345"
      ]
     },
     "metadata": {},
     "output_type": "display_data"
    }
   ],
   "source": [
    "# посчитаем значение метрики RMSE на валидационных выборках\n",
    "result_0 = mean_squared_error(target_valid_0, predictions_valid_0) ** 0.5\n",
    "result_1 = mean_squared_error(target_valid_1, predictions_valid_1) ** 0.5\n",
    "result_2 = mean_squared_error(target_valid_2, predictions_valid_2) ** 0.5\n",
    "\n",
    "display('Cредний запас предсказанного сырья 1-го региона:', predictions_valid_0.mean())\n",
    "display('RMSE 1-го региона:', result_0)\n",
    "display('Cредний запас предсказанного сырья 2-го региона:', predictions_valid_1.mean())\n",
    "display('RMSE 2-го региона:', result_1)\n",
    "display('Cредний запас предсказанного сырья 3-го региона:', predictions_valid_2.mean())\n",
    "display('RMSE 3-го региона:', result_2)"
   ]
  },
  {
   "cell_type": "markdown",
   "metadata": {},
   "source": [
    "Анализируя вышеприведенные результаты можно сказать, что наибольший средний запас сырья находится в 3 регионе: 95 тыс баррелей на скважину. Меньше всего средний запас во 2 регионе. В то же время, качество предсказания модели для 2 региона наилучшее. "
   ]
  },
  {
   "cell_type": "markdown",
   "metadata": {},
   "source": [
    "Качество предсказания модели для 2 региона лучше скорее всего обусловлено ограниченным числом значений целевого признака: 12 против 99 тыс в остальных:"
   ]
  },
  {
   "cell_type": "code",
   "execution_count": 60,
   "metadata": {},
   "outputs": [
    {
     "data": {
      "text/plain": [
       "99980"
      ]
     },
     "execution_count": 60,
     "metadata": {},
     "output_type": "execute_result"
    }
   ],
   "source": [
    "target_0.nunique()"
   ]
  },
  {
   "cell_type": "code",
   "execution_count": 61,
   "metadata": {},
   "outputs": [
    {
     "data": {
      "text/plain": [
       "12"
      ]
     },
     "execution_count": 61,
     "metadata": {},
     "output_type": "execute_result"
    }
   ],
   "source": [
    "target_1.nunique()"
   ]
  },
  {
   "cell_type": "code",
   "execution_count": 62,
   "metadata": {},
   "outputs": [
    {
     "data": {
      "text/plain": [
       "99992"
      ]
     },
     "execution_count": 62,
     "metadata": {},
     "output_type": "execute_result"
    }
   ],
   "source": [
    "target_2.nunique()"
   ]
  },
  {
   "cell_type": "markdown",
   "metadata": {},
   "source": [
    "### Промежуточные выводы по 2 этапу:"
   ]
  },
  {
   "cell_type": "markdown",
   "metadata": {},
   "source": [
    "В ходе 2 этапа выполнены следующие задачи:\n",
    "- каждый из 3х обработанных датасетов разделен на обучающую и валидационную выборки в соотношщении 3:1;\n",
    "- сделано масшабирование числовых признаков;\n",
    "- обучена модель линейной регрессии на каждой из 3х полученных обучающих выборках;\n",
    "- получены предсказания объема запасов сырья в скважинах по каждому региону;\n",
    "- рассчитан средний запас сырья предсказанного сырья по регионам и метрика RMSE моделей: наибольший средний запас сырья находится в 3 регионе: 95 тыс баррелей на скважину. Меньше всего средний запас во 2 регионе. В то же время, качество предсказания модели для 2 региона наилучшее, что скорее всего обусловлено ограниченным числом значений целевого признака по сравнению с другими регионами."
   ]
  },
  {
   "cell_type": "markdown",
   "metadata": {},
   "source": [
    "## Подготовка к расчёту прибыли"
   ]
  },
  {
   "cell_type": "markdown",
   "metadata": {},
   "source": [
    "### Расчет достаточного объёма сырья для безубыточной разработки новой скважины"
   ]
  },
  {
   "cell_type": "markdown",
   "metadata": {},
   "source": [
    "Посчитаем бюджет на разработку одной скважины:"
   ]
  },
  {
   "cell_type": "code",
   "execution_count": 64,
   "metadata": {},
   "outputs": [
    {
     "data": {
      "text/plain": [
       "50000000.0"
      ]
     },
     "execution_count": 64,
     "metadata": {},
     "output_type": "execute_result"
    }
   ],
   "source": [
    "budget_borehole = BUDGET / NUM_BOREHOLS # бюджет на одну скважину\n",
    "budget_borehole"
   ]
  },
  {
   "cell_type": "markdown",
   "metadata": {},
   "source": [
    "Одна скважина окупится, если объем запасов сырья в ней будет больше или равен отношению вложений к цене барреля. Найдем это отношение:"
   ]
  },
  {
   "cell_type": "code",
   "execution_count": 65,
   "metadata": {
    "scrolled": true
   },
   "outputs": [
    {
     "data": {
      "text/plain": [
       "111111.11111111111"
      ]
     },
     "execution_count": 65,
     "metadata": {},
     "output_type": "execute_result"
    }
   ],
   "source": [
    "reserve = budget_borehole / PRICE_BARREL\n",
    "reserve"
   ]
  },
  {
   "cell_type": "markdown",
   "metadata": {},
   "source": [
    "Или в переводе к тысячам баррелей:"
   ]
  },
  {
   "cell_type": "code",
   "execution_count": 66,
   "metadata": {
    "scrolled": true
   },
   "outputs": [
    {
     "data": {
      "text/plain": [
       "111.11111111111111"
      ]
     },
     "execution_count": 66,
     "metadata": {},
     "output_type": "execute_result"
    }
   ],
   "source": [
    "reserve = budget_borehole / (PRICE_BARREL * 1000)\n",
    "reserve"
   ]
  },
  {
   "cell_type": "markdown",
   "metadata": {},
   "source": [
    "Сравним полученный объём сырья со средним запасом в каждом регионе:\n",
    "1 регоин - 92 тыс. баррелей, 2 регион - 69 тыс. баррелей, 3 регион - 95 тыс. баррелей.\n",
    "Все средние предсказанные значения ниже объёма сырья, достаточного для безубыточной разработки новой скважины. То есть на данный момент можно судить об убыточности скважин регионов.\n",
    "Но стоит отметить, что это усредненные показатели и для разработки по условию задачи из 500 скважин выбираются 200 лучших."
   ]
  },
  {
   "cell_type": "markdown",
   "metadata": {},
   "source": [
    "### Промежуточные выводы по 3 этапу:"
   ]
  },
  {
   "cell_type": "markdown",
   "metadata": {},
   "source": [
    "В ходе 3 этапа выполнены следующие задачи:\n",
    "- введены необходимые переменные для расчета в соответствии с исходными данными;\n",
    "- рассчитан достаточный объёма сырья для безубыточной разработки новой скважины: 111 тыс бареллей, что больше предсказанных средних значений запаса сырья на скважину по всем трем регионам. В то же время планируется выбор только 200 лучших скважин, в связи с чем результаты еще могут сильно отличаться от среднего предсказанного на данный момент."
   ]
  },
  {
   "cell_type": "markdown",
   "metadata": {},
   "source": [
    "## Функция для расчёта прибыли "
   ]
  },
  {
   "cell_type": "markdown",
   "metadata": {},
   "source": [
    "Напишем функцию для расчёта прибыли по выбранным скважинам и предсказаниям модели:"
   ]
  },
  {
   "cell_type": "markdown",
   "metadata": {},
   "source": [
    "### Выбор скважин с максимальными значениями предсказаний"
   ]
  },
  {
   "cell_type": "code",
   "execution_count": 67,
   "metadata": {},
   "outputs": [],
   "source": [
    "#выбор 200 скважин с наибольшим запасом сырья\n",
    "\n",
    "filter_pred_0 = predictions_valid_0.sort_values(ascending=False)[0:200] \n",
    "filter_pred_1 = predictions_valid_1.sort_values(ascending=False)[0:200] \n",
    "filter_pred_2 = predictions_valid_2.sort_values(ascending=False)[0:200] "
   ]
  },
  {
   "cell_type": "markdown",
   "metadata": {},
   "source": [
    "### Cуммирование целевых значений объёма сырья, соответствующих отфильтрованным предсказаниям"
   ]
  },
  {
   "cell_type": "code",
   "execution_count": 68,
   "metadata": {
    "scrolled": true
   },
   "outputs": [],
   "source": [
    "# суммируем целевой признак по индексам отфильтрованных предсказанных значений\n",
    "\n",
    "target_sum_0 = target_valid_0[filter_pred_0.index].sum()\n",
    "target_sum_1 = target_valid_1[filter_pred_1.index].sum()\n",
    "target_sum_2 = target_valid_2[filter_pred_2.index].sum()"
   ]
  },
  {
   "cell_type": "markdown",
   "metadata": {},
   "source": [
    "### Расчет прибыли для полученного объёма сырья"
   ]
  },
  {
   "cell_type": "markdown",
   "metadata": {},
   "source": [
    "Здесь и далее под прибылью будем считать разность выручки и вложений на разработку.\n",
    "\n",
    "\n",
    "Умножим полученный суммарный запас на стоимость тысячи баррелей и вычтем бюджет:"
   ]
  },
  {
   "cell_type": "code",
   "execution_count": 69,
   "metadata": {},
   "outputs": [],
   "source": [
    "revenue_0 = target_sum_0 * PRICE_BARREL * 1000 - BUDGET\n",
    "revenue_1 = target_sum_1 * PRICE_BARREL * 1000 - BUDGET\n",
    "revenue_2 = target_sum_2 * PRICE_BARREL * 1000 - BUDGET"
   ]
  },
  {
   "cell_type": "code",
   "execution_count": 70,
   "metadata": {},
   "outputs": [
    {
     "data": {
      "text/plain": [
       "(3136026056.655861, 2415086696.681513, 2465945792.0122643)"
      ]
     },
     "execution_count": 70,
     "metadata": {},
     "output_type": "execute_result"
    }
   ],
   "source": [
    "revenue_0, revenue_1, revenue_2"
   ]
  },
  {
   "cell_type": "markdown",
   "metadata": {},
   "source": [
    "Функция будет иметь вид (без локальных переменных):"
   ]
  },
  {
   "cell_type": "code",
   "execution_count": 71,
   "metadata": {},
   "outputs": [],
   "source": [
    "def revenue(predictions, target):\n",
    "    \n",
    "    '''''predictions - предсказания модели\n",
    "         target      - значения целевого признака'''''\n",
    "    \n",
    "    # 4.1  Выбор скважин с максимальными значениями предсказаний\n",
    "    filter_pred = predictions.sort_values(ascending=False)[:NUM_BOREHOLS]\n",
    "    # 4.2  Cуммирование целевых значений объёма сырья, соответствующих отфильтрованным предсказаниям\n",
    "    target_sum = target[filter_pred.index].sum()\n",
    "    # 4.3  Расчет прибыли для полученного объёма сырья\n",
    "    profit = target_sum * PRICE_BARREL * 1000 - BUDGET\n",
    "    \n",
    "    return profit"
   ]
  },
  {
   "cell_type": "code",
   "execution_count": 72,
   "metadata": {},
   "outputs": [
    {
     "data": {
      "text/plain": [
       "3136026056.655861"
      ]
     },
     "execution_count": 72,
     "metadata": {},
     "output_type": "execute_result"
    }
   ],
   "source": [
    "revenue(predictions_valid_0, target_valid_0) #Расчет прибыли для полученного объёма сырья в 1 регионе"
   ]
  },
  {
   "cell_type": "code",
   "execution_count": 73,
   "metadata": {},
   "outputs": [
    {
     "data": {
      "text/plain": [
       "2415086696.681513"
      ]
     },
     "execution_count": 73,
     "metadata": {},
     "output_type": "execute_result"
    }
   ],
   "source": [
    "revenue(predictions_valid_1, target_valid_1) #Расчет прибыли для полученного объёма сырья во 2 регионе"
   ]
  },
  {
   "cell_type": "code",
   "execution_count": 74,
   "metadata": {
    "scrolled": false
   },
   "outputs": [
    {
     "data": {
      "text/plain": [
       "2465945792.0122643"
      ]
     },
     "execution_count": 74,
     "metadata": {},
     "output_type": "execute_result"
    }
   ],
   "source": [
    "revenue(predictions_valid_2, target_valid_2) #Расчет прибыли для полученного объёма сырья в 3 регионе"
   ]
  },
  {
   "cell_type": "markdown",
   "metadata": {},
   "source": [
    "### Промежуточные выводы по 4 этапу:"
   ]
  },
  {
   "cell_type": "markdown",
   "metadata": {},
   "source": [
    "В ходе 4 этапа выполнены следующие задачи:\n",
    "- выбраны 200 скважин в каждом из регионов с наилучшим предсказанным показателем запасом сырья;\n",
    "- просуммирован целевой показатель объектов, соответствующих лучшим предсказанным показателям запасов сырья;\n",
    "- написана функция расчета прибыли revenue;\n",
    "- рассчитана прибыль для полученного объёма сырья по каждому региону:\n",
    "1 регион - 3,136 млрд руб, 2 регион - 2,415 млрд руб, 3 регион - 2,466 млрд руб."
   ]
  },
  {
   "cell_type": "markdown",
   "metadata": {},
   "source": [
    "## Расчёт прибыли и рисков для каждого региона"
   ]
  },
  {
   "cell_type": "markdown",
   "metadata": {},
   "source": [
    "### Найдем распределение прибыли с помощью техники Bootstrep с 1000 выборками"
   ]
  },
  {
   "cell_type": "markdown",
   "metadata": {},
   "source": [
    "Напишем функцию для получения распределений прибыли:"
   ]
  },
  {
   "cell_type": "code",
   "execution_count": 75,
   "metadata": {},
   "outputs": [],
   "source": [
    "def bootstrep_1000(predictions,target):\n",
    "    \n",
    "    state = np.random.RandomState(12345)\n",
    "    values = []\n",
    "\n",
    "    for i in range(1000):\n",
    "    \n",
    "        target_subsample = target.sample(\n",
    "            n=500, replace=True, random_state=state)\n",
    "        predict_subsample = predictions[target_subsample.index]\n",
    "        values.append(revenue(predict_subsample,target_subsample))\n",
    "    \n",
    "    return pd.Series(values)"
   ]
  },
  {
   "cell_type": "markdown",
   "metadata": {},
   "source": [
    "Распределения прибыли для регионов:"
   ]
  },
  {
   "cell_type": "code",
   "execution_count": 77,
   "metadata": {
    "scrolled": true
   },
   "outputs": [
    {
     "data": {
      "text/plain": [
       "'Регион_1'"
      ]
     },
     "metadata": {},
     "output_type": "display_data"
    },
    {
     "data": {
      "text/plain": [
       "0      4.809266e+08\n",
       "1      3.680181e+08\n",
       "2      4.660728e+08\n",
       "3      6.260369e+08\n",
       "4      6.721933e+08\n",
       "           ...     \n",
       "995    6.055913e+08\n",
       "996    8.677808e+08\n",
       "997    1.077275e+09\n",
       "998    6.608107e+08\n",
       "999    1.331672e+08\n",
       "Length: 1000, dtype: float64"
      ]
     },
     "metadata": {},
     "output_type": "display_data"
    },
    {
     "data": {
      "text/plain": [
       "'Регион_2'"
      ]
     },
     "metadata": {},
     "output_type": "display_data"
    },
    {
     "data": {
      "text/plain": [
       "0      1.174760e+09\n",
       "1      9.907105e+08\n",
       "2      7.345716e+08\n",
       "3      3.172107e+08\n",
       "4      4.727103e+08\n",
       "           ...     \n",
       "995    5.341015e+08\n",
       "996    7.944700e+08\n",
       "997    8.607751e+08\n",
       "998    5.418765e+08\n",
       "999    6.083059e+08\n",
       "Length: 1000, dtype: float64"
      ]
     },
     "metadata": {},
     "output_type": "display_data"
    },
    {
     "data": {
      "text/plain": [
       "'Регион_3'"
      ]
     },
     "metadata": {},
     "output_type": "display_data"
    },
    {
     "data": {
      "text/plain": [
       "0      3.646140e+08\n",
       "1      9.103822e+08\n",
       "2      2.105464e+08\n",
       "3      1.101617e+09\n",
       "4      6.812452e+08\n",
       "           ...     \n",
       "995    3.918546e+08\n",
       "996    6.166440e+08\n",
       "997   -8.576603e+06\n",
       "998    4.028616e+08\n",
       "999    8.736780e+08\n",
       "Length: 1000, dtype: float64"
      ]
     },
     "execution_count": 77,
     "metadata": {},
     "output_type": "execute_result"
    }
   ],
   "source": [
    "distrib_revenue_0 = bootstrep_1000(predictions_valid_0, target_valid_0)\n",
    "distrib_revenue_1 = bootstrep_1000(predictions_valid_1, target_valid_1)\n",
    "distrib_revenue_2 = bootstrep_1000(predictions_valid_2, target_valid_2)\n",
    "\n",
    "display('Регион_1')\n",
    "display(distrib_revenue_0)\n",
    "display('Регион_2')\n",
    "display(distrib_revenue_1)\n",
    "display('Регион_3')\n",
    "distrib_revenue_2"
   ]
  },
  {
   "cell_type": "markdown",
   "metadata": {},
   "source": [
    "### Найдем среднюю прибыль, 95%-й доверительный интервал и риск убытков"
   ]
  },
  {
   "cell_type": "markdown",
   "metadata": {},
   "source": [
    "Средняя прибыль:"
   ]
  },
  {
   "cell_type": "code",
   "execution_count": 78,
   "metadata": {},
   "outputs": [
    {
     "data": {
      "text/plain": [
       "'Регион_1'"
      ]
     },
     "metadata": {},
     "output_type": "display_data"
    },
    {
     "data": {
      "text/plain": [
       "632921098.4851676"
      ]
     },
     "metadata": {},
     "output_type": "display_data"
    },
    {
     "data": {
      "text/plain": [
       "'Регион_2'"
      ]
     },
     "metadata": {},
     "output_type": "display_data"
    },
    {
     "data": {
      "text/plain": [
       "683650778.237223"
      ]
     },
     "metadata": {},
     "output_type": "display_data"
    },
    {
     "data": {
      "text/plain": [
       "'Регион_3'"
      ]
     },
     "metadata": {},
     "output_type": "display_data"
    },
    {
     "data": {
      "text/plain": [
       "529036466.741624"
      ]
     },
     "execution_count": 78,
     "metadata": {},
     "output_type": "execute_result"
    }
   ],
   "source": [
    "# Регион_1\n",
    "display('Регион_1')\n",
    "display(distrib_revenue_0.mean())\n",
    "\n",
    "# Регион_2\n",
    "display('Регион_2')\n",
    "display(distrib_revenue_1.mean())\n",
    "\n",
    "# Регион_3\n",
    "display('Регион_3')\n",
    "distrib_revenue_2.mean()"
   ]
  },
  {
   "cell_type": "markdown",
   "metadata": {},
   "source": [
    "95%-й доверительный интервал:"
   ]
  },
  {
   "cell_type": "code",
   "execution_count": 79,
   "metadata": {
    "scrolled": true
   },
   "outputs": [
    {
     "data": {
      "text/plain": [
       "'Регион_1'"
      ]
     },
     "metadata": {},
     "output_type": "display_data"
    },
    {
     "data": {
      "text/plain": [
       "54999819.21786862"
      ]
     },
     "metadata": {},
     "output_type": "display_data"
    },
    {
     "data": {
      "text/plain": [
       "1284909854.6222572"
      ]
     },
     "metadata": {},
     "output_type": "display_data"
    },
    {
     "data": {
      "text/plain": [
       "'Регион_2'"
      ]
     },
     "metadata": {},
     "output_type": "display_data"
    },
    {
     "data": {
      "text/plain": [
       "176104182.72476843"
      ]
     },
     "metadata": {},
     "output_type": "display_data"
    },
    {
     "data": {
      "text/plain": [
       "1200084485.9101088"
      ]
     },
     "metadata": {},
     "output_type": "display_data"
    },
    {
     "data": {
      "text/plain": [
       "'Регион_3'"
      ]
     },
     "metadata": {},
     "output_type": "display_data"
    },
    {
     "data": {
      "text/plain": [
       "-63569130.93939247"
      ]
     },
     "metadata": {},
     "output_type": "display_data"
    },
    {
     "data": {
      "text/plain": [
       "1164473364.1825826"
      ]
     },
     "metadata": {},
     "output_type": "display_data"
    }
   ],
   "source": [
    "# Регион_1\n",
    "lower = distrib_revenue_0.quantile(q=.025)\n",
    "upper = distrib_revenue_0.quantile(q=.975)\n",
    "display('Регион_1',lower, upper)\n",
    "\n",
    "# Регион_2\n",
    "lower = distrib_revenue_1.quantile(q=.025)\n",
    "upper = distrib_revenue_1.quantile(q=.975)\n",
    "display('Регион_2',lower, upper)\n",
    "\n",
    "# Регион_3\n",
    "lower = distrib_revenue_2.quantile(q=.025)\n",
    "upper = distrib_revenue_2.quantile(q=.975)\n",
    "display('Регион_3',lower, upper)"
   ]
  },
  {
   "cell_type": "markdown",
   "metadata": {},
   "source": [
    "Риск убытков:"
   ]
  },
  {
   "cell_type": "markdown",
   "metadata": {},
   "source": [
    "Риск убытков считаем как вероятность получить убыток или отрицательный результат на выборке в 1000 значений из бутстрепа, умноженную на проценты:"
   ]
  },
  {
   "cell_type": "code",
   "execution_count": 80,
   "metadata": {},
   "outputs": [
    {
     "data": {
      "text/plain": [
       "2.0"
      ]
     },
     "execution_count": 80,
     "metadata": {},
     "output_type": "execute_result"
    }
   ],
   "source": [
    "# Риск для региона_1\n",
    "distrib_revenue_0[distrib_revenue_0 < 0].count() * 100 / 1000"
   ]
  },
  {
   "cell_type": "code",
   "execution_count": 81,
   "metadata": {},
   "outputs": [
    {
     "data": {
      "text/plain": [
       "0.7"
      ]
     },
     "execution_count": 81,
     "metadata": {},
     "output_type": "execute_result"
    }
   ],
   "source": [
    "# Риск для региона_2\n",
    "distrib_revenue_1[distrib_revenue_1 < 0].count() * 100 / 1000"
   ]
  },
  {
   "cell_type": "code",
   "execution_count": 82,
   "metadata": {},
   "outputs": [
    {
     "data": {
      "text/plain": [
       "4.4"
      ]
     },
     "execution_count": 82,
     "metadata": {},
     "output_type": "execute_result"
    }
   ],
   "source": [
    "# Риск для региона_3\n",
    "distrib_revenue_2[distrib_revenue_2 < 0].count() * 100/ 1000"
   ]
  },
  {
   "cell_type": "markdown",
   "metadata": {},
   "source": [
    "По условию проекта после оценки рисков нужно оставить лишь те регионы, в которых вероятность убытков меньше 2.5%. Среди них выбирают регион с наибольшей средней прибылью.\n",
    "\n",
    "Таким образом, регионы с риском менее 2.5 % - регион_1 (2 %) и регион_2 (0.7 %).\n",
    "Из них большая средняя прибыль соответствует региону_2: 6.836 млрд руб. Выбираем регион_2."
   ]
  },
  {
   "cell_type": "markdown",
   "metadata": {},
   "source": [
    "###  Промежуточные выводы по 5 этапу"
   ]
  },
  {
   "cell_type": "markdown",
   "metadata": {},
   "source": [
    " В ходе 5 этапа выполнены следующие задачи:\n",
    " \n",
    "- применена техника Bootstrap с 1000 выбороками, чтобы найти распределение прибыли для каждого из регионов, при этом из валидационной выборки, которая в данном случае является тестовой выборкой (гиперпараметры модели не настраивали), формировали случайную выборку 500 значений из которых выбирали 200 лучших;\n",
    "- с использованием полученных распределений прибыли найдены:\n",
    "\n",
    "    средняя прибыль: 'Регион_1' - 6.329 млрд руб, 'Регион_2' - 6.836 млрд руб, 'Регион_3' - 5.290 млрд руб.;\n",
    "\n",
    "    95%-й доверительный интервал: 'Регион_1' - (54.999.819, 1.284.909.854), 'Регион_2' - (176.104.182, 1.200.084.485), 'Регион_3' - (-63.569.130, 1.164.473.364);\n",
    "\n",
    "    риск убытков: 'Регион_1' - 2 %, 'Регион_2' - 0.7 %, 'Регион_3' - 4.4 %;\n",
    "\n",
    "\n",
    "- предложен регион для разработки скважин - это регион_2; выбор сделан с учетом требований: риск убытков менее 2.5 % и максимальная средняя прибыль (683.650.778 руб). "
   ]
  },
  {
   "cell_type": "markdown",
   "metadata": {},
   "source": [
    "## Общий вывод по проекту"
   ]
  },
  {
   "cell_type": "markdown",
   "metadata": {},
   "source": [
    "**Целью настоящего проекта** являлся выбор локации для скважины с допустимым риском убытков (менее 2.5 %) и максимальной возможной средней прибылью.\n",
    "\n",
    "**Для этого на первом этапе проведена загрузка и подготовка данных:**\n",
    "- по условию даны 3 датасета размером в 100000 объектов с 5 признаками, один из которых оказался неиформативным (идентификатор скважины). Целевой признак - product (объём запасов в скважине, тыс. баррелей),\n",
    "- подготовлены данные: найдены и удалены дубликаты (10, 4 и 4 дубликата - в 1, 2 и 3 датасетах соответственно), удален неинформативный признак id скважины, проверено наличие пропусков - пропусков не найдено, нецелевые признаки проверены на мультиколлинеарность - коэффициентов со значением 0.6 и более не обнаружено, данные датасетов разделены по целевому и нецелевому признакам.\n",
    "\n",
    "**На втором этапе обучена и проверена модель линейной регрессии:**\n",
    "- каждый из 3х обработанных датасетов разделен на обучающую и валидационную выборки в соотношщении 3:1;\n",
    "- проведено масштабирование нецелевых признаков;\n",
    "- обучена модель линейной регрессии на каждой из 3х полученных обучающих выборках;\n",
    "- получены предсказания объема запасов сырья в скважинах по каждому региону;\n",
    "- рассчитан средний запас сырья предсказанного сырья по регионам и метрика RMSE моделей: наибольший средний запас сырья находится в 3 регионе: 95 тыс баррелей на скважину. Меньше всего средний запас во 2 регионе. В то же время, качество предсказания модели для 2 региона наилучшее, что скорее всего обусловлено ограниченным числом значений целевого признака по сравнению с другими регионами.\n",
    "\n",
    "**На третьем этапе проведена подготовка к расчету прибыли:**\n",
    "- введены необходимые переменные для расчета в соответствии с исходными данными;\n",
    "- рассчитан достаточный объёма сырья для безубыточной разработки новой скважины: 111 тыс бареллей, что больше предсказанных средних значений запаса сырья на скважину по всем трем регионам.\n",
    "\n",
    "**На четвертом этапе:**\n",
    "- выбраны 200 скважин в каждом из регионов с наилучшим предсказанным показателем запасом сырья;\n",
    "- просуммирован целевой показатель объектов, соответствующих лучшим предсказанным показателям запасов сырья;\n",
    "- написана функция расчета прибыли;\n",
    "- рассчитана прибыль для полученного объёма сырья по каждому региону: 1 регион - 3,136 млрд руб, 2 регион - 2,415 млрд руб, 3 регион - 2,466 млрд руб.\n",
    "\n",
    "**На пятом этапе проведен расчёт прибыли и рисков для каждого региона:**\n",
    "- применена техника Bootstrap для получения распределений прибыли регионов,\n",
    "- на основе распределений прибыли регионов рассчитаны: средняя прибыль: 'Регион_1' - 6.329 млрд руб, 'Регион_2' - 6.836 млрд руб, 'Регион_3' - 5.290 млрд руб.; 95%-й доверительный интервал: 'Регион_1' - (54.999.819, 1.284.909.854), 'Регион_2' - (176.104.182, 1.200.084.485), 'Регион_3' - (-63.569.130, 1.164.473.364); риск убытков: 'Регион_1' - 2 %, 'Регион_2' - 0.7 %, 'Регион_3' - 4.4 %.\n",
    "\n",
    "По итогам расчетов для разработки скважин предложен регион_2; выбор сделан с учетом требований: риск убытков менее 2.5 % (0.7 %) и максимальная средняя прибыль (683.650.778 руб). \n",
    "    \n",
    "   Проект наглядно демонстрирует, что несмотря на низкий предсказанный средний запас сырья по всем скважинам из валидационной выборки (при котором скважина не окупается), использование техники Bootstrap позволяет на основе расчета среднего от прибыли по случайно генерируемым выборкам из общей валидационной выборки оценить по имеющимся данным среднюю прибыль от ограниченного числа потенциальных разрабатываемых скважин, рассчитать доверительный интервал для полученных значений прибыли и оценить риск убытков. Так, в итоге, регион_3 при наибольшем среднем запасе предсказанного сырья оказался худшим с точки зрения рисков убытков и средней прибыли."
   ]
  },
  {
   "cell_type": "markdown",
   "metadata": {},
   "source": [
    "## Вывод для начальства"
   ]
  },
  {
   "cell_type": "markdown",
   "metadata": {},
   "source": [
    "По имеющимся данным о добыче сырья в 3 регионах выбрана локация для 200 скважин с допустимым риском убытков (менее 2.5 %) и максимальной возможной средней прибылью.\n",
    "Подходящим для добычи является регион_2, средняя прибыль по которому составляет 683.650.778 руб. С 95 % вероятностью значение прибыли будет в интервале от 176.104.182 до 1.200.084.485 руб. Риск убытков составляет 0.7 %."
   ]
  }
 ],
 "metadata": {
  "ExecuteTimeLog": [
   {
    "duration": 1749,
    "start_time": "2023-02-19T11:19:30.609Z"
   },
   {
    "duration": 1841,
    "start_time": "2023-02-19T11:21:50.155Z"
   },
   {
    "duration": 6,
    "start_time": "2023-02-19T11:23:05.562Z"
   },
   {
    "duration": 3,
    "start_time": "2023-02-19T11:23:23.529Z"
   },
   {
    "duration": 17,
    "start_time": "2023-02-19T11:23:42.968Z"
   },
   {
    "duration": 1499,
    "start_time": "2023-02-22T14:10:57.338Z"
   },
   {
    "duration": 115,
    "start_time": "2023-02-22T14:10:58.839Z"
   },
   {
    "duration": 0,
    "start_time": "2023-02-22T14:10:58.958Z"
   },
   {
    "duration": 0,
    "start_time": "2023-02-22T14:10:58.959Z"
   },
   {
    "duration": 0,
    "start_time": "2023-02-22T14:10:58.960Z"
   },
   {
    "duration": 0,
    "start_time": "2023-02-22T14:10:58.961Z"
   },
   {
    "duration": 0,
    "start_time": "2023-02-22T14:10:58.962Z"
   },
   {
    "duration": 0,
    "start_time": "2023-02-22T14:10:58.963Z"
   },
   {
    "duration": 0,
    "start_time": "2023-02-22T14:10:58.964Z"
   },
   {
    "duration": 0,
    "start_time": "2023-02-22T14:10:58.965Z"
   },
   {
    "duration": 0,
    "start_time": "2023-02-22T14:10:58.967Z"
   },
   {
    "duration": 0,
    "start_time": "2023-02-22T14:10:58.968Z"
   },
   {
    "duration": 0,
    "start_time": "2023-02-22T14:10:58.969Z"
   },
   {
    "duration": 0,
    "start_time": "2023-02-22T14:10:58.970Z"
   },
   {
    "duration": 0,
    "start_time": "2023-02-22T14:10:58.971Z"
   },
   {
    "duration": 0,
    "start_time": "2023-02-22T14:10:58.972Z"
   },
   {
    "duration": 0,
    "start_time": "2023-02-22T14:10:58.973Z"
   },
   {
    "duration": 0,
    "start_time": "2023-02-22T14:10:59.004Z"
   },
   {
    "duration": 0,
    "start_time": "2023-02-22T14:10:59.005Z"
   },
   {
    "duration": 0,
    "start_time": "2023-02-22T14:10:59.006Z"
   },
   {
    "duration": 0,
    "start_time": "2023-02-22T14:10:59.008Z"
   },
   {
    "duration": 0,
    "start_time": "2023-02-22T14:10:59.009Z"
   },
   {
    "duration": 0,
    "start_time": "2023-02-22T14:10:59.010Z"
   },
   {
    "duration": 0,
    "start_time": "2023-02-22T14:10:59.011Z"
   },
   {
    "duration": 0,
    "start_time": "2023-02-22T14:10:59.012Z"
   },
   {
    "duration": 0,
    "start_time": "2023-02-22T14:10:59.013Z"
   },
   {
    "duration": 0,
    "start_time": "2023-02-22T14:10:59.015Z"
   },
   {
    "duration": 0,
    "start_time": "2023-02-22T14:10:59.015Z"
   },
   {
    "duration": 0,
    "start_time": "2023-02-22T14:10:59.016Z"
   },
   {
    "duration": 0,
    "start_time": "2023-02-22T14:10:59.018Z"
   },
   {
    "duration": 0,
    "start_time": "2023-02-22T14:10:59.019Z"
   },
   {
    "duration": 0,
    "start_time": "2023-02-22T14:10:59.020Z"
   },
   {
    "duration": 0,
    "start_time": "2023-02-22T14:10:59.021Z"
   },
   {
    "duration": 0,
    "start_time": "2023-02-22T14:10:59.022Z"
   },
   {
    "duration": 0,
    "start_time": "2023-02-22T14:10:59.023Z"
   },
   {
    "duration": 0,
    "start_time": "2023-02-22T14:10:59.024Z"
   },
   {
    "duration": 0,
    "start_time": "2023-02-22T14:10:59.025Z"
   },
   {
    "duration": 0,
    "start_time": "2023-02-22T14:10:59.026Z"
   },
   {
    "duration": 0,
    "start_time": "2023-02-22T14:10:59.027Z"
   },
   {
    "duration": 0,
    "start_time": "2023-02-22T14:10:59.029Z"
   },
   {
    "duration": 0,
    "start_time": "2023-02-22T14:10:59.030Z"
   },
   {
    "duration": 0,
    "start_time": "2023-02-22T14:10:59.031Z"
   },
   {
    "duration": 0,
    "start_time": "2023-02-22T14:10:59.032Z"
   },
   {
    "duration": 0,
    "start_time": "2023-02-22T14:10:59.033Z"
   },
   {
    "duration": 0,
    "start_time": "2023-02-22T14:10:59.035Z"
   },
   {
    "duration": 0,
    "start_time": "2023-02-22T14:10:59.036Z"
   },
   {
    "duration": 0,
    "start_time": "2023-02-22T14:10:59.037Z"
   },
   {
    "duration": 0,
    "start_time": "2023-02-22T14:10:59.039Z"
   },
   {
    "duration": 0,
    "start_time": "2023-02-22T14:10:59.040Z"
   },
   {
    "duration": 0,
    "start_time": "2023-02-22T14:10:59.104Z"
   },
   {
    "duration": 0,
    "start_time": "2023-02-22T14:10:59.106Z"
   },
   {
    "duration": 0,
    "start_time": "2023-02-22T14:10:59.107Z"
   },
   {
    "duration": 0,
    "start_time": "2023-02-22T14:10:59.109Z"
   },
   {
    "duration": 0,
    "start_time": "2023-02-22T14:10:59.110Z"
   },
   {
    "duration": 1,
    "start_time": "2023-02-22T14:10:59.111Z"
   },
   {
    "duration": 0,
    "start_time": "2023-02-22T14:10:59.112Z"
   },
   {
    "duration": 0,
    "start_time": "2023-02-22T14:10:59.114Z"
   },
   {
    "duration": 0,
    "start_time": "2023-02-22T14:10:59.115Z"
   },
   {
    "duration": 0,
    "start_time": "2023-02-22T14:10:59.116Z"
   },
   {
    "duration": 0,
    "start_time": "2023-02-22T14:10:59.117Z"
   },
   {
    "duration": 0,
    "start_time": "2023-02-22T14:10:59.118Z"
   },
   {
    "duration": 0,
    "start_time": "2023-02-22T14:10:59.119Z"
   },
   {
    "duration": 0,
    "start_time": "2023-02-22T14:10:59.121Z"
   },
   {
    "duration": 0,
    "start_time": "2023-02-22T14:10:59.122Z"
   },
   {
    "duration": 0,
    "start_time": "2023-02-22T14:10:59.123Z"
   },
   {
    "duration": 0,
    "start_time": "2023-02-22T14:10:59.125Z"
   },
   {
    "duration": 0,
    "start_time": "2023-02-22T14:10:59.126Z"
   },
   {
    "duration": 0,
    "start_time": "2023-02-22T14:10:59.128Z"
   },
   {
    "duration": 0,
    "start_time": "2023-02-22T14:10:59.130Z"
   },
   {
    "duration": 0,
    "start_time": "2023-02-22T14:10:59.131Z"
   },
   {
    "duration": 0,
    "start_time": "2023-02-22T14:10:59.132Z"
   },
   {
    "duration": 0,
    "start_time": "2023-02-22T14:10:59.133Z"
   },
   {
    "duration": 0,
    "start_time": "2023-02-22T14:10:59.135Z"
   },
   {
    "duration": 0,
    "start_time": "2023-02-22T14:10:59.136Z"
   },
   {
    "duration": 0,
    "start_time": "2023-02-22T14:10:59.138Z"
   },
   {
    "duration": 0,
    "start_time": "2023-02-22T14:10:59.139Z"
   },
   {
    "duration": 0,
    "start_time": "2023-02-22T14:10:59.204Z"
   },
   {
    "duration": 0,
    "start_time": "2023-02-22T14:10:59.205Z"
   },
   {
    "duration": 1461,
    "start_time": "2023-02-22T14:12:00.691Z"
   },
   {
    "duration": 3,
    "start_time": "2023-02-22T14:12:04.543Z"
   },
   {
    "duration": 366,
    "start_time": "2023-02-22T14:12:04.548Z"
   },
   {
    "duration": 5,
    "start_time": "2023-02-22T14:12:04.916Z"
   },
   {
    "duration": 17,
    "start_time": "2023-02-22T14:12:04.923Z"
   },
   {
    "duration": 11,
    "start_time": "2023-02-22T14:12:04.942Z"
   },
   {
    "duration": 55,
    "start_time": "2023-02-22T14:12:04.954Z"
   },
   {
    "duration": 14,
    "start_time": "2023-02-22T14:12:05.011Z"
   },
   {
    "duration": 8,
    "start_time": "2023-02-22T14:12:05.026Z"
   },
   {
    "duration": 40,
    "start_time": "2023-02-22T14:12:05.036Z"
   },
   {
    "duration": 44,
    "start_time": "2023-02-22T14:12:05.077Z"
   },
   {
    "duration": 9,
    "start_time": "2023-02-22T14:12:05.123Z"
   },
   {
    "duration": 58,
    "start_time": "2023-02-22T14:12:05.133Z"
   },
   {
    "duration": 22,
    "start_time": "2023-02-22T14:12:05.193Z"
   },
   {
    "duration": 21,
    "start_time": "2023-02-22T14:12:05.219Z"
   },
   {
    "duration": 23,
    "start_time": "2023-02-22T14:12:05.242Z"
   },
   {
    "duration": 62,
    "start_time": "2023-02-22T14:12:05.267Z"
   },
   {
    "duration": 16,
    "start_time": "2023-02-22T14:12:05.331Z"
   },
   {
    "duration": 20,
    "start_time": "2023-02-22T14:12:05.348Z"
   },
   {
    "duration": 54,
    "start_time": "2023-02-22T14:12:05.370Z"
   },
   {
    "duration": 15,
    "start_time": "2023-02-22T14:12:05.425Z"
   },
   {
    "duration": 17,
    "start_time": "2023-02-22T14:12:05.442Z"
   },
   {
    "duration": 50,
    "start_time": "2023-02-22T14:12:05.460Z"
   },
   {
    "duration": 14,
    "start_time": "2023-02-22T14:12:05.511Z"
   },
   {
    "duration": 16,
    "start_time": "2023-02-22T14:12:05.527Z"
   },
   {
    "duration": 63,
    "start_time": "2023-02-22T14:12:05.545Z"
   },
   {
    "duration": 39,
    "start_time": "2023-02-22T14:12:05.610Z"
   },
   {
    "duration": 62,
    "start_time": "2023-02-22T14:12:05.650Z"
   },
   {
    "duration": 21,
    "start_time": "2023-02-22T14:12:05.714Z"
   },
   {
    "duration": 22,
    "start_time": "2023-02-22T14:12:05.737Z"
   },
   {
    "duration": 45,
    "start_time": "2023-02-22T14:12:05.761Z"
   },
   {
    "duration": 6,
    "start_time": "2023-02-22T14:12:05.808Z"
   },
   {
    "duration": 10,
    "start_time": "2023-02-22T14:12:05.816Z"
   },
   {
    "duration": 10,
    "start_time": "2023-02-22T14:12:05.827Z"
   },
   {
    "duration": 15,
    "start_time": "2023-02-22T14:12:05.838Z"
   },
   {
    "duration": 11,
    "start_time": "2023-02-22T14:12:05.855Z"
   },
   {
    "duration": 5,
    "start_time": "2023-02-22T14:12:05.868Z"
   },
   {
    "duration": 401,
    "start_time": "2023-02-22T14:12:05.875Z"
   },
   {
    "duration": 341,
    "start_time": "2023-02-22T14:12:06.277Z"
   },
   {
    "duration": 376,
    "start_time": "2023-02-22T14:12:06.620Z"
   },
   {
    "duration": 6,
    "start_time": "2023-02-22T14:12:06.998Z"
   },
   {
    "duration": 8,
    "start_time": "2023-02-22T14:12:07.008Z"
   },
   {
    "duration": 17,
    "start_time": "2023-02-22T14:12:07.018Z"
   },
   {
    "duration": 34,
    "start_time": "2023-02-22T14:12:07.037Z"
   },
   {
    "duration": 12,
    "start_time": "2023-02-22T14:12:07.073Z"
   },
   {
    "duration": 37,
    "start_time": "2023-02-22T14:12:07.088Z"
   },
   {
    "duration": 30,
    "start_time": "2023-02-22T14:12:07.126Z"
   },
   {
    "duration": 4,
    "start_time": "2023-02-22T14:12:07.157Z"
   },
   {
    "duration": 46,
    "start_time": "2023-02-22T14:12:07.164Z"
   },
   {
    "duration": 13,
    "start_time": "2023-02-22T14:12:07.212Z"
   },
   {
    "duration": 10,
    "start_time": "2023-02-22T14:12:07.227Z"
   },
   {
    "duration": 6,
    "start_time": "2023-02-22T14:12:07.238Z"
   },
   {
    "duration": 8,
    "start_time": "2023-02-22T14:12:07.245Z"
   },
   {
    "duration": 7,
    "start_time": "2023-02-22T14:12:07.254Z"
   },
   {
    "duration": 144,
    "start_time": "2023-02-22T14:12:07.263Z"
   },
   {
    "duration": 195,
    "start_time": "2023-02-22T14:12:07.409Z"
   },
   {
    "duration": 117,
    "start_time": "2023-02-22T14:12:07.608Z"
   },
   {
    "duration": 10,
    "start_time": "2023-02-22T14:12:07.726Z"
   },
   {
    "duration": 5,
    "start_time": "2023-02-22T14:12:07.738Z"
   },
   {
    "duration": 11,
    "start_time": "2023-02-22T14:12:07.745Z"
   },
   {
    "duration": 3,
    "start_time": "2023-02-22T14:12:07.758Z"
   },
   {
    "duration": 4,
    "start_time": "2023-02-22T14:12:07.804Z"
   },
   {
    "duration": 11,
    "start_time": "2023-02-22T14:12:07.809Z"
   },
   {
    "duration": 7,
    "start_time": "2023-02-22T14:12:07.821Z"
   },
   {
    "duration": 17,
    "start_time": "2023-02-22T14:12:07.830Z"
   },
   {
    "duration": 5,
    "start_time": "2023-02-22T14:12:07.848Z"
   },
   {
    "duration": 8,
    "start_time": "2023-02-22T14:12:07.855Z"
   },
   {
    "duration": 12,
    "start_time": "2023-02-22T14:12:07.864Z"
   },
   {
    "duration": 6,
    "start_time": "2023-02-22T14:12:07.878Z"
   },
   {
    "duration": 7,
    "start_time": "2023-02-22T14:12:07.904Z"
   },
   {
    "duration": 7,
    "start_time": "2023-02-22T14:12:07.913Z"
   },
   {
    "duration": 10,
    "start_time": "2023-02-22T14:12:07.921Z"
   },
   {
    "duration": 5,
    "start_time": "2023-02-22T14:12:07.932Z"
   },
   {
    "duration": 3499,
    "start_time": "2023-02-22T14:12:07.938Z"
   },
   {
    "duration": 11,
    "start_time": "2023-02-22T14:12:11.438Z"
   },
   {
    "duration": 59,
    "start_time": "2023-02-22T14:12:11.450Z"
   },
   {
    "duration": 6,
    "start_time": "2023-02-22T14:12:11.511Z"
   },
   {
    "duration": 13,
    "start_time": "2023-02-22T14:12:11.519Z"
   },
   {
    "duration": 25,
    "start_time": "2023-02-22T14:12:11.534Z"
   },
   {
    "duration": 1530,
    "start_time": "2023-02-22T16:21:11.452Z"
   },
   {
    "duration": 1718,
    "start_time": "2023-02-22T16:21:12.984Z"
   },
   {
    "duration": 5,
    "start_time": "2023-02-22T16:21:14.704Z"
   },
   {
    "duration": 27,
    "start_time": "2023-02-22T16:21:14.711Z"
   },
   {
    "duration": 31,
    "start_time": "2023-02-22T16:21:14.740Z"
   },
   {
    "duration": 45,
    "start_time": "2023-02-22T16:21:14.772Z"
   },
   {
    "duration": 12,
    "start_time": "2023-02-22T16:21:14.819Z"
   },
   {
    "duration": 14,
    "start_time": "2023-02-22T16:21:14.832Z"
   },
   {
    "duration": 59,
    "start_time": "2023-02-22T16:21:14.847Z"
   },
   {
    "duration": 17,
    "start_time": "2023-02-22T16:21:14.909Z"
   },
   {
    "duration": 11,
    "start_time": "2023-02-22T16:21:14.929Z"
   },
   {
    "duration": 43,
    "start_time": "2023-02-22T16:21:14.942Z"
   },
   {
    "duration": 26,
    "start_time": "2023-02-22T16:21:14.987Z"
   },
   {
    "duration": 35,
    "start_time": "2023-02-22T16:21:15.014Z"
   },
   {
    "duration": 20,
    "start_time": "2023-02-22T16:21:15.051Z"
   },
   {
    "duration": 39,
    "start_time": "2023-02-22T16:21:15.073Z"
   },
   {
    "duration": 17,
    "start_time": "2023-02-22T16:21:15.114Z"
   },
   {
    "duration": 17,
    "start_time": "2023-02-22T16:21:15.132Z"
   },
   {
    "duration": 32,
    "start_time": "2023-02-22T16:21:15.151Z"
   },
   {
    "duration": 16,
    "start_time": "2023-02-22T16:21:15.185Z"
   },
   {
    "duration": 26,
    "start_time": "2023-02-22T16:21:15.203Z"
   },
   {
    "duration": 51,
    "start_time": "2023-02-22T16:21:15.231Z"
   },
   {
    "duration": 16,
    "start_time": "2023-02-22T16:21:15.285Z"
   },
   {
    "duration": 19,
    "start_time": "2023-02-22T16:21:15.303Z"
   },
   {
    "duration": 73,
    "start_time": "2023-02-22T16:21:15.324Z"
   },
   {
    "duration": 69,
    "start_time": "2023-02-22T16:21:15.399Z"
   },
   {
    "duration": 54,
    "start_time": "2023-02-22T16:21:15.470Z"
   },
   {
    "duration": 32,
    "start_time": "2023-02-22T16:21:15.529Z"
   },
   {
    "duration": 23,
    "start_time": "2023-02-22T16:21:15.562Z"
   },
   {
    "duration": 41,
    "start_time": "2023-02-22T16:21:15.586Z"
   },
   {
    "duration": 14,
    "start_time": "2023-02-22T16:21:15.629Z"
   },
   {
    "duration": 22,
    "start_time": "2023-02-22T16:21:15.644Z"
   },
   {
    "duration": 34,
    "start_time": "2023-02-22T16:21:15.668Z"
   },
   {
    "duration": 15,
    "start_time": "2023-02-22T16:21:15.704Z"
   },
   {
    "duration": 20,
    "start_time": "2023-02-22T16:21:15.721Z"
   },
   {
    "duration": 11,
    "start_time": "2023-02-22T16:21:15.742Z"
   },
   {
    "duration": 361,
    "start_time": "2023-02-22T16:21:15.754Z"
   },
   {
    "duration": 323,
    "start_time": "2023-02-22T16:21:16.116Z"
   },
   {
    "duration": 320,
    "start_time": "2023-02-22T16:21:16.440Z"
   },
   {
    "duration": 4,
    "start_time": "2023-02-22T16:21:16.762Z"
   },
   {
    "duration": 24,
    "start_time": "2023-02-22T16:21:16.768Z"
   },
   {
    "duration": 26,
    "start_time": "2023-02-22T16:21:16.794Z"
   },
   {
    "duration": 49,
    "start_time": "2023-02-22T16:21:16.822Z"
   },
   {
    "duration": 15,
    "start_time": "2023-02-22T16:21:16.872Z"
   },
   {
    "duration": 41,
    "start_time": "2023-02-22T16:21:16.888Z"
   },
   {
    "duration": 28,
    "start_time": "2023-02-22T16:21:16.930Z"
   },
   {
    "duration": 5,
    "start_time": "2023-02-22T16:21:16.960Z"
   },
   {
    "duration": 24,
    "start_time": "2023-02-22T16:21:16.966Z"
   },
   {
    "duration": 15,
    "start_time": "2023-02-22T16:21:16.992Z"
   },
   {
    "duration": 32,
    "start_time": "2023-02-22T16:21:17.008Z"
   },
   {
    "duration": 22,
    "start_time": "2023-02-22T16:21:17.042Z"
   },
   {
    "duration": 15,
    "start_time": "2023-02-22T16:21:17.066Z"
   },
   {
    "duration": 22,
    "start_time": "2023-02-22T16:21:17.083Z"
   },
   {
    "duration": 47,
    "start_time": "2023-02-22T16:21:17.107Z"
   },
   {
    "duration": 202,
    "start_time": "2023-02-22T16:21:17.156Z"
   },
   {
    "duration": 202,
    "start_time": "2023-02-22T16:21:17.360Z"
   },
   {
    "duration": 9,
    "start_time": "2023-02-22T16:21:17.564Z"
   },
   {
    "duration": 6,
    "start_time": "2023-02-22T16:21:17.574Z"
   },
   {
    "duration": 14,
    "start_time": "2023-02-22T16:21:17.581Z"
   },
   {
    "duration": 23,
    "start_time": "2023-02-22T16:21:17.596Z"
   },
   {
    "duration": 33,
    "start_time": "2023-02-22T16:21:17.621Z"
   },
   {
    "duration": 21,
    "start_time": "2023-02-22T16:21:17.656Z"
   },
   {
    "duration": 16,
    "start_time": "2023-02-22T16:21:17.678Z"
   },
   {
    "duration": 35,
    "start_time": "2023-02-22T16:21:17.695Z"
   },
   {
    "duration": 5,
    "start_time": "2023-02-22T16:21:17.731Z"
   },
   {
    "duration": 23,
    "start_time": "2023-02-22T16:21:17.738Z"
   },
   {
    "duration": 34,
    "start_time": "2023-02-22T16:21:17.763Z"
   },
   {
    "duration": 26,
    "start_time": "2023-02-22T16:21:17.799Z"
   },
   {
    "duration": 28,
    "start_time": "2023-02-22T16:21:17.827Z"
   },
   {
    "duration": 34,
    "start_time": "2023-02-22T16:21:17.856Z"
   },
   {
    "duration": 20,
    "start_time": "2023-02-22T16:21:17.892Z"
   },
   {
    "duration": 50,
    "start_time": "2023-02-22T16:21:17.914Z"
   },
   {
    "duration": 3362,
    "start_time": "2023-02-22T16:21:17.966Z"
   },
   {
    "duration": 23,
    "start_time": "2023-02-22T16:21:21.329Z"
   },
   {
    "duration": 19,
    "start_time": "2023-02-22T16:21:21.353Z"
   },
   {
    "duration": 5,
    "start_time": "2023-02-22T16:21:21.374Z"
   },
   {
    "duration": 9,
    "start_time": "2023-02-22T16:21:21.381Z"
   },
   {
    "duration": 7,
    "start_time": "2023-02-22T16:21:21.392Z"
   },
   {
    "duration": 1937,
    "start_time": "2023-02-23T07:39:06.526Z"
   },
   {
    "duration": 352,
    "start_time": "2023-02-23T07:39:08.465Z"
   },
   {
    "duration": 8,
    "start_time": "2023-02-23T07:39:08.819Z"
   },
   {
    "duration": 18,
    "start_time": "2023-02-23T07:39:08.829Z"
   },
   {
    "duration": 13,
    "start_time": "2023-02-23T07:39:08.849Z"
   },
   {
    "duration": 63,
    "start_time": "2023-02-23T07:39:08.864Z"
   },
   {
    "duration": 15,
    "start_time": "2023-02-23T07:39:08.929Z"
   },
   {
    "duration": 11,
    "start_time": "2023-02-23T07:39:08.946Z"
   },
   {
    "duration": 70,
    "start_time": "2023-02-23T07:39:08.959Z"
   },
   {
    "duration": 19,
    "start_time": "2023-02-23T07:39:09.033Z"
   },
   {
    "duration": 12,
    "start_time": "2023-02-23T07:39:09.054Z"
   },
   {
    "duration": 65,
    "start_time": "2023-02-23T07:39:09.067Z"
   },
   {
    "duration": 24,
    "start_time": "2023-02-23T07:39:09.133Z"
   },
   {
    "duration": 22,
    "start_time": "2023-02-23T07:39:09.159Z"
   },
   {
    "duration": 25,
    "start_time": "2023-02-23T07:39:09.204Z"
   },
   {
    "duration": 33,
    "start_time": "2023-02-23T07:39:09.232Z"
   },
   {
    "duration": 44,
    "start_time": "2023-02-23T07:39:09.267Z"
   },
   {
    "duration": 15,
    "start_time": "2023-02-23T07:39:09.314Z"
   },
   {
    "duration": 26,
    "start_time": "2023-02-23T07:39:09.330Z"
   },
   {
    "duration": 15,
    "start_time": "2023-02-23T07:39:09.358Z"
   },
   {
    "duration": 13,
    "start_time": "2023-02-23T07:39:09.404Z"
   },
   {
    "duration": 37,
    "start_time": "2023-02-23T07:39:09.419Z"
   },
   {
    "duration": 19,
    "start_time": "2023-02-23T07:39:09.458Z"
   },
   {
    "duration": 37,
    "start_time": "2023-02-23T07:39:09.478Z"
   },
   {
    "duration": 55,
    "start_time": "2023-02-23T07:39:09.517Z"
   },
   {
    "duration": 76,
    "start_time": "2023-02-23T07:39:09.574Z"
   },
   {
    "duration": 67,
    "start_time": "2023-02-23T07:39:09.652Z"
   },
   {
    "duration": 27,
    "start_time": "2023-02-23T07:39:09.724Z"
   },
   {
    "duration": 28,
    "start_time": "2023-02-23T07:39:09.753Z"
   },
   {
    "duration": 44,
    "start_time": "2023-02-23T07:39:09.782Z"
   },
   {
    "duration": 7,
    "start_time": "2023-02-23T07:39:09.828Z"
   },
   {
    "duration": 30,
    "start_time": "2023-02-23T07:39:09.837Z"
   },
   {
    "duration": 7,
    "start_time": "2023-02-23T07:39:09.869Z"
   },
   {
    "duration": 13,
    "start_time": "2023-02-23T07:39:09.878Z"
   },
   {
    "duration": 12,
    "start_time": "2023-02-23T07:39:09.892Z"
   },
   {
    "duration": 6,
    "start_time": "2023-02-23T07:39:09.905Z"
   },
   {
    "duration": 349,
    "start_time": "2023-02-23T07:39:09.913Z"
   },
   {
    "duration": 377,
    "start_time": "2023-02-23T07:39:10.264Z"
   },
   {
    "duration": 364,
    "start_time": "2023-02-23T07:39:10.643Z"
   },
   {
    "duration": 5,
    "start_time": "2023-02-23T07:39:11.008Z"
   },
   {
    "duration": 8,
    "start_time": "2023-02-23T07:39:11.015Z"
   },
   {
    "duration": 7,
    "start_time": "2023-02-23T07:39:11.025Z"
   },
   {
    "duration": 26,
    "start_time": "2023-02-23T07:39:11.034Z"
   },
   {
    "duration": 41,
    "start_time": "2023-02-23T07:39:11.062Z"
   },
   {
    "duration": 40,
    "start_time": "2023-02-23T07:39:11.105Z"
   },
   {
    "duration": 33,
    "start_time": "2023-02-23T07:39:11.147Z"
   },
   {
    "duration": 4,
    "start_time": "2023-02-23T07:39:11.182Z"
   },
   {
    "duration": 3,
    "start_time": "2023-02-23T07:39:11.204Z"
   },
   {
    "duration": 9,
    "start_time": "2023-02-23T07:39:11.209Z"
   },
   {
    "duration": 10,
    "start_time": "2023-02-23T07:39:11.220Z"
   },
   {
    "duration": 10,
    "start_time": "2023-02-23T07:39:11.232Z"
   },
   {
    "duration": 14,
    "start_time": "2023-02-23T07:39:11.244Z"
   },
   {
    "duration": 8,
    "start_time": "2023-02-23T07:39:11.260Z"
   },
   {
    "duration": 42,
    "start_time": "2023-02-23T07:39:11.270Z"
   },
   {
    "duration": 11,
    "start_time": "2023-02-23T07:39:11.313Z"
   },
   {
    "duration": 177,
    "start_time": "2023-02-23T07:39:11.326Z"
   },
   {
    "duration": 11,
    "start_time": "2023-02-23T07:39:11.505Z"
   },
   {
    "duration": 5,
    "start_time": "2023-02-23T07:39:11.517Z"
   },
   {
    "duration": 11,
    "start_time": "2023-02-23T07:39:11.524Z"
   },
   {
    "duration": 2,
    "start_time": "2023-02-23T07:39:11.537Z"
   },
   {
    "duration": 8,
    "start_time": "2023-02-23T07:39:11.541Z"
   },
   {
    "duration": 5,
    "start_time": "2023-02-23T07:39:11.550Z"
   },
   {
    "duration": 6,
    "start_time": "2023-02-23T07:39:11.557Z"
   },
   {
    "duration": 44,
    "start_time": "2023-02-23T07:39:11.565Z"
   },
   {
    "duration": 6,
    "start_time": "2023-02-23T07:39:11.610Z"
   },
   {
    "duration": 5,
    "start_time": "2023-02-23T07:39:11.618Z"
   },
   {
    "duration": 12,
    "start_time": "2023-02-23T07:39:11.624Z"
   },
   {
    "duration": 26,
    "start_time": "2023-02-23T07:39:11.638Z"
   },
   {
    "duration": 17,
    "start_time": "2023-02-23T07:39:11.666Z"
   },
   {
    "duration": 7,
    "start_time": "2023-02-23T07:39:11.685Z"
   },
   {
    "duration": 10,
    "start_time": "2023-02-23T07:39:11.694Z"
   },
   {
    "duration": 3,
    "start_time": "2023-02-23T07:39:11.706Z"
   },
   {
    "duration": 3478,
    "start_time": "2023-02-23T07:39:11.711Z"
   },
   {
    "duration": 19,
    "start_time": "2023-02-23T07:39:15.191Z"
   },
   {
    "duration": 17,
    "start_time": "2023-02-23T07:39:15.212Z"
   },
   {
    "duration": 5,
    "start_time": "2023-02-23T07:39:15.231Z"
   },
   {
    "duration": 8,
    "start_time": "2023-02-23T07:39:15.238Z"
   },
   {
    "duration": 13,
    "start_time": "2023-02-23T07:39:15.247Z"
   },
   {
    "duration": 5,
    "start_time": "2023-02-23T08:52:27.452Z"
   },
   {
    "duration": 1530,
    "start_time": "2023-02-23T09:57:10.230Z"
   },
   {
    "duration": 1022,
    "start_time": "2023-02-23T09:57:11.762Z"
   },
   {
    "duration": 8,
    "start_time": "2023-02-23T09:57:12.787Z"
   },
   {
    "duration": 35,
    "start_time": "2023-02-23T09:57:12.798Z"
   },
   {
    "duration": 12,
    "start_time": "2023-02-23T09:57:12.835Z"
   },
   {
    "duration": 37,
    "start_time": "2023-02-23T09:57:12.849Z"
   },
   {
    "duration": 30,
    "start_time": "2023-02-23T09:57:12.887Z"
   },
   {
    "duration": 10,
    "start_time": "2023-02-23T09:57:12.919Z"
   },
   {
    "duration": 36,
    "start_time": "2023-02-23T09:57:12.931Z"
   },
   {
    "duration": 35,
    "start_time": "2023-02-23T09:57:12.971Z"
   },
   {
    "duration": 14,
    "start_time": "2023-02-23T09:57:13.008Z"
   },
   {
    "duration": 45,
    "start_time": "2023-02-23T09:57:13.024Z"
   },
   {
    "duration": 31,
    "start_time": "2023-02-23T09:57:13.071Z"
   },
   {
    "duration": 26,
    "start_time": "2023-02-23T09:57:13.103Z"
   },
   {
    "duration": 21,
    "start_time": "2023-02-23T09:57:13.131Z"
   },
   {
    "duration": 48,
    "start_time": "2023-02-23T09:57:13.153Z"
   },
   {
    "duration": 18,
    "start_time": "2023-02-23T09:57:13.206Z"
   },
   {
    "duration": 14,
    "start_time": "2023-02-23T09:57:13.225Z"
   },
   {
    "duration": 25,
    "start_time": "2023-02-23T09:57:13.241Z"
   },
   {
    "duration": 41,
    "start_time": "2023-02-23T09:57:13.268Z"
   },
   {
    "duration": 19,
    "start_time": "2023-02-23T09:57:13.314Z"
   },
   {
    "duration": 26,
    "start_time": "2023-02-23T09:57:13.334Z"
   },
   {
    "duration": 16,
    "start_time": "2023-02-23T09:57:13.363Z"
   },
   {
    "duration": 28,
    "start_time": "2023-02-23T09:57:13.381Z"
   },
   {
    "duration": 67,
    "start_time": "2023-02-23T09:57:13.414Z"
   },
   {
    "duration": 48,
    "start_time": "2023-02-23T09:57:13.483Z"
   },
   {
    "duration": 47,
    "start_time": "2023-02-23T09:57:13.533Z"
   },
   {
    "duration": 34,
    "start_time": "2023-02-23T09:57:13.583Z"
   },
   {
    "duration": 25,
    "start_time": "2023-02-23T09:57:13.622Z"
   },
   {
    "duration": 25,
    "start_time": "2023-02-23T09:57:13.649Z"
   },
   {
    "duration": 6,
    "start_time": "2023-02-23T09:57:13.675Z"
   },
   {
    "duration": 19,
    "start_time": "2023-02-23T09:57:13.683Z"
   },
   {
    "duration": 28,
    "start_time": "2023-02-23T09:57:13.703Z"
   },
   {
    "duration": 8,
    "start_time": "2023-02-23T09:57:13.733Z"
   },
   {
    "duration": 7,
    "start_time": "2023-02-23T09:57:13.743Z"
   },
   {
    "duration": 8,
    "start_time": "2023-02-23T09:57:13.752Z"
   },
   {
    "duration": 416,
    "start_time": "2023-02-23T09:57:13.761Z"
   },
   {
    "duration": 347,
    "start_time": "2023-02-23T09:57:14.179Z"
   },
   {
    "duration": 304,
    "start_time": "2023-02-23T09:57:14.528Z"
   },
   {
    "duration": 379,
    "start_time": "2023-02-23T09:57:18.089Z"
   },
   {
    "duration": 4,
    "start_time": "2023-02-23T10:07:16.777Z"
   },
   {
    "duration": 331,
    "start_time": "2023-02-23T10:07:16.782Z"
   },
   {
    "duration": 4,
    "start_time": "2023-02-23T10:07:17.115Z"
   },
   {
    "duration": 25,
    "start_time": "2023-02-23T10:07:17.121Z"
   },
   {
    "duration": 25,
    "start_time": "2023-02-23T10:07:17.149Z"
   },
   {
    "duration": 37,
    "start_time": "2023-02-23T10:07:17.175Z"
   },
   {
    "duration": 13,
    "start_time": "2023-02-23T10:07:17.213Z"
   },
   {
    "duration": 8,
    "start_time": "2023-02-23T10:07:17.227Z"
   },
   {
    "duration": 40,
    "start_time": "2023-02-23T10:07:17.236Z"
   },
   {
    "duration": 27,
    "start_time": "2023-02-23T10:07:17.278Z"
   },
   {
    "duration": 8,
    "start_time": "2023-02-23T10:07:17.307Z"
   },
   {
    "duration": 33,
    "start_time": "2023-02-23T10:07:17.317Z"
   },
   {
    "duration": 20,
    "start_time": "2023-02-23T10:07:17.351Z"
   },
   {
    "duration": 43,
    "start_time": "2023-02-23T10:07:17.372Z"
   },
   {
    "duration": 20,
    "start_time": "2023-02-23T10:07:17.416Z"
   },
   {
    "duration": 25,
    "start_time": "2023-02-23T10:07:17.437Z"
   },
   {
    "duration": 41,
    "start_time": "2023-02-23T10:07:17.463Z"
   },
   {
    "duration": 29,
    "start_time": "2023-02-23T10:07:17.505Z"
   },
   {
    "duration": 24,
    "start_time": "2023-02-23T10:07:17.536Z"
   },
   {
    "duration": 13,
    "start_time": "2023-02-23T10:07:17.562Z"
   },
   {
    "duration": 17,
    "start_time": "2023-02-23T10:07:17.577Z"
   },
   {
    "duration": 29,
    "start_time": "2023-02-23T10:07:17.596Z"
   },
   {
    "duration": 41,
    "start_time": "2023-02-23T10:07:17.626Z"
   },
   {
    "duration": 11,
    "start_time": "2023-02-23T10:07:17.669Z"
   },
   {
    "duration": 42,
    "start_time": "2023-02-23T10:07:17.681Z"
   },
   {
    "duration": 37,
    "start_time": "2023-02-23T10:07:17.725Z"
   },
   {
    "duration": 47,
    "start_time": "2023-02-23T10:07:17.763Z"
   },
   {
    "duration": 21,
    "start_time": "2023-02-23T10:07:17.811Z"
   },
   {
    "duration": 21,
    "start_time": "2023-02-23T10:07:17.836Z"
   },
   {
    "duration": 42,
    "start_time": "2023-02-23T10:07:17.858Z"
   },
   {
    "duration": 7,
    "start_time": "2023-02-23T10:07:17.901Z"
   },
   {
    "duration": 15,
    "start_time": "2023-02-23T10:07:17.909Z"
   },
   {
    "duration": 12,
    "start_time": "2023-02-23T10:07:17.926Z"
   },
   {
    "duration": 10,
    "start_time": "2023-02-23T10:07:17.939Z"
   },
   {
    "duration": 13,
    "start_time": "2023-02-23T10:07:17.951Z"
   },
   {
    "duration": 6,
    "start_time": "2023-02-23T10:07:17.965Z"
   },
   {
    "duration": 344,
    "start_time": "2023-02-23T10:07:17.973Z"
   },
   {
    "duration": 395,
    "start_time": "2023-02-23T10:07:18.319Z"
   },
   {
    "duration": 302,
    "start_time": "2023-02-23T10:07:18.716Z"
   },
   {
    "duration": 345,
    "start_time": "2023-02-23T10:07:19.020Z"
   },
   {
    "duration": 4,
    "start_time": "2023-02-23T10:07:19.367Z"
   },
   {
    "duration": 9,
    "start_time": "2023-02-23T10:07:19.373Z"
   },
   {
    "duration": 16,
    "start_time": "2023-02-23T10:07:19.383Z"
   },
   {
    "duration": 101,
    "start_time": "2023-02-23T10:07:19.400Z"
   },
   {
    "duration": 0,
    "start_time": "2023-02-23T10:07:19.503Z"
   },
   {
    "duration": 0,
    "start_time": "2023-02-23T10:07:19.504Z"
   },
   {
    "duration": 0,
    "start_time": "2023-02-23T10:07:19.505Z"
   },
   {
    "duration": 0,
    "start_time": "2023-02-23T10:07:19.506Z"
   },
   {
    "duration": 0,
    "start_time": "2023-02-23T10:07:19.507Z"
   },
   {
    "duration": 0,
    "start_time": "2023-02-23T10:07:19.509Z"
   },
   {
    "duration": 0,
    "start_time": "2023-02-23T10:07:19.510Z"
   },
   {
    "duration": 10,
    "start_time": "2023-02-23T10:07:22.281Z"
   },
   {
    "duration": 32,
    "start_time": "2023-02-23T10:07:47.696Z"
   },
   {
    "duration": 4,
    "start_time": "2023-02-23T10:07:48.523Z"
   },
   {
    "duration": 4,
    "start_time": "2023-02-23T10:07:58.213Z"
   },
   {
    "duration": 4,
    "start_time": "2023-02-23T10:07:59.033Z"
   },
   {
    "duration": 4,
    "start_time": "2023-02-23T10:07:59.500Z"
   },
   {
    "duration": 4,
    "start_time": "2023-02-23T10:08:00.321Z"
   },
   {
    "duration": 50,
    "start_time": "2023-02-23T10:08:00.327Z"
   },
   {
    "duration": 4,
    "start_time": "2023-02-23T10:08:00.525Z"
   },
   {
    "duration": 17,
    "start_time": "2023-02-23T10:08:03.365Z"
   },
   {
    "duration": 12,
    "start_time": "2023-02-23T10:10:13.636Z"
   },
   {
    "duration": 12,
    "start_time": "2023-02-23T10:10:29.679Z"
   },
   {
    "duration": 16,
    "start_time": "2023-02-23T10:11:30.632Z"
   },
   {
    "duration": 17,
    "start_time": "2023-02-23T10:13:14.190Z"
   },
   {
    "duration": 28,
    "start_time": "2023-02-23T10:13:25.289Z"
   },
   {
    "duration": 20,
    "start_time": "2023-02-23T10:13:43.850Z"
   },
   {
    "duration": 20,
    "start_time": "2023-02-23T10:14:30.822Z"
   },
   {
    "duration": 20,
    "start_time": "2023-02-23T10:15:21.310Z"
   },
   {
    "duration": 3,
    "start_time": "2023-02-23T10:15:28.335Z"
   },
   {
    "duration": 334,
    "start_time": "2023-02-23T10:15:28.340Z"
   },
   {
    "duration": 4,
    "start_time": "2023-02-23T10:15:28.676Z"
   },
   {
    "duration": 24,
    "start_time": "2023-02-23T10:15:28.682Z"
   },
   {
    "duration": 9,
    "start_time": "2023-02-23T10:15:28.707Z"
   },
   {
    "duration": 46,
    "start_time": "2023-02-23T10:15:28.718Z"
   },
   {
    "duration": 13,
    "start_time": "2023-02-23T10:15:28.766Z"
   },
   {
    "duration": 9,
    "start_time": "2023-02-23T10:15:28.799Z"
   },
   {
    "duration": 43,
    "start_time": "2023-02-23T10:15:28.809Z"
   },
   {
    "duration": 13,
    "start_time": "2023-02-23T10:15:28.854Z"
   },
   {
    "duration": 10,
    "start_time": "2023-02-23T10:15:28.869Z"
   },
   {
    "duration": 51,
    "start_time": "2023-02-23T10:15:28.880Z"
   },
   {
    "duration": 30,
    "start_time": "2023-02-23T10:15:28.933Z"
   },
   {
    "duration": 40,
    "start_time": "2023-02-23T10:15:28.965Z"
   },
   {
    "duration": 28,
    "start_time": "2023-02-23T10:15:29.007Z"
   },
   {
    "duration": 32,
    "start_time": "2023-02-23T10:15:29.037Z"
   },
   {
    "duration": 37,
    "start_time": "2023-02-23T10:15:29.071Z"
   },
   {
    "duration": 12,
    "start_time": "2023-02-23T10:15:29.109Z"
   },
   {
    "duration": 33,
    "start_time": "2023-02-23T10:15:29.123Z"
   },
   {
    "duration": 15,
    "start_time": "2023-02-23T10:15:29.157Z"
   },
   {
    "duration": 32,
    "start_time": "2023-02-23T10:15:29.174Z"
   },
   {
    "duration": 36,
    "start_time": "2023-02-23T10:15:29.208Z"
   },
   {
    "duration": 14,
    "start_time": "2023-02-23T10:15:29.246Z"
   },
   {
    "duration": 30,
    "start_time": "2023-02-23T10:15:29.262Z"
   },
   {
    "duration": 44,
    "start_time": "2023-02-23T10:15:29.293Z"
   },
   {
    "duration": 39,
    "start_time": "2023-02-23T10:15:29.338Z"
   },
   {
    "duration": 61,
    "start_time": "2023-02-23T10:15:29.379Z"
   },
   {
    "duration": 22,
    "start_time": "2023-02-23T10:15:29.444Z"
   },
   {
    "duration": 39,
    "start_time": "2023-02-23T10:15:29.468Z"
   },
   {
    "duration": 25,
    "start_time": "2023-02-23T10:15:29.508Z"
   },
   {
    "duration": 7,
    "start_time": "2023-02-23T10:15:29.534Z"
   },
   {
    "duration": 11,
    "start_time": "2023-02-23T10:15:29.542Z"
   },
   {
    "duration": 11,
    "start_time": "2023-02-23T10:15:29.554Z"
   },
   {
    "duration": 11,
    "start_time": "2023-02-23T10:15:29.567Z"
   },
   {
    "duration": 22,
    "start_time": "2023-02-23T10:15:29.579Z"
   },
   {
    "duration": 6,
    "start_time": "2023-02-23T10:15:29.603Z"
   },
   {
    "duration": 318,
    "start_time": "2023-02-23T10:15:29.611Z"
   },
   {
    "duration": 288,
    "start_time": "2023-02-23T10:15:29.931Z"
   },
   {
    "duration": 307,
    "start_time": "2023-02-23T10:15:30.221Z"
   },
   {
    "duration": 324,
    "start_time": "2023-02-23T10:15:30.530Z"
   },
   {
    "duration": 5,
    "start_time": "2023-02-23T10:15:30.856Z"
   },
   {
    "duration": 42,
    "start_time": "2023-02-23T10:15:30.862Z"
   },
   {
    "duration": 37,
    "start_time": "2023-02-23T10:15:30.905Z"
   },
   {
    "duration": 74,
    "start_time": "2023-02-23T10:15:30.943Z"
   },
   {
    "duration": 23,
    "start_time": "2023-02-23T10:15:31.019Z"
   },
   {
    "duration": 31,
    "start_time": "2023-02-23T10:15:31.044Z"
   },
   {
    "duration": 38,
    "start_time": "2023-02-23T10:15:31.076Z"
   },
   {
    "duration": 24,
    "start_time": "2023-02-23T10:15:31.115Z"
   },
   {
    "duration": 46,
    "start_time": "2023-02-23T10:15:31.140Z"
   },
   {
    "duration": 32,
    "start_time": "2023-02-23T10:15:31.188Z"
   },
   {
    "duration": 28,
    "start_time": "2023-02-23T10:15:31.221Z"
   },
   {
    "duration": 56,
    "start_time": "2023-02-23T10:15:31.250Z"
   },
   {
    "duration": 26,
    "start_time": "2023-02-23T10:15:31.308Z"
   },
   {
    "duration": 35,
    "start_time": "2023-02-23T10:15:31.336Z"
   },
   {
    "duration": 19,
    "start_time": "2023-02-23T10:15:31.373Z"
   },
   {
    "duration": 107,
    "start_time": "2023-02-23T10:15:31.394Z"
   },
   {
    "duration": 114,
    "start_time": "2023-02-23T10:15:31.503Z"
   },
   {
    "duration": 198,
    "start_time": "2023-02-23T10:15:31.619Z"
   },
   {
    "duration": 13,
    "start_time": "2023-02-23T10:15:31.819Z"
   },
   {
    "duration": 6,
    "start_time": "2023-02-23T10:15:31.833Z"
   },
   {
    "duration": 14,
    "start_time": "2023-02-23T10:15:31.840Z"
   },
   {
    "duration": 4,
    "start_time": "2023-02-23T10:15:31.855Z"
   },
   {
    "duration": 12,
    "start_time": "2023-02-23T10:15:31.860Z"
   },
   {
    "duration": 30,
    "start_time": "2023-02-23T10:15:31.873Z"
   },
   {
    "duration": 7,
    "start_time": "2023-02-23T10:15:31.905Z"
   },
   {
    "duration": 12,
    "start_time": "2023-02-23T10:15:31.913Z"
   },
   {
    "duration": 4,
    "start_time": "2023-02-23T10:15:31.927Z"
   },
   {
    "duration": 7,
    "start_time": "2023-02-23T10:15:31.933Z"
   },
   {
    "duration": 6,
    "start_time": "2023-02-23T10:15:31.941Z"
   },
   {
    "duration": 5,
    "start_time": "2023-02-23T10:15:31.949Z"
   },
   {
    "duration": 15,
    "start_time": "2023-02-23T10:15:31.956Z"
   },
   {
    "duration": 27,
    "start_time": "2023-02-23T10:15:31.973Z"
   },
   {
    "duration": 7,
    "start_time": "2023-02-23T10:15:32.001Z"
   },
   {
    "duration": 19,
    "start_time": "2023-02-23T10:15:32.010Z"
   },
   {
    "duration": 4304,
    "start_time": "2023-02-23T10:15:32.031Z"
   },
   {
    "duration": 10,
    "start_time": "2023-02-23T10:15:36.336Z"
   },
   {
    "duration": 55,
    "start_time": "2023-02-23T10:15:36.348Z"
   },
   {
    "duration": 5,
    "start_time": "2023-02-23T10:15:36.405Z"
   },
   {
    "duration": 11,
    "start_time": "2023-02-23T10:15:36.412Z"
   },
   {
    "duration": 12,
    "start_time": "2023-02-23T10:15:36.425Z"
   },
   {
    "duration": 22,
    "start_time": "2023-02-23T10:15:56.095Z"
   },
   {
    "duration": 21,
    "start_time": "2023-02-23T10:16:05.631Z"
   },
   {
    "duration": 19,
    "start_time": "2023-02-23T10:16:27.092Z"
   },
   {
    "duration": 26,
    "start_time": "2023-02-23T10:16:27.722Z"
   },
   {
    "duration": 21,
    "start_time": "2023-02-23T10:16:29.553Z"
   },
   {
    "duration": 22,
    "start_time": "2023-02-23T10:16:36.125Z"
   },
   {
    "duration": 19,
    "start_time": "2023-02-23T10:16:41.489Z"
   },
   {
    "duration": 18,
    "start_time": "2023-02-23T10:17:05.523Z"
   },
   {
    "duration": 26,
    "start_time": "2023-02-23T10:17:06.449Z"
   },
   {
    "duration": 20,
    "start_time": "2023-02-23T10:17:15.201Z"
   },
   {
    "duration": 32,
    "start_time": "2023-02-23T10:17:24.020Z"
   },
   {
    "duration": 16,
    "start_time": "2023-02-23T10:17:28.320Z"
   },
   {
    "duration": 26,
    "start_time": "2023-02-23T10:17:30.929Z"
   },
   {
    "duration": 4,
    "start_time": "2023-02-23T10:21:50.881Z"
   },
   {
    "duration": 378,
    "start_time": "2023-02-23T10:21:50.886Z"
   },
   {
    "duration": 4,
    "start_time": "2023-02-23T10:21:51.266Z"
   },
   {
    "duration": 29,
    "start_time": "2023-02-23T10:21:51.271Z"
   },
   {
    "duration": 31,
    "start_time": "2023-02-23T10:21:51.302Z"
   },
   {
    "duration": 47,
    "start_time": "2023-02-23T10:21:51.334Z"
   },
   {
    "duration": 13,
    "start_time": "2023-02-23T10:21:51.382Z"
   },
   {
    "duration": 18,
    "start_time": "2023-02-23T10:21:51.397Z"
   },
   {
    "duration": 40,
    "start_time": "2023-02-23T10:21:51.416Z"
   },
   {
    "duration": 12,
    "start_time": "2023-02-23T10:21:51.458Z"
   },
   {
    "duration": 29,
    "start_time": "2023-02-23T10:21:51.471Z"
   },
   {
    "duration": 36,
    "start_time": "2023-02-23T10:21:51.501Z"
   },
   {
    "duration": 24,
    "start_time": "2023-02-23T10:21:51.539Z"
   },
   {
    "duration": 44,
    "start_time": "2023-02-23T10:21:51.565Z"
   },
   {
    "duration": 23,
    "start_time": "2023-02-23T10:21:51.611Z"
   },
   {
    "duration": 28,
    "start_time": "2023-02-23T10:21:51.635Z"
   },
   {
    "duration": 36,
    "start_time": "2023-02-23T10:21:51.664Z"
   },
   {
    "duration": 13,
    "start_time": "2023-02-23T10:21:51.701Z"
   },
   {
    "duration": 41,
    "start_time": "2023-02-23T10:21:51.716Z"
   },
   {
    "duration": 15,
    "start_time": "2023-02-23T10:21:51.759Z"
   },
   {
    "duration": 29,
    "start_time": "2023-02-23T10:21:51.776Z"
   },
   {
    "duration": 26,
    "start_time": "2023-02-23T10:21:51.806Z"
   },
   {
    "duration": 18,
    "start_time": "2023-02-23T10:21:51.834Z"
   },
   {
    "duration": 14,
    "start_time": "2023-02-23T10:21:51.854Z"
   },
   {
    "duration": 71,
    "start_time": "2023-02-23T10:21:51.869Z"
   },
   {
    "duration": 43,
    "start_time": "2023-02-23T10:21:51.942Z"
   },
   {
    "duration": 43,
    "start_time": "2023-02-23T10:21:51.999Z"
   },
   {
    "duration": 26,
    "start_time": "2023-02-23T10:21:52.044Z"
   },
   {
    "duration": 46,
    "start_time": "2023-02-23T10:21:52.071Z"
   },
   {
    "duration": 27,
    "start_time": "2023-02-23T10:21:52.118Z"
   },
   {
    "duration": 8,
    "start_time": "2023-02-23T10:21:52.147Z"
   },
   {
    "duration": 18,
    "start_time": "2023-02-23T10:21:52.157Z"
   },
   {
    "duration": 30,
    "start_time": "2023-02-23T10:21:52.177Z"
   },
   {
    "duration": 14,
    "start_time": "2023-02-23T10:21:52.208Z"
   },
   {
    "duration": 10,
    "start_time": "2023-02-23T10:21:52.223Z"
   },
   {
    "duration": 7,
    "start_time": "2023-02-23T10:21:52.235Z"
   },
   {
    "duration": 344,
    "start_time": "2023-02-23T10:21:52.246Z"
   },
   {
    "duration": 336,
    "start_time": "2023-02-23T10:21:52.591Z"
   },
   {
    "duration": 435,
    "start_time": "2023-02-23T10:21:52.928Z"
   },
   {
    "duration": 392,
    "start_time": "2023-02-23T10:21:53.365Z"
   },
   {
    "duration": 5,
    "start_time": "2023-02-23T10:21:53.758Z"
   },
   {
    "duration": 7,
    "start_time": "2023-02-23T10:21:53.765Z"
   },
   {
    "duration": 7,
    "start_time": "2023-02-23T10:21:53.774Z"
   },
   {
    "duration": 49,
    "start_time": "2023-02-23T10:21:53.783Z"
   },
   {
    "duration": 4,
    "start_time": "2023-02-23T10:21:53.833Z"
   },
   {
    "duration": 10,
    "start_time": "2023-02-23T10:21:53.839Z"
   },
   {
    "duration": 14,
    "start_time": "2023-02-23T10:21:53.851Z"
   },
   {
    "duration": 8,
    "start_time": "2023-02-23T10:21:53.867Z"
   },
   {
    "duration": 9,
    "start_time": "2023-02-23T10:21:53.877Z"
   },
   {
    "duration": 17,
    "start_time": "2023-02-23T10:21:53.887Z"
   },
   {
    "duration": 16,
    "start_time": "2023-02-23T10:21:53.906Z"
   },
   {
    "duration": 27,
    "start_time": "2023-02-23T10:21:53.924Z"
   },
   {
    "duration": 21,
    "start_time": "2023-02-23T10:21:53.954Z"
   },
   {
    "duration": 40,
    "start_time": "2023-02-23T10:21:53.977Z"
   },
   {
    "duration": 24,
    "start_time": "2023-02-23T10:21:54.019Z"
   },
   {
    "duration": 22,
    "start_time": "2023-02-23T10:21:56.836Z"
   },
   {
    "duration": 24,
    "start_time": "2023-02-23T10:23:12.095Z"
   },
   {
    "duration": 14,
    "start_time": "2023-02-23T10:23:15.050Z"
   },
   {
    "duration": 18,
    "start_time": "2023-02-23T10:23:17.674Z"
   },
   {
    "duration": 10,
    "start_time": "2023-02-23T10:23:22.979Z"
   },
   {
    "duration": 5,
    "start_time": "2023-02-23T10:23:23.591Z"
   },
   {
    "duration": 8,
    "start_time": "2023-02-23T10:23:24.270Z"
   },
   {
    "duration": 368,
    "start_time": "2023-02-23T10:25:06.836Z"
   },
   {
    "duration": 18,
    "start_time": "2023-02-23T10:29:35.216Z"
   },
   {
    "duration": 8,
    "start_time": "2023-02-23T10:29:36.620Z"
   },
   {
    "duration": 6,
    "start_time": "2023-02-23T10:29:36.860Z"
   },
   {
    "duration": 9,
    "start_time": "2023-02-23T10:29:37.155Z"
   },
   {
    "duration": 3,
    "start_time": "2023-02-23T10:29:57.627Z"
   },
   {
    "duration": 3,
    "start_time": "2023-02-23T10:34:13.985Z"
   },
   {
    "duration": 3,
    "start_time": "2023-02-23T10:37:10.424Z"
   },
   {
    "duration": 3,
    "start_time": "2023-02-23T10:37:12.453Z"
   },
   {
    "duration": 3,
    "start_time": "2023-02-23T10:37:14.377Z"
   },
   {
    "duration": 4,
    "start_time": "2023-02-23T10:37:16.390Z"
   },
   {
    "duration": 16,
    "start_time": "2023-02-23T10:38:00.904Z"
   },
   {
    "duration": 7,
    "start_time": "2023-02-23T10:38:01.709Z"
   },
   {
    "duration": 3,
    "start_time": "2023-02-23T10:38:03.282Z"
   },
   {
    "duration": 5,
    "start_time": "2023-02-23T10:38:03.782Z"
   },
   {
    "duration": 5,
    "start_time": "2023-02-23T10:38:04.672Z"
   },
   {
    "duration": 10,
    "start_time": "2023-02-23T10:38:06.093Z"
   },
   {
    "duration": 8,
    "start_time": "2023-02-23T10:38:06.651Z"
   },
   {
    "duration": 9,
    "start_time": "2023-02-23T10:38:07.754Z"
   },
   {
    "duration": 5,
    "start_time": "2023-02-23T10:38:17.405Z"
   },
   {
    "duration": 221,
    "start_time": "2023-02-23T10:40:10.193Z"
   },
   {
    "duration": 4,
    "start_time": "2023-02-23T10:41:21.369Z"
   },
   {
    "duration": 4,
    "start_time": "2023-02-23T10:41:37.856Z"
   },
   {
    "duration": 12,
    "start_time": "2023-02-23T10:42:03.974Z"
   },
   {
    "duration": 5,
    "start_time": "2023-02-23T10:42:30.134Z"
   },
   {
    "duration": 52,
    "start_time": "2023-02-23T10:44:28.322Z"
   },
   {
    "duration": 54,
    "start_time": "2023-02-23T10:44:35.163Z"
   },
   {
    "duration": 59,
    "start_time": "2023-02-23T10:45:47.034Z"
   },
   {
    "duration": 4,
    "start_time": "2023-02-23T10:45:56.448Z"
   },
   {
    "duration": 393,
    "start_time": "2023-02-23T10:45:56.639Z"
   },
   {
    "duration": 5,
    "start_time": "2023-02-23T10:45:57.035Z"
   },
   {
    "duration": 22,
    "start_time": "2023-02-23T10:45:57.042Z"
   },
   {
    "duration": 12,
    "start_time": "2023-02-23T10:45:57.065Z"
   },
   {
    "duration": 52,
    "start_time": "2023-02-23T10:45:57.100Z"
   },
   {
    "duration": 14,
    "start_time": "2023-02-23T10:45:59.071Z"
   },
   {
    "duration": 12,
    "start_time": "2023-02-23T10:45:59.086Z"
   },
   {
    "duration": 60,
    "start_time": "2023-02-23T10:45:59.101Z"
   },
   {
    "duration": 19,
    "start_time": "2023-02-23T10:45:59.163Z"
   },
   {
    "duration": 10,
    "start_time": "2023-02-23T10:45:59.200Z"
   },
   {
    "duration": 51,
    "start_time": "2023-02-23T10:45:59.213Z"
   },
   {
    "duration": 44,
    "start_time": "2023-02-23T10:45:59.266Z"
   },
   {
    "duration": 23,
    "start_time": "2023-02-23T10:45:59.312Z"
   },
   {
    "duration": 24,
    "start_time": "2023-02-23T10:45:59.337Z"
   },
   {
    "duration": 61,
    "start_time": "2023-02-23T10:45:59.364Z"
   },
   {
    "duration": 16,
    "start_time": "2023-02-23T10:45:59.428Z"
   },
   {
    "duration": 14,
    "start_time": "2023-02-23T10:45:59.446Z"
   },
   {
    "duration": 54,
    "start_time": "2023-02-23T10:45:59.461Z"
   },
   {
    "duration": 17,
    "start_time": "2023-02-23T10:45:59.517Z"
   },
   {
    "duration": 14,
    "start_time": "2023-02-23T10:45:59.535Z"
   },
   {
    "duration": 60,
    "start_time": "2023-02-23T10:45:59.551Z"
   },
   {
    "duration": 15,
    "start_time": "2023-02-23T10:45:59.613Z"
   },
   {
    "duration": 23,
    "start_time": "2023-02-23T10:45:59.631Z"
   },
   {
    "duration": 89,
    "start_time": "2023-02-23T10:45:59.657Z"
   },
   {
    "duration": 53,
    "start_time": "2023-02-23T10:45:59.747Z"
   },
   {
    "duration": 69,
    "start_time": "2023-02-23T10:45:59.802Z"
   },
   {
    "duration": 39,
    "start_time": "2023-02-23T10:45:59.872Z"
   },
   {
    "duration": 26,
    "start_time": "2023-02-23T10:45:59.913Z"
   },
   {
    "duration": 26,
    "start_time": "2023-02-23T10:45:59.941Z"
   },
   {
    "duration": 30,
    "start_time": "2023-02-23T10:45:59.969Z"
   },
   {
    "duration": 20,
    "start_time": "2023-02-23T10:46:00.001Z"
   },
   {
    "duration": 19,
    "start_time": "2023-02-23T10:46:00.023Z"
   },
   {
    "duration": 28,
    "start_time": "2023-02-23T10:46:00.043Z"
   },
   {
    "duration": 22,
    "start_time": "2023-02-23T10:46:00.075Z"
   },
   {
    "duration": 33,
    "start_time": "2023-02-23T10:46:00.099Z"
   },
   {
    "duration": 418,
    "start_time": "2023-02-23T10:46:00.134Z"
   },
   {
    "duration": 365,
    "start_time": "2023-02-23T10:46:00.554Z"
   },
   {
    "duration": 309,
    "start_time": "2023-02-23T10:46:00.921Z"
   },
   {
    "duration": 351,
    "start_time": "2023-02-23T10:46:01.232Z"
   },
   {
    "duration": 6,
    "start_time": "2023-02-23T10:46:01.585Z"
   },
   {
    "duration": 61,
    "start_time": "2023-02-23T10:46:01.599Z"
   },
   {
    "duration": 45,
    "start_time": "2023-02-23T10:46:01.662Z"
   },
   {
    "duration": 94,
    "start_time": "2023-02-23T10:46:01.710Z"
   },
   {
    "duration": 12,
    "start_time": "2023-02-23T10:46:01.806Z"
   },
   {
    "duration": 47,
    "start_time": "2023-02-23T10:46:01.820Z"
   },
   {
    "duration": 33,
    "start_time": "2023-02-23T10:46:01.869Z"
   },
   {
    "duration": 27,
    "start_time": "2023-02-23T10:46:01.905Z"
   },
   {
    "duration": 65,
    "start_time": "2023-02-23T10:46:01.934Z"
   },
   {
    "duration": 41,
    "start_time": "2023-02-23T10:46:02.001Z"
   },
   {
    "duration": 49,
    "start_time": "2023-02-23T10:46:02.044Z"
   },
   {
    "duration": 41,
    "start_time": "2023-02-23T10:46:02.096Z"
   },
   {
    "duration": 17,
    "start_time": "2023-02-23T10:46:02.139Z"
   },
   {
    "duration": 34,
    "start_time": "2023-02-23T10:46:02.158Z"
   },
   {
    "duration": 29,
    "start_time": "2023-02-23T10:46:02.194Z"
   },
   {
    "duration": 24,
    "start_time": "2023-02-23T10:46:02.225Z"
   },
   {
    "duration": 48,
    "start_time": "2023-02-23T10:46:02.251Z"
   },
   {
    "duration": 134,
    "start_time": "2023-02-23T10:46:02.313Z"
   },
   {
    "duration": 41,
    "start_time": "2023-02-23T10:46:02.449Z"
   },
   {
    "duration": 22,
    "start_time": "2023-02-23T10:46:02.492Z"
   },
   {
    "duration": 35,
    "start_time": "2023-02-23T10:46:02.516Z"
   },
   {
    "duration": 11,
    "start_time": "2023-02-23T10:46:02.553Z"
   },
   {
    "duration": 9,
    "start_time": "2023-02-23T10:46:02.565Z"
   },
   {
    "duration": 19,
    "start_time": "2023-02-23T10:46:02.576Z"
   },
   {
    "duration": 9,
    "start_time": "2023-02-23T10:46:02.598Z"
   },
   {
    "duration": 16,
    "start_time": "2023-02-23T10:46:02.609Z"
   },
   {
    "duration": 7,
    "start_time": "2023-02-23T10:46:02.628Z"
   },
   {
    "duration": 4,
    "start_time": "2023-02-23T10:46:02.637Z"
   },
   {
    "duration": 7,
    "start_time": "2023-02-23T10:46:02.643Z"
   },
   {
    "duration": 14,
    "start_time": "2023-02-23T10:46:02.652Z"
   },
   {
    "duration": 14,
    "start_time": "2023-02-23T10:46:02.668Z"
   },
   {
    "duration": 24,
    "start_time": "2023-02-23T10:46:02.684Z"
   },
   {
    "duration": 17,
    "start_time": "2023-02-23T10:46:02.710Z"
   },
   {
    "duration": 56,
    "start_time": "2023-02-23T10:46:17.981Z"
   },
   {
    "duration": 4,
    "start_time": "2023-02-23T10:46:43.119Z"
   },
   {
    "duration": 4,
    "start_time": "2023-02-23T10:46:49.436Z"
   },
   {
    "duration": 5,
    "start_time": "2023-02-23T10:47:00.741Z"
   },
   {
    "duration": 14,
    "start_time": "2023-02-23T10:47:33.360Z"
   },
   {
    "duration": 3,
    "start_time": "2023-02-23T10:50:01.735Z"
   },
   {
    "duration": 3390,
    "start_time": "2023-02-23T10:50:04.384Z"
   },
   {
    "duration": 11,
    "start_time": "2023-02-23T10:50:12.679Z"
   },
   {
    "duration": 20,
    "start_time": "2023-02-23T10:50:15.392Z"
   },
   {
    "duration": 5,
    "start_time": "2023-02-23T10:50:18.582Z"
   },
   {
    "duration": 6,
    "start_time": "2023-02-23T10:50:19.161Z"
   },
   {
    "duration": 5,
    "start_time": "2023-02-23T10:50:19.650Z"
   },
   {
    "duration": 1414,
    "start_time": "2023-02-23T10:55:55.947Z"
   },
   {
    "duration": 3,
    "start_time": "2023-02-23T10:55:57.363Z"
   },
   {
    "duration": 386,
    "start_time": "2023-02-23T10:55:57.368Z"
   },
   {
    "duration": 6,
    "start_time": "2023-02-23T10:55:57.756Z"
   },
   {
    "duration": 18,
    "start_time": "2023-02-23T10:55:57.764Z"
   },
   {
    "duration": 24,
    "start_time": "2023-02-23T10:55:57.784Z"
   },
   {
    "duration": 41,
    "start_time": "2023-02-23T10:55:58.275Z"
   },
   {
    "duration": 16,
    "start_time": "2023-02-23T10:55:58.317Z"
   },
   {
    "duration": 9,
    "start_time": "2023-02-23T10:55:58.334Z"
   },
   {
    "duration": 69,
    "start_time": "2023-02-23T10:55:58.346Z"
   },
   {
    "duration": 14,
    "start_time": "2023-02-23T10:55:58.417Z"
   },
   {
    "duration": 9,
    "start_time": "2023-02-23T10:55:58.433Z"
   },
   {
    "duration": 56,
    "start_time": "2023-02-23T10:55:58.444Z"
   },
   {
    "duration": 21,
    "start_time": "2023-02-23T10:55:58.502Z"
   },
   {
    "duration": 21,
    "start_time": "2023-02-23T10:55:58.525Z"
   },
   {
    "duration": 23,
    "start_time": "2023-02-23T10:56:12.530Z"
   },
   {
    "duration": 29,
    "start_time": "2023-02-23T10:56:12.555Z"
   },
   {
    "duration": 16,
    "start_time": "2023-02-23T10:56:12.586Z"
   },
   {
    "duration": 14,
    "start_time": "2023-02-23T10:56:12.604Z"
   },
   {
    "duration": 25,
    "start_time": "2023-02-23T10:56:12.620Z"
   },
   {
    "duration": 15,
    "start_time": "2023-02-23T10:56:12.647Z"
   },
   {
    "duration": 43,
    "start_time": "2023-02-23T10:56:12.664Z"
   },
   {
    "duration": 28,
    "start_time": "2023-02-23T10:56:12.709Z"
   },
   {
    "duration": 13,
    "start_time": "2023-02-23T10:56:12.738Z"
   },
   {
    "duration": 11,
    "start_time": "2023-02-23T10:56:12.753Z"
   },
   {
    "duration": 76,
    "start_time": "2023-02-23T10:56:12.765Z"
   },
   {
    "duration": 45,
    "start_time": "2023-02-23T10:56:12.842Z"
   },
   {
    "duration": 49,
    "start_time": "2023-02-23T10:56:12.901Z"
   },
   {
    "duration": 25,
    "start_time": "2023-02-23T10:56:12.951Z"
   },
   {
    "duration": 40,
    "start_time": "2023-02-23T10:56:12.977Z"
   },
   {
    "duration": 24,
    "start_time": "2023-02-23T10:56:13.018Z"
   },
   {
    "duration": 7,
    "start_time": "2023-02-23T10:56:13.043Z"
   },
   {
    "duration": 10,
    "start_time": "2023-02-23T10:56:13.051Z"
   },
   {
    "duration": 8,
    "start_time": "2023-02-23T10:56:13.062Z"
   },
   {
    "duration": 32,
    "start_time": "2023-02-23T10:56:13.071Z"
   },
   {
    "duration": 9,
    "start_time": "2023-02-23T10:56:13.105Z"
   },
   {
    "duration": 6,
    "start_time": "2023-02-23T10:56:13.115Z"
   },
   {
    "duration": 326,
    "start_time": "2023-02-23T10:56:13.122Z"
   },
   {
    "duration": 309,
    "start_time": "2023-02-23T10:56:13.449Z"
   },
   {
    "duration": 378,
    "start_time": "2023-02-23T10:56:13.759Z"
   },
   {
    "duration": 339,
    "start_time": "2023-02-23T10:56:14.139Z"
   },
   {
    "duration": 5,
    "start_time": "2023-02-23T10:56:14.479Z"
   },
   {
    "duration": 13,
    "start_time": "2023-02-23T10:56:14.486Z"
   },
   {
    "duration": 7,
    "start_time": "2023-02-23T10:56:14.501Z"
   },
   {
    "duration": 36,
    "start_time": "2023-02-23T10:56:14.509Z"
   },
   {
    "duration": 5,
    "start_time": "2023-02-23T10:56:14.547Z"
   },
   {
    "duration": 16,
    "start_time": "2023-02-23T10:56:14.553Z"
   },
   {
    "duration": 7,
    "start_time": "2023-02-23T10:56:14.571Z"
   },
   {
    "duration": 21,
    "start_time": "2023-02-23T10:56:14.579Z"
   },
   {
    "duration": 8,
    "start_time": "2023-02-23T10:56:14.601Z"
   },
   {
    "duration": 10,
    "start_time": "2023-02-23T10:56:14.611Z"
   },
   {
    "duration": 5,
    "start_time": "2023-02-23T10:56:14.626Z"
   },
   {
    "duration": 47,
    "start_time": "2023-02-23T10:56:14.633Z"
   },
   {
    "duration": 19,
    "start_time": "2023-02-23T10:56:14.682Z"
   },
   {
    "duration": 30,
    "start_time": "2023-02-23T10:56:14.703Z"
   },
   {
    "duration": 21,
    "start_time": "2023-02-23T10:56:14.735Z"
   },
   {
    "duration": 44,
    "start_time": "2023-02-23T10:56:14.758Z"
   },
   {
    "duration": 95,
    "start_time": "2023-02-23T10:56:14.804Z"
   },
   {
    "duration": 155,
    "start_time": "2023-02-23T10:56:14.901Z"
   },
   {
    "duration": 16,
    "start_time": "2023-02-23T10:56:15.057Z"
   },
   {
    "duration": 29,
    "start_time": "2023-02-23T10:56:15.074Z"
   },
   {
    "duration": 26,
    "start_time": "2023-02-23T10:56:15.105Z"
   },
   {
    "duration": 5,
    "start_time": "2023-02-23T10:56:15.133Z"
   },
   {
    "duration": 33,
    "start_time": "2023-02-23T10:56:15.139Z"
   },
   {
    "duration": 11,
    "start_time": "2023-02-23T10:56:15.174Z"
   },
   {
    "duration": 10,
    "start_time": "2023-02-23T10:56:15.187Z"
   },
   {
    "duration": 16,
    "start_time": "2023-02-23T10:56:15.199Z"
   },
   {
    "duration": 5,
    "start_time": "2023-02-23T10:56:15.217Z"
   },
   {
    "duration": 7,
    "start_time": "2023-02-23T10:56:15.224Z"
   },
   {
    "duration": 6,
    "start_time": "2023-02-23T10:56:15.233Z"
   },
   {
    "duration": 11,
    "start_time": "2023-02-23T10:56:15.241Z"
   },
   {
    "duration": 13,
    "start_time": "2023-02-23T10:56:15.253Z"
   },
   {
    "duration": 6,
    "start_time": "2023-02-23T10:56:15.268Z"
   },
   {
    "duration": 7,
    "start_time": "2023-02-23T10:56:15.276Z"
   },
   {
    "duration": 4,
    "start_time": "2023-02-23T10:56:15.298Z"
   },
   {
    "duration": 6,
    "start_time": "2023-02-23T10:56:15.304Z"
   },
   {
    "duration": 3394,
    "start_time": "2023-02-23T10:56:15.312Z"
   },
   {
    "duration": 15,
    "start_time": "2023-02-23T10:56:18.708Z"
   },
   {
    "duration": 20,
    "start_time": "2023-02-23T10:56:18.725Z"
   },
   {
    "duration": 54,
    "start_time": "2023-02-23T10:56:18.746Z"
   },
   {
    "duration": 5,
    "start_time": "2023-02-23T10:56:18.802Z"
   },
   {
    "duration": 9,
    "start_time": "2023-02-23T10:56:18.809Z"
   }
  ],
  "kernelspec": {
   "display_name": "Python 3 (ipykernel)",
   "language": "python",
   "name": "python3"
  },
  "language_info": {
   "codemirror_mode": {
    "name": "ipython",
    "version": 3
   },
   "file_extension": ".py",
   "mimetype": "text/x-python",
   "name": "python",
   "nbconvert_exporter": "python",
   "pygments_lexer": "ipython3",
   "version": "3.9.12"
  },
  "toc": {
   "base_numbering": 1,
   "nav_menu": {},
   "number_sections": true,
   "sideBar": true,
   "skip_h1_title": true,
   "title_cell": "Table of Contents",
   "title_sidebar": "Contents",
   "toc_cell": false,
   "toc_position": {
    "height": "calc(100% - 180px)",
    "left": "10px",
    "top": "150px",
    "width": "411px"
   },
   "toc_section_display": true,
   "toc_window_display": true
  }
 },
 "nbformat": 4,
 "nbformat_minor": 2
}
